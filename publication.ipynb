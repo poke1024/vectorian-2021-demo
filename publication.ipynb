{
 "cells": [
  {
   "cell_type": "code",
   "execution_count": 6,
   "id": "invalid-disaster",
   "metadata": {},
   "outputs": [
    {
     "name": "stdout",
     "output_type": "stream",
     "text": [
      "Matching checksum for /Users/arbeit/Projects/vectorian-2021/vectorian/core/cpp/core.cpp --> not compiling\n"
     ]
    },
    {
     "data": {
      "text/plain": [
       "<module 'nbutils' from 'code/nbutils.py'>"
      ]
     },
     "execution_count": 6,
     "metadata": {},
     "output_type": "execute_result"
    }
   ],
   "source": [
    "from pathlib import Path\n",
    "\n",
    "import os\n",
    "import sys\n",
    "\n",
    "os.environ['VECTORIAN_CPP_IMPORT'] = \"1\"\n",
    "vectorian_path = Path(\"/Users/arbeit/Projects/vectorian-2021\")\n",
    "sys.path.append(str(vectorian_path))\n",
    "\n",
    "sys.path.append(\"code\")\n",
    "import nbutils\n",
    "\n",
    "import importlib\n",
    "importlib.reload(nbutils)"
   ]
  },
  {
   "cell_type": "markdown",
   "id": "exterior-texas",
   "metadata": {},
   "source": [
    "# Overview"
   ]
  },
  {
   "cell_type": "markdown",
   "id": "e50b7cb2-2542-4573-ba41-ba27214c8e1f",
   "metadata": {},
   "source": [
    "Let's first get a high level overview of what we are aiming to do technically. In this notebook we will experiment with four classes of embeddings (see the diagram below for a classification):\n",
    "\n",
    "* Static token embeddings: these operate on the token level such. We experiment with GloVe (Pennington et al. 2014), fastText (Mikolov et al., 2017) and Numberbatch (Speer et al, 2018). We use these three to compute token similarity and combine this with alignment algorithms (such as Waterman-Smith-Beyer) to compute document similarity. We also investigate the effect of stacking two static embeddings (fastText and Numberbatch).\n",
    "* Contextual token embeddings: these also operate on the token level, i.e. embeddings that change according to a specific token instance's context. In this notebook we experiment with using such token embeddings from a sentence bert model.\n",
    "* Document embeddings derived from specially trained models. Document embeddings represent one document via one single embedding. We use document embeddings obtained from a BERT model. More specifically, we use a Sentence-BERT model trained for the semantic textual similarity (STS) task (Reimers and Gurevych, 2019).\n",
    "* Document embeddings derived from token embeddings. We also experiment with averaging different kinds of token embeddings (static and contextual) to derive document embeddings.\n",
    "\n",
    "![Different kinds of embeddings](miscellaneous/diagram_embeddings.svg)\n",
    "\n",
    "For reasons of limited RAM and download times, we use small or compressed versions of the static embeddings we work with. For GloVe, we use the official 50-dimensional version of the 6B variant. For fastText we use a version that was compressed using the standard settings in https://github.com/avidale/compress-fasttext. For Numberbatch we use a 50-dimension version that was reduced using a standard PCA.   "
   ]
  },
  {
   "cell_type": "markdown",
   "id": "incorrect-guidance",
   "metadata": {},
   "source": [
    "# Technical Setup"
   ]
  },
  {
   "cell_type": "code",
   "execution_count": 46,
   "id": "measured-bikini",
   "metadata": {},
   "outputs": [
    {
     "data": {
      "text/html": [
       "\n",
       "    <div class=\"bk-root\">\n",
       "        <a href=\"https://bokeh.org\" target=\"_blank\" class=\"bk-logo bk-logo-small bk-logo-notebook\"></a>\n",
       "        <span id=\"4438\">Loading BokehJS ...</span>\n",
       "    </div>"
      ]
     },
     "metadata": {},
     "output_type": "display_data"
    },
    {
     "data": {
      "application/javascript": [
       "\n",
       "(function(root) {\n",
       "  function now() {\n",
       "    return new Date();\n",
       "  }\n",
       "\n",
       "  var force = true;\n",
       "\n",
       "  if (typeof root._bokeh_onload_callbacks === \"undefined\" || force === true) {\n",
       "    root._bokeh_onload_callbacks = [];\n",
       "    root._bokeh_is_loading = undefined;\n",
       "  }\n",
       "\n",
       "  var JS_MIME_TYPE = 'application/javascript';\n",
       "  var HTML_MIME_TYPE = 'text/html';\n",
       "  var EXEC_MIME_TYPE = 'application/vnd.bokehjs_exec.v0+json';\n",
       "  var CLASS_NAME = 'output_bokeh rendered_html';\n",
       "\n",
       "  /**\n",
       "   * Render data to the DOM node\n",
       "   */\n",
       "  function render(props, node) {\n",
       "    var script = document.createElement(\"script\");\n",
       "    node.appendChild(script);\n",
       "  }\n",
       "\n",
       "  /**\n",
       "   * Handle when an output is cleared or removed\n",
       "   */\n",
       "  function handleClearOutput(event, handle) {\n",
       "    var cell = handle.cell;\n",
       "\n",
       "    var id = cell.output_area._bokeh_element_id;\n",
       "    var server_id = cell.output_area._bokeh_server_id;\n",
       "    // Clean up Bokeh references\n",
       "    if (id != null && id in Bokeh.index) {\n",
       "      Bokeh.index[id].model.document.clear();\n",
       "      delete Bokeh.index[id];\n",
       "    }\n",
       "\n",
       "    if (server_id !== undefined) {\n",
       "      // Clean up Bokeh references\n",
       "      var cmd = \"from bokeh.io.state import curstate; print(curstate().uuid_to_server['\" + server_id + \"'].get_sessions()[0].document.roots[0]._id)\";\n",
       "      cell.notebook.kernel.execute(cmd, {\n",
       "        iopub: {\n",
       "          output: function(msg) {\n",
       "            var id = msg.content.text.trim();\n",
       "            if (id in Bokeh.index) {\n",
       "              Bokeh.index[id].model.document.clear();\n",
       "              delete Bokeh.index[id];\n",
       "            }\n",
       "          }\n",
       "        }\n",
       "      });\n",
       "      // Destroy server and session\n",
       "      var cmd = \"import bokeh.io.notebook as ion; ion.destroy_server('\" + server_id + \"')\";\n",
       "      cell.notebook.kernel.execute(cmd);\n",
       "    }\n",
       "  }\n",
       "\n",
       "  /**\n",
       "   * Handle when a new output is added\n",
       "   */\n",
       "  function handleAddOutput(event, handle) {\n",
       "    var output_area = handle.output_area;\n",
       "    var output = handle.output;\n",
       "\n",
       "    // limit handleAddOutput to display_data with EXEC_MIME_TYPE content only\n",
       "    if ((output.output_type != \"display_data\") || (!Object.prototype.hasOwnProperty.call(output.data, EXEC_MIME_TYPE))) {\n",
       "      return\n",
       "    }\n",
       "\n",
       "    var toinsert = output_area.element.find(\".\" + CLASS_NAME.split(' ')[0]);\n",
       "\n",
       "    if (output.metadata[EXEC_MIME_TYPE][\"id\"] !== undefined) {\n",
       "      toinsert[toinsert.length - 1].firstChild.textContent = output.data[JS_MIME_TYPE];\n",
       "      // store reference to embed id on output_area\n",
       "      output_area._bokeh_element_id = output.metadata[EXEC_MIME_TYPE][\"id\"];\n",
       "    }\n",
       "    if (output.metadata[EXEC_MIME_TYPE][\"server_id\"] !== undefined) {\n",
       "      var bk_div = document.createElement(\"div\");\n",
       "      bk_div.innerHTML = output.data[HTML_MIME_TYPE];\n",
       "      var script_attrs = bk_div.children[0].attributes;\n",
       "      for (var i = 0; i < script_attrs.length; i++) {\n",
       "        toinsert[toinsert.length - 1].firstChild.setAttribute(script_attrs[i].name, script_attrs[i].value);\n",
       "        toinsert[toinsert.length - 1].firstChild.textContent = bk_div.children[0].textContent\n",
       "      }\n",
       "      // store reference to server id on output_area\n",
       "      output_area._bokeh_server_id = output.metadata[EXEC_MIME_TYPE][\"server_id\"];\n",
       "    }\n",
       "  }\n",
       "\n",
       "  function register_renderer(events, OutputArea) {\n",
       "\n",
       "    function append_mime(data, metadata, element) {\n",
       "      // create a DOM node to render to\n",
       "      var toinsert = this.create_output_subarea(\n",
       "        metadata,\n",
       "        CLASS_NAME,\n",
       "        EXEC_MIME_TYPE\n",
       "      );\n",
       "      this.keyboard_manager.register_events(toinsert);\n",
       "      // Render to node\n",
       "      var props = {data: data, metadata: metadata[EXEC_MIME_TYPE]};\n",
       "      render(props, toinsert[toinsert.length - 1]);\n",
       "      element.append(toinsert);\n",
       "      return toinsert\n",
       "    }\n",
       "\n",
       "    /* Handle when an output is cleared or removed */\n",
       "    events.on('clear_output.CodeCell', handleClearOutput);\n",
       "    events.on('delete.Cell', handleClearOutput);\n",
       "\n",
       "    /* Handle when a new output is added */\n",
       "    events.on('output_added.OutputArea', handleAddOutput);\n",
       "\n",
       "    /**\n",
       "     * Register the mime type and append_mime function with output_area\n",
       "     */\n",
       "    OutputArea.prototype.register_mime_type(EXEC_MIME_TYPE, append_mime, {\n",
       "      /* Is output safe? */\n",
       "      safe: true,\n",
       "      /* Index of renderer in `output_area.display_order` */\n",
       "      index: 0\n",
       "    });\n",
       "  }\n",
       "\n",
       "  // register the mime type if in Jupyter Notebook environment and previously unregistered\n",
       "  if (root.Jupyter !== undefined) {\n",
       "    var events = require('base/js/events');\n",
       "    var OutputArea = require('notebook/js/outputarea').OutputArea;\n",
       "\n",
       "    if (OutputArea.prototype.mime_types().indexOf(EXEC_MIME_TYPE) == -1) {\n",
       "      register_renderer(events, OutputArea);\n",
       "    }\n",
       "  }\n",
       "\n",
       "  \n",
       "  if (typeof (root._bokeh_timeout) === \"undefined\" || force === true) {\n",
       "    root._bokeh_timeout = Date.now() + 5000;\n",
       "    root._bokeh_failed_load = false;\n",
       "  }\n",
       "\n",
       "  var NB_LOAD_WARNING = {'data': {'text/html':\n",
       "     \"<div style='background-color: #fdd'>\\n\"+\n",
       "     \"<p>\\n\"+\n",
       "     \"BokehJS does not appear to have successfully loaded. If loading BokehJS from CDN, this \\n\"+\n",
       "     \"may be due to a slow or bad network connection. Possible fixes:\\n\"+\n",
       "     \"</p>\\n\"+\n",
       "     \"<ul>\\n\"+\n",
       "     \"<li>re-rerun `output_notebook()` to attempt to load from CDN again, or</li>\\n\"+\n",
       "     \"<li>use INLINE resources instead, as so:</li>\\n\"+\n",
       "     \"</ul>\\n\"+\n",
       "     \"<code>\\n\"+\n",
       "     \"from bokeh.resources import INLINE\\n\"+\n",
       "     \"output_notebook(resources=INLINE)\\n\"+\n",
       "     \"</code>\\n\"+\n",
       "     \"</div>\"}};\n",
       "\n",
       "  function display_loaded() {\n",
       "    var el = document.getElementById(\"4438\");\n",
       "    if (el != null) {\n",
       "      el.textContent = \"BokehJS is loading...\";\n",
       "    }\n",
       "    if (root.Bokeh !== undefined) {\n",
       "      if (el != null) {\n",
       "        el.textContent = \"BokehJS \" + root.Bokeh.version + \" successfully loaded.\";\n",
       "      }\n",
       "    } else if (Date.now() < root._bokeh_timeout) {\n",
       "      setTimeout(display_loaded, 100)\n",
       "    }\n",
       "  }\n",
       "\n",
       "\n",
       "  function run_callbacks() {\n",
       "    try {\n",
       "      root._bokeh_onload_callbacks.forEach(function(callback) {\n",
       "        if (callback != null)\n",
       "          callback();\n",
       "      });\n",
       "    } finally {\n",
       "      delete root._bokeh_onload_callbacks\n",
       "    }\n",
       "    console.debug(\"Bokeh: all callbacks have finished\");\n",
       "  }\n",
       "\n",
       "  function load_libs(css_urls, js_urls, callback) {\n",
       "    if (css_urls == null) css_urls = [];\n",
       "    if (js_urls == null) js_urls = [];\n",
       "\n",
       "    root._bokeh_onload_callbacks.push(callback);\n",
       "    if (root._bokeh_is_loading > 0) {\n",
       "      console.debug(\"Bokeh: BokehJS is being loaded, scheduling callback at\", now());\n",
       "      return null;\n",
       "    }\n",
       "    if (js_urls == null || js_urls.length === 0) {\n",
       "      run_callbacks();\n",
       "      return null;\n",
       "    }\n",
       "    console.debug(\"Bokeh: BokehJS not loaded, scheduling load and callback at\", now());\n",
       "    root._bokeh_is_loading = css_urls.length + js_urls.length;\n",
       "\n",
       "    function on_load() {\n",
       "      root._bokeh_is_loading--;\n",
       "      if (root._bokeh_is_loading === 0) {\n",
       "        console.debug(\"Bokeh: all BokehJS libraries/stylesheets loaded\");\n",
       "        run_callbacks()\n",
       "      }\n",
       "    }\n",
       "\n",
       "    function on_error(url) {\n",
       "      console.error(\"failed to load \" + url);\n",
       "    }\n",
       "\n",
       "    for (let i = 0; i < css_urls.length; i++) {\n",
       "      const url = css_urls[i];\n",
       "      const element = document.createElement(\"link\");\n",
       "      element.onload = on_load;\n",
       "      element.onerror = on_error.bind(null, url);\n",
       "      element.rel = \"stylesheet\";\n",
       "      element.type = \"text/css\";\n",
       "      element.href = url;\n",
       "      console.debug(\"Bokeh: injecting link tag for BokehJS stylesheet: \", url);\n",
       "      document.body.appendChild(element);\n",
       "    }\n",
       "\n",
       "    const hashes = {\"https://cdn.bokeh.org/bokeh/release/bokeh-2.3.0.min.js\": \"HjagQp6T0/7bxYTAXbLotF1MLAGWmhkY5siA1Gc/pcEgvgRPtMsRn0gQtMwGKiw1\", \"https://cdn.bokeh.org/bokeh/release/bokeh-widgets-2.3.0.min.js\": \"ZEPPTjL+mdyqgIq+/pl9KTwzji8Kow2NnI3zWY8+sFinWP/SYJ80BnfeJsa45iYj\", \"https://cdn.bokeh.org/bokeh/release/bokeh-tables-2.3.0.min.js\": \"exLqv2ACDRIaV7ZK1iL8aGzGYQvKVuT3U2CT7FsQREBxRah6JrkVCoFy0koY1YqV\"};\n",
       "\n",
       "    for (let i = 0; i < js_urls.length; i++) {\n",
       "      const url = js_urls[i];\n",
       "      const element = document.createElement('script');\n",
       "      element.onload = on_load;\n",
       "      element.onerror = on_error.bind(null, url);\n",
       "      element.async = false;\n",
       "      element.src = url;\n",
       "      if (url in hashes) {\n",
       "        element.crossOrigin = \"anonymous\";\n",
       "        element.integrity = \"sha384-\" + hashes[url];\n",
       "      }\n",
       "      console.debug(\"Bokeh: injecting script tag for BokehJS library: \", url);\n",
       "      document.head.appendChild(element);\n",
       "    }\n",
       "  };\n",
       "\n",
       "  function inject_raw_css(css) {\n",
       "    const element = document.createElement(\"style\");\n",
       "    element.appendChild(document.createTextNode(css));\n",
       "    document.body.appendChild(element);\n",
       "  }\n",
       "\n",
       "  \n",
       "  var js_urls = [\"https://cdn.bokeh.org/bokeh/release/bokeh-2.3.0.min.js\", \"https://cdn.bokeh.org/bokeh/release/bokeh-widgets-2.3.0.min.js\", \"https://cdn.bokeh.org/bokeh/release/bokeh-tables-2.3.0.min.js\"];\n",
       "  var css_urls = [];\n",
       "  \n",
       "\n",
       "  var inline_js = [\n",
       "    function(Bokeh) {\n",
       "      Bokeh.set_log_level(\"info\");\n",
       "    },\n",
       "    function(Bokeh) {\n",
       "    \n",
       "    \n",
       "    }\n",
       "  ];\n",
       "\n",
       "  function run_inline_js() {\n",
       "    \n",
       "    if (root.Bokeh !== undefined || force === true) {\n",
       "      \n",
       "    for (var i = 0; i < inline_js.length; i++) {\n",
       "      inline_js[i].call(root, root.Bokeh);\n",
       "    }\n",
       "    if (force === true) {\n",
       "        display_loaded();\n",
       "      }} else if (Date.now() < root._bokeh_timeout) {\n",
       "      setTimeout(run_inline_js, 100);\n",
       "    } else if (!root._bokeh_failed_load) {\n",
       "      console.log(\"Bokeh: BokehJS failed to load within specified timeout.\");\n",
       "      root._bokeh_failed_load = true;\n",
       "    } else if (force !== true) {\n",
       "      var cell = $(document.getElementById(\"4438\")).parents('.cell').data().cell;\n",
       "      cell.output_area.append_execute_result(NB_LOAD_WARNING)\n",
       "    }\n",
       "\n",
       "  }\n",
       "\n",
       "  if (root._bokeh_is_loading === 0) {\n",
       "    console.debug(\"Bokeh: BokehJS loaded, going straight to plotting\");\n",
       "    run_inline_js();\n",
       "  } else {\n",
       "    load_libs(css_urls, js_urls, function() {\n",
       "      console.debug(\"Bokeh: BokehJS plotting callback run at\", now());\n",
       "      run_inline_js();\n",
       "    });\n",
       "  }\n",
       "}(window));"
      ],
      "application/vnd.bokehjs_load.v0+json": "\n(function(root) {\n  function now() {\n    return new Date();\n  }\n\n  var force = true;\n\n  if (typeof root._bokeh_onload_callbacks === \"undefined\" || force === true) {\n    root._bokeh_onload_callbacks = [];\n    root._bokeh_is_loading = undefined;\n  }\n\n  \n\n  \n  if (typeof (root._bokeh_timeout) === \"undefined\" || force === true) {\n    root._bokeh_timeout = Date.now() + 5000;\n    root._bokeh_failed_load = false;\n  }\n\n  var NB_LOAD_WARNING = {'data': {'text/html':\n     \"<div style='background-color: #fdd'>\\n\"+\n     \"<p>\\n\"+\n     \"BokehJS does not appear to have successfully loaded. If loading BokehJS from CDN, this \\n\"+\n     \"may be due to a slow or bad network connection. Possible fixes:\\n\"+\n     \"</p>\\n\"+\n     \"<ul>\\n\"+\n     \"<li>re-rerun `output_notebook()` to attempt to load from CDN again, or</li>\\n\"+\n     \"<li>use INLINE resources instead, as so:</li>\\n\"+\n     \"</ul>\\n\"+\n     \"<code>\\n\"+\n     \"from bokeh.resources import INLINE\\n\"+\n     \"output_notebook(resources=INLINE)\\n\"+\n     \"</code>\\n\"+\n     \"</div>\"}};\n\n  function display_loaded() {\n    var el = document.getElementById(\"4438\");\n    if (el != null) {\n      el.textContent = \"BokehJS is loading...\";\n    }\n    if (root.Bokeh !== undefined) {\n      if (el != null) {\n        el.textContent = \"BokehJS \" + root.Bokeh.version + \" successfully loaded.\";\n      }\n    } else if (Date.now() < root._bokeh_timeout) {\n      setTimeout(display_loaded, 100)\n    }\n  }\n\n\n  function run_callbacks() {\n    try {\n      root._bokeh_onload_callbacks.forEach(function(callback) {\n        if (callback != null)\n          callback();\n      });\n    } finally {\n      delete root._bokeh_onload_callbacks\n    }\n    console.debug(\"Bokeh: all callbacks have finished\");\n  }\n\n  function load_libs(css_urls, js_urls, callback) {\n    if (css_urls == null) css_urls = [];\n    if (js_urls == null) js_urls = [];\n\n    root._bokeh_onload_callbacks.push(callback);\n    if (root._bokeh_is_loading > 0) {\n      console.debug(\"Bokeh: BokehJS is being loaded, scheduling callback at\", now());\n      return null;\n    }\n    if (js_urls == null || js_urls.length === 0) {\n      run_callbacks();\n      return null;\n    }\n    console.debug(\"Bokeh: BokehJS not loaded, scheduling load and callback at\", now());\n    root._bokeh_is_loading = css_urls.length + js_urls.length;\n\n    function on_load() {\n      root._bokeh_is_loading--;\n      if (root._bokeh_is_loading === 0) {\n        console.debug(\"Bokeh: all BokehJS libraries/stylesheets loaded\");\n        run_callbacks()\n      }\n    }\n\n    function on_error(url) {\n      console.error(\"failed to load \" + url);\n    }\n\n    for (let i = 0; i < css_urls.length; i++) {\n      const url = css_urls[i];\n      const element = document.createElement(\"link\");\n      element.onload = on_load;\n      element.onerror = on_error.bind(null, url);\n      element.rel = \"stylesheet\";\n      element.type = \"text/css\";\n      element.href = url;\n      console.debug(\"Bokeh: injecting link tag for BokehJS stylesheet: \", url);\n      document.body.appendChild(element);\n    }\n\n    const hashes = {\"https://cdn.bokeh.org/bokeh/release/bokeh-2.3.0.min.js\": \"HjagQp6T0/7bxYTAXbLotF1MLAGWmhkY5siA1Gc/pcEgvgRPtMsRn0gQtMwGKiw1\", \"https://cdn.bokeh.org/bokeh/release/bokeh-widgets-2.3.0.min.js\": \"ZEPPTjL+mdyqgIq+/pl9KTwzji8Kow2NnI3zWY8+sFinWP/SYJ80BnfeJsa45iYj\", \"https://cdn.bokeh.org/bokeh/release/bokeh-tables-2.3.0.min.js\": \"exLqv2ACDRIaV7ZK1iL8aGzGYQvKVuT3U2CT7FsQREBxRah6JrkVCoFy0koY1YqV\"};\n\n    for (let i = 0; i < js_urls.length; i++) {\n      const url = js_urls[i];\n      const element = document.createElement('script');\n      element.onload = on_load;\n      element.onerror = on_error.bind(null, url);\n      element.async = false;\n      element.src = url;\n      if (url in hashes) {\n        element.crossOrigin = \"anonymous\";\n        element.integrity = \"sha384-\" + hashes[url];\n      }\n      console.debug(\"Bokeh: injecting script tag for BokehJS library: \", url);\n      document.head.appendChild(element);\n    }\n  };\n\n  function inject_raw_css(css) {\n    const element = document.createElement(\"style\");\n    element.appendChild(document.createTextNode(css));\n    document.body.appendChild(element);\n  }\n\n  \n  var js_urls = [\"https://cdn.bokeh.org/bokeh/release/bokeh-2.3.0.min.js\", \"https://cdn.bokeh.org/bokeh/release/bokeh-widgets-2.3.0.min.js\", \"https://cdn.bokeh.org/bokeh/release/bokeh-tables-2.3.0.min.js\"];\n  var css_urls = [];\n  \n\n  var inline_js = [\n    function(Bokeh) {\n      Bokeh.set_log_level(\"info\");\n    },\n    function(Bokeh) {\n    \n    \n    }\n  ];\n\n  function run_inline_js() {\n    \n    if (root.Bokeh !== undefined || force === true) {\n      \n    for (var i = 0; i < inline_js.length; i++) {\n      inline_js[i].call(root, root.Bokeh);\n    }\n    if (force === true) {\n        display_loaded();\n      }} else if (Date.now() < root._bokeh_timeout) {\n      setTimeout(run_inline_js, 100);\n    } else if (!root._bokeh_failed_load) {\n      console.log(\"Bokeh: BokehJS failed to load within specified timeout.\");\n      root._bokeh_failed_load = true;\n    } else if (force !== true) {\n      var cell = $(document.getElementById(\"4438\")).parents('.cell').data().cell;\n      cell.output_area.append_execute_result(NB_LOAD_WARNING)\n    }\n\n  }\n\n  if (root._bokeh_is_loading === 0) {\n    console.debug(\"Bokeh: BokehJS loaded, going straight to plotting\");\n    run_inline_js();\n  } else {\n    load_libs(css_urls, js_urls, function() {\n      console.debug(\"Bokeh: BokehJS plotting callback run at\", now());\n      run_inline_js();\n    });\n  }\n}(window));"
     },
     "metadata": {},
     "output_type": "display_data"
    }
   ],
   "source": [
    "from bokeh.io import output_notebook\n",
    "output_notebook()"
   ]
  },
  {
   "cell_type": "markdown",
   "id": "beneficial-capital",
   "metadata": {},
   "source": [
    "# Choosing Static Word Embeddings"
   ]
  },
  {
   "cell_type": "markdown",
   "id": "extreme-professional",
   "metadata": {},
   "source": [
    "First we need:\n",
    "    \n",
    "    * a set of documents of search over (i.e. our corpus)\n",
    "    * a set of word embeddings to employ for these searches\n",
    "    \n",
    "For the latter, we turn to Vectorian's embedding zoo, which offers a number of pretrained word embeddings."
   ]
  },
  {
   "cell_type": "code",
   "execution_count": 8,
   "id": "blond-rogers",
   "metadata": {},
   "outputs": [],
   "source": [
    "from vectorian.embeddings import Zoo\n",
    "\n",
    "#Zoo.list()"
   ]
  },
  {
   "cell_type": "markdown",
   "id": "early-burden",
   "metadata": {},
   "source": [
    "Let's load the static embeddings as described above from Vectorian's model zoo."
   ]
  },
  {
   "cell_type": "code",
   "execution_count": 9,
   "id": "alive-steel",
   "metadata": {},
   "outputs": [],
   "source": [
    "from vectorian.embeddings import StackedEmbedding\n",
    "\n",
    "emb_glove = Zoo.load('glove-6B-50')\n",
    "emb_numberbatch = Zoo.load('numberbatch-19.08-en-50')\n",
    "emb_fasttext = Zoo.load('fasttext-en-mini')\n",
    "emb_fasttext_numberbatch = StackedEmbedding([emb_fasttext, emb_numberbatch])"
   ]
  },
  {
   "cell_type": "markdown",
   "id": "01e0a78e-030c-49ea-b49e-718fefebeeb6",
   "metadata": {},
   "source": [
    "We also instantiate an NLP parser based on sentence bert and a shim to use this model's token embeddings in the Vectorian."
   ]
  },
  {
   "cell_type": "code",
   "execution_count": 10,
   "id": "7d7fe0d8-8f4d-4af8-9d19-4a7e3c7280c1",
   "metadata": {},
   "outputs": [],
   "source": [
    "import spacy_sentence_bert\n",
    "nlp = spacy_sentence_bert.load_model('en_paraphrase_distilroberta_base_v1')\n",
    "\n",
    "from vectorian.embeddings import SentenceBertEmbedding\n",
    "emb_sbert = SentenceBertEmbedding(nlp)"
   ]
  },
  {
   "cell_type": "markdown",
   "id": "assigned-length",
   "metadata": {},
   "source": [
    "# Loading Documents"
   ]
  },
  {
   "cell_type": "markdown",
   "id": "pursuant-apache",
   "metadata": {},
   "source": [
    "First load our gold standard that contains our queries."
   ]
  },
  {
   "cell_type": "code",
   "execution_count": 11,
   "id": "acoustic-passage",
   "metadata": {},
   "outputs": [],
   "source": [
    "import json\n",
    "\n",
    "with open(\"data/raw_data/gold.json\", \"r\") as f:\n",
    "    gold = nbutils.Gold(json.loads(f.read()))"
   ]
  },
  {
   "cell_type": "code",
   "execution_count": 12,
   "id": "appreciated-circular",
   "metadata": {},
   "outputs": [
    {
     "data": {
      "text/plain": [
       "['to be or not to be',\n",
       " 'sea of troubles',\n",
       " 'pampered jades of Asia',\n",
       " 'The rest is silence.',\n",
       " 'an old man is twice a child']"
      ]
     },
     "execution_count": 12,
     "metadata": {},
     "output_type": "execute_result"
    }
   ],
   "source": [
    "gold.phrases[:5]"
   ]
  },
  {
   "cell_type": "code",
   "execution_count": 13,
   "id": "described-spending",
   "metadata": {},
   "outputs": [
    {
     "data": {
      "text/plain": [
       "[{'id': 'ww_594e076e93ed4ccf',\n",
       "  'context': 'Perchance I have not told you all that I think; for not to be when you have been, I think is the greatest misery that may be.',\n",
       "  'quote': 'not to be when you have been, ',\n",
       "  'work': 'Those Five Questions (Tusculanae) (1561)',\n",
       "  'author': 'Marcus Tullius Cicero',\n",
       "  'lexia': 'to be or not to be',\n",
       "  'formal_class': 'Snowclone',\n",
       "  'complexity': 3}]"
      ]
     },
     "execution_count": 13,
     "metadata": {},
     "output_type": "execute_result"
    }
   ],
   "source": [
    "gold.matches('to be or not to be')[:1]"
   ]
  },
  {
   "cell_type": "markdown",
   "id": "extensive-pasta",
   "metadata": {},
   "source": [
    "We are now ready to build a Vectorian session that contains our documents and embeddings. We use preprocessed corpus data. For details, how this was achieved, see `code/prepare_corpus.ipynb`."
   ]
  },
  {
   "cell_type": "code",
   "execution_count": 14,
   "id": "graduate-painting",
   "metadata": {},
   "outputs": [
    {
     "name": "stderr",
     "output_type": "stream",
     "text": [
      "Opening glove-6B-50: 100%|██████████\n",
      "Opening numberbatch-19.08-en-50: 100%|██████████\n",
      "1587it [00:00, 23735.76it/s]\n",
      "1587it [00:00, 20531.71it/s]\n"
     ]
    }
   ],
   "source": [
    "from vectorian.session import LabSession\n",
    "from vectorian.corpus import Corpus\n",
    "\n",
    "session = LabSession(\n",
    "    Corpus.load(\"data/processed_data/corpus\"),\n",
    "    embeddings=[\n",
    "        emb_sbert,\n",
    "        emb_glove,\n",
    "        emb_numberbatch,\n",
    "        emb_fasttext,\n",
    "        emb_fasttext_numberbatch],\n",
    "    normalizers=\"default\")"
   ]
  },
  {
   "cell_type": "markdown",
   "id": "informed-canal",
   "metadata": {},
   "source": [
    "Let's take a look at the documents we imported and that now live inside `session`."
   ]
  },
  {
   "cell_type": "code",
   "execution_count": 15,
   "id": "stylish-secondary",
   "metadata": {},
   "outputs": [
    {
     "data": {
      "application/vnd.jupyter.widget-view+json": {
       "model_id": "a1b1a09baccf42658757a9378948dc49",
       "version_major": 2,
       "version_minor": 0
      },
      "text/plain": [
       "interactive(children=(IntSlider(value=1, description='doc_index', min=1), Output()), _dom_classes=('widget-int…"
      ]
     },
     "metadata": {},
     "output_type": "display_data"
    }
   ],
   "source": [
    "from ipywidgets import interact\n",
    "from IPython.display import display\n",
    "import ipywidgets as widgets\n",
    "\n",
    "@interact(\n",
    "    doc_index=widgets.IntSlider(min=1, max=len(session.documents)))\n",
    "def browse_docs(doc_index):\n",
    "    doc = session.documents[doc_index - 1]\n",
    "    display(widgets.HTML(nbutils.DocFormatter(gold)(doc)))"
   ]
  },
  {
   "cell_type": "markdown",
   "id": "olympic-thursday",
   "metadata": {},
   "source": [
    "# Comparing Sentence Embeddings"
   ]
  },
  {
   "cell_type": "markdown",
   "id": "seven-aggregate",
   "metadata": {},
   "source": [
    "In a first step, let's look at representing each document with one embedding in order to gather an understanding how different embedding strategies relate to the nearness of documents. We will later turn to individual token embeddings."
   ]
  },
  {
   "cell_type": "markdown",
   "id": "average-controversy",
   "metadata": {},
   "source": [
    "We first prepare additional sentence embeddings using SBERT that we will show in our first big visualization."
   ]
  },
  {
   "cell_type": "code",
   "execution_count": 11,
   "id": "planned-western",
   "metadata": {},
   "outputs": [],
   "source": [
    "sbert_encoder = None"
   ]
  },
  {
   "cell_type": "code",
   "execution_count": null,
   "id": "2cc9599d-402f-43dd-b234-b7e92ab16e4d",
   "metadata": {},
   "outputs": [],
   "source": []
  },
  {
   "cell_type": "code",
   "execution_count": 50,
   "id": "gentle-reservoir",
   "metadata": {},
   "outputs": [],
   "source": [
    "from vectorian.embeddings import CachedPartitionEncoder, SpanEncoder\n",
    "\n",
    "sbert_encoder = CachedPartitionEncoder(SpanEncoder(\n",
    "    lambda texts: [nlp(t).vector for t in texts]))\n",
    "\n",
    "sbert_encoder.try_load(\"data/processed_data/doc_embeddings\")\n",
    "sbert_encoder.cache(session.documents, session.partition(\"document\"))\n",
    "sbert_encoder.save(\"data/processed_data/doc_embeddings\")\n",
    "\n",
    "sbert_encoder_name = nlp.meta[\"name\"]"
   ]
  },
  {
   "cell_type": "markdown",
   "id": "gorgeous-competition",
   "metadata": {},
   "source": [
    "We now show SBERT and a number of sentence embeddings we derive from word embeddings by simply averaging over the vectors (according to Mikolov et al., 2013).\n",
    "\n",
    "In the TSNE visualization below, dots are documents and the colors are the query that yields that document in our gold standard. By hovering over dots with the mouse you get details on the document and query the dot represents. Nearby dots of the same color indicate that the embedding tends to cluster documents similar to our gold standard.\n",
    "\n",
    "You can also add an intruder text by entering a text into the text field and pressing RETURN (to refresh the plot). This will move the larger crossed circle to where the currently selected embeddings thinks that the given text should be positioned in terms of the other documents.\n",
    "\n",
    "In some cases, we can clearly make out clusters visually. For example, in the fastText embedding the blue \"to be or not be\" documents are clustered nicely. SBERT shows a green cluster of \"an old man is twice a child\". numberbatch reveals a brown cluster of \"llo, ho, ho, my lord\".\n",
    "\n",
    "With spaCy transformers, we see some complex but noisy clustering. One example query: \"born naturally\".\n",
    "\n",
    "Finally you can switch between different embeddings using the radio buttons. You can also enable \"free_text\" and enter custom queries that are not in our gold corpus."
   ]
  },
  {
   "cell_type": "code",
   "execution_count": 37,
   "id": "ambient-forum",
   "metadata": {},
   "outputs": [
    {
     "data": {
      "application/vnd.jupyter.widget-view+json": {
       "model_id": "b0580ec4986e45e6a0c38a44c2edb718",
       "version_major": 2,
       "version_minor": 0
      },
      "text/plain": [
       "interactive(children=(Checkbox(value=False, description='free_text'), Output()), _dom_classes=('widget-interac…"
      ]
     },
     "metadata": {},
     "output_type": "display_data"
    }
   ],
   "source": [
    "from ipywidgets import interact\n",
    "import ipywidgets as widgets\n",
    "\n",
    "plotter = nbutils.EmbeddingPlotter(session, nlp, gold)\n",
    "plotter.encoders[sbert_encoder_name] = sbert_encoder\n",
    "\n",
    "def mk_text_widget(gold, free):\n",
    "    if not free:\n",
    "        return widgets.Dropdown(options=gold.phrases)\n",
    "    else:\n",
    "        return widgets.Text(\"horse\", continuous_update=False)\n",
    "    \n",
    "@interact(free_text=widgets.Checkbox())\n",
    "def plot_docs(free_text):\n",
    "    @interact(\n",
    "        query=mk_text_widget(gold, free_text),\n",
    "        embedding=widgets.RadioButtons(\n",
    "            options=sorted(plotter.encoders.keys()),\n",
    "            layout={'width': 'max-content'}),\n",
    "        show_legend=widgets.Checkbox())\n",
    "    def inner(query, embedding, show_legend):\n",
    "        plotter.plot(embedding, query, show_legend)\n",
    "    return inner"
   ]
  },
  {
   "cell_type": "code",
   "execution_count": null,
   "id": "broadband-history",
   "metadata": {},
   "outputs": [],
   "source": []
  },
  {
   "cell_type": "markdown",
   "id": "interracial-reality",
   "metadata": {},
   "source": [
    "Now let's run an actual search using Vectorian."
   ]
  },
  {
   "cell_type": "code",
   "execution_count": 40,
   "id": "smaller-worse",
   "metadata": {},
   "outputs": [
    {
     "data": {
      "application/vnd.jupyter.widget-view+json": {
       "model_id": "4411f1429c4f4ecfbf1bad2050c9ae84",
       "version_major": 2,
       "version_minor": 0
      },
      "text/plain": [
       "interactive(children=(Checkbox(value=False, description='free_text'), Output()), _dom_classes=('widget-interac…"
      ]
     },
     "metadata": {},
     "output_type": "display_data"
    }
   ],
   "source": [
    "from vectorian.metrics import PartitionEmbeddingSimilarity, CosineSimilarity\n",
    "\n",
    "@interact(free_text=widgets.Checkbox())\n",
    "def plot_docs(free_text):\n",
    "    @interact(\n",
    "        query=mk_text_widget(gold, free_text),\n",
    "        embedding=widgets.RadioButtons(\n",
    "            options=sorted(plotter.encoders.keys()), layout={'width': 'max-content'}))\n",
    "    def inner(query, embedding):\n",
    "        sent_sim = PartitionEmbeddingSimilarity(\n",
    "            plotter.encoders[embedding],\n",
    "            CosineSimilarity())\n",
    "        index = session.partition(\"document\").index(sent_sim, nlp)\n",
    "        return index.find(query, n=3)"
   ]
  },
  {
   "cell_type": "markdown",
   "id": "regional-supply",
   "metadata": {},
   "source": [
    "# Exploring Word Embeddings"
   ]
  },
  {
   "cell_type": "markdown",
   "id": "becoming-disability",
   "metadata": {},
   "source": [
    "We now turn to single word embeddings."
   ]
  },
  {
   "cell_type": "code",
   "execution_count": 42,
   "id": "comparative-calendar",
   "metadata": {},
   "outputs": [
    {
     "data": {
      "text/plain": [
       "memmap([-7.6663e-01,  6.9023e-01,  7.5462e-02,  1.1688e-01, -7.9722e-01,\n",
       "        -1.9606e-01, -7.7409e-01,  1.7351e-01,  2.6248e-01,  5.5295e-01,\n",
       "        -2.9190e-01, -2.4505e-01,  5.9885e-01,  1.2445e+00,  2.6401e-01,\n",
       "         2.0211e-01,  4.2139e-02,  5.1844e-01, -8.1704e-01, -1.0801e+00,\n",
       "         2.2864e-01,  9.1212e-02,  1.5638e+00,  7.5056e-01, -6.1206e-02,\n",
       "        -6.9001e-01, -5.3558e-01,  1.1311e+00,  1.3871e+00,  3.6151e-01,\n",
       "         2.8475e+00,  1.0733e-01, -1.7073e-02,  4.5358e-01, -7.1374e-03,\n",
       "         1.1177e-01, -1.5955e-01,  3.0205e-01,  5.4222e-01, -5.4103e-01,\n",
       "         2.3276e-01,  2.1756e-01, -4.1444e-02,  1.7056e-03,  7.6265e-01,\n",
       "         6.6241e-01, -4.5484e-02, -8.1479e-01,  4.6763e-02,  3.1134e-01],\n",
       "       dtype=float32)"
      ]
     },
     "execution_count": 42,
     "metadata": {},
     "output_type": "execute_result"
    }
   ],
   "source": [
    "session.word_vec(emb_glove, \"hot\")"
   ]
  },
  {
   "cell_type": "code",
   "execution_count": 43,
   "id": "quiet-venue",
   "metadata": {},
   "outputs": [
    {
     "data": {
      "text/plain": [
       "0.70502234"
      ]
     },
     "execution_count": 43,
     "metadata": {},
     "output_type": "execute_result"
    }
   ],
   "source": [
    "from vectorian.metrics import TokenSimilarity, CosineSimilarity\n",
    "\n",
    "token_sim = TokenSimilarity(\n",
    "    emb_numberbatch,\n",
    "    CosineSimilarity()\n",
    ")\n",
    "\n",
    "session.similarity(token_sim, \"hot\", \"cold\")"
   ]
  },
  {
   "cell_type": "code",
   "execution_count": 44,
   "id": "domestic-shower",
   "metadata": {},
   "outputs": [
    {
     "data": {
      "text/plain": [
       "0.8010528"
      ]
     },
     "execution_count": 44,
     "metadata": {},
     "output_type": "execute_result"
    }
   ],
   "source": [
    "token_sim = TokenSimilarity(\n",
    "    emb_glove,\n",
    "    CosineSimilarity())\n",
    "\n",
    "session.similarity(token_sim, \"hot\", \"cold\")"
   ]
  },
  {
   "cell_type": "markdown",
   "id": "romantic-daughter",
   "metadata": {},
   "source": [
    "The following interactive board allows you to search for a custom token inside a document. You can choose different documents by changing `doc_index`. The plot gives you the similarity of the entered token with the tokens in the chosen document under the selected embedding.\n",
    "\n",
    "Note that out-of-vocabulary words like \"fasterer\" will produce zero similarities under standard key-value embeddings, whereas fastText is still able to produce a vector thanks to subword information."
   ]
  },
  {
   "cell_type": "code",
   "execution_count": 23,
   "id": "colored-participation",
   "metadata": {},
   "outputs": [
    {
     "data": {
      "application/vnd.jupyter.widget-view+json": {
       "model_id": "fbdee83d20b440c3bd711f3adccef6d2",
       "version_major": 2,
       "version_minor": 0
      },
      "text/plain": [
       "interactive(children=(Text(value='high', description='token'), IntSlider(value=1, description='doc_index', min…"
      ]
     },
     "metadata": {},
     "output_type": "display_data"
    }
   ],
   "source": [
    "from ipywidgets import interact\n",
    "import ipywidgets as widgets\n",
    "\n",
    "@interact(\n",
    "    token=widgets.Text(value='high'),\n",
    "    doc_index=widgets.IntSlider(min=1, max=len(session.documents)),\n",
    "    embedding=widgets.RadioButtons(\n",
    "        options=sorted(session.embeddings.keys()), layout={'width': 'max-content'}))\n",
    "def show_tokens(token, doc_index, embedding):\n",
    "    token_sim = TokenSimilarity(\n",
    "        session.embeddings[embedding].factory,\n",
    "        CosineSimilarity())\n",
    "\n",
    "    nbutils.plot_token_similarity(\n",
    "        session, session.documents[doc_index - 1], token_sim, token)"
   ]
  },
  {
   "cell_type": "markdown",
   "id": "retired-reverse",
   "metadata": {},
   "source": [
    "# A Search Query using Alignment over Similar Tokens"
   ]
  },
  {
   "cell_type": "code",
   "execution_count": 17,
   "id": "certain-bullet",
   "metadata": {},
   "outputs": [],
   "source": [
    "from vectorian.metrics import TokenSimilarity, CosineSimilarity\n",
    "from vectorian.metrics import AlignmentSimilarity\n",
    "from vectorian.alignment import WatermanSmithBeyer, ExponentialGapCost\n",
    "\n",
    "token_sim = TokenSimilarity(\n",
    "    emb_glove,  # the GloVe embedding we loaded earlier\n",
    "    CosineSimilarity()  # a standard cosine similarity\n",
    ")\n",
    "\n",
    "sent_sim = AlignmentSimilarity(\n",
    "    token_sim=token_sim,\n",
    "    alignment=WatermanSmithBeyer(gap=ExponentialGapCost(5), zero=0.25))\n",
    "\n",
    "index = session.partition(\"document\").index(sent_sim, nlp)"
   ]
  },
  {
   "cell_type": "code",
   "execution_count": 20,
   "id": "cloudy-dividend",
   "metadata": {},
   "outputs": [
    {
     "data": {
      "text/plain": [
       "'to be or not to be'"
      ]
     },
     "execution_count": 20,
     "metadata": {},
     "output_type": "execute_result"
    }
   ],
   "source": [
    "gold.phrases[0]"
   ]
  },
  {
   "cell_type": "code",
   "execution_count": 21,
   "id": "eleven-nerve",
   "metadata": {},
   "outputs": [
    {
     "data": {
      "text/html": [
       "\n",
       "\t<iframe\n",
       "\t\tid=\"vectorian-1620048239697727000-140654345767280-1\"\n",
       "\t\twidth=\"100%\"\n",
       "\t\theight=\"100%\"\n",
       "\t\tsrcdoc=\"&lt;!DOCTYPE html&gt;&lt;html&gt;&lt;head&gt;&lt;meta charset=&quot;utf-8&quot;&gt;&lt;meta name=&quot;viewport&quot; content=&quot;width=device-width, initial-scale=1&quot;&gt;&lt;link rel=&quot;stylesheet&quot; href=&quot;https://cdn.jsdelivr.net/npm/bulma@0.9.1/css/bulma.min.css&quot; /&gt;&lt;/head&gt;&lt;body&gt;&lt;div class=&quot;container&quot; height=&quot;100%&quot;&gt;&lt;div class=&quot;section&quot;&gt;&lt;article class=&quot;media&quot;&gt;&lt;div class=&quot;media-left&quot;&gt;&lt;p class=&quot;image is-64x64&quot;&gt;&lt;span class=&quot;buttons&quot;&gt;&lt;span class=&quot;has-text-weight-bold&quot;&gt;97.8%&lt;/span&gt;&lt;/span&gt;&lt;/p&gt;&lt;/div&gt;&lt;div class=&quot;media-content&quot;&gt;&lt;div class=&quot;is-pulled-right&quot;&gt;&lt;small&gt;Thomas Middleton&lt;/small&gt;&lt;small class=&quot;is-italic&quot;&gt;, The Phoenix (1604)&lt;/small&gt;&lt;/div&gt;&lt;div&gt;&lt;br /&gt;&lt;br /&gt;&lt;span&gt;&lt;span class=&quot;has-text-grey-light&quot;&gt;attempt, molest, or incumber any part, or parts whatsoever, either &lt;/span&gt; &lt;span&gt;&lt;span style=&quot;display:inline-table;&quot;&gt;&lt;span style=&quot;display:table-row;&quot;&gt;&lt;span style=&quot;display:table-cell;&quot;&gt;&lt;span class=&quot;has-text-black has-text-weight-bold&quot;&gt;to&lt;/span&gt;&lt;/span&gt; &lt;span style=&quot;display:table-cell;&quot;&gt;&lt;span class=&quot;tag is-light&quot;&gt;to&lt;/span&gt;&lt;/span&gt; &lt;span style=&quot;display:table-cell; opacity:1.0;&quot;&gt;&lt;span class=&quot;tag is-success&quot;&gt;100%&lt;/span&gt;&lt;/span&gt;&lt;/span&gt;&lt;/span&gt;&lt;/span&gt; &lt;span&gt;&lt;span style=&quot;display:inline-table;&quot;&gt;&lt;span style=&quot;display:table-row;&quot;&gt;&lt;span style=&quot;display:table-cell;&quot;&gt;&lt;span class=&quot;has-text-black has-text-weight-bold&quot;&gt;be&lt;/span&gt;&lt;/span&gt; &lt;span style=&quot;display:table-cell;&quot;&gt;&lt;span class=&quot;tag is-light&quot;&gt;be&lt;/span&gt;&lt;/span&gt; &lt;span style=&quot;display:table-cell; opacity:1.0;&quot;&gt;&lt;span class=&quot;tag is-success&quot;&gt;100%&lt;/span&gt;&lt;/span&gt;&lt;/span&gt;&lt;/span&gt;&lt;/span&gt; &lt;span class=&quot;has-text-grey-light&quot;&gt;named &lt;/span&gt; &lt;span&gt;&lt;span style=&quot;display:inline-table;&quot;&gt;&lt;span style=&quot;display:table-row;&quot;&gt;&lt;span style=&quot;display:table-cell;&quot;&gt;&lt;span class=&quot;has-text-black has-text-weight-bold&quot;&gt;or&lt;/span&gt;&lt;/span&gt; &lt;span style=&quot;display:table-cell;&quot;&gt;&lt;span class=&quot;tag is-light&quot;&gt;or&lt;/span&gt;&lt;/span&gt; &lt;span style=&quot;display:table-cell; opacity:1.0;&quot;&gt;&lt;span class=&quot;tag is-success&quot;&gt;100%&lt;/span&gt;&lt;/span&gt;&lt;/span&gt;&lt;/span&gt;&lt;/span&gt; &lt;span&gt;&lt;span style=&quot;display:inline-table;&quot;&gt;&lt;span style=&quot;display:table-row;&quot;&gt;&lt;span style=&quot;display:table-cell;&quot;&gt;&lt;span class=&quot;has-text-black has-text-weight-bold&quot;&gt;not&lt;/span&gt;&lt;/span&gt; &lt;span style=&quot;display:table-cell;&quot;&gt;&lt;span class=&quot;tag is-light&quot;&gt;not&lt;/span&gt;&lt;/span&gt; &lt;span style=&quot;display:table-cell; opacity:1.0;&quot;&gt;&lt;span class=&quot;tag is-success&quot;&gt;100%&lt;/span&gt;&lt;/span&gt;&lt;/span&gt;&lt;/span&gt;&lt;/span&gt; &lt;span&gt;&lt;span style=&quot;display:inline-table;&quot;&gt;&lt;span style=&quot;display:table-row;&quot;&gt;&lt;span style=&quot;display:table-cell;&quot;&gt;&lt;span class=&quot;has-text-black has-text-weight-bold&quot;&gt;to&lt;/span&gt;&lt;/span&gt; &lt;span style=&quot;display:table-cell;&quot;&gt;&lt;span class=&quot;tag is-light&quot;&gt;to&lt;/span&gt;&lt;/span&gt; &lt;span style=&quot;display:table-cell; opacity:1.0;&quot;&gt;&lt;span class=&quot;tag is-success&quot;&gt;100%&lt;/span&gt;&lt;/span&gt;&lt;/span&gt;&lt;/span&gt;&lt;/span&gt; &lt;span&gt;&lt;span style=&quot;display:inline-table;&quot;&gt;&lt;span style=&quot;display:table-row;&quot;&gt;&lt;span style=&quot;display:table-cell;&quot;&gt;&lt;span class=&quot;has-text-black has-text-weight-bold&quot;&gt;be&lt;/span&gt;&lt;/span&gt; &lt;span style=&quot;display:table-cell;&quot;&gt;&lt;span class=&quot;tag is-light&quot;&gt;be&lt;/span&gt;&lt;/span&gt; &lt;span style=&quot;display:table-cell; opacity:1.0;&quot;&gt;&lt;span class=&quot;tag is-success&quot;&gt;100%&lt;/span&gt;&lt;/span&gt;&lt;/span&gt;&lt;/span&gt;&lt;/span&gt; &lt;span class=&quot;has-text-grey-light&quot;&gt;named, either hidden or unhidden, either those that boldly look &lt;/span&gt;&lt;/span&gt;&lt;/div&gt;&lt;/div&gt;&lt;/article&gt;&lt;/div&gt;&lt;/div&gt;&lt;/body&gt;&lt;/html&gt;&lt;script&gt;\n",
       "\t\t(function() {\n",
       "\t\t\tvar f = parent.document.getElementById(&#x27;vectorian-1620048239697727000-140654345767280-1&#x27;);\n",
       "\t\t\tf.height = f.contentWindow.document.body.scrollHeight + &#x27;px&#x27;;\n",
       "\t\t})();\n",
       "\t&lt;/script&gt;\"\n",
       "\t\tonload=\"\n",
       "\t\t(function() {\n",
       "\t\t\tvar f = parent.document.getElementById('vectorian-1620048239697727000-140654345767280-1');\n",
       "\t\t\tf.height = f.contentWindow.document.body.scrollHeight + 'px';\n",
       "\t\t})();\n",
       "\t\"\n",
       "\t\tframeborder=\"0\"\n",
       "\t\tallowfullscreen\n",
       "\t></iframe>\n",
       "\t"
      ],
      "text/plain": [
       "<vectorian.session.LabResult at 0x7feca4447f70>"
      ]
     },
     "execution_count": 21,
     "metadata": {},
     "output_type": "execute_result"
    }
   ],
   "source": [
    "index.find(gold.phrases[0], n=1)"
   ]
  },
  {
   "cell_type": "markdown",
   "id": "labeled-helen",
   "metadata": {},
   "source": [
    "# Plotting the NDCG over the Corpus"
   ]
  },
  {
   "cell_type": "code",
   "execution_count": 61,
   "id": "61f9f310-7e48-467f-83d3-0bfd1120faa6",
   "metadata": {},
   "outputs": [],
   "source": [
    "\n",
    "import importlib\n",
    "importlib.reload(nbutils)\n",
    "\n",
    "import json\n",
    "\n",
    "with open(\"data/raw_data/gold.json\", \"r\") as f:\n",
    "    gold = nbutils.Gold(json.loads(f.read()))"
   ]
  },
  {
   "cell_type": "code",
   "execution_count": 62,
   "id": "premium-warehouse",
   "metadata": {},
   "outputs": [
    {
     "data": {
      "text/html": [
       "\n",
       "\n",
       "\n",
       "\n",
       "\n",
       "\n",
       "  <div class=\"bk-root\" id=\"b3c25778-25c0-4ff4-ad5a-40e692e83e4b\" data-root-id=\"5907\"></div>\n"
      ]
     },
     "metadata": {},
     "output_type": "display_data"
    },
    {
     "data": {
      "application/javascript": [
       "(function(root) {\n",
       "  function embed_document(root) {\n",
       "    \n",
       "  var docs_json = {\"50ff8af1-b757-4458-9b6d-b726dfa91ee9\":{\"defs\":[{\"extends\":null,\"module\":null,\"name\":\"DataModel\",\"overrides\":[],\"properties\":[]}],\"roots\":{\"references\":[{\"attributes\":{\"below\":[{\"id\":\"5918\"}],\"center\":[{\"id\":\"5921\"},{\"id\":\"5924\"},{\"id\":\"5933\"}],\"height\":300,\"left\":[{\"id\":\"5922\"}],\"renderers\":[{\"id\":\"5931\"}],\"title\":{\"id\":\"5908\"},\"toolbar\":{\"id\":\"5925\"},\"toolbar_location\":null,\"width\":800,\"x_range\":{\"id\":\"5926\"},\"x_scale\":{\"id\":\"5914\"},\"y_range\":{\"id\":\"5912\"},\"y_scale\":{\"id\":\"5916\"}},\"id\":\"5907\",\"subtype\":\"Figure\",\"type\":\"Plot\"},{\"attributes\":{\"fill_color\":{\"value\":\"#1f77b4\"},\"height\":{\"value\":0.75},\"line_color\":{\"value\":\"#1f77b4\"},\"right\":{\"field\":\"ndcg\"},\"y\":{\"field\":\"phrase\"}},\"id\":\"5929\",\"type\":\"HBar\"},{\"attributes\":{},\"id\":\"6164\",\"type\":\"BasicTickFormatter\"},{\"attributes\":{},\"id\":\"6161\",\"type\":\"CategoricalTickFormatter\"},{\"attributes\":{},\"id\":\"6168\",\"type\":\"Selection\"},{\"attributes\":{},\"id\":\"5923\",\"type\":\"CategoricalTicker\"},{\"attributes\":{\"data\":{\"ndcg\":[0.5307212739772434,0.8687949224876582,0.5855700749881525,0.5857421563596757,0.0,0.23463936301137822,0.6366824387328317,1.0,0.21398626473452756,0.9083745556952364,1.0,1.0,0.8539316501572937,0.9202054614375518,0.46927872602275644,0.830419897363192,0.830419897363192,1.0,0.8539316501572937,0.7671708088082309,0.7044934570648108],\"ndcg_str\":[\"53.1%\",\"86.9%\",\"58.6%\",\"58.6%\",\"0.0%\",\"23.5%\",\"63.7%\",\"100.0%\",\"21.4%\",\"90.8%\",\"100.0%\",\"100.0%\",\"85.4%\",\"92.0%\",\"46.9%\",\"83.0%\",\"83.0%\",\"100.0%\",\"85.4%\",\"76.7%\",\"70.4%\"],\"phrase\":[\"O all you host of heaven!\",\"hell itself should gape\",\"frailty, thy name is woman\",\"we will not carry coals\",\"All the world's a stage\",\"livers white as milk\",\"I do bear a brain.\",\"planets strike\",\"though this be madness, yet there is method in it\",\"Illo, ho, ho, my lord\",\"springes to catch woodcocks\",\"thereby hangs a tale\",\"go, by Saint Hieronimo\",\"a horse, a horse, my kingdom for a horse\",\"In my mind's eye\",\"an old man is twice a child\",\"The rest is silence.\",\"pampered jades of Asia\",\"sea of troubles\",\"to be or not to be\",\"mean NDCG\"]},\"selected\":{\"id\":\"6168\"},\"selection_policy\":{\"id\":\"6167\"}},\"id\":\"5927\",\"type\":\"ColumnDataSource\"},{\"attributes\":{\"data_source\":{\"id\":\"5927\"},\"glyph\":{\"id\":\"5929\"},\"hover_glyph\":null,\"muted_glyph\":null,\"nonselection_glyph\":{\"id\":\"5930\"},\"view\":{\"id\":\"5932\"}},\"id\":\"5931\",\"type\":\"GlyphRenderer\"},{\"attributes\":{\"formatter\":{\"id\":\"6161\"},\"major_label_policy\":{\"id\":\"6163\"},\"ticker\":{\"id\":\"5923\"}},\"id\":\"5922\",\"type\":\"CategoricalAxis\"},{\"attributes\":{},\"id\":\"5919\",\"type\":\"BasicTicker\"},{\"attributes\":{\"active_multi\":null},\"id\":\"5925\",\"type\":\"Toolbar\"},{\"attributes\":{\"formatter\":{\"id\":\"6164\"},\"major_label_policy\":{\"id\":\"6166\"},\"ticker\":{\"id\":\"5919\"}},\"id\":\"5918\",\"type\":\"LinearAxis\"},{\"attributes\":{\"factors\":[\"O all you host of heaven!\",\"hell itself should gape\",\"frailty, thy name is woman\",\"we will not carry coals\",\"All the world's a stage\",\"livers white as milk\",\"I do bear a brain.\",\"planets strike\",\"though this be madness, yet there is method in it\",\"Illo, ho, ho, my lord\",\"springes to catch woodcocks\",\"thereby hangs a tale\",\"go, by Saint Hieronimo\",\"a horse, a horse, my kingdom for a horse\",\"In my mind's eye\",\"an old man is twice a child\",\"The rest is silence.\",\"pampered jades of Asia\",\"sea of troubles\",\"to be or not to be\",\"mean NDCG\"]},\"id\":\"5912\",\"type\":\"FactorRange\"},{\"attributes\":{\"fill_alpha\":{\"value\":0.1},\"fill_color\":{\"value\":\"#1f77b4\"},\"height\":{\"value\":0.75},\"line_alpha\":{\"value\":0.1},\"line_color\":{\"value\":\"#1f77b4\"},\"right\":{\"field\":\"ndcg\"},\"y\":{\"field\":\"phrase\"}},\"id\":\"5930\",\"type\":\"HBar\"},{\"attributes\":{\"source\":{\"id\":\"5927\"}},\"id\":\"5932\",\"type\":\"CDSView\"},{\"attributes\":{},\"id\":\"6163\",\"type\":\"AllLabels\"},{\"attributes\":{\"level\":\"glyph\",\"source\":{\"id\":\"5927\"},\"text\":{\"field\":\"ndcg_str\"},\"text_align\":{\"value\":\"right\"},\"text_baseline\":{\"value\":\"middle\"},\"text_color\":{\"value\":\"white\"},\"text_font_size\":{\"value\":\"8pt\"},\"x\":{\"field\":\"ndcg\"},\"y\":{\"field\":\"phrase\"}},\"id\":\"5933\",\"type\":\"LabelSet\"},{\"attributes\":{\"axis\":{\"id\":\"5918\"},\"ticker\":null},\"id\":\"5921\",\"type\":\"Grid\"},{\"attributes\":{},\"id\":\"5914\",\"type\":\"LinearScale\"},{\"attributes\":{\"text\":\"NDCG@k, with k=query size\"},\"id\":\"5908\",\"type\":\"Title\"},{\"attributes\":{},\"id\":\"5916\",\"type\":\"CategoricalScale\"},{\"attributes\":{},\"id\":\"5926\",\"type\":\"Range1d\"},{\"attributes\":{},\"id\":\"6166\",\"type\":\"AllLabels\"},{\"attributes\":{},\"id\":\"6167\",\"type\":\"UnionRenderers\"},{\"attributes\":{\"axis\":{\"id\":\"5922\"},\"dimension\":1,\"ticker\":null},\"id\":\"5924\",\"type\":\"Grid\"}],\"root_ids\":[\"5907\"]},\"title\":\"Bokeh Application\",\"version\":\"2.3.0\"}};\n",
       "  var render_items = [{\"docid\":\"50ff8af1-b757-4458-9b6d-b726dfa91ee9\",\"notebook_comms_target\":\"6169\",\"root_ids\":[\"5907\"],\"roots\":{\"5907\":\"b3c25778-25c0-4ff4-ad5a-40e692e83e4b\"}}];\n",
       "  root.Bokeh.embed.embed_items_notebook(docs_json, render_items);\n",
       "\n",
       "  }\n",
       "  if (root.Bokeh !== undefined) {\n",
       "    embed_document(root);\n",
       "  } else {\n",
       "    var attempts = 0;\n",
       "    var timer = setInterval(function(root) {\n",
       "      if (root.Bokeh !== undefined) {\n",
       "        clearInterval(timer);\n",
       "        embed_document(root);\n",
       "      } else {\n",
       "        attempts++;\n",
       "        if (attempts > 100) {\n",
       "          clearInterval(timer);\n",
       "          console.log(\"Bokeh: ERROR: Unable to run BokehJS code because BokehJS library is missing\");\n",
       "        }\n",
       "      }\n",
       "    }, 10, root)\n",
       "  }\n",
       "})(window);"
      ],
      "application/vnd.bokehjs_exec.v0+json": ""
     },
     "metadata": {
      "application/vnd.bokehjs_exec.v0+json": {
       "id": "5907"
      }
     },
     "output_type": "display_data"
    },
    {
     "data": {
      "application/vnd.jupyter.widget-view+json": {
       "model_id": "28102c319ebd4bc1b1c2f5c2741a92bf",
       "version_major": 2,
       "version_minor": 0
      },
      "text/plain": [
       "VBox(children=(HBox(children=(ToggleButtons(options=('Result', 'Settings'), value='Result'), Button(button_sty…"
      ]
     },
     "metadata": {},
     "output_type": "display_data"
    }
   ],
   "source": [
    "nbutils.interact_plot(session, nlp, nbutils.NDCGPlotter(gold), partition_encoders={\n",
    "    sbert_encoder_name: sbert_encoder\n",
    "})"
   ]
  },
  {
   "cell_type": "markdown",
   "id": "sapphire-objective",
   "metadata": {},
   "source": [
    "# Exploring WSB Parameters 1"
   ]
  },
  {
   "cell_type": "code",
   "execution_count": 90,
   "id": "remarkable-oasis",
   "metadata": {},
   "outputs": [],
   "source": [
    "# see above (e.g. explore \"gap type\" and \"zero\")"
   ]
  },
  {
   "cell_type": "markdown",
   "id": "inner-kingston",
   "metadata": {},
   "source": [
    "# Exploring WSB Parameters 2"
   ]
  },
  {
   "cell_type": "code",
   "execution_count": 89,
   "id": "occasional-antenna",
   "metadata": {},
   "outputs": [],
   "source": [
    "# see above (e.g. explore \"cosine\" vs \"euclidean\")"
   ]
  },
  {
   "cell_type": "markdown",
   "id": "tough-endorsement",
   "metadata": {},
   "source": [
    "# Focussing in on one Query: Understanding Score and Intrusive Results"
   ]
  },
  {
   "cell_type": "code",
   "execution_count": 63,
   "id": "third-thanks",
   "metadata": {},
   "outputs": [
    {
     "data": {
      "text/html": [
       "\n",
       "\n",
       "\n",
       "\n",
       "\n",
       "\n",
       "  <div class=\"bk-root\" id=\"d15a1101-3b15-4e07-ab04-ede9a3509762\" data-root-id=\"6215\"></div>\n"
      ]
     },
     "metadata": {},
     "output_type": "display_data"
    },
    {
     "data": {
      "application/javascript": [
       "(function(root) {\n",
       "  function embed_document(root) {\n",
       "    \n",
       "  var docs_json = {\"134cb643-9893-4767-acda-57ad95845248\":{\"defs\":[{\"extends\":null,\"module\":null,\"name\":\"DataModel\",\"overrides\":[],\"properties\":[]}],\"roots\":{\"references\":[{\"attributes\":{\"below\":[{\"id\":\"6226\"}],\"center\":[{\"id\":\"6228\"},{\"id\":\"6232\"}],\"height\":250,\"left\":[{\"id\":\"6229\"}],\"renderers\":[{\"id\":\"6240\"}],\"title\":{\"id\":\"6216\"},\"toolbar\":{\"id\":\"6234\"},\"toolbar_location\":null,\"width\":1000,\"x_range\":{\"id\":\"6218\"},\"x_scale\":{\"id\":\"6222\"},\"y_range\":{\"id\":\"6220\"},\"y_scale\":{\"id\":\"6224\"}},\"id\":\"6215\",\"subtype\":\"Figure\",\"type\":\"Plot\"},{\"attributes\":{\"fill_color\":{\"field\":\"color\"},\"line_color\":{\"field\":\"color\"},\"top\":{\"field\":\"score\"},\"x\":{\"field\":\"rank\"}},\"id\":\"6238\",\"type\":\"VBar\"},{\"attributes\":{\"formatter\":{\"id\":\"6477\"},\"major_label_policy\":{\"id\":\"6479\"},\"ticker\":{\"id\":\"6230\"}},\"id\":\"6229\",\"type\":\"LinearAxis\"},{\"attributes\":{\"data_source\":{\"id\":\"6236\"},\"glyph\":{\"id\":\"6238\"},\"hover_glyph\":null,\"muted_glyph\":null,\"nonselection_glyph\":{\"id\":\"6239\"},\"view\":{\"id\":\"6241\"}},\"id\":\"6240\",\"type\":\"GlyphRenderer\"},{\"attributes\":{},\"id\":\"6482\",\"type\":\"AllLabels\"},{\"attributes\":{},\"id\":\"6230\",\"type\":\"BasicTicker\"},{\"attributes\":{\"axis\":{\"id\":\"6229\"},\"dimension\":1,\"ticker\":null},\"id\":\"6232\",\"type\":\"Grid\"},{\"attributes\":{},\"id\":\"6220\",\"type\":\"DataRange1d\"},{\"attributes\":{},\"id\":\"6227\",\"type\":\"CategoricalTicker\"},{\"attributes\":{\"axis\":{\"id\":\"6226\"},\"ticker\":null},\"id\":\"6228\",\"type\":\"Grid\"},{\"attributes\":{\"callback\":null,\"tooltips\":\"\\n            @tooltip\\n        \"},\"id\":\"6233\",\"type\":\"HoverTool\"},{\"attributes\":{},\"id\":\"6224\",\"type\":\"LinearScale\"},{\"attributes\":{\"active_multi\":null,\"tools\":[{\"id\":\"6233\"}]},\"id\":\"6234\",\"type\":\"Toolbar\"},{\"attributes\":{\"factors\":[\"1\",\"2\",\"3\",\"4\",\"5\",\"6\",\"7\",\"8\",\"9\",\"10\",\"11\",\"12\",\"13\",\"14\",\"15\",\"16\",\"17\",\"18\",\"19\",\"20\",\"21\",\"22\",\"23\",\"24\",\"25\",\"26\",\"27\",\"28\",\"29\",\"30\",\"31\",\"32\",\"33\",\"34\",\"35\",\"36\",\"37\",\"38\",\"39\",\"40\",\"41\",\"42\",\"43\",\"44\",\"45\",\"46\",\"47\",\"48\",\"49\",\"50\",\"51\",\"52\",\"53\",\"54\",\"55\",\"56\",\"57\",\"58\",\"59\",\"60\",\"61\",\"62\",\"63\",\"64\",\"65\",\"66\",\"67\",\"68\",\"69\",\"70\",\"71\",\"72\",\"73\",\"74\",\"75\",\"76\",\"77\",\"78\",\"79\",\"80\",\"81\",\"82\",\"83\",\"84\",\"85\",\"86\",\"87\",\"88\",\"89\",\"90\",\"91\",\"92\",\"93\",\"94\",\"95\",\"96\",\"97\",\"98\",\"99\",\"100\"]},\"id\":\"6218\",\"type\":\"FactorRange\"},{\"attributes\":{},\"id\":\"6222\",\"type\":\"CategoricalScale\"},{\"attributes\":{},\"id\":\"6483\",\"type\":\"UnionRenderers\"},{\"attributes\":{\"formatter\":{\"id\":\"6480\"},\"major_label_orientation\":1.5707963267948966,\"major_label_policy\":{\"id\":\"6482\"},\"ticker\":{\"id\":\"6227\"}},\"id\":\"6226\",\"type\":\"CategoricalAxis\"},{\"attributes\":{},\"id\":\"6484\",\"type\":\"Selection\"},{\"attributes\":{\"text\":\"Scores for Query 'to be or not to be', NDCG=94.1%\"},\"id\":\"6216\",\"type\":\"Title\"},{\"attributes\":{},\"id\":\"6480\",\"type\":\"CategoricalTickFormatter\"},{\"attributes\":{},\"id\":\"6479\",\"type\":\"AllLabels\"},{\"attributes\":{\"source\":{\"id\":\"6236\"}},\"id\":\"6241\",\"type\":\"CDSView\"},{\"attributes\":{\"fill_alpha\":{\"value\":0.1},\"fill_color\":{\"field\":\"color\"},\"line_alpha\":{\"value\":0.1},\"line_color\":{\"field\":\"color\"},\"top\":{\"field\":\"score\"},\"x\":{\"field\":\"rank\"}},\"id\":\"6239\",\"type\":\"VBar\"},{\"attributes\":{},\"id\":\"6477\",\"type\":\"BasicTickFormatter\"},{\"attributes\":{\"data\":{\"color\":[\"green\",\"green\",\"green\",\"green\",\"green\",\"red\",\"red\",\"green\",\"red\",\"red\",\"red\",\"red\",\"green\",\"red\",\"red\",\"red\",\"green\",\"green\",\"red\",\"red\",\"red\",\"red\",\"red\",\"red\",\"red\",\"red\",\"red\",\"red\",\"red\",\"red\",\"red\",\"red\",\"red\",\"red\",\"red\",\"red\",\"red\",\"red\",\"red\",\"red\",\"red\",\"red\",\"red\",\"red\",\"red\",\"red\",\"red\",\"red\",\"red\",\"red\",\"red\",\"red\",\"red\",\"red\",\"red\",\"red\",\"red\",\"red\",\"red\",\"red\",\"red\",\"red\",\"red\",\"red\",\"red\",\"red\",\"red\",\"red\",\"red\",\"red\",\"red\",\"red\",\"red\",\"red\",\"red\",\"red\",\"red\",\"red\",\"red\",\"red\",\"red\",\"red\",\"red\",\"red\",\"red\",\"red\",\"red\",\"red\",\"red\",\"red\",\"red\",\"red\",\"red\",\"red\",\"red\",\"red\",\"red\",\"red\",\"red\",\"red\"],\"rank\":[\"1\",\"2\",\"3\",\"4\",\"5\",\"6\",\"7\",\"8\",\"9\",\"10\",\"11\",\"12\",\"13\",\"14\",\"15\",\"16\",\"17\",\"18\",\"19\",\"20\",\"21\",\"22\",\"23\",\"24\",\"25\",\"26\",\"27\",\"28\",\"29\",\"30\",\"31\",\"32\",\"33\",\"34\",\"35\",\"36\",\"37\",\"38\",\"39\",\"40\",\"41\",\"42\",\"43\",\"44\",\"45\",\"46\",\"47\",\"48\",\"49\",\"50\",\"51\",\"52\",\"53\",\"54\",\"55\",\"56\",\"57\",\"58\",\"59\",\"60\",\"61\",\"62\",\"63\",\"64\",\"65\",\"66\",\"67\",\"68\",\"69\",\"70\",\"71\",\"72\",\"73\",\"74\",\"75\",\"76\",\"77\",\"78\",\"79\",\"80\",\"81\",\"82\",\"83\",\"84\",\"85\",\"86\",\"87\",\"88\",\"89\",\"90\",\"91\",\"92\",\"93\",\"94\",\"95\",\"96\",\"97\",\"98\",\"99\",\"100\"],\"score\":[1.0,1.0,1.0,0.9242728352546692,0.9220619797706604,0.9168016910552979,0.8753275275230408,0.868998110294342,0.845370352268219,0.8354441523551941,0.8233215808868408,0.8133761286735535,0.8074221611022949,0.7615892291069031,0.7519698143005371,0.7448984980583191,0.7312222123146057,0.7286122441291809,0.7253410816192627,0.7250320911407471,0.7243462204933167,0.7004480957984924,0.6956667304039001,0.6933093667030334,0.6706625819206238,0.6679999828338623,0.6596361398696899,0.6579850912094116,0.6574819087982178,0.6435807347297668,0.642751157283783,0.6381454467773438,0.637923538684845,0.6250976324081421,0.6184986233711243,0.6165853142738342,0.6084584593772888,0.6047807335853577,0.598561704158783,0.5897912979125977,0.5895963311195374,0.5740201473236084,0.5622855424880981,0.5605282187461853,0.5598545670509338,0.5564690232276917,0.5552118420600891,0.5495104789733887,0.5435195565223694,0.5424339771270752,0.5337286591529846,0.5200681090354919,0.5137172341346741,0.5134965181350708,0.5120806097984314,0.4957711696624756,0.49415323138237,0.4933263063430786,0.4881228506565094,0.48680296540260315,0.48368707299232483,0.48098552227020264,0.4689919948577881,0.46803560853004456,0.4663049876689911,0.46579399704933167,0.4617353677749634,0.46163415908813477,0.4583902060985565,0.45473435521125793,0.4543286859989166,0.44841328263282776,0.44339945912361145,0.44312164187431335,0.439465194940567,0.4347505271434784,0.433074027299881,0.43303000926971436,0.43057385087013245,0.430137038230896,0.4226229190826416,0.421831339597702,0.4193812310695648,0.41789674758911133,0.4036009609699249,0.3969564437866211,0.3909623920917511,0.3872220516204834,0.38336381316185,0.3685069978237152,0.3650932013988495,0.3598693311214447,0.3545810282230377,0.3443637788295746,0.34082016348838806,0.3293176591396332,0.2909490764141083,0.2639874517917633,0.2587481141090393,0.18647949397563934],\"tooltip\":[\"\\n            <div style=\\\"margin-left:2em\\\">\\n                <span style=\\\"font-variant:small-caps; font-size: 14pt;\\\">The Duke of Guise (1682)</style>\\n                <span style=\\\"float:right; font-size: 10pt;\\\">query: to be or not to be</span>\\n                <hr>\\n                <div style=\\\"font-variant:normal; font-size: 10pt;\\\">[King:] Tomorrow Guise is made Lieutenant-General, Why then tomorrow I no more am King; 'Tis time to push my slackened vengeance home, <span style=\\\"font-weight:bold;\\\">To be a King, or not to be at all;</span> The Vow that manacled my Rage is loosed, Even Heaven is wearied with repeated Crimes, Till lightning flashes round to guard the Throne, And the curbed Thunder grumbles to be gone.</div>\\n            </div>\\n            \",\"\\n            <div style=\\\"margin-left:2em\\\">\\n                <span style=\\\"font-variant:small-caps; font-size: 14pt;\\\">The Phoenix (1604)</style>\\n                <span style=\\\"float:right; font-size: 10pt;\\\">query: to be or not to be</span>\\n                <hr>\\n                <div style=\\\"font-variant:normal; font-size: 10pt;\\\">[Fidelio:] As also neither to touch, attempt, molest, or incumber any part, or parts whatsoever, either <span style=\\\"font-weight:bold;\\\">to be named or not to be named,</span> either hidden or unhidden, either those that boldly look abroad, or those that dare not show their faces -[.]</div>\\n            </div>\\n            \",\"\\n            <div style=\\\"margin-left:2em\\\">\\n                <span style=\\\"font-variant:small-caps; font-size: 14pt;\\\">Philosophical Rudiments Concerning Government and Society (1651)</style>\\n                <span style=\\\"float:right; font-size: 10pt;\\\">query: to be or not to be</span>\\n                <hr>\\n                <div style=\\\"font-variant:normal; font-size: 10pt;\\\">Now the gathering together of many men, who deliberate of what is <span style=\\\"font-weight:bold;\\\">to be done or not to be done</span> for the common good of all men, is that which I call a council.</div>\\n            </div>\\n            \",\"\\n            <div style=\\\"margin-left:2em\\\">\\n                <span style=\\\"font-variant:small-caps; font-size: 14pt;\\\">Dives and Lazarus (1685)</style>\\n                <span style=\\\"float:right; font-size: 10pt;\\\">query: to be or not to be</span>\\n                <hr>\\n                <div style=\\\"font-variant:normal; font-size: 10pt;\\\">Come now, thou that pretend'st to Act the Man, Something there needs must be, which ne'er began. As all were nothing once, So 'twould be now. A Number from bare Cyphers could not grow. Nothing's a Barren Womb. If that could breed, <span style=\\\"font-weight:bold;\\\">To be and not to be </span>were well agreed.</div>\\n            </div>\\n            \",\"\\n            <div style=\\\"margin-left:2em\\\">\\n                <span style=\\\"font-variant:small-caps; font-size: 14pt;\\\">The Northern Lass (1629)</style>\\n                <span style=\\\"float:right; font-size: 10pt;\\\">query: to be or not to be</span>\\n                <hr>\\n                <div style=\\\"font-variant:normal; font-size: 10pt;\\\">[Trainwell:] Not to be mad, sir, because she is melancholy. Not by taking a wrong course for her recovery to ruin her, and forfeit your judgment. Do you think that commands with chidings, threats or stripes, have power to work upon her, when she has neither will nor reason within herself <span style=\\\"font-weight:bold;\\\">to do, or not to do </span>anything whatsoever?</div>\\n            </div>\\n            \",\"\\n            <div style=\\\"margin-left:2em\\\">\\n                <span style=\\\"font-variant:small-caps; font-size: 14pt;\\\">The London Cuckolds (1682)</style>\\n                <span style=\\\"float:right; font-size: 10pt;\\\">query: springes to catch woodcocks</span>\\n                <hr>\\n                <div style=\\\"font-variant:normal; font-size: 10pt;\\\">[Roger:] Her's a Letter, Sir, to be delivered to you with all speed. [Ramble:] Ha - let me see't quickly (Opens it and reads.) From Eugenia [Townly:] Ay the Devil's coming abroad again to hinder your conversion. [Ramble (reads):] Sir, My Husband will be from home all this morning, I am very desirous to be informed the particulars of last nights misfortune; curiosity forces me, in spite of blushes to give you this invitation. Enter at the back-door without knocking, if you meet not Jane below come directly up stairs. - Good. [Townly:] <span style=\\\"font-weight:bold;\\\">Here's another springe laid to catch the Woodcock.</span> [Ramble:] Frank, is not here temptation now, is it to be resisted think you, can flesh and blood forbear going? [Townly:] Truly here is a very fair appearance.</div>\\n            </div>\\n            \",\"\\n            <div style=\\\"margin-left:2em\\\">\\n                <span style=\\\"font-variant:small-caps; font-size: 14pt;\\\">Acolastus (English) (1540)</style>\\n                <span style=\\\"float:right; font-size: 10pt;\\\">query: In my mind's eye</span>\\n                <hr>\\n                <div style=\\\"font-variant:normal; font-size: 10pt;\\\">[Pelargus:] I learn by myself how much the care of the father is toward his son, being absent, or being away from him, because my son is now lately put away from me, my mind can not abide or suffer to be in rest or quiet, but that he diligently haunteth before <span style=\\\"font-weight:bold;\\\">mine eyes, and before my mind. </span>i. but that he continually or still is present or haunteth or walketh to and fro, before mine eyes, and in my mind (by reason of my much thinking upon him) I take care or thought for him being absent, not otherwise.</div>\\n            </div>\\n            \",\"\\n            <div style=\\\"margin-left:2em\\\">\\n                <span style=\\\"font-variant:small-caps; font-size: 14pt;\\\">An Essay Concerning Human Understanding (1689)</style>\\n                <span style=\\\"float:right; font-size: 10pt;\\\">query: to be or not to be</span>\\n                <hr>\\n                <div style=\\\"font-variant:normal; font-size: 10pt;\\\">All the Actions, that we have any Idea of, reducing themselves, as has been said, to these two, viz. Thinking and Motion, so far as a Man has a power <span style=\\\"font-weight:bold;\\\">to think, or not to think: to move, or not to move, </span>according to the preference or direction of his own mind, so far is a Man Free.</div>\\n            </div>\\n            \",\"\\n            <div style=\\\"margin-left:2em\\\">\\n                <span style=\\\"font-variant:small-caps; font-size: 14pt;\\\">The Triumph of Beauty (1634)</style>\\n                <span style=\\\"float:right; font-size: 10pt;\\\">query: Illo, ho, ho, my lord</span>\\n                <hr>\\n                <div style=\\\"font-variant:normal; font-size: 10pt;\\\">[Bottle:] Weather? You are wise; do you think, Sir, I have so little honesty, to be Sir Pandarus to your Melancholy. <span style=\\\"font-weight:bold;\\\">Illo, ho . - </span>[Paris:] What, art thou mad? [Bottle:] You are little better: if you can get their consent. [Paris:] Whose consent? [Bottle:] Hobinoll, Crab, Toad-stool, - Illo ho , boys. Some friends of yours, that sent me to hunt out your Highness, your humble Subjects and Play-fellows, that have a mind to be merry.</div>\\n            </div>\\n            \",\"\\n            <div style=\\\"margin-left:2em\\\">\\n                <span style=\\\"font-variant:small-caps; font-size: 14pt;\\\">The Child Hath Found His Father, or The Birth of Merlin (1622)</style>\\n                <span style=\\\"float:right; font-size: 10pt;\\\">query: Illo, ho, ho, my lord</span>\\n                <hr>\\n                <div style=\\\"font-variant:normal; font-size: 10pt;\\\">[Clown:] If there be any man that wants a name, will come in for conscience sake, and acknowledge himself to be a Whore-Master, he shall have that laid to his charge in an hour, he shall not be rid on in an age; if he have Lands, he shall have an heir, if he have patience, he shall have a wife, if he have neither Lands nor patience, he shall have a whore, so ho boy, so ho, so, so. [Prince Uter (within):] <span style=\\\"font-weight:bold;\\\">So, ho, by, so, ho, illo ho, illo ho.</span> [Clown:] Har, hark sister, there's one hollows to us, what a wicked world's this, a man cannot so soon name a whore but a knave comes presently, and see where he is, stand close a while, sister.</div>\\n            </div>\\n            \",\"\\n            <div style=\\\"margin-left:2em\\\">\\n                <span style=\\\"font-variant:small-caps; font-size: 14pt;\\\">A Fool's Preferment (1688)</style>\\n                <span style=\\\"float:right; font-size: 10pt;\\\">query: though this be madness, yet there is method in it</span>\\n                <hr>\\n                <div style=\\\"font-variant:normal; font-size: 10pt;\\\">[Lyonel:] [...] (Sings) There's nothing so fatal as Woman, To hurry a Man to his Grave, You must think, you may plot, You may sigh like a Sot: She uses you more like a Slave. But a Bottle, although it be common, The Cheats of the Fair will undo, It will drive from your Head The Delights of the Bed; He that's drunk is not able to woo. (Exit Lyonel) [Celia:] <span style=\\\"font-weight:bold;\\\">Method in Madness</span>, Grace even in Distraction: I'll never leave him, 'till, by Art or Prayer, I have restored his Senses to their Office.</div>\\n            </div>\\n            \",\"\\n            <div style=\\\"margin-left:2em\\\">\\n                <span style=\\\"font-variant:small-caps; font-size: 14pt;\\\">The Dutch Courtesan (1604)</style>\\n                <span style=\\\"float:right; font-size: 10pt;\\\">query: Illo, ho, ho, my lord</span>\\n                <hr>\\n                <div style=\\\"font-variant:normal; font-size: 10pt;\\\">[Master Mulligrub:] Who goes there: <span style=\\\"font-weight:bold;\\\">Illo, ho, ho: </span>sounds shall I run mad, Loose my wits: shall I be hanged, hark who goes there? Do not fear to be poor Mullegrub, Thou hast a sure stock now.</div>\\n            </div>\\n            \",\"\\n            <div style=\\\"margin-left:2em\\\">\\n                <span style=\\\"font-variant:small-caps; font-size: 14pt;\\\">Mirum in Modum (1602)</style>\\n                <span style=\\\"float:right; font-size: 10pt;\\\">query: to be or not to be</span>\\n                <hr>\\n                <div style=\\\"font-variant:normal; font-size: 10pt;\\\">And which of both (thinkst thou) would Reason choose? <span style=\\\"font-weight:bold;\\\">To be made capable of endless bliss,</span> With possibility the same to lose, And win a Hell, where all is quite amiss; Or not to Be at all, both those to miss: Sure, Reas'n the first would chose, because the last Is lowest hell, where highest horror is; For in Not-beings bottom, being fast, Ought would to worse than nought, unworn waste.</div>\\n            </div>\\n            \",\"\\n            <div style=\\\"margin-left:2em\\\">\\n                <span style=\\\"font-variant:small-caps; font-size: 14pt;\\\">Grimello's Fortunes (1604)</style>\\n                <span style=\\\"float:right; font-size: 10pt;\\\">query: springes to catch woodcocks</span>\\n                <hr>\\n                <div style=\\\"font-variant:normal; font-size: 10pt;\\\">[Ganuzido:] Why, what have you taken then? or have you authority to take fools as you finde them in your way? If you have, you may happen yet to be deceived. [Grimello:] Why sir, I set no <span style=\\\"font-weight:bold;\\\">springs for Woodcocks</span>, and though I be no great wise man, yet I can do something else, than shoo the Goose for my living: and therefore, I pray you neither fear your Purse, nor play too much with my folly.</div>\\n            </div>\\n            \",\"\\n            <div style=\\\"margin-left:2em\\\">\\n                <span style=\\\"font-variant:small-caps; font-size: 14pt;\\\">Sonnet (1687)</style>\\n                <span style=\\\"float:right; font-size: 10pt;\\\">query: frailty, thy name is woman</span>\\n                <hr>\\n                <div style=\\\"font-variant:normal; font-size: 10pt;\\\">How could you once so kind appear, To kiss, to sigh, and shed a tear, To cherish and caress me so, And now not let but bid me go? <span style=\\\"font-weight:bold;\\\">Oh Woman! Frailty is thy name</span>, Since she's untrue y'are all to blame, And but in man no truth is sound: 'Tis a fair Sex, we all must love it, But (on my conscience) could we prove it, They all are false even under ground.</div>\\n            </div>\\n            \",\"\\n            <div style=\\\"margin-left:2em\\\">\\n                <span style=\\\"font-variant:small-caps; font-size: 14pt;\\\">Religio Medici (1642)</style>\\n                <span style=\\\"float:right; font-size: 10pt;\\\">query: an old man is twice a child</span>\\n                <hr>\\n                <div style=\\\"font-variant:normal; font-size: 10pt;\\\">I find my growing Judgement daily instructs me how to be better, but my untamed affections and confirmed vitiosity makes me daily do worse; I find in my confirmed age the same sins I discovered in my youth, I committed many then because I was a child, and because I commit them still I am yet an Infant. Therefore I perceive <span style=\\\"font-weight:bold;\\\">a man may be twice a child</span> before the days of dotage, and stand in need of Aeson's bath before threescore.</div>\\n            </div>\\n            \",\"\\n            <div style=\\\"margin-left:2em\\\">\\n                <span style=\\\"font-variant:small-caps; font-size: 14pt;\\\">Those Five Questions (Tusculanae) (1561)</style>\\n                <span style=\\\"float:right; font-size: 10pt;\\\">query: to be or not to be</span>\\n                <hr>\\n                <div style=\\\"font-variant:normal; font-size: 10pt;\\\">Perchance I have not told you all that I think; for <span style=\\\"font-weight:bold;\\\">not to be when you have been, </span>I think is the greatest misery that may be.</div>\\n            </div>\\n            \",\"\\n            <div style=\\\"margin-left:2em\\\">\\n                <span style=\\\"font-variant:small-caps; font-size: 14pt;\\\">Epigraph (1649)</style>\\n                <span style=\\\"float:right; font-size: 10pt;\\\">query: to be or not to be</span>\\n                <hr>\\n                <div style=\\\"font-variant:normal; font-size: 10pt;\\\">Killed by ingratitude here blessed within doth rest: <span style=\\\"font-weight:bold;\\\">To marry or not to marry </span>which is best.</div>\\n            </div>\\n            \",\"\\n            <div style=\\\"margin-left:2em\\\">\\n                <span style=\\\"font-variant:small-caps; font-size: 14pt;\\\">The Lovesick King (1619)</style>\\n                <span style=\\\"float:right; font-size: 10pt;\\\">query: hell itself should gape</span>\\n                <hr>\\n                <div style=\\\"font-variant:normal; font-size: 10pt;\\\">[Canutus:] Thou'st spoke enough to damn thee, Impudent Traitor, go die unpitied; Though thou hast my hate, thou shalt not have the honour of my sword to take away thy life, you of our Guard; See a base death performed upon this Slave. [Captain:] Farewell my Liege you once must have a grave. (Exit with Guard.) [Harold:] My Resolution's firm, and I will speak, <span style=\\\"font-weight:bold;\\\">though hell should gape</span> to swallow me alive; What's he that's gone to death my Sovereign? [Canutus:] Traytor (Harold) to my best content.</div>\\n            </div>\\n            \",\"\\n            <div style=\\\"margin-left:2em\\\">\\n                <span style=\\\"font-variant:small-caps; font-size: 14pt;\\\">Love's Pilgrimage (1616)</style>\\n                <span style=\\\"float:right; font-size: 10pt;\\\">query: The rest is silence.</span>\\n                <hr>\\n                <div style=\\\"font-variant:normal; font-size: 10pt;\\\">[Rodorigo:] Why should such plants as you are, pleasure's children That owe their blushing years to gentle objects, Tenderly bred, and brought up in all fulness, Desire the stubborn wars? [Marcantonio:] In those 'tis wonder, That make their ease their god, and not their honour: But noble General, my end is other, Desire of knowledge Sir, and hope of tying Discretion to my time, which only shows me, And not my years, a man, and makes that more. Which we call handsome, <span style=\\\"font-weight:bold;\\\">the rest is but boys' beauty, </span>And with the boy consumed.</div>\\n            </div>\\n            \",\"\\n            <div style=\\\"margin-left:2em\\\">\\n                <span style=\\\"font-variant:small-caps; font-size: 14pt;\\\">The Citizen Turned Gentleman (1672)</style>\\n                <span style=\\\"float:right; font-size: 10pt;\\\">query: springes to catch woodcocks</span>\\n                <hr>\\n                <div style=\\\"font-variant:normal; font-size: 10pt;\\\">[Young Jorden:] By that means we shall get quit of him. [Trickmore:] The posture our affairs are in at present, do not much seem to require his absence, therefore I have contrived a defeat, and will keep him yet in play. I have set another <span style=\\\"font-weight:bold;\\\">Spring, which if it catch the Woodcock</span>, 'twill hold him fast. Look here comes forth our Knight in Petti-coats: muffle yourself up in your Cloak, and be gone. [Young Jorden:] A stately dame on my word.</div>\\n            </div>\\n            \",\"\\n            <div style=\\\"margin-left:2em\\\">\\n                <span style=\\\"font-variant:small-caps; font-size: 14pt;\\\">Don Carlos, Prince of Spain (1676)</style>\\n                <span style=\\\"float:right; font-size: 10pt;\\\">query: a horse, a horse, my kingdom for a horse</span>\\n                <hr>\\n                <div style=\\\"font-variant:normal; font-size: 10pt;\\\">[King Philip of Spain:] I've all this while been angry but in vain; She heats me first, then strokes me tame again. Oh wert thou true how happy should I be! Think'st Thou that I have Joy to part with thee? No, <span style=\\\"font-weight:bold;\\\">all my Kingdom for the bliss I'd give:</span> Nay though it were not so but to believe.</div>\\n            </div>\\n            \",\"\\n            <div style=\\\"margin-left:2em\\\">\\n                <span style=\\\"font-variant:small-caps; font-size: 14pt;\\\">Samson Agonistes (1671)</style>\\n                <span style=\\\"float:right; font-size: 10pt;\\\">query: frailty, thy name is woman</span>\\n                <hr>\\n                <div style=\\\"font-variant:normal; font-size: 10pt;\\\">[Dalila:] \\\"[...] To what I did thou shewdst me first the way. But I to enemies revealed, and should not. Nor shouldst thou have trusted that to <span style=\\\"font-weight:bold;\\\">woman's frailty</span>: Ere I to thee, thou to thyself wast cruel. [...]\\\"</div>\\n            </div>\\n            \",\"\\n            <div style=\\\"margin-left:2em\\\">\\n                <span style=\\\"font-variant:small-caps; font-size: 14pt;\\\">The World Runs on Wheels (1623)</style>\\n                <span style=\\\"float:right; font-size: 10pt;\\\">query: pampered jades of Asia</span>\\n                <hr>\\n                <div style=\\\"font-variant:normal; font-size: 10pt;\\\">In what state I would lean over the Boot, and look, and pry if I saw any of my acquaintance, and then I would stand up, veiling my Bonnet, kissing my right claw, extending my arms as I had been swimming, with God save your Lordship, Worship, or how dost thou honest neighbour or good-fellow? in a word, the Coach made me think myself better than my betters that went on foot, and that I was but little inferior to Tamburlaine, being jolted thus in state by <span style=\\\"font-weight:bold;\\\">those pampered Jades of Belgia </span>[...].</div>\\n            </div>\\n            \",\"\\n            <div style=\\\"margin-left:2em\\\">\\n                <span style=\\\"font-variant:small-caps; font-size: 14pt;\\\">Laquei Ridiculosi (1613)</style>\\n                <span style=\\\"float:right; font-size: 10pt;\\\">query: springes to catch woodcocks</span>\\n                <hr>\\n                <div style=\\\"font-variant:normal; font-size: 10pt;\\\">My honest friends that reads, I you beseech To make the best construction of each letter; And not to blame my lavishness of speech, In paying soundly where I am a debtor: My word and credit else you should infringe, Which was <span style=\\\"font-weight:bold;\\\">to catch the Woodcock in a Springe</span>.</div>\\n            </div>\\n            \",\"\\n            <div style=\\\"margin-left:2em\\\">\\n                <span style=\\\"font-variant:small-caps; font-size: 14pt;\\\">Advice to an Old Man of Sixty-Three, about to Marry a Girl of Sixteen (1686)</style>\\n                <span style=\\\"float:right; font-size: 10pt;\\\">query: an old man is twice a child</span>\\n                <hr>\\n                <div style=\\\"font-variant:normal; font-size: 10pt;\\\">Now fie upon him! what is Man, Whose life at best is but a span? When to an Inch it dwindles down, Ice in his bones, Snow on his crown, That he within his crazy brain, Kind thoughts of Love should entertain, That he, when Harvest comes should plow, And when 'tis time to reap, go sow, Who in imagination only strong, Though <span style=\\\"font-weight:bold;\\\">twice a Child</span>, can never twice grow young.</div>\\n            </div>\\n            \",\"\\n            <div style=\\\"margin-left:2em\\\">\\n                <span style=\\\"font-variant:small-caps; font-size: 14pt;\\\">The Rebellion (1633)</style>\\n                <span style=\\\"float:right; font-size: 10pt;\\\">query: go, by Saint Hieronimo</span>\\n                <hr>\\n                <div style=\\\"font-variant:normal; font-size: 10pt;\\\">[First Tailor:] Who shall act Prince Belthazer and the King? [Third Tailor:] I will do Prince Belthazer too: and for the King Who but I? which of you all has such a face for a King, Or such a leg to trip up the heels of a Traitor? [Second Tailor:] You will do all I think. [Third Tailor:] Yes marry will I; who but Uirmine? yet I will Leave all to play the King: <span style=\\\"font-weight:bold;\\\">Pass by Hieronimo.</span></div>\\n            </div>\\n            \",\"\\n            <div style=\\\"margin-left:2em\\\">\\n                <span style=\\\"font-variant:small-caps; font-size: 14pt;\\\">The Coxcomb (1609)</style>\\n                <span style=\\\"float:right; font-size: 10pt;\\\">query: pampered jades of Asia</span>\\n                <hr>\\n                <div style=\\\"font-variant:normal; font-size: 10pt;\\\">[Dorothy:] God's precious you young contagious whore must you be ticing? and is your flesh so wrank sir, that two may live upon't? I am glad to hear your curtail grown so lusty; he was dry foundered t'other day, weehee <span style=\\\"font-weight:bold;\\\">my pampered jade of Asia.</span></div>\\n            </div>\\n            \",\"\\n            <div style=\\\"margin-left:2em\\\">\\n                <span style=\\\"font-variant:small-caps; font-size: 14pt;\\\">The Woman-Hater (1606)</style>\\n                <span style=\\\"float:right; font-size: 10pt;\\\">query: frailty, thy name is woman</span>\\n                <hr>\\n                <div style=\\\"font-variant:normal; font-size: 10pt;\\\">[Gondarino:] My Lord, I speak not this to gain new grace, But howsoever you esteem my words, My love and duty will not suffer me To see you favour such a prostitute, And I stand by dumb; without Rack, Torture, Or Strappado, I'll unrip myself, I do confess I was in company with <span style=\\\"font-weight:bold;\\\">that pleasing peace of frailty, that we call woman</span>; I do confess after along and tedious siege, I yielded.</div>\\n            </div>\\n            \",\"\\n            <div style=\\\"margin-left:2em\\\">\\n                <span style=\\\"font-variant:small-caps; font-size: 14pt;\\\">Every Man In His Humour (1598)</style>\\n                <span style=\\\"float:right; font-size: 10pt;\\\">query: planets strike</span>\\n                <hr>\\n                <div style=\\\"font-variant:normal; font-size: 10pt;\\\">[Bobadill:] [...] sure <span style=\\\"font-weight:bold;\\\">I was struck with a planet </span>then, for I had no power to touch my weapon. [Ed. Knowell:] Aye, like enough, I have heard of many that have been beaten under a planet: go, get you to a surgeon.</div>\\n            </div>\\n            \",\"\\n            <div style=\\\"margin-left:2em\\\">\\n                <span style=\\\"font-variant:small-caps; font-size: 14pt;\\\">Iter Boreale (1647)</style>\\n                <span style=\\\"float:right; font-size: 10pt;\\\">query: a horse, a horse, my kingdom for a horse</span>\\n                <hr>\\n                <div style=\\\"font-variant:normal; font-size: 10pt;\\\">Upon this Hill they met; why, he could tell The Inch where Richmond stood, where Richard fell; Besides what of his knowledge he could say, He had Authentic notice from the Play; Which I might guess by his mustering up the Ghosts, And policies not incident to hosts: But chiefly by that one perspicuous thing, Where he mistook a Player for a King, For when he would have said, <span style=\\\"font-weight:bold;\\\">King Richard </span>died, And called a horse, a horse, he Burbage cried.</div>\\n            </div>\\n            \",\"\\n            <div style=\\\"margin-left:2em\\\">\\n                <span style=\\\"font-variant:small-caps; font-size: 14pt;\\\">The House of Correction (1619)</style>\\n                <span style=\\\"float:right; font-size: 10pt;\\\">query: springes to catch woodcocks</span>\\n                <hr>\\n                <div style=\\\"font-variant:normal; font-size: 10pt;\\\">Alas, poor Book, hunt not thou after praise, Nor dare to stretch thy hand unto the Bays Upon a Poets head: let it suffice To thee and me, the world doth us despise. For 'tis a mad World, and it turns on hinges, Whilst some a-birding go, and set their springes For to catch Woodcocks. Others sting and bite Like Wasps and Mastiffs, and do take delight To quarrel with their shadows, nay, themselves, And their own brood.</div>\\n            </div>\\n            \",\"\\n            <div style=\\\"margin-left:2em\\\">\\n                <span style=\\\"font-variant:small-caps; font-size: 14pt;\\\">A Treatise Of Self-Denial (1675)</style>\\n                <span style=\\\"float:right; font-size: 10pt;\\\">query: In my mind's eye</span>\\n                <hr>\\n                <div style=\\\"font-variant:normal; font-size: 10pt;\\\">You have had many a thought of it, and bestowed many a day's labour for it, and yet do you not know it? O but you never saw it for all this? Answ. It is a spiritual Blessedness that Flesh and Blood can neither enjoy nor see: But <span style=\\\"font-weight:bold;\\\">by the eye of the Mind </span>you have often seen, at least some glimpse of it; You know that it is the present intuition and full fruition of God himself and your glorified Redeemer with his blessed Angels and Saints in perfect Love, and Joy, and Praise. And if you know this, you are not altogether Strangers to Heaven.</div>\\n            </div>\\n            \",\"\\n            <div style=\\\"margin-left:2em\\\">\\n                <span style=\\\"font-variant:small-caps; font-size: 14pt;\\\">Thierry, King of France, and His Brother Theodoret (1617)</style>\\n                <span style=\\\"float:right; font-size: 10pt;\\\">query: Illo, ho, ho, my lord</span>\\n                <hr>\\n                <div style=\\\"font-variant:normal; font-size: 10pt;\\\">[Devitry:] Here Sir, here, I could beat my brains out, that could not think of boots, boots Sir, wide-topped boots, I shall love them the better whilst I live; but are you sure your Jewels are here Sir? [Protaldye:] Sure sayst thou? ha, ha, ha. [Devitry:] <span style=\\\"font-weight:bold;\\\">So ho, illo ho. </span>[Soldiers within] Here Captain. here. [Protaldye:] 'Foot what do you mean Sir? (Enter Soldiers.) [Devitry:] A trick to boot, say you; here you dull slaves, purchase, purchase the soul of the Rock, Diamonds, sparkling Diamonds.</div>\\n            </div>\\n            \",\"\\n            <div style=\\\"margin-left:2em\\\">\\n                <span style=\\\"font-variant:small-caps; font-size: 14pt;\\\">The Roaring Girl (1611)</style>\\n                <span style=\\\"float:right; font-size: 10pt;\\\">query: springes to catch woodcocks</span>\\n                <hr>\\n                <div style=\\\"font-variant:normal; font-size: 10pt;\\\">[Sir Davy:] Here's the spring I ha' set to catch this woodcock in: an action In a false name - unknown to him - is entered. I'th' counter to arrest Jack Dapper.</div>\\n            </div>\\n            \",\"\\n            <div style=\\\"margin-left:2em\\\">\\n                <span style=\\\"font-variant:small-caps; font-size: 14pt;\\\">Five Love Letters from a Nun to a Cavalier (1678)</style>\\n                <span style=\\\"float:right; font-size: 10pt;\\\">query: The rest is silence.</span>\\n                <hr>\\n                <div style=\\\"font-variant:normal; font-size: 10pt;\\\">And I dare assure you that it will not be the worse for you neither, if you never set your heart upon any other woman: for certainly a Passion under the degree of mine, will never content you: You may find more Beauty perhaps elswhere (tho' the time was when you found no fault with mine) but you shall never meet with so true a heart; <span style=\\\"font-weight:bold;\\\">and all the rest is nothing.</span></div>\\n            </div>\\n            \",\"\\n            <div style=\\\"margin-left:2em\\\">\\n                <span style=\\\"font-variant:small-caps; font-size: 14pt;\\\">The Rich Cabinet, or Galateo (1616)</style>\\n                <span style=\\\"float:right; font-size: 10pt;\\\">query: pampered jades of Asia</span>\\n                <hr>\\n                <div style=\\\"font-variant:normal; font-size: 10pt;\\\">Idle Bees gather no honey, and so become drones to rob the hive: thus are <span style=\\\"font-weight:bold;\\\">pampered jades unapt to travel, </span>and lazy rogues unwilling to work.</div>\\n            </div>\\n            \",\"\\n            <div style=\\\"margin-left:2em\\\">\\n                <span style=\\\"font-variant:small-caps; font-size: 14pt;\\\">Ram Alley (1608)</style>\\n                <span style=\\\"float:right; font-size: 10pt;\\\">query: thereby hangs a tale</span>\\n                <hr>\\n                <div style=\\\"font-variant:normal; font-size: 10pt;\\\">[Sir Oliver Smallshank:] We old men have our crotchets, our conundrums, Our fegares, quirks and quibibles, As well as youth, Justice Tutchim I go To hunt no Buck, but prick a lusty Doe, I go in truth a wooing. [Justice Tutchin:] Then ride with me, I'll bring you to my sister Somerfield. [Sir Oliver Smallshank:] Justice not so: by her there hangs a Tale.</div>\\n            </div>\\n            \",\"\\n            <div style=\\\"margin-left:2em\\\">\\n                <span style=\\\"font-variant:small-caps; font-size: 14pt;\\\">The New Academy, or The New Exchange (1636)</style>\\n                <span style=\\\"float:right; font-size: 10pt;\\\">query: an old man is twice a child</span>\\n                <hr>\\n                <div style=\\\"font-variant:normal; font-size: 10pt;\\\">[Ephraim:] But sir, beware you fall not back again Into your childish follies: but go forwards In manly actions, for <span style=\\\"font-weight:bold;\\\">non progredi id est regredi.</span> [Nehemiah:] I know the meaning of that too, Ephraim: that's once a man and twice a child. But if I turn child again, while I have teeth in my head, I'll give Mistress Blith leave to dig 'em out with sugar plums, as she almost did these two of 'em yesterday, with her knuckles.</div>\\n            </div>\\n            \",\"\\n            <div style=\\\"margin-left:2em\\\">\\n                <span style=\\\"font-variant:small-caps; font-size: 14pt;\\\">Cordila (1574)</style>\\n                <span style=\\\"float:right; font-size: 10pt;\\\">query: an old man is twice a child</span>\\n                <hr>\\n                <div style=\\\"font-variant:normal; font-size: 10pt;\\\">Yet nevertheless, my father did me not mislike: But age so simple is, and easy to subdue: As childhood weak, that's void of wit and reason quite: They think there's nought, you flatter feigned, but all is true: <span style=\\\"font-weight:bold;\\\">Once old and twice a child,</span> 'tis said with you, Which I affirm by proof, that was defined: In age my father had a childish mind.</div>\\n            </div>\\n            \",\"\\n            <div style=\\\"margin-left:2em\\\">\\n                <span style=\\\"font-variant:small-caps; font-size: 14pt;\\\">The Battle of Alcazar (1588)</style>\\n                <span style=\\\"float:right; font-size: 10pt;\\\">query: a horse, a horse, my kingdom for a horse</span>\\n                <hr>\\n                <div style=\\\"font-variant:normal; font-size: 10pt;\\\">[Muly Mahamet:] Villain, <span style=\\\"font-weight:bold;\\\">a horse.</span> [Boy:] Oh my Lord, if you return you die. [Muly Mahamet:] Villain I say, give me a horse to fly, To swim the river villain, and to flie. [Muly Mahamet:] A horse, a horse, villain a horse, That I may take the river straight and fly.</div>\\n            </div>\\n            \",\"\\n            <div style=\\\"margin-left:2em\\\">\\n                <span style=\\\"font-variant:small-caps; font-size: 14pt;\\\">Doctor Faustus (1588)</style>\\n                <span style=\\\"float:right; font-size: 10pt;\\\">query: hell itself should gape</span>\\n                <hr>\\n                <div style=\\\"font-variant:normal; font-size: 10pt;\\\">[Faustus:] [...] My God, my God, look not so fierce on me. Adders and serpents, let me breathe awhile. <span style=\\\"font-weight:bold;\\\">Ugly hell, gape not</span>, come not, Lucifer! I'll burn my books. Ah, Mephistophilis!</div>\\n            </div>\\n            \",\"\\n            <div style=\\\"margin-left:2em\\\">\\n                <span style=\\\"font-variant:small-caps; font-size: 14pt;\\\">Titus Andronicus (1592)</style>\\n                <span style=\\\"float:right; font-size: 10pt;\\\">query: planets strike</span>\\n                <hr>\\n                <div style=\\\"font-variant:normal; font-size: 10pt;\\\">[Marcus:] Who is this? My niece, that flies away so fast? - Cousin, a word. Where is your husband? If I do dream, would all my wealth would wake me. If I do wake, <span style=\\\"font-weight:bold;\\\">some planet strike me down</span> That I may slumber an eternal sleep.</div>\\n            </div>\\n            \",\"\\n            <div style=\\\"margin-left:2em\\\">\\n                <span style=\\\"font-variant:small-caps; font-size: 14pt;\\\">Britain's Remembrancer (1628)</style>\\n                <span style=\\\"float:right; font-size: 10pt;\\\">query: sea of troubles</span>\\n                <hr>\\n                <div style=\\\"font-variant:normal; font-size: 10pt;\\\">Yet went I to his Work the furthest way: And, travelled, as mine own occasions lay. Which he perceiving, sent a Storm that crest me; Made shipwreck of my hopes; my labour lost me; Befooled my wisdom; of much joy bereft me; Within the <span style=\\\"font-weight:bold;\\\">Sea of many troubles</span> left me; And what with speed and ease I might have done At first; hath long with pain been lingered on.</div>\\n            </div>\\n            \",\"\\n            <div style=\\\"margin-left:2em\\\">\\n                <span style=\\\"font-variant:small-caps; font-size: 14pt;\\\">Macbeth, A Tragedy (1664)</style>\\n                <span style=\\\"float:right; font-size: 10pt;\\\">query: Illo, ho, ho, my lord</span>\\n                <hr>\\n                <div style=\\\"font-variant:normal; font-size: 10pt;\\\">[Maid:] Yes, I have heard stories, how some men Have in such lonely places been affrighted With dreadful shapes and noises. (Macduff hollows.) [Lady Macduff:] But hark, my lord sure hollows; 'Tis he; answer him quickly. [Servant:] <span style=\\\"font-weight:bold;\\\">Illo, ho, ho, ho. </span>(Enter Macduff.) [Lady Macduff:] Now I begin to see him: are you afoot, my Lord?</div>\\n            </div>\\n            \",\"\\n            <div style=\\\"margin-left:2em\\\">\\n                <span style=\\\"font-variant:small-caps; font-size: 14pt;\\\">A Sermon Preached at the Funeral of Mr. Henry Stubbs (1676)</style>\\n                <span style=\\\"float:right; font-size: 10pt;\\\">query: though this be madness, yet there is method in it</span>\\n                <hr>\\n                <div style=\\\"font-variant:normal; font-size: 10pt;\\\">The wonder of that Foreigner in Henry VIII's days, Deus bone quomodo hic vivunt gentes, that saw men killed for being Protestants, and for being Papists, was not so contradictory a subject as the Papists usage of the Saints, a stupendous instance of <span style=\\\"font-weight:bold;\\\">man's madness and Satan's methods</span>, that at the same time can rack, and burn, and Murder Saints, and yet Honour the Relics, Names and Memories of the Dead that were before them.</div>\\n            </div>\\n            \",\"\\n            <div style=\\\"margin-left:2em\\\">\\n                <span style=\\\"font-variant:small-caps; font-size: 14pt;\\\">To Alexis in Answer to His Poem against Fruition (1688)</style>\\n                <span style=\\\"float:right; font-size: 10pt;\\\">query: The rest is silence.</span>\\n                <hr>\\n                <div style=\\\"font-variant:normal; font-size: 10pt;\\\">Man! our great business and our aim, For whom we spread our fruitless snares, No sooner kindles the designing flame, But to the next bright object bears The Trophies of his conquest and our shame: Inconstancy's the good supreme <span style=\\\"font-weight:bold;\\\">The rest is airy Notion, </span>empty Dream!</div>\\n            </div>\\n            \",\"\\n            <div style=\\\"margin-left:2em\\\">\\n                <span style=\\\"font-variant:small-caps; font-size: 14pt;\\\">The Perfect-Cursed-Blessed Man (1628)</style>\\n                <span style=\\\"float:right; font-size: 10pt;\\\">query: hell itself should gape</span>\\n                <hr>\\n                <div style=\\\"font-variant:normal; font-size: 10pt;\\\">This Sin faln Man raise-up t'integrity, Or rase Me out from Heav'ns society. What though He sinned? alas He was but Earth! Though dead in Sin? thy Grace can give new birth! Though grieved with pains? O thou canst 'ford him ease! <span style=\\\"font-weight:bold;\\\">Though Hell gape for Him?</span> thou canst Hell appease! Thou mad'st Him Thee to bless eternally: But damned Souls curse everlastingly.</div>\\n            </div>\\n            \",\"\\n            <div style=\\\"margin-left:2em\\\">\\n                <span style=\\\"font-variant:small-caps; font-size: 14pt;\\\">The Little French Laywer (1620)</style>\\n                <span style=\\\"float:right; font-size: 10pt;\\\">query: a horse, a horse, my kingdom for a horse</span>\\n                <hr>\\n                <div style=\\\"font-variant:normal; font-size: 10pt;\\\">[Sampson:] [...] Look up brave friend, I have no means to rescue thee, <span style=\\\"font-weight:bold;\\\">my Kingdom for a sword.</span> [Champernell:] I'll sword you presently. I'll claw your skin-coat too.</div>\\n            </div>\\n            \",\"\\n            <div style=\\\"margin-left:2em\\\">\\n                <span style=\\\"font-variant:small-caps; font-size: 14pt;\\\">The Fatal Contract (1633)</style>\\n                <span style=\\\"float:right; font-size: 10pt;\\\">query: hell itself should gape</span>\\n                <hr>\\n                <div style=\\\"font-variant:normal; font-size: 10pt;\\\">[Clovis:] What is it, Eunuch? [...] Though death stood gaping wide to swallow me, I would not shrink nor fear.</div>\\n            </div>\\n            \",\"\\n            <div style=\\\"margin-left:2em\\\">\\n                <span style=\\\"font-variant:small-caps; font-size: 14pt;\\\">The Canterbury Tales (1387)</style>\\n                <span style=\\\"float:right; font-size: 10pt;\\\">query: In my mind's eye</span>\\n                <hr>\\n                <div style=\\\"font-variant:normal; font-size: 10pt;\\\">But yet never Christian Britons so exiled That there near some that in their privacy Honoured Christ and heathen folk beguiled And near the castle such there dwelt three. That one of hem was blind and might not see, But it were <span style=\\\"font-weight:bold;\\\">with the eye of their mind</span> With which men see, after that they [have] been blind.</div>\\n            </div>\\n            \",\"\\n            <div style=\\\"margin-left:2em\\\">\\n                <span style=\\\"font-variant:small-caps; font-size: 14pt;\\\">The Scourge of Villainy (1598)</style>\\n                <span style=\\\"float:right; font-size: 10pt;\\\">query: a horse, a horse, my kingdom for a horse</span>\\n                <hr>\\n                <div style=\\\"font-variant:normal; font-size: 10pt;\\\"><span style=\\\"font-weight:bold;\\\">A man, a man, a kingdom for a man! </span>Why, how now, currish, mad Athenian? Thou cynic dog, see'st not streets do swarm With troops of men?</div>\\n            </div>\\n            \",\"\\n            <div style=\\\"margin-left:2em\\\">\\n                <span style=\\\"font-variant:small-caps; font-size: 14pt;\\\">The Loyal Lovers (1652)</style>\\n                <span style=\\\"float:right; font-size: 10pt;\\\">query: sea of troubles</span>\\n                <hr>\\n                <div style=\\\"font-variant:normal; font-size: 10pt;\\\">[Adrastus:] Thanks, good Clarathea , for thy remembrance; For I had almost lost my self in joyes unspeakable. My dear Letesia , (so I dare call the now) Hast thou made choice of any course to steer in this Same <span style=\\\"font-weight:bold;\\\">sea of trouble, </span>mixt with joy?</div>\\n            </div>\\n            \",\"\\n            <div style=\\\"margin-left:2em\\\">\\n                <span style=\\\"font-variant:small-caps; font-size: 14pt;\\\">The Seven Champions of Christendom (1634)</style>\\n                <span style=\\\"float:right; font-size: 10pt;\\\">query: Illo, ho, ho, my lord</span>\\n                <hr>\\n                <div style=\\\"font-variant:normal; font-size: 10pt;\\\">[Calib the Witch:] Ha, ha, ha; and when will that be Tarpax? Vanish like smoke, my fear, come kiss me my Love, Thou hast earned thy breakfast Chuck; here suck thy fill. [Clown (within):] <span style=\\\"font-weight:bold;\\\">Illo ho, ho Illo.</span> [Tarpax:] What mortal's that disturbs us? Shall I blast him? [Calib the Witch:] Hold my Love, 'tis Suckabus our son; fall off.</div>\\n            </div>\\n            \",\"\\n            <div style=\\\"margin-left:2em\\\">\\n                <span style=\\\"font-variant:small-caps; font-size: 14pt;\\\">A Maidenhead Well Lost (1629)</style>\\n                <span style=\\\"float:right; font-size: 10pt;\\\">query: thereby hangs a tale</span>\\n                <hr>\\n                <div style=\\\"font-variant:normal; font-size: 10pt;\\\">[Clown:] I confess it; but whether you have served him well, or no, <span style=\\\"font-weight:bold;\\\">there hangs a Tale.</span></div>\\n            </div>\\n            \",\"\\n            <div style=\\\"margin-left:2em\\\">\\n                <span style=\\\"font-variant:small-caps; font-size: 14pt;\\\">Antonio's Revenge (1600)</style>\\n                <span style=\\\"float:right; font-size: 10pt;\\\">query: we will not carry coals</span>\\n                <hr>\\n                <div style=\\\"font-variant:normal; font-size: 10pt;\\\">[Balurdo:] [...] I were as he,<span style=\\\"font-weight:bold;\\\"> I would bear no coals</span>, law I, I begin to swell, puff.</div>\\n            </div>\\n            \",\"\\n            <div style=\\\"margin-left:2em\\\">\\n                <span style=\\\"font-variant:small-caps; font-size: 14pt;\\\">The Tears of an Affectionate Shepherd Sick for Love (1594)</style>\\n                <span style=\\\"float:right; font-size: 10pt;\\\">query: springes to catch woodcocks</span>\\n                <hr>\\n                <div style=\\\"font-variant:normal; font-size: 10pt;\\\">I have a fine bow, and an ivory arrow: And if thou miss, yet meat thou shalt lack, I'll hang a bag and bottle at thy back. Wilt thou set springs in a frosty Night, To catch the long-billed Woodcock and the Snipe? (By the bright glimmering of the Starry light) The Partridge, Phaesant, or the greedy Crype?</div>\\n            </div>\\n            \",\"\\n            <div style=\\\"margin-left:2em\\\">\\n                <span style=\\\"font-variant:small-caps; font-size: 14pt;\\\">Paradise Lost (1667)</style>\\n                <span style=\\\"float:right; font-size: 10pt;\\\">query: sea of troubles</span>\\n                <hr>\\n                <div style=\\\"font-variant:normal; font-size: 10pt;\\\">These were from without The growing miseries, which <span style=\\\"font-weight:bold;\\\">Adam </span>saw Already in part, though hid in gloomiest shade, To sorrow abandoned, but worse felt within, And in a troubled Sea of passion tossed, Thus to disburden sought with sad complaint [...].</div>\\n            </div>\\n            \",\"\\n            <div style=\\\"margin-left:2em\\\">\\n                <span style=\\\"font-variant:small-caps; font-size: 14pt;\\\">Tamburlaine Part 2 (1587)</style>\\n                <span style=\\\"float:right; font-size: 10pt;\\\">query: pampered jades of Asia</span>\\n                <hr>\\n                <div style=\\\"font-variant:normal; font-size: 10pt;\\\">[Tamburlaine:] [...] The <span style=\\\"font-weight:bold;\\\">headstrong jades of Thrace</span> [...] Alcides tamed, That King Aegeus fed with human flesh, And made so wanton that they knew their strengths, Were not subdued with valour more divine Than you by this unconquered arm of mine.</div>\\n            </div>\\n            \",\"\\n            <div style=\\\"margin-left:2em\\\">\\n                <span style=\\\"font-variant:small-caps; font-size: 14pt;\\\">The Geneva Bible (1560)</style>\\n                <span style=\\\"float:right; font-size: 10pt;\\\">query: O all you host of heaven!</span>\\n                <hr>\\n                <div style=\\\"font-variant:normal; font-size: 10pt;\\\">Then God turned himself away and gave them up to serve <span style=\\\"font-weight:bold;\\\">the host of heaven, </span>as it is written in the book of the Prophets [...].</div>\\n            </div>\\n            \",\"\\n            <div style=\\\"margin-left:2em\\\">\\n                <span style=\\\"font-variant:small-caps; font-size: 14pt;\\\">On the State of Matrimony (1571)</style>\\n                <span style=\\\"float:right; font-size: 10pt;\\\">query: frailty, thy name is woman</span>\\n                <hr>\\n                <div style=\\\"font-variant:normal; font-size: 10pt;\\\"><span style=\\\"font-weight:bold;\\\">The woman is a weak creature </span>[...] She is the weaker vessel, of a frail heat, inconstant [...]. The woman is the more frail part [...]. The woman is a frail vessel.</div>\\n            </div>\\n            \",\"\\n            <div style=\\\"margin-left:2em\\\">\\n                <span style=\\\"font-variant:small-caps; font-size: 14pt;\\\">May Day (1604)</style>\\n                <span style=\\\"float:right; font-size: 10pt;\\\">query: we will not carry coals</span>\\n                <hr>\\n                <div style=\\\"font-variant:normal; font-size: 10pt;\\\">[Quintiliano:] And yet take heed you swear by no man's beard but your own, for that may breed a quarrel; above all things <span style=\\\"font-weight:bold;\\\">you must carry no coals.</span></div>\\n            </div>\\n            \",\"\\n            <div style=\\\"margin-left:2em\\\">\\n                <span style=\\\"font-variant:small-caps; font-size: 14pt;\\\">The Golden Age (1611)</style>\\n                <span style=\\\"float:right; font-size: 10pt;\\\">query: I do bear a brain.</span>\\n                <hr>\\n                <div style=\\\"font-variant:normal; font-size: 10pt;\\\">[Clown:] [...] As I can bear a pack, so <span style=\\\"font-weight:bold;\\\">I can bear a brain </span>[...].</div>\\n            </div>\\n            \",\"\\n            <div style=\\\"margin-left:2em\\\">\\n                <span style=\\\"font-variant:small-caps; font-size: 14pt;\\\">Ovid's Metamorphoses (1567)</style>\\n                <span style=\\\"float:right; font-size: 10pt;\\\">query: The rest is silence.</span>\\n                <hr>\\n                <div style=\\\"font-variant:normal; font-size: 10pt;\\\">Instead of legs, to both her sides stick fingers long and fine: <span style=\\\"font-weight:bold;\\\">The rest is belly.</span></div>\\n            </div>\\n            \",\"\\n            <div style=\\\"margin-left:2em\\\">\\n                <span style=\\\"font-variant:small-caps; font-size: 14pt;\\\">The Spanish Tragedy (1587)</style>\\n                <span style=\\\"float:right; font-size: 10pt;\\\">query: go, by Saint Hieronimo</span>\\n                <hr>\\n                <div style=\\\"font-variant:normal; font-size: 10pt;\\\">[King:] Who is he that interrupts our business? [Hieronimo:] Not I. (Aside) <span style=\\\"font-weight:bold;\\\">Hieronimo, beware, go by, go by.</span></div>\\n            </div>\\n            \",\"\\n            <div style=\\\"margin-left:2em\\\">\\n                <span style=\\\"font-variant:small-caps; font-size: 14pt;\\\">A Fig for Fortune (1596)</style>\\n                <span style=\\\"float:right; font-size: 10pt;\\\">query: The rest is silence.</span>\\n                <hr>\\n                <div style=\\\"font-variant:normal; font-size: 10pt;\\\">[Catechysius the Hermit:] Now all is but the action of the Mind, That rectified, <span style=\\\"font-weight:bold;\\\">the rest is all but wind.</span></div>\\n            </div>\\n            \",\"\\n            <div style=\\\"margin-left:2em\\\">\\n                <span style=\\\"font-variant:small-caps; font-size: 14pt;\\\">Ram Alley (1608)</style>\\n                <span style=\\\"float:right; font-size: 10pt;\\\">query: I do bear a brain.</span>\\n                <hr>\\n                <div style=\\\"font-variant:normal; font-size: 10pt;\\\">[Throat:] [...] Dash, <span style=\\\"font-weight:bold;\\\">we must bear some brain </span>to St. John's street, go, run, fly: and afar off enquire [...].</div>\\n            </div>\\n            \",\"\\n            <div style=\\\"margin-left:2em\\\">\\n                <span style=\\\"font-variant:small-caps; font-size: 14pt;\\\">The Winter's Tale (1611)</style>\\n                <span style=\\\"float:right; font-size: 10pt;\\\">query: planets strike</span>\\n                <hr>\\n                <div style=\\\"font-variant:normal; font-size: 10pt;\\\">[Leontes:] [...] Physic for 't there's none. It is <span style=\\\"font-weight:bold;\\\">a bawdy planet, that will strike</span> Where 'tis predominant; and 'tis powerful, think it, From east, west, north, and south.</div>\\n            </div>\\n            \",\"\\n            <div style=\\\"margin-left:2em\\\">\\n                <span style=\\\"font-variant:small-caps; font-size: 14pt;\\\">Blurt, Master Constable (1601)</style>\\n                <span style=\\\"float:right; font-size: 10pt;\\\">query: go, by Saint Hieronimo</span>\\n                <hr>\\n                <div style=\\\"font-variant:normal; font-size: 10pt;\\\">[Simperina:] <span style=\\\"font-weight:bold;\\\">Go from my window go, go from, and away, go by old Hieronimo</span>; nay and you shrink i'th wetting, walk, walk, walk.</div>\\n            </div>\\n            \",\"\\n            <div style=\\\"margin-left:2em\\\">\\n                <span style=\\\"font-variant:small-caps; font-size: 14pt;\\\">Henry V (1599)</style>\\n                <span style=\\\"float:right; font-size: 10pt;\\\">query: we will not carry coals</span>\\n                <hr>\\n                <div style=\\\"font-variant:normal; font-size: 10pt;\\\">[Boy:] [...] Nym and Bardolph are sworn brothers in filching, and in Calais they stole a fire shovel. I knew by that piece of service the men would <span style=\\\"font-weight:bold;\\\">carry coals.</span></div>\\n            </div>\\n            \",\"\\n            <div style=\\\"margin-left:2em\\\">\\n                <span style=\\\"font-variant:small-caps; font-size: 14pt;\\\">The Captain (1612)</style>\\n                <span style=\\\"float:right; font-size: 10pt;\\\">query: go, by Saint Hieronimo</span>\\n                <hr>\\n                <div style=\\\"font-variant:normal; font-size: 10pt;\\\">[Fabritio:] [...] And call thee bloody bones, and Spade, and Spitfire, And Gaffer Madman; <span style=\\\"font-weight:bold;\\\">and go by Hieronimo</span>, And will with wisp and come aloft, and crack rope, And old Saint Dennis with the dudgeon Codpiece: And twenty such names.</div>\\n            </div>\\n            \",\"\\n            <div style=\\\"margin-left:2em\\\">\\n                <span style=\\\"font-variant:small-caps; font-size: 14pt;\\\">May Day (1604)</style>\\n                <span style=\\\"float:right; font-size: 10pt;\\\">query: we will not carry coals</span>\\n                <hr>\\n                <div style=\\\"font-variant:normal; font-size: 10pt;\\\">[Quintiliano:] Why sir, because I entertained this Gentleman for my Antient, (being my dear friend and an excellent scholar) he takes pepper ith' nose and sneezes it out upon my Antient; now sir <span style=\\\"font-weight:bold;\\\">(he being of an uncoal-carrying spirit)</span> falls foul on him, calls him gull openly [...].</div>\\n            </div>\\n            \",\"\\n            <div style=\\\"margin-left:2em\\\">\\n                <span style=\\\"font-variant:small-caps; font-size: 14pt;\\\">The Poor Man's Comfort (1616)</style>\\n                <span style=\\\"float:right; font-size: 10pt;\\\">query: Illo, ho, ho, my lord</span>\\n                <hr>\\n                <div style=\\\"font-variant:normal; font-size: 10pt;\\\">[Sigismond:] <span style=\\\"font-weight:bold;\\\">Ho! illo, illo, illo. </span>[Cazzo:] The game's not up yet Sir. I think some gelder had a hand in the getting of him, he understands no language but the horn.</div>\\n            </div>\\n            \",\"\\n            <div style=\\\"margin-left:2em\\\">\\n                <span style=\\\"font-variant:small-caps; font-size: 14pt;\\\">The Fatal Jealousy (1672)</style>\\n                <span style=\\\"float:right; font-size: 10pt;\\\">query: though this be madness, yet there is method in it</span>\\n                <hr>\\n                <div style=\\\"font-variant:normal; font-size: 10pt;\\\">[Don Gerardo:] These Actions sure did seem a perfect madness. [Servant:] It seemed indeed <span style=\\\"font-weight:bold;\\\">a madness methodized</span>, Like theirs who are Transported far with Passion.</div>\\n            </div>\\n            \",\"\\n            <div style=\\\"margin-left:2em\\\">\\n                <span style=\\\"font-variant:small-caps; font-size: 14pt;\\\">Ovid's Metamorphoses (1567)</style>\\n                <span style=\\\"float:right; font-size: 10pt;\\\">query: pampered jades of Asia</span>\\n                <hr>\\n                <div style=\\\"font-variant:normal; font-size: 10pt;\\\">What? is it I that did behold <span style=\\\"font-weight:bold;\\\">the pampered Jades of Thrace</span> With Mangers full of flesh of men on which they fed apace? Ist I that down at sight thereof their greasy Mangers threw, And both the fatted Jades themselves and eke their master slew?</div>\\n            </div>\\n            \",\"\\n            <div style=\\\"margin-left:2em\\\">\\n                <span style=\\\"font-variant:small-caps; font-size: 14pt;\\\">The Roman Actor (1626)</style>\\n                <span style=\\\"float:right; font-size: 10pt;\\\">query: All the world's a stage</span>\\n                <hr>\\n                <div style=\\\"font-variant:normal; font-size: 10pt;\\\">[Aretinus:] Are you on <span style=\\\"font-weight:bold;\\\">the stage,</span> You talk so boldly? [Paris:] The whole world being one This place is not exempted [...].</div>\\n            </div>\\n            \",\"\\n            <div style=\\\"margin-left:2em\\\">\\n                <span style=\\\"font-variant:small-caps; font-size: 14pt;\\\">Law-Tricks (1604)</style>\\n                <span style=\\\"float:right; font-size: 10pt;\\\">query: we will not carry coals</span>\\n                <hr>\\n                <div style=\\\"font-variant:normal; font-size: 10pt;\\\">[Lurdo:] [...] <span style=\\\"font-weight:bold;\\\">I'll carry coals and you will, </span>no horns, I know the law.</div>\\n            </div>\\n            \",\"\\n            <div style=\\\"margin-left:2em\\\">\\n                <span style=\\\"font-variant:small-caps; font-size: 14pt;\\\">Satiromastix, or The Untrussing of the Humorous Poet (1601)</style>\\n                <span style=\\\"float:right; font-size: 10pt;\\\">query: go, by Saint Hieronimo</span>\\n                <hr>\\n                <div style=\\\"font-variant:normal; font-size: 10pt;\\\">[Tucca:] <span style=\\\"font-weight:bold;\\\">Go by Hieronimo, go by</span>; and here, drop the ten shillings into this basin; do, drop, when Jack?</div>\\n            </div>\\n            \",\"\\n            <div style=\\\"margin-left:2em\\\">\\n                <span style=\\\"font-variant:small-caps; font-size: 14pt;\\\">The Devil of a Wife (1686)</style>\\n                <span style=\\\"float:right; font-size: 10pt;\\\">query: though this be madness, yet there is method in it</span>\\n                <hr>\\n                <div style=\\\"font-variant:normal; font-size: 10pt;\\\">[Rowland:] Methought <span style=\\\"font-weight:bold;\\\">there was a Method in her madness, </span>she did not know herself i'th Glass.</div>\\n            </div>\\n            \",\"\\n            <div style=\\\"margin-left:2em\\\">\\n                <span style=\\\"font-variant:small-caps; font-size: 14pt;\\\">The Geneva Bible (1560)</style>\\n                <span style=\\\"float:right; font-size: 10pt;\\\">query: O all you host of heaven!</span>\\n                <hr>\\n                <div style=\\\"font-variant:normal; font-size: 10pt;\\\">Thou art Lord alone: thou hast made heaven, and <span style=\\\"font-weight:bold;\\\">the heaven of all heavens, with all their host, </span>the earth, and all things that are therein, the seas, and all that are in them, and thou preservest them all, and the host of the heaven worshippeth thee.</div>\\n            </div>\\n            \",\"\\n            <div style=\\\"margin-left:2em\\\">\\n                <span style=\\\"font-variant:small-caps; font-size: 14pt;\\\">The Poor Man's Comfort (1616)</style>\\n                <span style=\\\"float:right; font-size: 10pt;\\\">query: a horse, a horse, my kingdom for a horse</span>\\n                <hr>\\n                <div style=\\\"font-variant:normal; font-size: 10pt;\\\">[Sigismond:] [...] but where is Europa? See where she swims away upon a bull's back; <span style=\\\"font-weight:bold;\\\">my kingdom for a boat, for a muscle boat; </span>lay more sails on!</div>\\n            </div>\\n            \",\"\\n            <div style=\\\"margin-left:2em\\\">\\n                <span style=\\\"font-variant:small-caps; font-size: 14pt;\\\">King Lear (1605)</style>\\n                <span style=\\\"float:right; font-size: 10pt;\\\">query: livers white as milk</span>\\n                <hr>\\n                <div style=\\\"font-variant:normal; font-size: 10pt;\\\">[Kent:] [...] a<span style=\\\"font-weight:bold;\\\"> lily-livered,</span> action-taking, whoreson, glass-gazing [...] the composition of a knave, beggar, coward, pander, and the son and heir of a mongrel bitch.</div>\\n            </div>\\n            \",\"\\n            <div style=\\\"margin-left:2em\\\">\\n                <span style=\\\"font-variant:small-caps; font-size: 14pt;\\\">The Fawn, or Parasitaster (1605)</style>\\n                <span style=\\\"float:right; font-size: 10pt;\\\">query: I do bear a brain.</span>\\n                <hr>\\n                <div style=\\\"font-variant:normal; font-size: 10pt;\\\">[Gonzago:] [...] is't not well thought my Lord, <span style=\\\"font-weight:bold;\\\">we must bear brain </span>[...]</div>\\n            </div>\\n            \",\"\\n            <div style=\\\"margin-left:2em\\\">\\n                <span style=\\\"font-variant:small-caps; font-size: 14pt;\\\">The Bishop's Bible (1568)</style>\\n                <span style=\\\"float:right; font-size: 10pt;\\\">query: hell itself should gape</span>\\n                <hr>\\n                <div style=\\\"font-variant:normal; font-size: 10pt;\\\">Therefore <span style=\\\"font-weight:bold;\\\">gapeth hell and openeth her mouth marvellous wide, </span>that their glory, multitude, and wealth, with such as rejoice in her, may descend into it.</div>\\n            </div>\\n            \",\"\\n            <div style=\\\"margin-left:2em\\\">\\n                <span style=\\\"font-variant:small-caps; font-size: 14pt;\\\">The Dutch Courtesan (1604)</style>\\n                <span style=\\\"float:right; font-size: 10pt;\\\">query: I do bear a brain.</span>\\n                <hr>\\n                <div style=\\\"font-variant:normal; font-size: 10pt;\\\">[Mrs. Mulligrub:] [...] <span style=\\\"font-weight:bold;\\\">nay and I bear not a brain </span>[...].</div>\\n            </div>\\n            \",\"\\n            <div style=\\\"margin-left:2em\\\">\\n                <span style=\\\"font-variant:small-caps; font-size: 14pt;\\\">The Atheist's Tragedy (1610)</style>\\n                <span style=\\\"float:right; font-size: 10pt;\\\">query: planets strike</span>\\n                <hr>\\n                <div style=\\\"font-variant:normal; font-size: 10pt;\\\">[D'Amville:] With an amazement behold thine error and <span style=\\\"font-weight:bold;\\\">be planet struck.</span></div>\\n            </div>\\n            \",\"\\n            <div style=\\\"margin-left:2em\\\">\\n                <span style=\\\"font-variant:small-caps; font-size: 14pt;\\\">The Fawn, or Parasitaster (1605)</style>\\n                <span style=\\\"float:right; font-size: 10pt;\\\">query: a horse, a horse, my kingdom for a horse</span>\\n                <hr>\\n                <div style=\\\"font-variant:normal; font-size: 10pt;\\\">[Don Zuccone:] [...] <span style=\\\"font-weight:bold;\\\">A fool, a fool, a fool! my Coxcomb for a fool!</span></div>\\n            </div>\\n            \",\"\\n            <div style=\\\"margin-left:2em\\\">\\n                <span style=\\\"font-variant:small-caps; font-size: 14pt;\\\">Coriolanus (1608)</style>\\n                <span style=\\\"float:right; font-size: 10pt;\\\">query: planets strike</span>\\n                <hr>\\n                <div style=\\\"font-variant:normal; font-size: 10pt;\\\">[Cominius:] [...] Alone he entered The mortal gate o' th' city, which he painted With shunless destiny; aidless came off And with a sudden reinforcement struck Corioles like a planet.</div>\\n            </div>\\n            \",\"\\n            <div style=\\\"margin-left:2em\\\">\\n                <span style=\\\"font-variant:small-caps; font-size: 14pt;\\\">Eastward Ho! (1605)</style>\\n                <span style=\\\"float:right; font-size: 10pt;\\\">query: a horse, a horse, my kingdom for a horse</span>\\n                <hr>\\n                <div style=\\\"font-variant:normal; font-size: 10pt;\\\">[Security:] [...] <span style=\\\"font-weight:bold;\\\">A boat, a boat, a boat, a full hundred Marks for a boat.</span></div>\\n            </div>\\n            \",\"\\n            <div style=\\\"margin-left:2em\\\">\\n                <span style=\\\"font-variant:small-caps; font-size: 14pt;\\\">The Garland or Chaplet of Laurel (1568)</style>\\n                <span style=\\\"float:right; font-size: 10pt;\\\">query: thereby hangs a tale</span>\\n                <hr>\\n                <div style=\\\"font-variant:normal; font-size: 10pt;\\\">Yet, though I say it, <span style=\\\"font-weight:bold;\\\">thereby lieth a tale</span> [...].</div>\\n            </div>\\n            \",\"\\n            <div style=\\\"margin-left:2em\\\">\\n                <span style=\\\"font-variant:small-caps; font-size: 14pt;\\\">Every Man Out of His Humour (1599)</style>\\n                <span style=\\\"float:right; font-size: 10pt;\\\">query: we will not carry coals</span>\\n                <hr>\\n                <div style=\\\"font-variant:normal; font-size: 10pt;\\\">[Puntarvolo:] [...] Here comes one that will <span style=\\\"font-weight:bold;\\\">carry coals</span>; ergo, will hold my dog [...].</div>\\n            </div>\\n            \",\"\\n            <div style=\\\"margin-left:2em\\\">\\n                <span style=\\\"font-variant:small-caps; font-size: 14pt;\\\">Henry IV Part 2 (1597)</style>\\n                <span style=\\\"float:right; font-size: 10pt;\\\">query: livers white as milk</span>\\n                <hr>\\n                <div style=\\\"font-variant:normal; font-size: 10pt;\\\">[Falstaff:] [...] left the liver white and pale, which is the badge of pusillanimity and cowardice.</div>\\n            </div>\\n            \",\"\\n            <div style=\\\"margin-left:2em\\\">\\n                <span style=\\\"font-variant:small-caps; font-size: 14pt;\\\">On the State of Matrimony (1571)</style>\\n                <span style=\\\"float:right; font-size: 10pt;\\\">query: sea of troubles</span>\\n                <hr>\\n                <div style=\\\"font-variant:normal; font-size: 10pt;\\\">So shall we passe through the dangers of <span style=\\\"font-weight:bold;\\\">the troublous sea </span>of this world</div>\\n            </div>\\n            \",\"\\n            <div style=\\\"margin-left:2em\\\">\\n                <span style=\\\"font-variant:small-caps; font-size: 14pt;\\\">Damon and Pythias (Edwards) (1564)</style>\\n                <span style=\\\"float:right; font-size: 10pt;\\\">query: All the world's a stage</span>\\n                <hr>\\n                <div style=\\\"font-variant:normal; font-size: 10pt;\\\">[Damon:] [...] <span style=\\\"font-weight:bold;\\\">Pythagoras </span>said that this world was like a stage Whereon many play their parts.</div>\\n            </div>\\n            \",\"\\n            <div style=\\\"margin-left:2em\\\">\\n                <span style=\\\"font-variant:small-caps; font-size: 14pt;\\\">The Malcontent (1603)</style>\\n                <span style=\\\"float:right; font-size: 10pt;\\\">query: we will not carry coals</span>\\n                <hr>\\n                <div style=\\\"font-variant:normal; font-size: 10pt;\\\">[Malevole:] Great slaves fear better than love, born naturally for <span style=\\\"font-weight:bold;\\\">a coal-basket</span> [...].</div>\\n            </div>\\n            \",\"\\n            <div style=\\\"margin-left:2em\\\">\\n                <span style=\\\"font-variant:small-caps; font-size: 14pt;\\\">The Book of Common Prayer (1562)</style>\\n                <span style=\\\"float:right; font-size: 10pt;\\\">query: sea of troubles</span>\\n                <hr>\\n                <div style=\\\"font-variant:normal; font-size: 10pt;\\\">[...] May so pass <span style=\\\"font-weight:bold;\\\">the waves of this troublesome world</span> [...].</div>\\n            </div>\\n            \",\"\\n            <div style=\\\"margin-left:2em\\\">\\n                <span style=\\\"font-variant:small-caps; font-size: 14pt;\\\">Hamlet (1600)</style>\\n                <span style=\\\"float:right; font-size: 10pt;\\\">query: livers white as milk</span>\\n                <hr>\\n                <div style=\\\"font-variant:normal; font-size: 10pt;\\\">[Hamlet:] [...] <span style=\\\"font-weight:bold;\\\">But I am pigeon-livered and lack gall </span>[...].</div>\\n            </div>\\n            \",\"\\n            <div style=\\\"margin-left:2em\\\">\\n                <span style=\\\"font-variant:small-caps; font-size: 14pt;\\\">The Atheist's Tragedy (1610)</style>\\n                <span style=\\\"float:right; font-size: 10pt;\\\">query: O all you host of heaven!</span>\\n                <hr>\\n                <div style=\\\"font-variant:normal; font-size: 10pt;\\\">[D'Amville:] Now<span style=\\\"font-weight:bold;\\\"> all the host of heaven </span>forbid!</div>\\n            </div>\\n            \",\"\\n            <div style=\\\"margin-left:2em\\\">\\n                <span style=\\\"font-variant:small-caps; font-size: 14pt;\\\">King Lear (1605)</style>\\n                <span style=\\\"float:right; font-size: 10pt;\\\">query: though this be madness, yet there is method in it</span>\\n                <hr>\\n                <div style=\\\"font-variant:normal; font-size: 10pt;\\\">[Edgar:] O, matter and impertinency mixed, <span style=\\\"font-weight:bold;\\\">Reason in madness!</span></div>\\n            </div>\\n            \",\"\\n            <div style=\\\"margin-left:2em\\\">\\n                <span style=\\\"font-variant:small-caps; font-size: 14pt;\\\">Sententiae Pueriles (1540)</style>\\n                <span style=\\\"float:right; font-size: 10pt;\\\">query: an old man is twice a child</span>\\n                <hr>\\n                <div style=\\\"font-variant:normal; font-size: 10pt;\\\">Old Men are twice Children. Bis pueri senes.</div>\\n            </div>\\n            \"]},\"selected\":{\"id\":\"6484\"},\"selection_policy\":{\"id\":\"6483\"}},\"id\":\"6236\",\"type\":\"ColumnDataSource\"}],\"root_ids\":[\"6215\"]},\"title\":\"Bokeh Application\",\"version\":\"2.3.0\"}};\n",
       "  var render_items = [{\"docid\":\"134cb643-9893-4767-acda-57ad95845248\",\"notebook_comms_target\":\"6485\",\"root_ids\":[\"6215\"],\"roots\":{\"6215\":\"d15a1101-3b15-4e07-ab04-ede9a3509762\"}}];\n",
       "  root.Bokeh.embed.embed_items_notebook(docs_json, render_items);\n",
       "\n",
       "  }\n",
       "  if (root.Bokeh !== undefined) {\n",
       "    embed_document(root);\n",
       "  } else {\n",
       "    var attempts = 0;\n",
       "    var timer = setInterval(function(root) {\n",
       "      if (root.Bokeh !== undefined) {\n",
       "        clearInterval(timer);\n",
       "        embed_document(root);\n",
       "      } else {\n",
       "        attempts++;\n",
       "        if (attempts > 100) {\n",
       "          clearInterval(timer);\n",
       "          console.log(\"Bokeh: ERROR: Unable to run BokehJS code because BokehJS library is missing\");\n",
       "        }\n",
       "      }\n",
       "    }, 10, root)\n",
       "  }\n",
       "})(window);"
      ],
      "application/vnd.bokehjs_exec.v0+json": ""
     },
     "metadata": {
      "application/vnd.bokehjs_exec.v0+json": {
       "id": "6215"
      }
     },
     "output_type": "display_data"
    },
    {
     "data": {
      "application/vnd.jupyter.widget-view+json": {
       "model_id": "5a2f67b9a19e4e3e8328d5c8a38080b4",
       "version_major": 2,
       "version_minor": 0
      },
      "text/plain": [
       "VBox(children=(IntSlider(value=1, description='query', max=20, min=1), HBox(children=(ToggleButtons(options=('…"
      ]
     },
     "metadata": {},
     "output_type": "display_data"
    }
   ],
   "source": [
    "nbutils.interact_plot(session, nlp, nbutils.ResultScoresPlotter(gold), partition_encoders={\n",
    "    sbert_encoder_name: sbert_encoder\n",
    "})"
   ]
  },
  {
   "cell_type": "markdown",
   "id": "e23c05c8-31e3-4736-8312-687f48bfc884",
   "metadata": {},
   "source": [
    "# Literaturliste\n",
    "\n",
    "Pennington, Jeffrey, et al. “Glove: Global Vectors for Word Representation.” Proceedings of the 2014 Conference on Empirical Methods in Natural Language Processing (EMNLP), Association for Computational Linguistics, 2014, pp. 1532–43. DOI.org (Crossref), doi:10.3115/v1/D14-1162.\n",
    "\n",
    "Mikolov, Tomas, et al. “Advances in Pre-Training Distributed Word Representations.” ArXiv:1712.09405 [Cs], Dec. 2017. arXiv.org, http://arxiv.org/abs/1712.09405.\n",
    "\n",
    "Speer, Robyn, et al. “ConceptNet 5.5: An Open Multilingual Graph of General Knowledge.” ArXiv:1612.03975 [Cs], Dec. 2018. arXiv.org, http://arxiv.org/abs/1612.03975.\n",
    "\n",
    "Reimers, Nils, and Iryna Gurevych. “Sentence-BERT: Sentence Embeddings Using Siamese BERT-Networks.” ArXiv:1908.10084 [Cs], Aug. 2019. arXiv.org, http://arxiv.org/abs/1908.10084."
   ]
  }
 ],
 "metadata": {
  "kernelspec": {
   "display_name": "Python 3",
   "language": "python",
   "name": "python3"
  },
  "language_info": {
   "codemirror_mode": {
    "name": "ipython",
    "version": 3
   },
   "file_extension": ".py",
   "mimetype": "text/x-python",
   "name": "python",
   "nbconvert_exporter": "python",
   "pygments_lexer": "ipython3",
   "version": "3.8.8"
  }
 },
 "nbformat": 4,
 "nbformat_minor": 5
}
