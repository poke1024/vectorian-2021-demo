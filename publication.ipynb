{
 "cells": [
  {
   "cell_type": "markdown",
   "id": "190bc476",
   "metadata": {},
   "source": [
    "# “Embed, embed! There’s knocking at the gate.”\n",
    "## Detecting Intertextuality with Embeddings and the Vectorian\n",
    "\n",
    "<i>Bernhard Liebl & Manuel Burghardt <br>\n",
    "    Computational Humanities Group, Leipzig University</i>\n",
    "\n",
    "## Table of Contents\n",
    "\n",
    "* [1. Introduction](#section_1)\n",
    "    * [1.1 Enter: word embeddings](#section_1_1)\n",
    "    * [1.2 Outline of the notebook](#section_1_2)\n",
    "    * [1.3 Technical setup](#section_1_3)\n",
    "* [2. Data and Tools](#section_2)\n",
    "    * [2.1 Introducing the gold standard dataset](#section_2_1)\n",
    "    * [2.2 Overview of different types of embeddings](#section_2_2)\n",
    "    * [2.3 \"Shapespeare in the Vectorian Age\" – Meet the Vectorian framework](#section_2_3)\n",
    "        * [2.3.1 Loading word embeddings](#section_2_3_1)\n",
    "        * [2.3.2 Creating the session](#section_2_3_2)\n",
    "* [3. Embeddings as a tool for intertextuality research](#section_3)\n",
    "    * [3.1  Exploring word embeddings](#section_3_1)\n",
    "        * [3.1.1 An introduction to word embeddings and token similarity](#section_3_1_1)\n",
    "        * [3.1.2 Detecting Shakespearean intertextuality through word embeddings](#section_3_1_2)\n",
    "    * [3.2 Exploring document embeddings](#section_3_2)\n",
    "    * [3.3 Exploring word mappings: WSB vs. WMD](#section_3_3)\n",
    "        * [3.3.1 Mapping quote queries to longer text documents](#section_3_3_1)\n",
    "        * [3.3.2 Evaluation: Plotting the nDCG over the corpus](#section_3_3_2)\n",
    "        * [3.3.3 Focussing on single queries](#section_3_3_3)\n",
    "    * [3.4 The influence of different embeddings](#section_3_4)\n",
    "* [4. Conclusion](#section_4)\n",
    "* [5. Interactive searches with your own data](#section_5)\n",
    "* [6. References](#section_6)\n"
   ]
  },
  {
   "cell_type": "markdown",
   "id": "55a187a5",
   "metadata": {},
   "source": [
    "# 1. Introduction <a class=\"anchor\" id=\"section_1\"></a>"
   ]
  },
  {
   "cell_type": "markdown",
   "id": "08900f82",
   "metadata": {},
   "source": [
    "The detection of intertextual references in text corpora is a digital humanities topic that has gained a lot of attention in recent years (for instance Bamman & Crane, 2008; Burghardt et al., 2019; Büchler et al., 2013; Forstall et al., 2015; Scheirer et al., 2014). While intertextuality – from a literary studies perspective – describes the phenomenon of one text being present in another text (cf. Genette, 1993), the computational problem at hand is the task of text similarity detection (Bär et al., 2012), and more concretely, semantic similarity detection. "
   ]
  },
  {
   "cell_type": "markdown",
   "id": "931e786e",
   "metadata": {},
   "source": [
    "In the following example of Shakespearean intertextuality, the words *bleed* and *leak* are semantically (and phonetically) similar, demonstrating that *Star Trek* here is quoting Shakespeare without any doubt: \n",
    "\n",
    "> Shylock: If you prick *us*, do *we* not **bleed**. <br>\n",
    "(Shakespeare; The Merchant of Venice)\n",
    "\n",
    "> Data: If you prick *me*, do *I* not **leak**. <br>\n",
    "(Star Trek: The Next Generation; The Measure of a Man)"
   ]
  },
  {
   "cell_type": "markdown",
   "id": "d93736f9",
   "metadata": {},
   "source": [
    "## 1.1 Enter: word embeddings <a class=\"anchor\" id=\"section_1_1\"></a>"
   ]
  },
  {
   "cell_type": "markdown",
   "id": "7d2d01c6",
   "metadata": {},
   "source": [
    "Over the years, there have been various attempts for measuring semantic similarity, some of them knowledge-based (e.g. based on WordNet), others corpus-based, like LDA (Chandrasekaran & Vijay, 2021). The arrival of word embeddings (Mikolov et al., 2013) has changed the field considerably by introducing a new and fast way to tackle the notion of word meaning. On the one hand, word embeddings are building blocks that can be combined with a number of other methods, such as alignments, soft cosine or Word Mover's Distance, to implement some kind of sentence similarity (Manjavacas et al., 2019). On the other hand, the concept of embeddings can be extended to work on the sentence-level as well, which is a conceptually different approach (Wieting et al., 2016). "
   ]
  },
  {
   "cell_type": "markdown",
   "id": "fe1c1073",
   "metadata": {},
   "source": [
    "We introduce the **<a href=\"https://github.com/poke1024/vectorian\">Vectorian</a>** as a framework that allows researchers to try out different embedding-based methods for intertextuality detection. In contrast to previous versions of the Vectorian (Liebl & Burghardt, 2020a/b) as a mere web interface with a limited set of static parameters, we now present a clean and completely redesigned API that is showcased in an interactive Jupyter notebook. In this notebook, we first use the Vectorian to build queries where we plug in static word embeddings such as FastText (Mikolov et al., 2018) and GloVe (Pennington et al., 2014). We evaluate the influence of computing similarity through alignments such as Waterman-Smith-Beyer (WSB; Waterman et al., 1976) and two variants of Word Mover’s Distance (WMD; Kusner et al., 2015). We also investigate the performance of state-of-art sentence embeddings like Siamese BERT networks (Reimers & Gurevych, 2019) for the task - both on a document level (as document embeddings) and as contextual token embeddings. Overall, we find that WSB with fastText offers highly competitive performance. We find that POS tag-weighted WSB seems to further improve results a small subset of queries. Readers can upload their own data for performing search queries and try out additional vector space metrics such as p-norms or improved sqrt‐cosine similarity (Sohangir & Wang, 2017)."
   ]
  },
  {
   "cell_type": "markdown",
   "id": "76ec578f",
   "metadata": {},
   "source": [
    "## 1.2 Outline of the notebook <a class=\"anchor\" id=\"section_1_2\"></a>"
   ]
  },
  {
   "cell_type": "markdown",
   "id": "3354577a",
   "metadata": {},
   "source": [
    "In the notebook, we will go through different examples of intertextuality to demonstrate and explain the implications of different embeddings and similarity measures. To achieve this we provide a small ground truth corpus of intertextual Shakespeare references that can be used for some controlled evaluation experiments. Our main goal is to provide an interactive environment, where researchers can test out different methods for text reuse and intertextuality detection. This notebook thus adds to a critical reflection of digital methods and can help to shed some light on their epistemological implications for the field of computational intertextuality detection. At the end of the notebook, researchers can also easily import their own data and investigate all the showcased methods for their specific texts. "
   ]
  },
  {
   "cell_type": "markdown",
   "id": "83dd01e9",
   "metadata": {},
   "source": [
    "## 1.3 Technical setup <a class=\"anchor\" id=\"section_1_3\"></a>"
   ]
  },
  {
   "cell_type": "markdown",
   "id": "81509d15",
   "metadata": {},
   "source": [
    "We import a couple of helper functions for visualizations and various computations (`nbutils`), a wrapper to load our gold standard data (`gold`), and finally the Vectorian library (`vectorian`), through which we will perform searches and evaluations later on.\n",
    "\n",
    "In `nbutils.initialize` we check whether there is a [bokeh server](https://docs.bokeh.org/en/latest/index.html) available. This typically *is* the case for local Jupyter installations, but is *not* the case for notebooks running on *mybinder*. In the latter case, the notebook has some limitations regarding interactivity."
   ]
  },
  {
   "cell_type": "code",
   "execution_count": 1,
   "id": "2ad4b2be",
   "metadata": {
    "collapsed": false,
    "jupyter": {
     "outputs_hidden": false
    },
    "pycharm": {
     "name": "#%%\n"
    }
   },
   "outputs": [
    {
     "data": {
      "text/html": [
       "\n",
       "        <div style=\"font-size: small;\">Running notebook in <b>SERVER</b> mode.</div>"
      ],
      "text/plain": [
       "<IPython.core.display.HTML object>"
      ]
     },
     "metadata": {},
     "output_type": "display_data"
    },
    {
     "data": {
      "text/html": [
       "\n",
       "    <div class=\"bk-root\">\n",
       "        <a href=\"https://bokeh.org\" target=\"_blank\" class=\"bk-logo bk-logo-small bk-logo-notebook\"></a>\n",
       "        <span id=\"1002\">Loading BokehJS ...</span>\n",
       "    </div>"
      ]
     },
     "metadata": {},
     "output_type": "display_data"
    },
    {
     "data": {
      "application/javascript": [
       "\n",
       "(function(root) {\n",
       "  function now() {\n",
       "    return new Date();\n",
       "  }\n",
       "\n",
       "  const force = true;\n",
       "\n",
       "  if (typeof root._bokeh_onload_callbacks === \"undefined\" || force === true) {\n",
       "    root._bokeh_onload_callbacks = [];\n",
       "    root._bokeh_is_loading = undefined;\n",
       "  }\n",
       "\n",
       "  const JS_MIME_TYPE = 'application/javascript';\n",
       "  const HTML_MIME_TYPE = 'text/html';\n",
       "  const EXEC_MIME_TYPE = 'application/vnd.bokehjs_exec.v0+json';\n",
       "  const CLASS_NAME = 'output_bokeh rendered_html';\n",
       "\n",
       "  /**\n",
       "   * Render data to the DOM node\n",
       "   */\n",
       "  function render(props, node) {\n",
       "    const script = document.createElement(\"script\");\n",
       "    node.appendChild(script);\n",
       "  }\n",
       "\n",
       "  /**\n",
       "   * Handle when an output is cleared or removed\n",
       "   */\n",
       "  function handleClearOutput(event, handle) {\n",
       "    const cell = handle.cell;\n",
       "\n",
       "    const id = cell.output_area._bokeh_element_id;\n",
       "    const server_id = cell.output_area._bokeh_server_id;\n",
       "    // Clean up Bokeh references\n",
       "    if (id != null && id in Bokeh.index) {\n",
       "      Bokeh.index[id].model.document.clear();\n",
       "      delete Bokeh.index[id];\n",
       "    }\n",
       "\n",
       "    if (server_id !== undefined) {\n",
       "      // Clean up Bokeh references\n",
       "      const cmd_clean = \"from bokeh.io.state import curstate; print(curstate().uuid_to_server['\" + server_id + \"'].get_sessions()[0].document.roots[0]._id)\";\n",
       "      cell.notebook.kernel.execute(cmd_clean, {\n",
       "        iopub: {\n",
       "          output: function(msg) {\n",
       "            const id = msg.content.text.trim();\n",
       "            if (id in Bokeh.index) {\n",
       "              Bokeh.index[id].model.document.clear();\n",
       "              delete Bokeh.index[id];\n",
       "            }\n",
       "          }\n",
       "        }\n",
       "      });\n",
       "      // Destroy server and session\n",
       "      const cmd_destroy = \"import bokeh.io.notebook as ion; ion.destroy_server('\" + server_id + \"')\";\n",
       "      cell.notebook.kernel.execute(cmd_destroy);\n",
       "    }\n",
       "  }\n",
       "\n",
       "  /**\n",
       "   * Handle when a new output is added\n",
       "   */\n",
       "  function handleAddOutput(event, handle) {\n",
       "    const output_area = handle.output_area;\n",
       "    const output = handle.output;\n",
       "\n",
       "    // limit handleAddOutput to display_data with EXEC_MIME_TYPE content only\n",
       "    if ((output.output_type != \"display_data\") || (!Object.prototype.hasOwnProperty.call(output.data, EXEC_MIME_TYPE))) {\n",
       "      return\n",
       "    }\n",
       "\n",
       "    const toinsert = output_area.element.find(\".\" + CLASS_NAME.split(' ')[0]);\n",
       "\n",
       "    if (output.metadata[EXEC_MIME_TYPE][\"id\"] !== undefined) {\n",
       "      toinsert[toinsert.length - 1].firstChild.textContent = output.data[JS_MIME_TYPE];\n",
       "      // store reference to embed id on output_area\n",
       "      output_area._bokeh_element_id = output.metadata[EXEC_MIME_TYPE][\"id\"];\n",
       "    }\n",
       "    if (output.metadata[EXEC_MIME_TYPE][\"server_id\"] !== undefined) {\n",
       "      const bk_div = document.createElement(\"div\");\n",
       "      bk_div.innerHTML = output.data[HTML_MIME_TYPE];\n",
       "      const script_attrs = bk_div.children[0].attributes;\n",
       "      for (let i = 0; i < script_attrs.length; i++) {\n",
       "        toinsert[toinsert.length - 1].firstChild.setAttribute(script_attrs[i].name, script_attrs[i].value);\n",
       "        toinsert[toinsert.length - 1].firstChild.textContent = bk_div.children[0].textContent\n",
       "      }\n",
       "      // store reference to server id on output_area\n",
       "      output_area._bokeh_server_id = output.metadata[EXEC_MIME_TYPE][\"server_id\"];\n",
       "    }\n",
       "  }\n",
       "\n",
       "  function register_renderer(events, OutputArea) {\n",
       "\n",
       "    function append_mime(data, metadata, element) {\n",
       "      // create a DOM node to render to\n",
       "      const toinsert = this.create_output_subarea(\n",
       "        metadata,\n",
       "        CLASS_NAME,\n",
       "        EXEC_MIME_TYPE\n",
       "      );\n",
       "      this.keyboard_manager.register_events(toinsert);\n",
       "      // Render to node\n",
       "      const props = {data: data, metadata: metadata[EXEC_MIME_TYPE]};\n",
       "      render(props, toinsert[toinsert.length - 1]);\n",
       "      element.append(toinsert);\n",
       "      return toinsert\n",
       "    }\n",
       "\n",
       "    /* Handle when an output is cleared or removed */\n",
       "    events.on('clear_output.CodeCell', handleClearOutput);\n",
       "    events.on('delete.Cell', handleClearOutput);\n",
       "\n",
       "    /* Handle when a new output is added */\n",
       "    events.on('output_added.OutputArea', handleAddOutput);\n",
       "\n",
       "    /**\n",
       "     * Register the mime type and append_mime function with output_area\n",
       "     */\n",
       "    OutputArea.prototype.register_mime_type(EXEC_MIME_TYPE, append_mime, {\n",
       "      /* Is output safe? */\n",
       "      safe: true,\n",
       "      /* Index of renderer in `output_area.display_order` */\n",
       "      index: 0\n",
       "    });\n",
       "  }\n",
       "\n",
       "  // register the mime type if in Jupyter Notebook environment and previously unregistered\n",
       "  if (root.Jupyter !== undefined) {\n",
       "    const events = require('base/js/events');\n",
       "    const OutputArea = require('notebook/js/outputarea').OutputArea;\n",
       "\n",
       "    if (OutputArea.prototype.mime_types().indexOf(EXEC_MIME_TYPE) == -1) {\n",
       "      register_renderer(events, OutputArea);\n",
       "    }\n",
       "  }\n",
       "\n",
       "  \n",
       "  if (typeof (root._bokeh_timeout) === \"undefined\" || force === true) {\n",
       "    root._bokeh_timeout = Date.now() + 5000;\n",
       "    root._bokeh_failed_load = false;\n",
       "  }\n",
       "\n",
       "  const NB_LOAD_WARNING = {'data': {'text/html':\n",
       "     \"<div style='background-color: #fdd'>\\n\"+\n",
       "     \"<p>\\n\"+\n",
       "     \"BokehJS does not appear to have successfully loaded. If loading BokehJS from CDN, this \\n\"+\n",
       "     \"may be due to a slow or bad network connection. Possible fixes:\\n\"+\n",
       "     \"</p>\\n\"+\n",
       "     \"<ul>\\n\"+\n",
       "     \"<li>re-rerun `output_notebook()` to attempt to load from CDN again, or</li>\\n\"+\n",
       "     \"<li>use INLINE resources instead, as so:</li>\\n\"+\n",
       "     \"</ul>\\n\"+\n",
       "     \"<code>\\n\"+\n",
       "     \"from bokeh.resources import INLINE\\n\"+\n",
       "     \"output_notebook(resources=INLINE)\\n\"+\n",
       "     \"</code>\\n\"+\n",
       "     \"</div>\"}};\n",
       "\n",
       "  function display_loaded() {\n",
       "    const el = document.getElementById(\"1002\");\n",
       "    if (el != null) {\n",
       "      el.textContent = \"BokehJS is loading...\";\n",
       "    }\n",
       "    if (root.Bokeh !== undefined) {\n",
       "      if (el != null) {\n",
       "        el.textContent = \"BokehJS \" + root.Bokeh.version + \" successfully loaded.\";\n",
       "      }\n",
       "    } else if (Date.now() < root._bokeh_timeout) {\n",
       "      setTimeout(display_loaded, 100)\n",
       "    }\n",
       "  }\n",
       "\n",
       "\n",
       "  function run_callbacks() {\n",
       "    try {\n",
       "      root._bokeh_onload_callbacks.forEach(function(callback) {\n",
       "        if (callback != null)\n",
       "          callback();\n",
       "      });\n",
       "    } finally {\n",
       "      delete root._bokeh_onload_callbacks\n",
       "    }\n",
       "    console.debug(\"Bokeh: all callbacks have finished\");\n",
       "  }\n",
       "\n",
       "  function load_libs(css_urls, js_urls, callback) {\n",
       "    if (css_urls == null) css_urls = [];\n",
       "    if (js_urls == null) js_urls = [];\n",
       "\n",
       "    root._bokeh_onload_callbacks.push(callback);\n",
       "    if (root._bokeh_is_loading > 0) {\n",
       "      console.debug(\"Bokeh: BokehJS is being loaded, scheduling callback at\", now());\n",
       "      return null;\n",
       "    }\n",
       "    if (js_urls == null || js_urls.length === 0) {\n",
       "      run_callbacks();\n",
       "      return null;\n",
       "    }\n",
       "    console.debug(\"Bokeh: BokehJS not loaded, scheduling load and callback at\", now());\n",
       "    root._bokeh_is_loading = css_urls.length + js_urls.length;\n",
       "\n",
       "    function on_load() {\n",
       "      root._bokeh_is_loading--;\n",
       "      if (root._bokeh_is_loading === 0) {\n",
       "        console.debug(\"Bokeh: all BokehJS libraries/stylesheets loaded\");\n",
       "        run_callbacks()\n",
       "      }\n",
       "    }\n",
       "\n",
       "    function on_error(url) {\n",
       "      console.error(\"failed to load \" + url);\n",
       "    }\n",
       "\n",
       "    for (let i = 0; i < css_urls.length; i++) {\n",
       "      const url = css_urls[i];\n",
       "      const element = document.createElement(\"link\");\n",
       "      element.onload = on_load;\n",
       "      element.onerror = on_error.bind(null, url);\n",
       "      element.rel = \"stylesheet\";\n",
       "      element.type = \"text/css\";\n",
       "      element.href = url;\n",
       "      console.debug(\"Bokeh: injecting link tag for BokehJS stylesheet: \", url);\n",
       "      document.body.appendChild(element);\n",
       "    }\n",
       "\n",
       "    for (let i = 0; i < js_urls.length; i++) {\n",
       "      const url = js_urls[i];\n",
       "      const element = document.createElement('script');\n",
       "      element.onload = on_load;\n",
       "      element.onerror = on_error.bind(null, url);\n",
       "      element.async = false;\n",
       "      element.src = url;\n",
       "      console.debug(\"Bokeh: injecting script tag for BokehJS library: \", url);\n",
       "      document.head.appendChild(element);\n",
       "    }\n",
       "  };\n",
       "\n",
       "  function inject_raw_css(css) {\n",
       "    const element = document.createElement(\"style\");\n",
       "    element.appendChild(document.createTextNode(css));\n",
       "    document.body.appendChild(element);\n",
       "  }\n",
       "\n",
       "  \n",
       "  const js_urls = [\"https://cdn.bokeh.org/bokeh/release/bokeh-2.4.0.min.js\", \"https://cdn.bokeh.org/bokeh/release/bokeh-gl-2.4.0.min.js\", \"https://cdn.bokeh.org/bokeh/release/bokeh-widgets-2.4.0.min.js\", \"https://cdn.bokeh.org/bokeh/release/bokeh-tables-2.4.0.min.js\", \"https://cdn.bokeh.org/bokeh/release/bokeh-mathjax-2.4.0.min.js\"];\n",
       "  const css_urls = [];\n",
       "  \n",
       "\n",
       "  const inline_js = [\n",
       "    function(Bokeh) {\n",
       "      Bokeh.set_log_level(\"info\");\n",
       "    },\n",
       "    function(Bokeh) {\n",
       "    \n",
       "    \n",
       "    }\n",
       "  ];\n",
       "\n",
       "  function run_inline_js() {\n",
       "    \n",
       "    if (root.Bokeh !== undefined || force === true) {\n",
       "      \n",
       "    for (let i = 0; i < inline_js.length; i++) {\n",
       "      inline_js[i].call(root, root.Bokeh);\n",
       "    }\n",
       "    if (force === true) {\n",
       "        display_loaded();\n",
       "      }} else if (Date.now() < root._bokeh_timeout) {\n",
       "      setTimeout(run_inline_js, 100);\n",
       "    } else if (!root._bokeh_failed_load) {\n",
       "      console.log(\"Bokeh: BokehJS failed to load within specified timeout.\");\n",
       "      root._bokeh_failed_load = true;\n",
       "    } else if (force !== true) {\n",
       "      const cell = $(document.getElementById(\"1002\")).parents('.cell').data().cell;\n",
       "      cell.output_area.append_execute_result(NB_LOAD_WARNING)\n",
       "    }\n",
       "\n",
       "  }\n",
       "\n",
       "  if (root._bokeh_is_loading === 0) {\n",
       "    console.debug(\"Bokeh: BokehJS loaded, going straight to plotting\");\n",
       "    run_inline_js();\n",
       "  } else {\n",
       "    load_libs(css_urls, js_urls, function() {\n",
       "      console.debug(\"Bokeh: BokehJS plotting callback run at\", now());\n",
       "      run_inline_js();\n",
       "    });\n",
       "  }\n",
       "}(window));"
      ],
      "application/vnd.bokehjs_load.v0+json": "\n(function(root) {\n  function now() {\n    return new Date();\n  }\n\n  const force = true;\n\n  if (typeof root._bokeh_onload_callbacks === \"undefined\" || force === true) {\n    root._bokeh_onload_callbacks = [];\n    root._bokeh_is_loading = undefined;\n  }\n\n  \n\n  \n  if (typeof (root._bokeh_timeout) === \"undefined\" || force === true) {\n    root._bokeh_timeout = Date.now() + 5000;\n    root._bokeh_failed_load = false;\n  }\n\n  const NB_LOAD_WARNING = {'data': {'text/html':\n     \"<div style='background-color: #fdd'>\\n\"+\n     \"<p>\\n\"+\n     \"BokehJS does not appear to have successfully loaded. If loading BokehJS from CDN, this \\n\"+\n     \"may be due to a slow or bad network connection. Possible fixes:\\n\"+\n     \"</p>\\n\"+\n     \"<ul>\\n\"+\n     \"<li>re-rerun `output_notebook()` to attempt to load from CDN again, or</li>\\n\"+\n     \"<li>use INLINE resources instead, as so:</li>\\n\"+\n     \"</ul>\\n\"+\n     \"<code>\\n\"+\n     \"from bokeh.resources import INLINE\\n\"+\n     \"output_notebook(resources=INLINE)\\n\"+\n     \"</code>\\n\"+\n     \"</div>\"}};\n\n  function display_loaded() {\n    const el = document.getElementById(\"1002\");\n    if (el != null) {\n      el.textContent = \"BokehJS is loading...\";\n    }\n    if (root.Bokeh !== undefined) {\n      if (el != null) {\n        el.textContent = \"BokehJS \" + root.Bokeh.version + \" successfully loaded.\";\n      }\n    } else if (Date.now() < root._bokeh_timeout) {\n      setTimeout(display_loaded, 100)\n    }\n  }\n\n\n  function run_callbacks() {\n    try {\n      root._bokeh_onload_callbacks.forEach(function(callback) {\n        if (callback != null)\n          callback();\n      });\n    } finally {\n      delete root._bokeh_onload_callbacks\n    }\n    console.debug(\"Bokeh: all callbacks have finished\");\n  }\n\n  function load_libs(css_urls, js_urls, callback) {\n    if (css_urls == null) css_urls = [];\n    if (js_urls == null) js_urls = [];\n\n    root._bokeh_onload_callbacks.push(callback);\n    if (root._bokeh_is_loading > 0) {\n      console.debug(\"Bokeh: BokehJS is being loaded, scheduling callback at\", now());\n      return null;\n    }\n    if (js_urls == null || js_urls.length === 0) {\n      run_callbacks();\n      return null;\n    }\n    console.debug(\"Bokeh: BokehJS not loaded, scheduling load and callback at\", now());\n    root._bokeh_is_loading = css_urls.length + js_urls.length;\n\n    function on_load() {\n      root._bokeh_is_loading--;\n      if (root._bokeh_is_loading === 0) {\n        console.debug(\"Bokeh: all BokehJS libraries/stylesheets loaded\");\n        run_callbacks()\n      }\n    }\n\n    function on_error(url) {\n      console.error(\"failed to load \" + url);\n    }\n\n    for (let i = 0; i < css_urls.length; i++) {\n      const url = css_urls[i];\n      const element = document.createElement(\"link\");\n      element.onload = on_load;\n      element.onerror = on_error.bind(null, url);\n      element.rel = \"stylesheet\";\n      element.type = \"text/css\";\n      element.href = url;\n      console.debug(\"Bokeh: injecting link tag for BokehJS stylesheet: \", url);\n      document.body.appendChild(element);\n    }\n\n    for (let i = 0; i < js_urls.length; i++) {\n      const url = js_urls[i];\n      const element = document.createElement('script');\n      element.onload = on_load;\n      element.onerror = on_error.bind(null, url);\n      element.async = false;\n      element.src = url;\n      console.debug(\"Bokeh: injecting script tag for BokehJS library: \", url);\n      document.head.appendChild(element);\n    }\n  };\n\n  function inject_raw_css(css) {\n    const element = document.createElement(\"style\");\n    element.appendChild(document.createTextNode(css));\n    document.body.appendChild(element);\n  }\n\n  \n  const js_urls = [\"https://cdn.bokeh.org/bokeh/release/bokeh-2.4.0.min.js\", \"https://cdn.bokeh.org/bokeh/release/bokeh-gl-2.4.0.min.js\", \"https://cdn.bokeh.org/bokeh/release/bokeh-widgets-2.4.0.min.js\", \"https://cdn.bokeh.org/bokeh/release/bokeh-tables-2.4.0.min.js\", \"https://cdn.bokeh.org/bokeh/release/bokeh-mathjax-2.4.0.min.js\"];\n  const css_urls = [];\n  \n\n  const inline_js = [\n    function(Bokeh) {\n      Bokeh.set_log_level(\"info\");\n    },\n    function(Bokeh) {\n    \n    \n    }\n  ];\n\n  function run_inline_js() {\n    \n    if (root.Bokeh !== undefined || force === true) {\n      \n    for (let i = 0; i < inline_js.length; i++) {\n      inline_js[i].call(root, root.Bokeh);\n    }\n    if (force === true) {\n        display_loaded();\n      }} else if (Date.now() < root._bokeh_timeout) {\n      setTimeout(run_inline_js, 100);\n    } else if (!root._bokeh_failed_load) {\n      console.log(\"Bokeh: BokehJS failed to load within specified timeout.\");\n      root._bokeh_failed_load = true;\n    } else if (force !== true) {\n      const cell = $(document.getElementById(\"1002\")).parents('.cell').data().cell;\n      cell.output_area.append_execute_result(NB_LOAD_WARNING)\n    }\n\n  }\n\n  if (root._bokeh_is_loading === 0) {\n    console.debug(\"Bokeh: BokehJS loaded, going straight to plotting\");\n    run_inline_js();\n  } else {\n    load_libs(css_urls, js_urls, function() {\n      console.debug(\"Bokeh: BokehJS plotting callback run at\", now());\n      run_inline_js();\n    });\n  }\n}(window));"
     },
     "metadata": {},
     "output_type": "display_data"
    }
   ],
   "source": [
    "import sys\n",
    "sys.path.append(\"code\")  # make importable\n",
    "\n",
    "import nbutils, gold, vectorian\n",
    "import ipywidgets as widgets\n",
    "from ipywidgets import interact\n",
    "\n",
    "nbutils.initialize(\"auto\")"
   ]
  },
  {
   "cell_type": "markdown",
   "id": "cfedd8b6-31de-464e-8970-4ec5508e0eb9",
   "metadata": {},
   "source": [
    "# 2. Data and Tools <a class=\"anchor\" id=\"section_2\"></a>"
   ]
  },
  {
   "cell_type": "markdown",
   "id": "d6be272b-e11c-47a4-a94e-8da5c061fa15",
   "metadata": {},
   "source": [
    "## 2.1 Introducing the gold standard dataset <a class=\"anchor\" id=\"section_2_1\"></a>"
   ]
  },
  {
   "cell_type": "markdown",
   "id": "038a3660-df73-4444-97e8-f53827fe0bcd",
   "metadata": {},
   "source": [
    "In the following we use a collection of 100 short text snippets (=documents) that quote a total of 20 different Shakespeare phrases. All of these documents were derived from the [WordWeb IDEM portal](http://wordweb-idem.ch/about-us.html), where literary scholars collect intertextual references in a freely accessible database (Hohl et al., 2020). Each document quotes exactly one of the 20 phrases. For some phrases, e.g. \"to be or not to be\", there are more quoting documents than for others (see interactive overview of documents below). If there are multiple documents that quote the same phrase, we selected them in a way each of them does this in a different way. There are no verbatim quotes in the documents, but always more or less complex variations of the original phrase."
   ]
  },
  {
   "cell_type": "markdown",
   "id": "19440288-e2ab-4d0d-89c9-3698c4494a9a",
   "metadata": {},
   "source": [
    "We use this collection of quote documents as a gold standard, to be able to assess how well different embeddings and search algorithms are able to detect rephrasings of different types of quotes.\n",
    "\n",
    "The gold standard data is simply a directed graph, where nodes are phrases - e.g. \"to be or not to be\" - and edges model intertextuality - i.e. one phrase reccurring in a different context and rephrasing in a different. For example, \"to be or not to be\" will have several outgoing edges that reference other phrases from other works that we consider related. Edges are directed, and start from the original work (which are always works by William Shakespeare in this notebook's gold standard data) and go to the work that contains a rephrasing.\n",
    "\n",
    "Nodes contain additional information on a phrase's context (i.e. surrounding text) and the containing work (and author), both of which allow us to understand where the phrase comes from and where it is used.\n",
    "\n",
    "The plot below is a visualization of the gold data graph where nodes are represented as circles. The 20 larger red nodes are source nodes, i.e. those nodes by Shakespeare that serve as queries for our investigations. The 100 smaller orange nodes are phrases that are related to the original Shakespeare phrase. By hovering over nodes, you are able to see the phrase itself, the work it occurs in, and the full context where it is embedded (the phrase variation is bold)."
   ]
  },
  {
   "cell_type": "code",
   "execution_count": 4,
   "id": "bab19081-815e-4b11-80e7-77581c4f2362",
   "metadata": {},
   "outputs": [
    {
     "data": {
      "text/html": [
       "\n",
       "\n",
       "\n",
       "\n",
       "\n",
       "\n",
       "  <div class=\"bk-root\" id=\"ffde0091-a64b-4894-8db0-1a7a1b8e8b19\" data-root-id=\"5858\"></div>\n"
      ]
     },
     "metadata": {},
     "output_type": "display_data"
    },
    {
     "data": {
      "application/javascript": [
       "(function(root) {\n",
       "  function embed_document(root) {\n",
       "    \n",
       "  const docs_json = {\"018bd4b5-ab04-49f0-812b-b7c6f6cf359d\":{\"defs\":[],\"roots\":{\"references\":[{\"attributes\":{\"center\":[{\"id\":\"5887\"},{\"id\":\"5890\"},{\"id\":\"5893\"},{\"id\":\"5896\"},{\"id\":\"5899\"},{\"id\":\"5902\"},{\"id\":\"5905\"},{\"id\":\"5908\"},{\"id\":\"5911\"},{\"id\":\"5914\"},{\"id\":\"5917\"},{\"id\":\"5920\"},{\"id\":\"5923\"},{\"id\":\"5926\"},{\"id\":\"5929\"},{\"id\":\"5932\"},{\"id\":\"5935\"},{\"id\":\"5938\"},{\"id\":\"5941\"},{\"id\":\"5944\"},{\"id\":\"5947\"},{\"id\":\"5950\"},{\"id\":\"5953\"},{\"id\":\"5956\"},{\"id\":\"5959\"},{\"id\":\"5962\"},{\"id\":\"5965\"},{\"id\":\"5968\"},{\"id\":\"5971\"},{\"id\":\"5974\"},{\"id\":\"5977\"},{\"id\":\"5980\"},{\"id\":\"5983\"},{\"id\":\"5986\"},{\"id\":\"5989\"},{\"id\":\"5992\"},{\"id\":\"5995\"},{\"id\":\"5998\"},{\"id\":\"6001\"},{\"id\":\"6004\"},{\"id\":\"6007\"},{\"id\":\"6010\"},{\"id\":\"6013\"},{\"id\":\"6016\"},{\"id\":\"6019\"},{\"id\":\"6022\"},{\"id\":\"6025\"},{\"id\":\"6028\"},{\"id\":\"6031\"},{\"id\":\"6034\"},{\"id\":\"6037\"},{\"id\":\"6040\"},{\"id\":\"6043\"},{\"id\":\"6046\"},{\"id\":\"6049\"},{\"id\":\"6052\"},{\"id\":\"6055\"},{\"id\":\"6058\"},{\"id\":\"6061\"},{\"id\":\"6064\"},{\"id\":\"6067\"},{\"id\":\"6070\"},{\"id\":\"6073\"},{\"id\":\"6076\"},{\"id\":\"6079\"},{\"id\":\"6082\"},{\"id\":\"6085\"},{\"id\":\"6088\"},{\"id\":\"6091\"},{\"id\":\"6094\"},{\"id\":\"6097\"},{\"id\":\"6100\"},{\"id\":\"6103\"},{\"id\":\"6106\"},{\"id\":\"6109\"},{\"id\":\"6112\"},{\"id\":\"6115\"},{\"id\":\"6118\"},{\"id\":\"6121\"},{\"id\":\"6124\"},{\"id\":\"6127\"},{\"id\":\"6130\"},{\"id\":\"6133\"},{\"id\":\"6136\"},{\"id\":\"6139\"},{\"id\":\"6142\"},{\"id\":\"6145\"},{\"id\":\"6148\"},{\"id\":\"6151\"},{\"id\":\"6154\"},{\"id\":\"6157\"},{\"id\":\"6160\"},{\"id\":\"6163\"},{\"id\":\"6166\"},{\"id\":\"6169\"},{\"id\":\"6172\"},{\"id\":\"6175\"},{\"id\":\"6178\"},{\"id\":\"6181\"},{\"id\":\"6184\"}],\"match_aspect\":true,\"output_backend\":\"svg\",\"renderers\":[{\"id\":\"5866\"}],\"title\":{\"id\":\"5859\"},\"toolbar\":{\"id\":\"5861\"},\"toolbar_location\":\"below\",\"x_range\":{\"id\":\"6824\"},\"x_scale\":{\"id\":\"6826\"},\"y_range\":{\"id\":\"6825\"},\"y_scale\":{\"id\":\"6827\"}},\"id\":\"5858\",\"type\":\"Plot\"},{\"attributes\":{\"coordinates\":null,\"end\":{\"id\":\"6147\"},\"group\":null,\"line_width\":{\"value\":1.5},\"source\":{\"id\":\"6926\"},\"start\":null,\"x_end\":{\"value\":1204.0161125871268},\"x_start\":{\"value\":1173.3451832171645},\"y_end\":{\"value\":1061.4213544623656},\"y_start\":{\"value\":1099.004860716846}},\"id\":\"6148\",\"type\":\"Arrow\"},{\"attributes\":{\"coordinates\":null,\"end\":{\"id\":\"6144\"},\"group\":null,\"line_width\":{\"value\":1.5},\"source\":{\"id\":\"6925\"},\"start\":null,\"x_end\":{\"value\":1098.9189211908522},\"x_start\":{\"value\":1142.6747717455305},\"y_end\":{\"value\":1084.7991360837827},\"y_start\":{\"value\":1105.8344852216228}},\"id\":\"6145\",\"type\":\"Arrow\"},{\"attributes\":{\"size\":{\"value\":5}},\"id\":\"6147\",\"type\":\"NormalHead\"},{\"attributes\":{\"coordinates\":null,\"end\":{\"id\":\"6150\"},\"group\":null,\"line_width\":{\"value\":1.5},\"source\":{\"id\":\"6927\"},\"start\":null,\"x_end\":{\"value\":1060.1130943917335},\"x_start\":{\"value\":1022.7825408110219},\"y_end\":{\"value\":49.57903224706158},\"y_start\":{\"value\":73.77729033725123}},\"id\":\"6151\",\"type\":\"Arrow\"},{\"attributes\":{\"data\":{},\"selected\":{\"id\":\"7116\"},\"selection_policy\":{\"id\":\"7115\"}},\"id\":\"6927\",\"type\":\"ColumnDataSource\"},{\"attributes\":{\"size\":{\"value\":5}},\"id\":\"6153\",\"type\":\"NormalHead\"},{\"attributes\":{\"size\":{\"value\":5}},\"id\":\"6150\",\"type\":\"NormalHead\"},{\"attributes\":{\"size\":{\"value\":5}},\"id\":\"6156\",\"type\":\"NormalHead\"},{\"attributes\":{\"coordinates\":null,\"end\":{\"id\":\"6153\"},\"group\":null,\"line_width\":{\"value\":1.5},\"source\":{\"id\":\"6928\"},\"start\":null,\"x_end\":{\"value\":971.0013851435414},\"x_start\":{\"value\":995.1314864752782},\"y_end\":{\"value\":30.591859284539865},\"y_start\":{\"value\":67.86685428728019}},\"id\":\"6154\",\"type\":\"Arrow\"},{\"attributes\":{\"data\":{},\"selected\":{\"id\":\"7118\"},\"selection_policy\":{\"id\":\"7117\"}},\"id\":\"6928\",\"type\":\"ColumnDataSource\"},{\"attributes\":{\"size\":{\"value\":5}},\"id\":\"6159\",\"type\":\"NormalHead\"},{\"attributes\":{\"coordinates\":null,\"end\":{\"id\":\"6156\"},\"group\":null,\"line_width\":{\"value\":1.5},\"source\":{\"id\":\"6929\"},\"start\":null,\"x_end\":{\"value\":952.2956303163238},\"x_start\":{\"value\":989.3258262449016},\"y_end\":{\"value\":120.22693230792831},\"y_start\":{\"value\":95.70009025609558}},\"id\":\"6157\",\"type\":\"Arrow\"},{\"attributes\":{\"size\":{\"value\":5}},\"id\":\"6162\",\"type\":\"NormalHead\"},{\"attributes\":{\"coordinates\":null,\"end\":{\"id\":\"6159\"},\"group\":null,\"line_width\":{\"value\":1.5},\"source\":{\"id\":\"6930\"},\"start\":null,\"x_end\":{\"value\":1041.6199326188953},\"x_start\":{\"value\":1017.040089841473},\"y_end\":{\"value\":138.46238295420088},\"y_start\":{\"value\":101.33282272773216}},\"id\":\"6160\",\"type\":\"Arrow\"},{\"attributes\":{\"size\":{\"value\":5}},\"id\":\"6165\",\"type\":\"NormalHead\"},{\"attributes\":{\"coordinates\":null,\"end\":{\"id\":\"6162\"},\"group\":null,\"line_width\":{\"value\":1.5},\"source\":{\"id\":\"6931\"},\"start\":null,\"x_end\":{\"value\":1351.0327048380118},\"x_start\":{\"value\":1321.5563935493174},\"y_end\":{\"value\":731.3827859533275},\"y_start\":{\"value\":766.9762853955635}},\"id\":\"6163\",\"type\":\"Arrow\"},{\"attributes\":{\"data\":{},\"selected\":{\"id\":\"7120\"},\"selection_policy\":{\"id\":\"7119\"}},\"id\":\"6929\",\"type\":\"ColumnDataSource\"},{\"attributes\":{\"size\":{\"value\":5}},\"id\":\"6168\",\"type\":\"NormalHead\"},{\"attributes\":{\"coordinates\":null,\"end\":{\"id\":\"6165\"},\"group\":null,\"line_width\":{\"value\":1.5},\"source\":{\"id\":\"6932\"},\"start\":null,\"x_end\":{\"value\":1273.0906272215564},\"x_start\":{\"value\":1298.012497037925},\"y_end\":{\"value\":726.6309837764844},\"y_start\":{\"value\":765.5386882980208}},\"id\":\"6166\",\"type\":\"Arrow\"},{\"attributes\":{\"size\":{\"value\":5}},\"id\":\"6171\",\"type\":\"NormalHead\"},{\"attributes\":{\"coordinates\":null,\"end\":{\"id\":\"6168\"},\"group\":null,\"line_width\":{\"value\":1.5},\"source\":{\"id\":\"6933\"},\"start\":null,\"x_end\":{\"value\":1244.8734152395864},\"x_start\":{\"value\":1289.5021130138848},\"y_end\":{\"value\":799.780424984531},\"y_start\":{\"value\":787.6327666872921}},\"id\":\"6169\",\"type\":\"Arrow\"},{\"attributes\":{\"data\":{},\"selected\":{\"id\":\"7122\"},\"selection_policy\":{\"id\":\"7121\"}},\"id\":\"6930\",\"type\":\"ColumnDataSource\"},{\"attributes\":{\"size\":{\"value\":5}},\"id\":\"6174\",\"type\":\"NormalHead\"},{\"attributes\":{\"coordinates\":null,\"end\":{\"id\":\"6171\"},\"group\":null,\"line_width\":{\"value\":1.5},\"source\":{\"id\":\"6934\"},\"start\":null,\"x_end\":{\"value\":1370.6188225385326},\"x_start\":{\"value\":1327.441569948623},\"y_end\":{\"value\":806.4061545116778},\"y_start\":{\"value\":789.625127317763}},\"id\":\"6172\",\"type\":\"Arrow\"},{\"attributes\":{\"size\":{\"value\":5}},\"id\":\"6177\",\"type\":\"NormalHead\"},{\"attributes\":{\"coordinates\":null,\"end\":{\"id\":\"6174\"},\"group\":null,\"line_width\":{\"value\":1.5},\"source\":{\"id\":\"6935\"},\"start\":null,\"x_end\":{\"value\":1305.619790691789},\"x_start\":{\"value\":1307.8402790776147},\"y_end\":{\"value\":848.57727990784},\"y_start\":{\"value\":802.35696012288}},\"id\":\"6175\",\"type\":\"Arrow\"},{\"attributes\":{\"size\":{\"value\":5}},\"id\":\"6180\",\"type\":\"NormalHead\"},{\"attributes\":{\"coordinates\":null,\"end\":{\"id\":\"6177\"},\"group\":null,\"line_width\":{\"value\":1.5},\"source\":{\"id\":\"6936\"},\"start\":null,\"x_end\":{\"value\":669.7775547905853},\"x_start\":{\"value\":628.4832602792197},\"y_end\":{\"value\":157.1888876572627},\"y_start\":{\"value\":150.7781497903164}},\"id\":\"6178\",\"type\":\"Arrow\"},{\"attributes\":{\"data\":{},\"selected\":{\"id\":\"7124\"},\"selection_policy\":{\"id\":\"7123\"}},\"id\":\"6931\",\"type\":\"ColumnDataSource\"},{\"attributes\":{\"size\":{\"value\":5}},\"id\":\"6183\",\"type\":\"NormalHead\"},{\"attributes\":{\"coordinates\":null,\"end\":{\"id\":\"6180\"},\"group\":null,\"line_width\":{\"value\":1.5},\"source\":{\"id\":\"6937\"},\"start\":null,\"x_end\":{\"value\":586.6987868319834},\"x_start\":{\"value\":601.5882842240222},\"y_end\":{\"value\":90.0139387548969},\"y_start\":{\"value\":129.02474832680414}},\"id\":\"6181\",\"type\":\"Arrow\"},{\"attributes\":{\"coordinates\":null,\"end\":{\"id\":\"6183\"},\"group\":null,\"line_width\":{\"value\":1.5},\"source\":{\"id\":\"6938\"},\"start\":null,\"x_end\":{\"value\":570.1970733554799},\"x_start\":{\"value\":596.2439021926936},\"y_end\":{\"value\":195.97629844203763},\"y_start\":{\"value\":163.34160207728314}},\"id\":\"6184\",\"type\":\"Arrow\"},{\"attributes\":{\"data\":{},\"selected\":{\"id\":\"7126\"},\"selection_policy\":{\"id\":\"7125\"}},\"id\":\"6932\",\"type\":\"ColumnDataSource\"},{\"attributes\":{\"data\":{},\"selected\":{\"id\":\"7128\"},\"selection_policy\":{\"id\":\"7127\"}},\"id\":\"6933\",\"type\":\"ColumnDataSource\"},{\"attributes\":{\"data\":{},\"selected\":{\"id\":\"6944\"},\"selection_policy\":{\"id\":\"6943\"}},\"id\":\"6841\",\"type\":\"ColumnDataSource\"},{\"attributes\":{\"data\":{},\"selected\":{\"id\":\"6948\"},\"selection_policy\":{\"id\":\"6947\"}},\"id\":\"6843\",\"type\":\"ColumnDataSource\"},{\"attributes\":{\"data\":{},\"selected\":{\"id\":\"7130\"},\"selection_policy\":{\"id\":\"7129\"}},\"id\":\"6934\",\"type\":\"ColumnDataSource\"},{\"attributes\":{\"data\":{},\"selected\":{\"id\":\"7132\"},\"selection_policy\":{\"id\":\"7131\"}},\"id\":\"6935\",\"type\":\"ColumnDataSource\"},{\"attributes\":{\"data\":{},\"selected\":{\"id\":\"6942\"},\"selection_policy\":{\"id\":\"6941\"}},\"id\":\"6840\",\"type\":\"ColumnDataSource\"},{\"attributes\":{\"data\":{},\"selected\":{\"id\":\"7134\"},\"selection_policy\":{\"id\":\"7133\"}},\"id\":\"6936\",\"type\":\"ColumnDataSource\"},{\"attributes\":{},\"id\":\"6838\",\"type\":\"NodesOnly\"},{\"attributes\":{\"data\":{},\"selected\":{\"id\":\"7136\"},\"selection_policy\":{\"id\":\"7135\"}},\"id\":\"6937\",\"type\":\"ColumnDataSource\"},{\"attributes\":{\"data\":{},\"selected\":{\"id\":\"6940\"},\"selection_policy\":{\"id\":\"6939\"}},\"id\":\"6839\",\"type\":\"ColumnDataSource\"},{\"attributes\":{\"data\":{},\"selected\":{\"id\":\"7138\"},\"selection_policy\":{\"id\":\"7137\"}},\"id\":\"6938\",\"type\":\"ColumnDataSource\"},{\"attributes\":{\"data\":{},\"selected\":{\"id\":\"6996\"},\"selection_policy\":{\"id\":\"6995\"}},\"id\":\"6867\",\"type\":\"ColumnDataSource\"},{\"attributes\":{},\"id\":\"6837\",\"type\":\"NodesOnly\"},{\"attributes\":{\"data\":{},\"selected\":{\"id\":\"6946\"},\"selection_policy\":{\"id\":\"6945\"}},\"id\":\"6842\",\"type\":\"ColumnDataSource\"},{\"attributes\":{},\"id\":\"7127\",\"type\":\"UnionRenderers\"},{\"attributes\":{},\"id\":\"7128\",\"type\":\"Selection\"},{\"attributes\":{},\"id\":\"6981\",\"type\":\"UnionRenderers\"},{\"attributes\":{},\"id\":\"6982\",\"type\":\"Selection\"},{\"attributes\":{},\"id\":\"7129\",\"type\":\"UnionRenderers\"},{\"attributes\":{},\"id\":\"7130\",\"type\":\"Selection\"},{\"attributes\":{},\"id\":\"6983\",\"type\":\"UnionRenderers\"},{\"attributes\":{},\"id\":\"6984\",\"type\":\"Selection\"},{\"attributes\":{},\"id\":\"7131\",\"type\":\"UnionRenderers\"},{\"attributes\":{},\"id\":\"7132\",\"type\":\"Selection\"},{\"attributes\":{},\"id\":\"6985\",\"type\":\"UnionRenderers\"},{\"attributes\":{},\"id\":\"6986\",\"type\":\"Selection\"},{\"attributes\":{},\"id\":\"7133\",\"type\":\"UnionRenderers\"},{\"attributes\":{},\"id\":\"7134\",\"type\":\"Selection\"},{\"attributes\":{},\"id\":\"6987\",\"type\":\"UnionRenderers\"},{\"attributes\":{},\"id\":\"6988\",\"type\":\"Selection\"},{\"attributes\":{},\"id\":\"7135\",\"type\":\"UnionRenderers\"},{\"attributes\":{},\"id\":\"7136\",\"type\":\"Selection\"},{\"attributes\":{},\"id\":\"6989\",\"type\":\"UnionRenderers\"},{\"attributes\":{},\"id\":\"6990\",\"type\":\"Selection\"},{\"attributes\":{},\"id\":\"7137\",\"type\":\"UnionRenderers\"},{\"attributes\":{},\"id\":\"7138\",\"type\":\"Selection\"},{\"attributes\":{},\"id\":\"6991\",\"type\":\"UnionRenderers\"},{\"attributes\":{},\"id\":\"7139\",\"type\":\"UnionRenderers\"},{\"attributes\":{},\"id\":\"6992\",\"type\":\"Selection\"},{\"attributes\":{},\"id\":\"7140\",\"type\":\"Selection\"},{\"attributes\":{},\"id\":\"6993\",\"type\":\"UnionRenderers\"},{\"attributes\":{},\"id\":\"7141\",\"type\":\"UnionRenderers\"},{\"attributes\":{},\"id\":\"6994\",\"type\":\"Selection\"},{\"attributes\":{},\"id\":\"6995\",\"type\":\"UnionRenderers\"},{\"attributes\":{},\"id\":\"7142\",\"type\":\"Selection\"},{\"attributes\":{},\"id\":\"6996\",\"type\":\"Selection\"},{\"attributes\":{},\"id\":\"6997\",\"type\":\"UnionRenderers\"},{\"attributes\":{},\"id\":\"6998\",\"type\":\"Selection\"},{\"attributes\":{},\"id\":\"6999\",\"type\":\"UnionRenderers\"},{\"attributes\":{},\"id\":\"7000\",\"type\":\"Selection\"},{\"attributes\":{},\"id\":\"6825\",\"type\":\"DataRange1d\"},{\"attributes\":{\"data\":{},\"selected\":{\"id\":\"7048\"},\"selection_policy\":{\"id\":\"7047\"}},\"id\":\"6893\",\"type\":\"ColumnDataSource\"},{\"attributes\":{\"data\":{},\"selected\":{\"id\":\"7082\"},\"selection_policy\":{\"id\":\"7081\"}},\"id\":\"6910\",\"type\":\"ColumnDataSource\"},{\"attributes\":{},\"id\":\"7065\",\"type\":\"UnionRenderers\"},{\"attributes\":{\"data\":{},\"selected\":{\"id\":\"7050\"},\"selection_policy\":{\"id\":\"7049\"}},\"id\":\"6894\",\"type\":\"ColumnDataSource\"},{\"attributes\":{},\"id\":\"7066\",\"type\":\"Selection\"},{\"attributes\":{\"data\":{},\"selected\":{\"id\":\"7084\"},\"selection_policy\":{\"id\":\"7083\"}},\"id\":\"6911\",\"type\":\"ColumnDataSource\"},{\"attributes\":{\"data\":{},\"selected\":{\"id\":\"6970\"},\"selection_policy\":{\"id\":\"6969\"}},\"id\":\"6854\",\"type\":\"ColumnDataSource\"},{\"attributes\":{\"data\":{},\"selected\":{\"id\":\"7052\"},\"selection_policy\":{\"id\":\"7051\"}},\"id\":\"6895\",\"type\":\"ColumnDataSource\"},{\"attributes\":{},\"id\":\"7067\",\"type\":\"UnionRenderers\"},{\"attributes\":{\"data\":{},\"selected\":{\"id\":\"7086\"},\"selection_policy\":{\"id\":\"7085\"}},\"id\":\"6912\",\"type\":\"ColumnDataSource\"},{\"attributes\":{},\"id\":\"7068\",\"type\":\"Selection\"},{\"attributes\":{},\"id\":\"6824\",\"type\":\"DataRange1d\"},{\"attributes\":{\"data\":{},\"selected\":{\"id\":\"7054\"},\"selection_policy\":{\"id\":\"7053\"}},\"id\":\"6896\",\"type\":\"ColumnDataSource\"},{\"attributes\":{\"data\":{},\"selected\":{\"id\":\"7088\"},\"selection_policy\":{\"id\":\"7087\"}},\"id\":\"6913\",\"type\":\"ColumnDataSource\"},{\"attributes\":{},\"id\":\"7069\",\"type\":\"UnionRenderers\"},{\"attributes\":{\"data\":{},\"selected\":{\"id\":\"7056\"},\"selection_policy\":{\"id\":\"7055\"}},\"id\":\"6897\",\"type\":\"ColumnDataSource\"},{\"attributes\":{\"data\":{},\"selected\":{\"id\":\"7090\"},\"selection_policy\":{\"id\":\"7089\"}},\"id\":\"6914\",\"type\":\"ColumnDataSource\"},{\"attributes\":{},\"id\":\"7070\",\"type\":\"Selection\"},{\"attributes\":{\"data\":{},\"selected\":{\"id\":\"6974\"},\"selection_policy\":{\"id\":\"6973\"}},\"id\":\"6856\",\"type\":\"ColumnDataSource\"},{\"attributes\":{\"data\":{},\"selected\":{\"id\":\"7058\"},\"selection_policy\":{\"id\":\"7057\"}},\"id\":\"6898\",\"type\":\"ColumnDataSource\"},{\"attributes\":{\"data\":{},\"selected\":{\"id\":\"7092\"},\"selection_policy\":{\"id\":\"7091\"}},\"id\":\"6915\",\"type\":\"ColumnDataSource\"},{\"attributes\":{},\"id\":\"7071\",\"type\":\"UnionRenderers\"},{\"attributes\":{},\"id\":\"7072\",\"type\":\"Selection\"},{\"attributes\":{\"data\":{},\"selected\":{\"id\":\"7060\"},\"selection_policy\":{\"id\":\"7059\"}},\"id\":\"6899\",\"type\":\"ColumnDataSource\"},{\"attributes\":{\"data\":{},\"selected\":{\"id\":\"6972\"},\"selection_policy\":{\"id\":\"6971\"}},\"id\":\"6855\",\"type\":\"ColumnDataSource\"},{\"attributes\":{\"data\":{},\"selected\":{\"id\":\"7094\"},\"selection_policy\":{\"id\":\"7093\"}},\"id\":\"6916\",\"type\":\"ColumnDataSource\"},{\"attributes\":{\"data\":{},\"selected\":{\"id\":\"6978\"},\"selection_policy\":{\"id\":\"6977\"}},\"id\":\"6858\",\"type\":\"ColumnDataSource\"},{\"attributes\":{},\"id\":\"7073\",\"type\":\"UnionRenderers\"},{\"attributes\":{\"data\":{},\"selected\":{\"id\":\"7062\"},\"selection_policy\":{\"id\":\"7061\"}},\"id\":\"6900\",\"type\":\"ColumnDataSource\"},{\"attributes\":{\"data\":{},\"selected\":{\"id\":\"7096\"},\"selection_policy\":{\"id\":\"7095\"}},\"id\":\"6917\",\"type\":\"ColumnDataSource\"},{\"attributes\":{},\"id\":\"7074\",\"type\":\"Selection\"},{\"attributes\":{\"data\":{},\"selected\":{\"id\":\"7064\"},\"selection_policy\":{\"id\":\"7063\"}},\"id\":\"6901\",\"type\":\"ColumnDataSource\"},{\"attributes\":{\"data\":{},\"selected\":{\"id\":\"6976\"},\"selection_policy\":{\"id\":\"6975\"}},\"id\":\"6857\",\"type\":\"ColumnDataSource\"},{\"attributes\":{\"data\":{},\"selected\":{\"id\":\"7098\"},\"selection_policy\":{\"id\":\"7097\"}},\"id\":\"6918\",\"type\":\"ColumnDataSource\"},{\"attributes\":{},\"id\":\"7075\",\"type\":\"UnionRenderers\"},{\"attributes\":{\"data\":{},\"selected\":{\"id\":\"6982\"},\"selection_policy\":{\"id\":\"6981\"}},\"id\":\"6860\",\"type\":\"ColumnDataSource\"},{\"attributes\":{\"data\":{},\"selected\":{\"id\":\"7066\"},\"selection_policy\":{\"id\":\"7065\"}},\"id\":\"6902\",\"type\":\"ColumnDataSource\"},{\"attributes\":{},\"id\":\"7076\",\"type\":\"Selection\"},{\"attributes\":{\"data\":{},\"selected\":{\"id\":\"7100\"},\"selection_policy\":{\"id\":\"7099\"}},\"id\":\"6919\",\"type\":\"ColumnDataSource\"},{\"attributes\":{\"data\":{},\"selected\":{\"id\":\"7068\"},\"selection_policy\":{\"id\":\"7067\"}},\"id\":\"6903\",\"type\":\"ColumnDataSource\"},{\"attributes\":{},\"id\":\"7077\",\"type\":\"UnionRenderers\"},{\"attributes\":{\"data\":{},\"selected\":{\"id\":\"6980\"},\"selection_policy\":{\"id\":\"6979\"}},\"id\":\"6859\",\"type\":\"ColumnDataSource\"},{\"attributes\":{\"data\":{},\"selected\":{\"id\":\"7102\"},\"selection_policy\":{\"id\":\"7101\"}},\"id\":\"6920\",\"type\":\"ColumnDataSource\"},{\"attributes\":{},\"id\":\"7078\",\"type\":\"Selection\"},{\"attributes\":{\"data\":{},\"selected\":{\"id\":\"6986\"},\"selection_policy\":{\"id\":\"6985\"}},\"id\":\"6862\",\"type\":\"ColumnDataSource\"},{\"attributes\":{\"data\":{},\"selected\":{\"id\":\"7070\"},\"selection_policy\":{\"id\":\"7069\"}},\"id\":\"6904\",\"type\":\"ColumnDataSource\"},{\"attributes\":{\"data\":{},\"selected\":{\"id\":\"7104\"},\"selection_policy\":{\"id\":\"7103\"}},\"id\":\"6921\",\"type\":\"ColumnDataSource\"},{\"attributes\":{},\"id\":\"7079\",\"type\":\"UnionRenderers\"},{\"attributes\":{\"logo\":null,\"tools\":[{\"id\":\"5862\"},{\"id\":\"5864\"}]},\"id\":\"5861\",\"type\":\"Toolbar\"},{\"attributes\":{\"dimensions\":\"height\"},\"id\":\"5862\",\"type\":\"PanTool\"},{\"attributes\":{\"data\":{},\"selected\":{\"id\":\"7072\"},\"selection_policy\":{\"id\":\"7071\"}},\"id\":\"6905\",\"type\":\"ColumnDataSource\"},{\"attributes\":{\"coordinates\":null,\"data_source\":{\"id\":\"5868\"},\"glyph\":{\"id\":\"5876\"},\"group\":null,\"hover_glyph\":null,\"view\":{\"id\":\"5870\"}},\"id\":\"5869\",\"type\":\"GlyphRenderer\"},{\"attributes\":{\"data\":{},\"selected\":{\"id\":\"6984\"},\"selection_policy\":{\"id\":\"6983\"}},\"id\":\"6861\",\"type\":\"ColumnDataSource\"},{\"attributes\":{\"data\":{},\"selected\":{\"id\":\"7106\"},\"selection_policy\":{\"id\":\"7105\"}},\"id\":\"6922\",\"type\":\"ColumnDataSource\"},{\"attributes\":{},\"id\":\"7080\",\"type\":\"Selection\"},{\"attributes\":{\"coordinates\":null,\"group\":null,\"text\":\"The gold data is a DiGraph with 120 nodes and 100 edges\"},\"id\":\"5859\",\"type\":\"Title\"},{\"attributes\":{\"callback\":null,\"tooltips\":\"\\n        @hover_info\\n        \"},\"id\":\"5864\",\"type\":\"HoverTool\"},{\"attributes\":{\"data\":{},\"selected\":{\"id\":\"6990\"},\"selection_policy\":{\"id\":\"6989\"}},\"id\":\"6864\",\"type\":\"ColumnDataSource\"},{\"attributes\":{\"data\":{},\"selected\":{\"id\":\"7074\"},\"selection_policy\":{\"id\":\"7073\"}},\"id\":\"6906\",\"type\":\"ColumnDataSource\"},{\"attributes\":{\"data\":{},\"selected\":{\"id\":\"7108\"},\"selection_policy\":{\"id\":\"7107\"}},\"id\":\"6923\",\"type\":\"ColumnDataSource\"},{\"attributes\":{},\"id\":\"7081\",\"type\":\"UnionRenderers\"},{\"attributes\":{\"coordinates\":null,\"edge_renderer\":{\"id\":\"5873\"},\"group\":null,\"inspection_policy\":{\"id\":\"6838\"},\"layout_provider\":{\"id\":\"5875\"},\"node_renderer\":{\"id\":\"5869\"},\"selection_policy\":{\"id\":\"6837\"}},\"id\":\"5866\",\"type\":\"GraphRenderer\"},{\"attributes\":{\"data\":{\"end\":[\"ww_594e076e93ed4ccf\",\"ww_caf27ffdc954c844\",\"ww_66a52436edb537eb\",\"ww_a2a0ab6fbca2028d\",\"ww_90d74567307f904e\",\"ww_669475d1f67eb920\",\"ww_19b54f39c1d245a7\",\"ww_295a0d9237083fe7\",\"ww_971c475bea921406\",\"ww_13c9cec7f15c0056\",\"ww_01d64039ef29add5\",\"ww_22f51d85f231b2c7\",\"ww_6cc712b23bbafc5e\",\"ww_293034ae2a49b418\",\"ww_4c352e527d12797b\",\"ww_f38739f4c2391f47\",\"ww_b0913df56f856f27\",\"ww_7ecb8d5ef454d329\",\"ww_8c5990fb7392c89b\",\"ww_b7e69820855e7384\",\"ww_00ce5b9c822fbaca\",\"ww_3a359a22623b0162\",\"ww_d9ad6d0b3d1a5598\",\"ww_1bfaaa3ed70bb1ac\",\"ww_663f0143320cc310\",\"ww_6821daa19a2840e1\",\"ww_2239f6f9bbcb7446\",\"ww_18fac1f2fb1ce41f\",\"ww_028ce75225433cb6\",\"ww_880962580e78c61f\",\"ww_909a37b5a02277e8\",\"ww_b4cc414fb56c2490\",\"ww_32c26a7909c83bda\",\"ww_782a5cebdaa9d8ae\",\"ww_b5b8083a6a1282bc\",\"ww_a59a84adf088089f\",\"ww_9a6cb20b0b157545\",\"ww_d62468b11823d4c9\",\"ww_4d363cb4783e0b62\",\"ww_6f12e582a20c2675\",\"ww_d2361763e8343194\",\"ww_870f29a7dd6f45d9\",\"ww_e01ecfd8de9acc61\",\"ww_a6f4b0e3428ad510\",\"ww_e2adb2be413fd5a5\",\"ww_b71ba2ae83103344\",\"ww_0dbc3e90bbb46334\",\"ww_d67a1f9d4d50f936\",\"ww_8e68a517bc3ecceb\",\"ww_ff8f000dd9cb7a3b\",\"ww_10ba3fba1c0c1529\",\"ww_3b6425a2159f1d62\",\"ww_8bdc1e03f5a6a253\",\"ww_379b8583a4d90080\",\"ww_d2d2a262485c5d23\",\"ww_07f94c5a14cdc619\",\"ww_235b7f298b54d631\",\"ww_c2f29658555093e7\",\"ww_585eaf1c6368e7af\",\"ww_6e3b338bf16ebf06\",\"ww_98df9ad5de049472\",\"ww_25e51ae4b6234004\",\"ww_ba8b881de92fd8a4\",\"ww_7286ff06f562c07b\",\"ww_1917adced358cb4a\",\"ww_89443854a5459695\",\"ww_b42fadea9f893c6e\",\"ww_57dcec5b9ff2c4b9\",\"ww_aaeb0dba8a5ac513\",\"ww_3bed848d2566166b\",\"ww_aef241d5b9263438\",\"ww_2560885c478fdfe0\",\"ww_ff2cef3775c5331c\",\"ww_58a0dec287a4170c\",\"ww_01bd7d0624c8a955\",\"ww_97b67e22685ce125\",\"ww_415def570b10b5b9\",\"ww_215595adbf8efd41\",\"ww_5cdd4abfb59f6f0f\",\"ww_c9d35c25f4fc4189\",\"ww_7795f933b612f710\",\"ww_0eaf5058b7a910c7\",\"ww_51946dd5d1d57d4a\",\"ww_21a4c5dc5b2f6ed6\",\"ww_994d23875f3f8ca7\",\"ww_f32f713a36985f62\",\"ww_7be6a3588e6b5de0\",\"ww_83e9ca4d103b86e1\",\"ww_95966dab4576ec42\",\"ww_3a6f583779747368\",\"ww_2b785e10c908c7ec\",\"ww_0747839b540f70c7\",\"ww_2e3d7768539ae2ab\",\"ww_a055872533d2ab57\",\"ww_84f20b8b2eb71001\",\"ww_eb3ebae9ea90daa0\",\"ww_6c565da6889f5269\",\"ww_3101379204640286\",\"ww_c6bb592912665657\",\"ww_cd82c881f4f118d0\"],\"start\":[\"ww_2abb408b24f75e6c\",\"ww_2abb408b24f75e6c\",\"ww_2abb408b24f75e6c\",\"ww_2abb408b24f75e6c\",\"ww_2abb408b24f75e6c\",\"ww_2abb408b24f75e6c\",\"ww_2abb408b24f75e6c\",\"ww_2abb408b24f75e6c\",\"ww_2abb408b24f75e6c\",\"ww_4b9a43113334c0ad\",\"ww_4b9a43113334c0ad\",\"ww_4b9a43113334c0ad\",\"ww_4b9a43113334c0ad\",\"ww_4b9a43113334c0ad\",\"ww_210bac9f048b8eea\",\"ww_210bac9f048b8eea\",\"ww_210bac9f048b8eea\",\"ww_210bac9f048b8eea\",\"ww_210bac9f048b8eea\",\"ww_d3843909dc6e861b\",\"ww_d3843909dc6e861b\",\"ww_d3843909dc6e861b\",\"ww_d3843909dc6e861b\",\"ww_d3843909dc6e861b\",\"ww_57c42500ce0c6170\",\"ww_57c42500ce0c6170\",\"ww_57c42500ce0c6170\",\"ww_57c42500ce0c6170\",\"ww_57c42500ce0c6170\",\"ww_a987973d2abd4b57\",\"ww_a987973d2abd4b57\",\"ww_a987973d2abd4b57\",\"ww_6979462622390b73\",\"ww_6979462622390b73\",\"ww_6979462622390b73\",\"ww_6979462622390b73\",\"ww_6979462622390b73\",\"ww_6979462622390b73\",\"ww_6979462622390b73\",\"ww_6979462622390b73\",\"ww_7dc1f64b4c29a9d3\",\"ww_7dc1f64b4c29a9d3\",\"ww_7dc1f64b4c29a9d3\",\"ww_7dc1f64b4c29a9d3\",\"ww_7dc1f64b4c29a9d3\",\"ww_08075d65c13e49ee\",\"ww_08075d65c13e49ee\",\"ww_08075d65c13e49ee\",\"ww_b9f19b471626f83e\",\"ww_b9f19b471626f83e\",\"ww_b9f19b471626f83e\",\"ww_b9f19b471626f83e\",\"ww_b9f19b471626f83e\",\"ww_b9f19b471626f83e\",\"ww_b9f19b471626f83e\",\"ww_f27c7abd24218962\",\"ww_f27c7abd24218962\",\"ww_f27c7abd24218962\",\"ww_f27c7abd24218962\",\"ww_f27c7abd24218962\",\"ww_f27c7abd24218962\",\"ww_f27c7abd24218962\",\"ww_eb109a2a9b99c1f5\",\"ww_eb109a2a9b99c1f5\",\"ww_eb109a2a9b99c1f5\",\"ww_eb109a2a9b99c1f5\",\"ww_eb109a2a9b99c1f5\",\"ww_c10bde4b8bca2ae6\",\"ww_c10bde4b8bca2ae6\",\"ww_c10bde4b8bca2ae6\",\"ww_c10bde4b8bca2ae6\",\"ww_c10bde4b8bca2ae6\",\"ww_5cbdd6611f35e334\",\"ww_5cbdd6611f35e334\",\"ww_5cbdd6611f35e334\",\"ww_5cbdd6611f35e334\",\"ww_9e7a12cfee73da0b\",\"ww_9e7a12cfee73da0b\",\"ww_9e7a12cfee73da0b\",\"ww_d705147c9b9aaf18\",\"ww_d705147c9b9aaf18\",\"ww_e2effa540e636cd5\",\"ww_e2effa540e636cd5\",\"ww_e2effa540e636cd5\",\"ww_e2effa540e636cd5\",\"ww_e2effa540e636cd5\",\"ww_e2effa540e636cd5\",\"ww_e2effa540e636cd5\",\"ww_beea1c07025a2ffb\",\"ww_beea1c07025a2ffb\",\"ww_beea1c07025a2ffb\",\"ww_beea1c07025a2ffb\",\"ww_c2ae504efe318b6c\",\"ww_c2ae504efe318b6c\",\"ww_c2ae504efe318b6c\",\"ww_c2ae504efe318b6c\",\"ww_c2ae504efe318b6c\",\"ww_ce579bce70dc8776\",\"ww_ce579bce70dc8776\",\"ww_ce579bce70dc8776\"]},\"selected\":{\"id\":\"7142\"},\"selection_policy\":{\"id\":\"7141\"}},\"id\":\"5872\",\"type\":\"ColumnDataSource\"},{\"attributes\":{\"size\":{\"value\":5}},\"id\":\"5886\",\"type\":\"NormalHead\"},{\"attributes\":{},\"id\":\"7082\",\"type\":\"Selection\"},{\"attributes\":{\"data\":{},\"selected\":{\"id\":\"7076\"},\"selection_policy\":{\"id\":\"7075\"}},\"id\":\"6907\",\"type\":\"ColumnDataSource\"},{\"attributes\":{\"data\":{\"hover_info\":[\"\\n        <div style=\\\"margin-left: 1em; max-width: 300px;\\\">\\n            <div style=\\\"font-variant:normal; font-size: 10pt;\\\">\\u201cto be or not to be\\u201d</div>\\n            <br>\\n            from: <span style=\\\"font-variant:small-caps; font-size: 10pt;\\\">Hamlet (1623)</span><span style=\\\"font-size:10pt;\\\"> by William Shakespeare</span>\\n        </div>\\n        \",\"\\n        <div style=\\\"margin-left: 1em; max-width: 300px;\\\">\\n            <div style=\\\"font-variant:normal; font-size: 10pt;\\\">\\u201cnot to be when you have been,\\u201d</div>\\n            <br>\\n            from: <span style=\\\"font-variant:small-caps; font-size: 10pt;\\\">Those Five Questions (Tusculanae) (1561)</span><span style=\\\"font-size:10pt;\\\"> by Marcus Tullius Cicero</span>\\n            <br><br>\\n            <div style=\\\"margin-left: 2em;\\\"><div style=\\\"font-variant:normal; font-size: 8pt;\\\">\\u201cPerchance I have not told you all that I think; for <span style=\\\"font-weight:bold;\\\">not to be when you have been,</span> I think is the greatest misery that may be.\\u201d</div></div>\\n        </div>\\n        \",\"\\n        <div style=\\\"margin-left: 1em; max-width: 300px;\\\">\\n            <div style=\\\"font-variant:normal; font-size: 10pt;\\\">\\u201cTo be made capable of endless bliss, [...] Or not to Be at all,\\u201d</div>\\n            <br>\\n            from: <span style=\\\"font-variant:small-caps; font-size: 10pt;\\\">Mirum in Modum (1602)</span><span style=\\\"font-size:10pt;\\\"> by Sir John Davies of Hereford</span>\\n            <br><br>\\n            <div style=\\\"margin-left: 2em;\\\"><div style=\\\"font-variant:normal; font-size: 8pt;\\\">\\u201cAnd which of both (thinkst thou) would Reason choose? <span style=\\\"font-weight:bold;\\\">To be made capable of endless bliss,</span> With possibility the same to lose, And win a Hell, where all is quite amiss; <span style=\\\"font-weight:bold;\\\">Or not to Be at all,</span> both those to miss: Sure, Reas'n the first would chose, because the last Is lowest hell, where highest horror is; For in Not-beings bottom, being fast, Ought would to worse than nought, unworn waste.\\u201d</div></div>\\n        </div>\\n        \",\"\\n        <div style=\\\"margin-left: 1em; max-width: 300px;\\\">\\n            <div style=\\\"font-variant:normal; font-size: 10pt;\\\">\\u201cto be named or not to be named,\\u201d</div>\\n            <br>\\n            from: <span style=\\\"font-variant:small-caps; font-size: 10pt;\\\">The Phoenix (1604)</span><span style=\\\"font-size:10pt;\\\"> by Thomas Middleton</span>\\n            <br><br>\\n            <div style=\\\"margin-left: 2em;\\\"><div style=\\\"font-variant:normal; font-size: 8pt;\\\">\\u201c[Fidelio:] As also neither to touch, attempt, molest, or incumber any part, or parts whatsoever, either <span style=\\\"font-weight:bold;\\\">to be named or not to be named,</span> either hidden or unhidden, either those that boldly look abroad, or those that dare not show their faces -[.]\\u201d</div></div>\\n        </div>\\n        \",\"\\n        <div style=\\\"margin-left: 1em; max-width: 300px;\\\">\\n            <div style=\\\"font-variant:normal; font-size: 10pt;\\\">\\u201cTo marry or not to marry\\u201d</div>\\n            <br>\\n            from: <span style=\\\"font-variant:small-caps; font-size: 10pt;\\\">Epigraph (1649)</span><span style=\\\"font-size:10pt;\\\"> by William Drummond</span>\\n            <br><br>\\n            <div style=\\\"margin-left: 2em;\\\"><div style=\\\"font-variant:normal; font-size: 8pt;\\\">\\u201cKilled by ingratitude here blessed within doth rest: <span style=\\\"font-weight:bold;\\\">To marry or not to marry</span> which is best.\\u201d</div></div>\\n        </div>\\n        \",\"\\n        <div style=\\\"margin-left: 1em; max-width: 300px;\\\">\\n            <div style=\\\"font-variant:normal; font-size: 10pt;\\\">\\u201cto do, or not to do\\u201d</div>\\n            <br>\\n            from: <span style=\\\"font-variant:small-caps; font-size: 10pt;\\\">The Northern Lass (1629)</span><span style=\\\"font-size:10pt;\\\"> by Richard Brome</span>\\n            <br><br>\\n            <div style=\\\"margin-left: 2em;\\\"><div style=\\\"font-variant:normal; font-size: 8pt;\\\">\\u201c[Trainwell:] Not to be mad, sir, because she is melancholy. Not by taking a wrong course for her recovery to ruin her, and forfeit your judgment. Do you think that commands with chidings, threats or stripes, have power to work upon her, when she has neither will nor reason within herself <span style=\\\"font-weight:bold;\\\">to do, or not to do</span> anything whatsoever?\\u201d</div></div>\\n        </div>\\n        \",\"\\n        <div style=\\\"margin-left: 1em; max-width: 300px;\\\">\\n            <div style=\\\"font-variant:normal; font-size: 10pt;\\\">\\u201cto be done or not to be done\\u201d</div>\\n            <br>\\n            from: <span style=\\\"font-variant:small-caps; font-size: 10pt;\\\">Philosophical Rudiments Concerning Government and Society (1651)</span><span style=\\\"font-size:10pt;\\\"> by Thomas Hobbes</span>\\n            <br><br>\\n            <div style=\\\"margin-left: 2em;\\\"><div style=\\\"font-variant:normal; font-size: 8pt;\\\">\\u201cNow the gathering together of many men, who deliberate of what is <span style=\\\"font-weight:bold;\\\">to be done or not to be done</span> for the common good of all men, is that which I call a council.\\u201d</div></div>\\n        </div>\\n        \",\"\\n        <div style=\\\"margin-left: 1em; max-width: 300px;\\\">\\n            <div style=\\\"font-variant:normal; font-size: 10pt;\\\">\\u201cto think, or not to think: to move, or not to move,\\u201d</div>\\n            <br>\\n            from: <span style=\\\"font-variant:small-caps; font-size: 10pt;\\\">An Essay Concerning Human Understanding (1689)</span><span style=\\\"font-size:10pt;\\\"> by John Locke</span>\\n            <br><br>\\n            <div style=\\\"margin-left: 2em;\\\"><div style=\\\"font-variant:normal; font-size: 8pt;\\\">\\u201cAll the Actions, that we have any Idea of, reducing themselves, as has been said, to these two, viz. Thinking and Motion, so far as a Man has a power <span style=\\\"font-weight:bold;\\\">to think, or not to think: to move, or not to move,</span> according to the preference or direction of his own mind, so far is a Man Free.\\u201d</div></div>\\n        </div>\\n        \",\"\\n        <div style=\\\"margin-left: 1em; max-width: 300px;\\\">\\n            <div style=\\\"font-variant:normal; font-size: 10pt;\\\">\\u201cTo be and not to be\\u201d</div>\\n            <br>\\n            from: <span style=\\\"font-variant:small-caps; font-size: 10pt;\\\">Dives and Lazarus (1685)</span><span style=\\\"font-size:10pt;\\\"> by John Mason (2)</span>\\n            <br><br>\\n            <div style=\\\"margin-left: 2em;\\\"><div style=\\\"font-variant:normal; font-size: 8pt;\\\">\\u201cCome now, thou that pretend'st to Act the Man, Something there needs must be, which ne'er began. As all were nothing once, So 'twould be now. A Number from bare Cyphers could not grow. Nothing's a Barren Womb. If that could breed, <span style=\\\"font-weight:bold;\\\">To be and not to be</span> were well agreed.\\u201d</div></div>\\n        </div>\\n        \",\"\\n        <div style=\\\"margin-left: 1em; max-width: 300px;\\\">\\n            <div style=\\\"font-variant:normal; font-size: 10pt;\\\">\\u201cTo be a King, or not to be at all;\\u201d</div>\\n            <br>\\n            from: <span style=\\\"font-variant:small-caps; font-size: 10pt;\\\">The Duke of Guise (1682)</span><span style=\\\"font-size:10pt;\\\"> by John Dryden, Nathaniel Lee</span>\\n            <br><br>\\n            <div style=\\\"margin-left: 2em;\\\"><div style=\\\"font-variant:normal; font-size: 8pt;\\\">\\u201c[King:] Tomorrow Guise is made Lieutenant-General, Why then tomorrow I no more am King; 'Tis time to push my slackened vengeance home, <span style=\\\"font-weight:bold;\\\">To be a King, or not to be at all;</span> The Vow that manacled my Rage is loosed, Even Heaven is wearied with repeated Crimes, Till lightning flashes round to guard the Throne, And the curbed Thunder grumbles to be gone.\\u201d</div></div>\\n        </div>\\n        \",\"\\n        <div style=\\\"margin-left: 1em; max-width: 300px;\\\">\\n            <div style=\\\"font-variant:normal; font-size: 10pt;\\\">\\u201csea of troubles\\u201d</div>\\n            <br>\\n            from: <span style=\\\"font-variant:small-caps; font-size: 10pt;\\\">Hamlet (1623)</span><span style=\\\"font-size:10pt;\\\"> by William Shakespeare</span>\\n        </div>\\n        \",\"\\n        <div style=\\\"margin-left: 1em; max-width: 300px;\\\">\\n            <div style=\\\"font-variant:normal; font-size: 10pt;\\\">\\u201cthe waves of this troublesome world\\u201d</div>\\n            <br>\\n            from: <span style=\\\"font-variant:small-caps; font-size: 10pt;\\\">The Book of Common Prayer (1562)</span><span style=\\\"font-size:10pt;\\\"> by Anonymous</span>\\n            <br><br>\\n            <div style=\\\"margin-left: 2em;\\\"><div style=\\\"font-variant:normal; font-size: 8pt;\\\">\\u201c[...] May so pass <span style=\\\"font-weight:bold;\\\">the waves of this troublesome world</span> [...].\\u201d</div></div>\\n        </div>\\n        \",\"\\n        <div style=\\\"margin-left: 1em; max-width: 300px;\\\">\\n            <div style=\\\"font-variant:normal; font-size: 10pt;\\\">\\u201cthe troublous sea\\u201d</div>\\n            <br>\\n            from: <span style=\\\"font-variant:small-caps; font-size: 10pt;\\\">On the State of Matrimony (1571)</span><span style=\\\"font-size:10pt;\\\"> by John Jewel</span>\\n            <br><br>\\n            <div style=\\\"margin-left: 2em;\\\"><div style=\\\"font-variant:normal; font-size: 8pt;\\\">\\u201cSo shall we passe through the dangers of <span style=\\\"font-weight:bold;\\\">the troublous sea</span> of this world\\u201d</div></div>\\n        </div>\\n        \",\"\\n        <div style=\\\"margin-left: 1em; max-width: 300px;\\\">\\n            <div style=\\\"font-variant:normal; font-size: 10pt;\\\">\\u201cSea of many troubles\\u201d</div>\\n            <br>\\n            from: <span style=\\\"font-variant:small-caps; font-size: 10pt;\\\">Britain's Remembrancer (1628)</span><span style=\\\"font-size:10pt;\\\"> by George Wither</span>\\n            <br><br>\\n            <div style=\\\"margin-left: 2em;\\\"><div style=\\\"font-variant:normal; font-size: 8pt;\\\">\\u201cYet went I to his Work the furthest way: And, travelled, as mine own occasions lay. Which he perceiving, sent a Storm that crest me; Made shipwreck of my hopes; my labour lost me; Befooled my wisdom; of much joy bereft me; Within the <span style=\\\"font-weight:bold;\\\">Sea of many troubles</span> left me; And what with speed and ease I might have done At first; hath long with pain been lingered on.\\u201d</div></div>\\n        </div>\\n        \",\"\\n        <div style=\\\"margin-left: 1em; max-width: 300px;\\\">\\n            <div style=\\\"font-variant:normal; font-size: 10pt;\\\">\\u201csea of trouble,\\u201d</div>\\n            <br>\\n            from: <span style=\\\"font-variant:small-caps; font-size: 10pt;\\\">The Loyal Lovers (1652)</span><span style=\\\"font-size:10pt;\\\"> by Cosmo Manuche</span>\\n            <br><br>\\n            <div style=\\\"margin-left: 2em;\\\"><div style=\\\"font-variant:normal; font-size: 8pt;\\\">\\u201c[Adrastus:] Thanks, good Clarathea , for thy remembrance; For I had almost lost my self in joyes unspeakable. My dear Letesia , (so I dare call the now) Hast thou made choice of any course to steer in this Same <span style=\\\"font-weight:bold;\\\">sea of trouble,</span> mixt with joy?\\u201d</div></div>\\n        </div>\\n        \",\"\\n        <div style=\\\"margin-left: 1em; max-width: 300px;\\\">\\n            <div style=\\\"font-variant:normal; font-size: 10pt;\\\">\\u201cAdam [...] a troubled Sea of passion\\u201d</div>\\n            <br>\\n            from: <span style=\\\"font-variant:small-caps; font-size: 10pt;\\\">Paradise Lost (1667)</span><span style=\\\"font-size:10pt;\\\"> by John Milton</span>\\n            <br><br>\\n            <div style=\\\"margin-left: 2em;\\\"><div style=\\\"font-variant:normal; font-size: 8pt;\\\">\\u201cThese were from without The growing miseries, which <span style=\\\"font-weight:bold;\\\">Adam</span> saw Already in part, though hid in gloomiest shade, To sorrow abandoned, but worse felt within, And in <span style=\\\"font-weight:bold;\\\">a troubled Sea of passion</span> tossed, Thus to disburden sought with sad complaint [...].\\u201d</div></div>\\n        </div>\\n        \",\"\\n        <div style=\\\"margin-left: 1em; max-width: 300px;\\\">\\n            <div style=\\\"font-variant:normal; font-size: 10pt;\\\">\\u201cpampered jades of Asia\\u201d</div>\\n            <br>\\n            from: <span style=\\\"font-variant:small-caps; font-size: 10pt;\\\">Henry IV Part 2 (1600)</span><span style=\\\"font-size:10pt;\\\"> by William Shakespeare</span>\\n        </div>\\n        \",\"\\n        <div style=\\\"margin-left: 1em; max-width: 300px;\\\">\\n            <div style=\\\"font-variant:normal; font-size: 10pt;\\\">\\u201cthe pampered Jades of Thrace\\u201d</div>\\n            <br>\\n            from: <span style=\\\"font-variant:small-caps; font-size: 10pt;\\\">Ovid's Metamorphoses (1567)</span><span style=\\\"font-size:10pt;\\\"> by Arthur Golding</span>\\n            <br><br>\\n            <div style=\\\"margin-left: 2em;\\\"><div style=\\\"font-variant:normal; font-size: 8pt;\\\">\\u201cWhat? is it I that did behold <span style=\\\"font-weight:bold;\\\">the pampered Jades of Thrace</span> With Mangers full of flesh of men on which they fed apace? Ist I that down at sight thereof their greasy Mangers threw, And both the fatted Jades themselves and eke their master slew?\\u201d</div></div>\\n        </div>\\n        \",\"\\n        <div style=\\\"margin-left: 1em; max-width: 300px;\\\">\\n            <div style=\\\"font-variant:normal; font-size: 10pt;\\\">\\u201cheadstrong jades of Thrace [...] Alcides\\u201d</div>\\n            <br>\\n            from: <span style=\\\"font-variant:small-caps; font-size: 10pt;\\\">Tamburlaine Part 2 (1587)</span><span style=\\\"font-size:10pt;\\\"> by Christopher Marlowe</span>\\n            <br><br>\\n            <div style=\\\"margin-left: 2em;\\\"><div style=\\\"font-variant:normal; font-size: 8pt;\\\">\\u201c[Tamburlaine:] [...] The <span style=\\\"font-weight:bold;\\\">headstrong jades of Thrace</span> [...] <span style=\\\"font-weight:bold;\\\">Alcides</span> tamed, That King Aegeus fed with human flesh, And made so wanton that they knew their strengths, Were not subdued with valour more divine Than you by this unconquered arm of mine.\\u201d</div></div>\\n        </div>\\n        \",\"\\n        <div style=\\\"margin-left: 1em; max-width: 300px;\\\">\\n            <div style=\\\"font-variant:normal; font-size: 10pt;\\\">\\u201cmy pampered jade of Asia.\\u201d</div>\\n            <br>\\n            from: <span style=\\\"font-variant:small-caps; font-size: 10pt;\\\">The Coxcomb (1609)</span><span style=\\\"font-size:10pt;\\\"> by Francis Beaumont, John Fletcher</span>\\n            <br><br>\\n            <div style=\\\"margin-left: 2em;\\\"><div style=\\\"font-variant:normal; font-size: 8pt;\\\">\\u201c[Dorothy:] God's precious you young contagious whore must you be ticing? and is your flesh so wrank sir, that two may live upon't? I am glad to hear your curtail grown so lusty; he was dry foundered t'other day, weehee <span style=\\\"font-weight:bold;\\\">my pampered jade of Asia.</span>\\u201d</div></div>\\n        </div>\\n        \",\"\\n        <div style=\\\"margin-left: 1em; max-width: 300px;\\\">\\n            <div style=\\\"font-variant:normal; font-size: 10pt;\\\">\\u201cpampered jades unapt to travel,\\u201d</div>\\n            <br>\\n            from: <span style=\\\"font-variant:small-caps; font-size: 10pt;\\\">The Rich Cabinet, or Galateo (1616)</span><span style=\\\"font-size:10pt;\\\"> by T. G.</span>\\n            <br><br>\\n            <div style=\\\"margin-left: 2em;\\\"><div style=\\\"font-variant:normal; font-size: 8pt;\\\">\\u201cIdle Bees gather no honey, and so become drones to rob the hive: thus are <span style=\\\"font-weight:bold;\\\">pampered jades unapt to travel,</span> and lazy rogues unwilling to work.\\u201d</div></div>\\n        </div>\\n        \",\"\\n        <div style=\\\"margin-left: 1em; max-width: 300px;\\\">\\n            <div style=\\\"font-variant:normal; font-size: 10pt;\\\">\\u201cthose pampered Jades of Belgia\\u201d</div>\\n            <br>\\n            from: <span style=\\\"font-variant:small-caps; font-size: 10pt;\\\">The World Runs on Wheels (1623)</span><span style=\\\"font-size:10pt;\\\"> by John Taylor</span>\\n            <br><br>\\n            <div style=\\\"margin-left: 2em;\\\"><div style=\\\"font-variant:normal; font-size: 8pt;\\\">\\u201cIn what state I would lean over the Boot, and look, and pry if I saw any of my acquaintance, and then I would stand up, veiling my Bonnet, kissing my right claw, extending my arms as I had been swimming, with God save your Lordship, Worship, or how dost thou honest neighbour or good-fellow? in a word, the Coach made me think myself better than my betters that went on foot, and that I was but little inferior to Tamburlaine, being jolted thus in state by <span style=\\\"font-weight:bold;\\\">those pampered Jades of Belgia</span> [...].\\u201d</div></div>\\n        </div>\\n        \",\"\\n        <div style=\\\"margin-left: 1em; max-width: 300px;\\\">\\n            <div style=\\\"font-variant:normal; font-size: 10pt;\\\">\\u201cThe rest is silence.\\u201d</div>\\n            <br>\\n            from: <span style=\\\"font-variant:small-caps; font-size: 10pt;\\\">Hamlet (1623)</span><span style=\\\"font-size:10pt;\\\"> by William Shakespeare</span>\\n        </div>\\n        \",\"\\n        <div style=\\\"margin-left: 1em; max-width: 300px;\\\">\\n            <div style=\\\"font-variant:normal; font-size: 10pt;\\\">\\u201cThe rest is belly.\\u201d</div>\\n            <br>\\n            from: <span style=\\\"font-variant:small-caps; font-size: 10pt;\\\">Ovid's Metamorphoses (1567)</span><span style=\\\"font-size:10pt;\\\"> by Arthur Golding</span>\\n            <br><br>\\n            <div style=\\\"margin-left: 2em;\\\"><div style=\\\"font-variant:normal; font-size: 8pt;\\\">\\u201cInstead of legs, to both her sides stick fingers long and fine: <span style=\\\"font-weight:bold;\\\">The rest is belly.</span>\\u201d</div></div>\\n        </div>\\n        \",\"\\n        <div style=\\\"margin-left: 1em; max-width: 300px;\\\">\\n            <div style=\\\"font-variant:normal; font-size: 10pt;\\\">\\u201cthe rest is all but wind.\\u201d</div>\\n            <br>\\n            from: <span style=\\\"font-variant:small-caps; font-size: 10pt;\\\">A Fig for Fortune (1596)</span><span style=\\\"font-size:10pt;\\\"> by Anthony Copley</span>\\n            <br><br>\\n            <div style=\\\"margin-left: 2em;\\\"><div style=\\\"font-variant:normal; font-size: 8pt;\\\">\\u201c[Catechysius the Hermit:] Now all is but the action of the Mind, That rectified, <span style=\\\"font-weight:bold;\\\">the rest is all but wind.</span>\\u201d</div></div>\\n        </div>\\n        \",\"\\n        <div style=\\\"margin-left: 1em; max-width: 300px;\\\">\\n            <div style=\\\"font-variant:normal; font-size: 10pt;\\\">\\u201cthe rest is but boys' beauty,\\u201d</div>\\n            <br>\\n            from: <span style=\\\"font-variant:small-caps; font-size: 10pt;\\\">Love's Pilgrimage (1616)</span><span style=\\\"font-size:10pt;\\\"> by Francis Beaumont, John Fletcher</span>\\n            <br><br>\\n            <div style=\\\"margin-left: 2em;\\\"><div style=\\\"font-variant:normal; font-size: 8pt;\\\">\\u201c[Rodorigo:] Why should such plants as you are, pleasure's children That owe their blushing years to gentle objects, Tenderly bred, and brought up in all fulness, Desire the stubborn wars? [Marcantonio:] In those 'tis wonder, That make their ease their god, and not their honour: But noble General, my end is other, Desire of knowledge Sir, and hope of tying Discretion to my time, which only shows me, And not my years, a man, and makes that more. Which we call handsome, <span style=\\\"font-weight:bold;\\\">the rest is but boys' beauty,</span> And with the boy consumed.\\u201d</div></div>\\n        </div>\\n        \",\"\\n        <div style=\\\"margin-left: 1em; max-width: 300px;\\\">\\n            <div style=\\\"font-variant:normal; font-size: 10pt;\\\">\\u201cand all the rest is nothing.\\u201d</div>\\n            <br>\\n            from: <span style=\\\"font-variant:small-caps; font-size: 10pt;\\\">Five Love Letters from a Nun to a Cavalier (1678)</span><span style=\\\"font-size:10pt;\\\"> by Sir Roger L'Estrange</span>\\n            <br><br>\\n            <div style=\\\"margin-left: 2em;\\\"><div style=\\\"font-variant:normal; font-size: 8pt;\\\">\\u201cAnd I dare assure you that it will not be the worse for you neither, if you never set your heart upon any other woman: for certainly a Passion under the degree of mine, will never content you: You may find more Beauty perhaps elswhere (tho' the time was when you found no fault with mine) but you shall never meet with so true a heart; <span style=\\\"font-weight:bold;\\\">and all the rest is nothing.</span>\\u201d</div></div>\\n        </div>\\n        \",\"\\n        <div style=\\\"margin-left: 1em; max-width: 300px;\\\">\\n            <div style=\\\"font-variant:normal; font-size: 10pt;\\\">\\u201cThe rest is airy Notion,\\u201d</div>\\n            <br>\\n            from: <span style=\\\"font-variant:small-caps; font-size: 10pt;\\\">To Alexis in Answer to His Poem against Fruition (1688)</span><span style=\\\"font-size:10pt;\\\"> by Aphra Behn</span>\\n            <br><br>\\n            <div style=\\\"margin-left: 2em;\\\"><div style=\\\"font-variant:normal; font-size: 8pt;\\\">\\u201cMan! our great business and our aim, For whom we spread our fruitless snares, No sooner kindles the designing flame, But to the next bright object bears The Trophies of his conquest and our shame: Inconstancy's the good supreme <span style=\\\"font-weight:bold;\\\">The rest is airy Notion,</span> empty Dream!\\u201d</div></div>\\n        </div>\\n        \",\"\\n        <div style=\\\"margin-left: 1em; max-width: 300px;\\\">\\n            <div style=\\\"font-variant:normal; font-size: 10pt;\\\">\\u201can old man is twice a child\\u201d</div>\\n            <br>\\n            from: <span style=\\\"font-variant:small-caps; font-size: 10pt;\\\">Hamlet (1623)</span><span style=\\\"font-size:10pt;\\\"> by William Shakespeare</span>\\n        </div>\\n        \",\"\\n        <div style=\\\"margin-left: 1em; max-width: 300px;\\\">\\n            <div style=\\\"font-variant:normal; font-size: 10pt;\\\">\\u201cOld Men are twice Children. Bis pueri senes.\\u201d</div>\\n            <br>\\n            from: <span style=\\\"font-variant:small-caps; font-size: 10pt;\\\">Sententiae Pueriles (1540)</span><span style=\\\"font-size:10pt;\\\"> by Leonard Culman, Charles Hoole</span>\\n            <br><br>\\n            <div style=\\\"margin-left: 2em;\\\"><div style=\\\"font-variant:normal; font-size: 8pt;\\\">\\u201c<span style=\\\"font-weight:bold;\\\">Old Men are twice Children. Bis pueri senes.</span>\\u201d</div></div>\\n        </div>\\n        \",\"\\n        <div style=\\\"margin-left: 1em; max-width: 300px;\\\">\\n            <div style=\\\"font-variant:normal; font-size: 10pt;\\\">\\u201cOnce old and twice a child,\\u201d</div>\\n            <br>\\n            from: <span style=\\\"font-variant:small-caps; font-size: 10pt;\\\">Cordila (1574)</span><span style=\\\"font-size:10pt;\\\"> by John Higgins</span>\\n            <br><br>\\n            <div style=\\\"margin-left: 2em;\\\"><div style=\\\"font-variant:normal; font-size: 8pt;\\\">\\u201cYet nevertheless, my father did me not mislike: But age so simple is, and easy to subdue: As childhood weak, that's void of wit and reason quite: They think there's nought, you flatter feigned, but all is true: <span style=\\\"font-weight:bold;\\\">Once old and twice a child,</span> 'tis said with you, Which I affirm by proof, that was defined: In age my father had a childish mind.\\u201d</div></div>\\n        </div>\\n        \",\"\\n        <div style=\\\"margin-left: 1em; max-width: 300px;\\\">\\n            <div style=\\\"font-variant:normal; font-size: 10pt;\\\">\\u201cnon progredi id est regredi. [...] once a man and twice a child.\\u201d</div>\\n            <br>\\n            from: <span style=\\\"font-variant:small-caps; font-size: 10pt;\\\">The New Academy, or The New Exchange (1636)</span><span style=\\\"font-size:10pt;\\\"> by Richard Brome</span>\\n            <br><br>\\n            <div style=\\\"margin-left: 2em;\\\"><div style=\\\"font-variant:normal; font-size: 8pt;\\\">\\u201c[Ephraim:] But sir, beware you fall not back again Into your childish follies: but go forwards In manly actions, for <span style=\\\"font-weight:bold;\\\">non progredi id est regredi.</span> [Nehemiah:] I know the meaning of that too, Ephraim: that's <span style=\\\"font-weight:bold;\\\">once a man and twice a child.</span> But if I turn child again, while I have teeth in my head, I'll give Mistress Blith leave to dig 'em out with sugar plums, as she almost did these two of 'em yesterday, with her knuckles.\\u201d</div></div>\\n        </div>\\n        \",\"\\n        <div style=\\\"margin-left: 1em; max-width: 300px;\\\">\\n            <div style=\\\"font-variant:normal; font-size: 10pt;\\\">\\u201ca man may be twice a child\\u201d</div>\\n            <br>\\n            from: <span style=\\\"font-variant:small-caps; font-size: 10pt;\\\">Religio Medici (1642)</span><span style=\\\"font-size:10pt;\\\"> by Sir Thomas Browne</span>\\n            <br><br>\\n            <div style=\\\"margin-left: 2em;\\\"><div style=\\\"font-variant:normal; font-size: 8pt;\\\">\\u201cI find my growing Judgement daily instructs me how to be better, but my untamed affections and confirmed vitiosity makes me daily do worse; I find in my confirmed age the same sins I discovered in my youth, I committed many then because I was a child, and because I commit them still I am yet an Infant. Therefore I perceive <span style=\\\"font-weight:bold;\\\">a man may be twice a child</span> before the days of dotage, and stand in need of Aeson's bath before threescore.\\u201d</div></div>\\n        </div>\\n        \",\"\\n        <div style=\\\"margin-left: 1em; max-width: 300px;\\\">\\n            <div style=\\\"font-variant:normal; font-size: 10pt;\\\">\\u201ctwice a Child\\u201d</div>\\n            <br>\\n            from: <span style=\\\"font-variant:small-caps; font-size: 10pt;\\\">Advice to an Old Man of Sixty-Three, about to Marry a Girl of Sixteen (1686)</span><span style=\\\"font-size:10pt;\\\"> by Thomas Flatman</span>\\n            <br><br>\\n            <div style=\\\"margin-left: 2em;\\\"><div style=\\\"font-variant:normal; font-size: 8pt;\\\">\\u201cNow fie upon him! what is Man, Whose life at best is but a span? When to an Inch it dwindles down, Ice in his bones, Snow on his crown, That he within his crazy brain, Kind thoughts of Love should entertain, That he, when Harvest comes should plow, And when 'tis time to reap, go sow, Who in imagination only strong, Though <span style=\\\"font-weight:bold;\\\">twice a Child</span>, can never twice grow young.\\u201d</div></div>\\n        </div>\\n        \",\"\\n        <div style=\\\"margin-left: 1em; max-width: 300px;\\\">\\n            <div style=\\\"font-variant:normal; font-size: 10pt;\\\">\\u201cIn my mind's eye\\u201d</div>\\n            <br>\\n            from: <span style=\\\"font-variant:small-caps; font-size: 10pt;\\\">Hamlet (1623)</span><span style=\\\"font-size:10pt;\\\"> by William Shakespeare</span>\\n        </div>\\n        \",\"\\n        <div style=\\\"margin-left: 1em; max-width: 300px;\\\">\\n            <div style=\\\"font-variant:normal; font-size: 10pt;\\\">\\u201cwith the eye of their mind\\u201d</div>\\n            <br>\\n            from: <span style=\\\"font-variant:small-caps; font-size: 10pt;\\\">The Canterbury Tales (1387)</span><span style=\\\"font-size:10pt;\\\"> by Geoffrey Chaucer</span>\\n            <br><br>\\n            <div style=\\\"margin-left: 2em;\\\"><div style=\\\"font-variant:normal; font-size: 8pt;\\\">\\u201cBut yet never Christian Britons so exiled That there near some that in their privacy Honoured Christ and heathen folk beguiled And near the castle such there dwelt three. That one of hem was blind and might not see, But it were <span style=\\\"font-weight:bold;\\\">with the eye of their mind</span> With which men see, after that they [have] been blind.\\u201d</div></div>\\n        </div>\\n        \",\"\\n        <div style=\\\"margin-left: 1em; max-width: 300px;\\\">\\n            <div style=\\\"font-variant:normal; font-size: 10pt;\\\">\\u201cmine eyes, and before my mind. [...] before mine eyes, and in my mind\\u201d</div>\\n            <br>\\n            from: <span style=\\\"font-variant:small-caps; font-size: 10pt;\\\">Acolastus (English) (1540)</span><span style=\\\"font-size:10pt;\\\"> by John Palsgrave</span>\\n            <br><br>\\n            <div style=\\\"margin-left: 2em;\\\"><div style=\\\"font-variant:normal; font-size: 8pt;\\\">\\u201c[Pelargus:] I learn by myself how much the care of the father is toward his son, being absent, or being away from him, because my son is now lately put away from me, my mind can not abide or suffer to be in rest or quiet, but that he diligently haunteth before <span style=\\\"font-weight:bold;\\\">mine eyes, and before my mind.</span> i. but that he continually or still is present or haunteth or walketh to and fro, <span style=\\\"font-weight:bold;\\\">before mine eyes, and in my mind</span> (by reason of my much thinking upon him) I take care or thought for him being absent, not otherwise.\\u201d</div></div>\\n        </div>\\n        \",\"\\n        <div style=\\\"margin-left: 1em; max-width: 300px;\\\">\\n            <div style=\\\"font-variant:normal; font-size: 10pt;\\\">\\u201cby the eye of the Mind\\u201d</div>\\n            <br>\\n            from: <span style=\\\"font-variant:small-caps; font-size: 10pt;\\\">A Treatise Of Self-Denial (1675)</span><span style=\\\"font-size:10pt;\\\"> by Richard Baxter</span>\\n            <br><br>\\n            <div style=\\\"margin-left: 2em;\\\"><div style=\\\"font-variant:normal; font-size: 8pt;\\\">\\u201cYou have had many a thought of it, and bestowed many a day's labour for it, and yet do you not know it? O but you never saw it for all this? Answ. It is a spiritual Blessedness that Flesh and Blood can neither enjoy nor see: But <span style=\\\"font-weight:bold;\\\">by the eye of the Mind</span> you have often seen, at least some glimpse of it; You know that it is the present intuition and full fruition of God himself and your glorified Redeemer with his blessed Angels and Saints in perfect Love, and Joy, and Praise. And if you know this, you are not altogether Strangers to Heaven.\\u201d</div></div>\\n        </div>\\n        \",\"\\n        <div style=\\\"margin-left: 1em; max-width: 300px;\\\">\\n            <div style=\\\"font-variant:normal; font-size: 10pt;\\\">\\u201ca horse, a horse, my kingdom for a horse\\u201d</div>\\n            <br>\\n            from: <span style=\\\"font-variant:small-caps; font-size: 10pt;\\\">Richard III (1623)</span><span style=\\\"font-size:10pt;\\\"> by William Shakespeare</span>\\n        </div>\\n        \",\"\\n        <div style=\\\"margin-left: 1em; max-width: 300px;\\\">\\n            <div style=\\\"font-variant:normal; font-size: 10pt;\\\">\\u201ca horse. [...] a horse to fly, [...] A horse, a horse, villain a horse,\\u201d</div>\\n            <br>\\n            from: <span style=\\\"font-variant:small-caps; font-size: 10pt;\\\">The Battle of Alcazar (1588)</span><span style=\\\"font-size:10pt;\\\"> by George Peele</span>\\n            <br><br>\\n            <div style=\\\"margin-left: 2em;\\\"><div style=\\\"font-variant:normal; font-size: 8pt;\\\">\\u201c[Muly Mahamet:] Villain, <span style=\\\"font-weight:bold;\\\">a horse.</span> [Boy:] Oh my Lord, if you return you die. [Muly Mahamet:] Villain I say, give me <span style=\\\"font-weight:bold;\\\">a horse to fly,</span> To swim the river villain, and to flie. [Muly Mahamet:] <span style=\\\"font-weight:bold;\\\">A horse, a horse, villain a horse,</span> That I may take the river straight and fly.\\u201d</div></div>\\n        </div>\\n        \",\"\\n        <div style=\\\"margin-left: 1em; max-width: 300px;\\\">\\n            <div style=\\\"font-variant:normal; font-size: 10pt;\\\">\\u201cA man, a man, a kingdom for a man!\\u201d</div>\\n            <br>\\n            from: <span style=\\\"font-variant:small-caps; font-size: 10pt;\\\">The Scourge of Villainy (1598)</span><span style=\\\"font-size:10pt;\\\"> by John Marston</span>\\n            <br><br>\\n            <div style=\\\"margin-left: 2em;\\\"><div style=\\\"font-variant:normal; font-size: 8pt;\\\">\\u201c<span style=\\\"font-weight:bold;\\\">A man, a man, a kingdom for a man!</span> Why, how now, currish, mad Athenian? Thou cynic dog, see'st not streets do swarm With troops of men?\\u201d</div></div>\\n        </div>\\n        \",\"\\n        <div style=\\\"margin-left: 1em; max-width: 300px;\\\">\\n            <div style=\\\"font-variant:normal; font-size: 10pt;\\\">\\u201cA boat, a boat, a boat, a full hundred Marks for a boat.\\u201d</div>\\n            <br>\\n            from: <span style=\\\"font-variant:small-caps; font-size: 10pt;\\\">Eastward Ho! (1605)</span><span style=\\\"font-size:10pt;\\\"> by George Chapman, Ben Jonson, John Marston</span>\\n            <br><br>\\n            <div style=\\\"margin-left: 2em;\\\"><div style=\\\"font-variant:normal; font-size: 8pt;\\\">\\u201c[Security:] [...] <span style=\\\"font-weight:bold;\\\">A boat, a boat, a boat, a full hundred Marks for a boat.</span>\\u201d</div></div>\\n        </div>\\n        \",\"\\n        <div style=\\\"margin-left: 1em; max-width: 300px;\\\">\\n            <div style=\\\"font-variant:normal; font-size: 10pt;\\\">\\u201cA fool, a fool, a fool! my Coxcomb for a fool!\\u201d</div>\\n            <br>\\n            from: <span style=\\\"font-variant:small-caps; font-size: 10pt;\\\">The Fawn, or Parasitaster (1605)</span><span style=\\\"font-size:10pt;\\\"> by John Marston</span>\\n            <br><br>\\n            <div style=\\\"margin-left: 2em;\\\"><div style=\\\"font-variant:normal; font-size: 8pt;\\\">\\u201c[Don Zuccone:] [...] <span style=\\\"font-weight:bold;\\\">A fool, a fool, a fool! my Coxcomb for a fool!</span>\\u201d</div></div>\\n        </div>\\n        \",\"\\n        <div style=\\\"margin-left: 1em; max-width: 300px;\\\">\\n            <div style=\\\"font-variant:normal; font-size: 10pt;\\\">\\u201cmy kingdom for a boat, for a muscle boat;\\u201d</div>\\n            <br>\\n            from: <span style=\\\"font-variant:small-caps; font-size: 10pt;\\\">The Poor Man's Comfort (1616)</span><span style=\\\"font-size:10pt;\\\"> by Robert Daborne</span>\\n            <br><br>\\n            <div style=\\\"margin-left: 2em;\\\"><div style=\\\"font-variant:normal; font-size: 8pt;\\\">\\u201c[Sigismond:] [...] but where is Europa? See where she swims away upon a bull's back; <span style=\\\"font-weight:bold;\\\">my kingdom for a boat, for a muscle boat;</span> lay more sails on!\\u201d</div></div>\\n        </div>\\n        \",\"\\n        <div style=\\\"margin-left: 1em; max-width: 300px;\\\">\\n            <div style=\\\"font-variant:normal; font-size: 10pt;\\\">\\u201cmy Kingdom for a sword.\\u201d</div>\\n            <br>\\n            from: <span style=\\\"font-variant:small-caps; font-size: 10pt;\\\">The Little French Laywer (1620)</span><span style=\\\"font-size:10pt;\\\"> by John Fletcher, Philip Massinger</span>\\n            <br><br>\\n            <div style=\\\"margin-left: 2em;\\\"><div style=\\\"font-variant:normal; font-size: 8pt;\\\">\\u201c[Sampson:] [...] Look up brave friend, I have no means to rescue thee, <span style=\\\"font-weight:bold;\\\">my Kingdom for a sword.</span> [Champernell:] I'll sword you presently. I'll claw your skin-coat too.\\u201d</div></div>\\n        </div>\\n        \",\"\\n        <div style=\\\"margin-left: 1em; max-width: 300px;\\\">\\n            <div style=\\\"font-variant:normal; font-size: 10pt;\\\">\\u201cKing Richard [...] a horse, a horse,\\u201d</div>\\n            <br>\\n            from: <span style=\\\"font-variant:small-caps; font-size: 10pt;\\\">Iter Boreale (1647)</span><span style=\\\"font-size:10pt;\\\"> by Richard Corbet</span>\\n            <br><br>\\n            <div style=\\\"margin-left: 2em;\\\"><div style=\\\"font-variant:normal; font-size: 8pt;\\\">\\u201cUpon this Hill they met; why, he could tell The Inch where Richmond stood, where Richard fell; Besides what of his knowledge he could say, He had Authentic notice from the Play; Which I might guess by his mustering up the Ghosts, And policies not incident to hosts: But chiefly by that one perspicuous thing, Where he mistook a Player for a King, For when he would have said, <span style=\\\"font-weight:bold;\\\">King Richard</span> died, And called <span style=\\\"font-weight:bold;\\\">a horse, a horse,</span> he Burbage cried.\\u201d</div></div>\\n        </div>\\n        \",\"\\n        <div style=\\\"margin-left: 1em; max-width: 300px;\\\">\\n            <div style=\\\"font-variant:normal; font-size: 10pt;\\\">\\u201call my Kingdom for the bliss I'd give:\\u201d</div>\\n            <br>\\n            from: <span style=\\\"font-variant:small-caps; font-size: 10pt;\\\">Don Carlos, Prince of Spain (1676)</span><span style=\\\"font-size:10pt;\\\"> by Thomas Otway</span>\\n            <br><br>\\n            <div style=\\\"margin-left: 2em;\\\"><div style=\\\"font-variant:normal; font-size: 8pt;\\\">\\u201c[King Philip of Spain:] I've all this while been angry but in vain; She heats me first, then strokes me tame again. Oh wert thou true how happy should I be! Think'st Thou that I have Joy to part with thee? No, <span style=\\\"font-weight:bold;\\\">all my Kingdom for the bliss I'd give:</span> Nay though it were not so but to believe.\\u201d</div></div>\\n        </div>\\n        \",\"\\n        <div style=\\\"margin-left: 1em; max-width: 300px;\\\">\\n            <div style=\\\"font-variant:normal; font-size: 10pt;\\\">\\u201cgo, by Saint Hieronimo\\u201d</div>\\n            <br>\\n            from: <span style=\\\"font-variant:small-caps; font-size: 10pt;\\\">Taming of the Shrew (1623)</span><span style=\\\"font-size:10pt;\\\"> by William Shakespeare</span>\\n        </div>\\n        \",\"\\n        <div style=\\\"margin-left: 1em; max-width: 300px;\\\">\\n            <div style=\\\"font-variant:normal; font-size: 10pt;\\\">\\u201cHieronimo, beware, go by, go by.\\u201d</div>\\n            <br>\\n            from: <span style=\\\"font-variant:small-caps; font-size: 10pt;\\\">The Spanish Tragedy (1587)</span><span style=\\\"font-size:10pt;\\\"> by Thomas Kyd</span>\\n            <br><br>\\n            <div style=\\\"margin-left: 2em;\\\"><div style=\\\"font-variant:normal; font-size: 8pt;\\\">\\u201c[King:] Who is he that interrupts our business? [Hieronimo:] Not I. (Aside) <span style=\\\"font-weight:bold;\\\">Hieronimo, beware, go by, go by.</span>\\u201d</div></div>\\n        </div>\\n        \",\"\\n        <div style=\\\"margin-left: 1em; max-width: 300px;\\\">\\n            <div style=\\\"font-variant:normal; font-size: 10pt;\\\">\\u201cGo from my window go, go from, and away, go by old Hieronimo\\u201d</div>\\n            <br>\\n            from: <span style=\\\"font-variant:small-caps; font-size: 10pt;\\\">Blurt, Master Constable (1601)</span><span style=\\\"font-size:10pt;\\\"> by Thomas Dekker</span>\\n            <br><br>\\n            <div style=\\\"margin-left: 2em;\\\"><div style=\\\"font-variant:normal; font-size: 8pt;\\\">\\u201c[Simperina:] <span style=\\\"font-weight:bold;\\\">Go from my window go, go from, and away, go by old Hieronimo</span>; nay and you shrink i'th wetting, walk, walk, walk.\\u201d</div></div>\\n        </div>\\n        \",\"\\n        <div style=\\\"margin-left: 1em; max-width: 300px;\\\">\\n            <div style=\\\"font-variant:normal; font-size: 10pt;\\\">\\u201cGo by Hieronimo, go by\\u201d</div>\\n            <br>\\n            from: <span style=\\\"font-variant:small-caps; font-size: 10pt;\\\">Satiromastix, or The Untrussing of the Humorous Poet (1601)</span><span style=\\\"font-size:10pt;\\\"> by Thomas Dekker</span>\\n            <br><br>\\n            <div style=\\\"margin-left: 2em;\\\"><div style=\\\"font-variant:normal; font-size: 8pt;\\\">\\u201c[Tucca:] <span style=\\\"font-weight:bold;\\\">Go by Hieronimo, go by</span>; and here, drop the ten shillings into this basin; do, drop, when Jack?\\u201d</div></div>\\n        </div>\\n        \",\"\\n        <div style=\\\"margin-left: 1em; max-width: 300px;\\\">\\n            <div style=\\\"font-variant:normal; font-size: 10pt;\\\">\\u201cand go by Hieronimo\\u201d</div>\\n            <br>\\n            from: <span style=\\\"font-variant:small-caps; font-size: 10pt;\\\">The Captain (1612)</span><span style=\\\"font-size:10pt;\\\"> by Francis Beaumont, John Fletcher</span>\\n            <br><br>\\n            <div style=\\\"margin-left: 2em;\\\"><div style=\\\"font-variant:normal; font-size: 8pt;\\\">\\u201c[Fabritio:] [...] And call thee bloody bones, and Spade, and Spitfire, And Gaffer Madman; <span style=\\\"font-weight:bold;\\\">and go by Hieronimo</span>, And will with wisp and come aloft, and crack rope, And old Saint Dennis with the dudgeon Codpiece: And twenty such names.\\u201d</div></div>\\n        </div>\\n        \",\"\\n        <div style=\\\"margin-left: 1em; max-width: 300px;\\\">\\n            <div style=\\\"font-variant:normal; font-size: 10pt;\\\">\\u201cPass by Hieronimo.\\u201d</div>\\n            <br>\\n            from: <span style=\\\"font-variant:small-caps; font-size: 10pt;\\\">The Rebellion (1633)</span><span style=\\\"font-size:10pt;\\\"> by Thomas Rawlins</span>\\n            <br><br>\\n            <div style=\\\"margin-left: 2em;\\\"><div style=\\\"font-variant:normal; font-size: 8pt;\\\">\\u201c[First Tailor:] Who shall act Prince Belthazer and the King? [Third Tailor:] I will do Prince Belthazer too: and for the King Who but I? which of you all has such a face for a King, Or such a leg to trip up the heels of a Traitor? [Second Tailor:] You will do all I think. [Third Tailor:] Yes marry will I; who but Uirmine? yet I will Leave all to play the King: <span style=\\\"font-weight:bold;\\\">Pass by Hieronimo.</span>\\u201d</div></div>\\n        </div>\\n        \",\"\\n        <div style=\\\"margin-left: 1em; max-width: 300px;\\\">\\n            <div style=\\\"font-variant:normal; font-size: 10pt;\\\">\\u201cthereby hangs a tale\\u201d</div>\\n            <br>\\n            from: <span style=\\\"font-variant:small-caps; font-size: 10pt;\\\">As You Like It (1623)</span><span style=\\\"font-size:10pt;\\\"> by William Shakespeare</span>\\n        </div>\\n        \",\"\\n        <div style=\\\"margin-left: 1em; max-width: 300px;\\\">\\n            <div style=\\\"font-variant:normal; font-size: 10pt;\\\">\\u201cthereby lieth a tale\\u201d</div>\\n            <br>\\n            from: <span style=\\\"font-variant:small-caps; font-size: 10pt;\\\">The Garland or Chaplet of Laurel (1568)</span><span style=\\\"font-size:10pt;\\\"> by John Skelton</span>\\n            <br><br>\\n            <div style=\\\"margin-left: 2em;\\\"><div style=\\\"font-variant:normal; font-size: 8pt;\\\">\\u201cYet, though I say it, <span style=\\\"font-weight:bold;\\\">thereby lieth a tale</span> [...].\\u201d</div></div>\\n        </div>\\n        \",\"\\n        <div style=\\\"margin-left: 1em; max-width: 300px;\\\">\\n            <div style=\\\"font-variant:normal; font-size: 10pt;\\\">\\u201cby her there hangs a Tale.\\u201d</div>\\n            <br>\\n            from: <span style=\\\"font-variant:small-caps; font-size: 10pt;\\\">Ram Alley (1608)</span><span style=\\\"font-size:10pt;\\\"> by Lording Barry</span>\\n            <br><br>\\n            <div style=\\\"margin-left: 2em;\\\"><div style=\\\"font-variant:normal; font-size: 8pt;\\\">\\u201c[Sir Oliver Smallshank:] We old men have our crotchets, our conundrums, Our fegares, quirks and quibibles, As well as youth, Justice Tutchim I go To hunt no Buck, but prick a lusty Doe, I go in truth a wooing. [Justice Tutchin:] Then ride with me, I'll bring you to my sister Somerfield. [Sir Oliver Smallshank:] Justice not so: <span style=\\\"font-weight:bold;\\\">by her there hangs a Tale.</span>\\u201d</div></div>\\n        </div>\\n        \",\"\\n        <div style=\\\"margin-left: 1em; max-width: 300px;\\\">\\n            <div style=\\\"font-variant:normal; font-size: 10pt;\\\">\\u201cthere hangs a Tale.\\u201d</div>\\n            <br>\\n            from: <span style=\\\"font-variant:small-caps; font-size: 10pt;\\\">A Maidenhead Well Lost (1629)</span><span style=\\\"font-size:10pt;\\\"> by Thomas Heywood</span>\\n            <br><br>\\n            <div style=\\\"margin-left: 2em;\\\"><div style=\\\"font-variant:normal; font-size: 8pt;\\\">\\u201c[Clown:] I confess it; but whether you have served him well, or no, <span style=\\\"font-weight:bold;\\\">there hangs a Tale.</span>\\u201d</div></div>\\n        </div>\\n        \",\"\\n        <div style=\\\"margin-left: 1em; max-width: 300px;\\\">\\n            <div style=\\\"font-variant:normal; font-size: 10pt;\\\">\\u201cspringes to catch woodcocks\\u201d</div>\\n            <br>\\n            from: <span style=\\\"font-variant:small-caps; font-size: 10pt;\\\">Hamlet (1623)</span><span style=\\\"font-size:10pt;\\\"> by William Shakespeare</span>\\n        </div>\\n        \",\"\\n        <div style=\\\"margin-left: 1em; max-width: 300px;\\\">\\n            <div style=\\\"font-variant:normal; font-size: 10pt;\\\">\\u201cWilt thou set springs in a frosty Night, To catch the long-billed Woodcock\\u201d</div>\\n            <br>\\n            from: <span style=\\\"font-variant:small-caps; font-size: 10pt;\\\">The Tears of an Affectionate Shepherd Sick for Love (1594)</span><span style=\\\"font-size:10pt;\\\"> by Richard Barnfield</span>\\n            <br><br>\\n            <div style=\\\"margin-left: 2em;\\\"><div style=\\\"font-variant:normal; font-size: 8pt;\\\">\\u201cI have a fine bow, and an ivory arrow: And if thou miss, yet meat thou shalt lack, I'll hang a bag and bottle at thy back. <span style=\\\"font-weight:bold;\\\">Wilt thou set springs in a frosty Night, To catch the long-billed Woodcock</span> and the Snipe? (By the bright glimmering of the Starry light) The Partridge, Phaesant, or the greedy Crype?\\u201d</div></div>\\n        </div>\\n        \",\"\\n        <div style=\\\"margin-left: 1em; max-width: 300px;\\\">\\n            <div style=\\\"font-variant:normal; font-size: 10pt;\\\">\\u201csprings for Woodcocks\\u201d</div>\\n            <br>\\n            from: <span style=\\\"font-variant:small-caps; font-size: 10pt;\\\">Grimello's Fortunes (1604)</span><span style=\\\"font-size:10pt;\\\"> by Nicholas Breton</span>\\n            <br><br>\\n            <div style=\\\"margin-left: 2em;\\\"><div style=\\\"font-variant:normal; font-size: 8pt;\\\">\\u201c[Ganuzido:] Why, what have you taken then? or have you authority to take fools as you finde them in your way? If you have, you may happen yet to be deceived. [Grimello:] Why sir, I set no <span style=\\\"font-weight:bold;\\\">springs for Woodcocks</span>, and though I be no great wise man, yet I can do something else, than shoo the Goose for my living: and therefore, I pray you neither fear your Purse, nor play too much with my folly.\\u201d</div></div>\\n        </div>\\n        \",\"\\n        <div style=\\\"margin-left: 1em; max-width: 300px;\\\">\\n            <div style=\\\"font-variant:normal; font-size: 10pt;\\\">\\u201cthe spring I ha' set to catch this woodcock in:\\u201d</div>\\n            <br>\\n            from: <span style=\\\"font-variant:small-caps; font-size: 10pt;\\\">The Roaring Girl (1611)</span><span style=\\\"font-size:10pt;\\\"> by Thomas Dekker, Thomas Middleton</span>\\n            <br><br>\\n            <div style=\\\"margin-left: 2em;\\\"><div style=\\\"font-variant:normal; font-size: 8pt;\\\">\\u201c[Sir Davy:] Here's <span style=\\\"font-weight:bold;\\\">the spring I ha' set to catch this woodcock in:</span> an action In a false name - unknown to him - is entered. I'th' counter to arrest Jack Dapper.\\u201d</div></div>\\n        </div>\\n        \",\"\\n        <div style=\\\"margin-left: 1em; max-width: 300px;\\\">\\n            <div style=\\\"font-variant:normal; font-size: 10pt;\\\">\\u201cto catch the Woodcock in a Springe\\u201d</div>\\n            <br>\\n            from: <span style=\\\"font-variant:small-caps; font-size: 10pt;\\\">Laquei Ridiculosi (1613)</span><span style=\\\"font-size:10pt;\\\"> by Henry Parrot</span>\\n            <br><br>\\n            <div style=\\\"margin-left: 2em;\\\"><div style=\\\"font-variant:normal; font-size: 8pt;\\\">\\u201cMy honest friends that reads, I you beseech To make the best construction of each letter; And not to blame my lavishness of speech, In paying soundly where I am a debtor: My word and credit else you should infringe, Which was <span style=\\\"font-weight:bold;\\\">to catch the Woodcock in a Springe</span>.\\u201d</div></div>\\n        </div>\\n        \",\"\\n        <div style=\\\"margin-left: 1em; max-width: 300px;\\\">\\n            <div style=\\\"font-variant:normal; font-size: 10pt;\\\">\\u201cset their springes For to catch Woodcocks.\\u201d</div>\\n            <br>\\n            from: <span style=\\\"font-variant:small-caps; font-size: 10pt;\\\">The House of Correction (1619)</span><span style=\\\"font-size:10pt;\\\"> by John Heath</span>\\n            <br><br>\\n            <div style=\\\"margin-left: 2em;\\\"><div style=\\\"font-variant:normal; font-size: 8pt;\\\">\\u201cAlas, poor Book, hunt not thou after praise, Nor dare to stretch thy hand unto the Bays Upon a Poets head: let it suffice To thee and me, the world doth us despise. For 'tis a mad World, and it turns on hinges, Whilst some a-birding go, and <span style=\\\"font-weight:bold;\\\">set their springes For to catch Woodcocks.</span> Others sting and bite Like Wasps and Mastiffs, and do take delight To quarrel with their shadows, nay, themselves, And their own brood.\\u201d</div></div>\\n        </div>\\n        \",\"\\n        <div style=\\\"margin-left: 1em; max-width: 300px;\\\">\\n            <div style=\\\"font-variant:normal; font-size: 10pt;\\\">\\u201cSpring, which if it catch the Woodcock\\u201d</div>\\n            <br>\\n            from: <span style=\\\"font-variant:small-caps; font-size: 10pt;\\\">The Citizen Turned Gentleman (1672)</span><span style=\\\"font-size:10pt;\\\"> by Edward Ravenscroft</span>\\n            <br><br>\\n            <div style=\\\"margin-left: 2em;\\\"><div style=\\\"font-variant:normal; font-size: 8pt;\\\">\\u201c[Young Jorden:] By that means we shall get quit of him. [Trickmore:] The posture our affairs are in at present, do not much seem to require his absence, therefore I have contrived a defeat, and will keep him yet in play. I have set another <span style=\\\"font-weight:bold;\\\">Spring, which if it catch the Woodcock</span>, 'twill hold him fast. Look here comes forth our Knight in Petti-coats: muffle yourself up in your Cloak, and be gone. [Young Jorden:] A stately dame on my word.\\u201d</div></div>\\n        </div>\\n        \",\"\\n        <div style=\\\"margin-left: 1em; max-width: 300px;\\\">\\n            <div style=\\\"font-variant:normal; font-size: 10pt;\\\">\\u201cHere's another springe laid to catch the Woodcock.\\u201d</div>\\n            <br>\\n            from: <span style=\\\"font-variant:small-caps; font-size: 10pt;\\\">The London Cuckolds (1682)</span><span style=\\\"font-size:10pt;\\\"> by Edward Ravenscroft</span>\\n            <br><br>\\n            <div style=\\\"margin-left: 2em;\\\"><div style=\\\"font-variant:normal; font-size: 8pt;\\\">\\u201c[Roger:] Her's a Letter, Sir, to be delivered to you with all speed. [Ramble:] Ha - let me see't quickly (Opens it and reads.) From Eugenia [Townly:] Ay the Devil's coming abroad again to hinder your conversion. [Ramble (reads):] Sir, My Husband will be from home all this morning, I am very desirous to be informed the particulars of last nights misfortune; curiosity forces me, in spite of blushes to give you this invitation. Enter at the back-door without knocking, if you meet not Jane below come directly up stairs. - Good. [Townly:] <span style=\\\"font-weight:bold;\\\">Here's another springe laid to catch the Woodcock.</span> [Ramble:] Frank, is not here temptation now, is it to be resisted think you, can flesh and blood forbear going? [Townly:] Truly here is a very fair appearance.\\u201d</div></div>\\n        </div>\\n        \",\"\\n        <div style=\\\"margin-left: 1em; max-width: 300px;\\\">\\n            <div style=\\\"font-variant:normal; font-size: 10pt;\\\">\\u201cIllo, ho, ho, my lord\\u201d</div>\\n            <br>\\n            from: <span style=\\\"font-variant:small-caps; font-size: 10pt;\\\">Hamlet (1623)</span><span style=\\\"font-size:10pt;\\\"> by William Shakespeare</span>\\n        </div>\\n        \",\"\\n        <div style=\\\"margin-left: 1em; max-width: 300px;\\\">\\n            <div style=\\\"font-variant:normal; font-size: 10pt;\\\">\\u201cIllo, ho, ho:\\u201d</div>\\n            <br>\\n            from: <span style=\\\"font-variant:small-caps; font-size: 10pt;\\\">The Dutch Courtesan (1604)</span><span style=\\\"font-size:10pt;\\\"> by John Marston</span>\\n            <br><br>\\n            <div style=\\\"margin-left: 2em;\\\"><div style=\\\"font-variant:normal; font-size: 8pt;\\\">\\u201c[Master Mulligrub:] Who goes there: <span style=\\\"font-weight:bold;\\\">Illo, ho, ho:</span> sounds shall I run mad, Loose my wits: shall I be hanged, hark who goes there? Do not fear to be poor Mullegrub, Thou hast a sure stock now.\\u201d</div></div>\\n        </div>\\n        \",\"\\n        <div style=\\\"margin-left: 1em; max-width: 300px;\\\">\\n            <div style=\\\"font-variant:normal; font-size: 10pt;\\\">\\u201cHo! illo, illo, illo.\\u201d</div>\\n            <br>\\n            from: <span style=\\\"font-variant:small-caps; font-size: 10pt;\\\">The Poor Man's Comfort (1616)</span><span style=\\\"font-size:10pt;\\\"> by Robert Daborne</span>\\n            <br><br>\\n            <div style=\\\"margin-left: 2em;\\\"><div style=\\\"font-variant:normal; font-size: 8pt;\\\">\\u201c[Sigismond:] <span style=\\\"font-weight:bold;\\\">Ho! illo, illo, illo.</span> [Cazzo:] The game's not up yet Sir. I think some gelder had a hand in the getting of him, he understands no language but the horn.\\u201d</div></div>\\n        </div>\\n        \",\"\\n        <div style=\\\"margin-left: 1em; max-width: 300px;\\\">\\n            <div style=\\\"font-variant:normal; font-size: 10pt;\\\">\\u201cSo ho, illo ho.\\u201d</div>\\n            <br>\\n            from: <span style=\\\"font-variant:small-caps; font-size: 10pt;\\\">Thierry, King of France, and His Brother Theodoret (1617)</span><span style=\\\"font-size:10pt;\\\"> by Francis Beaumont, John Fletcher, Philip Massinger</span>\\n            <br><br>\\n            <div style=\\\"margin-left: 2em;\\\"><div style=\\\"font-variant:normal; font-size: 8pt;\\\">\\u201c[Devitry:] Here Sir, here, I could beat my brains out, that could not think of boots, boots Sir, wide-topped boots, I shall love them the better whilst I live; but are you sure your Jewels are here Sir? [Protaldye:] Sure sayst thou? ha, ha, ha. [Devitry:] <span style=\\\"font-weight:bold;\\\">So ho, illo ho.</span> [Soldiers within] Here Captain. here. [Protaldye:] 'Foot what do you mean Sir? (Enter Soldiers.) [Devitry:] A trick to boot, say you; here you dull slaves, purchase, purchase the soul of the Rock, Diamonds, sparkling Diamonds.\\u201d</div></div>\\n        </div>\\n        \",\"\\n        <div style=\\\"margin-left: 1em; max-width: 300px;\\\">\\n            <div style=\\\"font-variant:normal; font-size: 10pt;\\\">\\u201cSo, ho, by, so, ho, illo ho, illo ho.\\u201d</div>\\n            <br>\\n            from: <span style=\\\"font-variant:small-caps; font-size: 10pt;\\\">The Child Hath Found His Father, or The Birth of Merlin (1622)</span><span style=\\\"font-size:10pt;\\\"> by William Rowley</span>\\n            <br><br>\\n            <div style=\\\"margin-left: 2em;\\\"><div style=\\\"font-variant:normal; font-size: 8pt;\\\">\\u201c[Clown:] If there be any man that wants a name, will come in for conscience sake, and acknowledge himself to be a Whore-Master, he shall have that laid to his charge in an hour, he shall not be rid on in an age; if he have Lands, he shall have an heir, if he have patience, he shall have a wife, if he have neither Lands nor patience, he shall have a whore, so ho boy, so ho, so, so. [Prince Uter (within):] <span style=\\\"font-weight:bold;\\\">So, ho, by, so, ho, illo ho, illo ho.</span> [Clown:] Har, hark sister, there's one hollows to us, what a wicked world's this, a man cannot so soon name a whore but a knave comes presently, and see where he is, stand close a while, sister.\\u201d</div></div>\\n        </div>\\n        \",\"\\n        <div style=\\\"margin-left: 1em; max-width: 300px;\\\">\\n            <div style=\\\"font-variant:normal; font-size: 10pt;\\\">\\u201cIllo ho, ho Illo.\\u201d</div>\\n            <br>\\n            from: <span style=\\\"font-variant:small-caps; font-size: 10pt;\\\">The Seven Champions of Christendom (1634)</span><span style=\\\"font-size:10pt;\\\"> by John Kirke</span>\\n            <br><br>\\n            <div style=\\\"margin-left: 2em;\\\"><div style=\\\"font-variant:normal; font-size: 8pt;\\\">\\u201c[Calib the Witch:] Ha, ha, ha; and when will that be Tarpax? Vanish like smoke, my fear, come kiss me my Love, Thou hast earned thy breakfast Chuck; here suck thy fill. [Clown (within):] <span style=\\\"font-weight:bold;\\\">Illo ho, ho Illo.</span> [Tarpax:] What mortal's that disturbs us? Shall I blast him? [Calib the Witch:] Hold my Love, 'tis Suckabus our son; fall off.\\u201d</div></div>\\n        </div>\\n        \",\"\\n        <div style=\\\"margin-left: 1em; max-width: 300px;\\\">\\n            <div style=\\\"font-variant:normal; font-size: 10pt;\\\">\\u201cIllo, ho . - [...] Illo ho , boys.\\u201d</div>\\n            <br>\\n            from: <span style=\\\"font-variant:small-caps; font-size: 10pt;\\\">The Triumph of Beauty (1634)</span><span style=\\\"font-size:10pt;\\\"> by James Shirley</span>\\n            <br><br>\\n            <div style=\\\"margin-left: 2em;\\\"><div style=\\\"font-variant:normal; font-size: 8pt;\\\">\\u201c[Bottle:] Weather? You are wise; do you think, Sir, I have so little honesty, to be Sir Pandarus to your Melancholy. <span style=\\\"font-weight:bold;\\\">Illo, ho . -</span> [Paris:] What, art thou mad? [Bottle:] You are little better: if you can get their consent. [Paris:] Whose consent? [Bottle:] Hobinoll, Crab, Toad-stool, - <span style=\\\"font-weight:bold;\\\">Illo ho , boys.</span> Some friends of yours, that sent me to hunt out your Highness, your humble Subjects and Play-fellows, that have a mind to be merry.\\u201d</div></div>\\n        </div>\\n        \",\"\\n        <div style=\\\"margin-left: 1em; max-width: 300px;\\\">\\n            <div style=\\\"font-variant:normal; font-size: 10pt;\\\">\\u201cIllo, ho, ho, ho.\\u201d</div>\\n            <br>\\n            from: <span style=\\\"font-variant:small-caps; font-size: 10pt;\\\">Macbeth, A Tragedy (1664)</span><span style=\\\"font-size:10pt;\\\"> by Sir William D'Avenant</span>\\n            <br><br>\\n            <div style=\\\"margin-left: 2em;\\\"><div style=\\\"font-variant:normal; font-size: 8pt;\\\">\\u201c[Maid:] Yes, I have heard stories, how some men Have in such lonely places been affrighted With dreadful shapes and noises. (Macduff hollows.) [Lady Macduff:] But hark, my lord sure hollows; 'Tis he; answer him quickly. [Servant:] <span style=\\\"font-weight:bold;\\\">Illo, ho, ho, ho.</span> (Enter Macduff.) [Lady Macduff:] Now I begin to see him: are you afoot, my Lord?\\u201d</div></div>\\n        </div>\\n        \",\"\\n        <div style=\\\"margin-left: 1em; max-width: 300px;\\\">\\n            <div style=\\\"font-variant:normal; font-size: 10pt;\\\">\\u201cthough this be madness, yet there is method in it\\u201d</div>\\n            <br>\\n            from: <span style=\\\"font-variant:small-caps; font-size: 10pt;\\\">Hamlet (1623)</span><span style=\\\"font-size:10pt;\\\"> by William Shakespeare</span>\\n        </div>\\n        \",\"\\n        <div style=\\\"margin-left: 1em; max-width: 300px;\\\">\\n            <div style=\\\"font-variant:normal; font-size: 10pt;\\\">\\u201cReason in madness!\\u201d</div>\\n            <br>\\n            from: <span style=\\\"font-variant:small-caps; font-size: 10pt;\\\">King Lear (1605)</span><span style=\\\"font-size:10pt;\\\"> by William Shakespeare</span>\\n            <br><br>\\n            <div style=\\\"margin-left: 2em;\\\"><div style=\\\"font-variant:normal; font-size: 8pt;\\\">\\u201c[Edgar:] O, matter and impertinency mixed, <span style=\\\"font-weight:bold;\\\">Reason in madness!</span>\\u201d</div></div>\\n        </div>\\n        \",\"\\n        <div style=\\\"margin-left: 1em; max-width: 300px;\\\">\\n            <div style=\\\"font-variant:normal; font-size: 10pt;\\\">\\u201ca madness methodized\\u201d</div>\\n            <br>\\n            from: <span style=\\\"font-variant:small-caps; font-size: 10pt;\\\">The Fatal Jealousy (1672)</span><span style=\\\"font-size:10pt;\\\"> by Henry Neville Payne</span>\\n            <br><br>\\n            <div style=\\\"margin-left: 2em;\\\"><div style=\\\"font-variant:normal; font-size: 8pt;\\\">\\u201c[Don Gerardo:] These Actions sure did seem a perfect madness. [Servant:] It seemed indeed <span style=\\\"font-weight:bold;\\\">a madness methodized</span>, Like theirs who are Transported far with Passion.\\u201d</div></div>\\n        </div>\\n        \",\"\\n        <div style=\\\"margin-left: 1em; max-width: 300px;\\\">\\n            <div style=\\\"font-variant:normal; font-size: 10pt;\\\">\\u201cman's madness and Satan's methods\\u201d</div>\\n            <br>\\n            from: <span style=\\\"font-variant:small-caps; font-size: 10pt;\\\">A Sermon Preached at the Funeral of Mr. Henry Stubbs (1676)</span><span style=\\\"font-size:10pt;\\\"> by Richard Baxter</span>\\n            <br><br>\\n            <div style=\\\"margin-left: 2em;\\\"><div style=\\\"font-variant:normal; font-size: 8pt;\\\">\\u201cThe wonder of that Foreigner in Henry VIII's days, Deus bone quomodo hic vivunt gentes, that saw men killed for being Protestants, and for being Papists, was not so contradictory a subject as the Papists usage of the Saints, a stupendous instance of <span style=\\\"font-weight:bold;\\\">man's madness and Satan's methods</span>, that at the same time can rack, and burn, and Murder Saints, and yet Honour the Relics, Names and Memories of the Dead that were before them.\\u201d</div></div>\\n        </div>\\n        \",\"\\n        <div style=\\\"margin-left: 1em; max-width: 300px;\\\">\\n            <div style=\\\"font-variant:normal; font-size: 10pt;\\\">\\u201cthere was a Method in her madness,\\u201d</div>\\n            <br>\\n            from: <span style=\\\"font-variant:small-caps; font-size: 10pt;\\\">The Devil of a Wife (1686)</span><span style=\\\"font-size:10pt;\\\"> by Thomas Jevon</span>\\n            <br><br>\\n            <div style=\\\"margin-left: 2em;\\\"><div style=\\\"font-variant:normal; font-size: 8pt;\\\">\\u201c[Rowland:] Methought <span style=\\\"font-weight:bold;\\\">there was a Method in her madness,</span> she did not know herself i'th Glass.\\u201d</div></div>\\n        </div>\\n        \",\"\\n        <div style=\\\"margin-left: 1em; max-width: 300px;\\\">\\n            <div style=\\\"font-variant:normal; font-size: 10pt;\\\">\\u201cMethod in Madness\\u201d</div>\\n            <br>\\n            from: <span style=\\\"font-variant:small-caps; font-size: 10pt;\\\">A Fool's Preferment (1688)</span><span style=\\\"font-size:10pt;\\\"> by Thomas D'Urfey</span>\\n            <br><br>\\n            <div style=\\\"margin-left: 2em;\\\"><div style=\\\"font-variant:normal; font-size: 8pt;\\\">\\u201c[Lyonel:] [...] (Sings) There's nothing so fatal as Woman, To hurry a Man to his Grave, You must think, you may plot, You may sigh like a Sot: She uses you more like a Slave. But a Bottle, although it be common, The Cheats of the Fair will undo, It will drive from your Head The Delights of the Bed; He that's drunk is not able to woo. (Exit Lyonel) [Celia:] <span style=\\\"font-weight:bold;\\\">Method in Madness</span>, Grace even in Distraction: I'll never leave him, 'till, by Art or Prayer, I have restored his Senses to their Office.\\u201d</div></div>\\n        </div>\\n        \",\"\\n        <div style=\\\"margin-left: 1em; max-width: 300px;\\\">\\n            <div style=\\\"font-variant:normal; font-size: 10pt;\\\">\\u201cplanets strike\\u201d</div>\\n            <br>\\n            from: <span style=\\\"font-variant:small-caps; font-size: 10pt;\\\">Hamlet (1623)</span><span style=\\\"font-size:10pt;\\\"> by William Shakespeare</span>\\n        </div>\\n        \",\"\\n        <div style=\\\"margin-left: 1em; max-width: 300px;\\\">\\n            <div style=\\\"font-variant:normal; font-size: 10pt;\\\">\\u201cI was struck with a planet\\u201d</div>\\n            <br>\\n            from: <span style=\\\"font-variant:small-caps; font-size: 10pt;\\\">Every Man In His Humour (1598)</span><span style=\\\"font-size:10pt;\\\"> by Ben Jonson</span>\\n            <br><br>\\n            <div style=\\\"margin-left: 2em;\\\"><div style=\\\"font-variant:normal; font-size: 8pt;\\\">\\u201c[Bobadill:] [...] sure <span style=\\\"font-weight:bold;\\\">I was struck with a planet</span> then, for I had no power to touch my weapon. [Ed. Knowell:] Aye, like enough, I have heard of many that have been beaten under a planet: go, get you to a surgeon.\\u201d</div></div>\\n        </div>\\n        \",\"\\n        <div style=\\\"margin-left: 1em; max-width: 300px;\\\">\\n            <div style=\\\"font-variant:normal; font-size: 10pt;\\\">\\u201csome planet strike me down\\u201d</div>\\n            <br>\\n            from: <span style=\\\"font-variant:small-caps; font-size: 10pt;\\\">Titus Andronicus (1592)</span><span style=\\\"font-size:10pt;\\\"> by George Peele, William Shakespeare</span>\\n            <br><br>\\n            <div style=\\\"margin-left: 2em;\\\"><div style=\\\"font-variant:normal; font-size: 8pt;\\\">\\u201c[Marcus:] Who is this? My niece, that flies away so fast? - Cousin, a word. Where is your husband? If I do dream, would all my wealth would wake me. If I do wake, <span style=\\\"font-weight:bold;\\\">some planet strike me down</span> That I may slumber an eternal sleep.\\u201d</div></div>\\n        </div>\\n        \",\"\\n        <div style=\\\"margin-left: 1em; max-width: 300px;\\\">\\n            <div style=\\\"font-variant:normal; font-size: 10pt;\\\">\\u201cstruck Corioles like a planet.\\u201d</div>\\n            <br>\\n            from: <span style=\\\"font-variant:small-caps; font-size: 10pt;\\\">Coriolanus (1608)</span><span style=\\\"font-size:10pt;\\\"> by William Shakespeare</span>\\n            <br><br>\\n            <div style=\\\"margin-left: 2em;\\\"><div style=\\\"font-variant:normal; font-size: 8pt;\\\">\\u201c[Cominius:] [...] Alone he entered The mortal gate o' th' city, which he painted With shunless destiny; aidless came off And with a sudden reinforcement <span style=\\\"font-weight:bold;\\\">struck Corioles like a planet.</span>\\u201d</div></div>\\n        </div>\\n        \",\"\\n        <div style=\\\"margin-left: 1em; max-width: 300px;\\\">\\n            <div style=\\\"font-variant:normal; font-size: 10pt;\\\">\\u201cbe planet struck.\\u201d</div>\\n            <br>\\n            from: <span style=\\\"font-variant:small-caps; font-size: 10pt;\\\">The Atheist's Tragedy (1610)</span><span style=\\\"font-size:10pt;\\\"> by Cyril Tourneur</span>\\n            <br><br>\\n            <div style=\\\"margin-left: 2em;\\\"><div style=\\\"font-variant:normal; font-size: 8pt;\\\">\\u201c[D'Amville:] With an amazement behold thine error and <span style=\\\"font-weight:bold;\\\">be planet struck.</span>\\u201d</div></div>\\n        </div>\\n        \",\"\\n        <div style=\\\"margin-left: 1em; max-width: 300px;\\\">\\n            <div style=\\\"font-variant:normal; font-size: 10pt;\\\">\\u201ca bawdy planet, that will strike\\u201d</div>\\n            <br>\\n            from: <span style=\\\"font-variant:small-caps; font-size: 10pt;\\\">The Winter's Tale (1611)</span><span style=\\\"font-size:10pt;\\\"> by William Shakespeare</span>\\n            <br><br>\\n            <div style=\\\"margin-left: 2em;\\\"><div style=\\\"font-variant:normal; font-size: 8pt;\\\">\\u201c[Leontes:] [...] Physic for 't there's none. It is <span style=\\\"font-weight:bold;\\\">a bawdy planet, that will strike</span> Where 'tis predominant; and 'tis powerful, think it, From east, west, north, and south.\\u201d</div></div>\\n        </div>\\n        \",\"\\n        <div style=\\\"margin-left: 1em; max-width: 300px;\\\">\\n            <div style=\\\"font-variant:normal; font-size: 10pt;\\\">\\u201cI do bear a brain.\\u201d</div>\\n            <br>\\n            from: <span style=\\\"font-variant:small-caps; font-size: 10pt;\\\">Romeo and Juliet (1599)</span><span style=\\\"font-size:10pt;\\\"> by William Shakespeare</span>\\n        </div>\\n        \",\"\\n        <div style=\\\"margin-left: 1em; max-width: 300px;\\\">\\n            <div style=\\\"font-variant:normal; font-size: 10pt;\\\">\\u201cnay and I bear not a brain\\u201d</div>\\n            <br>\\n            from: <span style=\\\"font-variant:small-caps; font-size: 10pt;\\\">The Dutch Courtesan (1604)</span><span style=\\\"font-size:10pt;\\\"> by John Marston</span>\\n            <br><br>\\n            <div style=\\\"margin-left: 2em;\\\"><div style=\\\"font-variant:normal; font-size: 8pt;\\\">\\u201c[Mrs. Mulligrub:] [...] <span style=\\\"font-weight:bold;\\\">nay and I bear not a brain</span> [...].\\u201d</div></div>\\n        </div>\\n        \",\"\\n        <div style=\\\"margin-left: 1em; max-width: 300px;\\\">\\n            <div style=\\\"font-variant:normal; font-size: 10pt;\\\">\\u201cwe must bear brain\\u201d</div>\\n            <br>\\n            from: <span style=\\\"font-variant:small-caps; font-size: 10pt;\\\">The Fawn, or Parasitaster (1605)</span><span style=\\\"font-size:10pt;\\\"> by John Marston</span>\\n            <br><br>\\n            <div style=\\\"margin-left: 2em;\\\"><div style=\\\"font-variant:normal; font-size: 8pt;\\\">\\u201c[Gonzago:] [...] is't not well thought my Lord, <span style=\\\"font-weight:bold;\\\">we must bear brain</span> [...]\\u201d</div></div>\\n        </div>\\n        \",\"\\n        <div style=\\\"margin-left: 1em; max-width: 300px;\\\">\\n            <div style=\\\"font-variant:normal; font-size: 10pt;\\\">\\u201cwe must bear some brain\\u201d</div>\\n            <br>\\n            from: <span style=\\\"font-variant:small-caps; font-size: 10pt;\\\">Ram Alley (1608)</span><span style=\\\"font-size:10pt;\\\"> by Lording Barry</span>\\n            <br><br>\\n            <div style=\\\"margin-left: 2em;\\\"><div style=\\\"font-variant:normal; font-size: 8pt;\\\">\\u201c[Throat:] [...] Dash, <span style=\\\"font-weight:bold;\\\">we must bear some brain</span> to St. John's street, go, run, fly: and afar off enquire [...].\\u201d</div></div>\\n        </div>\\n        \",\"\\n        <div style=\\\"margin-left: 1em; max-width: 300px;\\\">\\n            <div style=\\\"font-variant:normal; font-size: 10pt;\\\">\\u201cI can bear a brain\\u201d</div>\\n            <br>\\n            from: <span style=\\\"font-variant:small-caps; font-size: 10pt;\\\">The Golden Age (1611)</span><span style=\\\"font-size:10pt;\\\"> by Thomas Heywood</span>\\n            <br><br>\\n            <div style=\\\"margin-left: 2em;\\\"><div style=\\\"font-variant:normal; font-size: 8pt;\\\">\\u201c[Clown:] [...] As I can bear a pack, so <span style=\\\"font-weight:bold;\\\">I can bear a brain</span> [...].\\u201d</div></div>\\n        </div>\\n        \",\"\\n        <div style=\\\"margin-left: 1em; max-width: 300px;\\\">\\n            <div style=\\\"font-variant:normal; font-size: 10pt;\\\">\\u201clivers white as milk\\u201d</div>\\n            <br>\\n            from: <span style=\\\"font-variant:small-caps; font-size: 10pt;\\\">Merchant of Venice (1600)</span><span style=\\\"font-size:10pt;\\\"> by William Shakespeare</span>\\n        </div>\\n        \",\"\\n        <div style=\\\"margin-left: 1em; max-width: 300px;\\\">\\n            <div style=\\\"font-variant:normal; font-size: 10pt;\\\">\\u201cliver white and pale\\u201d</div>\\n            <br>\\n            from: <span style=\\\"font-variant:small-caps; font-size: 10pt;\\\">Henry IV Part 2 (1597)</span><span style=\\\"font-size:10pt;\\\"> by William Shakespeare</span>\\n            <br><br>\\n            <div style=\\\"margin-left: 2em;\\\"><div style=\\\"font-variant:normal; font-size: 8pt;\\\">\\u201c[Falstaff:] [...] left the <span style=\\\"font-weight:bold;\\\">liver white and pale</span>, which is the badge of pusillanimity and cowardice.\\u201d</div></div>\\n        </div>\\n        \",\"\\n        <div style=\\\"margin-left: 1em; max-width: 300px;\\\">\\n            <div style=\\\"font-variant:normal; font-size: 10pt;\\\">\\u201cBut I am pigeon-livered and lack gall\\u201d</div>\\n            <br>\\n            from: <span style=\\\"font-variant:small-caps; font-size: 10pt;\\\">Hamlet (1600)</span><span style=\\\"font-size:10pt;\\\"> by William Shakespeare</span>\\n            <br><br>\\n            <div style=\\\"margin-left: 2em;\\\"><div style=\\\"font-variant:normal; font-size: 8pt;\\\">\\u201c[Hamlet:] [...] <span style=\\\"font-weight:bold;\\\">But I am pigeon-livered and lack gall</span> [...].\\u201d</div></div>\\n        </div>\\n        \",\"\\n        <div style=\\\"margin-left: 1em; max-width: 300px;\\\">\\n            <div style=\\\"font-variant:normal; font-size: 10pt;\\\">\\u201clily-livered,\\u201d</div>\\n            <br>\\n            from: <span style=\\\"font-variant:small-caps; font-size: 10pt;\\\">King Lear (1605)</span><span style=\\\"font-size:10pt;\\\"> by William Shakespeare</span>\\n            <br><br>\\n            <div style=\\\"margin-left: 2em;\\\"><div style=\\\"font-variant:normal; font-size: 8pt;\\\">\\u201c[Kent:] [...] a <span style=\\\"font-weight:bold;\\\">lily-livered,</span> action-taking, whoreson, glass-gazing [...] the composition of a knave, beggar, coward, pander, and the son and heir of a mongrel bitch.\\u201d</div></div>\\n        </div>\\n        \",\"\\n        <div style=\\\"margin-left: 1em; max-width: 300px;\\\">\\n            <div style=\\\"font-variant:normal; font-size: 10pt;\\\">\\u201cAll the world's a stage\\u201d</div>\\n            <br>\\n            from: <span style=\\\"font-variant:small-caps; font-size: 10pt;\\\">As You Like It (1623)</span><span style=\\\"font-size:10pt;\\\"> by William Shakespeare</span>\\n        </div>\\n        \",\"\\n        <div style=\\\"margin-left: 1em; max-width: 300px;\\\">\\n            <div style=\\\"font-variant:normal; font-size: 10pt;\\\">\\u201cPythagoras [...] this world was like a stage Whereon many play their parts.\\u201d</div>\\n            <br>\\n            from: <span style=\\\"font-variant:small-caps; font-size: 10pt;\\\">Damon and Pythias (Edwards) (1564)</span><span style=\\\"font-size:10pt;\\\"> by Richard Edwards</span>\\n            <br><br>\\n            <div style=\\\"margin-left: 2em;\\\"><div style=\\\"font-variant:normal; font-size: 8pt;\\\">\\u201c[Damon:] [...] <span style=\\\"font-weight:bold;\\\">Pythagoras</span> said that <span style=\\\"font-weight:bold;\\\">this world was like a stage Whereon many play their parts.</span>\\u201d</div></div>\\n        </div>\\n        \",\"\\n        <div style=\\\"margin-left: 1em; max-width: 300px;\\\">\\n            <div style=\\\"font-variant:normal; font-size: 10pt;\\\">\\u201cthe stage, [...] The whole world being one\\u201d</div>\\n            <br>\\n            from: <span style=\\\"font-variant:small-caps; font-size: 10pt;\\\">The Roman Actor (1626)</span><span style=\\\"font-size:10pt;\\\"> by Philip Massinger</span>\\n            <br><br>\\n            <div style=\\\"margin-left: 2em;\\\"><div style=\\\"font-variant:normal; font-size: 8pt;\\\">\\u201c[Aretinus:] Are you on <span style=\\\"font-weight:bold;\\\">the stage,</span> You talk so boldly? [Paris:] <span style=\\\"font-weight:bold;\\\">The whole world being one</span> This place is not exempted [...].\\u201d</div></div>\\n        </div>\\n        \",\"\\n        <div style=\\\"margin-left: 1em; max-width: 300px;\\\">\\n            <div style=\\\"font-variant:normal; font-size: 10pt;\\\">\\u201cwe will not carry coals\\u201d</div>\\n            <br>\\n            from: <span style=\\\"font-variant:small-caps; font-size: 10pt;\\\">Romeo and Juliet (1599)</span><span style=\\\"font-size:10pt;\\\"> by William Shakespeare</span>\\n        </div>\\n        \",\"\\n        <div style=\\\"margin-left: 1em; max-width: 300px;\\\">\\n            <div style=\\\"font-variant:normal; font-size: 10pt;\\\">\\u201ccarry coals\\u201d</div>\\n            <br>\\n            from: <span style=\\\"font-variant:small-caps; font-size: 10pt;\\\">Every Man Out of His Humour (1599)</span><span style=\\\"font-size:10pt;\\\"> by Ben Jonson</span>\\n            <br><br>\\n            <div style=\\\"margin-left: 2em;\\\"><div style=\\\"font-variant:normal; font-size: 8pt;\\\">\\u201c[Puntarvolo:] [...] Here comes one that will <span style=\\\"font-weight:bold;\\\">carry coals</span>; ergo, will hold my dog [...].\\u201d</div></div>\\n        </div>\\n        \",\"\\n        <div style=\\\"margin-left: 1em; max-width: 300px;\\\">\\n            <div style=\\\"font-variant:normal; font-size: 10pt;\\\">\\u201ccarry coals.\\u201d</div>\\n            <br>\\n            from: <span style=\\\"font-variant:small-caps; font-size: 10pt;\\\">Henry V (1599)</span><span style=\\\"font-size:10pt;\\\"> by William Shakespeare</span>\\n            <br><br>\\n            <div style=\\\"margin-left: 2em;\\\"><div style=\\\"font-variant:normal; font-size: 8pt;\\\">\\u201c[Boy:] [...] Nym and Bardolph are sworn brothers in filching, and in Calais they stole a fire shovel. I knew by that piece of service the men would <span style=\\\"font-weight:bold;\\\">carry coals.</span>\\u201d</div></div>\\n        </div>\\n        \",\"\\n        <div style=\\\"margin-left: 1em; max-width: 300px;\\\">\\n            <div style=\\\"font-variant:normal; font-size: 10pt;\\\">\\u201cI would bear no coals\\u201d</div>\\n            <br>\\n            from: <span style=\\\"font-variant:small-caps; font-size: 10pt;\\\">Antonio's Revenge (1600)</span><span style=\\\"font-size:10pt;\\\"> by John Marston</span>\\n            <br><br>\\n            <div style=\\\"margin-left: 2em;\\\"><div style=\\\"font-variant:normal; font-size: 8pt;\\\">\\u201c[Balurdo:] [...] I were as he, <span style=\\\"font-weight:bold;\\\">I would bear no coals</span>, law I, I begin to swell, puff.\\u201d</div></div>\\n        </div>\\n        \",\"\\n        <div style=\\\"margin-left: 1em; max-width: 300px;\\\">\\n            <div style=\\\"font-variant:normal; font-size: 10pt;\\\">\\u201ca coal-basket\\u201d</div>\\n            <br>\\n            from: <span style=\\\"font-variant:small-caps; font-size: 10pt;\\\">The Malcontent (1603)</span><span style=\\\"font-size:10pt;\\\"> by John Marston, John Webster</span>\\n            <br><br>\\n            <div style=\\\"margin-left: 2em;\\\"><div style=\\\"font-variant:normal; font-size: 8pt;\\\">\\u201c[Malevole:] Great slaves fear better than love, born naturally for <span style=\\\"font-weight:bold;\\\">a coal-basket</span> [...].\\u201d</div></div>\\n        </div>\\n        \",\"\\n        <div style=\\\"margin-left: 1em; max-width: 300px;\\\">\\n            <div style=\\\"font-variant:normal; font-size: 10pt;\\\">\\u201cyou must carry no coals.\\u201d</div>\\n            <br>\\n            from: <span style=\\\"font-variant:small-caps; font-size: 10pt;\\\">May Day (1604)</span><span style=\\\"font-size:10pt;\\\"> by George Chapman</span>\\n            <br><br>\\n            <div style=\\\"margin-left: 2em;\\\"><div style=\\\"font-variant:normal; font-size: 8pt;\\\">\\u201c[Quintiliano:] And yet take heed you swear by no man's beard but your own, for that may breed a quarrel; above all things <span style=\\\"font-weight:bold;\\\">you must carry no coals.</span>\\u201d</div></div>\\n        </div>\\n        \",\"\\n        <div style=\\\"margin-left: 1em; max-width: 300px;\\\">\\n            <div style=\\\"font-variant:normal; font-size: 10pt;\\\">\\u201c(he being of an uncoal-carrying spirit)\\u201d</div>\\n            <br>\\n            from: <span style=\\\"font-variant:small-caps; font-size: 10pt;\\\">May Day (1604)</span><span style=\\\"font-size:10pt;\\\"> by George Chapman</span>\\n            <br><br>\\n            <div style=\\\"margin-left: 2em;\\\"><div style=\\\"font-variant:normal; font-size: 8pt;\\\">\\u201c[Quintiliano:] Why sir, because I entertained this Gentleman for my Antient, (being my dear friend and an excellent scholar) he takes pepper ith' nose and sneezes it out upon my Antient; now sir <span style=\\\"font-weight:bold;\\\">(he being of an uncoal-carrying spirit)</span> falls foul on him, calls him gull openly [...].\\u201d</div></div>\\n        </div>\\n        \",\"\\n        <div style=\\\"margin-left: 1em; max-width: 300px;\\\">\\n            <div style=\\\"font-variant:normal; font-size: 10pt;\\\">\\u201cI'll carry coals and you will,\\u201d</div>\\n            <br>\\n            from: <span style=\\\"font-variant:small-caps; font-size: 10pt;\\\">Law-Tricks (1604)</span><span style=\\\"font-size:10pt;\\\"> by John Day</span>\\n            <br><br>\\n            <div style=\\\"margin-left: 2em;\\\"><div style=\\\"font-variant:normal; font-size: 8pt;\\\">\\u201c[Lurdo:] [...] <span style=\\\"font-weight:bold;\\\">I'll carry coals and you will,</span> no horns, I know the law.\\u201d</div></div>\\n        </div>\\n        \",\"\\n        <div style=\\\"margin-left: 1em; max-width: 300px;\\\">\\n            <div style=\\\"font-variant:normal; font-size: 10pt;\\\">\\u201cfrailty, thy name is woman\\u201d</div>\\n            <br>\\n            from: <span style=\\\"font-variant:small-caps; font-size: 10pt;\\\">Hamlet (1623)</span><span style=\\\"font-size:10pt;\\\"> by William Shakespeare</span>\\n        </div>\\n        \",\"\\n        <div style=\\\"margin-left: 1em; max-width: 300px;\\\">\\n            <div style=\\\"font-variant:normal; font-size: 10pt;\\\">\\u201cThe woman is a weak creature [...] She is the weaker vessel, of a frail heat, inconstant [...] The woman is the more frail part [...] The woman is a frail vessel.\\u201d</div>\\n            <br>\\n            from: <span style=\\\"font-variant:small-caps; font-size: 10pt;\\\">On the State of Matrimony (1571)</span><span style=\\\"font-size:10pt;\\\"> by John Jewel</span>\\n            <br><br>\\n            <div style=\\\"margin-left: 2em;\\\"><div style=\\\"font-variant:normal; font-size: 8pt;\\\">\\u201c<span style=\\\"font-weight:bold;\\\">The woman is a weak creature</span> [...] <span style=\\\"font-weight:bold;\\\">She is the weaker vessel, of a frail heat, inconstant</span> [...]. <span style=\\\"font-weight:bold;\\\">The woman is the more frail part</span> [...]. <span style=\\\"font-weight:bold;\\\">The woman is a frail vessel.</span>\\u201d</div></div>\\n        </div>\\n        \",\"\\n        <div style=\\\"margin-left: 1em; max-width: 300px;\\\">\\n            <div style=\\\"font-variant:normal; font-size: 10pt;\\\">\\u201cthat pleasing peace of frailty, that we call woman\\u201d</div>\\n            <br>\\n            from: <span style=\\\"font-variant:small-caps; font-size: 10pt;\\\">The Woman-Hater (1606)</span><span style=\\\"font-size:10pt;\\\"> by Francis Beaumont, John Fletcher</span>\\n            <br><br>\\n            <div style=\\\"margin-left: 2em;\\\"><div style=\\\"font-variant:normal; font-size: 8pt;\\\">\\u201c[Gondarino:] My Lord, I speak not this to gain new grace, But howsoever you esteem my words, My love and duty will not suffer me To see you favour such a prostitute, And I stand by dumb; without Rack, Torture, Or Strappado, I'll unrip myself, I do confess I was in company with <span style=\\\"font-weight:bold;\\\">that pleasing peace of frailty, that we call woman</span>; I do confess after along and tedious siege, I yielded.\\u201d</div></div>\\n        </div>\\n        \",\"\\n        <div style=\\\"margin-left: 1em; max-width: 300px;\\\">\\n            <div style=\\\"font-variant:normal; font-size: 10pt;\\\">\\u201cwoman's frailty\\u201d</div>\\n            <br>\\n            from: <span style=\\\"font-variant:small-caps; font-size: 10pt;\\\">Samson Agonistes (1671)</span><span style=\\\"font-size:10pt;\\\"> by John Milton</span>\\n            <br><br>\\n            <div style=\\\"margin-left: 2em;\\\"><div style=\\\"font-variant:normal; font-size: 8pt;\\\">\\u201c[Dalila:] \\\"[...] To what I did thou shewdst me first the way. But I to enemies revealed, and should not. Nor shouldst thou have trusted that to <span style=\\\"font-weight:bold;\\\">woman's frailty</span>: Ere I to thee, thou to thyself wast cruel. [...]\\\"\\u201d</div></div>\\n        </div>\\n        \",\"\\n        <div style=\\\"margin-left: 1em; max-width: 300px;\\\">\\n            <div style=\\\"font-variant:normal; font-size: 10pt;\\\">\\u201cOh Woman! Frailty is thy name\\u201d</div>\\n            <br>\\n            from: <span style=\\\"font-variant:small-caps; font-size: 10pt;\\\">Sonnet (1687)</span><span style=\\\"font-size:10pt;\\\"> by Charles Cotton</span>\\n            <br><br>\\n            <div style=\\\"margin-left: 2em;\\\"><div style=\\\"font-variant:normal; font-size: 8pt;\\\">\\u201cHow could you once so kind appear, To kiss, to sigh, and shed a tear, To cherish and caress me so, And now not let but bid me go? <span style=\\\"font-weight:bold;\\\">Oh Woman! Frailty is thy name</span>, Since she's untrue y'are all to blame, And but in man no truth is sound: 'Tis a fair Sex, we all must love it, But (on my conscience) could we prove it, They all are false even under ground.\\u201d</div></div>\\n        </div>\\n        \",\"\\n        <div style=\\\"margin-left: 1em; max-width: 300px;\\\">\\n            <div style=\\\"font-variant:normal; font-size: 10pt;\\\">\\u201chell itself should gape\\u201d</div>\\n            <br>\\n            from: <span style=\\\"font-variant:small-caps; font-size: 10pt;\\\">Hamlet (1623)</span><span style=\\\"font-size:10pt;\\\"> by William Shakespeare</span>\\n        </div>\\n        \",\"\\n        <div style=\\\"margin-left: 1em; max-width: 300px;\\\">\\n            <div style=\\\"font-variant:normal; font-size: 10pt;\\\">\\u201cgapeth hell and openeth her mouth marvellous wide,\\u201d</div>\\n            <br>\\n            from: <span style=\\\"font-variant:small-caps; font-size: 10pt;\\\">The Bishop's Bible (1568)</span><span style=\\\"font-size:10pt;\\\"> by Matthew Parker</span>\\n            <br><br>\\n            <div style=\\\"margin-left: 2em;\\\"><div style=\\\"font-variant:normal; font-size: 8pt;\\\">\\u201cTherefore <span style=\\\"font-weight:bold;\\\">gapeth hell and openeth her mouth marvellous wide,</span> that their glory, multitude, and wealth, with such as rejoice in her, may descend into it.\\u201d</div></div>\\n        </div>\\n        \",\"\\n        <div style=\\\"margin-left: 1em; max-width: 300px;\\\">\\n            <div style=\\\"font-variant:normal; font-size: 10pt;\\\">\\u201cUgly hell, gape not\\u201d</div>\\n            <br>\\n            from: <span style=\\\"font-variant:small-caps; font-size: 10pt;\\\">Doctor Faustus (1588)</span><span style=\\\"font-size:10pt;\\\"> by Christopher Marlowe</span>\\n            <br><br>\\n            <div style=\\\"margin-left: 2em;\\\"><div style=\\\"font-variant:normal; font-size: 8pt;\\\">\\u201c[Faustus:] [...] My God, my God, look not so fierce on me. Adders and serpents, let me breathe awhile. <span style=\\\"font-weight:bold;\\\">Ugly hell, gape not</span>, come not, Lucifer! I'll burn my books. Ah, Mephistophilis!\\u201d</div></div>\\n        </div>\\n        \",\"\\n        <div style=\\\"margin-left: 1em; max-width: 300px;\\\">\\n            <div style=\\\"font-variant:normal; font-size: 10pt;\\\">\\u201cthough hell should gape\\u201d</div>\\n            <br>\\n            from: <span style=\\\"font-variant:small-caps; font-size: 10pt;\\\">The Lovesick King (1619)</span><span style=\\\"font-size:10pt;\\\"> by Anthony Brewer</span>\\n            <br><br>\\n            <div style=\\\"margin-left: 2em;\\\"><div style=\\\"font-variant:normal; font-size: 8pt;\\\">\\u201c[Canutus:] Thou'st spoke enough to damn thee, Impudent Traitor, go die unpitied; Though thou hast my hate, thou shalt not have the honour of my sword to take away thy life, you of our Guard; See a base death performed upon this Slave. [Captain:] Farewell my Liege you once must have a grave. (Exit with Guard.) [Harold:] My Resolution's firm, and I will speak, <span style=\\\"font-weight:bold;\\\">though hell should gape</span> to swallow me alive; What's he that's gone to death my Sovereign? [Canutus:] Traytor (Harold) to my best content.\\u201d</div></div>\\n        </div>\\n        \",\"\\n        <div style=\\\"margin-left: 1em; max-width: 300px;\\\">\\n            <div style=\\\"font-variant:normal; font-size: 10pt;\\\">\\u201cThough Hell gape for Him?\\u201d</div>\\n            <br>\\n            from: <span style=\\\"font-variant:small-caps; font-size: 10pt;\\\">The Perfect-Cursed-Blessed Man (1628)</span><span style=\\\"font-size:10pt;\\\"> by Joseph Fletcher</span>\\n            <br><br>\\n            <div style=\\\"margin-left: 2em;\\\"><div style=\\\"font-variant:normal; font-size: 8pt;\\\">\\u201cThis Sin faln Man raise-up t'integrity, Or rase Me out from Heav'ns society. What though He sinned? alas He was but Earth! Though dead in Sin? thy Grace can give new birth! Though grieved with pains? O thou canst 'ford him ease! <span style=\\\"font-weight:bold;\\\">Though Hell gape for Him?</span> thou canst Hell appease! Thou mad'st Him Thee to bless eternally: But damned Souls curse everlastingly.\\u201d</div></div>\\n        </div>\\n        \",\"\\n        <div style=\\\"margin-left: 1em; max-width: 300px;\\\">\\n            <div style=\\\"font-variant:normal; font-size: 10pt;\\\">\\u201cThough death stood gaping wide to swallow me, I would not shrink nor fear.\\u201d</div>\\n            <br>\\n            from: <span style=\\\"font-variant:small-caps; font-size: 10pt;\\\">The Fatal Contract (1633)</span><span style=\\\"font-size:10pt;\\\"> by William Hemings</span>\\n            <br><br>\\n            <div style=\\\"margin-left: 2em;\\\"><div style=\\\"font-variant:normal; font-size: 8pt;\\\">\\u201c[Clovis:] What is it, Eunuch? [...] <span style=\\\"font-weight:bold;\\\">Though death stood gaping wide to swallow me, I would not shrink nor fear.</span>\\u201d</div></div>\\n        </div>\\n        \",\"\\n        <div style=\\\"margin-left: 1em; max-width: 300px;\\\">\\n            <div style=\\\"font-variant:normal; font-size: 10pt;\\\">\\u201cO all you host of heaven!\\u201d</div>\\n            <br>\\n            from: <span style=\\\"font-variant:small-caps; font-size: 10pt;\\\">Hamlet (1623)</span><span style=\\\"font-size:10pt;\\\"> by William Shakespeare</span>\\n        </div>\\n        \",\"\\n        <div style=\\\"margin-left: 1em; max-width: 300px;\\\">\\n            <div style=\\\"font-variant:normal; font-size: 10pt;\\\">\\u201cthe host of heaven,\\u201d</div>\\n            <br>\\n            from: <span style=\\\"font-variant:small-caps; font-size: 10pt;\\\">The Geneva Bible (1560)</span><span style=\\\"font-size:10pt;\\\"> by William Cole, Myles Coverdale, Anthony Gilby, Christopher Goodman, Thomas Sampson, William Whittingham</span>\\n            <br><br>\\n            <div style=\\\"margin-left: 2em;\\\"><div style=\\\"font-variant:normal; font-size: 8pt;\\\">\\u201cThen God turned himself away and gave them up to serve <span style=\\\"font-weight:bold;\\\">the host of heaven,</span> as it is written in the book of the Prophets [...].\\u201d</div></div>\\n        </div>\\n        \",\"\\n        <div style=\\\"margin-left: 1em; max-width: 300px;\\\">\\n            <div style=\\\"font-variant:normal; font-size: 10pt;\\\">\\u201cthe heaven of all heavens, with all their host, [...] the host of the heaven\\u201d</div>\\n            <br>\\n            from: <span style=\\\"font-variant:small-caps; font-size: 10pt;\\\">The Geneva Bible (1560)</span><span style=\\\"font-size:10pt;\\\"> by William Cole, Myles Coverdale, Anthony Gilby, Christopher Goodman, Thomas Sampson, William Whittingham</span>\\n            <br><br>\\n            <div style=\\\"margin-left: 2em;\\\"><div style=\\\"font-variant:normal; font-size: 8pt;\\\">\\u201cThou art Lord alone: thou hast made heaven, and <span style=\\\"font-weight:bold;\\\">the heaven of all heavens, with all their host,</span> the earth, and all things that are therein, the seas, and all that are in them, and thou preservest them all, and <span style=\\\"font-weight:bold;\\\">the host of the heaven</span> worshippeth thee.\\u201d</div></div>\\n        </div>\\n        \",\"\\n        <div style=\\\"margin-left: 1em; max-width: 300px;\\\">\\n            <div style=\\\"font-variant:normal; font-size: 10pt;\\\">\\u201call the host of heaven\\u201d</div>\\n            <br>\\n            from: <span style=\\\"font-variant:small-caps; font-size: 10pt;\\\">The Atheist's Tragedy (1610)</span><span style=\\\"font-size:10pt;\\\"> by Cyril Tourneur</span>\\n            <br><br>\\n            <div style=\\\"margin-left: 2em;\\\"><div style=\\\"font-variant:normal; font-size: 8pt;\\\">\\u201c[D'Amville:] Now <span style=\\\"font-weight:bold;\\\">all the host of heaven</span> forbid!\\u201d</div></div>\\n        </div>\\n        \"],\"index\":[\"ww_2abb408b24f75e6c\",\"ww_594e076e93ed4ccf\",\"ww_caf27ffdc954c844\",\"ww_66a52436edb537eb\",\"ww_a2a0ab6fbca2028d\",\"ww_90d74567307f904e\",\"ww_669475d1f67eb920\",\"ww_19b54f39c1d245a7\",\"ww_295a0d9237083fe7\",\"ww_971c475bea921406\",\"ww_4b9a43113334c0ad\",\"ww_13c9cec7f15c0056\",\"ww_01d64039ef29add5\",\"ww_22f51d85f231b2c7\",\"ww_6cc712b23bbafc5e\",\"ww_293034ae2a49b418\",\"ww_210bac9f048b8eea\",\"ww_4c352e527d12797b\",\"ww_f38739f4c2391f47\",\"ww_b0913df56f856f27\",\"ww_7ecb8d5ef454d329\",\"ww_8c5990fb7392c89b\",\"ww_d3843909dc6e861b\",\"ww_b7e69820855e7384\",\"ww_00ce5b9c822fbaca\",\"ww_3a359a22623b0162\",\"ww_d9ad6d0b3d1a5598\",\"ww_1bfaaa3ed70bb1ac\",\"ww_57c42500ce0c6170\",\"ww_663f0143320cc310\",\"ww_6821daa19a2840e1\",\"ww_2239f6f9bbcb7446\",\"ww_18fac1f2fb1ce41f\",\"ww_028ce75225433cb6\",\"ww_a987973d2abd4b57\",\"ww_880962580e78c61f\",\"ww_909a37b5a02277e8\",\"ww_b4cc414fb56c2490\",\"ww_6979462622390b73\",\"ww_32c26a7909c83bda\",\"ww_782a5cebdaa9d8ae\",\"ww_b5b8083a6a1282bc\",\"ww_a59a84adf088089f\",\"ww_9a6cb20b0b157545\",\"ww_d62468b11823d4c9\",\"ww_4d363cb4783e0b62\",\"ww_6f12e582a20c2675\",\"ww_7dc1f64b4c29a9d3\",\"ww_d2361763e8343194\",\"ww_870f29a7dd6f45d9\",\"ww_e01ecfd8de9acc61\",\"ww_a6f4b0e3428ad510\",\"ww_e2adb2be413fd5a5\",\"ww_08075d65c13e49ee\",\"ww_b71ba2ae83103344\",\"ww_0dbc3e90bbb46334\",\"ww_d67a1f9d4d50f936\",\"ww_b9f19b471626f83e\",\"ww_8e68a517bc3ecceb\",\"ww_ff8f000dd9cb7a3b\",\"ww_10ba3fba1c0c1529\",\"ww_3b6425a2159f1d62\",\"ww_8bdc1e03f5a6a253\",\"ww_379b8583a4d90080\",\"ww_d2d2a262485c5d23\",\"ww_f27c7abd24218962\",\"ww_07f94c5a14cdc619\",\"ww_235b7f298b54d631\",\"ww_c2f29658555093e7\",\"ww_585eaf1c6368e7af\",\"ww_6e3b338bf16ebf06\",\"ww_98df9ad5de049472\",\"ww_25e51ae4b6234004\",\"ww_eb109a2a9b99c1f5\",\"ww_ba8b881de92fd8a4\",\"ww_7286ff06f562c07b\",\"ww_1917adced358cb4a\",\"ww_89443854a5459695\",\"ww_b42fadea9f893c6e\",\"ww_c10bde4b8bca2ae6\",\"ww_57dcec5b9ff2c4b9\",\"ww_aaeb0dba8a5ac513\",\"ww_3bed848d2566166b\",\"ww_aef241d5b9263438\",\"ww_2560885c478fdfe0\",\"ww_5cbdd6611f35e334\",\"ww_ff2cef3775c5331c\",\"ww_58a0dec287a4170c\",\"ww_01bd7d0624c8a955\",\"ww_97b67e22685ce125\",\"ww_9e7a12cfee73da0b\",\"ww_415def570b10b5b9\",\"ww_215595adbf8efd41\",\"ww_5cdd4abfb59f6f0f\",\"ww_d705147c9b9aaf18\",\"ww_c9d35c25f4fc4189\",\"ww_7795f933b612f710\",\"ww_e2effa540e636cd5\",\"ww_0eaf5058b7a910c7\",\"ww_51946dd5d1d57d4a\",\"ww_21a4c5dc5b2f6ed6\",\"ww_994d23875f3f8ca7\",\"ww_f32f713a36985f62\",\"ww_7be6a3588e6b5de0\",\"ww_83e9ca4d103b86e1\",\"ww_beea1c07025a2ffb\",\"ww_95966dab4576ec42\",\"ww_3a6f583779747368\",\"ww_2b785e10c908c7ec\",\"ww_0747839b540f70c7\",\"ww_c2ae504efe318b6c\",\"ww_2e3d7768539ae2ab\",\"ww_a055872533d2ab57\",\"ww_84f20b8b2eb71001\",\"ww_eb3ebae9ea90daa0\",\"ww_6c565da6889f5269\",\"ww_ce579bce70dc8776\",\"ww_3101379204640286\",\"ww_c6bb592912665657\",\"ww_cd82c881f4f118d0\"],\"node_color\":[\"#d7191c\",\"#fdae61\",\"#fdae61\",\"#fdae61\",\"#fdae61\",\"#fdae61\",\"#fdae61\",\"#fdae61\",\"#fdae61\",\"#fdae61\",\"#d7191c\",\"#fdae61\",\"#fdae61\",\"#fdae61\",\"#fdae61\",\"#fdae61\",\"#d7191c\",\"#fdae61\",\"#fdae61\",\"#fdae61\",\"#fdae61\",\"#fdae61\",\"#d7191c\",\"#fdae61\",\"#fdae61\",\"#fdae61\",\"#fdae61\",\"#fdae61\",\"#d7191c\",\"#fdae61\",\"#fdae61\",\"#fdae61\",\"#fdae61\",\"#fdae61\",\"#d7191c\",\"#fdae61\",\"#fdae61\",\"#fdae61\",\"#d7191c\",\"#fdae61\",\"#fdae61\",\"#fdae61\",\"#fdae61\",\"#fdae61\",\"#fdae61\",\"#fdae61\",\"#fdae61\",\"#d7191c\",\"#fdae61\",\"#fdae61\",\"#fdae61\",\"#fdae61\",\"#fdae61\",\"#d7191c\",\"#fdae61\",\"#fdae61\",\"#fdae61\",\"#d7191c\",\"#fdae61\",\"#fdae61\",\"#fdae61\",\"#fdae61\",\"#fdae61\",\"#fdae61\",\"#fdae61\",\"#d7191c\",\"#fdae61\",\"#fdae61\",\"#fdae61\",\"#fdae61\",\"#fdae61\",\"#fdae61\",\"#fdae61\",\"#d7191c\",\"#fdae61\",\"#fdae61\",\"#fdae61\",\"#fdae61\",\"#fdae61\",\"#d7191c\",\"#fdae61\",\"#fdae61\",\"#fdae61\",\"#fdae61\",\"#fdae61\",\"#d7191c\",\"#fdae61\",\"#fdae61\",\"#fdae61\",\"#fdae61\",\"#d7191c\",\"#fdae61\",\"#fdae61\",\"#fdae61\",\"#d7191c\",\"#fdae61\",\"#fdae61\",\"#d7191c\",\"#fdae61\",\"#fdae61\",\"#fdae61\",\"#fdae61\",\"#fdae61\",\"#fdae61\",\"#fdae61\",\"#d7191c\",\"#fdae61\",\"#fdae61\",\"#fdae61\",\"#fdae61\",\"#d7191c\",\"#fdae61\",\"#fdae61\",\"#fdae61\",\"#fdae61\",\"#fdae61\",\"#d7191c\",\"#fdae61\",\"#fdae61\",\"#fdae61\"],\"node_size\":[15,10,10,10,10,10,10,10,10,10,15,10,10,10,10,10,15,10,10,10,10,10,15,10,10,10,10,10,15,10,10,10,10,10,15,10,10,10,15,10,10,10,10,10,10,10,10,15,10,10,10,10,10,15,10,10,10,15,10,10,10,10,10,10,10,15,10,10,10,10,10,10,10,15,10,10,10,10,10,15,10,10,10,10,10,15,10,10,10,10,15,10,10,10,15,10,10,15,10,10,10,10,10,10,10,15,10,10,10,10,15,10,10,10,10,10,15,10,10,10],\"subset\":[0,0,0,0,0,0,0,0,0,0,1,1,1,1,1,1,2,2,2,2,2,2,3,3,3,3,3,3,4,4,4,4,4,4,5,5,5,5,6,6,6,6,6,6,6,6,6,7,7,7,7,7,7,8,8,8,8,9,9,9,9,9,9,9,9,10,10,10,10,10,10,10,10,11,11,11,11,11,11,12,12,12,12,12,12,13,13,13,13,13,14,14,14,14,15,15,15,16,16,16,16,16,16,16,16,17,17,17,17,17,18,18,18,18,18,18,19,19,19,19]},\"selected\":{\"id\":\"7140\"},\"selection_policy\":{\"id\":\"7139\"}},\"id\":\"5868\",\"type\":\"ColumnDataSource\"},{\"attributes\":{\"size\":{\"value\":5}},\"id\":\"5937\",\"type\":\"NormalHead\"},{\"attributes\":{\"data\":{},\"selected\":{\"id\":\"6988\"},\"selection_policy\":{\"id\":\"6987\"}},\"id\":\"6863\",\"type\":\"ColumnDataSource\"},{\"attributes\":{\"data\":{},\"selected\":{\"id\":\"7110\"},\"selection_policy\":{\"id\":\"7109\"}},\"id\":\"6924\",\"type\":\"ColumnDataSource\"},{\"attributes\":{\"source\":{\"id\":\"5868\"}},\"id\":\"5870\",\"type\":\"CDSView\"},{\"attributes\":{\"source\":{\"id\":\"5872\"}},\"id\":\"5874\",\"type\":\"CDSView\"},{\"attributes\":{\"coordinates\":null,\"data_source\":{\"id\":\"5872\"},\"glyph\":{\"id\":\"5881\"},\"group\":null,\"hover_glyph\":null,\"view\":{\"id\":\"5874\"}},\"id\":\"5873\",\"type\":\"GlyphRenderer\"},{\"attributes\":{\"data\":{},\"selected\":{\"id\":\"6994\"},\"selection_policy\":{\"id\":\"6993\"}},\"id\":\"6866\",\"type\":\"ColumnDataSource\"},{\"attributes\":{},\"id\":\"7083\",\"type\":\"UnionRenderers\"},{\"attributes\":{\"data\":{},\"selected\":{\"id\":\"7078\"},\"selection_policy\":{\"id\":\"7077\"}},\"id\":\"6908\",\"type\":\"ColumnDataSource\"},{\"attributes\":{},\"id\":\"6827\",\"type\":\"LinearScale\"},{\"attributes\":{\"coordinates\":null,\"end\":{\"id\":\"5937\"},\"group\":null,\"line_width\":{\"value\":1.5},\"source\":{\"id\":\"6856\"},\"start\":null,\"x_end\":{\"value\":903.9890646309926},\"x_start\":{\"value\":860.8212471586766},\"y_end\":{\"value\":342.4055316536356},\"y_start\":{\"value\":325.62595779515254}},\"id\":\"5938\",\"type\":\"Arrow\"},{\"attributes\":{\"data\":{},\"selected\":{\"id\":\"7112\"},\"selection_policy\":{\"id\":\"7111\"}},\"id\":\"6925\",\"type\":\"ColumnDataSource\"},{\"attributes\":{\"coordinates\":null,\"end\":{\"id\":\"5886\"},\"group\":null,\"line_width\":{\"value\":1.5},\"source\":{\"id\":\"6839\"},\"start\":null,\"x_end\":{\"value\":972.0143439755665},\"x_start\":{\"value\":927.114208032578},\"y_end\":{\"value\":887.3526899821245},\"y_start\":{\"value\":865.5697466905007}},\"id\":\"5887\",\"type\":\"Arrow\"},{\"attributes\":{},\"id\":\"7084\",\"type\":\"Selection\"},{\"attributes\":{\"size\":{\"value\":5}},\"id\":\"5889\",\"type\":\"NormalHead\"},{\"attributes\":{\"data\":{},\"selected\":{\"id\":\"7080\"},\"selection_policy\":{\"id\":\"7079\"}},\"id\":\"6909\",\"type\":\"ColumnDataSource\"},{\"attributes\":{\"coordinates\":null,\"end\":{\"id\":\"5934\"},\"group\":null,\"line_width\":{\"value\":1.5},\"source\":{\"id\":\"6855\"},\"start\":null,\"x_end\":{\"value\":778.3126503710638},\"x_start\":{\"value\":822.8831328385816},\"y_end\":{\"value\":335.7776160464833},\"y_start\":{\"value\":323.63651193802235}},\"id\":\"5935\",\"type\":\"Arrow\"},{\"attributes\":{\"data\":{},\"selected\":{\"id\":\"6992\"},\"selection_policy\":{\"id\":\"6991\"}},\"id\":\"6865\",\"type\":\"ColumnDataSource\"},{\"attributes\":{\"data\":{},\"selected\":{\"id\":\"7114\"},\"selection_policy\":{\"id\":\"7113\"}},\"id\":\"6926\",\"type\":\"ColumnDataSource\"},{\"attributes\":{},\"id\":\"6826\",\"type\":\"LinearScale\"},{\"attributes\":{},\"id\":\"7023\",\"type\":\"UnionRenderers\"},{\"attributes\":{},\"id\":\"7024\",\"type\":\"Selection\"},{\"attributes\":{},\"id\":\"7025\",\"type\":\"UnionRenderers\"},{\"attributes\":{},\"id\":\"7026\",\"type\":\"Selection\"},{\"attributes\":{},\"id\":\"7027\",\"type\":\"UnionRenderers\"},{\"attributes\":{},\"id\":\"7028\",\"type\":\"Selection\"},{\"attributes\":{\"data\":{},\"selected\":{\"id\":\"6998\"},\"selection_policy\":{\"id\":\"6997\"}},\"id\":\"6868\",\"type\":\"ColumnDataSource\"},{\"attributes\":{},\"id\":\"7029\",\"type\":\"UnionRenderers\"},{\"attributes\":{},\"id\":\"7030\",\"type\":\"Selection\"},{\"attributes\":{\"graph_layout\":{\"ww_00ce5b9c822fbaca\":[192.67,105.0],\"ww_01bd7d0624c8a955\":[158.09,650.51],\"ww_01d64039ef29add5\":[741.07,1207.0],\"ww_028ce75225433cb6\":[462.0,486.56],\"ww_0747839b540f70c7\":[1049.9,150.97],\"ww_07f94c5a14cdc619\":[1098.6,564.14],\"ww_08075d65c13e49ee\":[1392.4,1365.7],\"ww_0dbc3e90bbb46334\":[1365.0,1294.0],\"ww_0eaf5058b7a910c7\":[1244.3,1115.1],\"ww_10ba3fba1c0c1529\":[478.02,1064.4],\"ww_13c9cec7f15c0056\":[836.69,1212.8],\"ww_18fac1f2fb1ce41f\":[541.62,434.84],\"ww_1917adced358cb4a\":[301.79,1296.7],\"ww_19b54f39c1d245a7\":[991.49,836.01],\"ww_1bfaaa3ed70bb1ac\":[232.6,254.56],\"ww_210bac9f048b8eea\":[842.18,318.38],\"ww_215595adbf8efd41\":[1361.7,482.0],\"ww_21a4c5dc5b2f6ed6\":[1085.7,1151.4],\"ww_2239f6f9bbcb7446\":[387.49,426.72],\"ww_22f51d85f231b2c7\":[706.49,1296.7],\"ww_235b7f298b54d631\":[997.09,482.0],\"ww_2560885c478fdfe0\":[291.25,921.56],\"ww_25e51ae4b6234004\":[1067.8,498.8],\"ww_293034ae2a49b418\":[781.0,1356.6],\"ww_295a0d9237083fe7\":[849.77,796.36],\"ww_2abb408b24f75e6c\":[909.12,856.84],\"ww_2b785e10c908c7ec\":[939.79,128.51],\"ww_2e3d7768539ae2ab\":[1360.6,719.83],\"ww_3101379204640286\":[684.6,159.49],\"ww_32c26a7909c83bda\":[697.89,671.62],\"ww_379b8583a4d90080\":[477.74,991.33],\"ww_3a359a22623b0162\":[158.09,194.72],\"ww_3a6f583779747368\":[962.85,18.0],\"ww_3b6425a2159f1d62\":[605.16,1092.8],\"ww_3bed848d2566166b\":[216.74,861.72],\"ww_415def570b10b5b9\":[1465.0,565.49],\"ww_4b9a43113334c0ad\":[784.83,1275.4],\"ww_4c352e527d12797b\":[894.04,255.83],\"ww_4d363cb4783e0b62\":[689.56,607.82],\"ww_51946dd5d1d57d4a\":[1142.7,1033.0],\"ww_57c42500ce0c6170\":[465.83,405.38],\"ww_57dcec5b9ff2c4b9\":[346.94,777.83],\"ww_585eaf1c6368e7af\":[1067.2,628.83],\"ww_58a0dec287a4170c\":[181.15,540.0],\"ww_594e076e93ed4ccf\":[985.51,893.9],\"ww_5cbdd6611f35e334\":[224.31,606.66],\"ww_5cdd4abfb59f6f0f\":[1341.2,613.7],\"ww_663f0143320cc310\":[517.69,342.83],\"ww_669475d1f67eb920\":[824.44,848.49],\"ww_66a52436edb537eb\":[838.81,905.18],\"ww_6821daa19a2840e1\":[422.07,337.0],\"ww_6979462622390b73\":[616.33,650.11],\"ww_6c565da6889f5269\":[1304.9,863.56],\"ww_6cc712b23bbafc5e\":[860.62,1304.8],\"ww_6e3b338bf16ebf06\":[997.04,645.13],\"ww_6f12e582a20c2675\":[638.63,569.0],\"ww_7286ff06f562c07b\":[336.37,1207.0],\"ww_7795f933b612f710\":[1316.1,47.0],\"ww_782a5cebdaa9d8ae\":[575.01,576.44],\"ww_7be6a3588e6b5de0\":[1085.4,1078.3],\"ww_7dc1f64b4c29a9d3\":[1247.5,318.38],\"ww_7ecb8d5ef454d329\":[917.97,347.84],\"ww_83e9ca4d103b86e1\":[1213.5,1049.8],\"ww_84f20b8b2eb71001\":[1230.4,803.72],\"ww_870f29a7dd6f45d9\":[1203.8,250.0],\"ww_880962580e78c61f\":[221.9,1116.5],\"ww_89443854a5459695\":[455.92,1304.8],\"ww_8bdc1e03f5a6a253\":[534.99,1109.1],\"ww_8c5990fb7392c89b\":[838.35,399.56],\"ww_8e68a517bc3ecceb\":[636.57,1028.1],\"ww_909a37b5a02277e8\":[118.65,1033.0],\"ww_90d74567307f904e\":[886.13,938.11],\"ww_95966dab4576ec42\":[1072.7,41.42],\"ww_971c475bea921406\":[958.65,787.9],\"ww_97b67e22685ce125\":[268.15,672.97],\"ww_98df9ad5de049472\":[939.79,527.33],\"ww_994d23875f3f8ca7\":[1212.9,1179.8],\"ww_9a6cb20b0b157545\":[594.79,731.54],\"ww_9e7a12cfee73da0b\":[1389.1,553.71],\"ww_a055872533d2ab57\":[1265.0,714.0],\"ww_a2a0ab6fbca2028d\":[943.85,934.75],\"ww_a59a84adf088089f\":[658.92,722.9],\"ww_a6f4b0e3428ad510\":[1323.3,347.84],\"ww_a987973d2abd4b57\":[146.02,1104.7],\"ww_aaeb0dba8a5ac513\":[251.32,772.0],\"ww_aef241d5b9263438\":[370.87,869.84],\"ww_b0913df56f856f27\":[763.84,339.72],\"ww_b42fadea9f893c6e\":[376.3,1356.6],\"ww_b4cc414fb56c2490\":[98.141,1164.7],\"ww_b5b8083a6a1282bc\":[543.27,692.11],\"ww_b71ba2ae83103344\":[1468.3,1377.5],\"ww_b7e69820855e7384\":[288.29,110.83],\"ww_b9f19b471626f83e\":[552.96,1027.5],\"ww_ba8b881de92fd8a4\":[431.99,1212.8],\"ww_beea1c07025a2ffb\":[1006.0,84.656],\"ww_c10bde4b8bca2ae6\":[295.08,840.38],\"ww_c2ae504efe318b6c\":[1308.8,782.38],\"ww_c2f29658555093e7\":[940.07,600.37],\"ww_c6bb592912665657\":[581.35,76.0],\"ww_c9d35c25f4fc4189\":[1384.0,172.63],\"ww_caf27ffdc954c844\":[902.47,772.0],\"ww_cd82c881f4f118d0\":[560.84,207.7],\"ww_ce579bce70dc8776\":[608.72,147.71],\"ww_d2361763e8343194\":[1299.4,255.83],\"ww_d2d2a262485c5d23\":[605.77,962.8],\"ww_d3843909dc6e861b\":[236.43,173.38],\"ww_d62468b11823d4c9\":[535.09,627.64],\"ww_d67a1f9d4d50f936\":[1344.5,1425.7],\"ww_d705147c9b9aaf18\":[1340.1,115.21],\"ww_d9ad6d0b3d1a5598\":[312.22,202.84],\"ww_e01ecfd8de9acc61\":[1169.2,339.72],\"ww_e2adb2be413fd5a5\":[1243.7,399.56],\"ww_e2effa540e636cd5\":[1160.7,1114.5],\"ww_eb109a2a9b99c1f5\":[380.13,1275.4],\"ww_eb3ebae9ea90daa0\":[1384.6,811.84],\"ww_f27c7abd24218962\":[1015.0,563.52],\"ww_f32f713a36985f62\":[1142.7,1196.1],\"ww_f38739f4c2391f47\":[798.42,250.0],\"ww_ff2cef3775c5331c\":[291.0,563.42],\"ww_ff8f000dd9cb7a3b\":[535.04,946.0]}},\"id\":\"5875\",\"type\":\"StaticLayoutProvider\"},{\"attributes\":{},\"id\":\"7031\",\"type\":\"UnionRenderers\"},{\"attributes\":{\"line_alpha\":{\"value\":0},\"line_width\":{\"value\":0}},\"id\":\"5881\",\"type\":\"MultiLine\"},{\"attributes\":{},\"id\":\"7032\",\"type\":\"Selection\"},{\"attributes\":{},\"id\":\"7033\",\"type\":\"UnionRenderers\"},{\"attributes\":{},\"id\":\"7034\",\"type\":\"Selection\"},{\"attributes\":{},\"id\":\"7035\",\"type\":\"UnionRenderers\"},{\"attributes\":{},\"id\":\"7036\",\"type\":\"Selection\"},{\"attributes\":{},\"id\":\"7037\",\"type\":\"UnionRenderers\"},{\"attributes\":{\"fill_color\":{\"field\":\"node_color\"},\"size\":{\"field\":\"node_size\"}},\"id\":\"5876\",\"type\":\"Circle\"},{\"attributes\":{},\"id\":\"7038\",\"type\":\"Selection\"},{\"attributes\":{},\"id\":\"7039\",\"type\":\"UnionRenderers\"},{\"attributes\":{},\"id\":\"7040\",\"type\":\"Selection\"},{\"attributes\":{},\"id\":\"7106\",\"type\":\"Selection\"},{\"attributes\":{},\"id\":\"7041\",\"type\":\"UnionRenderers\"},{\"attributes\":{},\"id\":\"7042\",\"type\":\"Selection\"},{\"attributes\":{\"size\":{\"value\":5}},\"id\":\"5934\",\"type\":\"NormalHead\"},{\"attributes\":{\"coordinates\":null,\"end\":{\"id\":\"5898\"},\"group\":null,\"line_width\":{\"value\":1.5},\"source\":{\"id\":\"6843\"},\"start\":null,\"x_end\":{\"value\":890.2130375346451},\"x_start\":{\"value\":903.6759499538065},\"y_end\":{\"value\":923.6764001548235},\"y_start\":{\"value\":876.0847997935687}},\"id\":\"5899\",\"type\":\"Arrow\"},{\"attributes\":{\"size\":{\"value\":5}},\"id\":\"5901\",\"type\":\"NormalHead\"},{\"attributes\":{\"coordinates\":null,\"end\":{\"id\":\"5892\"},\"group\":null,\"line_width\":{\"value\":1.5},\"source\":{\"id\":\"6841\"},\"start\":null,\"x_end\":{\"value\":851.1704749779614},\"x_start\":{\"value\":892.6393666960514},\"y_end\":{\"value\":896.6818438282654},\"y_start\":{\"value\":868.1708748956461}},\"id\":\"5893\",\"type\":\"Arrow\"},{\"attributes\":{\"coordinates\":null,\"end\":{\"id\":\"5928\"},\"group\":null,\"line_width\":{\"value\":1.5},\"source\":{\"id\":\"6853\"},\"start\":null,\"x_end\":{\"value\":884.4661359078399},\"x_start\":{\"value\":854.94515212288},\"y_end\":{\"value\":267.3773428261591},\"y_start\":{\"value\":302.9835428984545}},\"id\":\"5929\",\"type\":\"Arrow\"},{\"attributes\":{},\"id\":\"7107\",\"type\":\"UnionRenderers\"},{\"attributes\":{\"size\":{\"value\":5}},\"id\":\"5895\",\"type\":\"NormalHead\"},{\"attributes\":{\"size\":{\"value\":5}},\"id\":\"5955\",\"type\":\"NormalHead\"},{\"attributes\":{\"size\":{\"value\":5}},\"id\":\"5928\",\"type\":\"NormalHead\"},{\"attributes\":{},\"id\":\"7108\",\"type\":\"Selection\"},{\"attributes\":{\"coordinates\":null,\"end\":{\"id\":\"5940\"},\"group\":null,\"line_width\":{\"value\":1.5},\"source\":{\"id\":\"6857\"},\"start\":null,\"x_end\":{\"value\":839.0569003261309},\"x_start\":{\"value\":841.2374662318255},\"y_end\":{\"value\":384.5766661944374},\"y_start\":{\"value\":338.35777840741684}},\"id\":\"5941\",\"type\":\"Arrow\"},{\"attributes\":{\"coordinates\":null,\"end\":{\"id\":\"5913\"},\"group\":null,\"line_width\":{\"value\":1.5},\"source\":{\"id\":\"6848\"},\"start\":null,\"x_end\":{\"value\":827.120669855494},\"x_start\":{\"value\":797.5891068593414},\"y_end\":{\"value\":1224.3511004058248},\"y_start\":{\"value\":1259.9985327922336}},\"id\":\"5914\",\"type\":\"Arrow\"},{\"attributes\":{\"coordinates\":null,\"end\":{\"id\":\"5910\"},\"group\":null,\"line_width\":{\"value\":1.5},\"source\":{\"id\":\"6847\"},\"start\":null,\"x_end\":{\"value\":949.8978625282713},\"x_start\":{\"value\":920.7895166289717},\"y_end\":{\"value\":800.081957546961},\"y_start\":{\"value\":840.5973899373853}},\"id\":\"5911\",\"type\":\"Arrow\"},{\"attributes\":{\"coordinates\":null,\"end\":{\"id\":\"5904\"},\"group\":null,\"line_width\":{\"value\":1.5},\"source\":{\"id\":\"6845\"},\"start\":null,\"x_end\":{\"value\":976.9477818980791},\"x_start\":{\"value\":928.5096241358946},\"y_end\":{\"value\":839.6874845582495},\"y_start\":{\"value\":851.9366872556674}},\"id\":\"5905\",\"type\":\"Arrow\"},{\"attributes\":{\"coordinates\":null,\"end\":{\"id\":\"5907\"},\"group\":null,\"line_width\":{\"value\":1.5},\"source\":{\"id\":\"6846\"},\"start\":null,\"x_end\":{\"value\":860.2761140694568},\"x_start\":{\"value\":895.111847907391},\"y_end\":{\"value\":807.0661462328685},\"y_start\":{\"value\":842.5651383561755}},\"id\":\"5908\",\"type\":\"Arrow\"},{\"attributes\":{},\"id\":\"7109\",\"type\":\"UnionRenderers\"},{\"attributes\":{\"size\":{\"value\":5}},\"id\":\"5898\",\"type\":\"NormalHead\"},{\"attributes\":{\"size\":{\"value\":5}},\"id\":\"5949\",\"type\":\"NormalHead\"},{\"attributes\":{},\"id\":\"7110\",\"type\":\"Selection\"},{\"attributes\":{\"size\":{\"value\":5}},\"id\":\"5952\",\"type\":\"NormalHead\"},{\"attributes\":{\"size\":{\"value\":5}},\"id\":\"5931\",\"type\":\"NormalHead\"},{\"attributes\":{\"size\":{\"value\":5}},\"id\":\"5913\",\"type\":\"NormalHead\"},{\"attributes\":{\"coordinates\":null,\"end\":{\"id\":\"5901\"},\"group\":null,\"line_width\":{\"value\":1.5},\"source\":{\"id\":\"6844\"},\"start\":null,\"x_end\":{\"value\":839.3676031818992},\"x_start\":{\"value\":889.2165290908011},\"y_end\":{\"value\":849.9619589816823},\"y_start\":{\"value\":854.8773880244236}},\"id\":\"5902\",\"type\":\"Arrow\"},{\"attributes\":{},\"id\":\"7111\",\"type\":\"UnionRenderers\"},{\"attributes\":{\"size\":{\"value\":5}},\"id\":\"5910\",\"type\":\"NormalHead\"},{\"attributes\":{\"coordinates\":null,\"end\":{\"id\":\"5922\"},\"group\":null,\"line_width\":{\"value\":1.5},\"source\":{\"id\":\"6851\"},\"start\":null,\"x_end\":{\"value\":846.635329396421},\"x_start\":{\"value\":803.4762274714388},\"y_end\":{\"value\":1299.3751508675916},\"y_start\":{\"value\":1282.6331321765444}},\"id\":\"5923\",\"type\":\"Arrow\"},{\"attributes\":{\"coordinates\":null,\"end\":{\"id\":\"5916\"},\"group\":null,\"line_width\":{\"value\":1.5},\"source\":{\"id\":\"6849\"},\"start\":null,\"x_end\":{\"value\":749.1537085329817},\"x_start\":{\"value\":774.0517219560245},\"y_end\":{\"value\":1219.6354127892128},\"y_start\":{\"value\":1258.5527829477164}},\"id\":\"5917\",\"type\":\"Arrow\"},{\"attributes\":{},\"id\":\"7112\",\"type\":\"Selection\"},{\"attributes\":{\"size\":{\"value\":5}},\"id\":\"5925\",\"type\":\"NormalHead\"},{\"attributes\":{\"size\":{\"value\":5}},\"id\":\"5922\",\"type\":\"NormalHead\"},{\"attributes\":{\"size\":{\"value\":5}},\"id\":\"5892\",\"type\":\"NormalHead\"},{\"attributes\":{\"coordinates\":null,\"end\":{\"id\":\"5925\"},\"group\":null,\"line_width\":{\"value\":1.5},\"source\":{\"id\":\"6852\"},\"start\":null,\"x_end\":{\"value\":781.7067265993003},\"x_start\":{\"value\":783.8876978675997},\"y_end\":{\"value\":1341.6166579991698},\"y_start\":{\"value\":1295.3777893344404}},\"id\":\"5926\",\"type\":\"Arrow\"},{\"attributes\":{\"size\":{\"value\":5}},\"id\":\"5916\",\"type\":\"NormalHead\"},{\"attributes\":{},\"id\":\"7113\",\"type\":\"UnionRenderers\"},{\"attributes\":{\"size\":{\"value\":5}},\"id\":\"5904\",\"type\":\"NormalHead\"},{\"attributes\":{\"coordinates\":null,\"end\":{\"id\":\"5889\"},\"group\":null,\"line_width\":{\"value\":1.5},\"source\":{\"id\":\"6840\"},\"start\":null,\"x_end\":{\"value\":903.6421473279687},\"x_start\":{\"value\":907.5571368960417},\"y_end\":{\"value\":786.9541322262957},\"y_start\":{\"value\":836.9011570316057}},\"id\":\"5890\",\"type\":\"Arrow\"},{\"attributes\":{\"coordinates\":null,\"end\":{\"id\":\"5931\"},\"group\":null,\"line_width\":{\"value\":1.5},\"source\":{\"id\":\"6854\"},\"start\":null,\"x_end\":{\"value\":806.5053859944701},\"x_start\":{\"value\":831.3994853407064},\"y_end\":{\"value\":262.6343394493114},\"y_start\":{\"value\":301.5342140675848}},\"id\":\"5932\",\"type\":\"Arrow\"},{\"attributes\":{},\"id\":\"7114\",\"type\":\"Selection\"},{\"attributes\":{\"coordinates\":null,\"end\":{\"id\":\"5946\"},\"group\":null,\"line_width\":{\"value\":1.5},\"source\":{\"id\":\"6859\"},\"start\":null,\"x_end\":{\"value\":200.75538599447012},\"x_start\":{\"value\":225.64948534070652},\"y_end\":{\"value\":117.6343394493114},\"y_start\":{\"value\":156.5342140675848}},\"id\":\"5947\",\"type\":\"Arrow\"},{\"attributes\":{\"size\":{\"value\":5}},\"id\":\"5940\",\"type\":\"NormalHead\"},{\"attributes\":{\"size\":{\"value\":5}},\"id\":\"5919\",\"type\":\"NormalHead\"},{\"attributes\":{\"coordinates\":null,\"end\":{\"id\":\"5919\"},\"group\":null,\"line_width\":{\"value\":1.5},\"source\":{\"id\":\"6850\"},\"start\":null,\"x_end\":{\"value\":720.9645228891891},\"x_start\":{\"value\":765.530636147748},\"y_end\":{\"value\":1292.76449658489},\"y_start\":{\"value\":1280.6473378868136}},\"id\":\"5920\",\"type\":\"Arrow\"},{\"attributes\":{\"size\":{\"value\":5}},\"id\":\"5943\",\"type\":\"NormalHead\"},{\"attributes\":{},\"id\":\"7115\",\"type\":\"UnionRenderers\"},{\"attributes\":{\"coordinates\":null,\"end\":{\"id\":\"5895\"},\"group\":null,\"line_width\":{\"value\":1.5},\"source\":{\"id\":\"6842\"},\"start\":null,\"x_end\":{\"value\":937.7427529393572},\"x_start\":{\"value\":917.2629960808572},\"y_end\":{\"value\":921.0495790816387},\"y_start\":{\"value\":875.1072278911483}},\"id\":\"5896\",\"type\":\"Arrow\"},{\"attributes\":{\"size\":{\"value\":5}},\"id\":\"5946\",\"type\":\"NormalHead\"},{\"attributes\":{\"coordinates\":null,\"end\":{\"id\":\"5943\"},\"group\":null,\"line_width\":{\"value\":1.5},\"source\":{\"id\":\"6858\"},\"start\":null,\"x_end\":{\"value\":278.71613590783994},\"x_start\":{\"value\":249.19515212288007},\"y_end\":{\"value\":122.37734282615911},\"y_start\":{\"value\":157.98354289845452}},\"id\":\"5944\",\"type\":\"Arrow\"},{\"attributes\":{},\"id\":\"7116\",\"type\":\"Selection\"},{\"attributes\":{\"coordinates\":null,\"end\":{\"id\":\"5949\"},\"group\":null,\"line_width\":{\"value\":1.5},\"source\":{\"id\":\"6860\"},\"start\":null,\"x_end\":{\"value\":172.56265037106382},\"x_start\":{\"value\":217.1331328385816},\"y_end\":{\"value\":190.77761604648325},\"y_start\":{\"value\":178.63651193802232}},\"id\":\"5950\",\"type\":\"Arrow\"},{\"attributes\":{\"size\":{\"value\":5}},\"id\":\"5907\",\"type\":\"NormalHead\"},{\"attributes\":{\"coordinates\":null,\"end\":{\"id\":\"5952\"},\"group\":null,\"line_width\":{\"value\":1.5},\"source\":{\"id\":\"6861\"},\"start\":null,\"x_end\":{\"value\":298.2390646309926},\"x_start\":{\"value\":255.07124715867658},\"y_end\":{\"value\":197.4055316536356},\"y_start\":{\"value\":180.62595779515254}},\"id\":\"5953\",\"type\":\"Arrow\"},{\"attributes\":{\"size\":{\"value\":5}},\"id\":\"5958\",\"type\":\"NormalHead\"},{\"attributes\":{\"coordinates\":null,\"end\":{\"id\":\"5955\"},\"group\":null,\"line_width\":{\"value\":1.5},\"source\":{\"id\":\"6862\"},\"start\":null,\"x_end\":{\"value\":233.3069003261309},\"x_start\":{\"value\":235.4874662318255},\"y_end\":{\"value\":239.57666619443737},\"y_start\":{\"value\":193.35777840741684}},\"id\":\"5956\",\"type\":\"Arrow\"},{\"attributes\":{},\"id\":\"7117\",\"type\":\"UnionRenderers\"},{\"attributes\":{\"size\":{\"value\":5}},\"id\":\"5961\",\"type\":\"NormalHead\"},{\"attributes\":{\"coordinates\":null,\"end\":{\"id\":\"5958\"},\"group\":null,\"line_width\":{\"value\":1.5},\"source\":{\"id\":\"6863\"},\"start\":null,\"x_end\":{\"value\":508.11613590784},\"x_start\":{\"value\":478.59515212288005},\"y_end\":{\"value\":354.37734282615907},\"y_start\":{\"value\":389.9835428984545}},\"id\":\"5959\",\"type\":\"Arrow\"},{\"attributes\":{\"size\":{\"value\":5}},\"id\":\"5964\",\"type\":\"NormalHead\"},{\"attributes\":{},\"id\":\"7118\",\"type\":\"Selection\"},{\"attributes\":{\"coordinates\":null,\"end\":{\"id\":\"5961\"},\"group\":null,\"line_width\":{\"value\":1.5},\"source\":{\"id\":\"6864\"},\"start\":null,\"x_end\":{\"value\":430.1553859944701},\"x_start\":{\"value\":455.0494853407065},\"y_end\":{\"value\":349.6343394493114},\"y_start\":{\"value\":388.5342140675848}},\"id\":\"5962\",\"type\":\"Arrow\"},{\"attributes\":{\"size\":{\"value\":5}},\"id\":\"5967\",\"type\":\"NormalHead\"},{\"attributes\":{\"coordinates\":null,\"end\":{\"id\":\"5964\"},\"group\":null,\"line_width\":{\"value\":1.5},\"source\":{\"id\":\"6865\"},\"start\":null,\"x_end\":{\"value\":401.96265037106383},\"x_start\":{\"value\":446.53313283858154},\"y_end\":{\"value\":422.7776160464833},\"y_start\":{\"value\":410.63651193802235}},\"id\":\"5965\",\"type\":\"Arrow\"},{\"attributes\":{\"size\":{\"value\":5}},\"id\":\"5970\",\"type\":\"NormalHead\"},{\"attributes\":{\"coordinates\":null,\"end\":{\"id\":\"5967\"},\"group\":null,\"line_width\":{\"value\":1.5},\"source\":{\"id\":\"6866\"},\"start\":null,\"x_end\":{\"value\":527.6390646309926},\"x_start\":{\"value\":484.4712471586766},\"y_end\":{\"value\":429.40553165363553},\"y_start\":{\"value\":412.62595779515254}},\"id\":\"5968\",\"type\":\"Arrow\"},{\"attributes\":{},\"id\":\"7119\",\"type\":\"UnionRenderers\"},{\"attributes\":{\"size\":{\"value\":5}},\"id\":\"5973\",\"type\":\"NormalHead\"},{\"attributes\":{\"coordinates\":null,\"end\":{\"id\":\"5970\"},\"group\":null,\"line_width\":{\"value\":1.5},\"source\":{\"id\":\"6867\"},\"start\":null,\"x_end\":{\"value\":462.7069003261309},\"x_start\":{\"value\":464.8874662318255},\"y_end\":{\"value\":471.5766661944374},\"y_start\":{\"value\":425.35777840741684}},\"id\":\"5971\",\"type\":\"Arrow\"},{\"attributes\":{\"size\":{\"value\":5}},\"id\":\"5976\",\"type\":\"NormalHead\"},{\"attributes\":{},\"id\":\"7120\",\"type\":\"Selection\"},{\"attributes\":{\"coordinates\":null,\"end\":{\"id\":\"5973\"},\"group\":null,\"line_width\":{\"value\":1.5},\"source\":{\"id\":\"6868\"},\"start\":null,\"x_end\":{\"value\":207.0781474977121},\"x_start\":{\"value\":165.78247000305055},\"y_end\":{\"value\":1114.1950730162494},\"y_start\":{\"value\":1107.7732359783342}},\"id\":\"5974\",\"type\":\"Arrow\"},{\"attributes\":{\"size\":{\"value\":5}},\"id\":\"5979\",\"type\":\"NormalHead\"},{\"attributes\":{\"coordinates\":null,\"end\":{\"id\":\"5976\"},\"group\":null,\"line_width\":{\"value\":1.5},\"source\":{\"id\":\"6869\"},\"start\":null,\"x_end\":{\"value\":123.99943795416942},\"x_start\":{\"value\":138.88741606110744},\"y_end\":{\"value\":1047.0136902197278},\"y_start\":{\"value\":1086.0150797070298}},\"id\":\"5977\",\"type\":\"Arrow\"},{\"attributes\":{\"size\":{\"value\":5}},\"id\":\"5982\",\"type\":\"NormalHead\"},{\"attributes\":{\"coordinates\":null,\"end\":{\"id\":\"5979\"},\"group\":null,\"line_width\":{\"value\":1.5},\"source\":{\"id\":\"6870\"},\"start\":null,\"x_end\":{\"value\":107.49700122238394},\"x_start\":{\"value\":133.54533170348807},\"y_end\":{\"value\":1152.9754428174558},\"y_start\":{\"value\":1120.332742910059}},\"id\":\"5980\",\"type\":\"Arrow\"},{\"attributes\":{},\"id\":\"7121\",\"type\":\"UnionRenderers\"},{\"attributes\":{\"size\":{\"value\":5}},\"id\":\"5985\",\"type\":\"NormalHead\"},{\"attributes\":{\"coordinates\":null,\"end\":{\"id\":\"5982\"},\"group\":null,\"line_width\":{\"value\":1.5},\"source\":{\"id\":\"6871\"},\"start\":null,\"x_end\":{\"value\":683.3859341812113},\"x_start\":{\"value\":635.6687544250517},\"y_end\":{\"value\":667.7948104982571},\"y_start\":{\"value\":655.2102526689905}},\"id\":\"5983\",\"type\":\"Arrow\"},{\"attributes\":{\"size\":{\"value\":5}},\"id\":\"5988\",\"type\":\"NormalHead\"},{\"attributes\":{},\"id\":\"7122\",\"type\":\"Selection\"},{\"attributes\":{\"coordinates\":null,\"end\":{\"id\":\"5985\"},\"group\":null,\"line_width\":{\"value\":1.5},\"source\":{\"id\":\"6872\"},\"start\":null,\"x_end\":{\"value\":582.3478091717003},\"x_start\":{\"value\":606.546254437733},\"y_end\":{\"value\":589.5226815508026},\"y_start\":{\"value\":632.6664245989299}},\"id\":\"5986\",\"type\":\"Arrow\"},{\"attributes\":{\"size\":{\"value\":5}},\"id\":\"5991\",\"type\":\"NormalHead\"},{\"attributes\":{\"coordinates\":null,\"end\":{\"id\":\"5988\"},\"group\":null,\"line_width\":{\"value\":1.5},\"source\":{\"id\":\"6873\"},\"start\":null,\"x_end\":{\"value\":556.2743251918725},\"x_start\":{\"value\":598.99089974417},\"y_end\":{\"value\":684.6342039685376},\"y_start\":{\"value\":660.07772804195}},\"id\":\"5989\",\"type\":\"Arrow\"},{\"attributes\":{\"size\":{\"value\":5}},\"id\":\"5994\",\"type\":\"NormalHead\"},{\"attributes\":{\"coordinates\":null,\"end\":{\"id\":\"5991\"},\"group\":null,\"line_width\":{\"value\":1.5},\"source\":{\"id\":\"6874\"},\"start\":null,\"x_end\":{\"value\":651.3447999967377},\"x_start\":{\"value\":626.4302666710163},\"y_end\":{\"value\":709.9533268786697},\"y_start\":{\"value\":667.3722308284404}},\"id\":\"5992\",\"type\":\"Arrow\"},{\"attributes\":{},\"id\":\"7123\",\"type\":\"UnionRenderers\"},{\"attributes\":{\"size\":{\"value\":5}},\"id\":\"5997\",\"type\":\"NormalHead\"},{\"attributes\":{\"coordinates\":null,\"end\":{\"id\":\"5994\"},\"group\":null,\"line_width\":{\"value\":1.5},\"source\":{\"id\":\"6875\"},\"start\":null,\"x_end\":{\"value\":598.6258920289425},\"x_start\":{\"value\":611.2154772947433},\"y_end\":{\"value\":717.0387610066485},\"y_start\":{\"value\":669.4449853244686}},\"id\":\"5995\",\"type\":\"Arrow\"},{\"attributes\":{\"size\":{\"value\":5}},\"id\":\"6000\",\"type\":\"NormalHead\"},{\"attributes\":{},\"id\":\"7124\",\"type\":\"Selection\"},{\"attributes\":{\"coordinates\":null,\"end\":{\"id\":\"5997\"},\"group\":null,\"line_width\":{\"value\":1.5},\"source\":{\"id\":\"6876\"},\"start\":null,\"x_end\":{\"value\":549.5471959889127},\"x_start\":{\"value\":597.0537386814499},\"y_end\":{\"value\":631.6386853012169},\"y_start\":{\"value\":644.7784195983774}},\"id\":\"5998\",\"type\":\"Arrow\"},{\"attributes\":{\"size\":{\"value\":5}},\"id\":\"6003\",\"type\":\"NormalHead\"},{\"attributes\":{\"coordinates\":null,\"end\":{\"id\":\"6000\"},\"group\":null,\"line_width\":{\"value\":1.5},\"source\":{\"id\":\"6877\"},\"start\":null,\"x_end\":{\"value\":676.5704362405851},\"x_start\":{\"value\":633.6494183458865},\"y_end\":{\"value\":615.3214154224452},\"y_start\":{\"value\":640.1081127700733}},\"id\":\"6001\",\"type\":\"Arrow\"},{\"attributes\":{\"size\":{\"value\":5}},\"id\":\"6006\",\"type\":\"NormalHead\"},{\"attributes\":{\"coordinates\":null,\"end\":{\"id\":\"6003\"},\"group\":null,\"line_width\":{\"value\":1.5},\"source\":{\"id\":\"6878\"},\"start\":null,\"x_end\":{\"value\":634.6535231080422},\"x_start\":{\"value\":621.631969189277},\"y_end\":{\"value\":583.4633202110624},\"y_start\":{\"value\":630.8255730519168}},\"id\":\"6004\",\"type\":\"Arrow\"},{\"attributes\":{},\"id\":\"7125\",\"type\":\"UnionRenderers\"},{\"attributes\":{\"size\":{\"value\":5}},\"id\":\"6009\",\"type\":\"NormalHead\"},{\"attributes\":{\"coordinates\":null,\"end\":{\"id\":\"6006\"},\"group\":null,\"line_width\":{\"value\":1.5},\"source\":{\"id\":\"6879\"},\"start\":null,\"x_end\":{\"value\":1289.8217617781515},\"x_start\":{\"value\":1260.270984295798},\"y_end\":{\"value\":267.3737148511873},\"y_start\":{\"value\":302.98838019841696}},\"id\":\"6007\",\"type\":\"Arrow\"},{\"attributes\":{\"size\":{\"value\":5}},\"id\":\"6015\",\"type\":\"NormalHead\"},{\"attributes\":{},\"id\":\"7126\",\"type\":\"Selection\"},{\"attributes\":{\"coordinates\":null,\"end\":{\"id\":\"6009\"},\"group\":null,\"line_width\":{\"value\":1.5},\"source\":{\"id\":\"6880\"},\"start\":null,\"x_end\":{\"value\":1211.8775163202645},\"x_start\":{\"value\":1236.7299782396474},\"y_end\":{\"value\":262.63937221921486},\"y_start\":{\"value\":301.52750370771355}},\"id\":\"6010\",\"type\":\"Arrow\"},{\"attributes\":{\"coordinates\":null,\"end\":{\"id\":\"6012\"},\"group\":null,\"line_width\":{\"value\":1.5},\"source\":{\"id\":\"6881\"},\"start\":null,\"x_end\":{\"value\":1183.672139549124},\"x_start\":{\"value\":1228.203813934501},\"y_end\":{\"value\":335.7757412774163},\"y_start\":{\"value\":323.63901163011167}},\"id\":\"6013\",\"type\":\"Arrow\"},{\"attributes\":{\"coordinates\":null,\"end\":{\"id\":\"6015\"},\"group\":null,\"line_width\":{\"value\":1.5},\"source\":{\"id\":\"6882\"},\"start\":null,\"x_end\":{\"value\":1309.3188225385327},\"x_start\":{\"value\":1266.141569948623},\"y_end\":{\"value\":342.40615451167776},\"y_start\":{\"value\":325.625127317763}},\"id\":\"6016\",\"type\":\"Arrow\"},{\"attributes\":{\"size\":{\"value\":5}},\"id\":\"6018\",\"type\":\"NormalHead\"},{\"attributes\":{\"size\":{\"value\":5}},\"id\":\"6012\",\"type\":\"NormalHead\"},{\"attributes\":{\"coordinates\":null,\"end\":{\"id\":\"6018\"},\"group\":null,\"line_width\":{\"value\":1.5},\"source\":{\"id\":\"6883\"},\"start\":null,\"x_end\":{\"value\":1244.4013754014989},\"x_start\":{\"value\":1246.5648327980016},\"y_end\":{\"value\":384.57640655429503},\"y_start\":{\"value\":338.35812459427325}},\"id\":\"6019\",\"type\":\"Arrow\"},{\"attributes\":{},\"id\":\"7001\",\"type\":\"UnionRenderers\"},{\"attributes\":{\"coordinates\":null,\"end\":{\"id\":\"6021\"},\"group\":null,\"line_width\":{\"value\":1.5},\"source\":{\"id\":\"6884\"},\"start\":null,\"x_end\":{\"value\":1453.4780552895506},\"x_start\":{\"value\":1412.162592947266},\"y_end\":{\"value\":1375.1956660397457},\"y_start\":{\"value\":1368.772445280339}},\"id\":\"6022\",\"type\":\"Arrow\"},{\"attributes\":{\"size\":{\"value\":5}},\"id\":\"6021\",\"type\":\"NormalHead\"},{\"attributes\":{},\"id\":\"7002\",\"type\":\"Selection\"},{\"attributes\":{\"coordinates\":null,\"end\":{\"id\":\"6024\"},\"group\":null,\"line_width\":{\"value\":1.5},\"source\":{\"id\":\"6885\"},\"start\":null,\"x_end\":{\"value\":1370.354554610922},\"x_start\":{\"value\":1385.2605938521044},\"y_end\":{\"value\":1308.0117359709159},\"y_start\":{\"value\":1347.0176853721123}},\"id\":\"6025\",\"type\":\"Arrow\"},{\"attributes\":{\"size\":{\"value\":5}},\"id\":\"6027\",\"type\":\"NormalHead\"},{\"attributes\":{\"size\":{\"value\":5}},\"id\":\"6024\",\"type\":\"NormalHead\"},{\"attributes\":{\"size\":{\"value\":5}},\"id\":\"6030\",\"type\":\"NormalHead\"},{\"attributes\":{\"coordinates\":null,\"end\":{\"id\":\"6027\"},\"group\":null,\"line_width\":{\"value\":1.5},\"source\":{\"id\":\"6886\"},\"start\":null,\"x_end\":{\"value\":1353.8585076993324},\"x_start\":{\"value\":1379.9219897342234},\"y_end\":{\"value\":1413.977443382882},\"y_start\":{\"value\":1381.3300754894906}},\"id\":\"6028\",\"type\":\"Arrow\"},{\"attributes\":{},\"id\":\"7003\",\"type\":\"UnionRenderers\"},{\"attributes\":{\"size\":{\"value\":5}},\"id\":\"6033\",\"type\":\"NormalHead\"},{\"attributes\":{\"coordinates\":null,\"end\":{\"id\":\"6030\"},\"group\":null,\"line_width\":{\"value\":1.5},\"source\":{\"id\":\"6887\"},\"start\":null,\"x_end\":{\"value\":621.5703862162511},\"x_start\":{\"value\":572.9594850449987},\"y_end\":{\"value\":1027.9923601450753},\"y_start\":{\"value\":1027.6435198065662}},\"id\":\"6031\",\"type\":\"Arrow\"},{\"attributes\":{\"size\":{\"value\":5}},\"id\":\"6036\",\"type\":\"NormalHead\"},{\"attributes\":{},\"id\":\"7004\",\"type\":\"Selection\"},{\"attributes\":{\"coordinates\":null,\"end\":{\"id\":\"6033\"},\"group\":null,\"line_width\":{\"value\":1.5},\"source\":{\"id\":\"6888\"},\"start\":null,\"x_end\":{\"value\":538.2612121516435},\"x_start\":{\"value\":548.6650504644754},\"y_end\":{\"value\":960.6500441048519},\"y_start\":{\"value\":1007.9666078601975}},\"id\":\"6034\",\"type\":\"Arrow\"},{\"attributes\":{\"size\":{\"value\":5}},\"id\":\"6039\",\"type\":\"NormalHead\"},{\"attributes\":{\"coordinates\":null,\"end\":{\"id\":\"6036\"},\"group\":null,\"line_width\":{\"value\":1.5},\"source\":{\"id\":\"6889\"},\"start\":null,\"x_end\":{\"value\":491.4771003171673},\"x_start\":{\"value\":535.0171995771103},\"y_end\":{\"value\":1057.7738056885046},\"y_start\":{\"value\":1036.3349257486607}},\"id\":\"6037\",\"type\":\"Arrow\"},{\"attributes\":{\"size\":{\"value\":5}},\"id\":\"6042\",\"type\":\"NormalHead\"},{\"attributes\":{\"coordinates\":null,\"end\":{\"id\":\"6039\"},\"group\":null,\"line_width\":{\"value\":1.5},\"source\":{\"id\":\"6890\"},\"start\":null,\"x_end\":{\"value\":595.7939511900364},\"x_start\":{\"value\":565.4480650799514},\"y_end\":{\"value\":1081.0834676764248},\"y_start\":{\"value\":1043.1220430981002}},\"id\":\"6040\",\"type\":\"Arrow\"},{\"attributes\":{},\"id\":\"7005\",\"type\":\"UnionRenderers\"},{\"attributes\":{\"size\":{\"value\":5}},\"id\":\"6045\",\"type\":\"NormalHead\"},{\"attributes\":{\"coordinates\":null,\"end\":{\"id\":\"6042\"},\"group\":null,\"line_width\":{\"value\":1.5},\"source\":{\"id\":\"6891\"},\"start\":null,\"x_end\":{\"value\":538.216008884114},\"x_start\":{\"value\":548.6586548211815},\"y_end\":{\"value\":1094.451011411035},\"y_start\":{\"value\":1047.0319847852863}},\"id\":\"6043\",\"type\":\"Arrow\"},{\"attributes\":{\"size\":{\"value\":5}},\"id\":\"6048\",\"type\":\"NormalHead\"},{\"attributes\":{},\"id\":\"7006\",\"type\":\"Selection\"},{\"attributes\":{\"coordinates\":null,\"end\":{\"id\":\"6045\"},\"group\":null,\"line_width\":{\"value\":1.5},\"source\":{\"id\":\"6892\"},\"start\":null,\"x_end\":{\"value\":491.2583274587971},\"x_start\":{\"value\":534.9355633882706},\"y_end\":{\"value\":997.8303709676243},\"y_start\":{\"value\":1018.8328387098344}},\"id\":\"6046\",\"type\":\"Arrow\"},{\"attributes\":{\"size\":{\"value\":5}},\"id\":\"6051\",\"type\":\"NormalHead\"},{\"attributes\":{\"coordinates\":null,\"end\":{\"id\":\"6048\"},\"group\":null,\"line_width\":{\"value\":1.5},\"source\":{\"id\":\"6893\"},\"start\":null,\"x_end\":{\"value\":596.2850345489921},\"x_start\":{\"value\":565.6066206013438},\"y_end\":{\"value\":974.4204746199622},\"y_start\":{\"value\":1012.0060338400502}},\"id\":\"6049\",\"type\":\"Arrow\"},{\"attributes\":{\"size\":{\"value\":5}},\"id\":\"6054\",\"type\":\"NormalHead\"},{\"attributes\":{\"coordinates\":null,\"end\":{\"id\":\"6051\"},\"group\":null,\"line_width\":{\"value\":1.5},\"source\":{\"id\":\"6894\"},\"start\":null,\"x_end\":{\"value\":1083.6004124907108},\"x_start\":{\"value\":1034.9994500123853},\"y_end\":{\"value\":564.0287590400029},\"y_start\":{\"value\":563.6683212799961}},\"id\":\"6052\",\"type\":\"Arrow\"},{\"attributes\":{},\"id\":\"7007\",\"type\":\"UnionRenderers\"},{\"attributes\":{\"size\":{\"value\":5}},\"id\":\"6057\",\"type\":\"NormalHead\"},{\"attributes\":{\"coordinates\":null,\"end\":{\"id\":\"6054\"},\"group\":null,\"line_width\":{\"value\":1.5},\"source\":{\"id\":\"6895\"},\"start\":null,\"x_end\":{\"value\":1000.3087439382315},\"x_start\":{\"value\":1010.7083414156914},\"y_end\":{\"value\":496.6505865909901},\"y_start\":{\"value\":543.9858845453466}},\"id\":\"6055\",\"type\":\"Arrow\"},{\"attributes\":{\"size\":{\"value\":5}},\"id\":\"6060\",\"type\":\"NormalHead\"},{\"attributes\":{},\"id\":\"7008\",\"type\":\"Selection\"},{\"attributes\":{\"coordinates\":null,\"end\":{\"id\":\"6057\"},\"group\":null,\"line_width\":{\"value\":1.5},\"source\":{\"id\":\"6896\"},\"start\":null,\"x_end\":{\"value\":953.5303078028315},\"x_start\":{\"value\":997.0529229295579},\"y_end\":{\"value\":593.7503237350281},\"y_start\":{\"value\":572.3462350199625}},\"id\":\"6058\",\"type\":\"Arrow\"},{\"attributes\":{\"size\":{\"value\":5}},\"id\":\"6063\",\"type\":\"NormalHead\"},{\"attributes\":{\"coordinates\":null,\"end\":{\"id\":\"6060\"},\"group\":null,\"line_width\":{\"value\":1.5},\"source\":{\"id\":\"6897\"},\"start\":null,\"x_end\":{\"value\":1057.8348262368627},\"x_start\":{\"value\":1027.48689835085},\"y_end\":{\"value\":617.1127682285345},\"y_start\":{\"value\":579.1429756952874}},\"id\":\"6061\",\"type\":\"Arrow\"},{\"attributes\":{\"size\":{\"value\":5}},\"id\":\"6066\",\"type\":\"NormalHead\"},{\"attributes\":{\"coordinates\":null,\"end\":{\"id\":\"6063\"},\"group\":null,\"line_width\":{\"value\":1.5},\"source\":{\"id\":\"6898\"},\"start\":null,\"x_end\":{\"value\":1000.2639198004722},\"x_start\":{\"value\":1010.701440266037},\"y_end\":{\"value\":630.4805515079877},\"y_start\":{\"value\":583.0525979893498}},\"id\":\"6064\",\"type\":\"Arrow\"},{\"attributes\":{},\"id\":\"7009\",\"type\":\"UnionRenderers\"},{\"attributes\":{\"size\":{\"value\":5}},\"id\":\"6069\",\"type\":\"NormalHead\"},{\"attributes\":{\"coordinates\":null,\"end\":{\"id\":\"6066\"},\"group\":null,\"line_width\":{\"value\":1.5},\"source\":{\"id\":\"6899\"},\"start\":null,\"x_end\":{\"value\":953.306585681864},\"x_start\":{\"value\":996.9778857575145},\"y_end\":{\"value\":533.8339919668483},\"y_start\":{\"value\":554.848010710869}},\"id\":\"6067\",\"type\":\"Arrow\"},{\"attributes\":{\"size\":{\"value\":5}},\"id\":\"6072\",\"type\":\"NormalHead\"},{\"attributes\":{},\"id\":\"7010\",\"type\":\"Selection\"},{\"attributes\":{\"coordinates\":null,\"end\":{\"id\":\"6069\"},\"group\":null,\"line_width\":{\"value\":1.5},\"source\":{\"id\":\"6900\"},\"start\":null,\"x_end\":{\"value\":1058.3178720873623},\"x_start\":{\"value\":1027.6428372168502},\"y_end\":{\"value\":510.4227901232181},\"y_start\":{\"value\":548.0229465023758}},\"id\":\"6070\",\"type\":\"Arrow\"},{\"attributes\":{\"size\":{\"value\":5}},\"id\":\"6075\",\"type\":\"NormalHead\"},{\"attributes\":{\"coordinates\":null,\"end\":{\"id\":\"6072\"},\"group\":null,\"line_width\":{\"value\":1.5},\"source\":{\"id\":\"6901\"},\"start\":null,\"x_end\":{\"value\":422.420669855494},\"x_start\":{\"value\":392.8891068593414},\"y_end\":{\"value\":1224.3511004058248},\"y_start\":{\"value\":1259.9985327922336}},\"id\":\"6073\",\"type\":\"Arrow\"},{\"attributes\":{\"size\":{\"value\":5}},\"id\":\"6078\",\"type\":\"NormalHead\"},{\"attributes\":{\"coordinates\":null,\"end\":{\"id\":\"6075\"},\"group\":null,\"line_width\":{\"value\":1.5},\"source\":{\"id\":\"6902\"},\"start\":null,\"x_end\":{\"value\":344.4537085329817},\"x_start\":{\"value\":369.35172195602445},\"y_end\":{\"value\":1219.6354127892128},\"y_start\":{\"value\":1258.5527829477164}},\"id\":\"6076\",\"type\":\"Arrow\"},{\"attributes\":{},\"id\":\"7011\",\"type\":\"UnionRenderers\"},{\"attributes\":{\"size\":{\"value\":5}},\"id\":\"6081\",\"type\":\"NormalHead\"},{\"attributes\":{\"coordinates\":null,\"end\":{\"id\":\"6078\"},\"group\":null,\"line_width\":{\"value\":1.5},\"source\":{\"id\":\"6903\"},\"start\":null,\"x_end\":{\"value\":316.26452288918904},\"x_start\":{\"value\":360.83063614774795},\"y_end\":{\"value\":1292.76449658489},\"y_start\":{\"value\":1280.6473378868136}},\"id\":\"6079\",\"type\":\"Arrow\"},{\"attributes\":{\"size\":{\"value\":5}},\"id\":\"6084\",\"type\":\"NormalHead\"},{\"attributes\":{},\"id\":\"7012\",\"type\":\"Selection\"},{\"attributes\":{\"coordinates\":null,\"end\":{\"id\":\"6081\"},\"group\":null,\"line_width\":{\"value\":1.5},\"source\":{\"id\":\"6904\"},\"start\":null,\"x_end\":{\"value\":441.9353293964209},\"x_start\":{\"value\":398.7762274714388},\"y_end\":{\"value\":1299.3751508675916},\"y_start\":{\"value\":1282.6331321765444}},\"id\":\"6082\",\"type\":\"Arrow\"},{\"attributes\":{\"size\":{\"value\":5}},\"id\":\"6087\",\"type\":\"NormalHead\"},{\"attributes\":{\"coordinates\":null,\"end\":{\"id\":\"6084\"},\"group\":null,\"line_width\":{\"value\":1.5},\"source\":{\"id\":\"6905\"},\"start\":null,\"x_end\":{\"value\":377.00672659930024},\"x_start\":{\"value\":379.1876978675997},\"y_end\":{\"value\":1341.6166579991698},\"y_start\":{\"value\":1295.3777893344404}},\"id\":\"6085\",\"type\":\"Arrow\"},{\"attributes\":{\"size\":{\"value\":5}},\"id\":\"6090\",\"type\":\"NormalHead\"},{\"attributes\":{\"coordinates\":null,\"end\":{\"id\":\"6087\"},\"group\":null,\"line_width\":{\"value\":1.5},\"source\":{\"id\":\"6906\"},\"start\":null,\"x_end\":{\"value\":337.3661359078399},\"x_start\":{\"value\":307.84515212288005},\"y_end\":{\"value\":789.3773428261592},\"y_start\":{\"value\":824.9835428984545}},\"id\":\"6088\",\"type\":\"Arrow\"},{\"attributes\":{},\"id\":\"7013\",\"type\":\"UnionRenderers\"},{\"attributes\":{\"size\":{\"value\":5}},\"id\":\"6093\",\"type\":\"NormalHead\"},{\"attributes\":{\"coordinates\":null,\"end\":{\"id\":\"6090\"},\"group\":null,\"line_width\":{\"value\":1.5},\"source\":{\"id\":\"6907\"},\"start\":null,\"x_end\":{\"value\":259.4053859944701},\"x_start\":{\"value\":284.2994853407065},\"y_end\":{\"value\":784.6343394493114},\"y_start\":{\"value\":823.5342140675848}},\"id\":\"6091\",\"type\":\"Arrow\"},{\"attributes\":{\"size\":{\"value\":5}},\"id\":\"6096\",\"type\":\"NormalHead\"},{\"attributes\":{},\"id\":\"7014\",\"type\":\"Selection\"},{\"attributes\":{\"coordinates\":null,\"end\":{\"id\":\"6093\"},\"group\":null,\"line_width\":{\"value\":1.5},\"source\":{\"id\":\"6908\"},\"start\":null,\"x_end\":{\"value\":231.21265037106383},\"x_start\":{\"value\":275.78313283858154},\"y_end\":{\"value\":857.7776160464833},\"y_start\":{\"value\":845.6365119380223}},\"id\":\"6094\",\"type\":\"Arrow\"},{\"attributes\":{\"size\":{\"value\":5}},\"id\":\"6099\",\"type\":\"NormalHead\"},{\"attributes\":{\"coordinates\":null,\"end\":{\"id\":\"6096\"},\"group\":null,\"line_width\":{\"value\":1.5},\"source\":{\"id\":\"6909\"},\"start\":null,\"x_end\":{\"value\":356.88906463099255},\"x_start\":{\"value\":313.7212471586766},\"y_end\":{\"value\":864.4055316536356},\"y_start\":{\"value\":847.6259577951525}},\"id\":\"6097\",\"type\":\"Arrow\"},{\"attributes\":{\"size\":{\"value\":5}},\"id\":\"6102\",\"type\":\"NormalHead\"},{\"attributes\":{\"coordinates\":null,\"end\":{\"id\":\"6099\"},\"group\":null,\"line_width\":{\"value\":1.5},\"source\":{\"id\":\"6910\"},\"start\":null,\"x_end\":{\"value\":291.9569003261309},\"x_start\":{\"value\":294.1374662318255},\"y_end\":{\"value\":906.5766661944373},\"y_start\":{\"value\":860.3577784074168}},\"id\":\"6100\",\"type\":\"Arrow\"},{\"attributes\":{},\"id\":\"7015\",\"type\":\"UnionRenderers\"},{\"attributes\":{\"size\":{\"value\":5}},\"id\":\"6105\",\"type\":\"NormalHead\"},{\"attributes\":{\"coordinates\":null,\"end\":{\"id\":\"6102\"},\"group\":null,\"line_width\":{\"value\":1.5},\"source\":{\"id\":\"6911\"},\"start\":null,\"x_end\":{\"value\":278.4139973964468},\"x_start\":{\"value\":241.09133680473764},\"y_end\":{\"value\":571.5804251398656},\"y_start\":{\"value\":595.7794331468457}},\"id\":\"6103\",\"type\":\"Arrow\"},{\"attributes\":{\"size\":{\"value\":5}},\"id\":\"6108\",\"type\":\"NormalHead\"},{\"attributes\":{},\"id\":\"7016\",\"type\":\"Selection\"},{\"attributes\":{\"coordinates\":null,\"end\":{\"id\":\"6105\"},\"group\":null,\"line_width\":{\"value\":1.5},\"source\":{\"id\":\"6912\"},\"start\":null,\"x_end\":{\"value\":189.30237151671918},\"x_start\":{\"value\":213.4401713110411},\"y_end\":{\"value\":552.5912206975092},\"y_start\":{\"value\":589.8717057366542}},\"id\":\"6106\",\"type\":\"Arrow\"},{\"attributes\":{\"size\":{\"value\":5}},\"id\":\"6111\",\"type\":\"NormalHead\"},{\"attributes\":{\"coordinates\":null,\"end\":{\"id\":\"6108\"},\"group\":null,\"line_width\":{\"value\":1.5},\"source\":{\"id\":\"6913\"},\"start\":null,\"x_end\":{\"value\":170.5965539348351},\"x_start\":{\"value\":207.63459475355322},\"y_end\":{\"value\":642.2283269398592},\"y_start\":{\"value\":617.7022307468543}},\"id\":\"6109\",\"type\":\"Arrow\"},{\"attributes\":{\"size\":{\"value\":5}},\"id\":\"6114\",\"type\":\"NormalHead\"},{\"attributes\":{\"coordinates\":null,\"end\":{\"id\":\"6111\"},\"group\":null,\"line_width\":{\"value\":1.5},\"source\":{\"id\":\"6914\"},\"start\":null,\"x_end\":{\"value\":259.87745871934766},\"x_start\":{\"value\":235.34005504086977},\"y_end\":{\"value\":660.4574039160572},\"y_start\":{\"value\":623.3434614452572}},\"id\":\"6112\",\"type\":\"Arrow\"},{\"attributes\":{},\"id\":\"7017\",\"type\":\"UnionRenderers\"},{\"attributes\":{\"size\":{\"value\":5}},\"id\":\"6117\",\"type\":\"NormalHead\"},{\"attributes\":{\"coordinates\":null,\"end\":{\"id\":\"6114\"},\"group\":null,\"line_width\":{\"value\":1.5},\"source\":{\"id\":\"6915\"},\"start\":null,\"x_end\":{\"value\":1450.177462883707},\"x_start\":{\"value\":1408.863382821724},\"y_end\":{\"value\":563.1894797466413},\"y_start\":{\"value\":556.7773603378117}},\"id\":\"6115\",\"type\":\"Arrow\"},{\"attributes\":{\"size\":{\"value\":5}},\"id\":\"6120\",\"type\":\"NormalHead\"},{\"attributes\":{},\"id\":\"7018\",\"type\":\"Selection\"},{\"attributes\":{\"coordinates\":null,\"end\":{\"id\":\"6117\"},\"group\":null,\"line_width\":{\"value\":1.5},\"source\":{\"id\":\"6916\"},\"start\":null,\"x_end\":{\"value\":1367.0539030476768},\"x_start\":{\"value\":1381.9614626030977},\"y_end\":{\"value\":496.0119849470401},\"y_start\":{\"value\":535.0273534039466}},\"id\":\"6118\",\"type\":\"Arrow\"},{\"attributes\":{\"size\":{\"value\":5}},\"id\":\"6123\",\"type\":\"NormalHead\"},{\"attributes\":{\"coordinates\":null,\"end\":{\"id\":\"6120\"},\"group\":null,\"line_width\":{\"value\":1.5},\"source\":{\"id\":\"6917\"},\"start\":null,\"x_end\":{\"value\":1350.5594603806103},\"x_start\":{\"value\":1376.6207194925196},\"y_end\":{\"value\":601.9782040034905},\"y_start\":{\"value\":569.3390613286795}},\"id\":\"6121\",\"type\":\"Arrow\"},{\"attributes\":{\"size\":{\"value\":5}},\"id\":\"6126\",\"type\":\"NormalHead\"},{\"attributes\":{\"coordinates\":null,\"end\":{\"id\":\"6123\"},\"group\":null,\"line_width\":{\"value\":1.5},\"source\":{\"id\":\"6918\"},\"start\":null,\"x_end\":{\"value\":1374.8894809212757},\"x_start\":{\"value\":1352.2473587716324},\"y_end\":{\"value\":160.71369007971853},\"y_start\":{\"value\":131.09841322704193}},\"id\":\"6124\",\"type\":\"Arrow\"},{\"attributes\":{},\"id\":\"7019\",\"type\":\"UnionRenderers\"},{\"attributes\":{\"size\":{\"value\":5}},\"id\":\"6129\",\"type\":\"NormalHead\"},{\"attributes\":{\"coordinates\":null,\"end\":{\"id\":\"6126\"},\"group\":null,\"line_width\":{\"value\":1.5},\"source\":{\"id\":\"6919\"},\"start\":null,\"x_end\":{\"value\":1321.0786273572842},\"x_start\":{\"value\":1333.4618301902876},\"y_end\":{\"value\":61.14967383501477},\"y_start\":{\"value\":96.3437682199803}},\"id\":\"6127\",\"type\":\"Arrow\"},{\"attributes\":{\"size\":{\"value\":5}},\"id\":\"6132\",\"type\":\"NormalHead\"},{\"attributes\":{},\"id\":\"7020\",\"type\":\"Selection\"},{\"attributes\":{\"coordinates\":null,\"end\":{\"id\":\"6129\"},\"group\":null,\"line_width\":{\"value\":1.5},\"source\":{\"id\":\"6920\"},\"start\":null,\"x_end\":{\"value\":1229.3003863086492},\"x_start\":{\"value\":1180.699484921801},\"y_end\":{\"value\":1114.9923472701578},\"y_start\":{\"value\":1114.643536973123}},\"id\":\"6130\",\"type\":\"Arrow\"},{\"attributes\":{\"size\":{\"value\":5}},\"id\":\"6135\",\"type\":\"NormalHead\"},{\"attributes\":{\"coordinates\":null,\"end\":{\"id\":\"6132\"},\"group\":null,\"line_width\":{\"value\":1.5},\"source\":{\"id\":\"6921\"},\"start\":null,\"x_end\":{\"value\":1145.9349251481538},\"x_start\":{\"value\":1156.3867664691284},\"y_end\":{\"value\":1047.647022198585},\"y_start\":{\"value\":1094.9706370685533}},\"id\":\"6133\",\"type\":\"Arrow\"},{\"attributes\":{\"size\":{\"value\":5}},\"id\":\"6141\",\"type\":\"NormalHead\"},{\"attributes\":{\"coordinates\":null,\"end\":{\"id\":\"6135\"},\"group\":null,\"line_width\":{\"value\":1.5},\"source\":{\"id\":\"6922\"},\"start\":null,\"x_end\":{\"value\":1099.159200781022},\"x_start\":{\"value\":1142.7543989586375},\"y_end\":{\"value\":1144.7780732157373},\"y_start\":{\"value\":1123.3292357123505}},\"id\":\"6136\",\"type\":\"Arrow\"},{\"attributes\":{},\"id\":\"7021\",\"type\":\"UnionRenderers\"},{\"attributes\":{\"coordinates\":null,\"end\":{\"id\":\"6138\"},\"group\":null,\"line_width\":{\"value\":1.5},\"source\":{\"id\":\"6923\"},\"start\":null,\"x_end\":{\"value\":1203.5339511900365},\"x_start\":{\"value\":1173.1880650799515},\"y_end\":{\"value\":1168.0834676764248},\"y_start\":{\"value\":1130.1220430981002}},\"id\":\"6139\",\"type\":\"Arrow\"},{\"attributes\":{\"coordinates\":null,\"end\":{\"id\":\"6141\"},\"group\":null,\"line_width\":{\"value\":1.5},\"source\":{\"id\":\"6924\"},\"start\":null,\"x_end\":{\"value\":1145.9311448386675},\"x_start\":{\"value\":1156.3918068817768},\"y_end\":{\"value\":1181.452143398041},\"y_start\":{\"value\":1134.0304754692786}},\"id\":\"6142\",\"type\":\"Arrow\"},{\"attributes\":{\"size\":{\"value\":5}},\"id\":\"6144\",\"type\":\"NormalHead\"},{\"attributes\":{},\"id\":\"7022\",\"type\":\"Selection\"},{\"attributes\":{\"size\":{\"value\":5}},\"id\":\"6138\",\"type\":\"NormalHead\"},{\"attributes\":{\"data\":{},\"selected\":{\"id\":\"7014\"},\"selection_policy\":{\"id\":\"7013\"}},\"id\":\"6876\",\"type\":\"ColumnDataSource\"},{\"attributes\":{},\"id\":\"7043\",\"type\":\"UnionRenderers\"},{\"attributes\":{},\"id\":\"7044\",\"type\":\"Selection\"},{\"attributes\":{\"data\":{},\"selected\":{\"id\":\"6956\"},\"selection_policy\":{\"id\":\"6955\"}},\"id\":\"6847\",\"type\":\"ColumnDataSource\"},{\"attributes\":{\"data\":{},\"selected\":{\"id\":\"7016\"},\"selection_policy\":{\"id\":\"7015\"}},\"id\":\"6877\",\"type\":\"ColumnDataSource\"},{\"attributes\":{\"data\":{},\"selected\":{\"id\":\"6958\"},\"selection_policy\":{\"id\":\"6957\"}},\"id\":\"6848\",\"type\":\"ColumnDataSource\"},{\"attributes\":{},\"id\":\"7045\",\"type\":\"UnionRenderers\"},{\"attributes\":{\"data\":{},\"selected\":{\"id\":\"7018\"},\"selection_policy\":{\"id\":\"7017\"}},\"id\":\"6878\",\"type\":\"ColumnDataSource\"},{\"attributes\":{},\"id\":\"7046\",\"type\":\"Selection\"},{\"attributes\":{\"data\":{},\"selected\":{\"id\":\"6952\"},\"selection_policy\":{\"id\":\"6951\"}},\"id\":\"6845\",\"type\":\"ColumnDataSource\"},{\"attributes\":{\"data\":{},\"selected\":{\"id\":\"7020\"},\"selection_policy\":{\"id\":\"7019\"}},\"id\":\"6879\",\"type\":\"ColumnDataSource\"},{\"attributes\":{},\"id\":\"7047\",\"type\":\"UnionRenderers\"},{\"attributes\":{\"data\":{},\"selected\":{\"id\":\"6954\"},\"selection_policy\":{\"id\":\"6953\"}},\"id\":\"6846\",\"type\":\"ColumnDataSource\"},{\"attributes\":{},\"id\":\"7048\",\"type\":\"Selection\"},{\"attributes\":{\"data\":{},\"selected\":{\"id\":\"6950\"},\"selection_policy\":{\"id\":\"6949\"}},\"id\":\"6844\",\"type\":\"ColumnDataSource\"},{\"attributes\":{\"data\":{},\"selected\":{\"id\":\"7022\"},\"selection_policy\":{\"id\":\"7021\"}},\"id\":\"6880\",\"type\":\"ColumnDataSource\"},{\"attributes\":{\"data\":{},\"selected\":{\"id\":\"7000\"},\"selection_policy\":{\"id\":\"6999\"}},\"id\":\"6869\",\"type\":\"ColumnDataSource\"},{\"attributes\":{},\"id\":\"7049\",\"type\":\"UnionRenderers\"},{\"attributes\":{\"data\":{},\"selected\":{\"id\":\"7024\"},\"selection_policy\":{\"id\":\"7023\"}},\"id\":\"6881\",\"type\":\"ColumnDataSource\"},{\"attributes\":{},\"id\":\"7050\",\"type\":\"Selection\"},{\"attributes\":{\"data\":{},\"selected\":{\"id\":\"6960\"},\"selection_policy\":{\"id\":\"6959\"}},\"id\":\"6849\",\"type\":\"ColumnDataSource\"},{\"attributes\":{\"data\":{},\"selected\":{\"id\":\"7026\"},\"selection_policy\":{\"id\":\"7025\"}},\"id\":\"6882\",\"type\":\"ColumnDataSource\"},{\"attributes\":{},\"id\":\"7051\",\"type\":\"UnionRenderers\"},{\"attributes\":{\"data\":{},\"selected\":{\"id\":\"6962\"},\"selection_policy\":{\"id\":\"6961\"}},\"id\":\"6850\",\"type\":\"ColumnDataSource\"},{\"attributes\":{},\"id\":\"7052\",\"type\":\"Selection\"},{\"attributes\":{\"data\":{},\"selected\":{\"id\":\"7028\"},\"selection_policy\":{\"id\":\"7027\"}},\"id\":\"6883\",\"type\":\"ColumnDataSource\"},{\"attributes\":{\"data\":{},\"selected\":{\"id\":\"6964\"},\"selection_policy\":{\"id\":\"6963\"}},\"id\":\"6851\",\"type\":\"ColumnDataSource\"},{\"attributes\":{},\"id\":\"7053\",\"type\":\"UnionRenderers\"},{\"attributes\":{\"data\":{},\"selected\":{\"id\":\"7030\"},\"selection_policy\":{\"id\":\"7029\"}},\"id\":\"6884\",\"type\":\"ColumnDataSource\"},{\"attributes\":{\"data\":{},\"selected\":{\"id\":\"6966\"},\"selection_policy\":{\"id\":\"6965\"}},\"id\":\"6852\",\"type\":\"ColumnDataSource\"},{\"attributes\":{},\"id\":\"7054\",\"type\":\"Selection\"},{\"attributes\":{\"data\":{},\"selected\":{\"id\":\"7032\"},\"selection_policy\":{\"id\":\"7031\"}},\"id\":\"6885\",\"type\":\"ColumnDataSource\"},{\"attributes\":{\"data\":{},\"selected\":{\"id\":\"6968\"},\"selection_policy\":{\"id\":\"6967\"}},\"id\":\"6853\",\"type\":\"ColumnDataSource\"},{\"attributes\":{},\"id\":\"7055\",\"type\":\"UnionRenderers\"},{\"attributes\":{\"data\":{},\"selected\":{\"id\":\"7034\"},\"selection_policy\":{\"id\":\"7033\"}},\"id\":\"6886\",\"type\":\"ColumnDataSource\"},{\"attributes\":{},\"id\":\"7056\",\"type\":\"Selection\"},{\"attributes\":{\"data\":{},\"selected\":{\"id\":\"7002\"},\"selection_policy\":{\"id\":\"7001\"}},\"id\":\"6870\",\"type\":\"ColumnDataSource\"},{\"attributes\":{\"data\":{},\"selected\":{\"id\":\"7036\"},\"selection_policy\":{\"id\":\"7035\"}},\"id\":\"6887\",\"type\":\"ColumnDataSource\"},{\"attributes\":{},\"id\":\"7057\",\"type\":\"UnionRenderers\"},{\"attributes\":{},\"id\":\"7058\",\"type\":\"Selection\"},{\"attributes\":{\"data\":{},\"selected\":{\"id\":\"7004\"},\"selection_policy\":{\"id\":\"7003\"}},\"id\":\"6871\",\"type\":\"ColumnDataSource\"},{\"attributes\":{\"data\":{},\"selected\":{\"id\":\"7038\"},\"selection_policy\":{\"id\":\"7037\"}},\"id\":\"6888\",\"type\":\"ColumnDataSource\"},{\"attributes\":{},\"id\":\"7059\",\"type\":\"UnionRenderers\"},{\"attributes\":{\"data\":{},\"selected\":{\"id\":\"7006\"},\"selection_policy\":{\"id\":\"7005\"}},\"id\":\"6872\",\"type\":\"ColumnDataSource\"},{\"attributes\":{\"data\":{},\"selected\":{\"id\":\"7040\"},\"selection_policy\":{\"id\":\"7039\"}},\"id\":\"6889\",\"type\":\"ColumnDataSource\"},{\"attributes\":{},\"id\":\"7060\",\"type\":\"Selection\"},{\"attributes\":{\"data\":{},\"selected\":{\"id\":\"7008\"},\"selection_policy\":{\"id\":\"7007\"}},\"id\":\"6873\",\"type\":\"ColumnDataSource\"},{\"attributes\":{\"data\":{},\"selected\":{\"id\":\"7042\"},\"selection_policy\":{\"id\":\"7041\"}},\"id\":\"6890\",\"type\":\"ColumnDataSource\"},{\"attributes\":{},\"id\":\"7061\",\"type\":\"UnionRenderers\"},{\"attributes\":{\"data\":{},\"selected\":{\"id\":\"7010\"},\"selection_policy\":{\"id\":\"7009\"}},\"id\":\"6874\",\"type\":\"ColumnDataSource\"},{\"attributes\":{},\"id\":\"7062\",\"type\":\"Selection\"},{\"attributes\":{\"data\":{},\"selected\":{\"id\":\"7044\"},\"selection_policy\":{\"id\":\"7043\"}},\"id\":\"6891\",\"type\":\"ColumnDataSource\"},{\"attributes\":{\"data\":{},\"selected\":{\"id\":\"7012\"},\"selection_policy\":{\"id\":\"7011\"}},\"id\":\"6875\",\"type\":\"ColumnDataSource\"},{\"attributes\":{},\"id\":\"7063\",\"type\":\"UnionRenderers\"},{\"attributes\":{\"data\":{},\"selected\":{\"id\":\"7046\"},\"selection_policy\":{\"id\":\"7045\"}},\"id\":\"6892\",\"type\":\"ColumnDataSource\"},{\"attributes\":{},\"id\":\"7064\",\"type\":\"Selection\"},{\"attributes\":{},\"id\":\"6959\",\"type\":\"UnionRenderers\"},{\"attributes\":{},\"id\":\"7085\",\"type\":\"UnionRenderers\"},{\"attributes\":{},\"id\":\"6960\",\"type\":\"Selection\"},{\"attributes\":{},\"id\":\"7086\",\"type\":\"Selection\"},{\"attributes\":{},\"id\":\"6939\",\"type\":\"UnionRenderers\"},{\"attributes\":{},\"id\":\"6940\",\"type\":\"Selection\"},{\"attributes\":{},\"id\":\"6961\",\"type\":\"UnionRenderers\"},{\"attributes\":{},\"id\":\"7087\",\"type\":\"UnionRenderers\"},{\"attributes\":{},\"id\":\"6962\",\"type\":\"Selection\"},{\"attributes\":{},\"id\":\"7088\",\"type\":\"Selection\"},{\"attributes\":{},\"id\":\"6941\",\"type\":\"UnionRenderers\"},{\"attributes\":{},\"id\":\"6942\",\"type\":\"Selection\"},{\"attributes\":{},\"id\":\"6963\",\"type\":\"UnionRenderers\"},{\"attributes\":{},\"id\":\"7089\",\"type\":\"UnionRenderers\"},{\"attributes\":{},\"id\":\"6964\",\"type\":\"Selection\"},{\"attributes\":{},\"id\":\"7090\",\"type\":\"Selection\"},{\"attributes\":{},\"id\":\"6943\",\"type\":\"UnionRenderers\"},{\"attributes\":{},\"id\":\"6944\",\"type\":\"Selection\"},{\"attributes\":{},\"id\":\"6965\",\"type\":\"UnionRenderers\"},{\"attributes\":{},\"id\":\"7091\",\"type\":\"UnionRenderers\"},{\"attributes\":{},\"id\":\"6966\",\"type\":\"Selection\"},{\"attributes\":{},\"id\":\"7092\",\"type\":\"Selection\"},{\"attributes\":{},\"id\":\"6945\",\"type\":\"UnionRenderers\"},{\"attributes\":{},\"id\":\"6946\",\"type\":\"Selection\"},{\"attributes\":{},\"id\":\"6967\",\"type\":\"UnionRenderers\"},{\"attributes\":{},\"id\":\"7093\",\"type\":\"UnionRenderers\"},{\"attributes\":{},\"id\":\"6968\",\"type\":\"Selection\"},{\"attributes\":{},\"id\":\"7094\",\"type\":\"Selection\"},{\"attributes\":{},\"id\":\"6947\",\"type\":\"UnionRenderers\"},{\"attributes\":{},\"id\":\"6948\",\"type\":\"Selection\"},{\"attributes\":{},\"id\":\"6969\",\"type\":\"UnionRenderers\"},{\"attributes\":{},\"id\":\"7095\",\"type\":\"UnionRenderers\"},{\"attributes\":{},\"id\":\"6970\",\"type\":\"Selection\"},{\"attributes\":{},\"id\":\"7096\",\"type\":\"Selection\"},{\"attributes\":{},\"id\":\"6949\",\"type\":\"UnionRenderers\"},{\"attributes\":{},\"id\":\"6950\",\"type\":\"Selection\"},{\"attributes\":{},\"id\":\"6971\",\"type\":\"UnionRenderers\"},{\"attributes\":{},\"id\":\"7097\",\"type\":\"UnionRenderers\"},{\"attributes\":{},\"id\":\"6972\",\"type\":\"Selection\"},{\"attributes\":{},\"id\":\"7098\",\"type\":\"Selection\"},{\"attributes\":{},\"id\":\"6951\",\"type\":\"UnionRenderers\"},{\"attributes\":{},\"id\":\"6952\",\"type\":\"Selection\"},{\"attributes\":{},\"id\":\"6973\",\"type\":\"UnionRenderers\"},{\"attributes\":{},\"id\":\"7099\",\"type\":\"UnionRenderers\"},{\"attributes\":{},\"id\":\"6974\",\"type\":\"Selection\"},{\"attributes\":{},\"id\":\"7100\",\"type\":\"Selection\"},{\"attributes\":{},\"id\":\"6953\",\"type\":\"UnionRenderers\"},{\"attributes\":{},\"id\":\"6954\",\"type\":\"Selection\"},{\"attributes\":{},\"id\":\"6975\",\"type\":\"UnionRenderers\"},{\"attributes\":{},\"id\":\"7101\",\"type\":\"UnionRenderers\"},{\"attributes\":{},\"id\":\"6976\",\"type\":\"Selection\"},{\"attributes\":{},\"id\":\"7102\",\"type\":\"Selection\"},{\"attributes\":{},\"id\":\"6955\",\"type\":\"UnionRenderers\"},{\"attributes\":{},\"id\":\"6956\",\"type\":\"Selection\"},{\"attributes\":{},\"id\":\"6977\",\"type\":\"UnionRenderers\"},{\"attributes\":{},\"id\":\"7103\",\"type\":\"UnionRenderers\"},{\"attributes\":{},\"id\":\"6978\",\"type\":\"Selection\"},{\"attributes\":{},\"id\":\"7104\",\"type\":\"Selection\"},{\"attributes\":{},\"id\":\"6957\",\"type\":\"UnionRenderers\"},{\"attributes\":{},\"id\":\"6958\",\"type\":\"Selection\"},{\"attributes\":{},\"id\":\"6979\",\"type\":\"UnionRenderers\"},{\"attributes\":{},\"id\":\"7105\",\"type\":\"UnionRenderers\"},{\"attributes\":{},\"id\":\"6980\",\"type\":\"Selection\"}],\"root_ids\":[\"5858\"]},\"title\":\"Bokeh Application\",\"version\":\"2.4.0\"}};\n",
       "  const render_items = [{\"docid\":\"018bd4b5-ab04-49f0-812b-b7c6f6cf359d\",\"root_ids\":[\"5858\"],\"roots\":{\"5858\":\"ffde0091-a64b-4894-8db0-1a7a1b8e8b19\"}}];\n",
       "  root.Bokeh.embed.embed_items_notebook(docs_json, render_items);\n",
       "\n",
       "  }\n",
       "  if (root.Bokeh !== undefined) {\n",
       "    embed_document(root);\n",
       "  } else {\n",
       "    let attempts = 0;\n",
       "    const timer = setInterval(function(root) {\n",
       "      if (root.Bokeh !== undefined) {\n",
       "        clearInterval(timer);\n",
       "        embed_document(root);\n",
       "      } else {\n",
       "        attempts++;\n",
       "        if (attempts > 100) {\n",
       "          clearInterval(timer);\n",
       "          console.log(\"Bokeh: ERROR: Unable to run BokehJS code because BokehJS library is missing\");\n",
       "        }\n",
       "      }\n",
       "    }, 10, root)\n",
       "  }\n",
       "})(window);"
      ],
      "application/vnd.bokehjs_exec.v0+json": ""
     },
     "metadata": {
      "application/vnd.bokehjs_exec.v0+json": {
       "id": "5858"
      }
     },
     "output_type": "display_data"
    }
   ],
   "source": [
    "gold_data = gold.load_data(\"data/raw_data/gold.json\")\n",
    "nbutils.plot_gold(gold_data, title=f\"The gold data is a {gold_data}\")"
   ]
  },
  {
   "cell_type": "markdown",
   "id": "87bddd3e-b9dc-44b0-8382-c01a7205185f",
   "metadata": {},
   "source": [
    "The browser widget below lets the reader explore the same graph data through a different UI. The specific example shown by default is the rephrasing of the Shakespeare phrase \"to be or not to be\" in a non-Shakespeare work titled \"The Phoenix\" by Thomas Middleton. The phrase in Middleton's work is \"to be named or not be named\" - which is highlighted in bold below. The context, in which this rephrasing is embedded, is the whole line by \"Fidelio\"."
   ]
  },
  {
   "cell_type": "code",
   "execution_count": 3,
   "id": "aeba4fc4-7d00-4edb-824d-a887131c6ce3",
   "metadata": {},
   "outputs": [
    {
     "data": {
      "application/vnd.jupyter.widget-view+json": {
       "model_id": "6c302604038d49cdaee76fe820884fd1",
       "version_major": 2,
       "version_minor": 0
      },
      "text/plain": [
       "VBox(children=(VBox(children=(Dropdown(description='phrase:', layout=Layout(height='3em', width='50em'), optio…"
      ]
     },
     "metadata": {},
     "output_type": "display_data"
    }
   ],
   "source": [
    "nbutils.Browser(gold_data, \"to be or not to be\", \"The Phoenix\");"
   ]
  },
  {
   "cell_type": "markdown",
   "id": "33e17502-144a-447c-b180-181e9821ee4e",
   "metadata": {},
   "source": [
    "While the structure of the gold data has been geared towards our specific use case in this notebook, the graph-based format of <a href=\"data/raw_data/gold.json\">gold.json</a> should be obvious to understand and easy to replace with custom datasets. Note that the loader inside <a href=\"code/gold.py\">gold.py</a> is very simple and essentially just building a graph. Note that only nodes with in-degree 0 are considered as base nodes that are converted into queries later on in the notebook."
   ]
  },
  {
   "cell_type": "markdown",
   "id": "7917ba04",
   "metadata": {},
   "source": [
    "## 2.2 Overview of different types of embeddings <a class=\"anchor\" id=\"section_2_2\"></a>"
   ]
  },
  {
   "cell_type": "markdown",
   "id": "d4c80d2b",
   "metadata": {},
   "source": [
    "**Word embeddings** take up the linguistic concept of collocations. For each word in a corpus it is recorded with which other words it occurs. These collocation profiles are then represented as vectors. If, for example, two words (e.g. \"car\" and \"truck\") occur with very similar words (e.g. „wheels, drive, street, etc.“) then they would also have very similar word vectors, i.e. they would be semantically - or at least structurally - very similar.\n",
    "\n",
    "There are now various established ways to compute embeddings for word similarity tasks. A first important distinction to be made is between *token* / *word* embeddings and *document* embeddings. While **token embeddings** model one embedding per token, **document embeddings** try to  map an entire document (i.e. a set of tokens) into one single embedding. There are two common ways to compute document embeddings. One way is to derive them from token embeddings, for instance by averaging those. More complex approaches train dedicated models that are optimized to produce good document embeddings.\n",
    "\n",
    "This means that, all in all, we can distinguish three types of embeddings:\n",
    "\n",
    "* original token embeddings\n",
    "* document embeddings derived from token embeddings (e.g. by averaging them)\n",
    "* document embeddings from dedicated models, such as <a href=\"https://www.sbert.net/\">Sentence-BERT</a> (Reimers & Gurevych, 2019)"
   ]
  },
  {
   "cell_type": "code",
   "execution_count": 5,
   "id": "1718fe62-1f7c-4a36-adcb-d42985c73a34",
   "metadata": {},
   "outputs": [
    {
     "data": {
      "image/svg+xml": [
       "<svg xmlns=\"http://www.w3.org/2000/svg\" xmlns:xlink=\"http://www.w3.org/1999/xlink\" width=\"642pt\" height=\"237pt\" viewBox=\"21.60 21.60 620.60 215.60\">\n",
       "<g id=\"graph0\" class=\"graph\" transform=\"scale(1 1) rotate(0) translate(25.6 211.6)\">\n",
       "<title>my_graph</title>\n",
       "<polygon fill=\"Transparent\" stroke=\"transparent\" points=\"-4,4 -4,-190 595,-190 595,4 -4,4\"/>\n",
       "<!-- document_embeddings -->\n",
       "<g id=\"node1\" class=\"node\">\n",
       "<title>document_embeddings</title>\n",
       "<polygon fill=\"none\" stroke=\"transparent\" points=\"229,-137 109,-137 109,-101 229,-101 229,-137\"/>\n",
       "<text text-anchor=\"middle\" x=\"169\" y=\"-116.5\" font-family=\"Arial\" font-size=\"10.00\">Document Embeddings</text>\n",
       "</g>\n",
       "<!-- ded_models -->\n",
       "<g id=\"node4\" class=\"node\">\n",
       "<title>ded_models</title>\n",
       "<polygon fill=\"none\" stroke=\"transparent\" points=\"454,-186 331,-186 331,-150 454,-150 454,-186\"/>\n",
       "<text text-anchor=\"middle\" x=\"392.5\" y=\"-165.5\" font-family=\"Arial\" font-size=\"10.00\">From Dedicated Models</text>\n",
       "</g>\n",
       "<!-- document_embeddings&#45;&gt;ded_models -->\n",
       "<g id=\"edge5\" class=\"edge\">\n",
       "<title>document_embeddings-&gt;ded_models</title>\n",
       "<path fill=\"none\" stroke=\"black\" d=\"M229.07,-132.07C257.28,-138.31 291.25,-145.82 320.82,-152.36\"/>\n",
       "<polygon fill=\"black\" stroke=\"black\" points=\"320.15,-155.8 330.67,-154.54 321.66,-148.97 320.15,-155.8\"/>\n",
       "</g>\n",
       "<!-- from_token -->\n",
       "<g id=\"node5\" class=\"node\">\n",
       "<title>from_token</title>\n",
       "<polygon fill=\"none\" stroke=\"transparent\" points=\"456,-136 329,-136 329,-100 456,-100 456,-136\"/>\n",
       "<text text-anchor=\"middle\" x=\"392.5\" y=\"-115.5\" font-family=\"Arial\" font-size=\"10.00\">From Token Embeddings</text>\n",
       "</g>\n",
       "<!-- document_embeddings&#45;&gt;from_token -->\n",
       "<g id=\"edge4\" class=\"edge\">\n",
       "<title>document_embeddings-&gt;from_token</title>\n",
       "<path fill=\"none\" stroke=\"black\" d=\"M229.07,-118.73C256.58,-118.61 289.58,-118.46 318.63,-118.33\"/>\n",
       "<polygon fill=\"black\" stroke=\"black\" points=\"318.74,-121.83 328.72,-118.28 318.71,-114.83 318.74,-121.83\"/>\n",
       "</g>\n",
       "<!-- token_embeddings -->\n",
       "<g id=\"node2\" class=\"node\">\n",
       "<title>token_embeddings</title>\n",
       "<polygon fill=\"none\" stroke=\"transparent\" points=\"220,-87 118,-87 118,-51 220,-51 220,-87\"/>\n",
       "<text text-anchor=\"middle\" x=\"169\" y=\"-66.5\" font-family=\"Arial\" font-size=\"10.00\">Token Embeddings</text>\n",
       "</g>\n",
       "<!-- contextual -->\n",
       "<g id=\"node7\" class=\"node\">\n",
       "<title>contextual</title>\n",
       "<polygon fill=\"none\" stroke=\"transparent\" points=\"454,-86 331,-86 331,-50 454,-50 454,-86\"/>\n",
       "<text text-anchor=\"middle\" x=\"392.5\" y=\"-65.5\" font-family=\"Arial\" font-size=\"10.00\">Contextual Embeddings</text>\n",
       "</g>\n",
       "<!-- token_embeddings&#45;&gt;contextual -->\n",
       "<g id=\"edge7\" class=\"edge\">\n",
       "<title>token_embeddings-&gt;contextual</title>\n",
       "<path fill=\"none\" stroke=\"black\" d=\"M220.26,-68.77C249.86,-68.64 287.78,-68.47 320.4,-68.32\"/>\n",
       "<polygon fill=\"black\" stroke=\"black\" points=\"320.81,-71.82 330.79,-68.27 320.78,-64.82 320.81,-71.82\"/>\n",
       "</g>\n",
       "<!-- static -->\n",
       "<g id=\"node8\" class=\"node\">\n",
       "<title>static</title>\n",
       "<polygon fill=\"none\" stroke=\"transparent\" points=\"442.5,-36 342.5,-36 342.5,0 442.5,0 442.5,-36\"/>\n",
       "<text text-anchor=\"middle\" x=\"392.5\" y=\"-15.5\" font-family=\"Arial\" font-size=\"10.00\">Static Embeddings</text>\n",
       "</g>\n",
       "<!-- token_embeddings&#45;&gt;static -->\n",
       "<g id=\"edge8\" class=\"edge\">\n",
       "<title>token_embeddings-&gt;static</title>\n",
       "<path fill=\"none\" stroke=\"black\" d=\"M220.26,-57.43C253.49,-49.78 297.19,-39.71 332.13,-31.67\"/>\n",
       "<polygon fill=\"black\" stroke=\"black\" points=\"333.24,-35.01 342.2,-29.35 331.67,-28.18 333.24,-35.01\"/>\n",
       "</g>\n",
       "<!-- embeddings -->\n",
       "<g id=\"node3\" class=\"node\">\n",
       "<title>embeddings</title>\n",
       "<polygon fill=\"none\" stroke=\"transparent\" points=\"72,-111 0,-111 0,-75 72,-75 72,-111\"/>\n",
       "<text text-anchor=\"middle\" x=\"36\" y=\"-90.5\" font-family=\"Arial\" font-size=\"10.00\">Embeddings</text>\n",
       "</g>\n",
       "<!-- embeddings&#45;&gt;document_embeddings -->\n",
       "<g id=\"edge1\" class=\"edge\">\n",
       "<title>embeddings-&gt;document_embeddings</title>\n",
       "<path fill=\"none\" stroke=\"black\" d=\"M72.11,-99.97C80.4,-101.61 89.53,-103.43 98.75,-105.26\"/>\n",
       "<polygon fill=\"black\" stroke=\"black\" points=\"98.28,-108.73 108.77,-107.24 99.64,-101.86 98.28,-108.73\"/>\n",
       "</g>\n",
       "<!-- embeddings&#45;&gt;token_embeddings -->\n",
       "<g id=\"edge2\" class=\"edge\">\n",
       "<title>embeddings-&gt;token_embeddings</title>\n",
       "<path fill=\"none\" stroke=\"black\" d=\"M72.11,-86.57C83,-84.57 95.34,-82.31 107.45,-80.09\"/>\n",
       "<polygon fill=\"black\" stroke=\"black\" points=\"108.32,-83.49 117.53,-78.25 107.06,-76.61 108.32,-83.49\"/>\n",
       "</g>\n",
       "<!-- sbert -->\n",
       "<g id=\"node6\" class=\"node\">\n",
       "<title>sbert</title>\n",
       "<polygon fill=\"none\" stroke=\"black\" points=\"591,-186 497,-186 493,-182 493,-150 587,-150 591,-154 591,-186\"/>\n",
       "<polyline fill=\"none\" stroke=\"black\" points=\"587,-182 493,-182 \"/>\n",
       "<polyline fill=\"none\" stroke=\"black\" points=\"587,-182 587,-150 \"/>\n",
       "<polyline fill=\"none\" stroke=\"black\" points=\"587,-182 591,-186 \"/>\n",
       "<text text-anchor=\"start\" x=\"505.5\" y=\"-171\" font-family=\"Arial\" font-size=\"10.00\">Sentence-BERT</text>\n",
       "<text text-anchor=\"start\" x=\"501\" y=\"-161\" font-family=\"Arial\" font-style=\"italic\" font-size=\"10.00\">on document level</text>\n",
       "</g>\n",
       "<!-- ded_models&#45;&gt;sbert -->\n",
       "<g id=\"edge6\" class=\"edge\">\n",
       "<title>ded_models-&gt;sbert</title>\n",
       "<path fill=\"none\" stroke=\"orange\" d=\"M454.35,-168C463.79,-168 473.52,-168 482.9,-168\"/>\n",
       "<polygon fill=\"orange\" stroke=\"orange\" points=\"482.9,-171.5 492.9,-168 482.9,-164.5 482.9,-171.5\"/>\n",
       "</g>\n",
       "<!-- from_token&#45;&gt;token_embeddings -->\n",
       "<g id=\"edge3\" class=\"edge\">\n",
       "<title>from_token-&gt;token_embeddings</title>\n",
       "<path fill=\"none\" stroke=\"gray\" stroke-dasharray=\"5,2\" d=\"M328.76,-104.12C297.9,-97.29 260.88,-89.1 230.35,-82.35\"/>\n",
       "<polygon fill=\"gray\" stroke=\"gray\" points=\"230.78,-78.86 220.26,-80.12 229.27,-85.7 230.78,-78.86\"/>\n",
       "<text text-anchor=\"middle\" x=\"279\" y=\"-103\" font-family=\"Arial\" font-size=\"10.00\">e.g. averaging</text>\n",
       "</g>\n",
       "</g>\n",
       "</svg>"
      ],
      "text/plain": [
       "<IPython.core.display.SVG object>"
      ]
     },
     "execution_count": 5,
     "metadata": {},
     "output_type": "execute_result"
    }
   ],
   "source": [
    "nbutils.plot_dot(\"miscellaneous/diagram_embeddings_1.dot\")"
   ]
  },
  {
   "cell_type": "markdown",
   "id": "ab3a5ecf",
   "metadata": {},
   "source": [
    "When focussing only on token embeddings, there are various options, as the diagram below illustrates (as in the diagram above, orange arrows indicate specific embeddings used in this notebook). The most recent option are contextual token embeddings (also sometimes called *dynamic* embeddings), which will incorporate a specific token's context and can be obtained from architectures like <a href=\"https://jalammar.github.io/illustrated-bert/\">ELMO or BERT</a>. Another option are static token embeddings, which map one token to one embedding, independent of its specific occurence in a text. For an overview of static and contextual embeddings, and their differences, see (Wang et al. 2020).\n",
    "\n",
    "For static embeddings there is now a variety of established options like <a href=\"https://fasttext.cc/\">fastText</a> or <a href=\"https://nlp.stanford.edu/projects/glove/\">GloVe</a>. We can also combine embeddings or stack them (i.e. concatenate embedding vectors) to simply create new embeddings from existing ones.\n"
   ]
  },
  {
   "cell_type": "code",
   "execution_count": 6,
   "id": "4360e891-7da5-4617-aef1-6987ef4e3979",
   "metadata": {},
   "outputs": [
    {
     "data": {
      "image/svg+xml": [
       "<svg xmlns=\"http://www.w3.org/2000/svg\" xmlns:xlink=\"http://www.w3.org/1999/xlink\" width=\"550pt\" height=\"242pt\" viewBox=\"21.60 21.60 528.60 220.60\">\n",
       "<g id=\"graph0\" class=\"graph\" transform=\"scale(1 1) rotate(0) translate(25.6 216.6)\">\n",
       "<title>my_graph</title>\n",
       "<polygon fill=\"Transparent\" stroke=\"transparent\" points=\"-4,4 -4,-195 503,-195 503,4 -4,4\"/>\n",
       "<!-- token_embeddings -->\n",
       "<g id=\"node1\" class=\"node\">\n",
       "<title>token_embeddings</title>\n",
       "<polygon fill=\"none\" stroke=\"transparent\" points=\"102,-126 0,-126 0,-90 102,-90 102,-126\"/>\n",
       "<text text-anchor=\"middle\" x=\"51\" y=\"-105.5\" font-family=\"Arial\" font-size=\"10.00\">Token Embeddings</text>\n",
       "</g>\n",
       "<!-- contextual -->\n",
       "<g id=\"node2\" class=\"node\">\n",
       "<title>contextual</title>\n",
       "<polygon fill=\"none\" stroke=\"transparent\" points=\"261,-171 138,-171 138,-135 261,-135 261,-171\"/>\n",
       "<text text-anchor=\"middle\" x=\"199.5\" y=\"-150.5\" font-family=\"Arial\" font-size=\"10.00\">Contextual Embeddings</text>\n",
       "</g>\n",
       "<!-- token_embeddings&#45;&gt;contextual -->\n",
       "<g id=\"edge1\" class=\"edge\">\n",
       "<title>token_embeddings-&gt;contextual</title>\n",
       "<path fill=\"none\" stroke=\"black\" d=\"M102.01,-123.36C111.05,-126.14 120.62,-129.08 130.08,-131.98\"/>\n",
       "<polygon fill=\"black\" stroke=\"black\" points=\"129.29,-135.4 139.88,-134.99 131.35,-128.71 129.29,-135.4\"/>\n",
       "</g>\n",
       "<!-- static -->\n",
       "<g id=\"node3\" class=\"node\">\n",
       "<title>static</title>\n",
       "<polygon fill=\"none\" stroke=\"transparent\" points=\"249.5,-101 149.5,-101 149.5,-65 249.5,-65 249.5,-101\"/>\n",
       "<text text-anchor=\"middle\" x=\"199.5\" y=\"-80.5\" font-family=\"Arial\" font-size=\"10.00\">Static Embeddings</text>\n",
       "</g>\n",
       "<!-- token_embeddings&#45;&gt;static -->\n",
       "<g id=\"edge2\" class=\"edge\">\n",
       "<title>token_embeddings-&gt;static</title>\n",
       "<path fill=\"none\" stroke=\"black\" d=\"M102.01,-99.47C113.92,-97.43 126.75,-95.24 139.05,-93.15\"/>\n",
       "<polygon fill=\"black\" stroke=\"black\" points=\"139.95,-96.54 149.21,-91.41 138.77,-89.64 139.95,-96.54\"/>\n",
       "</g>\n",
       "<!-- sbert -->\n",
       "<g id=\"node8\" class=\"node\">\n",
       "<title>sbert</title>\n",
       "<polygon fill=\"none\" stroke=\"black\" points=\"386,-191 301,-191 297,-187 297,-155 382,-155 386,-159 386,-191\"/>\n",
       "<polyline fill=\"none\" stroke=\"black\" points=\"382,-187 297,-187 \"/>\n",
       "<polyline fill=\"none\" stroke=\"black\" points=\"382,-187 382,-155 \"/>\n",
       "<polyline fill=\"none\" stroke=\"black\" points=\"382,-187 386,-191 \"/>\n",
       "<text text-anchor=\"start\" x=\"305\" y=\"-176\" font-family=\"Arial\" font-size=\"10.00\">Sentence-BERT</text>\n",
       "<text text-anchor=\"start\" x=\"310.5\" y=\"-166\" font-family=\"Arial\" font-style=\"italic\" font-size=\"10.00\">on token level</text>\n",
       "</g>\n",
       "<!-- contextual&#45;&gt;sbert -->\n",
       "<g id=\"edge9\" class=\"edge\">\n",
       "<title>contextual-&gt;sbert</title>\n",
       "<path fill=\"none\" stroke=\"orange\" d=\"M261.09,-161.66C269.6,-162.87 278.3,-164.11 286.68,-165.31\"/>\n",
       "<polygon fill=\"orange\" stroke=\"orange\" points=\"286.3,-168.79 296.69,-166.74 287.29,-161.86 286.3,-168.79\"/>\n",
       "</g>\n",
       "<!-- glove -->\n",
       "<g id=\"node4\" class=\"node\">\n",
       "<title>glove</title>\n",
       "<polygon fill=\"none\" stroke=\"black\" points=\"368.5,-141 318.5,-141 314.5,-137 314.5,-105 364.5,-105 368.5,-109 368.5,-141\"/>\n",
       "<polyline fill=\"none\" stroke=\"black\" points=\"364.5,-137 314.5,-137 \"/>\n",
       "<polyline fill=\"none\" stroke=\"black\" points=\"364.5,-137 364.5,-105 \"/>\n",
       "<polyline fill=\"none\" stroke=\"black\" points=\"364.5,-137 368.5,-141 \"/>\n",
       "<text text-anchor=\"middle\" x=\"341.5\" y=\"-120.5\" font-family=\"Arial\" font-size=\"10.00\">GloVe</text>\n",
       "</g>\n",
       "<!-- static&#45;&gt;glove -->\n",
       "<g id=\"edge3\" class=\"edge\">\n",
       "<title>static-&gt;glove</title>\n",
       "<path fill=\"none\" stroke=\"orange\" d=\"M249.86,-97.1C267.85,-102.24 287.84,-107.96 304.46,-112.7\"/>\n",
       "<polygon fill=\"orange\" stroke=\"orange\" points=\"303.75,-116.14 314.33,-115.52 305.68,-109.41 303.75,-116.14\"/>\n",
       "</g>\n",
       "<!-- fasttext -->\n",
       "<g id=\"node5\" class=\"node\">\n",
       "<title>fasttext</title>\n",
       "<polygon fill=\"none\" stroke=\"black\" points=\"487.5,-93 437.5,-93 433.5,-89 433.5,-57 483.5,-57 487.5,-61 487.5,-93\"/>\n",
       "<polyline fill=\"none\" stroke=\"black\" points=\"483.5,-89 433.5,-89 \"/>\n",
       "<polyline fill=\"none\" stroke=\"black\" points=\"483.5,-89 483.5,-57 \"/>\n",
       "<polyline fill=\"none\" stroke=\"black\" points=\"483.5,-89 487.5,-93 \"/>\n",
       "<text text-anchor=\"middle\" x=\"460.5\" y=\"-72.5\" font-family=\"Arial\" font-size=\"10.00\">fastText</text>\n",
       "</g>\n",
       "<!-- static&#45;&gt;fasttext -->\n",
       "<g id=\"edge4\" class=\"edge\">\n",
       "<title>static-&gt;fasttext</title>\n",
       "<path fill=\"none\" stroke=\"orange\" d=\"M249.52,-81.49C300.03,-79.93 377.59,-77.53 422.96,-76.13\"/>\n",
       "<polygon fill=\"orange\" stroke=\"orange\" points=\"423.34,-79.62 433.22,-75.81 423.12,-72.62 423.34,-79.62\"/>\n",
       "</g>\n",
       "<!-- numberbatch -->\n",
       "<g id=\"node6\" class=\"node\">\n",
       "<title>numberbatch</title>\n",
       "<polygon fill=\"none\" stroke=\"black\" points=\"499,-36 426,-36 422,-32 422,0 495,0 499,-4 499,-36\"/>\n",
       "<polyline fill=\"none\" stroke=\"black\" points=\"495,-32 422,-32 \"/>\n",
       "<polyline fill=\"none\" stroke=\"black\" points=\"495,-32 495,0 \"/>\n",
       "<polyline fill=\"none\" stroke=\"black\" points=\"495,-32 499,-36 \"/>\n",
       "<text text-anchor=\"middle\" x=\"460.5\" y=\"-15.5\" font-family=\"Arial\" font-size=\"10.00\">Numberbatch</text>\n",
       "</g>\n",
       "<!-- static&#45;&gt;numberbatch -->\n",
       "<g id=\"edge5\" class=\"edge\">\n",
       "<title>static-&gt;numberbatch</title>\n",
       "<path fill=\"none\" stroke=\"orange\" d=\"M219.73,-64.9C238,-49.04 267.06,-27.14 297,-18 334.25,-6.62 378.58,-7.52 411.53,-10.76\"/>\n",
       "<polygon fill=\"orange\" stroke=\"orange\" points=\"411.48,-14.27 421.8,-11.88 412.24,-7.31 411.48,-14.27\"/>\n",
       "</g>\n",
       "<!-- stacked -->\n",
       "<g id=\"node7\" class=\"node\">\n",
       "<title>stacked</title>\n",
       "<polygon fill=\"none\" stroke=\"black\" points=\"356.5,-55 314.5,-55 314.5,-31 356.5,-31 368.5,-43 356.5,-55\"/>\n",
       "<text text-anchor=\"middle\" x=\"341.5\" y=\"-40.5\" font-family=\"Arial\" font-size=\"10.00\">stacked</text>\n",
       "</g>\n",
       "<!-- static&#45;&gt;stacked -->\n",
       "<g id=\"edge6\" class=\"edge\">\n",
       "<title>static-&gt;stacked</title>\n",
       "<path fill=\"none\" stroke=\"orange\" d=\"M249.86,-68.9C267.85,-63.76 287.84,-58.04 304.46,-53.3\"/>\n",
       "<polygon fill=\"orange\" stroke=\"orange\" points=\"305.68,-56.59 314.33,-50.48 303.75,-49.86 305.68,-56.59\"/>\n",
       "</g>\n",
       "<!-- stacked&#45;&gt;fasttext -->\n",
       "<g id=\"edge7\" class=\"edge\">\n",
       "<title>stacked-&gt;fasttext</title>\n",
       "<path fill=\"none\" stroke=\"lightblue\" d=\"M368.76,-50.18C384.86,-54.59 405.72,-60.29 423.37,-65.12\"/>\n",
       "<polygon fill=\"lightblue\" stroke=\"lightblue\" points=\"422.76,-68.58 433.33,-67.84 424.61,-61.83 422.76,-68.58\"/>\n",
       "</g>\n",
       "<!-- stacked&#45;&gt;numberbatch -->\n",
       "<g id=\"edge8\" class=\"edge\">\n",
       "<title>stacked-&gt;numberbatch</title>\n",
       "<path fill=\"none\" stroke=\"lightblue\" d=\"M368.76,-37.39C381.46,-34.68 397.11,-31.33 411.81,-28.19\"/>\n",
       "<polygon fill=\"lightblue\" stroke=\"lightblue\" points=\"412.74,-31.57 421.79,-26.06 411.28,-24.72 412.74,-31.57\"/>\n",
       "</g>\n",
       "</g>\n",
       "</svg>"
      ],
      "text/plain": [
       "<IPython.core.display.SVG object>"
      ]
     },
     "execution_count": 6,
     "metadata": {},
     "output_type": "execute_result"
    }
   ],
   "source": [
    "nbutils.plot_dot(\"miscellaneous/diagram_embeddings_2.dot\")"
   ]
  },
  {
   "cell_type": "markdown",
   "id": "a2820b9f",
   "metadata": {},
   "source": [
    "In this notebook, we showcase the following four classes of embeddings:\n",
    "\n",
    "* **Static token embeddings**: these operate on the token level. We experiment with <a href=\"https://nlp.stanford.edu/projects/glove/\">GloVe</a> (Pennington et al. 2014), <a href=\"https://fasttext.cc/\">fastText</a> (Mikolov et al., 2018) and <a href=\"https://github.com/commonsense/conceptnet-numberbatch\">Numberbatch</a> (Speer et al, 2017). We use these three embeddings to compute token similarity and combine them with alignment algorithms (such as <a href=\"http://rna.informatik.uni-freiburg.de/Teaching/index.jsp?toolName=Waterman-Smith-Beyer\">Waterman-Smith-Beyer</a>) to compute document similarity. We also investigate the effect of stacking two static embeddings (fastText and Numberbatch).\n",
    "* **Contextual token embeddings**: these also operate on the token level, but embeddings can change according to a specific token instance's context. In this notebook we experiment with using such token embeddings from the <a href=\"https://www.sbert.net/\">Sentence-BERT</a> model (Reimers & Gurevych, 2019).\n",
    "* **Document embeddings derived from specially trained models**: document embeddings represent one document via one single embedding. We use document embeddings obtained from a BERT model. More specifically, we use a Siamese BERT model named Sentence-BERT, which is trained specifically for the semantic textual similarity (STS) task (Reimers & Gurevych, 2019).\n",
    "* **Document embeddings derived from token embeddings**: We also experiment with averaging different kinds of token embeddings (static and contextual) to derive document embeddings.\n"
   ]
  },
  {
   "cell_type": "markdown",
   "id": "e746071b",
   "metadata": {},
   "source": [
    "## 2.3 \"Shapespeare in the Vectorian Age\" – Meet the Vectorian framework <a class=\"anchor\" id=\"section_2_3\"></a>"
   ]
  },
  {
   "cell_type": "markdown",
   "id": "e5afbd3e",
   "metadata": {},
   "source": [
    "To conduct our actual investigations, we rely on a framework called the **<a href=\"https://github.com/poke1024/vectorian\">Vectorian</a>**, which we first introduced in 2020 (Liebl & Burghardt, 2020a/b). Using highly optimized algorithms and data structures, the Vectorian enables fast searching over the gold standard data using a variety of approaches and strategies. "
   ]
  },
  {
   "cell_type": "markdown",
   "id": "f1cb0e38",
   "metadata": {},
   "source": [
    "In order to use the Vectorian, we need to map the gold standard concepts to Vectorian concepts as follows: From the gold standard, we want to gather all texts that contain some kind of text reuse. These texts reside in the `context` attribute of the `Evidence` instances (see Figure above). In the Vectorian, we then create `Documents` from those texts. A `Document` in Vectorian terminology is something we can perform a search on. `Documents` in the Vectorian are created using different kinds of `Importers` that perform necessary natural language processing tasks using an additional `NLP` class (see diagram below). Since this step can be very time-consuming, we precomputed this step and use the `Corpus` class to quickly load these preprocessed Documents into the notebook. For details about the full preprocessing, see `code/prepare_corpus.ipynb`. \n",
    "\n"
   ]
  },
  {
   "cell_type": "markdown",
   "id": "f467944b",
   "metadata": {},
   "source": [
    "Using the loaded `Documents` and a set of `Embeddings` we want to work with, we can then create a `Session` that allows us to perform intertextuality searches. More details about\n",
    "the technical architecture be build on in this notebook can be found in the [source code](https://github.com/poke1024/vectorian) and the [API Documentation](https://poke1024.github.io/vectorian/index.html) for the Vectorian."
   ]
  },
  {
   "cell_type": "markdown",
   "id": "fe62e898",
   "metadata": {},
   "source": [
    "### 2.3.1 Loading word embeddings <a class=\"anchor\" id=\"section_2_3_1\"></a>"
   ]
  },
  {
   "cell_type": "markdown",
   "id": "673a5d4b",
   "metadata": {},
   "source": [
    "In terms of static embeddings, we will work with <a href=\"https://nlp.stanford.edu/projects/glove/\" target=\"_blank\">GloVe</a>, <a href=\"https://fasttext.cc/docs/en/crawl-vectors.html\" target=\"_blank\">fastText</a> and <a href=\"https://github.com/commonsense/conceptnet-numberbatch\" target=\"_blank\">Numberbatch</a>. GloVe uses a form of matrix factorization on a global co-occurence matrix to compute embeddings for a finite set of predefined tokens (Pennington et al. 2014). In contrast, fastText training operates on  local context windows (Mikolov et al., 2018). In contrast to GloVe and the earlier word2vec, fastText additionally computes embeddings on character n-grams instead of tokens, which means there are no out-of-vocabulary tokens (Mikolov et al., 2018). Different to both GloVe and fastText, which only use data from a corpus, Numberbatch embeddings additionally incorporate information from a knowledge graph (Speer et al, 2017).\n",
    "\n",
    "For reasons of limited RAM in the interactive Binder environment (and to limit download times), we use smaller or compressed versions of the official pretrained versions:\n",
    "\n",
    "* for **<a href=\"https://nlp.stanford.edu/projects/glove/\" target=\"_blank\">GloVe</a>**, we use the official 50-dimensional version of the 6B variant\n",
    "* for **<a href=\"https://fasttext.cc/docs/en/crawl-vectors.html\" target=\"_blank\">fastText</a>** we use a version that was trained on *Common Crawl* and *Wikipedia* using CBOW, and then compressed using the standard settings in https://github.com/avidale/compress-fasttext\n",
    "* for **<a href=\"https://github.com/commonsense/conceptnet-numberbatch\" target=\"_blank\">Numberbatch</a>** we use version 19.08 that was reduced into a 50-dimension version using a standard PCA\n",
    "\n",
    "We also use one **stacked embedding**, in which we combine fastText and Numberbatch. We will call this embedding `fasttext_numberbatch`.\n",
    "\n",
    "Finally we will use a contextual embedding based on the Sentence-BERT architecture (Reimers & Gurevych, 2019). More specifically, this embedding will use the English <a href=\"https://huggingface.co/sentence-transformers/paraphrase-distilroberta-base-v1\">paraphrase_distilroberta_base_v1</a> model. For simplicity, we refer to it as `sbert`."
   ]
  },
  {
   "cell_type": "markdown",
   "id": "04037dac",
   "metadata": {},
   "source": [
    "To load these embeddings, we first need to instantiate a NLP parser that is capable of providing us with the desired Sentence-BERT embeddings. This NLP parser will also provide us with other standard NLP tasks such as POS tagging later on. Internally, we use <a href=\"https://spacy.io/\">spaCy</a> to construct a suitable parser. `nlp.pipeline` will give the fully constructed NLP pipeline in case the reader is interested."
   ]
  },
  {
   "cell_type": "code",
   "execution_count": 7,
   "id": "84dd961f",
   "metadata": {},
   "outputs": [],
   "source": [
    "nlp = nbutils.make_nlp(\"en_paraphrase_distilroberta_base_v1\")"
   ]
  },
  {
   "cell_type": "markdown",
   "id": "994ec251",
   "metadata": {},
   "source": [
    "Through `nlp` we can now create the desired `sbert` embedding (more specifically, a suitable class compatible with the Vectorian) as well as the other static embeddings we described earlier."
   ]
  },
  {
   "cell_type": "code",
   "execution_count": 8,
   "id": "16ef1ef5",
   "metadata": {},
   "outputs": [
    {
     "data": {
      "text/plain": [
       "['glove', 'fasttext', 'numberbatch', 'fasttext_numberbatch', 'sbert']"
      ]
     },
     "execution_count": 8,
     "metadata": {},
     "output_type": "execute_result"
    }
   ],
   "source": [
    "the_embeddings = nbutils.load_embeddings(nlp)\n",
    "list(the_embeddings.keys())"
   ]
  },
  {
   "cell_type": "markdown",
   "id": "65d16656",
   "metadata": {},
   "source": [
    "### 2.3.2 Creating the session <a class=\"anchor\" id=\"section_2_3_2\"></a>"
   ]
  },
  {
   "cell_type": "markdown",
   "id": "7f2c3ada",
   "metadata": {},
   "source": [
    "The following code creates a `Session` in the Vectorian framework that will allow us to perform searches over the gold standard corpus using the desired embeddings:"
   ]
  },
  {
   "cell_type": "code",
   "execution_count": 9,
   "id": "7c2ab856",
   "metadata": {},
   "outputs": [
    {
     "data": {
      "application/vnd.jupyter.widget-view+json": {
       "model_id": "00f6ae3843dc4ff6aa76f1de5513b33e",
       "version_major": 2,
       "version_minor": 0
      },
      "text/plain": [
       "Opening Corpus:   0%|          | 0/100 [00:00<?, ?it/s]"
      ]
     },
     "metadata": {},
     "output_type": "display_data"
    },
    {
     "data": {
      "application/vnd.jupyter.widget-view+json": {
       "model_id": "b2779318e2dc4053a7f73672824aec9e",
       "version_major": 2,
       "version_minor": 0
      },
      "text/plain": [
       "Preparing Documents:   0%|          | 0/100 [00:00<?, ?it/s]"
      ]
     },
     "metadata": {},
     "output_type": "display_data"
    }
   ],
   "source": [
    "session = vectorian.session.LabSession(\n",
    "    vectorian.corpus.Corpus(\"data/processed_data/corpus\", mutable=False),\n",
    "    embeddings=the_embeddings.values())"
   ]
  },
  {
   "cell_type": "markdown",
   "id": "5910a28b-704f-45e4-ae63-91d3ceb32fdd",
   "metadata": {},
   "source": [
    "The following line of code will speed up searches later in the notebook by loading all contextual embedding vectors into RAM."
   ]
  },
  {
   "cell_type": "code",
   "execution_count": 10,
   "id": "9d27028b-4f13-4d5a-8f6a-bc41715a6ed1",
   "metadata": {},
   "outputs": [
    {
     "data": {
      "application/vnd.jupyter.widget-view+json": {
       "model_id": "280e06971cc6473786e1f2f31d6c2912",
       "version_major": 2,
       "version_minor": 0
      },
      "text/plain": [
       "Loading Vectors:   0%|          | 0/100 [00:00<?, ?it/s]"
      ]
     },
     "metadata": {},
     "output_type": "display_data"
    }
   ],
   "source": [
    "session.cache_contextual_embeddings()"
   ]
  },
  {
   "cell_type": "markdown",
   "id": "c09829d8-c158-43b3-be08-1a76f343d3bf",
   "metadata": {},
   "source": [
    "# 3. Embeddings as a tool for intertextuality research <a class=\"anchor\" id=\"section_3\"></a>"
   ]
  },
  {
   "cell_type": "markdown",
   "id": "4e52e6c6-f0c6-47ff-934b-ec5d8d2c51e0",
   "metadata": {},
   "source": [
    "## 3.1  Exploring word embeddings <a class=\"anchor\" id=\"section_3_1\"></a>"
   ]
  },
  {
   "cell_type": "markdown",
   "id": "ec8c309d",
   "metadata": {},
   "source": [
    "### 3.1.1 An introduction to word embeddings and token similarity <a class=\"anchor\" id=\"section_3_1_1\"></a>"
   ]
  },
  {
   "cell_type": "markdown",
   "id": "936bfeb6",
   "metadata": {},
   "source": [
    "Before we dive into the acutal intertextuality analyses, we first take a brief look at the inner workings of embeddings. Mathematically speaking, a word embedding is a vector **x** of dimension *n*, i.e. a vector consisting of *n* scalars.\n",
    "\n",
    "$$\\mathbf{x}=(x_1, x_2, ..., x_{n-1}, x_n)$$\n",
    "\n",
    "For example, the compressed numberbatch embedding we use has *n*=50 and thus represents the word \"coffee\" with the following 50 scalar values:"
   ]
  },
  {
   "cell_type": "code",
   "execution_count": 11,
   "id": "474c8b2e",
   "metadata": {},
   "outputs": [
    {
     "data": {
      "application/vnd.jupyter.widget-view+json": {
       "model_id": "2fa444d7fbd1421fb9ab6bd81ef0b75e",
       "version_major": 2,
       "version_minor": 0
      },
      "text/plain": [
       "GridBox(children=(Label(value='-0.05'), Label(value='-0.13'), Label(value='0.06'), Label(value='-0.09'), Label…"
      ]
     },
     "metadata": {},
     "output_type": "display_data"
    }
   ],
   "source": [
    "widgets.GridBox(\n",
    "    [\n",
    "        widgets.Label(f\"{x:.2f}\")\n",
    "        for x in session.word_vec(the_embeddings[\"numberbatch\"], \"coffee\")\n",
    "    ],\n",
    "    layout=widgets.Layout(grid_template_columns=\"repeat(10, 50px)\"),\n",
    ")"
   ]
  },
  {
   "cell_type": "markdown",
   "id": "9bea3512",
   "metadata": {},
   "source": [
    "Since the above representation is difficult to understand, we visualize the values of\n",
    "\n",
    "$$x_1, x_2, ..., x_{n-1}, x_n$$\n",
    "\n",
    "through different colors. By default, all values are normalized by ||**x**||&#x2082;, i.e. the dot product of these values gives the cosine similarity."
   ]
  },
  {
   "cell_type": "code",
   "execution_count": 12,
   "id": "ea9c7758",
   "metadata": {},
   "outputs": [
    {
     "data": {
      "application/vnd.jupyter.widget-view+json": {
       "model_id": "e2e843bbd8514c2083093d5489d70403",
       "version_major": 2,
       "version_minor": 0
      },
      "text/plain": [
       "interactive(children=(Dropdown(description='embedding', index=2, options=(('glove', <vectorian.embeddings.Word…"
      ]
     },
     "metadata": {},
     "output_type": "display_data"
    }
   ],
   "source": [
    "@interact(\n",
    "    embedding=widgets.Dropdown(\n",
    "        options=[(k, v) for k, v in the_embeddings.items() if not v.is_contextual],\n",
    "        value=the_embeddings[\"numberbatch\"],\n",
    "    ),\n",
    "    normalize=True,\n",
    ")\n",
    "def plot(embedding, normalize):\n",
    "    nbutils.plot_embedding_vectors_val(\n",
    "        [\"sail\", \"boat\", \"coffee\", \"tea\", \"guitar\", \"piano\"],\n",
    "        get_vec=lambda w: session.word_vec(embedding, w),\n",
    "        normalize=normalize,\n",
    "    )"
   ]
  },
  {
   "cell_type": "markdown",
   "id": "d59f2826",
   "metadata": {},
   "source": [
    "By looking at these color patterns, we can gain some intuitive understanding of why and how word embeddings are appropriate for word similarity calculations. For example, *sail* and *boat* both show a strong activation for dimension 27. Similarly, *guitar* and *piano* share similar values for dimension 24. The words *coffee* and *tea* also share some similar patterns for dimension 2 and dimension 49, which also set them apart from the other four words."
   ]
  },
  {
   "cell_type": "markdown",
   "id": "90ef6760",
   "metadata": {},
   "source": [
    "A common approach to compute the similarity between two word vectors **u** and **v** in this kind of high-dimensional vector spaces is to compute the cosine of the angle &theta; between the vectors, which is called **cosine similarity**:\n",
    "\n",
    "$$cos \\theta = \\frac{\\mathbf{u} \\cdot \\mathbf{v}}{||\\mathbf{u}||_2 ||\\mathbf{v}||_2} = \\frac{\\sum_1^n \\mathbf{u}_i \\mathbf{v}_i}{\\sqrt{\\sum_1^n \\mathbf{u}_i^2} \\sqrt{\\sum_1^n \\mathbf{v}_i^2}} = \\sum_1^n \\left( \\frac{\\mathbf{u}}{||\\mathbf{u}||_2} \\right)_i \\left( \\frac{\\mathbf{v}}{||\\mathbf{v}||_2} \\right)_i$$"
   ]
  },
  {
   "cell_type": "markdown",
   "id": "3d8876b1",
   "metadata": {},
   "source": [
    "A large positive value (i.e. a small &theta; between **u** and **v**) indicates higher similarity, whereas a small or even negative value (i.e. a large &theta;) indicates lower similarity. For a discussion of issues with this notion of similarity, see Faruqui et al. (2016).\n",
    "\n",
    "The visualization below encodes\n",
    "\n",
    "$$\\left( \\frac{\\mathbf{u}}{||\\mathbf{u}||_2} \\right)_i \\left( \\frac{\\mathbf{v}}{||\\mathbf{v}||_2} \\right)_i$$\n",
    "\n",
    "for different i, 1 &le; i &le; n, through colors to illustrate how different components contribute to the cosine similarity for two words. Brighter colors (orange/yellow) indicate dimensions with higher values."
   ]
  },
  {
   "cell_type": "code",
   "execution_count": 13,
   "id": "70e2ade9",
   "metadata": {},
   "outputs": [
    {
     "data": {
      "application/vnd.jupyter.widget-view+json": {
       "model_id": "7f4066bffa324ebc86533fab64e14cdb",
       "version_major": 2,
       "version_minor": 0
      },
      "text/plain": [
       "interactive(children=(Dropdown(description='embedding', index=2, options=(('glove', <vectorian.embeddings.Word…"
      ]
     },
     "metadata": {},
     "output_type": "display_data"
    }
   ],
   "source": [
    "@interact(\n",
    "    embedding=widgets.Dropdown(\n",
    "        options=[(k, v) for k, v in the_embeddings.items() if not v.is_contextual],\n",
    "        value=the_embeddings[\"numberbatch\"],\n",
    "    )\n",
    ")\n",
    "def plot(embedding):\n",
    "    nbutils.plot_embedding_vectors_mul(\n",
    "        [(\"sail\", \"boat\"), (\"coffee\", \"tea\"), (\"guitar\", \"piano\")],\n",
    "        get_vec=lambda w: session.word_vec(embedding, w),\n",
    "    )"
   ]
  },
  {
   "cell_type": "markdown",
   "id": "ff150311",
   "metadata": {},
   "source": [
    "A comparable investigation of fastText shows similar spots of positive dimensions. The plot here is somewhat more complex due to the higher number of dimensions (*n* = 300)."
   ]
  },
  {
   "cell_type": "code",
   "execution_count": 14,
   "id": "adc1d2ed",
   "metadata": {},
   "outputs": [
    {
     "data": {
      "application/vnd.jupyter.widget-view+json": {
       "model_id": "b02d3477fc7d4c04b93c368c5b5b6ad4",
       "version_major": 2,
       "version_minor": 0
      },
      "text/plain": [
       "interactive(children=(Dropdown(description='embedding', index=1, options=(('glove', <vectorian.embeddings.Word…"
      ]
     },
     "metadata": {},
     "output_type": "display_data"
    }
   ],
   "source": [
    "@interact(\n",
    "    embedding=widgets.Dropdown(\n",
    "        options=[(k, v) for k, v in the_embeddings.items() if not v.is_contextual],\n",
    "        value=the_embeddings[\"fasttext\"],\n",
    "    )\n",
    ")\n",
    "def plot(embedding):\n",
    "    nbutils.plot_embedding_vectors_mul(\n",
    "        [(\"sail\", \"boat\"), (\"coffee\", \"tea\"), (\"guitar\", \"piano\")],\n",
    "        get_vec=lambda w: session.word_vec(embedding, w),\n",
    "    )"
   ]
  },
  {
   "cell_type": "markdown",
   "id": "9e9c6ff5",
   "metadata": {},
   "source": [
    "Computing the overall cosine similarity for two words is mathematically equivalent to summing up the terms in the diagram above. The overall similarity between *guitar* and *piano* is approx. 68% with the fastText embedding we use. For *guitar* and *coffee* it is significantly lower with a similarity of approx. 20%.\n"
   ]
  },
  {
   "cell_type": "code",
   "execution_count": 15,
   "id": "4b9d13ae",
   "metadata": {},
   "outputs": [
    {
     "data": {
      "text/plain": [
       "[0.68097234, 0.19857687]"
      ]
     },
     "execution_count": 15,
     "metadata": {},
     "output_type": "execute_result"
    }
   ],
   "source": [
    "from vectorian.metrics import TokenSimilarity, CosineSimilarity\n",
    "\n",
    "token_sim = TokenSimilarity(the_embeddings[\"fasttext\"], CosineSimilarity())\n",
    "\n",
    "[session.similarity(token_sim, \"guitar\", x) for x in [\"piano\", \"coffee\"]]"
   ]
  },
  {
   "cell_type": "markdown",
   "id": "5fea91e0",
   "metadata": {},
   "source": [
    "To compute the similarity between tokens of a contextual embedding, we need to reference the actual token instances within a text document."
   ]
  },
  {
   "cell_type": "code",
   "execution_count": 16,
   "id": "b45a1647",
   "metadata": {},
   "outputs": [
    {
     "data": {
      "text/plain": [
       "['By', 'thou', 0.32798317]"
      ]
     },
     "execution_count": 16,
     "metadata": {},
     "output_type": "execute_result"
    }
   ],
   "source": [
    "token_sim = TokenSimilarity(the_embeddings[\"sbert\"], CosineSimilarity())\n",
    "\n",
    "a = list(session.documents[0].spans(session.partition(\"document\")))[0][2]\n",
    "b = list(session.documents[6].spans(session.partition(\"document\")))[0][5]\n",
    "[a.text, b.text, session.similarity(token_sim, a, b)]"
   ]
  },
  {
   "cell_type": "markdown",
   "id": "ee9d77e8",
   "metadata": {},
   "source": [
    "### 3.1.2 Detecting Shakespearean intertextuality through word embeddings <a class=\"anchor\" id=\"section_3_1_2\"></a>"
   ]
  },
  {
   "cell_type": "markdown",
   "id": "5c4ebd8b",
   "metadata": {},
   "source": [
    "We explore the usefulness of embeddings and token similarity with the gold standard dataset that was introduced earlier. In the following example the pattern \"the rest is silence\" is quoted as \"the rest is all but wind\". While the syntactic structure is mirrored between pattern and occurrence, the term \"silence\" is replaced with \"all but wind\". If we focus on nouns only, we can expect \"silence\" and \"wind\" to be semantically related - at least to a certain degree."
   ]
  },
  {
   "cell_type": "code",
   "execution_count": 17,
   "id": "53cb1328",
   "metadata": {},
   "outputs": [],
   "source": [
    "vis = nbutils.TokenSimPlotterFactory(session, nlp, gold_data)"
   ]
  },
  {
   "cell_type": "code",
   "execution_count": 18,
   "id": "08494bc8",
   "metadata": {},
   "outputs": [
    {
     "data": {
      "application/vnd.jupyter.widget-view+json": {
       "model_id": "d78fae0b5f3e4b12b920213aad383e65",
       "version_major": 2,
       "version_minor": 0
      },
      "text/plain": [
       "VBox(children=(HBox(children=(Dropdown(description='pattern:', index=3, layout=Layout(width='max-content'), op…"
      ]
     },
     "metadata": {},
     "output_type": "display_data"
    }
   ],
   "source": [
    "plotter1 = vis.make(\"rest is silence\", \"Fig for Fortune\")"
   ]
  },
  {
   "cell_type": "markdown",
   "id": "52f2a451",
   "metadata": {},
   "source": [
    "In the following, we inspect the cosine similarity of the token \"silence\" with other tokens in the document's (\"A Fig of Fortune, 1596\") context for three different embedding models.It becomes clear that for all three embeddings there is a strong connection between \"silence\" and \"wind\". The cosine similarity is particularly high with the Numberbatch model. Nevertheless, the absolute value of 0.3 for Numberbatch is still in a rather low range. Interestingly, GloVe associates \"silence\" with \"action\", which can be understood as quite the opposite of silence. The phenomenon that embeddings sometimes cluster opposites is a common observation and can be a problem when trying to distinguish between synonyms and antonyms."
   ]
  },
  {
   "cell_type": "code",
   "execution_count": 20,
   "id": "3df8a4d6",
   "metadata": {},
   "outputs": [
    {
     "data": {
      "application/vnd.bokehjs_exec.v0+json": "",
      "text/html": [
       "\n",
       "<script id=\"1537\">\n",
       "  var xhr = new XMLHttpRequest()\n",
       "  xhr.responseType = 'blob';\n",
       "  xhr.open('GET', \"http://localhost:50995/autoload.js?bokeh-autoload-element=1537&bokeh-absolute-url=http://localhost:50995&resources=none\", true);\n",
       "  \n",
       "  xhr.onload = function (event) {\n",
       "    var script = document.createElement('script'),\n",
       "    src = URL.createObjectURL(event.target.response);\n",
       "    script.src = src;\n",
       "    document.body.appendChild(script);\n",
       "  };\n",
       "xhr.send();\n",
       "</script>"
      ]
     },
     "metadata": {
      "application/vnd.bokehjs_exec.v0+json": {
       "server_id": "77173275e54845de947b9972fd7a63c6"
      }
     },
     "output_type": "display_data"
    }
   ],
   "source": [
    "plotter1(\"silence\")"
   ]
  },
  {
   "cell_type": "markdown",
   "id": "19d78987",
   "metadata": {},
   "source": [
    "In an example for the pattern \"sea of troubles\", we see that the word \"sea\" in one document is paraphrased as \"waves\", and \"troubles\" is substituted by \"troublesome\". If we take a closer look at the cosine similarities of the tokens \"sea\" and \"troubles\" with all the other tokens in the document's context, we see that they are – expectedly – rather high."
   ]
  },
  {
   "cell_type": "code",
   "execution_count": 21,
   "id": "3fb62321",
   "metadata": {},
   "outputs": [
    {
     "data": {
      "application/vnd.jupyter.widget-view+json": {
       "model_id": "6f475a031d8840f5809ee94539673178",
       "version_major": 2,
       "version_minor": 0
      },
      "text/plain": [
       "VBox(children=(HBox(children=(Dropdown(description='pattern:', index=1, layout=Layout(width='max-content'), op…"
      ]
     },
     "metadata": {},
     "output_type": "display_data"
    }
   ],
   "source": [
    "plotter2 = vis.make(\"sea of troubles\", \"Book of Common Prayer\")"
   ]
  },
  {
   "cell_type": "code",
   "execution_count": 23,
   "id": "5f7b8069",
   "metadata": {},
   "outputs": [
    {
     "data": {
      "application/vnd.bokehjs_exec.v0+json": "",
      "text/html": [
       "\n",
       "<script id=\"1721\">\n",
       "  var xhr = new XMLHttpRequest()\n",
       "  xhr.responseType = 'blob';\n",
       "  xhr.open('GET', \"http://localhost:50998/autoload.js?bokeh-autoload-element=1721&bokeh-absolute-url=http://localhost:50998&resources=none\", true);\n",
       "  \n",
       "  xhr.onload = function (event) {\n",
       "    var script = document.createElement('script'),\n",
       "    src = URL.createObjectURL(event.target.response);\n",
       "    script.src = src;\n",
       "    document.body.appendChild(script);\n",
       "  };\n",
       "xhr.send();\n",
       "</script>"
      ]
     },
     "metadata": {
      "application/vnd.bokehjs_exec.v0+json": {
       "server_id": "8f17a44a38984ff89c0e313817abdbf0"
      }
     },
     "output_type": "display_data"
    }
   ],
   "source": [
    "plotter2(\"sea\")"
   ]
  },
  {
   "cell_type": "code",
   "execution_count": 25,
   "id": "97a3192d",
   "metadata": {},
   "outputs": [
    {
     "data": {
      "application/vnd.bokehjs_exec.v0+json": "",
      "text/html": [
       "\n",
       "<script id=\"1871\">\n",
       "  var xhr = new XMLHttpRequest()\n",
       "  xhr.responseType = 'blob';\n",
       "  xhr.open('GET', \"http://localhost:51000/autoload.js?bokeh-autoload-element=1871&bokeh-absolute-url=http://localhost:51000&resources=none\", true);\n",
       "  \n",
       "  xhr.onload = function (event) {\n",
       "    var script = document.createElement('script'),\n",
       "    src = URL.createObjectURL(event.target.response);\n",
       "    script.src = src;\n",
       "    document.body.appendChild(script);\n",
       "  };\n",
       "xhr.send();\n",
       "</script>"
      ]
     },
     "metadata": {
      "application/vnd.bokehjs_exec.v0+json": {
       "server_id": "717fc2db630242569f299577ff2430b5"
      }
     },
     "output_type": "display_data"
    }
   ],
   "source": [
    "plotter2(\"troubles\")"
   ]
  },
  {
   "cell_type": "markdown",
   "id": "5cee2f24",
   "metadata": {},
   "source": [
    "It is also interesting to investigate how out-of-vocabulary words like \"troublesomest\" produce zero similarities with standard key-value embeddings, whereas fastText is still able to produce a vector thanks to subword information."
   ]
  },
  {
   "cell_type": "code",
   "execution_count": 27,
   "id": "ac79d82c",
   "metadata": {},
   "outputs": [
    {
     "data": {
      "application/vnd.bokehjs_exec.v0+json": "",
      "text/html": [
       "\n",
       "<script id=\"2056\">\n",
       "  var xhr = new XMLHttpRequest()\n",
       "  xhr.responseType = 'blob';\n",
       "  xhr.open('GET', \"http://localhost:51004/autoload.js?bokeh-autoload-element=2056&bokeh-absolute-url=http://localhost:51004&resources=none\", true);\n",
       "  \n",
       "  xhr.onload = function (event) {\n",
       "    var script = document.createElement('script'),\n",
       "    src = URL.createObjectURL(event.target.response);\n",
       "    script.src = src;\n",
       "    document.body.appendChild(script);\n",
       "  };\n",
       "xhr.send();\n",
       "</script>"
      ]
     },
     "metadata": {
      "application/vnd.bokehjs_exec.v0+json": {
       "server_id": "a3724a7658c3493887042ac87a2cfdec"
      }
     },
     "output_type": "display_data"
    }
   ],
   "source": [
    "plotter2(\"troublesomest\")"
   ]
  },
  {
   "cell_type": "markdown",
   "id": "b06e6051",
   "metadata": {},
   "source": [
    "## 3.2 Exploring document embeddings <a class=\"anchor\" id=\"section_3_2\"></a>"
   ]
  },
  {
   "cell_type": "markdown",
   "id": "22375ca1",
   "metadata": {},
   "source": [
    "Next, we consider the representation of each document with a single embedding to gain an understanding of how different embedding strategies relate to document similarity. We will later return to individual token embeddings.\n",
    "\n",
    "For this purpose, we will use the two strategies already mentioned for computing document embeddings:\n",
    "\n",
    "* averaging over token embeddings\n",
    "* computing document embeddings through a dedicated model"
   ]
  },
  {
   "cell_type": "markdown",
   "id": "a2cb44d3",
   "metadata": {},
   "source": [
    "In order to achieve the latter, we compute document embeddings using Sentence-BERT. The `CachedPartitionEncoder` in the following code will encode and cache the document embeddings."
   ]
  },
  {
   "cell_type": "code",
   "execution_count": 28,
   "id": "2f78d07d",
   "metadata": {},
   "outputs": [],
   "source": [
    "from vectorian.embeddings import CachedPartitionEncoder, SpanEncoder\n",
    "\n",
    "# create an encoder that basically calls nlp(t).vector\n",
    "sbert_encoder = CachedPartitionEncoder(\n",
    "    SpanEncoder(lambda texts: [nlp(t).vector for t in texts])\n",
    ")\n",
    "\n",
    "# compute encodings and/or save cached data\n",
    "sbert_encoder.try_load(\"data/processed_data/doc_embeddings\")\n",
    "sbert_encoder.cache(session.documents, session.partition(\"document\"))\n",
    "sbert_encoder.save(\"data/processed_data/doc_embeddings\")\n",
    "\n",
    "# extract name of encoder for later use\n",
    "sbert_encoder_name = nlp.meta[\"name\"]"
   ]
  },
  {
   "cell_type": "markdown",
   "id": "a323d646",
   "metadata": {},
   "source": [
    "We first present a strategy that creates embeddings for a document using the Sentence-BERT encoder. "
   ]
  },
  {
   "cell_type": "code",
   "execution_count": 30,
   "id": "8a3a06ec",
   "metadata": {},
   "outputs": [
    {
     "data": {
      "application/vnd.bokehjs_exec.v0+json": "",
      "text/html": [
       "\n",
       "<script id=\"2272\">\n",
       "  var xhr = new XMLHttpRequest()\n",
       "  xhr.responseType = 'blob';\n",
       "  xhr.open('GET', \"http://localhost:51007/autoload.js?bokeh-autoload-element=2272&bokeh-absolute-url=http://localhost:51007&resources=none\", true);\n",
       "  \n",
       "  xhr.onload = function (event) {\n",
       "    var script = document.createElement('script'),\n",
       "    src = URL.createObjectURL(event.target.response);\n",
       "    script.src = src;\n",
       "    document.body.appendChild(script);\n",
       "  };\n",
       "xhr.send();\n",
       "</script>"
      ]
     },
     "metadata": {
      "application/vnd.bokehjs_exec.v0+json": {
       "server_id": "bd517e149158456c81489e126e000e12"
      }
     },
     "output_type": "display_data"
    }
   ],
   "source": [
    "embedder = nbutils.DocEmbedder(\n",
    "    session=session,\n",
    "    nlp=nlp,\n",
    "    doc_encoders={sbert_encoder_name: sbert_encoder},\n",
    "    encoder=\"paraphrase_distilroberta\",\n",
    ")\n",
    "embedder.display()"
   ]
  },
  {
   "cell_type": "markdown",
   "id": "db0755a1",
   "metadata": {},
   "source": [
    "Similar to the investigation of token embedding values, we now look at the feature dimensions of the document embeddings. In the following plot we observe that the pattern \"an old man is twice a child\" and the corresponding text reuses from the gold standard (i.e. the true positives) show some salient contribution around dimensions 25 and 300 (see the 5 upper rows). When comparing the same pattern with non-matching text reuse occurences from the \"go, by Saint Hieronimo\" pattern on the other hand (see the 5 lower rows), there is less activation in these areas. Therefore these areas seem to offer some good features to differentiate the matching of a pattern with the correct occurrences."
   ]
  },
  {
   "cell_type": "code",
   "execution_count": 31,
   "id": "2d2e9473",
   "metadata": {},
   "outputs": [
    {
     "data": {
      "application/vnd.jupyter.widget-view+json": {
       "model_id": "bea79418868c4bdba6033d4218616a09",
       "version_major": 2,
       "version_minor": 0
      },
      "text/plain": [
       "interactive(children=(Dropdown(description='pattern', index=4, layout=Layout(width='max-content'), options=('t…"
      ]
     },
     "metadata": {},
     "output_type": "display_data"
    }
   ],
   "source": [
    "bars = nbutils.DocEmbeddingBars(embedder, session, gold_data)\n",
    "bars.plot(\"an old man is twice a child\", \"Saint Hieronimo\")"
   ]
  },
  {
   "cell_type": "markdown",
   "id": "cc59876d",
   "metadata": {},
   "source": [
    "Instead of focusing on only one pattern, we now look at a plot of the embeddings of all documents in our gold standard data. The plot uses a dimensionality reduction technique known as t-Distributed Stochastic Neighbor Embedding (t-SNE) and allows us to reduce multiple dimensions to just two dimensions."
   ]
  },
  {
   "cell_type": "code",
   "execution_count": 33,
   "id": "6a3a0c1c",
   "metadata": {},
   "outputs": [
    {
     "data": {
      "application/vnd.bokehjs_exec.v0+json": "",
      "text/html": [
       "\n",
       "<script id=\"2426\">\n",
       "  var xhr = new XMLHttpRequest()\n",
       "  xhr.responseType = 'blob';\n",
       "  xhr.open('GET', \"http://localhost:51010/autoload.js?bokeh-autoload-element=2426&bokeh-absolute-url=http://localhost:51010&resources=none\", true);\n",
       "  \n",
       "  xhr.onload = function (event) {\n",
       "    var script = document.createElement('script'),\n",
       "    src = URL.createObjectURL(event.target.response);\n",
       "    script.src = src;\n",
       "    document.body.appendChild(script);\n",
       "  };\n",
       "xhr.send();\n",
       "</script>"
      ]
     },
     "metadata": {
      "application/vnd.bokehjs_exec.v0+json": {
       "server_id": "41425d98ea2f4fc8bbc6c27378a8890a"
      }
     },
     "output_type": "display_data"
    }
   ],
   "source": [
    "doc_embedding_explorer = nbutils.DocEmbeddingExplorer(\n",
    "    session=session,\n",
    "    nlp=nlp,\n",
    "    gold=gold_data,\n",
    "    doc_encoders={sbert_encoder_name: sbert_encoder},\n",
    ")\n",
    "\n",
    "doc_embedding_explorer.plot(\n",
    "    [\n",
    "        {\n",
    "            \"encoder\": \"paraphrase_distilroberta\",\n",
    "            \"locator\": (\"fixed\", \"carry coals\")\n",
    "        },\n",
    "        {\n",
    "            \"encoder\": \"paraphrase_distilroberta\",\n",
    "            \"locator\": (\"fixed\", \"an old man is twice\"),\n",
    "        },\n",
    "    ]\n",
    ")\n",
    "\n",
    "pass"
   ]
  },
  {
   "cell_type": "markdown",
   "id": "247dee41",
   "metadata": {},
   "source": [
    "In the t-SNE visualization above, the dots represent documents and the colors represent the query that results in this document in our gold standard (more details on the underlying documents are shown when hovering the mouse cursor over the nodes). Dots that are close to each other indicate that the underlying documents share a certain similarity. Nearby dots of the same color indicate that the embedding tends to cluster documents similar to our gold standard."
   ]
  },
  {
   "cell_type": "markdown",
   "id": "d8d40738",
   "metadata": {},
   "source": [
    "In the left plot, we searched for the phrase \"we will not carry coals\" (visualized as large yellow circle with a cross). The plot shows that the query is in fact part of a document cluster (smaller green-yellow circles) that contains a variation of that phrase. Similarly, on the right we see that the phrase \"an old man is twice a child\" clusters with the actual (green) documents we associate with it in our gold standard.\n",
    "\n",
    "For these phrases and documents, the `paraphrase_distilroberta` model automatically produces a document embedding that actually recognizes and separates inherent structures."
   ]
  },
  {
   "cell_type": "markdown",
   "id": "118dd3d5",
   "metadata": {},
   "source": [
    "In the plot above we looked at the document embedding produced by a **token-based** embedding. This has the advantage that we can actually look at token embeddings that make up the document embedding (through averaging), which we will do in the following plot. On the right side, we see a t-SNE plot of all the token embeddings that occur in the documents that are selected on the left. This visualization makes more transparent why certain documents on the left are clustered to be similar."
   ]
  },
  {
   "cell_type": "code",
   "execution_count": 35,
   "id": "13942a2e",
   "metadata": {},
   "outputs": [
    {
     "data": {
      "application/vnd.bokehjs_exec.v0+json": "",
      "text/html": [
       "\n",
       "<script id=\"2429\">\n",
       "  var xhr = new XMLHttpRequest()\n",
       "  xhr.responseType = 'blob';\n",
       "  xhr.open('GET', \"http://localhost:51011/autoload.js?bokeh-autoload-element=2429&bokeh-absolute-url=http://localhost:51011&resources=none\", true);\n",
       "  \n",
       "  xhr.onload = function (event) {\n",
       "    var script = document.createElement('script'),\n",
       "    src = URL.createObjectURL(event.target.response);\n",
       "    script.src = src;\n",
       "    document.body.appendChild(script);\n",
       "  };\n",
       "xhr.send();\n",
       "</script>"
      ]
     },
     "metadata": {
      "application/vnd.bokehjs_exec.v0+json": {
       "server_id": "404312cae02b40b2b3cbcf82b96906da"
      }
     },
     "output_type": "display_data"
    }
   ],
   "source": [
    "doc_embedding_explorer.plot(\n",
    "    [\n",
    "        {\n",
    "            \"encoder\": \"numberbatch\",\n",
    "            \"selection\": [\n",
    "                \"ww_32c26a7909c83bda\",\n",
    "                \"ww_b5b8083a6a1282bc\",\n",
    "                \"ww_9a6cb20b0b157545\",\n",
    "                \"ww_a6f4b0e3428ad510\",\n",
    "                \"ww_8e68a517bc3ecceb\",\n",
    "            ],\n",
    "        }\n",
    "    ]\n",
    ")\n",
    "\n",
    "pass"
   ]
  },
  {
   "cell_type": "markdown",
   "id": "d3cda845",
   "metadata": {},
   "source": [
    "The red circles on the left represent contexts that match the phrase \"a horse, a horse, my kingdom for a horse\". When we look at the token embeddings in the right plot (that includes other documents as well), we  see that a group is formed due to word embeddings that cluster around \"horse\", but we also see a cluster around \"boat\", \"sail\" and \"river\" on the left. In fact document 1 contains \"muscle boat\", document 2 contains \"To swim the river villain\", and document 3 contains \"A boat, a boat\". We see that this kind of unsupervised document clustering groups items due to inherent qualities that might not actually match the initial query criteria."
   ]
  },
  {
   "cell_type": "markdown",
   "id": "e5041ac3",
   "metadata": {},
   "source": [
    "Custom token embedding plots can be generated by selecting different documents from the left plot (drag the mouse to lasso)."
   ]
  },
  {
   "cell_type": "markdown",
   "id": "0c10659f",
   "metadata": {},
   "source": [
    "## 3.3 Exploring word mappings: WSB vs. WMD <a class=\"anchor\" id=\"section_3_3\"></a>"
   ]
  },
  {
   "cell_type": "markdown",
   "id": "1c044ad9",
   "metadata": {},
   "source": [
    "So far, we have experimented with different token embeddings and seen how similarity comparison can be implemented for single tokens. However, for the detection of intertextual references it is necessary to compare longer token sequences with each other. The problem here is to identify the right segment in the target text, because a quotation like \"to be or not to be\" will occur as a local phenomenon, only at a certain position in a document. The rest of the document will likely be sentences that do not match with the quote phrase at all. To identify the segment where a potential quote occurs, there are different approaches. "
   ]
  },
  {
   "cell_type": "markdown",
   "id": "16977478",
   "metadata": {},
   "source": [
    "One popular class of techniques are sequence alignment algorithms as well as adjacent approaches like Dynamic Time Warping, see Kruskal (1983). In this section, we introduce the **<a href=\"http://rna.informatik.uni-freiburg.de/Teaching/index.jsp?toolName=Waterman-Smith-Beyer\" target=\"_blank\">Waterman-Smith-Beyer</a> (WSB)** algorithm, which produces optimal local alignments and provides a general (e.g. non-affine) cost function (Waterman, Smith & Beyer, 1974). Other commonly used global alignment algorithms - such as <a href=\"http://rna.informatik.uni-freiburg.de/Teaching/index.jsp?toolName=Smith-Waterman\" target=\"_blank\">Smith-Waterman</a> and <a href=\"http://rna.informatik.uni-freiburg.de/Teaching/index.jsp?toolName=Gotoh\" target=\"_blank\">Gotoh</a> - can be regarded as special cases of WSB. In comparison to the popular Needleman-Wunsch global alignment algorithm, WSB produces local alignments. In contrast to classic formulations of WSB - which often use a fixed substitution cost - we use the word distance from word embeddings to compute the substitution penalty for specific pairs of words."
   ]
  },
  {
   "cell_type": "markdown",
   "id": "03983ce2",
   "metadata": {},
   "source": [
    "Another approach to compute a measure of similarity between bags of words is the so-called **<a href=\"https://nbviewer.jupyter.org/github/vene/vene.github.io/blob/pelican/content/blog/word-movers-distance-in-python.ipynb\" target=\"_blank\">Word Mover's Distance</a>** introduced by Kusner et al. (2015). The main idea is computing similarity through finding the optimal solution of a transportation problem between words.\n",
    "\n",
    "In the following, we will actually experiment with two variants of the WMD. In addition to the classic WMD, where a transportation problem is solved over the normalized bag of words (nbow) vector, we also introduce a new variant of WMD. In this new variant, we keep the bag of words (bow) unnormalized, i.e. we pose the transportation problem on absolute word occurrence counts."
   ]
  },
  {
   "cell_type": "markdown",
   "id": "cd2e18bd",
   "metadata": {},
   "source": [
    "Note: document embeddings do not need any of the above techniques, as they embed documents into a vector space in a way that queries and target documents that share similar features are close to each other in that space."
   ]
  },
  {
   "cell_type": "markdown",
   "id": "351b6557",
   "metadata": {},
   "source": [
    "### 3.3.1 Mapping quote queries to longer text documents <a class=\"anchor\" id=\"section_3_3_1\"></a>"
   ]
  },
  {
   "cell_type": "code",
   "execution_count": 36,
   "id": "58f33423",
   "metadata": {},
   "outputs": [],
   "source": [
    "def make_index_builder(**kwargs):\n",
    "    return nbutils.InteractiveIndexBuilder(\n",
    "        session, nlp, partition_encoders={sbert_encoder_name: sbert_encoder}, **kwargs\n",
    "    )"
   ]
  },
  {
   "cell_type": "code",
   "execution_count": 37,
   "id": "3448bfae",
   "metadata": {},
   "outputs": [
    {
     "data": {
      "application/vnd.jupyter.widget-view+json": {
       "model_id": "101f5cf15b5d49eaa4e3f9d93898bfb4",
       "version_major": 2,
       "version_minor": 0
      },
      "text/plain": [
       "Tab(children=(HTML(value='<span style=\"line-height:normal;\"><p>Partition similarity is computed via <b>alignme…"
      ]
     },
     "metadata": {},
     "output_type": "display_data"
    }
   ],
   "source": [
    "index_builder = make_index_builder()\n",
    "index_builder"
   ]
  },
  {
   "cell_type": "markdown",
   "id": "525a45d8",
   "metadata": {},
   "source": [
    "What can be seen above is the description of a search strategy that we will employ in the following sections of this notebook. By switching to the \"Edit\" part, it is possible to explore the settings in more detail and even change them to something completely different. Note that various parameters in the \"Edit\" GUI - e.g. mixing of embeddings - are beyond the scope of this notebook. For for more details see Liebl & Burghardt (2020a/b)."
   ]
  },
  {
   "cell_type": "markdown",
   "id": "afeab1a4",
   "metadata": {},
   "source": [
    "Example: For the pattern \"old men's crotchets\" we find the following top matches (\"We old men have our crotchets\"), with a similarity score of 77.7%. By increasing the n value we can always display more ranked results."
   ]
  },
  {
   "cell_type": "code",
   "execution_count": 38,
   "id": "2e79f163",
   "metadata": {},
   "outputs": [
    {
     "data": {
      "text/html": [
       "\n",
       "\t<iframe\n",
       "\t\tid=\"vectorian-1632829799374554000-11318015792-1\"\n",
       "\t\twidth=\"100%\"\n",
       "\t\theight=\"100%\"\n",
       "\t\tsrcdoc=\"&lt;!DOCTYPE html&gt;&lt;html&gt;&lt;head&gt;&lt;meta charset=&quot;utf-8&quot;&gt;&lt;meta name=&quot;viewport&quot; content=&quot;width=device-width, initial-scale=1&quot;&gt;&lt;link rel=&quot;stylesheet&quot; href=&quot;https://cdn.jsdelivr.net/npm/bulma@0.9.1/css/bulma.min.css&quot; /&gt;&lt;/head&gt;&lt;body&gt;&lt;div class=&quot;container&quot; height=&quot;100%&quot;&gt;&lt;div class=&quot;section&quot;&gt;&lt;article class=&quot;media&quot;&gt;&lt;div class=&quot;media-left&quot;&gt;&lt;p class=&quot;image is-64x64&quot;&gt;&lt;span class=&quot;buttons&quot;&gt;&lt;span class=&quot;has-text-weight-bold&quot;&gt;77.7%&lt;/span&gt;&lt;/span&gt;&lt;/p&gt;&lt;/div&gt;&lt;div class=&quot;media-content&quot;&gt;&lt;div class=&quot;is-pulled-right&quot;&gt;&lt;small&gt;Lording Barry&lt;/small&gt;&lt;small class=&quot;is-italic&quot;&gt;, Ram Alley (1608)&lt;/small&gt;&lt;/div&gt;&lt;div&gt;&lt;br /&gt;&lt;br /&gt;&lt;span&gt;&lt;span class=&quot;has-text-grey-light&quot;&gt;Sir Oliver Smallshank:] We &lt;/span&gt; &lt;span&gt;&lt;span style=&quot;display:inline-table;&quot;&gt;&lt;span style=&quot;display:table-row;&quot;&gt;&lt;span style=&quot;display:table-cell;&quot;&gt;&lt;span class=&quot;has-text-black has-text-weight-bold&quot;&gt;old&lt;/span&gt; &lt;/span&gt;&lt;span style=&quot;display:table-cell;&quot;&gt;&lt;span class=&quot;tag is-light&quot;&gt;old&lt;/span&gt; &lt;/span&gt;&lt;span style=&quot;display:table-cell; opacity:1.0;&quot;&gt;&lt;span class=&quot;tag is-success&quot;&gt;100%&lt;/span&gt;&lt;/span&gt;&lt;/span&gt;&lt;/span&gt;&lt;/span&gt; &lt;span&gt;&lt;span style=&quot;display:inline-table;&quot;&gt;&lt;span style=&quot;display:table-row;&quot;&gt;&lt;span style=&quot;display:table-cell;&quot;&gt;&lt;span class=&quot;has-text-black has-text-weight-bold&quot;&gt;men&lt;/span&gt; &lt;/span&gt;&lt;span style=&quot;display:table-cell;&quot;&gt;&lt;span class=&quot;tag is-light&quot;&gt;men&lt;/span&gt; &lt;/span&gt;&lt;span style=&quot;display:table-cell; opacity:1.0;&quot;&gt;&lt;span class=&quot;tag is-success&quot;&gt;100%&lt;/span&gt;&lt;/span&gt;&lt;/span&gt;&lt;/span&gt;&lt;/span&gt; &lt;span class=&quot;has-text-grey-light&quot;&gt;have &lt;/span&gt; &lt;span&gt;&lt;span style=&quot;display:inline-table;&quot;&gt;&lt;span style=&quot;display:table-row;&quot;&gt;&lt;span style=&quot;display:table-cell;&quot;&gt;&lt;span class=&quot;has-text-black has-text-weight-bold&quot;&gt;our&lt;/span&gt; &lt;/span&gt;&lt;span style=&quot;display:table-cell;&quot;&gt;&lt;span class=&quot;tag is-light&quot;&gt;&#x27;s&lt;/span&gt; &lt;/span&gt;&lt;span style=&quot;display:table-cell; opacity:1.0;&quot;&gt;&lt;span class=&quot;tag is-warning&quot;&gt;31%&lt;/span&gt;&lt;/span&gt;&lt;/span&gt;&lt;/span&gt;&lt;/span&gt; &lt;span&gt;&lt;span style=&quot;display:inline-table;&quot;&gt;&lt;span style=&quot;display:table-row;&quot;&gt;&lt;span style=&quot;display:table-cell;&quot;&gt;&lt;span class=&quot;has-text-black has-text-weight-bold&quot;&gt;crotchets&lt;/span&gt; &lt;/span&gt;&lt;span style=&quot;display:table-cell;&quot;&gt;&lt;span class=&quot;tag is-light&quot;&gt;crotchets&lt;/span&gt; &lt;/span&gt;&lt;span style=&quot;display:table-cell; opacity:1.0;&quot;&gt;&lt;span class=&quot;tag is-success&quot;&gt;100%&lt;/span&gt;&lt;/span&gt;&lt;/span&gt;&lt;/span&gt;&lt;/span&gt; &lt;span class=&quot;has-text-grey-light&quot;&gt;our conundrums, Our fegares, quirks and quibibles, As well as &lt;/span&gt;&lt;/span&gt;&lt;/div&gt;&lt;/div&gt;&lt;/article&gt;&lt;article class=&quot;media&quot;&gt;&lt;div class=&quot;media-left&quot;&gt;&lt;p class=&quot;image is-64x64&quot;&gt;&lt;span class=&quot;buttons&quot;&gt;&lt;span class=&quot;has-text-weight-bold&quot;&gt;51.9%&lt;/span&gt;&lt;/span&gt;&lt;/p&gt;&lt;/div&gt;&lt;div class=&quot;media-content&quot;&gt;&lt;div class=&quot;is-pulled-right&quot;&gt;&lt;small&gt;John Milton&lt;/small&gt;&lt;small class=&quot;is-italic&quot;&gt;, Samson Agonistes (1671)&lt;/small&gt;&lt;/div&gt;&lt;div&gt;&lt;br /&gt;&lt;br /&gt;&lt;span&gt;&lt;span class=&quot;has-text-grey-light&quot;&gt;revealed, and should not. Nor shouldst thou have trusted that &lt;/span&gt; &lt;span&gt;&lt;span style=&quot;display:inline-table;&quot;&gt;&lt;span style=&quot;display:table-row;&quot;&gt;&lt;span style=&quot;display:table-cell;&quot;&gt;&lt;span class=&quot;has-text-black has-text-weight-bold&quot;&gt;to&lt;/span&gt; &lt;/span&gt;&lt;span style=&quot;display:table-cell;&quot;&gt;&lt;span class=&quot;tag is-light&quot;&gt;old&lt;/span&gt; &lt;/span&gt;&lt;span style=&quot;display:table-cell; opacity:1.0;&quot;&gt;&lt;span class=&quot;tag is-warning&quot;&gt;15%&lt;/span&gt;&lt;/span&gt;&lt;/span&gt;&lt;/span&gt;&lt;/span&gt; &lt;span&gt;&lt;span style=&quot;display:inline-table;&quot;&gt;&lt;span style=&quot;display:table-row;&quot;&gt;&lt;span style=&quot;display:table-cell;&quot;&gt;&lt;span class=&quot;has-text-black has-text-weight-bold&quot;&gt;woman&lt;/span&gt; &lt;/span&gt;&lt;span style=&quot;display:table-cell;&quot;&gt;&lt;span class=&quot;tag is-light&quot;&gt;men&lt;/span&gt; &lt;/span&gt;&lt;span style=&quot;display:table-cell; opacity:1.0;&quot;&gt;&lt;span class=&quot;tag is-warning&quot;&gt;52%&lt;/span&gt;&lt;/span&gt;&lt;/span&gt;&lt;/span&gt;&lt;/span&gt; &lt;span&gt;&lt;span style=&quot;display:inline-table;&quot;&gt;&lt;span style=&quot;display:table-row;&quot;&gt;&lt;span style=&quot;display:table-cell;&quot;&gt;&lt;span class=&quot;has-text-black has-text-weight-bold&quot;&gt;&amp;#x27;s&lt;/span&gt; &lt;/span&gt;&lt;span style=&quot;display:table-cell;&quot;&gt;&lt;span class=&quot;tag is-light&quot;&gt;&#x27;s&lt;/span&gt; &lt;/span&gt;&lt;span style=&quot;display:table-cell; opacity:1.0;&quot;&gt;&lt;span class=&quot;tag is-success&quot;&gt;100%&lt;/span&gt;&lt;/span&gt;&lt;/span&gt;&lt;/span&gt;&lt;/span&gt; &lt;span&gt;&lt;span style=&quot;display:inline-table;&quot;&gt;&lt;span style=&quot;display:table-row;&quot;&gt;&lt;span style=&quot;display:table-cell;&quot;&gt;&lt;span class=&quot;has-text-black has-text-weight-bold&quot;&gt;frailty&lt;/span&gt; &lt;/span&gt;&lt;span style=&quot;display:table-cell;&quot;&gt;&lt;span class=&quot;tag is-light&quot;&gt;crotchets&lt;/span&gt; &lt;/span&gt;&lt;span style=&quot;display:table-cell; opacity:1.0;&quot;&gt;&lt;span class=&quot;tag is-warning&quot;&gt;40%&lt;/span&gt;&lt;/span&gt;&lt;/span&gt;&lt;/span&gt;&lt;/span&gt; &lt;span class=&quot;has-text-grey-light&quot;&gt;Ere I to thee, thou to thyself wast cruel&lt;/span&gt;&lt;/span&gt;&lt;/div&gt;&lt;/div&gt;&lt;/article&gt;&lt;/div&gt;&lt;/div&gt;&lt;/body&gt;&lt;/html&gt;&lt;script&gt;\n",
       "\t\t(function() {\n",
       "\t\t\tvar f = parent.document.getElementById(&#x27;vectorian-1632829799374554000-11318015792-1&#x27;);\n",
       "\t\t\tf.height = f.contentWindow.document.body.scrollHeight + &#x27;px&#x27;;\n",
       "\t\t})();\n",
       "\t&lt;/script&gt;\"\n",
       "\t\tonload=\"\n",
       "\t\t(function() {\n",
       "\t\t\tvar f = parent.document.getElementById('vectorian-1632829799374554000-11318015792-1');\n",
       "\t\t\tf.height = f.contentWindow.document.body.scrollHeight + 'px';\n",
       "\t\t})();\n",
       "\t\"\n",
       "\t\tframeborder=\"0\"\n",
       "\t\tallowfullscreen\n",
       "\t></iframe>\n",
       "\t"
      ],
      "text/plain": [
       "<vectorian.session.LabResult at 0x2a29c7f10>"
      ]
     },
     "execution_count": 38,
     "metadata": {},
     "output_type": "execute_result"
    }
   ],
   "source": [
    "index_builder.build_index().find(\"old men's crotchets\", n=2)"
   ]
  },
  {
   "cell_type": "markdown",
   "id": "c70e87a9",
   "metadata": {},
   "source": [
    "### 3.3.2 Evaluation: Plotting the nDCG over the corpus <a class=\"anchor\" id=\"section_3_3_2\"></a>"
   ]
  },
  {
   "cell_type": "markdown",
   "id": "d56b2b2f",
   "metadata": {},
   "source": [
    "In the following we will systematically evaluate different strategies for identifying intertextuality in our gold standard data. We investigate WSB and the two variants of WMD (bow vs. nbow) in combination with the fastText embedding. As another variant we evaluate the performance of Sentence-BERT document embeddings. The evaluation metric is **normalized discounted cumulative gain** [(nDCG)](https://en.wikipedia.org/wiki/Discounted_cumulative_gain) (also see Liebl & Burghardt, 2020b).\n",
    "\n",
    "Each specific query (on a *phrase*) operates on a corpus consisting of a set of documents\n",
    "\n",
    "$D = d_1, ..., d_n$\n",
    "\n",
    "In our case n = 100. Furthermore, we call the set of relevant document for this query R, with\n",
    "\n",
    "$R = r_1, ..., r_k$\n",
    "\n",
    "In other words, R models the ground truth as the results we regard as optimal for a specific query. In our case R is the set of *occurence*s stored for the queried *phrase* in our ground truth.\n",
    "\n",
    "If the documents we actually retrieve are numbered\n",
    "\n",
    "$x_1, ..., x_n$\n",
    "\n",
    "in order of their score (highest first), then the nDCG for that specific retrieval is defined as follows:"
   ]
  },
  {
   "cell_type": "markdown",
   "id": "302b969a-7562-4ac5-bec3-3150514cd7ec",
   "metadata": {},
   "source": [
    "$$\n",
    "rel_i=\\begin{cases}\n",
    "    1 & \\text{if } x_i \\in R,\\\\\n",
    "    0 & \\text{if } x_i \\notin R,\n",
    "  \\end{cases}, \\hspace{1em}\n",
    "DCG_n=\\sum_{i=1}^{n}\\frac{rel_i}{log_2 (i+1)}, \\hspace{1em}\n",
    "IDCG_k=\\sum_{i=1}^{k}\\frac{1}{log_2 (i+1)}, \\hspace{1em}\n",
    "nDCG=\\frac{DCG_n}{IDCG_k}\n",
    "$$"
   ]
  },
  {
   "cell_type": "markdown",
   "id": "f22449b9",
   "metadata": {},
   "source": [
    "In the summary below you will find more detailed descriptions of the search strategies that will be evaluated in the following. By using \"Edit\", it is possible to change these settings to something else (a rerun of the following sections of the notebook would then be necessary)."
   ]
  },
  {
   "cell_type": "code",
   "execution_count": 39,
   "id": "203ab1e3",
   "metadata": {},
   "outputs": [
    {
     "data": {
      "application/vnd.jupyter.widget-view+json": {
       "model_id": "a887e03424c44fec8d5644900dcd0f9a",
       "version_major": 2,
       "version_minor": 0
      },
      "text/plain": [
       "Accordion(children=(Tab(children=(HTML(value='<span style=\"line-height:normal;\"><p>Partition similarity is com…"
      ]
     },
     "metadata": {},
     "output_type": "display_data"
    }
   ],
   "source": [
    "import collections\n",
    "import ipywidgets as widgets\n",
    "\n",
    "# define 4 different search stratgies via make_index_builder \n",
    "index_builders = collections.OrderedDict(\n",
    "    {\n",
    "        \"wsb\": make_index_builder(\n",
    "            strategy=\"Alignment\",\n",
    "            strategy_options={\n",
    "                \"alignment\": vectorian.alignment.LocalAlignment(\n",
    "                    gap={\n",
    "                        \"s\": vectorian.alignment.smooth_gap_cost(5),\n",
    "                        \"t\": vectorian.alignment.smooth_gap_cost(5)\n",
    "                    }\n",
    "                )\n",
    "            },\n",
    "        ),\n",
    "        \"wmd nbow\": make_index_builder(\n",
    "            strategy=\"Alignment\",\n",
    "            strategy_options={\n",
    "                \"alignment\": vectorian.alignment.WordMoversDistance.wmd(\"nbow\")\n",
    "            },\n",
    "        ),\n",
    "        \"wmd bow\": make_index_builder(\n",
    "            strategy=\"Alignment\",\n",
    "            strategy_options={\n",
    "                \"alignment\": vectorian.alignment.WordMoversDistance.wmd(\"bow\")\n",
    "            },\n",
    "        ),\n",
    "        \"doc embedding\": make_index_builder(strategy=\"Partition Embedding\"),\n",
    "    }\n",
    ")\n",
    "\n",
    "# present UI of various options that allows for editing\n",
    "accordion = widgets.Accordion(children=[x.displayable for x in index_builders.values()])\n",
    "for i, k in enumerate(index_builders.keys()):\n",
    "    accordion.set_title(i, k)\n",
    "accordion"
   ]
  },
  {
   "cell_type": "markdown",
   "id": "4b5bf126",
   "metadata": {},
   "source": [
    "With the following command we will get an overview of the quality of the results we obtain when using the index configures with `index_builder` by computing the nDCG over the 20 queries in our gold standard with regard to the known optimal results (this may take a few seconds)."
   ]
  },
  {
   "cell_type": "code",
   "execution_count": 40,
   "id": "d34c972d",
   "metadata": {},
   "outputs": [
    {
     "data": {
      "application/vnd.jupyter.widget-view+json": {
       "model_id": "cd75fc4ba11548339df7efc87bd6e541",
       "version_major": 2,
       "version_minor": 0
      },
      "text/plain": [
       "  0%|          | 0/80 [00:00<?, ?it/s]"
      ]
     },
     "metadata": {},
     "output_type": "display_data"
    },
    {
     "data": {
      "text/html": [
       "\n",
       "\n",
       "\n",
       "\n",
       "\n",
       "\n",
       "  <div class=\"bk-root\" id=\"f6330cd5-ea2d-42a7-9cad-c182bace753a\" data-root-id=\"2451\"></div>\n"
      ]
     },
     "metadata": {},
     "output_type": "display_data"
    },
    {
     "data": {
      "application/javascript": [
       "(function(root) {\n",
       "  function embed_document(root) {\n",
       "    \n",
       "  var docs_json = {\"3095469d-c2d5-414f-bcba-86cb359676a7\":{\"defs\":[],\"roots\":{\"references\":[{\"attributes\":{\"below\":[{\"id\":\"2461\"}],\"center\":[{\"id\":\"2464\"},{\"id\":\"2467\"},{\"id\":\"2477\"}],\"height\":1600,\"left\":[{\"id\":\"2465\"}],\"renderers\":[{\"id\":\"2475\"}],\"title\":{\"id\":\"2452\"},\"toolbar\":{\"id\":\"2468\"},\"toolbar_location\":null,\"width\":800,\"x_range\":{\"id\":\"2469\"},\"x_scale\":{\"id\":\"2457\"},\"y_range\":{\"id\":\"2450\"},\"y_scale\":{\"id\":\"2459\"}},\"id\":\"2451\",\"subtype\":\"Figure\",\"type\":\"Plot\"},{\"attributes\":{\"source\":{\"id\":\"2470\"}},\"id\":\"2476\",\"type\":\"CDSView\"},{\"attributes\":{\"fill_alpha\":{\"value\":0.1},\"fill_color\":{\"field\":\"color\",\"transform\":{\"id\":\"2471\"}},\"line_alpha\":{\"value\":0.1},\"line_color\":{\"field\":\"color\",\"transform\":{\"id\":\"2471\"}},\"right\":{\"field\":\"ndcg\"},\"y\":{\"field\":\"phrase\"}},\"id\":\"2474\",\"type\":\"HBar\"},{\"attributes\":{},\"id\":\"2538\",\"type\":\"CategoricalTickFormatter\"},{\"attributes\":{\"data\":{\"color\":{\"__ndarray__\":\"AAAAAAAAAABVVVVVVVXVP1VVVVVVVeU/AAAAAAAA8D8AAAAAAAAAAFVVVVVVVdU/VVVVVVVV5T8AAAAAAADwPwAAAAAAAAAAVVVVVVVV1T9VVVVVVVXlPwAAAAAAAPA/AAAAAAAAAABVVVVVVVXVP1VVVVVVVeU/AAAAAAAA8D8AAAAAAAAAAFVVVVVVVdU/VVVVVVVV5T8AAAAAAADwPwAAAAAAAAAAVVVVVVVV1T9VVVVVVVXlPwAAAAAAAPA/AAAAAAAAAABVVVVVVVXVP1VVVVVVVeU/AAAAAAAA8D8AAAAAAAAAAFVVVVVVVdU/VVVVVVVV5T8AAAAAAADwPwAAAAAAAAAAVVVVVVVV1T9VVVVVVVXlPwAAAAAAAPA/AAAAAAAAAABVVVVVVVXVP1VVVVVVVeU/AAAAAAAA8D8AAAAAAAAAAFVVVVVVVdU/VVVVVVVV5T8AAAAAAADwPwAAAAAAAAAAVVVVVVVV1T9VVVVVVVXlPwAAAAAAAPA/AAAAAAAAAABVVVVVVVXVP1VVVVVVVeU/AAAAAAAA8D8AAAAAAAAAAFVVVVVVVdU/VVVVVVVV5T8AAAAAAADwPwAAAAAAAAAAVVVVVVVV1T9VVVVVVVXlPwAAAAAAAPA/AAAAAAAAAABVVVVVVVXVP1VVVVVVVeU/AAAAAAAA8D8AAAAAAAAAAFVVVVVVVdU/VVVVVVVV5T8AAAAAAADwPwAAAAAAAAAAVVVVVVVV1T9VVVVVVVXlPwAAAAAAAPA/AAAAAAAAAABVVVVVVVXVP1VVVVVVVeU/AAAAAAAA8D8AAAAAAAAAAFVVVVVVVdU/VVVVVVVV5T8AAAAAAADwPwAAAAAAAAAAVVVVVVVV1T9VVVVVVVXlPwAAAAAAAPA/AAAAAAAAAABVVVVVVVXVP1VVVVVVVeU/AAAAAAAA8D8=\",\"dtype\":\"float64\",\"order\":\"little\",\"shape\":[88]},\"ndcg\":{\"__ndarray__\":\"AAAAAAAA8D8AAAAAAADwPw3M0AFVc+c/AAAAAAAA8D9C0YTZaZDnP8rV+HarKOA/BraH0gBa7T8i7qLgmgPsPwAAAAAAAPA/ch1uxGwt6D92yhiMcfPsPwAAAAAAAPA/6Izh+8ka7j9wbTTmgv7pP/frNracbus/XXL6/YBq7D8AAAAAAADwPwrFXHQYnOo/xFVlPAEY6T9Z/Uhuc8/pP+zXcQa8quI/6CTqUgZN7j955obRH6HfP+4uNV9vB+U/AAAAAAAA8D9Ql1fYf3rsP/XYLvLYEe8/3QpwGNpz7z9eBOtsOlvuP4FjE/NWnOo/AAAAAAAA8D8AAAAAAADwP3VfecZ2I+4/PGWLik3a2j+baGP7lSflP3P7J+HKBdg/NgmK/JQm7D9hlELneCnsP9Kc5XTt4O4/NjZs2yaV7j9pHjCyFBDtP2NOF5O5C+M/AAAAAAAA8D/5TKjKQaTvP+gk6lIGTe4/SZkuXrOv6z8AAAAAAADwPwAAAAAAAPA/QsB7XTc97T8+GaOs2qrvPwAAAAAAAPA/AAAAAAAA8D8Rbhb5dcLqPzWWZYb0ve0/HP1prQgy7T+2GwzZS8nvP6aeC3eK6+E/JLzlMd2o5T+Aoul6i0rlP14gFQ085+g/AAAAAAAA8D+SB/FAXULePxZewdUoDO0/e6U8JLpF7j+6u8R6Ki/lP1+6Z86ELuk/vYfmaXxw7j8AAAAAAADwP83XAh2lfOo/NdpRSEdb4D8AAAAAAADwPwAAAAAAAPA/PhmjrNqq7z+Ile9o94LqPz4Zo6zaqu8/AAAAAAAA8D+mRYAne8HrP/KE4Bq7d+4/eeQhvsfV7D+5xOVzrVPvP0tIhVBiEew/VGdNv7LE6D+L3qZFAi/sP1iW3+qNKe0/laaurACs7T9JLabuh4/qP5HZ+L8ERu0/6yuM8Q2M7z8=\",\"dtype\":\"float64\",\"order\":\"little\",\"shape\":[88]},\"ndcg_str\":[\"100.0%\",\"100.0%\",\"73.3%\",\"100.0%\",\"73.6%\",\"50.5%\",\"91.7%\",\"87.5%\",\"100.0%\",\"75.6%\",\"90.5%\",\"100.0%\",\"94.1%\",\"81.2%\",\"85.7%\",\"88.8%\",\"100.0%\",\"83.2%\",\"78.4%\",\"80.7%\",\"58.3%\",\"94.7%\",\"49.4%\",\"65.7%\",\"100.0%\",\"89.0%\",\"97.1%\",\"98.3%\",\"94.9%\",\"83.2%\",\"100.0%\",\"100.0%\",\"94.2%\",\"42.0%\",\"66.1%\",\"37.5%\",\"88.0%\",\"88.0%\",\"96.5%\",\"95.6%\",\"90.8%\",\"59.5%\",\"100.0%\",\"98.9%\",\"94.7%\",\"86.5%\",\"100.0%\",\"100.0%\",\"91.4%\",\"99.0%\",\"100.0%\",\"100.0%\",\"83.6%\",\"92.9%\",\"91.2%\",\"99.3%\",\"56.0%\",\"67.7%\",\"66.5%\",\"77.8%\",\"100.0%\",\"47.3%\",\"90.8%\",\"94.6%\",\"66.2%\",\"78.7%\",\"95.1%\",\"100.0%\",\"82.8%\",\"51.1%\",\"100.0%\",\"100.0%\",\"99.0%\",\"82.8%\",\"99.0%\",\"100.0%\",\"86.7%\",\"95.2%\",\"90.1%\",\"97.9%\",\"87.7%\",\"77.4%\",\"88.1%\",\"91.1%\",\"92.7%\",\"83.0%\",\"91.5%\",\"98.6%\"],\"phrase\":[[\"O all you host of heaven!\",\"doc embedding\"],[\"O all you host of heaven!\",\"wmd bow\"],[\"O all you host of heaven!\",\"wmd nbow\"],[\"O all you host of heaven!\",\"wsb\"],[\"hell itself should gape\",\"doc embedding\"],[\"hell itself should gape\",\"wmd bow\"],[\"hell itself should gape\",\"wmd nbow\"],[\"hell itself should gape\",\"wsb\"],[\"frailty, thy name is woman\",\"doc embedding\"],[\"frailty, thy name is woman\",\"wmd bow\"],[\"frailty, thy name is woman\",\"wmd nbow\"],[\"frailty, thy name is woman\",\"wsb\"],[\"we will not carry coals\",\"doc embedding\"],[\"we will not carry coals\",\"wmd bow\"],[\"we will not carry coals\",\"wmd nbow\"],[\"we will not carry coals\",\"wsb\"],[\"All the world's a stage\",\"doc embedding\"],[\"All the world's a stage\",\"wmd bow\"],[\"All the world's a stage\",\"wmd nbow\"],[\"All the world's a stage\",\"wsb\"],[\"livers white as milk\",\"doc embedding\"],[\"livers white as milk\",\"wmd bow\"],[\"livers white as milk\",\"wmd nbow\"],[\"livers white as milk\",\"wsb\"],[\"I do bear a brain.\",\"doc embedding\"],[\"I do bear a brain.\",\"wmd bow\"],[\"I do bear a brain.\",\"wmd nbow\"],[\"I do bear a brain.\",\"wsb\"],[\"planets strike\",\"doc embedding\"],[\"planets strike\",\"wmd bow\"],[\"planets strike\",\"wmd nbow\"],[\"planets strike\",\"wsb\"],[\"though this be madness, yet\\nthere is method in it\",\"doc embedding\"],[\"though this be madness, yet\\nthere is method in it\",\"wmd bow\"],[\"though this be madness, yet\\nthere is method in it\",\"wmd nbow\"],[\"though this be madness, yet\\nthere is method in it\",\"wsb\"],[\"Illo, ho, ho, my lord\",\"doc embedding\"],[\"Illo, ho, ho, my lord\",\"wmd bow\"],[\"Illo, ho, ho, my lord\",\"wmd nbow\"],[\"Illo, ho, ho, my lord\",\"wsb\"],[\"springes to catch woodcocks\",\"doc embedding\"],[\"springes to catch woodcocks\",\"wmd bow\"],[\"springes to catch woodcocks\",\"wmd nbow\"],[\"springes to catch woodcocks\",\"wsb\"],[\"thereby hangs a tale\",\"doc embedding\"],[\"thereby hangs a tale\",\"wmd bow\"],[\"thereby hangs a tale\",\"wmd nbow\"],[\"thereby hangs a tale\",\"wsb\"],[\"go, by Saint Hieronimo\",\"doc embedding\"],[\"go, by Saint Hieronimo\",\"wmd bow\"],[\"go, by Saint Hieronimo\",\"wmd nbow\"],[\"go, by Saint Hieronimo\",\"wsb\"],[\"a horse, a horse, my kingdom\\nfor a horse\",\"doc embedding\"],[\"a horse, a horse, my kingdom\\nfor a horse\",\"wmd bow\"],[\"a horse, a horse, my kingdom\\nfor a horse\",\"wmd nbow\"],[\"a horse, a horse, my kingdom\\nfor a horse\",\"wsb\"],[\"In my mind's eye\",\"doc embedding\"],[\"In my mind's eye\",\"wmd bow\"],[\"In my mind's eye\",\"wmd nbow\"],[\"In my mind's eye\",\"wsb\"],[\"an old man is twice a child\",\"doc embedding\"],[\"an old man is twice a child\",\"wmd bow\"],[\"an old man is twice a child\",\"wmd nbow\"],[\"an old man is twice a child\",\"wsb\"],[\"The rest is silence.\",\"doc embedding\"],[\"The rest is silence.\",\"wmd bow\"],[\"The rest is silence.\",\"wmd nbow\"],[\"The rest is silence.\",\"wsb\"],[\"pampered jades of Asia\",\"doc embedding\"],[\"pampered jades of Asia\",\"wmd bow\"],[\"pampered jades of Asia\",\"wmd nbow\"],[\"pampered jades of Asia\",\"wsb\"],[\"sea of troubles\",\"doc embedding\"],[\"sea of troubles\",\"wmd bow\"],[\"sea of troubles\",\"wmd nbow\"],[\"sea of troubles\",\"wsb\"],[\"to be or not to be\",\"doc embedding\"],[\"to be or not to be\",\"wmd bow\"],[\"to be or not to be\",\"wmd nbow\"],[\"to be or not to be\",\"wsb\"],[\"\\u25d2 mean\",\"doc embedding\"],[\"\\u25d2 mean\",\"wmd bow\"],[\"\\u25d2 mean\",\"wmd nbow\"],[\"\\u25d2 mean\",\"wsb\"],[\"\\u25d2 median\",\"doc embedding\"],[\"\\u25d2 median\",\"wmd bow\"],[\"\\u25d2 median\",\"wmd nbow\"],[\"\\u25d2 median\",\"wsb\"]],\"tags\":[\"phrase\",\"phrase\",\"phrase\",\"phrase\",\"phrase\",\"phrase\",\"phrase\",\"phrase\",\"phrase\",\"phrase\",\"phrase\",\"phrase\",\"phrase\",\"phrase\",\"phrase\",\"phrase\",\"phrase\",\"phrase\",\"phrase\",\"phrase\",\"phrase\",\"phrase\",\"phrase\",\"phrase\",\"phrase\",\"phrase\",\"phrase\",\"phrase\",\"phrase\",\"phrase\",\"phrase\",\"phrase\",\"phrase\",\"phrase\",\"phrase\",\"phrase\",\"phrase\",\"phrase\",\"phrase\",\"phrase\",\"phrase\",\"phrase\",\"phrase\",\"phrase\",\"phrase\",\"phrase\",\"phrase\",\"phrase\",\"phrase\",\"phrase\",\"phrase\",\"phrase\",\"phrase\",\"phrase\",\"phrase\",\"phrase\",\"phrase\",\"phrase\",\"phrase\",\"phrase\",\"phrase\",\"phrase\",\"phrase\",\"phrase\",\"phrase\",\"phrase\",\"phrase\",\"phrase\",\"phrase\",\"phrase\",\"phrase\",\"phrase\",\"phrase\",\"phrase\",\"phrase\",\"phrase\",\"phrase\",\"phrase\",\"phrase\",\"phrase\",\"stats\",\"stats\",\"stats\",\"stats\",\"stats\",\"stats\",\"stats\",\"stats\"],\"y\":[0,2,4,6,8,10,12,14,16,18,20,22,24,26,28,30,32,34,36,38,40,42,44,46,48,50,52,54,56,58,60,62,64,66,68,70,72,74,76,78,80,82,84,86,88,90,92,94,96,98,100,102,104,106,108,110,112,114,116,118,120,122,124,126,128,130,132,134,136,138,140,142,144,146,148,150,152,154,156,158,160,162,164,166,168,170,172,174]},\"selected\":{\"id\":\"2544\"},\"selection_policy\":{\"id\":\"2545\"}},\"id\":\"2470\",\"type\":\"ColumnDataSource\"},{\"attributes\":{},\"id\":\"2544\",\"type\":\"Selection\"},{\"attributes\":{\"fill_color\":{\"field\":\"color\",\"transform\":{\"id\":\"2471\"}},\"line_color\":{\"field\":\"color\",\"transform\":{\"id\":\"2471\"}},\"right\":{\"field\":\"ndcg\"},\"y\":{\"field\":\"phrase\"}},\"id\":\"2473\",\"type\":\"HBar\"},{\"attributes\":{},\"id\":\"2543\",\"type\":\"AllLabels\"},{\"attributes\":{\"factors\":[[\"O all you host of heaven!\",\"doc embedding\"],[\"O all you host of heaven!\",\"wmd bow\"],[\"O all you host of heaven!\",\"wmd nbow\"],[\"O all you host of heaven!\",\"wsb\"],[\"hell itself should gape\",\"doc embedding\"],[\"hell itself should gape\",\"wmd bow\"],[\"hell itself should gape\",\"wmd nbow\"],[\"hell itself should gape\",\"wsb\"],[\"frailty, thy name is woman\",\"doc embedding\"],[\"frailty, thy name is woman\",\"wmd bow\"],[\"frailty, thy name is woman\",\"wmd nbow\"],[\"frailty, thy name is woman\",\"wsb\"],[\"we will not carry coals\",\"doc embedding\"],[\"we will not carry coals\",\"wmd bow\"],[\"we will not carry coals\",\"wmd nbow\"],[\"we will not carry coals\",\"wsb\"],[\"All the world's a stage\",\"doc embedding\"],[\"All the world's a stage\",\"wmd bow\"],[\"All the world's a stage\",\"wmd nbow\"],[\"All the world's a stage\",\"wsb\"],[\"livers white as milk\",\"doc embedding\"],[\"livers white as milk\",\"wmd bow\"],[\"livers white as milk\",\"wmd nbow\"],[\"livers white as milk\",\"wsb\"],[\"I do bear a brain.\",\"doc embedding\"],[\"I do bear a brain.\",\"wmd bow\"],[\"I do bear a brain.\",\"wmd nbow\"],[\"I do bear a brain.\",\"wsb\"],[\"planets strike\",\"doc embedding\"],[\"planets strike\",\"wmd bow\"],[\"planets strike\",\"wmd nbow\"],[\"planets strike\",\"wsb\"],[\"though this be madness, yet\\nthere is method in it\",\"doc embedding\"],[\"though this be madness, yet\\nthere is method in it\",\"wmd bow\"],[\"though this be madness, yet\\nthere is method in it\",\"wmd nbow\"],[\"though this be madness, yet\\nthere is method in it\",\"wsb\"],[\"Illo, ho, ho, my lord\",\"doc embedding\"],[\"Illo, ho, ho, my lord\",\"wmd bow\"],[\"Illo, ho, ho, my lord\",\"wmd nbow\"],[\"Illo, ho, ho, my lord\",\"wsb\"],[\"springes to catch woodcocks\",\"doc embedding\"],[\"springes to catch woodcocks\",\"wmd bow\"],[\"springes to catch woodcocks\",\"wmd nbow\"],[\"springes to catch woodcocks\",\"wsb\"],[\"thereby hangs a tale\",\"doc embedding\"],[\"thereby hangs a tale\",\"wmd bow\"],[\"thereby hangs a tale\",\"wmd nbow\"],[\"thereby hangs a tale\",\"wsb\"],[\"go, by Saint Hieronimo\",\"doc embedding\"],[\"go, by Saint Hieronimo\",\"wmd bow\"],[\"go, by Saint Hieronimo\",\"wmd nbow\"],[\"go, by Saint Hieronimo\",\"wsb\"],[\"a horse, a horse, my kingdom\\nfor a horse\",\"doc embedding\"],[\"a horse, a horse, my kingdom\\nfor a horse\",\"wmd bow\"],[\"a horse, a horse, my kingdom\\nfor a horse\",\"wmd nbow\"],[\"a horse, a horse, my kingdom\\nfor a horse\",\"wsb\"],[\"In my mind's eye\",\"doc embedding\"],[\"In my mind's eye\",\"wmd bow\"],[\"In my mind's eye\",\"wmd nbow\"],[\"In my mind's eye\",\"wsb\"],[\"an old man is twice a child\",\"doc embedding\"],[\"an old man is twice a child\",\"wmd bow\"],[\"an old man is twice a child\",\"wmd nbow\"],[\"an old man is twice a child\",\"wsb\"],[\"The rest is silence.\",\"doc embedding\"],[\"The rest is silence.\",\"wmd bow\"],[\"The rest is silence.\",\"wmd nbow\"],[\"The rest is silence.\",\"wsb\"],[\"pampered jades of Asia\",\"doc embedding\"],[\"pampered jades of Asia\",\"wmd bow\"],[\"pampered jades of Asia\",\"wmd nbow\"],[\"pampered jades of Asia\",\"wsb\"],[\"sea of troubles\",\"doc embedding\"],[\"sea of troubles\",\"wmd bow\"],[\"sea of troubles\",\"wmd nbow\"],[\"sea of troubles\",\"wsb\"],[\"to be or not to be\",\"doc embedding\"],[\"to be or not to be\",\"wmd bow\"],[\"to be or not to be\",\"wmd nbow\"],[\"to be or not to be\",\"wsb\"],[\"\\u25d2 mean\",\"doc embedding\"],[\"\\u25d2 mean\",\"wmd bow\"],[\"\\u25d2 mean\",\"wmd nbow\"],[\"\\u25d2 mean\",\"wsb\"],[\"\\u25d2 median\",\"doc embedding\"],[\"\\u25d2 median\",\"wmd bow\"],[\"\\u25d2 median\",\"wmd nbow\"],[\"\\u25d2 median\",\"wsb\"]]},\"id\":\"2450\",\"type\":\"FactorRange\"},{\"attributes\":{\"data_source\":{\"id\":\"2470\"},\"glyph\":{\"id\":\"2473\"},\"hover_glyph\":null,\"muted_glyph\":null,\"nonselection_glyph\":{\"id\":\"2474\"},\"view\":{\"id\":\"2476\"}},\"id\":\"2475\",\"type\":\"GlyphRenderer\"},{\"attributes\":{},\"id\":\"2540\",\"type\":\"AllLabels\"},{\"attributes\":{},\"id\":\"2541\",\"type\":\"BasicTickFormatter\"},{\"attributes\":{},\"id\":\"2545\",\"type\":\"UnionRenderers\"},{\"attributes\":{\"high\":1,\"low\":0,\"palette\":[\"#66c2a5\",\"#fc8d62\",\"#8da0cb\",\"#e78ac3\"]},\"id\":\"2471\",\"type\":\"LinearColorMapper\"},{\"attributes\":{},\"id\":\"2466\",\"type\":\"CategoricalTicker\"},{\"attributes\":{\"axis\":{\"id\":\"2465\"},\"dimension\":1,\"ticker\":null,\"visible\":false},\"id\":\"2467\",\"type\":\"Grid\"},{\"attributes\":{\"active_multi\":null},\"id\":\"2468\",\"type\":\"Toolbar\"},{\"attributes\":{\"formatter\":{\"id\":\"2538\"},\"group_label_orientation\":0,\"major_label_policy\":{\"id\":\"2540\"},\"ticker\":{\"id\":\"2466\"}},\"id\":\"2465\",\"type\":\"CategoricalAxis\"},{\"attributes\":{\"axis\":{\"id\":\"2461\"},\"ticker\":null},\"id\":\"2464\",\"type\":\"Grid\"},{\"attributes\":{\"level\":\"glyph\",\"source\":{\"id\":\"2470\"},\"text\":{\"field\":\"ndcg_str\"},\"text_align\":{\"value\":\"right\"},\"text_baseline\":{\"value\":\"middle\"},\"text_color\":{\"value\":\"white\"},\"text_font_size\":{\"value\":\"8pt\"},\"x\":{\"field\":\"ndcg\"},\"y\":{\"field\":\"phrase\"}},\"id\":\"2477\",\"type\":\"LabelSet\"},{\"attributes\":{},\"id\":\"2462\",\"type\":\"BasicTicker\"},{\"attributes\":{\"axis_label\":\"nDCG\",\"formatter\":{\"id\":\"2541\"},\"major_label_policy\":{\"id\":\"2543\"},\"ticker\":{\"id\":\"2462\"}},\"id\":\"2461\",\"type\":\"LinearAxis\"},{\"attributes\":{},\"id\":\"2469\",\"type\":\"Range1d\"},{\"attributes\":{},\"id\":\"2457\",\"type\":\"LinearScale\"},{\"attributes\":{},\"id\":\"2459\",\"type\":\"CategoricalScale\"},{\"attributes\":{},\"id\":\"2452\",\"type\":\"Title\"}],\"root_ids\":[\"2451\"]},\"title\":\"Bokeh Application\",\"version\":\"2.3.3\"}};\n",
       "  var render_items = [{\"docid\":\"3095469d-c2d5-414f-bcba-86cb359676a7\",\"root_ids\":[\"2451\"],\"roots\":{\"2451\":\"f6330cd5-ea2d-42a7-9cad-c182bace753a\"}}];\n",
       "  root.Bokeh.embed.embed_items_notebook(docs_json, render_items);\n",
       "\n",
       "  }\n",
       "  if (root.Bokeh !== undefined) {\n",
       "    embed_document(root);\n",
       "  } else {\n",
       "    var attempts = 0;\n",
       "    var timer = setInterval(function(root) {\n",
       "      if (root.Bokeh !== undefined) {\n",
       "        clearInterval(timer);\n",
       "        embed_document(root);\n",
       "      } else {\n",
       "        attempts++;\n",
       "        if (attempts > 100) {\n",
       "          clearInterval(timer);\n",
       "          console.log(\"Bokeh: ERROR: Unable to run BokehJS code because BokehJS library is missing\");\n",
       "        }\n",
       "      }\n",
       "    }, 10, root)\n",
       "  }\n",
       "})(window);"
      ],
      "application/vnd.bokehjs_exec.v0+json": ""
     },
     "metadata": {
      "application/vnd.bokehjs_exec.v0+json": {
       "id": "2451"
      }
     },
     "output_type": "display_data"
    }
   ],
   "source": [
    "nbutils.plot_ndcgs(\n",
    "    gold_data, dict((k, v.build_index()) for k, v in index_builders.items())\n",
    ");"
   ]
  },
  {
   "cell_type": "markdown",
   "id": "3c628c94",
   "metadata": {},
   "source": [
    "We see that some queries obtain 100%, i.e. the top results match the optimal ones given in our gold standard. We see that Waterman-Smith-Beyer (WSB) tends to perform a little better than Word Mover's Distance (WMD), with the exception of \"though this be madness...\", where WMD outperforms WSB. In general the Vectorian modification of WMD, which does not use nbow, performs better than the original description of WMD. The one exception here is \"livers white as milk\".\n",
    "\n",
    "One advantage of WSB over the full WMD variants is its easy interpretability. WSB produces an alignment that relates one document token to at most one query token. For WMD, this assumption often breaks down, which makes the results harder to understand. We use this characteristic of WSB in the following section to illustrate which mappings actually occur."
   ]
  },
  {
   "cell_type": "markdown",
   "id": "26fd85e5",
   "metadata": {},
   "source": [
    "### 3.3.3 Focussing on single queries <a class=\"anchor\" id=\"section_3_3_3\"></a>"
   ]
  },
  {
   "cell_type": "markdown",
   "id": "8f66f030",
   "metadata": {},
   "source": [
    "We now investigate some queries, for which the performance for WSB is bad, to get a better understanding for why our search fails to obtain the optimal (true positive) results at the top of the result list."
   ]
  },
  {
   "cell_type": "code",
   "execution_count": 41,
   "id": "a94f0e44",
   "metadata": {},
   "outputs": [
    {
     "data": {
      "application/vnd.jupyter.widget-view+json": {
       "model_id": "bfa7da51084f44339ac37bc2798be0c9",
       "version_major": 2,
       "version_minor": 0
      },
      "text/plain": [
       "Tab(children=(HTML(value='<span style=\"line-height:normal;\"><p>Partition similarity is computed via <b>alignme…"
      ]
     },
     "metadata": {},
     "output_type": "display_data"
    }
   ],
   "source": [
    "index_builder = make_index_builder()\n",
    "index_builder"
   ]
  },
  {
   "cell_type": "markdown",
   "id": "96320ac9",
   "metadata": {},
   "source": [
    "We turn to the query with the lowest score (\"though this be madness, yet there is a method in it\") in the previous evaluation, and look at its results in some more detail."
   ]
  },
  {
   "cell_type": "code",
   "execution_count": 43,
   "id": "bdd1f1f6",
   "metadata": {},
   "outputs": [
    {
     "data": {
      "application/vnd.bokehjs_exec.v0+json": "",
      "text/html": [
       "\n",
       "<script id=\"2622\">\n",
       "  var xhr = new XMLHttpRequest()\n",
       "  xhr.responseType = 'blob';\n",
       "  xhr.open('GET', \"http://localhost:51014/autoload.js?bokeh-autoload-element=2622&bokeh-absolute-url=http://localhost:51014&resources=none\", true);\n",
       "  \n",
       "  xhr.onload = function (event) {\n",
       "    var script = document.createElement('script'),\n",
       "    src = URL.createObjectURL(event.target.response);\n",
       "    script.src = src;\n",
       "    document.body.appendChild(script);\n",
       "  };\n",
       "xhr.send();\n",
       "</script>"
      ]
     },
     "metadata": {
      "application/vnd.bokehjs_exec.v0+json": {
       "server_id": "194baede27844187895168efc1eeafba"
      }
     },
     "output_type": "display_data"
    },
    {
     "data": {
      "application/vnd.jupyter.widget-view+json": {
       "model_id": "2c46fe5f771448bdb4c35caa2c36cce3",
       "version_major": 2,
       "version_minor": 0
      },
      "text/plain": [
       "VBox(children=(HTML(value='\\n\\t<iframe\\n\\t\\tid=\"vectorian-1632829812929713000-11322735488-1\"\\n\\t\\twidth=\"100%\"…"
      ]
     },
     "metadata": {},
     "output_type": "display_data"
    }
   ],
   "source": [
    "plot_a = nbutils.plot_results(\n",
    "    gold_data, index_builder.build_index(), \"though this be madness\", rank=7\n",
    ")"
   ]
  },
  {
   "cell_type": "markdown",
   "id": "71aa1df7",
   "metadata": {},
   "source": [
    "The best match obtained here (red bar on rank 7) is anchored on two word matches, namely `madness` (a 100% match) and `methods` (a 72% match). The other words are quite different and there is no good alignment."
   ]
  },
  {
   "cell_type": "code",
   "execution_count": 45,
   "id": "a52b9ee2",
   "metadata": {},
   "outputs": [
    {
     "data": {
      "application/vnd.bokehjs_exec.v0+json": "",
      "text/html": [
       "\n",
       "<script id=\"2993\">\n",
       "  var xhr = new XMLHttpRequest()\n",
       "  xhr.responseType = 'blob';\n",
       "  xhr.open('GET', \"http://localhost:51018/autoload.js?bokeh-autoload-element=2993&bokeh-absolute-url=http://localhost:51018&resources=none\", true);\n",
       "  \n",
       "  xhr.onload = function (event) {\n",
       "    var script = document.createElement('script'),\n",
       "    src = URL.createObjectURL(event.target.response);\n",
       "    script.src = src;\n",
       "    document.body.appendChild(script);\n",
       "  };\n",
       "xhr.send();\n",
       "</script>"
      ]
     },
     "metadata": {
      "application/vnd.bokehjs_exec.v0+json": {
       "server_id": "857f94d13e6143859cf87f6db0831b33"
      }
     },
     "output_type": "display_data"
    },
    {
     "data": {
      "application/vnd.jupyter.widget-view+json": {
       "model_id": "2939c90939f441ef8d4c96d4246418a2",
       "version_major": 2,
       "version_minor": 0
      },
      "text/plain": [
       "VBox(children=(HTML(value='\\n\\t<iframe\\n\\t\\tid=\"vectorian-1632829814810907000-11319926112-1\"\\n\\t\\twidth=\"100%\"…"
      ]
     },
     "metadata": {},
     "output_type": "display_data"
    }
   ],
   "source": [
    "plot_b = nbutils.plot_results(\n",
    "    gold_data, index_builder.build_index(), \"though this be madness\", rank=3\n",
    ")"
   ]
  },
  {
   "cell_type": "markdown",
   "id": "08472e31",
   "metadata": {},
   "source": [
    "Above we see the rank 3 result from the same query, which is a false positive - i.e. our search claims it is a better result than the one we saw before, but in fact this result is not relevant according to our gold standard. If we analyze why this result gets such a high score nonetheless, we see that \"is\" and \"in\" both contribute 100% scores. In contrast to the scores before, 100% for \"madness\" and 72% for \"methods\", this partially explains the higher overall score (if we assume for now that the contributions from the other tokens are somewhat similar).\n",
    "\n",
    "We will now try to understand why the true positive results are ranked rather low. To find a solution for this issue, we will be looking at the composition of scores for each result we obtain for this query:"
   ]
  },
  {
   "cell_type": "code",
   "execution_count": 46,
   "id": "c42e0bb4",
   "metadata": {},
   "outputs": [
    {
     "data": {
      "application/vnd.jupyter.widget-view+json": {
       "model_id": "bdc3a7a940604b1f9ce3b06a31230373",
       "version_major": 2,
       "version_minor": 0
      },
      "text/plain": [
       "interactive(children=(Checkbox(value=False, description='indicate_gap_penalty'), Output()), _dom_classes=('wid…"
      ]
     },
     "metadata": {},
     "output_type": "display_data"
    },
    {
     "data": {
      "text/plain": [
       "<function nbutils.vis_token_scores.<locals>.plot(indicate_gap_penalty)>"
      ]
     },
     "execution_count": 46,
     "metadata": {},
     "output_type": "execute_result"
    }
   ],
   "source": [
    "nbutils.vis_token_scores(\n",
    "    plot_b.matches[:50],\n",
    "    highlight={\"token\": [\"madness\", \"method\"], \"rank\": [6, 20, 35, 45]},\n",
    ")"
   ]
  },
  {
   "cell_type": "markdown",
   "id": "8193d37f",
   "metadata": {},
   "source": [
    "The true positive results are marked with black triangles. We see that our current search strategy isn't doing a very good job of ranking them highly. Looking at the score composition of the relevant results, we can identify two distinct features: all relevant results show a rather large contribution of either \"madness\" (look at rank 6 and rank 35, for example) and/or a rather large contribution of \"method\" (ranks 45 and 6). However, these contributions do not lead to higher ranks necessarily, since other words such as \"is\", \"this\" and \"though\" score higher for other results: for example, look at the contribution of \"in\" for rank 1.\n",
    "\n",
    "In the plot below, we visualize this observation using ranks 1, 6 and 35. Comparing the rank 1 result on the left - which is a false positive - with the two relevant results on the right, we see that \"in\", \"through\" and \"is\" make up for large parts of the score for rank 1, whereas \"madness\" is a considerable factor for the two relevant matches. Unfortunately, this contribution is not sufficient to bring these results to higher ranks."
   ]
  },
  {
   "cell_type": "code",
   "execution_count": 47,
   "id": "5baf690f",
   "metadata": {},
   "outputs": [
    {
     "data": {
      "application/vnd.jupyter.widget-view+json": {
       "model_id": "e86e06c9d70f47d1ae0c60eb24a640fe",
       "version_major": 2,
       "version_minor": 0
      },
      "text/plain": [
       "interactive(children=(ToggleButtons(description='plot_as', index=1, options=('bar', 'pie'), value='pie'), Outp…"
      ]
     },
     "metadata": {},
     "output_type": "display_data"
    }
   ],
   "source": [
    "@widgets.interact(plot_as=widgets.ToggleButtons(options=[\"bar\", \"pie\"], value=\"pie\"))\n",
    "def plot(plot_as):\n",
    "    nbutils.vis_token_scores(\n",
    "        plot_b.matches, kind=plot_as, ranks=[1, 6, 35], plot_width=800\n",
    "    )"
   ]
  },
  {
   "cell_type": "markdown",
   "id": "1a44136c",
   "metadata": {},
   "source": [
    "The distributions of score contributions we just observed are the motivation for our approach to tag-weighted alignments as they are described in Liebl & Burghardt (2020a/b). Nagoudi and Schwab (2017) used a similar idea of POS tag-weighting for computing sentence similarity, but did not combine it with alignments.\n",
    "\n",
    "We now demonstrate (POS) tag-weighted alignments, by using a tag-weighted alignment that will weight nouns like \"madness\" and \"method\" 3 times higher than other word types. \"NN\" is a Penn Treebank tag and identifies singular nouns."
   ]
  },
  {
   "cell_type": "code",
   "execution_count": 48,
   "id": "7311b2cf",
   "metadata": {},
   "outputs": [
    {
     "data": {
      "application/vnd.jupyter.widget-view+json": {
       "model_id": "128bc978b5fb4b79bc0fc8ef8b6b27f4",
       "version_major": 2,
       "version_minor": 0
      },
      "text/plain": [
       "Tab(children=(HTML(value='<span style=\"line-height:normal;\"><p>Partition similarity is computed via <b>tag-wei…"
      ]
     },
     "metadata": {},
     "output_type": "display_data"
    }
   ],
   "source": [
    "tag_weighted_index_builder = make_index_builder(\n",
    "    strategy=\"Tag-Weighted Alignment\", strategy_options={\"tag_weights\": {\"NN\": 3}}\n",
    ")\n",
    "tag_weighted_index_builder"
   ]
  },
  {
   "cell_type": "code",
   "execution_count": 50,
   "id": "663137b4",
   "metadata": {},
   "outputs": [
    {
     "data": {
      "application/vnd.bokehjs_exec.v0+json": "",
      "text/html": [
       "\n",
       "<script id=\"3689\">\n",
       "  var xhr = new XMLHttpRequest()\n",
       "  xhr.responseType = 'blob';\n",
       "  xhr.open('GET', \"http://localhost:51020/autoload.js?bokeh-autoload-element=3689&bokeh-absolute-url=http://localhost:51020&resources=none\", true);\n",
       "  \n",
       "  xhr.onload = function (event) {\n",
       "    var script = document.createElement('script'),\n",
       "    src = URL.createObjectURL(event.target.response);\n",
       "    script.src = src;\n",
       "    document.body.appendChild(script);\n",
       "  };\n",
       "xhr.send();\n",
       "</script>"
      ]
     },
     "metadata": {
      "application/vnd.bokehjs_exec.v0+json": {
       "server_id": "2b1c419ab1fd4b3c8cfa60d979a9833d"
      }
     },
     "output_type": "display_data"
    },
    {
     "data": {
      "application/vnd.jupyter.widget-view+json": {
       "model_id": "1f11692cbef84cd19edbcfee6437eb25",
       "version_major": 2,
       "version_minor": 0
      },
      "text/plain": [
       "VBox(children=(HTML(value=''),))"
      ]
     },
     "metadata": {},
     "output_type": "display_data"
    },
    {
     "data": {
      "text/plain": [
       "<nbutils.ResultScoresPlotter at 0x2a696e7f0>"
      ]
     },
     "execution_count": 50,
     "metadata": {},
     "output_type": "execute_result"
    }
   ],
   "source": [
    "nbutils.plot_results(\n",
    "    gold_data, tag_weighted_index_builder.build_index(), \"though this be madness\"\n",
    ")"
   ]
  },
  {
   "cell_type": "markdown",
   "id": "dac2ee24",
   "metadata": {},
   "source": [
    "Tag-weighting moves the correct results far to the top, namely to ranks 1, 2, 4 and 6. By increasing the NN weight to 5, it is possible to promote the true positive on rank 73 to rank 15. This is a bit of an extreme measure though and we will not investigate it further here. Instead we investigate how the weighting affects the other queries. Therefore, we re-run the nDCG computation and compare it against unweighted WSB."
   ]
  },
  {
   "cell_type": "code",
   "execution_count": 51,
   "id": "06013d75",
   "metadata": {},
   "outputs": [
    {
     "data": {
      "application/vnd.jupyter.widget-view+json": {
       "model_id": "ad264c5121ad4250adb5c04f4c386a2d",
       "version_major": 2,
       "version_minor": 0
      },
      "text/plain": [
       "Tab(children=(HTML(value='<span style=\"line-height:normal;\"><p>Partition similarity is computed via <b>alignme…"
      ]
     },
     "metadata": {},
     "output_type": "display_data"
    }
   ],
   "source": [
    "index_builder_unweighted = make_index_builder()\n",
    "index_builder_unweighted"
   ]
  },
  {
   "cell_type": "code",
   "execution_count": 52,
   "id": "6b88c896",
   "metadata": {},
   "outputs": [
    {
     "data": {
      "application/vnd.jupyter.widget-view+json": {
       "model_id": "0e2c033bc5824f988662e3bc7216b201",
       "version_major": 2,
       "version_minor": 0
      },
      "text/plain": [
       "  0%|          | 0/40 [00:00<?, ?it/s]"
      ]
     },
     "metadata": {},
     "output_type": "display_data"
    },
    {
     "data": {
      "text/html": [
       "\n",
       "\n",
       "\n",
       "\n",
       "\n",
       "\n",
       "  <div class=\"bk-root\" id=\"30006149-b4e4-47d6-95cd-f4068acd32b3\" data-root-id=\"3711\"></div>\n"
      ]
     },
     "metadata": {},
     "output_type": "display_data"
    },
    {
     "data": {
      "application/javascript": [
       "(function(root) {\n",
       "  function embed_document(root) {\n",
       "    \n",
       "  var docs_json = {\"312cc1d6-75a4-420a-b639-0c6f0313d28a\":{\"defs\":[],\"roots\":{\"references\":[{\"attributes\":{\"below\":[{\"id\":\"3721\"}],\"center\":[{\"id\":\"3724\"},{\"id\":\"3727\"},{\"id\":\"3737\"}],\"height\":800,\"left\":[{\"id\":\"3725\"}],\"renderers\":[{\"id\":\"3735\"}],\"title\":{\"id\":\"3712\"},\"toolbar\":{\"id\":\"3728\"},\"toolbar_location\":null,\"x_range\":{\"id\":\"3729\"},\"x_scale\":{\"id\":\"3717\"},\"y_range\":{\"id\":\"3710\"},\"y_scale\":{\"id\":\"3719\"}},\"id\":\"3711\",\"subtype\":\"Figure\",\"type\":\"Plot\"},{\"attributes\":{\"axis_label\":\"nDCG\",\"formatter\":{\"id\":\"3854\"},\"major_label_policy\":{\"id\":\"3856\"},\"ticker\":{\"id\":\"3722\"}},\"id\":\"3721\",\"type\":\"LinearAxis\"},{\"attributes\":{},\"id\":\"3854\",\"type\":\"BasicTickFormatter\"},{\"attributes\":{},\"id\":\"3851\",\"type\":\"CategoricalTickFormatter\"},{\"attributes\":{\"high\":1,\"low\":0,\"palette\":[\"#66c2a5\",\"#fc8d62\",\"#8da0cb\"]},\"id\":\"3731\",\"type\":\"LinearColorMapper\"},{\"attributes\":{},\"id\":\"3853\",\"type\":\"AllLabels\"},{\"attributes\":{},\"id\":\"3856\",\"type\":\"AllLabels\"},{\"attributes\":{},\"id\":\"3712\",\"type\":\"Title\"},{\"attributes\":{},\"id\":\"3719\",\"type\":\"CategoricalScale\"},{\"attributes\":{},\"id\":\"3717\",\"type\":\"LinearScale\"},{\"attributes\":{\"fill_alpha\":{\"value\":0.1},\"fill_color\":{\"field\":\"color\",\"transform\":{\"id\":\"3731\"}},\"line_alpha\":{\"value\":0.1},\"line_color\":{\"field\":\"color\",\"transform\":{\"id\":\"3731\"}},\"right\":{\"field\":\"ndcg\"},\"y\":{\"field\":\"phrase\"}},\"id\":\"3734\",\"type\":\"HBar\"},{\"attributes\":{\"data_source\":{\"id\":\"3730\"},\"glyph\":{\"id\":\"3733\"},\"hover_glyph\":null,\"muted_glyph\":null,\"nonselection_glyph\":{\"id\":\"3734\"},\"view\":{\"id\":\"3736\"}},\"id\":\"3735\",\"type\":\"GlyphRenderer\"},{\"attributes\":{\"level\":\"glyph\",\"source\":{\"id\":\"3730\"},\"text\":{\"field\":\"ndcg_str\"},\"text_align\":{\"value\":\"right\"},\"text_baseline\":{\"value\":\"middle\"},\"text_color\":{\"value\":\"white\"},\"text_font_size\":{\"value\":\"8pt\"},\"x\":{\"field\":\"ndcg\"},\"y\":{\"field\":\"phrase\"}},\"id\":\"3737\",\"type\":\"LabelSet\"},{\"attributes\":{\"source\":{\"id\":\"3730\"}},\"id\":\"3736\",\"type\":\"CDSView\"},{\"attributes\":{},\"id\":\"3726\",\"type\":\"CategoricalTicker\"},{\"attributes\":{\"axis\":{\"id\":\"3725\"},\"dimension\":1,\"ticker\":null,\"visible\":false},\"id\":\"3727\",\"type\":\"Grid\"},{\"attributes\":{\"active_multi\":null},\"id\":\"3728\",\"type\":\"Toolbar\"},{\"attributes\":{},\"id\":\"3722\",\"type\":\"BasicTicker\"},{\"attributes\":{\"fill_color\":{\"field\":\"color\",\"transform\":{\"id\":\"3731\"}},\"line_color\":{\"field\":\"color\",\"transform\":{\"id\":\"3731\"}},\"right\":{\"field\":\"ndcg\"},\"y\":{\"field\":\"phrase\"}},\"id\":\"3733\",\"type\":\"HBar\"},{\"attributes\":{},\"id\":\"3858\",\"type\":\"UnionRenderers\"},{\"attributes\":{},\"id\":\"3857\",\"type\":\"Selection\"},{\"attributes\":{\"formatter\":{\"id\":\"3851\"},\"group_label_orientation\":0,\"major_label_policy\":{\"id\":\"3853\"},\"ticker\":{\"id\":\"3726\"}},\"id\":\"3725\",\"type\":\"CategoricalAxis\"},{\"attributes\":{\"axis\":{\"id\":\"3721\"},\"ticker\":null},\"id\":\"3724\",\"type\":\"Grid\"},{\"attributes\":{\"data\":{\"color\":{\"__ndarray__\":\"AAAAAAAAAAAAAAAAAADwPwAAAAAAAAAAAAAAAAAA8D8AAAAAAAAAAAAAAAAAAPA/AAAAAAAAAAAAAAAAAADwPwAAAAAAAAAAAAAAAAAA8D8AAAAAAAAAAAAAAAAAAPA/AAAAAAAAAAAAAAAAAADwPwAAAAAAAAAAAAAAAAAA8D8AAAAAAAAAAAAAAAAAAPA/AAAAAAAAAAAAAAAAAADwPwAAAAAAAAAAAAAAAAAA8D8AAAAAAAAAAAAAAAAAAPA/AAAAAAAAAAAAAAAAAADwPwAAAAAAAAAAAAAAAAAA8D8AAAAAAAAAAAAAAAAAAPA/AAAAAAAAAAAAAAAAAADwPwAAAAAAAAAAAAAAAAAA8D8AAAAAAAAAAAAAAAAAAPA/AAAAAAAAAAAAAAAAAADwPwAAAAAAAAAAAAAAAAAA8D8AAAAAAAAAAAAAAAAAAPA/AAAAAAAAAAAAAAAAAADwPw==\",\"dtype\":\"float64\",\"order\":\"little\",\"shape\":[44]},\"ndcg\":{\"__ndarray__\":\"AAAAAAAA8D8AAAAAAADwP/hDX8Uaa+w/pQrXk54n7D/dCnAY2nPvPwAAAAAAAPA/0Dwx+Tlo7D/QPDH5OWjsPwj42kpabu0/Wf1IbnPP6T8+C5tRzxHnP7ooV0PGFeU/AAAAAAAA8D/dCnAY2nPvPwAAAAAAAPA/AAAAAAAA8D85N1pJEQbsPzjs6MNgg9c/NSZnkTQy7T/Wxr5jHFvuP/zTguGSQO8//NOC4ZJA7z8AAAAAAADwPwAAAAAAAPA/PhmjrNqq7z8+GaOs2qrvP05BFeIW4u8/AAAAAAAA8D/oaqBqf/XuPwfI5Us01+c/D6FvxED/7D9eBOtsOlvuP72H5ml8cO4/AAAAAAAA8D8AAAAAAADwPwAAAAAAAPA/PhmjrNqq7z8AAAAAAADwP2RwzRnmd+8/ZHDNGeZ37z/QguRnDlHuP8VkevmSFO0/bG/5fDZa7z+gvR4Z4HXvPw==\",\"dtype\":\"float64\",\"order\":\"little\",\"shape\":[44]},\"ndcg_str\":[\"100.0%\",\"100.0%\",\"88.8%\",\"88.0%\",\"98.3%\",\"100.0%\",\"88.8%\",\"88.8%\",\"92.0%\",\"80.7%\",\"72.1%\",\"65.9%\",\"100.0%\",\"98.3%\",\"100.0%\",\"100.0%\",\"87.6%\",\"36.7%\",\"91.2%\",\"94.9%\",\"97.7%\",\"97.7%\",\"100.0%\",\"100.0%\",\"99.0%\",\"99.0%\",\"99.6%\",\"100.0%\",\"96.7%\",\"74.5%\",\"90.6%\",\"94.9%\",\"95.1%\",\"100.0%\",\"100.0%\",\"100.0%\",\"99.0%\",\"100.0%\",\"98.3%\",\"98.3%\",\"94.7%\",\"90.9%\",\"98.0%\",\"98.3%\"],\"phrase\":[[\"O all you host of heaven!\",\"wsb_weighted\"],[\"O all you host of heaven!\",\"wsb_unweighted\"],[\"hell itself should gape\",\"wsb_weighted\"],[\"hell itself should gape\",\"wsb_unweighted\"],[\"frailty, thy name is woman\",\"wsb_weighted\"],[\"frailty, thy name is woman\",\"wsb_unweighted\"],[\"we will not carry coals\",\"wsb_weighted\"],[\"we will not carry coals\",\"wsb_unweighted\"],[\"All the world's a stage\",\"wsb_weighted\"],[\"All the world's a stage\",\"wsb_unweighted\"],[\"livers white as milk\",\"wsb_weighted\"],[\"livers white as milk\",\"wsb_unweighted\"],[\"I do bear a brain.\",\"wsb_weighted\"],[\"I do bear a brain.\",\"wsb_unweighted\"],[\"planets strike\",\"wsb_weighted\"],[\"planets strike\",\"wsb_unweighted\"],[\"though this be madness, yet\\nthere is method in it\",\"wsb_weighted\"],[\"though this be madness, yet\\nthere is method in it\",\"wsb_unweighted\"],[\"Illo, ho, ho, my lord\",\"wsb_weighted\"],[\"Illo, ho, ho, my lord\",\"wsb_unweighted\"],[\"springes to catch woodcocks\",\"wsb_weighted\"],[\"springes to catch woodcocks\",\"wsb_unweighted\"],[\"thereby hangs a tale\",\"wsb_weighted\"],[\"thereby hangs a tale\",\"wsb_unweighted\"],[\"go, by Saint Hieronimo\",\"wsb_weighted\"],[\"go, by Saint Hieronimo\",\"wsb_unweighted\"],[\"a horse, a horse, my kingdom\\nfor a horse\",\"wsb_weighted\"],[\"a horse, a horse, my kingdom\\nfor a horse\",\"wsb_unweighted\"],[\"In my mind's eye\",\"wsb_weighted\"],[\"In my mind's eye\",\"wsb_unweighted\"],[\"an old man is twice a child\",\"wsb_weighted\"],[\"an old man is twice a child\",\"wsb_unweighted\"],[\"The rest is silence.\",\"wsb_weighted\"],[\"The rest is silence.\",\"wsb_unweighted\"],[\"pampered jades of Asia\",\"wsb_weighted\"],[\"pampered jades of Asia\",\"wsb_unweighted\"],[\"sea of troubles\",\"wsb_weighted\"],[\"sea of troubles\",\"wsb_unweighted\"],[\"to be or not to be\",\"wsb_weighted\"],[\"to be or not to be\",\"wsb_unweighted\"],[\"\\u25d2 mean\",\"wsb_weighted\"],[\"\\u25d2 mean\",\"wsb_unweighted\"],[\"\\u25d2 median\",\"wsb_weighted\"],[\"\\u25d2 median\",\"wsb_unweighted\"]],\"tags\":[\"phrase\",\"phrase\",\"phrase\",\"phrase\",\"phrase\",\"phrase\",\"phrase\",\"phrase\",\"phrase\",\"phrase\",\"phrase\",\"phrase\",\"phrase\",\"phrase\",\"phrase\",\"phrase\",\"phrase\",\"phrase\",\"phrase\",\"phrase\",\"phrase\",\"phrase\",\"phrase\",\"phrase\",\"phrase\",\"phrase\",\"phrase\",\"phrase\",\"phrase\",\"phrase\",\"phrase\",\"phrase\",\"phrase\",\"phrase\",\"phrase\",\"phrase\",\"phrase\",\"phrase\",\"phrase\",\"phrase\",\"stats\",\"stats\",\"stats\",\"stats\"],\"y\":[0,2,4,6,8,10,12,14,16,18,20,22,24,26,28,30,32,34,36,38,40,42,44,46,48,50,52,54,56,58,60,62,64,66,68,70,72,74,76,78,80,82,84,86]},\"selected\":{\"id\":\"3857\"},\"selection_policy\":{\"id\":\"3858\"}},\"id\":\"3730\",\"type\":\"ColumnDataSource\"},{\"attributes\":{\"factors\":[[\"O all you host of heaven!\",\"wsb_weighted\"],[\"O all you host of heaven!\",\"wsb_unweighted\"],[\"hell itself should gape\",\"wsb_weighted\"],[\"hell itself should gape\",\"wsb_unweighted\"],[\"frailty, thy name is woman\",\"wsb_weighted\"],[\"frailty, thy name is woman\",\"wsb_unweighted\"],[\"we will not carry coals\",\"wsb_weighted\"],[\"we will not carry coals\",\"wsb_unweighted\"],[\"All the world's a stage\",\"wsb_weighted\"],[\"All the world's a stage\",\"wsb_unweighted\"],[\"livers white as milk\",\"wsb_weighted\"],[\"livers white as milk\",\"wsb_unweighted\"],[\"I do bear a brain.\",\"wsb_weighted\"],[\"I do bear a brain.\",\"wsb_unweighted\"],[\"planets strike\",\"wsb_weighted\"],[\"planets strike\",\"wsb_unweighted\"],[\"though this be madness, yet\\nthere is method in it\",\"wsb_weighted\"],[\"though this be madness, yet\\nthere is method in it\",\"wsb_unweighted\"],[\"Illo, ho, ho, my lord\",\"wsb_weighted\"],[\"Illo, ho, ho, my lord\",\"wsb_unweighted\"],[\"springes to catch woodcocks\",\"wsb_weighted\"],[\"springes to catch woodcocks\",\"wsb_unweighted\"],[\"thereby hangs a tale\",\"wsb_weighted\"],[\"thereby hangs a tale\",\"wsb_unweighted\"],[\"go, by Saint Hieronimo\",\"wsb_weighted\"],[\"go, by Saint Hieronimo\",\"wsb_unweighted\"],[\"a horse, a horse, my kingdom\\nfor a horse\",\"wsb_weighted\"],[\"a horse, a horse, my kingdom\\nfor a horse\",\"wsb_unweighted\"],[\"In my mind's eye\",\"wsb_weighted\"],[\"In my mind's eye\",\"wsb_unweighted\"],[\"an old man is twice a child\",\"wsb_weighted\"],[\"an old man is twice a child\",\"wsb_unweighted\"],[\"The rest is silence.\",\"wsb_weighted\"],[\"The rest is silence.\",\"wsb_unweighted\"],[\"pampered jades of Asia\",\"wsb_weighted\"],[\"pampered jades of Asia\",\"wsb_unweighted\"],[\"sea of troubles\",\"wsb_weighted\"],[\"sea of troubles\",\"wsb_unweighted\"],[\"to be or not to be\",\"wsb_weighted\"],[\"to be or not to be\",\"wsb_unweighted\"],[\"\\u25d2 mean\",\"wsb_weighted\"],[\"\\u25d2 mean\",\"wsb_unweighted\"],[\"\\u25d2 median\",\"wsb_weighted\"],[\"\\u25d2 median\",\"wsb_unweighted\"]]},\"id\":\"3710\",\"type\":\"FactorRange\"},{\"attributes\":{},\"id\":\"3729\",\"type\":\"Range1d\"}],\"root_ids\":[\"3711\"]},\"title\":\"Bokeh Application\",\"version\":\"2.3.3\"}};\n",
       "  var render_items = [{\"docid\":\"312cc1d6-75a4-420a-b639-0c6f0313d28a\",\"root_ids\":[\"3711\"],\"roots\":{\"3711\":\"30006149-b4e4-47d6-95cd-f4068acd32b3\"}}];\n",
       "  root.Bokeh.embed.embed_items_notebook(docs_json, render_items);\n",
       "\n",
       "  }\n",
       "  if (root.Bokeh !== undefined) {\n",
       "    embed_document(root);\n",
       "  } else {\n",
       "    var attempts = 0;\n",
       "    var timer = setInterval(function(root) {\n",
       "      if (root.Bokeh !== undefined) {\n",
       "        clearInterval(timer);\n",
       "        embed_document(root);\n",
       "      } else {\n",
       "        attempts++;\n",
       "        if (attempts > 100) {\n",
       "          clearInterval(timer);\n",
       "          console.log(\"Bokeh: ERROR: Unable to run BokehJS code because BokehJS library is missing\");\n",
       "        }\n",
       "      }\n",
       "    }, 10, root)\n",
       "  }\n",
       "})(window);"
      ],
      "application/vnd.bokehjs_exec.v0+json": ""
     },
     "metadata": {
      "application/vnd.bokehjs_exec.v0+json": {
       "id": "3711"
      }
     },
     "output_type": "display_data"
    }
   ],
   "source": [
    "import importlib\n",
    "importlib.reload(nbutils)\n",
    "\n",
    "tw_data = nbutils.plot_ndcgs(\n",
    "    gold_data,\n",
    "    {\n",
    "        \"wsb_unweighted\": index_builder_unweighted.build_index(),\n",
    "        \"wsb_weighted\": tag_weighted_index_builder.build_index(),\n",
    "    },\n",
    ")"
   ]
  },
  {
   "cell_type": "markdown",
   "id": "79a49983",
   "metadata": {},
   "source": [
    "The evaluation shows that even though there is an improvement in the mean nDCG when employing POS tag weighting for the corpus, the effect vanishes when computing the median. When looking at the results in detail, we see that the better overall mean value can be tracked down to an improvement in only three queries (see top 3 entries in column *better* below). In fact, the first query is the one we used as rationale for the whole design. More research is needed to understand if tag weighted alignment might in general benefit some subset of queries."
   ]
  },
  {
   "cell_type": "code",
   "execution_count": 53,
   "id": "0b09f971-c1eb-4a69-ab1a-6a246a2f2f70",
   "metadata": {},
   "outputs": [
    {
     "data": {
      "application/vnd.jupyter.widget-view+json": {
       "model_id": "5287a3b858344fb6974c737c7a871660",
       "version_major": 2,
       "version_minor": 0
      },
      "text/plain": [
       "VBox(children=(HBox(children=(HTML(value='<b>wsb_weighted is better</b><br>\"though this be madness, yet there …"
      ]
     },
     "metadata": {},
     "output_type": "display_data"
    }
   ],
   "source": [
    "nbutils.eval_strategies(tw_data, gold_data)"
   ]
  },
  {
   "cell_type": "markdown",
   "id": "5283d93a",
   "metadata": {},
   "source": [
    "## 3.4 The influence of different embeddings <a class=\"anchor\" id=\"section_3_4\"></a>"
   ]
  },
  {
   "cell_type": "markdown",
   "id": "9265e37a",
   "metadata": {},
   "source": [
    "While we have varied the similarity metrics in the previous example, we will now look into the effect that different embeddings might have on the results. The caveat here is that we are using compressed embeddings, i.e. we would need to verify these results with uncompressed embeddings. Still, the performance of compressed fastText seems very solid."
   ]
  },
  {
   "cell_type": "code",
   "execution_count": 54,
   "id": "e78507f9",
   "metadata": {},
   "outputs": [
    {
     "data": {
      "application/vnd.jupyter.widget-view+json": {
       "model_id": "a0bced36e9344919aa15f2fb9c2a74db",
       "version_major": 2,
       "version_minor": 0
      },
      "text/plain": [
       "Accordion(children=(Tab(children=(HTML(value='<span style=\"line-height:normal;\"><p>Partition similarity is com…"
      ]
     },
     "metadata": {},
     "output_type": "display_data"
    }
   ],
   "source": [
    "index_builders = {}\n",
    "\n",
    "# for each embedding, define a search strategy based on tag-weighted alignments\n",
    "for e in the_embeddings.values():\n",
    "    index_builders[e.name] = make_index_builder(\n",
    "        strategy=\"Tag-Weighted Alignment\",\n",
    "        strategy_options={\"tag_weights\": {\"NN\": 3}, \"similarity\": {\"embedding\": e}},\n",
    "    )\n",
    "\n",
    "# present an UI to interactively edit these search strategies\n",
    "accordion = widgets.Accordion(children=[x.displayable for x in index_builders.values()])\n",
    "for i, k in enumerate(index_builders.keys()):\n",
    "    accordion.set_title(i, k)\n",
    "accordion"
   ]
  },
  {
   "cell_type": "code",
   "execution_count": 55,
   "id": "db53567e",
   "metadata": {},
   "outputs": [
    {
     "data": {
      "application/vnd.jupyter.widget-view+json": {
       "model_id": "f2fa7c77695846b79ddc59db663618d6",
       "version_major": 2,
       "version_minor": 0
      },
      "text/plain": [
       "  0%|          | 0/100 [00:00<?, ?it/s]"
      ]
     },
     "metadata": {},
     "output_type": "display_data"
    },
    {
     "data": {
      "text/html": [
       "\n",
       "\n",
       "\n",
       "\n",
       "\n",
       "\n",
       "  <div class=\"bk-root\" id=\"348d411f-08e3-49d5-a609-4862b3e9a813\" data-root-id=\"4090\"></div>\n"
      ]
     },
     "metadata": {},
     "output_type": "display_data"
    },
    {
     "data": {
      "application/javascript": [
       "(function(root) {\n",
       "  function embed_document(root) {\n",
       "    \n",
       "  var docs_json = {\"c221c4fc-d486-4765-bd95-a3c525b2f329\":{\"defs\":[],\"roots\":{\"references\":[{\"attributes\":{\"below\":[{\"id\":\"4100\"}],\"center\":[{\"id\":\"4103\"},{\"id\":\"4106\"},{\"id\":\"4116\"}],\"height\":2000,\"left\":[{\"id\":\"4104\"}],\"renderers\":[{\"id\":\"4114\"}],\"title\":{\"id\":\"4091\"},\"toolbar\":{\"id\":\"4107\"},\"toolbar_location\":null,\"x_range\":{\"id\":\"4108\"},\"x_scale\":{\"id\":\"4096\"},\"y_range\":{\"id\":\"4089\"},\"y_scale\":{\"id\":\"4098\"}},\"id\":\"4090\",\"subtype\":\"Figure\",\"type\":\"Plot\"},{\"attributes\":{\"formatter\":{\"id\":\"4239\"},\"group_label_orientation\":0,\"major_label_policy\":{\"id\":\"4241\"},\"ticker\":{\"id\":\"4105\"}},\"id\":\"4104\",\"type\":\"CategoricalAxis\"},{\"attributes\":{\"active_multi\":null},\"id\":\"4107\",\"type\":\"Toolbar\"},{\"attributes\":{\"axis\":{\"id\":\"4104\"},\"dimension\":1,\"ticker\":null,\"visible\":false},\"id\":\"4106\",\"type\":\"Grid\"},{\"attributes\":{},\"id\":\"4105\",\"type\":\"CategoricalTicker\"},{\"attributes\":{\"fill_color\":{\"field\":\"color\",\"transform\":{\"id\":\"4110\"}},\"line_color\":{\"field\":\"color\",\"transform\":{\"id\":\"4110\"}},\"right\":{\"field\":\"ndcg\"},\"y\":{\"field\":\"phrase\"}},\"id\":\"4112\",\"type\":\"HBar\"},{\"attributes\":{\"high\":1,\"low\":0,\"palette\":[\"#66c2a5\",\"#fc8d62\",\"#8da0cb\",\"#e78ac3\",\"#a6d854\"]},\"id\":\"4110\",\"type\":\"LinearColorMapper\"},{\"attributes\":{},\"id\":\"4246\",\"type\":\"UnionRenderers\"},{\"attributes\":{},\"id\":\"4242\",\"type\":\"BasicTickFormatter\"},{\"attributes\":{\"source\":{\"id\":\"4109\"}},\"id\":\"4115\",\"type\":\"CDSView\"},{\"attributes\":{},\"id\":\"4108\",\"type\":\"Range1d\"},{\"attributes\":{\"factors\":[[\"O all you host of heaven!\",\"...n_paraphrase_distilroberta_base_v1/3.1.0\"],[\"O all you host of heaven!\",\"fasttext-en-mini + numberbatch-19.08-en\"],[\"O all you host of heaven!\",\"numberbatch-19.08-en\"],[\"O all you host of heaven!\",\"fasttext-en-mini\"],[\"O all you host of heaven!\",\"glove-6B-50\"],[\"hell itself should gape\",\"...n_paraphrase_distilroberta_base_v1/3.1.0\"],[\"hell itself should gape\",\"fasttext-en-mini + numberbatch-19.08-en\"],[\"hell itself should gape\",\"numberbatch-19.08-en\"],[\"hell itself should gape\",\"fasttext-en-mini\"],[\"hell itself should gape\",\"glove-6B-50\"],[\"frailty, thy name is woman\",\"...n_paraphrase_distilroberta_base_v1/3.1.0\"],[\"frailty, thy name is woman\",\"fasttext-en-mini + numberbatch-19.08-en\"],[\"frailty, thy name is woman\",\"numberbatch-19.08-en\"],[\"frailty, thy name is woman\",\"fasttext-en-mini\"],[\"frailty, thy name is woman\",\"glove-6B-50\"],[\"we will not carry coals\",\"...n_paraphrase_distilroberta_base_v1/3.1.0\"],[\"we will not carry coals\",\"fasttext-en-mini + numberbatch-19.08-en\"],[\"we will not carry coals\",\"numberbatch-19.08-en\"],[\"we will not carry coals\",\"fasttext-en-mini\"],[\"we will not carry coals\",\"glove-6B-50\"],[\"All the world's a stage\",\"...n_paraphrase_distilroberta_base_v1/3.1.0\"],[\"All the world's a stage\",\"fasttext-en-mini + numberbatch-19.08-en\"],[\"All the world's a stage\",\"numberbatch-19.08-en\"],[\"All the world's a stage\",\"fasttext-en-mini\"],[\"All the world's a stage\",\"glove-6B-50\"],[\"livers white as milk\",\"...n_paraphrase_distilroberta_base_v1/3.1.0\"],[\"livers white as milk\",\"fasttext-en-mini + numberbatch-19.08-en\"],[\"livers white as milk\",\"numberbatch-19.08-en\"],[\"livers white as milk\",\"fasttext-en-mini\"],[\"livers white as milk\",\"glove-6B-50\"],[\"I do bear a brain.\",\"...n_paraphrase_distilroberta_base_v1/3.1.0\"],[\"I do bear a brain.\",\"fasttext-en-mini + numberbatch-19.08-en\"],[\"I do bear a brain.\",\"numberbatch-19.08-en\"],[\"I do bear a brain.\",\"fasttext-en-mini\"],[\"I do bear a brain.\",\"glove-6B-50\"],[\"planets strike\",\"...n_paraphrase_distilroberta_base_v1/3.1.0\"],[\"planets strike\",\"fasttext-en-mini + numberbatch-19.08-en\"],[\"planets strike\",\"numberbatch-19.08-en\"],[\"planets strike\",\"fasttext-en-mini\"],[\"planets strike\",\"glove-6B-50\"],[\"though this be madness, yet\\nthere is method in it\",\"...n_paraphrase_distilroberta_base_v1/3.1.0\"],[\"though this be madness, yet\\nthere is method in it\",\"fasttext-en-mini + numberbatch-19.08-en\"],[\"though this be madness, yet\\nthere is method in it\",\"numberbatch-19.08-en\"],[\"though this be madness, yet\\nthere is method in it\",\"fasttext-en-mini\"],[\"though this be madness, yet\\nthere is method in it\",\"glove-6B-50\"],[\"Illo, ho, ho, my lord\",\"...n_paraphrase_distilroberta_base_v1/3.1.0\"],[\"Illo, ho, ho, my lord\",\"fasttext-en-mini + numberbatch-19.08-en\"],[\"Illo, ho, ho, my lord\",\"numberbatch-19.08-en\"],[\"Illo, ho, ho, my lord\",\"fasttext-en-mini\"],[\"Illo, ho, ho, my lord\",\"glove-6B-50\"],[\"springes to catch woodcocks\",\"...n_paraphrase_distilroberta_base_v1/3.1.0\"],[\"springes to catch woodcocks\",\"fasttext-en-mini + numberbatch-19.08-en\"],[\"springes to catch woodcocks\",\"numberbatch-19.08-en\"],[\"springes to catch woodcocks\",\"fasttext-en-mini\"],[\"springes to catch woodcocks\",\"glove-6B-50\"],[\"thereby hangs a tale\",\"...n_paraphrase_distilroberta_base_v1/3.1.0\"],[\"thereby hangs a tale\",\"fasttext-en-mini + numberbatch-19.08-en\"],[\"thereby hangs a tale\",\"numberbatch-19.08-en\"],[\"thereby hangs a tale\",\"fasttext-en-mini\"],[\"thereby hangs a tale\",\"glove-6B-50\"],[\"go, by Saint Hieronimo\",\"...n_paraphrase_distilroberta_base_v1/3.1.0\"],[\"go, by Saint Hieronimo\",\"fasttext-en-mini + numberbatch-19.08-en\"],[\"go, by Saint Hieronimo\",\"numberbatch-19.08-en\"],[\"go, by Saint Hieronimo\",\"fasttext-en-mini\"],[\"go, by Saint Hieronimo\",\"glove-6B-50\"],[\"a horse, a horse, my kingdom\\nfor a horse\",\"...n_paraphrase_distilroberta_base_v1/3.1.0\"],[\"a horse, a horse, my kingdom\\nfor a horse\",\"fasttext-en-mini + numberbatch-19.08-en\"],[\"a horse, a horse, my kingdom\\nfor a horse\",\"numberbatch-19.08-en\"],[\"a horse, a horse, my kingdom\\nfor a horse\",\"fasttext-en-mini\"],[\"a horse, a horse, my kingdom\\nfor a horse\",\"glove-6B-50\"],[\"In my mind's eye\",\"...n_paraphrase_distilroberta_base_v1/3.1.0\"],[\"In my mind's eye\",\"fasttext-en-mini + numberbatch-19.08-en\"],[\"In my mind's eye\",\"numberbatch-19.08-en\"],[\"In my mind's eye\",\"fasttext-en-mini\"],[\"In my mind's eye\",\"glove-6B-50\"],[\"an old man is twice a child\",\"...n_paraphrase_distilroberta_base_v1/3.1.0\"],[\"an old man is twice a child\",\"fasttext-en-mini + numberbatch-19.08-en\"],[\"an old man is twice a child\",\"numberbatch-19.08-en\"],[\"an old man is twice a child\",\"fasttext-en-mini\"],[\"an old man is twice a child\",\"glove-6B-50\"],[\"The rest is silence.\",\"...n_paraphrase_distilroberta_base_v1/3.1.0\"],[\"The rest is silence.\",\"fasttext-en-mini + numberbatch-19.08-en\"],[\"The rest is silence.\",\"numberbatch-19.08-en\"],[\"The rest is silence.\",\"fasttext-en-mini\"],[\"The rest is silence.\",\"glove-6B-50\"],[\"pampered jades of Asia\",\"...n_paraphrase_distilroberta_base_v1/3.1.0\"],[\"pampered jades of Asia\",\"fasttext-en-mini + numberbatch-19.08-en\"],[\"pampered jades of Asia\",\"numberbatch-19.08-en\"],[\"pampered jades of Asia\",\"fasttext-en-mini\"],[\"pampered jades of Asia\",\"glove-6B-50\"],[\"sea of troubles\",\"...n_paraphrase_distilroberta_base_v1/3.1.0\"],[\"sea of troubles\",\"fasttext-en-mini + numberbatch-19.08-en\"],[\"sea of troubles\",\"numberbatch-19.08-en\"],[\"sea of troubles\",\"fasttext-en-mini\"],[\"sea of troubles\",\"glove-6B-50\"],[\"to be or not to be\",\"...n_paraphrase_distilroberta_base_v1/3.1.0\"],[\"to be or not to be\",\"fasttext-en-mini + numberbatch-19.08-en\"],[\"to be or not to be\",\"numberbatch-19.08-en\"],[\"to be or not to be\",\"fasttext-en-mini\"],[\"to be or not to be\",\"glove-6B-50\"],[\"\\u25d2 mean\",\"...n_paraphrase_distilroberta_base_v1/3.1.0\"],[\"\\u25d2 mean\",\"fasttext-en-mini + numberbatch-19.08-en\"],[\"\\u25d2 mean\",\"numberbatch-19.08-en\"],[\"\\u25d2 mean\",\"fasttext-en-mini\"],[\"\\u25d2 mean\",\"glove-6B-50\"],[\"\\u25d2 median\",\"...n_paraphrase_distilroberta_base_v1/3.1.0\"],[\"\\u25d2 median\",\"fasttext-en-mini + numberbatch-19.08-en\"],[\"\\u25d2 median\",\"numberbatch-19.08-en\"],[\"\\u25d2 median\",\"fasttext-en-mini\"],[\"\\u25d2 median\",\"glove-6B-50\"]]},\"id\":\"4089\",\"type\":\"FactorRange\"},{\"attributes\":{\"data\":{\"color\":{\"__ndarray__\":\"AAAAAAAAAAAAAAAAAADQPwAAAAAAAOA/AAAAAAAA6D8AAAAAAADwPwAAAAAAAAAAAAAAAAAA0D8AAAAAAADgPwAAAAAAAOg/AAAAAAAA8D8AAAAAAAAAAAAAAAAAANA/AAAAAAAA4D8AAAAAAADoPwAAAAAAAPA/AAAAAAAAAAAAAAAAAADQPwAAAAAAAOA/AAAAAAAA6D8AAAAAAADwPwAAAAAAAAAAAAAAAAAA0D8AAAAAAADgPwAAAAAAAOg/AAAAAAAA8D8AAAAAAAAAAAAAAAAAANA/AAAAAAAA4D8AAAAAAADoPwAAAAAAAPA/AAAAAAAAAAAAAAAAAADQPwAAAAAAAOA/AAAAAAAA6D8AAAAAAADwPwAAAAAAAAAAAAAAAAAA0D8AAAAAAADgPwAAAAAAAOg/AAAAAAAA8D8AAAAAAAAAAAAAAAAAANA/AAAAAAAA4D8AAAAAAADoPwAAAAAAAPA/AAAAAAAAAAAAAAAAAADQPwAAAAAAAOA/AAAAAAAA6D8AAAAAAADwPwAAAAAAAAAAAAAAAAAA0D8AAAAAAADgPwAAAAAAAOg/AAAAAAAA8D8AAAAAAAAAAAAAAAAAANA/AAAAAAAA4D8AAAAAAADoPwAAAAAAAPA/AAAAAAAAAAAAAAAAAADQPwAAAAAAAOA/AAAAAAAA6D8AAAAAAADwPwAAAAAAAAAAAAAAAAAA0D8AAAAAAADgPwAAAAAAAOg/AAAAAAAA8D8AAAAAAAAAAAAAAAAAANA/AAAAAAAA4D8AAAAAAADoPwAAAAAAAPA/AAAAAAAAAAAAAAAAAADQPwAAAAAAAOA/AAAAAAAA6D8AAAAAAADwPwAAAAAAAAAAAAAAAAAA0D8AAAAAAADgPwAAAAAAAOg/AAAAAAAA8D8AAAAAAAAAAAAAAAAAANA/AAAAAAAA4D8AAAAAAADoPwAAAAAAAPA/AAAAAAAAAAAAAAAAAADQPwAAAAAAAOA/AAAAAAAA6D8AAAAAAADwPwAAAAAAAAAAAAAAAAAA0D8AAAAAAADgPwAAAAAAAOg/AAAAAAAA8D8AAAAAAAAAAAAAAAAAANA/AAAAAAAA4D8AAAAAAADoPwAAAAAAAPA/AAAAAAAAAAAAAAAAAADQPwAAAAAAAOA/AAAAAAAA6D8AAAAAAADwPw==\",\"dtype\":\"float64\",\"order\":\"little\",\"shape\":[110]},\"ndcg\":{\"__ndarray__\":\"AAAAAAAA8D8AAAAAAADwPwAAAAAAAPA/AAAAAAAA8D8AAAAAAADwP+NCSYC2jOw/drgdzRdt7D8GtofSAFrtP/hDX8Uaa+w/mCM9bWYh7j/12C7y2BHvP90KcBjac+8/7y+e4wCo7T/dCnAY2nPvPwAAAAAAAPA/ItlcZ9iS6z+Xta94SW3sPwaF+NksAew/0Dwx+Tlo7D8WI9rQLOnrPwj42kpabu0/CPjaSlpu7T8I+NpKWm7tPwj42kpabu0/AAAAAAAA8D8QjBmmgVflP+mnZi5h0+U/ytgT/PTm4z8+C5tRzxHnP6AJbOQzItk/AAAAAAAA8D8AAAAAAADwPwAAAAAAAPA/AAAAAAAA8D8AAAAAAADwP1Nn4c9/5ew/AAAAAAAA8D8+GaOs2qrvPwAAAAAAAPA/5HL8ZlKU7j/35sZZ1TbsP706VjK7iOw/B2zfb6D46j85N1pJEQbsP09tv62MwOk/HyjBnuVL7D8iy4E5nwjtP3VvSSX95uw/NSZnkTQy7T84Mu/T+s3tP3GFE4BCt+8/2akMWUSx7j8se5Hb5hztP/zTguGSQO8/sqnBlVcx7j8AAAAAAADwPwAAAAAAAPA/VebeDSn+7D8AAAAAAADwP//jnM+Gwug/v2YCxIwR7z8+GaOs2qrvP0nmJ7I6VuU/PhmjrNqq7z9rOZj6TvzmPzUPJ5pStO8/NQ8nmlK07z/Gehy++bfqP05BFeIW4u8/Aymvcw257T8AAAAAAADwP+hqoGp/9e4/AAAAAAAA8D/oaqBqf/XuP1Xm3g0p/uw/5HL8ZlKU7j+OfzxnRJLsPzKZAwKh6eo/D6FvxED/7D9HN/ERcffsPz4Zo6zaqu8/vYfmaXxw7j/3c4opSQPpP72H5ml8cO4/uq3U1+dA7D8AAAAAAADwPwAAAAAAAPA/ANS58Lyq7D8AAAAAAADwPwAAAAAAAPA/AAAAAAAA8D8+GaOs2qrvP/bMwlRTNOw/PhmjrNqq7z8aGotJHvrrP/Xq0w326O8/148GrgNr7z9XG3dgKAjvP2RwzRnmd+8/zKpyt4if7j+zkb4tcDPuPwUnrt9kNu4/bckA3TdL7D/QguRnDlHuP+rX3PH+dew/Gvloz1le7z9gfVOMQTDvP+UqlBmT8uw/bG/5fDZa7z+eLc8jhMPtPw==\",\"dtype\":\"float64\",\"order\":\"little\",\"shape\":[110]},\"ndcg_str\":[\"100.0%\",\"100.0%\",\"100.0%\",\"100.0%\",\"100.0%\",\"89.2%\",\"88.8%\",\"91.7%\",\"88.8%\",\"94.2%\",\"97.1%\",\"98.3%\",\"92.7%\",\"98.3%\",\"100.0%\",\"86.2%\",\"88.8%\",\"87.5%\",\"88.8%\",\"87.2%\",\"92.0%\",\"92.0%\",\"92.0%\",\"92.0%\",\"100.0%\",\"66.7%\",\"68.2%\",\"62.2%\",\"72.1%\",\"39.3%\",\"100.0%\",\"100.0%\",\"100.0%\",\"100.0%\",\"100.0%\",\"90.3%\",\"100.0%\",\"99.0%\",\"100.0%\",\"95.6%\",\"88.2%\",\"89.2%\",\"84.3%\",\"87.6%\",\"80.5%\",\"88.4%\",\"90.7%\",\"90.3%\",\"91.2%\",\"93.1%\",\"99.1%\",\"95.9%\",\"91.0%\",\"97.7%\",\"94.4%\",\"100.0%\",\"100.0%\",\"90.6%\",\"100.0%\",\"77.4%\",\"97.1%\",\"99.0%\",\"66.7%\",\"99.0%\",\"71.8%\",\"99.1%\",\"99.1%\",\"83.5%\",\"99.6%\",\"92.9%\",\"100.0%\",\"96.7%\",\"100.0%\",\"96.7%\",\"90.6%\",\"95.6%\",\"89.3%\",\"84.1%\",\"90.6%\",\"90.5%\",\"99.0%\",\"95.1%\",\"78.2%\",\"95.1%\",\"88.3%\",\"100.0%\",\"100.0%\",\"89.6%\",\"100.0%\",\"100.0%\",\"100.0%\",\"99.0%\",\"88.1%\",\"99.0%\",\"87.4%\",\"99.7%\",\"98.2%\",\"97.0%\",\"98.3%\",\"95.7%\",\"94.4%\",\"94.4%\",\"88.4%\",\"94.7%\",\"88.9%\",\"98.0%\",\"97.5%\",\"90.5%\",\"98.0%\",\"93.0%\"],\"phrase\":[[\"O all you host of heaven!\",\"...n_paraphrase_distilroberta_base_v1/3.1.0\"],[\"O all you host of heaven!\",\"fasttext-en-mini + numberbatch-19.08-en\"],[\"O all you host of heaven!\",\"numberbatch-19.08-en\"],[\"O all you host of heaven!\",\"fasttext-en-mini\"],[\"O all you host of heaven!\",\"glove-6B-50\"],[\"hell itself should gape\",\"...n_paraphrase_distilroberta_base_v1/3.1.0\"],[\"hell itself should gape\",\"fasttext-en-mini + numberbatch-19.08-en\"],[\"hell itself should gape\",\"numberbatch-19.08-en\"],[\"hell itself should gape\",\"fasttext-en-mini\"],[\"hell itself should gape\",\"glove-6B-50\"],[\"frailty, thy name is woman\",\"...n_paraphrase_distilroberta_base_v1/3.1.0\"],[\"frailty, thy name is woman\",\"fasttext-en-mini + numberbatch-19.08-en\"],[\"frailty, thy name is woman\",\"numberbatch-19.08-en\"],[\"frailty, thy name is woman\",\"fasttext-en-mini\"],[\"frailty, thy name is woman\",\"glove-6B-50\"],[\"we will not carry coals\",\"...n_paraphrase_distilroberta_base_v1/3.1.0\"],[\"we will not carry coals\",\"fasttext-en-mini + numberbatch-19.08-en\"],[\"we will not carry coals\",\"numberbatch-19.08-en\"],[\"we will not carry coals\",\"fasttext-en-mini\"],[\"we will not carry coals\",\"glove-6B-50\"],[\"All the world's a stage\",\"...n_paraphrase_distilroberta_base_v1/3.1.0\"],[\"All the world's a stage\",\"fasttext-en-mini + numberbatch-19.08-en\"],[\"All the world's a stage\",\"numberbatch-19.08-en\"],[\"All the world's a stage\",\"fasttext-en-mini\"],[\"All the world's a stage\",\"glove-6B-50\"],[\"livers white as milk\",\"...n_paraphrase_distilroberta_base_v1/3.1.0\"],[\"livers white as milk\",\"fasttext-en-mini + numberbatch-19.08-en\"],[\"livers white as milk\",\"numberbatch-19.08-en\"],[\"livers white as milk\",\"fasttext-en-mini\"],[\"livers white as milk\",\"glove-6B-50\"],[\"I do bear a brain.\",\"...n_paraphrase_distilroberta_base_v1/3.1.0\"],[\"I do bear a brain.\",\"fasttext-en-mini + numberbatch-19.08-en\"],[\"I do bear a brain.\",\"numberbatch-19.08-en\"],[\"I do bear a brain.\",\"fasttext-en-mini\"],[\"I do bear a brain.\",\"glove-6B-50\"],[\"planets strike\",\"...n_paraphrase_distilroberta_base_v1/3.1.0\"],[\"planets strike\",\"fasttext-en-mini + numberbatch-19.08-en\"],[\"planets strike\",\"numberbatch-19.08-en\"],[\"planets strike\",\"fasttext-en-mini\"],[\"planets strike\",\"glove-6B-50\"],[\"though this be madness, yet\\nthere is method in it\",\"...n_paraphrase_distilroberta_base_v1/3.1.0\"],[\"though this be madness, yet\\nthere is method in it\",\"fasttext-en-mini + numberbatch-19.08-en\"],[\"though this be madness, yet\\nthere is method in it\",\"numberbatch-19.08-en\"],[\"though this be madness, yet\\nthere is method in it\",\"fasttext-en-mini\"],[\"though this be madness, yet\\nthere is method in it\",\"glove-6B-50\"],[\"Illo, ho, ho, my lord\",\"...n_paraphrase_distilroberta_base_v1/3.1.0\"],[\"Illo, ho, ho, my lord\",\"fasttext-en-mini + numberbatch-19.08-en\"],[\"Illo, ho, ho, my lord\",\"numberbatch-19.08-en\"],[\"Illo, ho, ho, my lord\",\"fasttext-en-mini\"],[\"Illo, ho, ho, my lord\",\"glove-6B-50\"],[\"springes to catch woodcocks\",\"...n_paraphrase_distilroberta_base_v1/3.1.0\"],[\"springes to catch woodcocks\",\"fasttext-en-mini + numberbatch-19.08-en\"],[\"springes to catch woodcocks\",\"numberbatch-19.08-en\"],[\"springes to catch woodcocks\",\"fasttext-en-mini\"],[\"springes to catch woodcocks\",\"glove-6B-50\"],[\"thereby hangs a tale\",\"...n_paraphrase_distilroberta_base_v1/3.1.0\"],[\"thereby hangs a tale\",\"fasttext-en-mini + numberbatch-19.08-en\"],[\"thereby hangs a tale\",\"numberbatch-19.08-en\"],[\"thereby hangs a tale\",\"fasttext-en-mini\"],[\"thereby hangs a tale\",\"glove-6B-50\"],[\"go, by Saint Hieronimo\",\"...n_paraphrase_distilroberta_base_v1/3.1.0\"],[\"go, by Saint Hieronimo\",\"fasttext-en-mini + numberbatch-19.08-en\"],[\"go, by Saint Hieronimo\",\"numberbatch-19.08-en\"],[\"go, by Saint Hieronimo\",\"fasttext-en-mini\"],[\"go, by Saint Hieronimo\",\"glove-6B-50\"],[\"a horse, a horse, my kingdom\\nfor a horse\",\"...n_paraphrase_distilroberta_base_v1/3.1.0\"],[\"a horse, a horse, my kingdom\\nfor a horse\",\"fasttext-en-mini + numberbatch-19.08-en\"],[\"a horse, a horse, my kingdom\\nfor a horse\",\"numberbatch-19.08-en\"],[\"a horse, a horse, my kingdom\\nfor a horse\",\"fasttext-en-mini\"],[\"a horse, a horse, my kingdom\\nfor a horse\",\"glove-6B-50\"],[\"In my mind's eye\",\"...n_paraphrase_distilroberta_base_v1/3.1.0\"],[\"In my mind's eye\",\"fasttext-en-mini + numberbatch-19.08-en\"],[\"In my mind's eye\",\"numberbatch-19.08-en\"],[\"In my mind's eye\",\"fasttext-en-mini\"],[\"In my mind's eye\",\"glove-6B-50\"],[\"an old man is twice a child\",\"...n_paraphrase_distilroberta_base_v1/3.1.0\"],[\"an old man is twice a child\",\"fasttext-en-mini + numberbatch-19.08-en\"],[\"an old man is twice a child\",\"numberbatch-19.08-en\"],[\"an old man is twice a child\",\"fasttext-en-mini\"],[\"an old man is twice a child\",\"glove-6B-50\"],[\"The rest is silence.\",\"...n_paraphrase_distilroberta_base_v1/3.1.0\"],[\"The rest is silence.\",\"fasttext-en-mini + numberbatch-19.08-en\"],[\"The rest is silence.\",\"numberbatch-19.08-en\"],[\"The rest is silence.\",\"fasttext-en-mini\"],[\"The rest is silence.\",\"glove-6B-50\"],[\"pampered jades of Asia\",\"...n_paraphrase_distilroberta_base_v1/3.1.0\"],[\"pampered jades of Asia\",\"fasttext-en-mini + numberbatch-19.08-en\"],[\"pampered jades of Asia\",\"numberbatch-19.08-en\"],[\"pampered jades of Asia\",\"fasttext-en-mini\"],[\"pampered jades of Asia\",\"glove-6B-50\"],[\"sea of troubles\",\"...n_paraphrase_distilroberta_base_v1/3.1.0\"],[\"sea of troubles\",\"fasttext-en-mini + numberbatch-19.08-en\"],[\"sea of troubles\",\"numberbatch-19.08-en\"],[\"sea of troubles\",\"fasttext-en-mini\"],[\"sea of troubles\",\"glove-6B-50\"],[\"to be or not to be\",\"...n_paraphrase_distilroberta_base_v1/3.1.0\"],[\"to be or not to be\",\"fasttext-en-mini + numberbatch-19.08-en\"],[\"to be or not to be\",\"numberbatch-19.08-en\"],[\"to be or not to be\",\"fasttext-en-mini\"],[\"to be or not to be\",\"glove-6B-50\"],[\"\\u25d2 mean\",\"...n_paraphrase_distilroberta_base_v1/3.1.0\"],[\"\\u25d2 mean\",\"fasttext-en-mini + numberbatch-19.08-en\"],[\"\\u25d2 mean\",\"numberbatch-19.08-en\"],[\"\\u25d2 mean\",\"fasttext-en-mini\"],[\"\\u25d2 mean\",\"glove-6B-50\"],[\"\\u25d2 median\",\"...n_paraphrase_distilroberta_base_v1/3.1.0\"],[\"\\u25d2 median\",\"fasttext-en-mini + numberbatch-19.08-en\"],[\"\\u25d2 median\",\"numberbatch-19.08-en\"],[\"\\u25d2 median\",\"fasttext-en-mini\"],[\"\\u25d2 median\",\"glove-6B-50\"]],\"tags\":[\"phrase\",\"phrase\",\"phrase\",\"phrase\",\"phrase\",\"phrase\",\"phrase\",\"phrase\",\"phrase\",\"phrase\",\"phrase\",\"phrase\",\"phrase\",\"phrase\",\"phrase\",\"phrase\",\"phrase\",\"phrase\",\"phrase\",\"phrase\",\"phrase\",\"phrase\",\"phrase\",\"phrase\",\"phrase\",\"phrase\",\"phrase\",\"phrase\",\"phrase\",\"phrase\",\"phrase\",\"phrase\",\"phrase\",\"phrase\",\"phrase\",\"phrase\",\"phrase\",\"phrase\",\"phrase\",\"phrase\",\"phrase\",\"phrase\",\"phrase\",\"phrase\",\"phrase\",\"phrase\",\"phrase\",\"phrase\",\"phrase\",\"phrase\",\"phrase\",\"phrase\",\"phrase\",\"phrase\",\"phrase\",\"phrase\",\"phrase\",\"phrase\",\"phrase\",\"phrase\",\"phrase\",\"phrase\",\"phrase\",\"phrase\",\"phrase\",\"phrase\",\"phrase\",\"phrase\",\"phrase\",\"phrase\",\"phrase\",\"phrase\",\"phrase\",\"phrase\",\"phrase\",\"phrase\",\"phrase\",\"phrase\",\"phrase\",\"phrase\",\"phrase\",\"phrase\",\"phrase\",\"phrase\",\"phrase\",\"phrase\",\"phrase\",\"phrase\",\"phrase\",\"phrase\",\"phrase\",\"phrase\",\"phrase\",\"phrase\",\"phrase\",\"phrase\",\"phrase\",\"phrase\",\"phrase\",\"phrase\",\"stats\",\"stats\",\"stats\",\"stats\",\"stats\",\"stats\",\"stats\",\"stats\",\"stats\",\"stats\"],\"y\":[0,2,4,6,8,10,12,14,16,18,20,22,24,26,28,30,32,34,36,38,40,42,44,46,48,50,52,54,56,58,60,62,64,66,68,70,72,74,76,78,80,82,84,86,88,90,92,94,96,98,100,102,104,106,108,110,112,114,116,118,120,122,124,126,128,130,132,134,136,138,140,142,144,146,148,150,152,154,156,158,160,162,164,166,168,170,172,174,176,178,180,182,184,186,188,190,192,194,196,198,200,202,204,206,208,210,212,214,216,218]},\"selected\":{\"id\":\"4245\"},\"selection_policy\":{\"id\":\"4246\"}},\"id\":\"4109\",\"type\":\"ColumnDataSource\"},{\"attributes\":{\"level\":\"glyph\",\"source\":{\"id\":\"4109\"},\"text\":{\"field\":\"ndcg_str\"},\"text_align\":{\"value\":\"right\"},\"text_baseline\":{\"value\":\"middle\"},\"text_color\":{\"value\":\"white\"},\"text_font_size\":{\"value\":\"8pt\"},\"x\":{\"field\":\"ndcg\"},\"y\":{\"field\":\"phrase\"}},\"id\":\"4116\",\"type\":\"LabelSet\"},{\"attributes\":{},\"id\":\"4241\",\"type\":\"AllLabels\"},{\"attributes\":{},\"id\":\"4101\",\"type\":\"BasicTicker\"},{\"attributes\":{},\"id\":\"4244\",\"type\":\"AllLabels\"},{\"attributes\":{},\"id\":\"4245\",\"type\":\"Selection\"},{\"attributes\":{\"axis_label\":\"nDCG\",\"formatter\":{\"id\":\"4242\"},\"major_label_policy\":{\"id\":\"4244\"},\"ticker\":{\"id\":\"4101\"}},\"id\":\"4100\",\"type\":\"LinearAxis\"},{\"attributes\":{\"data_source\":{\"id\":\"4109\"},\"glyph\":{\"id\":\"4112\"},\"hover_glyph\":null,\"muted_glyph\":null,\"nonselection_glyph\":{\"id\":\"4113\"},\"view\":{\"id\":\"4115\"}},\"id\":\"4114\",\"type\":\"GlyphRenderer\"},{\"attributes\":{},\"id\":\"4096\",\"type\":\"LinearScale\"},{\"attributes\":{},\"id\":\"4239\",\"type\":\"CategoricalTickFormatter\"},{\"attributes\":{\"fill_alpha\":{\"value\":0.1},\"fill_color\":{\"field\":\"color\",\"transform\":{\"id\":\"4110\"}},\"line_alpha\":{\"value\":0.1},\"line_color\":{\"field\":\"color\",\"transform\":{\"id\":\"4110\"}},\"right\":{\"field\":\"ndcg\"},\"y\":{\"field\":\"phrase\"}},\"id\":\"4113\",\"type\":\"HBar\"},{\"attributes\":{},\"id\":\"4098\",\"type\":\"CategoricalScale\"},{\"attributes\":{},\"id\":\"4091\",\"type\":\"Title\"},{\"attributes\":{\"axis\":{\"id\":\"4100\"},\"ticker\":null},\"id\":\"4103\",\"type\":\"Grid\"}],\"root_ids\":[\"4090\"]},\"title\":\"Bokeh Application\",\"version\":\"2.3.3\"}};\n",
       "  var render_items = [{\"docid\":\"c221c4fc-d486-4765-bd95-a3c525b2f329\",\"root_ids\":[\"4090\"],\"roots\":{\"4090\":\"348d411f-08e3-49d5-a609-4862b3e9a813\"}}];\n",
       "  root.Bokeh.embed.embed_items_notebook(docs_json, render_items);\n",
       "\n",
       "  }\n",
       "  if (root.Bokeh !== undefined) {\n",
       "    embed_document(root);\n",
       "  } else {\n",
       "    var attempts = 0;\n",
       "    var timer = setInterval(function(root) {\n",
       "      if (root.Bokeh !== undefined) {\n",
       "        clearInterval(timer);\n",
       "        embed_document(root);\n",
       "      } else {\n",
       "        attempts++;\n",
       "        if (attempts > 100) {\n",
       "          clearInterval(timer);\n",
       "          console.log(\"Bokeh: ERROR: Unable to run BokehJS code because BokehJS library is missing\");\n",
       "        }\n",
       "      }\n",
       "    }, 10, root)\n",
       "  }\n",
       "})(window);"
      ],
      "application/vnd.bokehjs_exec.v0+json": ""
     },
     "metadata": {
      "application/vnd.bokehjs_exec.v0+json": {
       "id": "4090"
      }
     },
     "output_type": "display_data"
    }
   ],
   "source": [
    "nbutils.plot_ndcgs(\n",
    "    gold_data, dict((k, v.build_index()) for k, v in index_builders.items())\n",
    ");"
   ]
  },
  {
   "cell_type": "markdown",
   "id": "1ac03a32",
   "metadata": {},
   "source": [
    "Some observations to be made here:\n",
    "* In a few queries (\"llo, ho, ho my lord\", \"frailty, thy name is woman\", \"hell itself should gape\"), GloVe gives slightly better results than fastText, but this cannot be generalized to the overall performance.\n",
    "\n",
    "* For some queries (\"I do bear a brain.\", \"O all you host of heaven!\") the embedding does not seem to matter at all.\n",
    "\n",
    "* A real competitor for fastText are contextual embeddings from Sentence-BERT - however, these are much more expensive in terms of computation time, storage space and code complexity."
   ]
  },
  {
   "cell_type": "markdown",
   "id": "221deb5d",
   "metadata": {},
   "source": [
    "# 4. Conclusion <a class=\"anchor\" id=\"section_4\"></a>"
   ]
  },
  {
   "cell_type": "markdown",
   "id": "419cf643",
   "metadata": {},
   "source": [
    "In this interactive notebook we have demonstrated how different types of word embeddings can be used to detect intertextual phenomena in a semi-automatic way. We also provide a basic ground truth dataset of 100 short documents that contain 20 different quotes from Shakespeare's plays. This setup enables us to investigate the inner workings of different embeddings and to evaluate their suitability for the case of Shakespearean intertextuality. "
   ]
  },
  {
   "cell_type": "markdown",
   "id": "ebb3b3ac",
   "metadata": {},
   "source": [
    "The following main findings – that also open up perspectives for future research – were obtained from this evaluation study:\n",
    "\n",
    "1. POS tag-weighted alignments achieve the highest overall mean nDCG for our specific data, however this is not true for the median nDCG. Since tag-weighting does seem to improve the results of a very small subset of queries considerably, but does not improve the median performance, our future work will focus on better understanding the structure of queries and the role of outliers.\n",
    "\n",
    "2. Document embeddings also show a strong performance. Their special appeal lies in easy use (assuming a pretrained model), as they do not rely on additional WSB or WMD mappings. \n",
    "\n",
    "3. When using WMD on short texts, our bow variant outperforms the original nbow variant by Kusner et al. (2015) by quite a margin. Further research must show whether these findings also hold for longer documents and how they evaluate when compared to optimized variants like RWMD (Kusner et al., 2015) and other variants (Werner & Laber, 2020).\n",
    "\n",
    "4. In terms of embeddings, compressed fastText embeddings clearly outperform compressed GloVe and Numberbatch embeddings in our evaluations. Since we used low-dimensional embeddings for this notebook, these results are only a first hint and need to be verified through the use of full (high-dimensional) embbeddings. Contextual token embeddings extracted from Sentence-BERT provide a similar performance as fastText - however in terms of computation time and memory they are way more complex. All in all, our evaluation seems to highlight the solid performance of fastText."
   ]
  },
  {
   "cell_type": "markdown",
   "id": "9829e464",
   "metadata": {},
   "source": [
    "While we were able to gather some interesting insights for the specific use case of Shakespearean intertextuality, the main goal of this notebook is to provide an interactive platform that enables other researchers to investigate other parameter combinations as well. The code blocks and widgets above offer many ways to play around with the settings and explore their effects on the ground truth data. \n",
    "\n",
    "More importantly, researchers can also import their own (English language) data to the notebook and experiment with all of the funtions and parameters that are part of the [Vectorian API](https://github.com/poke1024/vectorian-2021). We hope this notebook provides a low-threshold access to the toolbox of embeddings for other researchers in the field of intertextuality studies and thus adds to a critical reflection of these new methods."
   ]
  },
  {
   "cell_type": "markdown",
   "id": "a4ce0575",
   "metadata": {},
   "source": [
    "# 5. Interactive searches with your own data <a class=\"anchor\" id=\"section_5\"></a>"
   ]
  },
  {
   "cell_type": "markdown",
   "id": "ab53cf6d",
   "metadata": {},
   "source": [
    "First specify the text documents you want to search through the upload widget seen below. Note that it expects plain text files with a `.txt` extension. The upload widget is provided through a helper class called `CustomSearch`. Note that we provide this helper class with information about the embeddings we want to employ for searching.\n",
    "\n",
    "A good source for obtaining some public domain plain text files to search in for this demo is <a href=\"https://wikisource.org\">wikisource.org</a>. For example, you can <a href=\"https://ws-export.wmcloud.org/?lang=en&title=The_Origin_of_Species_(1872)&format=txt\">download Charles Darwin's \"The Origin of Species\" via wikisource</a>. To download other titles, you need to enter the exact name identifier in wikisource. Always make sure that you are getting the plain text format."
   ]
  },
  {
   "cell_type": "code",
   "execution_count": 88,
   "id": "55478ee3",
   "metadata": {},
   "outputs": [
    {
     "data": {
      "application/vnd.jupyter.widget-view+json": {
       "model_id": "eb2431bab2084396893d77f7442f5c1b",
       "version_major": 2,
       "version_minor": 0
      },
      "text/plain": [
       "FileUpload(value={}, accept='.txt', description='Add Corpus Text Files', layout=Layout(width='50%'), multiple=…"
      ]
     },
     "metadata": {},
     "output_type": "display_data"
    }
   ],
   "source": [
    "search = nbutils.CustomSearch(\n",
    "    [the_embeddings[x] for x in [\"numberbatch\", \"fasttext\"]])\n",
    "search"
   ]
  },
  {
   "cell_type": "markdown",
   "id": "fd3ba2ba",
   "metadata": {},
   "source": [
    "From the file or files stored in the upload widget above, we now build a Vectorian session. For this, we need an `nlp` instance for importing the text documents. Depending on the size and number of documents, the initial processing can take some time.\n",
    "\n",
    "Once processing has finished, you are presented the full interactive search interface the Vectorian offers (we have hidden it so far and focussed on a subset). Note that in contrast to our experiments earlier, we do not search on the *document* level by default, but rather the *sentence* level - i.e. we split each document into sentences and then search on each sentence. You can change this in the \"Partition\" dropdown.\n",
    "\n",
    "Use the \"Query\" edit field and the \"Search\" button to perform searches."
   ]
  },
  {
   "cell_type": "code",
   "execution_count": 87,
   "id": "2b767872",
   "metadata": {},
   "outputs": [
    {
     "data": {
      "text/html": [
       "<strong>cannot run on empty upload. please provide at least one text file.</strong>"
      ],
      "text/plain": [
       "<IPython.core.display.HTML object>"
      ]
     },
     "metadata": {},
     "output_type": "display_data"
    }
   ],
   "source": [
    "search.interact(nlp)"
   ]
  },
  {
   "cell_type": "markdown",
   "id": "64fd87c8",
   "metadata": {
    "tags": []
   },
   "source": [
    "# 6. References\n",
    " <a class=\"anchor\" id=\"section_6\"></a>\n",
    "\n",
    "Bamman, David & Crane, Gregory (2008). The logic and discovery of textual allusion. In Proceedings of the 2008 LREC Workshop on Language Technology for Cultural Heritage Data.\n",
    "\n",
    "Bär, Daniel, Zesch, Torsten & Gurevych, Iryna (2012). Text reuse detection using a composition of text similarity measures. In Proceedings of COLING 2012, p. 167–184.\n",
    "\n",
    "Büchler, Marco, Geßner, Annette, Berti, Monica & Eckart, Thomas (2013). Measuring the influence of a work by text re-use. Bulletin of the Institute of Classical Studies. Supplement, p. 63–79.\n",
    "\n",
    "Burghardt, Manuel, Meyer, Selina, Schmidtbauer, Stephanie & Molz, Johannes (2019). “The Bard meets the Doctor” – Computergestützte Identifikation intertextueller Shakespearebezüge in der Science Fiction-Serie Dr. Who. Book of Abstracts, DHd.\n",
    "\n",
    "Chandrasekaran, Dhivya & Mago, Vijay (2021). Evolution of Semantic Similarity – A Survey. ACM Computing Surveys (CSUR), 54(2), p. 1-37.\n",
    "\n",
    "Faruqui, Manaal, Tsvetkov, Yulia, Rastogi, Pushpendre & Dyer, Chris (2016). Problems With Evaluation of Word Embeddings Using Word Similarity Tasks. In Proceedings of the 1st Workshop on Evaluating Vector-Space Representations for NLP, p. 30-35.\n",
    "\n",
    "Forstall, Christopher, Coffee, Neil, Buck, Thomas, Roache, Katherine & Jacobson, Sarah (2015). Modeling the scholars: Detecting intertextuality through enhanced word-level n-gram matching. Digital Scholarship in the Humanities, 30(4), p. 503–515.\n",
    "\n",
    "Genette, Gérard (1993). Palimpseste. Die Literatur auf zweiter Stufe. Suhrkamp.\n",
    "\n",
    "Hohl-Trillini, Regula & Burghardt, Manuel & Molz, Johannes & Pichler, Alex & Reiter, Nils & Sulzbacher, Ben & Nantke, Julia (2020). \"Intertextualität in literarischen Texten und darüber hinaus.\" Book of Abstracts, DHd 2020, Paderborn.\n",
    "\n",
    "Kusner, Matt, Sun, Yu, Kolkin, Nicholas & Weinberger, Kilian (2015). From word embeddings to document distances. In International conference on machine learning, p. 957-966.\n",
    "\n",
    "Liebl, Bernhard & Burghardt, Manuel (2020a). „The Vectorian“ – Eine parametrisierbare Suchmaschine für intertextuelle Referenzen. Book of Abstracts, DHd 2020, Paderborn.\n",
    "\n",
    "Liebl, Bernhard & Burghardt, Manuel (2020b). “Shakespeare in The Vectorian Age” – An Evaluation of Different Word Embeddings and NLP Parameters for the Detection of Shakespeare Quotes”. Proceedings of the 4th Joint SIGHUM Workshop on Computational Linguistics for Cultural Heritage, Social Sciences, Humanities and Literature (LateCH), co-located with COLING’2020.\n",
    "\n",
    "Manjavacas, Enrique, Long, Brian & Kestemont, Mike (2019). On the feasibility of automated detection of allusive text reuse. Proceedings of the 3rd Joint SIGHUM Workshop on Computational Linguistics for Cultural Heritage, Social Sciences, Humanities and Literature.\n",
    "\n",
    "Mikolov, Tomas, Chen, Kai, Corrado, Greg & Dean, Jeffrey (2013). Efficient estimation of word representations in vector space. In Proceedings of International Conference on Learning Representations (ICLR 2013). arXiv preprint arXiv:1301.3781.\n",
    "\n",
    "Mikolov, Tomas, Grave, Edouard, Bojanowski, Piotr, Puhrsch, Christian & Joulin, Armand (2018). Advances in pretraining distributed word representations. In Proceedings of the Eleventh International Conference on Language Resources and Evaluation (LREC 2018). arXiv preprint arXiv:1712.09405.\n",
    "\n",
    "Nagoudi, El Moatez Billah & Schwab, Didier (2017). Semantic Similarity of Arabic Sentences with Word Embeddings. In Proceedings of the 3rd Arabic Natural Language Processing Workshop, Association for Computational Linguistics, 2017, p. 18–24.\n",
    "\n",
    "Pennington, Jeffrey, Socher, Richard & Manning, Christopher D. (2014). Glove: Global vectors for word representation. In Proceedings of the 2014 conference on empirical methods in natural language processing (EMNLP), p. 1532-1543.\n",
    "\n",
    "Reimers, Nils & Gurevych, Iryna (2019). Sentence-BERT: Sentence Embeddings Using Siamese BERT-Networks. In Proceedings of the 2019 Conference on Empirical Methods in Natural Language Processing and the 9th International Joint Conference on Natural Language Processing (EMNLP-IJCNLP).\n",
    "\n",
    "Scheirer, Walter, Forstall, Christopher & Coffee, Neil (2014). The sense of a connection: Automatic tracing of intertextuality by meaning. Digital Scholarship in the Humanities, 31(1), p. 204–217.\n",
    "\n",
    "Sohangir, Sahar & Wang, Dingding (2017). Document Understanding Using Improved Sqrt-Cosine Similarity. In Proceedings of the 2017 IEEE 11th International Conference on Semantic Computing (ICSC), p. 278-279.\n",
    "\n",
    "Speer, Robyn, Chin, Joshua & Havasi, Catherine (2017). Conceptnet 5.5: An open multilingual graph of general knowledge. In Proceedings of the Thirty-First AAAI Conference on Artificial Intelligence (AAAI-17), p. 4444–4451.\n",
    "\n",
    "Wang, Yuxuan, Hou, Yutai, Che, Wanxiang & Liu, Ting (2020). From static to dynamic word representations: A survey. International Journal of Machine Learning and Cybernetics 11, p. 1611–1630.\n",
    "\n",
    "Waterman, Michael S., Smith, Temple F. & Beyer, William A. (1976). Some biological sequence metrics. Advances in Mathematics 20(3), p. 367-387.\n",
    "\n",
    "Werner, Matheus & Laber, Eduardo (2020). Speeding up Word Mover's Distance and its variants via properties of distances between embeddings. In Proceedings of the 24th European Conference on Artificial Intelligence (ECAI 2020), p. 2204-2211.\n",
    "\n",
    "Wieting, John, Bansal, Mohit, Gimpel, Kevin & Livescu, Karen (2015). Towards universal paraphrastic sentence embeddings. Proceedings of the 4th International Conference on Learning Representations, ICLR 2016, San Juan, Puerto Rico."
   ]
  },
  {
   "cell_type": "code",
   "execution_count": null,
   "id": "263ea8a1-7acd-4ec1-83c4-91a0afd5402d",
   "metadata": {},
   "outputs": [],
   "source": []
  }
 ],
 "metadata": {
  "kernelspec": {
   "display_name": "Python 3 (ipykernel)",
   "language": "python",
   "name": "python3"
  },
  "language_info": {
   "codemirror_mode": {
    "name": "ipython",
    "version": 3
   },
   "file_extension": ".py",
   "mimetype": "text/x-python",
   "name": "python",
   "nbconvert_exporter": "python",
   "pygments_lexer": "ipython3",
   "version": "3.9.7"
  }
 },
 "nbformat": 4,
 "nbformat_minor": 5
}
