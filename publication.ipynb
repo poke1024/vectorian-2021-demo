{
 "cells": [
  {
   "cell_type": "markdown",
   "id": "190bc476",
   "metadata": {},
   "source": [
    "# “Embed, embed! There’s knocking at the gate.”\n",
    "## Detecting Intertextuality with Embeddings and the Vectorian\n",
    "\n",
    "<i>Bernhard Liebl & Manuel Burghardt <br>\n",
    "    Computational Humanities Group, Leipzig University</i>\n",
    "\n",
    "## Table of Contents\n",
    "\n",
    "* [1. Introduction](#section_1)\n",
    "    * [1.1 Enter: word embeddings](#section_1_1)\n",
    "    * [1.2 Outline of the notebook](#section_1_2)\n",
    "    * [1.3 Technical setup](#section_1_3)\n",
    "* [2. Data and Tools](#section_2)\n",
    "    * [2.1 Introducing the gold standard dataset](#section_2_1)\n",
    "    * [2.2 Overview of different types of embeddings](#section_2_2)\n",
    "    * [2.3 \"Shapespeare in the Vectorian Age\" – Meet the Vectorian framework](#section_2_3)\n",
    "        * [2.3.1 Loading word embeddings](#section_2_3_1)\n",
    "        * [2.3.2 Creating the session](#section_2_3_2)\n",
    "* [3. Embeddings as a tool for intertextuality research](#section_3)\n",
    "    * [3.1  Exploring word embeddings](#section_3_1)\n",
    "        * [3.1.1 An introduction to word embeddings and token similarity](#section_3_1_1)\n",
    "        * [3.1.2 Detecting Shakespearean intertextuality through word embeddings](#section_3_1_2)\n",
    "    * [3.2 Exploring document embeddings](#section_3_2)\n",
    "    * [3.3 Exploring word mappings: WSB vs. WMD](#section_3_3)\n",
    "        * [3.3.1 Mapping quote queries to longer text documents](#section_3_3_1)\n",
    "        * [3.3.2 Evaluation: Plotting the nDCG over the corpus](#section_3_3_2)\n",
    "        * [3.3.3 Focussing on single queries](#section_3_3_3)\n",
    "    * [3.4 The influence of different embeddings](#section_3_4)\n",
    "* [4. Conclusion](#section_4)\n",
    "* [5. Interactive searches with your own data](#section_5)\n",
    "* [6. References](#section_6)\n"
   ]
  },
  {
   "cell_type": "markdown",
   "id": "55a187a5",
   "metadata": {},
   "source": [
    "# 1. Introduction <a class=\"anchor\" id=\"section_1\"></a>"
   ]
  },
  {
   "cell_type": "markdown",
   "id": "08900f82",
   "metadata": {},
   "source": [
    "The detection of intertextual references in text corpora is a digital humanities topic that has gained a lot of attention in recent years (for instance Bamman & Crane, 2008; Burghardt et al., 2019; Büchler et al., 2013; Forstall et al., 2015; Scheirer et al., 2014). While intertextuality – from a literary studies perspective – describes the phenomenon of one text being present in another text (cf. Genette, 1993), the computational problem at hand is the task of text similarity detection (Bär et al., 2012), and more concretely, semantic similarity detection. "
   ]
  },
  {
   "cell_type": "markdown",
   "id": "931e786e",
   "metadata": {},
   "source": [
    "In the following example of Shakespearean intertextuality, the words *bleed* and *leak* are semantically (and phonetically) similar, demonstrating that *Star Trek* here is quoting Shakespeare without any doubt: \n",
    "\n",
    "> Shylock: If you prick *us*, do *we* not **bleed**. <br>\n",
    "(Shakespeare; The Merchant of Venice)\n",
    "\n",
    "> Data: If you prick *me*, do *I* not **leak**. <br>\n",
    "(Star Trek: The Next Generation; The Measure of a Man)"
   ]
  },
  {
   "cell_type": "markdown",
   "id": "d93736f9",
   "metadata": {},
   "source": [
    "## 1.1 Enter: word embeddings <a class=\"anchor\" id=\"section_1_1\"></a>"
   ]
  },
  {
   "cell_type": "markdown",
   "id": "7d2d01c6",
   "metadata": {},
   "source": [
    "Over the years, there have been various attempts for measuring semantic similarity, some of them knowledge-based (e.g. based on WordNet), others corpus-based, like LDA (Chandrasekaran & Vijay, 2021). The arrival of word embeddings (Mikolov et al., 2013) has changed the field considerably by introducing a new and fast way to tackle the notion of word meaning. On the one hand, word embeddings are building blocks that can be combined with a number of other methods, such as alignments, soft cosine or Word Mover's Distance, to implement some kind of sentence similarity (Manjavacas et al., 2019). On the other hand, the concept of embeddings can be extended to work on the sentence-level as well, which is a conceptually different approach (Wieting et al., 2016). "
   ]
  },
  {
   "cell_type": "markdown",
   "id": "fe1c1073",
   "metadata": {},
   "source": [
    "We introduce the **<a href=\"https://github.com/poke1024/vectorian\">Vectorian</a>** as a framework that allows researchers to try out different embedding-based methods for intertextuality detection. In contrast to previous versions of the Vectorian (Liebl & Burghardt, 2020a/b) as a mere web interface with a limited set of static parameters, we now present a clean and completely redesigned API that is showcased in an interactive Jupyter notebook.\n",
    "\n",
    "In this notebook, we first use the Vectorian to build queries where we plug in pretrained static word embeddings such as FastText (Mikolov et al., 2018) and GloVe (Pennington et al., 2014). We evaluate the influence of computing similarity through alignments such as Waterman-Smith-Beyer (WSB; Waterman et al., 1976) and two variants of Word Mover’s Distance (WMD; Kusner et al., 2015). We also investigate the performance of state-of-art sentence embeddings like Siamese BERT networks (Reimers & Gurevych, 2019) for the task - both on a document level (as document embeddings) and as contextual token embeddings. Overall, we find that WSB with fastText offers highly competitive performance. We find that POS tag-weighted WSB seems to further improve results a small subset of queries. Readers can upload their own data for performing search queries and try out additional vector space metrics such as p-norms or improved sqrt‐cosine similarity (Sohangir & Wang, 2017)."
   ]
  },
  {
   "cell_type": "markdown",
   "id": "76ec578f",
   "metadata": {},
   "source": [
    "## 1.2 Outline of the notebook <a class=\"anchor\" id=\"section_1_2\"></a>"
   ]
  },
  {
   "cell_type": "markdown",
   "id": "3354577a",
   "metadata": {},
   "source": [
    "In the notebook, we will go through different examples of intertextuality to demonstrate and explain the implications of different embeddings and similarity measures. To achieve this we provide a small ground truth corpus of intertextual Shakespeare references that can be used for some controlled evaluation experiments. Our main goal is to provide an interactive environment, where researchers can test out different methods for text reuse and intertextuality detection. This notebook thus adds to a critical reflection of digital methods and can help to shed some light on their epistemological implications for the field of computational intertextuality detection. At the end of the notebook, researchers can also easily import their own data and investigate all the showcased methods for their specific texts. "
   ]
  },
  {
   "cell_type": "markdown",
   "id": "83dd01e9",
   "metadata": {},
   "source": [
    "## 1.3 Technical setup <a class=\"anchor\" id=\"section_1_3\"></a>"
   ]
  },
  {
   "cell_type": "markdown",
   "id": "81509d15",
   "metadata": {},
   "source": [
    "We import a couple of helper functions for visualizations and various computations (`nbutils`), a wrapper to load our gold standard data (`gold`), and finally the Vectorian library (`vectorian`), through which we will perform searches and evaluations later on.\n",
    "\n",
    "In `nbutils.initialize` we check whether there is a [bokeh server](https://docs.bokeh.org/en/latest/index.html) available. This typically *is* the case for local Jupyter installations, but is *not* the case for notebooks running on *mybinder*. In the latter case, the notebook has some limitations regarding interactivity."
   ]
  },
  {
   "cell_type": "code",
   "execution_count": 1,
   "id": "2ad4b2be",
   "metadata": {
    "collapsed": false,
    "jupyter": {
     "outputs_hidden": false
    },
    "pycharm": {
     "name": "#%%\n"
    }
   },
   "outputs": [
    {
     "data": {
      "text/html": [
       "\n",
       "        <div style=\"font-size: small;\">Running notebook in <b>SERVER</b> mode.</div>"
      ],
      "text/plain": [
       "<IPython.core.display.HTML object>"
      ]
     },
     "metadata": {},
     "output_type": "display_data"
    },
    {
     "data": {
      "text/html": [
       "\n",
       "    <div class=\"bk-root\">\n",
       "        <a href=\"https://bokeh.org\" target=\"_blank\" class=\"bk-logo bk-logo-small bk-logo-notebook\"></a>\n",
       "        <span id=\"1002\">Loading BokehJS ...</span>\n",
       "    </div>"
      ]
     },
     "metadata": {},
     "output_type": "display_data"
    },
    {
     "data": {
      "application/javascript": [
       "\n",
       "(function(root) {\n",
       "  function now() {\n",
       "    return new Date();\n",
       "  }\n",
       "\n",
       "  const force = true;\n",
       "\n",
       "  if (typeof root._bokeh_onload_callbacks === \"undefined\" || force === true) {\n",
       "    root._bokeh_onload_callbacks = [];\n",
       "    root._bokeh_is_loading = undefined;\n",
       "  }\n",
       "\n",
       "  const JS_MIME_TYPE = 'application/javascript';\n",
       "  const HTML_MIME_TYPE = 'text/html';\n",
       "  const EXEC_MIME_TYPE = 'application/vnd.bokehjs_exec.v0+json';\n",
       "  const CLASS_NAME = 'output_bokeh rendered_html';\n",
       "\n",
       "  /**\n",
       "   * Render data to the DOM node\n",
       "   */\n",
       "  function render(props, node) {\n",
       "    const script = document.createElement(\"script\");\n",
       "    node.appendChild(script);\n",
       "  }\n",
       "\n",
       "  /**\n",
       "   * Handle when an output is cleared or removed\n",
       "   */\n",
       "  function handleClearOutput(event, handle) {\n",
       "    const cell = handle.cell;\n",
       "\n",
       "    const id = cell.output_area._bokeh_element_id;\n",
       "    const server_id = cell.output_area._bokeh_server_id;\n",
       "    // Clean up Bokeh references\n",
       "    if (id != null && id in Bokeh.index) {\n",
       "      Bokeh.index[id].model.document.clear();\n",
       "      delete Bokeh.index[id];\n",
       "    }\n",
       "\n",
       "    if (server_id !== undefined) {\n",
       "      // Clean up Bokeh references\n",
       "      const cmd_clean = \"from bokeh.io.state import curstate; print(curstate().uuid_to_server['\" + server_id + \"'].get_sessions()[0].document.roots[0]._id)\";\n",
       "      cell.notebook.kernel.execute(cmd_clean, {\n",
       "        iopub: {\n",
       "          output: function(msg) {\n",
       "            const id = msg.content.text.trim();\n",
       "            if (id in Bokeh.index) {\n",
       "              Bokeh.index[id].model.document.clear();\n",
       "              delete Bokeh.index[id];\n",
       "            }\n",
       "          }\n",
       "        }\n",
       "      });\n",
       "      // Destroy server and session\n",
       "      const cmd_destroy = \"import bokeh.io.notebook as ion; ion.destroy_server('\" + server_id + \"')\";\n",
       "      cell.notebook.kernel.execute(cmd_destroy);\n",
       "    }\n",
       "  }\n",
       "\n",
       "  /**\n",
       "   * Handle when a new output is added\n",
       "   */\n",
       "  function handleAddOutput(event, handle) {\n",
       "    const output_area = handle.output_area;\n",
       "    const output = handle.output;\n",
       "\n",
       "    // limit handleAddOutput to display_data with EXEC_MIME_TYPE content only\n",
       "    if ((output.output_type != \"display_data\") || (!Object.prototype.hasOwnProperty.call(output.data, EXEC_MIME_TYPE))) {\n",
       "      return\n",
       "    }\n",
       "\n",
       "    const toinsert = output_area.element.find(\".\" + CLASS_NAME.split(' ')[0]);\n",
       "\n",
       "    if (output.metadata[EXEC_MIME_TYPE][\"id\"] !== undefined) {\n",
       "      toinsert[toinsert.length - 1].firstChild.textContent = output.data[JS_MIME_TYPE];\n",
       "      // store reference to embed id on output_area\n",
       "      output_area._bokeh_element_id = output.metadata[EXEC_MIME_TYPE][\"id\"];\n",
       "    }\n",
       "    if (output.metadata[EXEC_MIME_TYPE][\"server_id\"] !== undefined) {\n",
       "      const bk_div = document.createElement(\"div\");\n",
       "      bk_div.innerHTML = output.data[HTML_MIME_TYPE];\n",
       "      const script_attrs = bk_div.children[0].attributes;\n",
       "      for (let i = 0; i < script_attrs.length; i++) {\n",
       "        toinsert[toinsert.length - 1].firstChild.setAttribute(script_attrs[i].name, script_attrs[i].value);\n",
       "        toinsert[toinsert.length - 1].firstChild.textContent = bk_div.children[0].textContent\n",
       "      }\n",
       "      // store reference to server id on output_area\n",
       "      output_area._bokeh_server_id = output.metadata[EXEC_MIME_TYPE][\"server_id\"];\n",
       "    }\n",
       "  }\n",
       "\n",
       "  function register_renderer(events, OutputArea) {\n",
       "\n",
       "    function append_mime(data, metadata, element) {\n",
       "      // create a DOM node to render to\n",
       "      const toinsert = this.create_output_subarea(\n",
       "        metadata,\n",
       "        CLASS_NAME,\n",
       "        EXEC_MIME_TYPE\n",
       "      );\n",
       "      this.keyboard_manager.register_events(toinsert);\n",
       "      // Render to node\n",
       "      const props = {data: data, metadata: metadata[EXEC_MIME_TYPE]};\n",
       "      render(props, toinsert[toinsert.length - 1]);\n",
       "      element.append(toinsert);\n",
       "      return toinsert\n",
       "    }\n",
       "\n",
       "    /* Handle when an output is cleared or removed */\n",
       "    events.on('clear_output.CodeCell', handleClearOutput);\n",
       "    events.on('delete.Cell', handleClearOutput);\n",
       "\n",
       "    /* Handle when a new output is added */\n",
       "    events.on('output_added.OutputArea', handleAddOutput);\n",
       "\n",
       "    /**\n",
       "     * Register the mime type and append_mime function with output_area\n",
       "     */\n",
       "    OutputArea.prototype.register_mime_type(EXEC_MIME_TYPE, append_mime, {\n",
       "      /* Is output safe? */\n",
       "      safe: true,\n",
       "      /* Index of renderer in `output_area.display_order` */\n",
       "      index: 0\n",
       "    });\n",
       "  }\n",
       "\n",
       "  // register the mime type if in Jupyter Notebook environment and previously unregistered\n",
       "  if (root.Jupyter !== undefined) {\n",
       "    const events = require('base/js/events');\n",
       "    const OutputArea = require('notebook/js/outputarea').OutputArea;\n",
       "\n",
       "    if (OutputArea.prototype.mime_types().indexOf(EXEC_MIME_TYPE) == -1) {\n",
       "      register_renderer(events, OutputArea);\n",
       "    }\n",
       "  }\n",
       "\n",
       "  \n",
       "  if (typeof (root._bokeh_timeout) === \"undefined\" || force === true) {\n",
       "    root._bokeh_timeout = Date.now() + 5000;\n",
       "    root._bokeh_failed_load = false;\n",
       "  }\n",
       "\n",
       "  const NB_LOAD_WARNING = {'data': {'text/html':\n",
       "     \"<div style='background-color: #fdd'>\\n\"+\n",
       "     \"<p>\\n\"+\n",
       "     \"BokehJS does not appear to have successfully loaded. If loading BokehJS from CDN, this \\n\"+\n",
       "     \"may be due to a slow or bad network connection. Possible fixes:\\n\"+\n",
       "     \"</p>\\n\"+\n",
       "     \"<ul>\\n\"+\n",
       "     \"<li>re-rerun `output_notebook()` to attempt to load from CDN again, or</li>\\n\"+\n",
       "     \"<li>use INLINE resources instead, as so:</li>\\n\"+\n",
       "     \"</ul>\\n\"+\n",
       "     \"<code>\\n\"+\n",
       "     \"from bokeh.resources import INLINE\\n\"+\n",
       "     \"output_notebook(resources=INLINE)\\n\"+\n",
       "     \"</code>\\n\"+\n",
       "     \"</div>\"}};\n",
       "\n",
       "  function display_loaded() {\n",
       "    const el = document.getElementById(\"1002\");\n",
       "    if (el != null) {\n",
       "      el.textContent = \"BokehJS is loading...\";\n",
       "    }\n",
       "    if (root.Bokeh !== undefined) {\n",
       "      if (el != null) {\n",
       "        el.textContent = \"BokehJS \" + root.Bokeh.version + \" successfully loaded.\";\n",
       "      }\n",
       "    } else if (Date.now() < root._bokeh_timeout) {\n",
       "      setTimeout(display_loaded, 100)\n",
       "    }\n",
       "  }\n",
       "\n",
       "\n",
       "  function run_callbacks() {\n",
       "    try {\n",
       "      root._bokeh_onload_callbacks.forEach(function(callback) {\n",
       "        if (callback != null)\n",
       "          callback();\n",
       "      });\n",
       "    } finally {\n",
       "      delete root._bokeh_onload_callbacks\n",
       "    }\n",
       "    console.debug(\"Bokeh: all callbacks have finished\");\n",
       "  }\n",
       "\n",
       "  function load_libs(css_urls, js_urls, callback) {\n",
       "    if (css_urls == null) css_urls = [];\n",
       "    if (js_urls == null) js_urls = [];\n",
       "\n",
       "    root._bokeh_onload_callbacks.push(callback);\n",
       "    if (root._bokeh_is_loading > 0) {\n",
       "      console.debug(\"Bokeh: BokehJS is being loaded, scheduling callback at\", now());\n",
       "      return null;\n",
       "    }\n",
       "    if (js_urls == null || js_urls.length === 0) {\n",
       "      run_callbacks();\n",
       "      return null;\n",
       "    }\n",
       "    console.debug(\"Bokeh: BokehJS not loaded, scheduling load and callback at\", now());\n",
       "    root._bokeh_is_loading = css_urls.length + js_urls.length;\n",
       "\n",
       "    function on_load() {\n",
       "      root._bokeh_is_loading--;\n",
       "      if (root._bokeh_is_loading === 0) {\n",
       "        console.debug(\"Bokeh: all BokehJS libraries/stylesheets loaded\");\n",
       "        run_callbacks()\n",
       "      }\n",
       "    }\n",
       "\n",
       "    function on_error(url) {\n",
       "      console.error(\"failed to load \" + url);\n",
       "    }\n",
       "\n",
       "    for (let i = 0; i < css_urls.length; i++) {\n",
       "      const url = css_urls[i];\n",
       "      const element = document.createElement(\"link\");\n",
       "      element.onload = on_load;\n",
       "      element.onerror = on_error.bind(null, url);\n",
       "      element.rel = \"stylesheet\";\n",
       "      element.type = \"text/css\";\n",
       "      element.href = url;\n",
       "      console.debug(\"Bokeh: injecting link tag for BokehJS stylesheet: \", url);\n",
       "      document.body.appendChild(element);\n",
       "    }\n",
       "\n",
       "    for (let i = 0; i < js_urls.length; i++) {\n",
       "      const url = js_urls[i];\n",
       "      const element = document.createElement('script');\n",
       "      element.onload = on_load;\n",
       "      element.onerror = on_error.bind(null, url);\n",
       "      element.async = false;\n",
       "      element.src = url;\n",
       "      console.debug(\"Bokeh: injecting script tag for BokehJS library: \", url);\n",
       "      document.head.appendChild(element);\n",
       "    }\n",
       "  };\n",
       "\n",
       "  function inject_raw_css(css) {\n",
       "    const element = document.createElement(\"style\");\n",
       "    element.appendChild(document.createTextNode(css));\n",
       "    document.body.appendChild(element);\n",
       "  }\n",
       "\n",
       "  \n",
       "  const js_urls = [\"https://cdn.bokeh.org/bokeh/release/bokeh-2.4.0.min.js\", \"https://cdn.bokeh.org/bokeh/release/bokeh-gl-2.4.0.min.js\", \"https://cdn.bokeh.org/bokeh/release/bokeh-widgets-2.4.0.min.js\", \"https://cdn.bokeh.org/bokeh/release/bokeh-tables-2.4.0.min.js\", \"https://cdn.bokeh.org/bokeh/release/bokeh-mathjax-2.4.0.min.js\"];\n",
       "  const css_urls = [];\n",
       "  \n",
       "\n",
       "  const inline_js = [\n",
       "    function(Bokeh) {\n",
       "      Bokeh.set_log_level(\"info\");\n",
       "    },\n",
       "    function(Bokeh) {\n",
       "    \n",
       "    \n",
       "    }\n",
       "  ];\n",
       "\n",
       "  function run_inline_js() {\n",
       "    \n",
       "    if (root.Bokeh !== undefined || force === true) {\n",
       "      \n",
       "    for (let i = 0; i < inline_js.length; i++) {\n",
       "      inline_js[i].call(root, root.Bokeh);\n",
       "    }\n",
       "    if (force === true) {\n",
       "        display_loaded();\n",
       "      }} else if (Date.now() < root._bokeh_timeout) {\n",
       "      setTimeout(run_inline_js, 100);\n",
       "    } else if (!root._bokeh_failed_load) {\n",
       "      console.log(\"Bokeh: BokehJS failed to load within specified timeout.\");\n",
       "      root._bokeh_failed_load = true;\n",
       "    } else if (force !== true) {\n",
       "      const cell = $(document.getElementById(\"1002\")).parents('.cell').data().cell;\n",
       "      cell.output_area.append_execute_result(NB_LOAD_WARNING)\n",
       "    }\n",
       "\n",
       "  }\n",
       "\n",
       "  if (root._bokeh_is_loading === 0) {\n",
       "    console.debug(\"Bokeh: BokehJS loaded, going straight to plotting\");\n",
       "    run_inline_js();\n",
       "  } else {\n",
       "    load_libs(css_urls, js_urls, function() {\n",
       "      console.debug(\"Bokeh: BokehJS plotting callback run at\", now());\n",
       "      run_inline_js();\n",
       "    });\n",
       "  }\n",
       "}(window));"
      ],
      "application/vnd.bokehjs_load.v0+json": "\n(function(root) {\n  function now() {\n    return new Date();\n  }\n\n  const force = true;\n\n  if (typeof root._bokeh_onload_callbacks === \"undefined\" || force === true) {\n    root._bokeh_onload_callbacks = [];\n    root._bokeh_is_loading = undefined;\n  }\n\n  \n\n  \n  if (typeof (root._bokeh_timeout) === \"undefined\" || force === true) {\n    root._bokeh_timeout = Date.now() + 5000;\n    root._bokeh_failed_load = false;\n  }\n\n  const NB_LOAD_WARNING = {'data': {'text/html':\n     \"<div style='background-color: #fdd'>\\n\"+\n     \"<p>\\n\"+\n     \"BokehJS does not appear to have successfully loaded. If loading BokehJS from CDN, this \\n\"+\n     \"may be due to a slow or bad network connection. Possible fixes:\\n\"+\n     \"</p>\\n\"+\n     \"<ul>\\n\"+\n     \"<li>re-rerun `output_notebook()` to attempt to load from CDN again, or</li>\\n\"+\n     \"<li>use INLINE resources instead, as so:</li>\\n\"+\n     \"</ul>\\n\"+\n     \"<code>\\n\"+\n     \"from bokeh.resources import INLINE\\n\"+\n     \"output_notebook(resources=INLINE)\\n\"+\n     \"</code>\\n\"+\n     \"</div>\"}};\n\n  function display_loaded() {\n    const el = document.getElementById(\"1002\");\n    if (el != null) {\n      el.textContent = \"BokehJS is loading...\";\n    }\n    if (root.Bokeh !== undefined) {\n      if (el != null) {\n        el.textContent = \"BokehJS \" + root.Bokeh.version + \" successfully loaded.\";\n      }\n    } else if (Date.now() < root._bokeh_timeout) {\n      setTimeout(display_loaded, 100)\n    }\n  }\n\n\n  function run_callbacks() {\n    try {\n      root._bokeh_onload_callbacks.forEach(function(callback) {\n        if (callback != null)\n          callback();\n      });\n    } finally {\n      delete root._bokeh_onload_callbacks\n    }\n    console.debug(\"Bokeh: all callbacks have finished\");\n  }\n\n  function load_libs(css_urls, js_urls, callback) {\n    if (css_urls == null) css_urls = [];\n    if (js_urls == null) js_urls = [];\n\n    root._bokeh_onload_callbacks.push(callback);\n    if (root._bokeh_is_loading > 0) {\n      console.debug(\"Bokeh: BokehJS is being loaded, scheduling callback at\", now());\n      return null;\n    }\n    if (js_urls == null || js_urls.length === 0) {\n      run_callbacks();\n      return null;\n    }\n    console.debug(\"Bokeh: BokehJS not loaded, scheduling load and callback at\", now());\n    root._bokeh_is_loading = css_urls.length + js_urls.length;\n\n    function on_load() {\n      root._bokeh_is_loading--;\n      if (root._bokeh_is_loading === 0) {\n        console.debug(\"Bokeh: all BokehJS libraries/stylesheets loaded\");\n        run_callbacks()\n      }\n    }\n\n    function on_error(url) {\n      console.error(\"failed to load \" + url);\n    }\n\n    for (let i = 0; i < css_urls.length; i++) {\n      const url = css_urls[i];\n      const element = document.createElement(\"link\");\n      element.onload = on_load;\n      element.onerror = on_error.bind(null, url);\n      element.rel = \"stylesheet\";\n      element.type = \"text/css\";\n      element.href = url;\n      console.debug(\"Bokeh: injecting link tag for BokehJS stylesheet: \", url);\n      document.body.appendChild(element);\n    }\n\n    for (let i = 0; i < js_urls.length; i++) {\n      const url = js_urls[i];\n      const element = document.createElement('script');\n      element.onload = on_load;\n      element.onerror = on_error.bind(null, url);\n      element.async = false;\n      element.src = url;\n      console.debug(\"Bokeh: injecting script tag for BokehJS library: \", url);\n      document.head.appendChild(element);\n    }\n  };\n\n  function inject_raw_css(css) {\n    const element = document.createElement(\"style\");\n    element.appendChild(document.createTextNode(css));\n    document.body.appendChild(element);\n  }\n\n  \n  const js_urls = [\"https://cdn.bokeh.org/bokeh/release/bokeh-2.4.0.min.js\", \"https://cdn.bokeh.org/bokeh/release/bokeh-gl-2.4.0.min.js\", \"https://cdn.bokeh.org/bokeh/release/bokeh-widgets-2.4.0.min.js\", \"https://cdn.bokeh.org/bokeh/release/bokeh-tables-2.4.0.min.js\", \"https://cdn.bokeh.org/bokeh/release/bokeh-mathjax-2.4.0.min.js\"];\n  const css_urls = [];\n  \n\n  const inline_js = [\n    function(Bokeh) {\n      Bokeh.set_log_level(\"info\");\n    },\n    function(Bokeh) {\n    \n    \n    }\n  ];\n\n  function run_inline_js() {\n    \n    if (root.Bokeh !== undefined || force === true) {\n      \n    for (let i = 0; i < inline_js.length; i++) {\n      inline_js[i].call(root, root.Bokeh);\n    }\n    if (force === true) {\n        display_loaded();\n      }} else if (Date.now() < root._bokeh_timeout) {\n      setTimeout(run_inline_js, 100);\n    } else if (!root._bokeh_failed_load) {\n      console.log(\"Bokeh: BokehJS failed to load within specified timeout.\");\n      root._bokeh_failed_load = true;\n    } else if (force !== true) {\n      const cell = $(document.getElementById(\"1002\")).parents('.cell').data().cell;\n      cell.output_area.append_execute_result(NB_LOAD_WARNING)\n    }\n\n  }\n\n  if (root._bokeh_is_loading === 0) {\n    console.debug(\"Bokeh: BokehJS loaded, going straight to plotting\");\n    run_inline_js();\n  } else {\n    load_libs(css_urls, js_urls, function() {\n      console.debug(\"Bokeh: BokehJS plotting callback run at\", now());\n      run_inline_js();\n    });\n  }\n}(window));"
     },
     "metadata": {},
     "output_type": "display_data"
    }
   ],
   "source": [
    "import sys\n",
    "sys.path.append(\"code\")  # make importable\n",
    "\n",
    "import nbutils, gold, vectorian\n",
    "import ipywidgets as widgets\n",
    "from ipywidgets import interact\n",
    "\n",
    "nbutils.initialize(\"auto\")"
   ]
  },
  {
   "cell_type": "markdown",
   "id": "cfedd8b6-31de-464e-8970-4ec5508e0eb9",
   "metadata": {},
   "source": [
    "# 2. Data and Tools <a class=\"anchor\" id=\"section_2\"></a>"
   ]
  },
  {
   "cell_type": "markdown",
   "id": "d6be272b-e11c-47a4-a94e-8da5c061fa15",
   "metadata": {},
   "source": [
    "## 2.1 Introducing the gold standard dataset <a class=\"anchor\" id=\"section_2_1\"></a>"
   ]
  },
  {
   "cell_type": "markdown",
   "id": "038a3660-df73-4444-97e8-f53827fe0bcd",
   "metadata": {},
   "source": [
    "In the following we use a collection of 100 short text snippets (=documents) that quote a total of 20 different Shakespeare phrases. All of these documents were derived from the [WordWeb IDEM portal](http://wordweb-idem.ch/about-us.html), where literary scholars collect intertextual references in a freely accessible database (Hohl et al., 2020). Each document quotes exactly one of the 20 phrases. For some phrases, e.g. \"to be or not to be\", there are more quoting documents than for others (see interactive overview of documents below). If there are multiple documents that quote the same phrase, we selected them in a way each of them does this in a different way. There are no verbatim quotes in the documents, but always more or less complex variations of the original phrase."
   ]
  },
  {
   "cell_type": "markdown",
   "id": "19440288-e2ab-4d0d-89c9-3698c4494a9a",
   "metadata": {},
   "source": [
    "We use this collection of quote documents as a gold standard, to be able to assess how well different embeddings and search algorithms are able to detect rephrasings of different types of quotes.\n",
    "\n",
    "The gold standard data is simply a directed graph, where nodes are phrases - e.g. \"to be or not to be\" - and edges model intertextuality - i.e. one phrase reccurring in a different context and rephrasing in a different. For example, \"to be or not to be\" will have several outgoing edges that reference other phrases from other works that we consider related. Edges are directed, and start from the original work (which are always works by William Shakespeare in this notebook's gold standard data) and go to the work that contains a rephrasing.\n",
    "\n",
    "Nodes contain additional information on a phrase's context (i.e. surrounding text) and the containing work (and author), both of which allow us to understand where the phrase comes from and where it is used.\n",
    "\n",
    "The plot below is a visualization of the gold data graph where nodes are represented as circles. The 20 larger red nodes are source nodes, i.e. those nodes by Shakespeare that serve as queries for our investigations. The 100 smaller orange nodes are phrases that are related to the original Shakespeare phrase. By hovering over nodes, you are able to see the phrase itself, the work it occurs in, and the full context where it is embedded (the phrase variation is bold)."
   ]
  },
  {
   "cell_type": "code",
   "execution_count": 2,
   "id": "bab19081-815e-4b11-80e7-77581c4f2362",
   "metadata": {},
   "outputs": [
    {
     "data": {
      "text/html": [
       "\n",
       "\n",
       "\n",
       "\n",
       "\n",
       "\n",
       "  <div class=\"bk-root\" id=\"d5885290-8d32-4f00-92b6-4f7a57b3d576\" data-root-id=\"1003\"></div>\n"
      ]
     },
     "metadata": {},
     "output_type": "display_data"
    },
    {
     "data": {
      "application/javascript": [
       "(function(root) {\n",
       "  function embed_document(root) {\n",
       "    \n",
       "  const docs_json = {\"fef3cb0f-81e4-4d10-bcb2-87bdcb3bdcb0\":{\"defs\":[],\"roots\":{\"references\":[{\"attributes\":{\"center\":[{\"id\":\"1032\"},{\"id\":\"1035\"},{\"id\":\"1038\"},{\"id\":\"1041\"},{\"id\":\"1044\"},{\"id\":\"1047\"},{\"id\":\"1050\"},{\"id\":\"1053\"},{\"id\":\"1056\"},{\"id\":\"1059\"},{\"id\":\"1062\"},{\"id\":\"1065\"},{\"id\":\"1068\"},{\"id\":\"1071\"},{\"id\":\"1074\"},{\"id\":\"1077\"},{\"id\":\"1080\"},{\"id\":\"1083\"},{\"id\":\"1086\"},{\"id\":\"1089\"},{\"id\":\"1092\"},{\"id\":\"1095\"},{\"id\":\"1098\"},{\"id\":\"1101\"},{\"id\":\"1104\"},{\"id\":\"1107\"},{\"id\":\"1110\"},{\"id\":\"1113\"},{\"id\":\"1116\"},{\"id\":\"1119\"},{\"id\":\"1122\"},{\"id\":\"1125\"},{\"id\":\"1128\"},{\"id\":\"1131\"},{\"id\":\"1134\"},{\"id\":\"1137\"},{\"id\":\"1140\"},{\"id\":\"1143\"},{\"id\":\"1146\"},{\"id\":\"1149\"},{\"id\":\"1152\"},{\"id\":\"1155\"},{\"id\":\"1158\"},{\"id\":\"1161\"},{\"id\":\"1164\"},{\"id\":\"1167\"},{\"id\":\"1170\"},{\"id\":\"1173\"},{\"id\":\"1176\"},{\"id\":\"1179\"},{\"id\":\"1182\"},{\"id\":\"1185\"},{\"id\":\"1188\"},{\"id\":\"1191\"},{\"id\":\"1194\"},{\"id\":\"1197\"},{\"id\":\"1200\"},{\"id\":\"1203\"},{\"id\":\"1206\"},{\"id\":\"1209\"},{\"id\":\"1212\"},{\"id\":\"1215\"},{\"id\":\"1218\"},{\"id\":\"1221\"},{\"id\":\"1224\"},{\"id\":\"1227\"},{\"id\":\"1230\"},{\"id\":\"1233\"},{\"id\":\"1236\"},{\"id\":\"1239\"},{\"id\":\"1242\"},{\"id\":\"1245\"},{\"id\":\"1248\"},{\"id\":\"1251\"},{\"id\":\"1254\"},{\"id\":\"1257\"},{\"id\":\"1260\"},{\"id\":\"1263\"},{\"id\":\"1266\"},{\"id\":\"1269\"},{\"id\":\"1272\"},{\"id\":\"1275\"},{\"id\":\"1278\"},{\"id\":\"1281\"},{\"id\":\"1284\"},{\"id\":\"1287\"},{\"id\":\"1290\"},{\"id\":\"1293\"},{\"id\":\"1296\"},{\"id\":\"1299\"},{\"id\":\"1302\"},{\"id\":\"1305\"},{\"id\":\"1308\"},{\"id\":\"1311\"},{\"id\":\"1314\"},{\"id\":\"1317\"},{\"id\":\"1320\"},{\"id\":\"1323\"},{\"id\":\"1326\"},{\"id\":\"1329\"}],\"match_aspect\":true,\"output_backend\":\"svg\",\"renderers\":[{\"id\":\"1011\"}],\"title\":{\"id\":\"1004\"},\"toolbar\":{\"id\":\"1006\"},\"toolbar_location\":\"below\",\"x_range\":{\"id\":\"1331\"},\"x_scale\":{\"id\":\"1333\"},\"y_range\":{\"id\":\"1332\"},\"y_scale\":{\"id\":\"1334\"}},\"id\":\"1003\",\"type\":\"Plot\"},{\"attributes\":{\"coordinates\":null,\"end\":{\"id\":\"1325\"},\"group\":null,\"line_width\":{\"value\":1.5},\"source\":{\"id\":\"1444\"},\"start\":null,\"x_end\":{\"value\":586.6987868319834},\"x_start\":{\"value\":601.5882842240222},\"y_end\":{\"value\":90.0139387548969},\"y_start\":{\"value\":129.02474832680414}},\"id\":\"1326\",\"type\":\"Arrow\"},{\"attributes\":{},\"id\":\"1331\",\"type\":\"DataRange1d\"},{\"attributes\":{\"data\":{},\"selected\":{\"id\":\"1459\"},\"selection_policy\":{\"id\":\"1458\"}},\"id\":\"1352\",\"type\":\"ColumnDataSource\"},{\"attributes\":{},\"id\":\"1532\",\"type\":\"UnionRenderers\"},{\"attributes\":{},\"id\":\"1616\",\"type\":\"UnionRenderers\"},{\"attributes\":{\"size\":{\"value\":5}},\"id\":\"1328\",\"type\":\"NormalHead\"},{\"attributes\":{\"coordinates\":null,\"end\":{\"id\":\"1328\"},\"group\":null,\"line_width\":{\"value\":1.5},\"source\":{\"id\":\"1445\"},\"start\":null,\"x_end\":{\"value\":570.1970733554799},\"x_start\":{\"value\":596.2439021926936},\"y_end\":{\"value\":195.97629844203763},\"y_start\":{\"value\":163.34160207728314}},\"id\":\"1329\",\"type\":\"Arrow\"},{\"attributes\":{},\"id\":\"1533\",\"type\":\"Selection\"},{\"attributes\":{},\"id\":\"1617\",\"type\":\"Selection\"},{\"attributes\":{},\"id\":\"1332\",\"type\":\"DataRange1d\"},{\"attributes\":{\"data\":{},\"selected\":{\"id\":\"1461\"},\"selection_policy\":{\"id\":\"1460\"}},\"id\":\"1353\",\"type\":\"ColumnDataSource\"},{\"attributes\":{},\"id\":\"1333\",\"type\":\"LinearScale\"},{\"attributes\":{},\"id\":\"1334\",\"type\":\"LinearScale\"},{\"attributes\":{},\"id\":\"1534\",\"type\":\"UnionRenderers\"},{\"attributes\":{},\"id\":\"1618\",\"type\":\"UnionRenderers\"},{\"attributes\":{\"data\":{},\"selected\":{\"id\":\"1463\"},\"selection_policy\":{\"id\":\"1462\"}},\"id\":\"1354\",\"type\":\"ColumnDataSource\"},{\"attributes\":{},\"id\":\"1535\",\"type\":\"Selection\"},{\"attributes\":{},\"id\":\"1619\",\"type\":\"Selection\"},{\"attributes\":{\"data\":{},\"selected\":{\"id\":\"1465\"},\"selection_policy\":{\"id\":\"1464\"}},\"id\":\"1355\",\"type\":\"ColumnDataSource\"},{\"attributes\":{},\"id\":\"1536\",\"type\":\"UnionRenderers\"},{\"attributes\":{},\"id\":\"1620\",\"type\":\"UnionRenderers\"},{\"attributes\":{\"data\":{},\"selected\":{\"id\":\"1467\"},\"selection_policy\":{\"id\":\"1466\"}},\"id\":\"1356\",\"type\":\"ColumnDataSource\"},{\"attributes\":{},\"id\":\"1537\",\"type\":\"Selection\"},{\"attributes\":{},\"id\":\"1621\",\"type\":\"Selection\"},{\"attributes\":{\"data\":{},\"selected\":{\"id\":\"1469\"},\"selection_policy\":{\"id\":\"1468\"}},\"id\":\"1357\",\"type\":\"ColumnDataSource\"},{\"attributes\":{},\"id\":\"1538\",\"type\":\"UnionRenderers\"},{\"attributes\":{},\"id\":\"1622\",\"type\":\"UnionRenderers\"},{\"attributes\":{},\"id\":\"1539\",\"type\":\"Selection\"},{\"attributes\":{},\"id\":\"1623\",\"type\":\"Selection\"},{\"attributes\":{\"data\":{},\"selected\":{\"id\":\"1471\"},\"selection_policy\":{\"id\":\"1470\"}},\"id\":\"1358\",\"type\":\"ColumnDataSource\"},{\"attributes\":{},\"id\":\"1540\",\"type\":\"UnionRenderers\"},{\"attributes\":{},\"id\":\"1624\",\"type\":\"UnionRenderers\"},{\"attributes\":{\"data\":{},\"selected\":{\"id\":\"1473\"},\"selection_policy\":{\"id\":\"1472\"}},\"id\":\"1359\",\"type\":\"ColumnDataSource\"},{\"attributes\":{},\"id\":\"1541\",\"type\":\"Selection\"},{\"attributes\":{},\"id\":\"1625\",\"type\":\"Selection\"},{\"attributes\":{},\"id\":\"1344\",\"type\":\"NodesOnly\"},{\"attributes\":{\"data\":{},\"selected\":{\"id\":\"1475\"},\"selection_policy\":{\"id\":\"1474\"}},\"id\":\"1360\",\"type\":\"ColumnDataSource\"},{\"attributes\":{},\"id\":\"1542\",\"type\":\"UnionRenderers\"},{\"attributes\":{},\"id\":\"1626\",\"type\":\"UnionRenderers\"},{\"attributes\":{\"data\":{},\"selected\":{\"id\":\"1501\"},\"selection_policy\":{\"id\":\"1500\"}},\"id\":\"1373\",\"type\":\"ColumnDataSource\"},{\"attributes\":{},\"id\":\"1543\",\"type\":\"Selection\"},{\"attributes\":{},\"id\":\"1627\",\"type\":\"Selection\"},{\"attributes\":{\"data\":{},\"selected\":{\"id\":\"1477\"},\"selection_policy\":{\"id\":\"1476\"}},\"id\":\"1361\",\"type\":\"ColumnDataSource\"},{\"attributes\":{},\"id\":\"1345\",\"type\":\"NodesOnly\"},{\"attributes\":{},\"id\":\"1544\",\"type\":\"UnionRenderers\"},{\"attributes\":{},\"id\":\"1628\",\"type\":\"UnionRenderers\"},{\"attributes\":{\"data\":{},\"selected\":{\"id\":\"1479\"},\"selection_policy\":{\"id\":\"1478\"}},\"id\":\"1362\",\"type\":\"ColumnDataSource\"},{\"attributes\":{},\"id\":\"1545\",\"type\":\"Selection\"},{\"attributes\":{},\"id\":\"1629\",\"type\":\"Selection\"},{\"attributes\":{\"data\":{},\"selected\":{\"id\":\"1447\"},\"selection_policy\":{\"id\":\"1446\"}},\"id\":\"1346\",\"type\":\"ColumnDataSource\"},{\"attributes\":{\"data\":{},\"selected\":{\"id\":\"1481\"},\"selection_policy\":{\"id\":\"1480\"}},\"id\":\"1363\",\"type\":\"ColumnDataSource\"},{\"attributes\":{},\"id\":\"1546\",\"type\":\"UnionRenderers\"},{\"attributes\":{},\"id\":\"1630\",\"type\":\"UnionRenderers\"},{\"attributes\":{\"data\":{},\"selected\":{\"id\":\"1449\"},\"selection_policy\":{\"id\":\"1448\"}},\"id\":\"1347\",\"type\":\"ColumnDataSource\"},{\"attributes\":{\"data\":{},\"selected\":{\"id\":\"1483\"},\"selection_policy\":{\"id\":\"1482\"}},\"id\":\"1364\",\"type\":\"ColumnDataSource\"},{\"attributes\":{},\"id\":\"1547\",\"type\":\"Selection\"},{\"attributes\":{},\"id\":\"1631\",\"type\":\"Selection\"},{\"attributes\":{\"data\":{},\"selected\":{\"id\":\"1451\"},\"selection_policy\":{\"id\":\"1450\"}},\"id\":\"1348\",\"type\":\"ColumnDataSource\"},{\"attributes\":{\"data\":{},\"selected\":{\"id\":\"1485\"},\"selection_policy\":{\"id\":\"1484\"}},\"id\":\"1365\",\"type\":\"ColumnDataSource\"},{\"attributes\":{},\"id\":\"1548\",\"type\":\"UnionRenderers\"},{\"attributes\":{},\"id\":\"1632\",\"type\":\"UnionRenderers\"},{\"attributes\":{},\"id\":\"1549\",\"type\":\"Selection\"},{\"attributes\":{},\"id\":\"1633\",\"type\":\"Selection\"},{\"attributes\":{\"data\":{},\"selected\":{\"id\":\"1453\"},\"selection_policy\":{\"id\":\"1452\"}},\"id\":\"1349\",\"type\":\"ColumnDataSource\"},{\"attributes\":{\"data\":{},\"selected\":{\"id\":\"1487\"},\"selection_policy\":{\"id\":\"1486\"}},\"id\":\"1366\",\"type\":\"ColumnDataSource\"},{\"attributes\":{},\"id\":\"1550\",\"type\":\"UnionRenderers\"},{\"attributes\":{},\"id\":\"1634\",\"type\":\"UnionRenderers\"},{\"attributes\":{\"data\":{},\"selected\":{\"id\":\"1455\"},\"selection_policy\":{\"id\":\"1454\"}},\"id\":\"1350\",\"type\":\"ColumnDataSource\"},{\"attributes\":{\"data\":{},\"selected\":{\"id\":\"1489\"},\"selection_policy\":{\"id\":\"1488\"}},\"id\":\"1367\",\"type\":\"ColumnDataSource\"},{\"attributes\":{},\"id\":\"1551\",\"type\":\"Selection\"},{\"attributes\":{},\"id\":\"1635\",\"type\":\"Selection\"},{\"attributes\":{\"data\":{},\"selected\":{\"id\":\"1457\"},\"selection_policy\":{\"id\":\"1456\"}},\"id\":\"1351\",\"type\":\"ColumnDataSource\"},{\"attributes\":{\"data\":{},\"selected\":{\"id\":\"1491\"},\"selection_policy\":{\"id\":\"1490\"}},\"id\":\"1368\",\"type\":\"ColumnDataSource\"},{\"attributes\":{\"data\":{},\"selected\":{\"id\":\"1527\"},\"selection_policy\":{\"id\":\"1526\"}},\"id\":\"1386\",\"type\":\"ColumnDataSource\"},{\"attributes\":{},\"id\":\"1552\",\"type\":\"UnionRenderers\"},{\"attributes\":{},\"id\":\"1553\",\"type\":\"Selection\"},{\"attributes\":{\"data\":{},\"selected\":{\"id\":\"1529\"},\"selection_policy\":{\"id\":\"1528\"}},\"id\":\"1387\",\"type\":\"ColumnDataSource\"},{\"attributes\":{},\"id\":\"1554\",\"type\":\"UnionRenderers\"},{\"attributes\":{\"data\":{},\"selected\":{\"id\":\"1531\"},\"selection_policy\":{\"id\":\"1530\"}},\"id\":\"1388\",\"type\":\"ColumnDataSource\"},{\"attributes\":{},\"id\":\"1555\",\"type\":\"Selection\"},{\"attributes\":{\"data\":{},\"selected\":{\"id\":\"1533\"},\"selection_policy\":{\"id\":\"1532\"}},\"id\":\"1389\",\"type\":\"ColumnDataSource\"},{\"attributes\":{},\"id\":\"1556\",\"type\":\"UnionRenderers\"},{\"attributes\":{},\"id\":\"1557\",\"type\":\"Selection\"},{\"attributes\":{\"data\":{},\"selected\":{\"id\":\"1535\"},\"selection_policy\":{\"id\":\"1534\"}},\"id\":\"1390\",\"type\":\"ColumnDataSource\"},{\"attributes\":{},\"id\":\"1558\",\"type\":\"UnionRenderers\"},{\"attributes\":{\"data\":{},\"selected\":{\"id\":\"1537\"},\"selection_policy\":{\"id\":\"1536\"}},\"id\":\"1391\",\"type\":\"ColumnDataSource\"},{\"attributes\":{},\"id\":\"1559\",\"type\":\"Selection\"},{\"attributes\":{\"data\":{},\"selected\":{\"id\":\"1539\"},\"selection_policy\":{\"id\":\"1538\"}},\"id\":\"1392\",\"type\":\"ColumnDataSource\"},{\"attributes\":{},\"id\":\"1560\",\"type\":\"UnionRenderers\"},{\"attributes\":{},\"id\":\"1561\",\"type\":\"Selection\"},{\"attributes\":{\"data\":{},\"selected\":{\"id\":\"1541\"},\"selection_policy\":{\"id\":\"1540\"}},\"id\":\"1393\",\"type\":\"ColumnDataSource\"},{\"attributes\":{},\"id\":\"1562\",\"type\":\"UnionRenderers\"},{\"attributes\":{\"data\":{},\"selected\":{\"id\":\"1543\"},\"selection_policy\":{\"id\":\"1542\"}},\"id\":\"1394\",\"type\":\"ColumnDataSource\"},{\"attributes\":{},\"id\":\"1563\",\"type\":\"Selection\"},{\"attributes\":{\"data\":{},\"selected\":{\"id\":\"1545\"},\"selection_policy\":{\"id\":\"1544\"}},\"id\":\"1395\",\"type\":\"ColumnDataSource\"},{\"attributes\":{},\"id\":\"1564\",\"type\":\"UnionRenderers\"},{\"attributes\":{\"data\":{},\"selected\":{\"id\":\"1547\"},\"selection_policy\":{\"id\":\"1546\"}},\"id\":\"1396\",\"type\":\"ColumnDataSource\"},{\"attributes\":{},\"id\":\"1565\",\"type\":\"Selection\"},{\"attributes\":{\"graph_layout\":{\"ww_00ce5b9c822fbaca\":[192.67,105.0],\"ww_01bd7d0624c8a955\":[158.09,650.51],\"ww_01d64039ef29add5\":[741.07,1207.0],\"ww_028ce75225433cb6\":[462.0,486.56],\"ww_0747839b540f70c7\":[1049.9,150.97],\"ww_07f94c5a14cdc619\":[1098.6,564.14],\"ww_08075d65c13e49ee\":[1392.4,1365.7],\"ww_0dbc3e90bbb46334\":[1365.0,1294.0],\"ww_0eaf5058b7a910c7\":[1244.3,1115.1],\"ww_10ba3fba1c0c1529\":[478.02,1064.4],\"ww_13c9cec7f15c0056\":[836.69,1212.8],\"ww_18fac1f2fb1ce41f\":[541.62,434.84],\"ww_1917adced358cb4a\":[301.79,1296.7],\"ww_19b54f39c1d245a7\":[991.49,836.01],\"ww_1bfaaa3ed70bb1ac\":[232.6,254.56],\"ww_210bac9f048b8eea\":[842.18,318.38],\"ww_215595adbf8efd41\":[1361.7,482.0],\"ww_21a4c5dc5b2f6ed6\":[1085.7,1151.4],\"ww_2239f6f9bbcb7446\":[387.49,426.72],\"ww_22f51d85f231b2c7\":[706.49,1296.7],\"ww_235b7f298b54d631\":[997.09,482.0],\"ww_2560885c478fdfe0\":[291.25,921.56],\"ww_25e51ae4b6234004\":[1067.8,498.8],\"ww_293034ae2a49b418\":[781.0,1356.6],\"ww_295a0d9237083fe7\":[849.77,796.36],\"ww_2abb408b24f75e6c\":[909.12,856.84],\"ww_2b785e10c908c7ec\":[939.79,128.51],\"ww_2e3d7768539ae2ab\":[1360.6,719.83],\"ww_3101379204640286\":[684.6,159.49],\"ww_32c26a7909c83bda\":[697.89,671.62],\"ww_379b8583a4d90080\":[477.74,991.33],\"ww_3a359a22623b0162\":[158.09,194.72],\"ww_3a6f583779747368\":[962.85,18.0],\"ww_3b6425a2159f1d62\":[605.16,1092.8],\"ww_3bed848d2566166b\":[216.74,861.72],\"ww_415def570b10b5b9\":[1465.0,565.49],\"ww_4b9a43113334c0ad\":[784.83,1275.4],\"ww_4c352e527d12797b\":[894.04,255.83],\"ww_4d363cb4783e0b62\":[689.56,607.82],\"ww_51946dd5d1d57d4a\":[1142.7,1033.0],\"ww_57c42500ce0c6170\":[465.83,405.38],\"ww_57dcec5b9ff2c4b9\":[346.94,777.83],\"ww_585eaf1c6368e7af\":[1067.2,628.83],\"ww_58a0dec287a4170c\":[181.15,540.0],\"ww_594e076e93ed4ccf\":[985.51,893.9],\"ww_5cbdd6611f35e334\":[224.31,606.66],\"ww_5cdd4abfb59f6f0f\":[1341.2,613.7],\"ww_663f0143320cc310\":[517.69,342.83],\"ww_669475d1f67eb920\":[824.44,848.49],\"ww_66a52436edb537eb\":[838.81,905.18],\"ww_6821daa19a2840e1\":[422.07,337.0],\"ww_6979462622390b73\":[616.33,650.11],\"ww_6c565da6889f5269\":[1304.9,863.56],\"ww_6cc712b23bbafc5e\":[860.62,1304.8],\"ww_6e3b338bf16ebf06\":[997.04,645.13],\"ww_6f12e582a20c2675\":[638.63,569.0],\"ww_7286ff06f562c07b\":[336.37,1207.0],\"ww_7795f933b612f710\":[1316.1,47.0],\"ww_782a5cebdaa9d8ae\":[575.01,576.44],\"ww_7be6a3588e6b5de0\":[1085.4,1078.3],\"ww_7dc1f64b4c29a9d3\":[1247.5,318.38],\"ww_7ecb8d5ef454d329\":[917.97,347.84],\"ww_83e9ca4d103b86e1\":[1213.5,1049.8],\"ww_84f20b8b2eb71001\":[1230.4,803.72],\"ww_870f29a7dd6f45d9\":[1203.8,250.0],\"ww_880962580e78c61f\":[221.9,1116.5],\"ww_89443854a5459695\":[455.92,1304.8],\"ww_8bdc1e03f5a6a253\":[534.99,1109.1],\"ww_8c5990fb7392c89b\":[838.35,399.56],\"ww_8e68a517bc3ecceb\":[636.57,1028.1],\"ww_909a37b5a02277e8\":[118.65,1033.0],\"ww_90d74567307f904e\":[886.13,938.11],\"ww_95966dab4576ec42\":[1072.7,41.42],\"ww_971c475bea921406\":[958.65,787.9],\"ww_97b67e22685ce125\":[268.15,672.97],\"ww_98df9ad5de049472\":[939.79,527.33],\"ww_994d23875f3f8ca7\":[1212.9,1179.8],\"ww_9a6cb20b0b157545\":[594.79,731.54],\"ww_9e7a12cfee73da0b\":[1389.1,553.71],\"ww_a055872533d2ab57\":[1265.0,714.0],\"ww_a2a0ab6fbca2028d\":[943.85,934.75],\"ww_a59a84adf088089f\":[658.92,722.9],\"ww_a6f4b0e3428ad510\":[1323.3,347.84],\"ww_a987973d2abd4b57\":[146.02,1104.7],\"ww_aaeb0dba8a5ac513\":[251.32,772.0],\"ww_aef241d5b9263438\":[370.87,869.84],\"ww_b0913df56f856f27\":[763.84,339.72],\"ww_b42fadea9f893c6e\":[376.3,1356.6],\"ww_b4cc414fb56c2490\":[98.141,1164.7],\"ww_b5b8083a6a1282bc\":[543.27,692.11],\"ww_b71ba2ae83103344\":[1468.3,1377.5],\"ww_b7e69820855e7384\":[288.29,110.83],\"ww_b9f19b471626f83e\":[552.96,1027.5],\"ww_ba8b881de92fd8a4\":[431.99,1212.8],\"ww_beea1c07025a2ffb\":[1006.0,84.656],\"ww_c10bde4b8bca2ae6\":[295.08,840.38],\"ww_c2ae504efe318b6c\":[1308.8,782.38],\"ww_c2f29658555093e7\":[940.07,600.37],\"ww_c6bb592912665657\":[581.35,76.0],\"ww_c9d35c25f4fc4189\":[1384.0,172.63],\"ww_caf27ffdc954c844\":[902.47,772.0],\"ww_cd82c881f4f118d0\":[560.84,207.7],\"ww_ce579bce70dc8776\":[608.72,147.71],\"ww_d2361763e8343194\":[1299.4,255.83],\"ww_d2d2a262485c5d23\":[605.77,962.8],\"ww_d3843909dc6e861b\":[236.43,173.38],\"ww_d62468b11823d4c9\":[535.09,627.64],\"ww_d67a1f9d4d50f936\":[1344.5,1425.7],\"ww_d705147c9b9aaf18\":[1340.1,115.21],\"ww_d9ad6d0b3d1a5598\":[312.22,202.84],\"ww_e01ecfd8de9acc61\":[1169.2,339.72],\"ww_e2adb2be413fd5a5\":[1243.7,399.56],\"ww_e2effa540e636cd5\":[1160.7,1114.5],\"ww_eb109a2a9b99c1f5\":[380.13,1275.4],\"ww_eb3ebae9ea90daa0\":[1384.6,811.84],\"ww_f27c7abd24218962\":[1015.0,563.52],\"ww_f32f713a36985f62\":[1142.7,1196.1],\"ww_f38739f4c2391f47\":[798.42,250.0],\"ww_ff2cef3775c5331c\":[291.0,563.42],\"ww_ff8f000dd9cb7a3b\":[535.04,946.0]}},\"id\":\"1020\",\"type\":\"StaticLayoutProvider\"},{\"attributes\":{\"data\":{},\"selected\":{\"id\":\"1549\"},\"selection_policy\":{\"id\":\"1548\"}},\"id\":\"1397\",\"type\":\"ColumnDataSource\"},{\"attributes\":{},\"id\":\"1566\",\"type\":\"UnionRenderers\"},{\"attributes\":{},\"id\":\"1567\",\"type\":\"Selection\"},{\"attributes\":{\"data\":{},\"selected\":{\"id\":\"1551\"},\"selection_policy\":{\"id\":\"1550\"}},\"id\":\"1398\",\"type\":\"ColumnDataSource\"},{\"attributes\":{},\"id\":\"1568\",\"type\":\"UnionRenderers\"},{\"attributes\":{\"data\":{},\"selected\":{\"id\":\"1553\"},\"selection_policy\":{\"id\":\"1552\"}},\"id\":\"1399\",\"type\":\"ColumnDataSource\"},{\"attributes\":{},\"id\":\"1569\",\"type\":\"Selection\"},{\"attributes\":{\"data\":{},\"selected\":{\"id\":\"1555\"},\"selection_policy\":{\"id\":\"1554\"}},\"id\":\"1400\",\"type\":\"ColumnDataSource\"},{\"attributes\":{},\"id\":\"1570\",\"type\":\"UnionRenderers\"},{\"attributes\":{},\"id\":\"1571\",\"type\":\"Selection\"},{\"attributes\":{\"data\":{},\"selected\":{\"id\":\"1557\"},\"selection_policy\":{\"id\":\"1556\"}},\"id\":\"1401\",\"type\":\"ColumnDataSource\"},{\"attributes\":{},\"id\":\"1572\",\"type\":\"UnionRenderers\"},{\"attributes\":{\"data\":{},\"selected\":{\"id\":\"1559\"},\"selection_policy\":{\"id\":\"1558\"}},\"id\":\"1402\",\"type\":\"ColumnDataSource\"},{\"attributes\":{},\"id\":\"1573\",\"type\":\"Selection\"},{\"attributes\":{\"data\":{},\"selected\":{\"id\":\"1629\"},\"selection_policy\":{\"id\":\"1628\"}},\"id\":\"1437\",\"type\":\"ColumnDataSource\"},{\"attributes\":{\"data\":{},\"selected\":{\"id\":\"1631\"},\"selection_policy\":{\"id\":\"1630\"}},\"id\":\"1438\",\"type\":\"ColumnDataSource\"},{\"attributes\":{\"data\":{},\"selected\":{\"id\":\"1633\"},\"selection_policy\":{\"id\":\"1632\"}},\"id\":\"1439\",\"type\":\"ColumnDataSource\"},{\"attributes\":{\"data\":{},\"selected\":{\"id\":\"1635\"},\"selection_policy\":{\"id\":\"1634\"}},\"id\":\"1440\",\"type\":\"ColumnDataSource\"},{\"attributes\":{\"data\":{},\"selected\":{\"id\":\"1637\"},\"selection_policy\":{\"id\":\"1636\"}},\"id\":\"1441\",\"type\":\"ColumnDataSource\"},{\"attributes\":{\"data\":{},\"selected\":{\"id\":\"1639\"},\"selection_policy\":{\"id\":\"1638\"}},\"id\":\"1442\",\"type\":\"ColumnDataSource\"},{\"attributes\":{\"data\":{},\"selected\":{\"id\":\"1641\"},\"selection_policy\":{\"id\":\"1640\"}},\"id\":\"1443\",\"type\":\"ColumnDataSource\"},{\"attributes\":{\"logo\":null,\"tools\":[{\"id\":\"1007\"},{\"id\":\"1009\"}]},\"id\":\"1006\",\"type\":\"Toolbar\"},{\"attributes\":{\"dimensions\":\"height\"},\"id\":\"1007\",\"type\":\"PanTool\"},{\"attributes\":{\"data\":{},\"selected\":{\"id\":\"1643\"},\"selection_policy\":{\"id\":\"1642\"}},\"id\":\"1444\",\"type\":\"ColumnDataSource\"},{\"attributes\":{\"coordinates\":null,\"data_source\":{\"id\":\"1013\"},\"glyph\":{\"id\":\"1021\"},\"group\":null,\"hover_glyph\":null,\"view\":{\"id\":\"1015\"}},\"id\":\"1014\",\"type\":\"GlyphRenderer\"},{\"attributes\":{\"coordinates\":null,\"group\":null,\"text\":\"The gold data is a DiGraph with 120 nodes and 100 edges\"},\"id\":\"1004\",\"type\":\"Title\"},{\"attributes\":{\"callback\":null,\"tooltips\":\"\\n        @hover_info\\n        \"},\"id\":\"1009\",\"type\":\"HoverTool\"},{\"attributes\":{\"coordinates\":null,\"end\":{\"id\":\"1031\"},\"group\":null,\"line_width\":{\"value\":1.5},\"source\":{\"id\":\"1346\"},\"start\":null,\"x_end\":{\"value\":972.0143439755665},\"x_start\":{\"value\":927.114208032578},\"y_end\":{\"value\":887.3526899821245},\"y_start\":{\"value\":865.5697466905007}},\"id\":\"1032\",\"type\":\"Arrow\"},{\"attributes\":{\"data\":{},\"selected\":{\"id\":\"1645\"},\"selection_policy\":{\"id\":\"1644\"}},\"id\":\"1445\",\"type\":\"ColumnDataSource\"},{\"attributes\":{\"coordinates\":null,\"edge_renderer\":{\"id\":\"1018\"},\"group\":null,\"inspection_policy\":{\"id\":\"1345\"},\"layout_provider\":{\"id\":\"1020\"},\"node_renderer\":{\"id\":\"1014\"},\"selection_policy\":{\"id\":\"1344\"}},\"id\":\"1011\",\"type\":\"GraphRenderer\"},{\"attributes\":{\"data\":{\"end\":[\"ww_594e076e93ed4ccf\",\"ww_caf27ffdc954c844\",\"ww_66a52436edb537eb\",\"ww_a2a0ab6fbca2028d\",\"ww_90d74567307f904e\",\"ww_669475d1f67eb920\",\"ww_19b54f39c1d245a7\",\"ww_295a0d9237083fe7\",\"ww_971c475bea921406\",\"ww_13c9cec7f15c0056\",\"ww_01d64039ef29add5\",\"ww_22f51d85f231b2c7\",\"ww_6cc712b23bbafc5e\",\"ww_293034ae2a49b418\",\"ww_4c352e527d12797b\",\"ww_f38739f4c2391f47\",\"ww_b0913df56f856f27\",\"ww_7ecb8d5ef454d329\",\"ww_8c5990fb7392c89b\",\"ww_b7e69820855e7384\",\"ww_00ce5b9c822fbaca\",\"ww_3a359a22623b0162\",\"ww_d9ad6d0b3d1a5598\",\"ww_1bfaaa3ed70bb1ac\",\"ww_663f0143320cc310\",\"ww_6821daa19a2840e1\",\"ww_2239f6f9bbcb7446\",\"ww_18fac1f2fb1ce41f\",\"ww_028ce75225433cb6\",\"ww_880962580e78c61f\",\"ww_909a37b5a02277e8\",\"ww_b4cc414fb56c2490\",\"ww_32c26a7909c83bda\",\"ww_782a5cebdaa9d8ae\",\"ww_b5b8083a6a1282bc\",\"ww_a59a84adf088089f\",\"ww_9a6cb20b0b157545\",\"ww_d62468b11823d4c9\",\"ww_4d363cb4783e0b62\",\"ww_6f12e582a20c2675\",\"ww_d2361763e8343194\",\"ww_870f29a7dd6f45d9\",\"ww_e01ecfd8de9acc61\",\"ww_a6f4b0e3428ad510\",\"ww_e2adb2be413fd5a5\",\"ww_b71ba2ae83103344\",\"ww_0dbc3e90bbb46334\",\"ww_d67a1f9d4d50f936\",\"ww_8e68a517bc3ecceb\",\"ww_ff8f000dd9cb7a3b\",\"ww_10ba3fba1c0c1529\",\"ww_3b6425a2159f1d62\",\"ww_8bdc1e03f5a6a253\",\"ww_379b8583a4d90080\",\"ww_d2d2a262485c5d23\",\"ww_07f94c5a14cdc619\",\"ww_235b7f298b54d631\",\"ww_c2f29658555093e7\",\"ww_585eaf1c6368e7af\",\"ww_6e3b338bf16ebf06\",\"ww_98df9ad5de049472\",\"ww_25e51ae4b6234004\",\"ww_ba8b881de92fd8a4\",\"ww_7286ff06f562c07b\",\"ww_1917adced358cb4a\",\"ww_89443854a5459695\",\"ww_b42fadea9f893c6e\",\"ww_57dcec5b9ff2c4b9\",\"ww_aaeb0dba8a5ac513\",\"ww_3bed848d2566166b\",\"ww_aef241d5b9263438\",\"ww_2560885c478fdfe0\",\"ww_ff2cef3775c5331c\",\"ww_58a0dec287a4170c\",\"ww_01bd7d0624c8a955\",\"ww_97b67e22685ce125\",\"ww_415def570b10b5b9\",\"ww_215595adbf8efd41\",\"ww_5cdd4abfb59f6f0f\",\"ww_c9d35c25f4fc4189\",\"ww_7795f933b612f710\",\"ww_0eaf5058b7a910c7\",\"ww_51946dd5d1d57d4a\",\"ww_21a4c5dc5b2f6ed6\",\"ww_994d23875f3f8ca7\",\"ww_f32f713a36985f62\",\"ww_7be6a3588e6b5de0\",\"ww_83e9ca4d103b86e1\",\"ww_95966dab4576ec42\",\"ww_3a6f583779747368\",\"ww_2b785e10c908c7ec\",\"ww_0747839b540f70c7\",\"ww_2e3d7768539ae2ab\",\"ww_a055872533d2ab57\",\"ww_84f20b8b2eb71001\",\"ww_eb3ebae9ea90daa0\",\"ww_6c565da6889f5269\",\"ww_3101379204640286\",\"ww_c6bb592912665657\",\"ww_cd82c881f4f118d0\"],\"start\":[\"ww_2abb408b24f75e6c\",\"ww_2abb408b24f75e6c\",\"ww_2abb408b24f75e6c\",\"ww_2abb408b24f75e6c\",\"ww_2abb408b24f75e6c\",\"ww_2abb408b24f75e6c\",\"ww_2abb408b24f75e6c\",\"ww_2abb408b24f75e6c\",\"ww_2abb408b24f75e6c\",\"ww_4b9a43113334c0ad\",\"ww_4b9a43113334c0ad\",\"ww_4b9a43113334c0ad\",\"ww_4b9a43113334c0ad\",\"ww_4b9a43113334c0ad\",\"ww_210bac9f048b8eea\",\"ww_210bac9f048b8eea\",\"ww_210bac9f048b8eea\",\"ww_210bac9f048b8eea\",\"ww_210bac9f048b8eea\",\"ww_d3843909dc6e861b\",\"ww_d3843909dc6e861b\",\"ww_d3843909dc6e861b\",\"ww_d3843909dc6e861b\",\"ww_d3843909dc6e861b\",\"ww_57c42500ce0c6170\",\"ww_57c42500ce0c6170\",\"ww_57c42500ce0c6170\",\"ww_57c42500ce0c6170\",\"ww_57c42500ce0c6170\",\"ww_a987973d2abd4b57\",\"ww_a987973d2abd4b57\",\"ww_a987973d2abd4b57\",\"ww_6979462622390b73\",\"ww_6979462622390b73\",\"ww_6979462622390b73\",\"ww_6979462622390b73\",\"ww_6979462622390b73\",\"ww_6979462622390b73\",\"ww_6979462622390b73\",\"ww_6979462622390b73\",\"ww_7dc1f64b4c29a9d3\",\"ww_7dc1f64b4c29a9d3\",\"ww_7dc1f64b4c29a9d3\",\"ww_7dc1f64b4c29a9d3\",\"ww_7dc1f64b4c29a9d3\",\"ww_08075d65c13e49ee\",\"ww_08075d65c13e49ee\",\"ww_08075d65c13e49ee\",\"ww_b9f19b471626f83e\",\"ww_b9f19b471626f83e\",\"ww_b9f19b471626f83e\",\"ww_b9f19b471626f83e\",\"ww_b9f19b471626f83e\",\"ww_b9f19b471626f83e\",\"ww_b9f19b471626f83e\",\"ww_f27c7abd24218962\",\"ww_f27c7abd24218962\",\"ww_f27c7abd24218962\",\"ww_f27c7abd24218962\",\"ww_f27c7abd24218962\",\"ww_f27c7abd24218962\",\"ww_f27c7abd24218962\",\"ww_eb109a2a9b99c1f5\",\"ww_eb109a2a9b99c1f5\",\"ww_eb109a2a9b99c1f5\",\"ww_eb109a2a9b99c1f5\",\"ww_eb109a2a9b99c1f5\",\"ww_c10bde4b8bca2ae6\",\"ww_c10bde4b8bca2ae6\",\"ww_c10bde4b8bca2ae6\",\"ww_c10bde4b8bca2ae6\",\"ww_c10bde4b8bca2ae6\",\"ww_5cbdd6611f35e334\",\"ww_5cbdd6611f35e334\",\"ww_5cbdd6611f35e334\",\"ww_5cbdd6611f35e334\",\"ww_9e7a12cfee73da0b\",\"ww_9e7a12cfee73da0b\",\"ww_9e7a12cfee73da0b\",\"ww_d705147c9b9aaf18\",\"ww_d705147c9b9aaf18\",\"ww_e2effa540e636cd5\",\"ww_e2effa540e636cd5\",\"ww_e2effa540e636cd5\",\"ww_e2effa540e636cd5\",\"ww_e2effa540e636cd5\",\"ww_e2effa540e636cd5\",\"ww_e2effa540e636cd5\",\"ww_beea1c07025a2ffb\",\"ww_beea1c07025a2ffb\",\"ww_beea1c07025a2ffb\",\"ww_beea1c07025a2ffb\",\"ww_c2ae504efe318b6c\",\"ww_c2ae504efe318b6c\",\"ww_c2ae504efe318b6c\",\"ww_c2ae504efe318b6c\",\"ww_c2ae504efe318b6c\",\"ww_ce579bce70dc8776\",\"ww_ce579bce70dc8776\",\"ww_ce579bce70dc8776\"]},\"selected\":{\"id\":\"1649\"},\"selection_policy\":{\"id\":\"1648\"}},\"id\":\"1017\",\"type\":\"ColumnDataSource\"},{\"attributes\":{\"fill_color\":{\"field\":\"node_color\"},\"size\":{\"field\":\"node_size\"}},\"id\":\"1021\",\"type\":\"Circle\"},{\"attributes\":{\"data\":{\"hover_info\":[\"\\n        <div style=\\\"margin-left: 1em; max-width: 300px; min-width: 300px;\\\">\\n            <div style=\\\"font-variant:normal; font-size: 10pt;\\\">\\u201cto be or not to be\\u201d</div>\\n            <br>\\n            from: <span style=\\\"font-variant:small-caps; font-size: 10pt;\\\">Hamlet (1623)</span><span style=\\\"font-size:10pt;\\\"> by William Shakespeare</span>\\n        </div>\\n        \",\"\\n        <div style=\\\"margin-left: 1em; max-width: 300px; min-width: 300px;\\\">\\n            <div style=\\\"font-variant:normal; font-size: 10pt;\\\">\\u201cnot to be when you have been,\\u201d</div>\\n            <br>\\n            from: <span style=\\\"font-variant:small-caps; font-size: 10pt;\\\">Those Five Questions (Tusculanae) (1561)</span><span style=\\\"font-size:10pt;\\\"> by Marcus Tullius Cicero</span>\\n            <br><br>\\n            <div style=\\\"margin-left: 2em;\\\"><div style=\\\"font-variant:normal; font-size: 8pt;\\\">\\u201cPerchance I have not told you all that I think; for <span style=\\\"font-weight:bold;\\\">not to be when you have been,</span> I think is the greatest misery that may be.\\u201d</div></div>\\n        </div>\\n        \",\"\\n        <div style=\\\"margin-left: 1em; max-width: 300px; min-width: 300px;\\\">\\n            <div style=\\\"font-variant:normal; font-size: 10pt;\\\">\\u201cTo be made capable of endless bliss, [...] Or not to Be at all,\\u201d</div>\\n            <br>\\n            from: <span style=\\\"font-variant:small-caps; font-size: 10pt;\\\">Mirum in Modum (1602)</span><span style=\\\"font-size:10pt;\\\"> by Sir John Davies of Hereford</span>\\n            <br><br>\\n            <div style=\\\"margin-left: 2em;\\\"><div style=\\\"font-variant:normal; font-size: 8pt;\\\">\\u201cAnd which of both (thinkst thou) would Reason choose? <span style=\\\"font-weight:bold;\\\">To be made capable of endless bliss,</span> With possibility the same to lose, And win a Hell, where all is quite amiss; <span style=\\\"font-weight:bold;\\\">Or not to Be at all,</span> both those to miss: Sure, Reas'n the first would chose, because the last Is lowest hell, where highest horror is; For in Not-beings bottom, being fast, Ought would to worse than nought, unworn waste.\\u201d</div></div>\\n        </div>\\n        \",\"\\n        <div style=\\\"margin-left: 1em; max-width: 300px; min-width: 300px;\\\">\\n            <div style=\\\"font-variant:normal; font-size: 10pt;\\\">\\u201cto be named or not to be named,\\u201d</div>\\n            <br>\\n            from: <span style=\\\"font-variant:small-caps; font-size: 10pt;\\\">The Phoenix (1604)</span><span style=\\\"font-size:10pt;\\\"> by Thomas Middleton</span>\\n            <br><br>\\n            <div style=\\\"margin-left: 2em;\\\"><div style=\\\"font-variant:normal; font-size: 8pt;\\\">\\u201c[Fidelio:] As also neither to touch, attempt, molest, or incumber any part, or parts whatsoever, either <span style=\\\"font-weight:bold;\\\">to be named or not to be named,</span> either hidden or unhidden, either those that boldly look abroad, or those that dare not show their faces -[.]\\u201d</div></div>\\n        </div>\\n        \",\"\\n        <div style=\\\"margin-left: 1em; max-width: 300px; min-width: 300px;\\\">\\n            <div style=\\\"font-variant:normal; font-size: 10pt;\\\">\\u201cTo marry or not to marry\\u201d</div>\\n            <br>\\n            from: <span style=\\\"font-variant:small-caps; font-size: 10pt;\\\">Epigraph (1649)</span><span style=\\\"font-size:10pt;\\\"> by William Drummond</span>\\n            <br><br>\\n            <div style=\\\"margin-left: 2em;\\\"><div style=\\\"font-variant:normal; font-size: 8pt;\\\">\\u201cKilled by ingratitude here blessed within doth rest: <span style=\\\"font-weight:bold;\\\">To marry or not to marry</span> which is best.\\u201d</div></div>\\n        </div>\\n        \",\"\\n        <div style=\\\"margin-left: 1em; max-width: 300px; min-width: 300px;\\\">\\n            <div style=\\\"font-variant:normal; font-size: 10pt;\\\">\\u201cto do, or not to do\\u201d</div>\\n            <br>\\n            from: <span style=\\\"font-variant:small-caps; font-size: 10pt;\\\">The Northern Lass (1629)</span><span style=\\\"font-size:10pt;\\\"> by Richard Brome</span>\\n            <br><br>\\n            <div style=\\\"margin-left: 2em;\\\"><div style=\\\"font-variant:normal; font-size: 8pt;\\\">\\u201c[Trainwell:] Not to be mad, sir, because she is melancholy. Not by taking a wrong course for her recovery to ruin her, and forfeit your judgment. Do you think that commands with chidings, threats or stripes, have power to work upon her, when she has neither will nor reason within herself <span style=\\\"font-weight:bold;\\\">to do, or not to do</span> anything whatsoever?\\u201d</div></div>\\n        </div>\\n        \",\"\\n        <div style=\\\"margin-left: 1em; max-width: 300px; min-width: 300px;\\\">\\n            <div style=\\\"font-variant:normal; font-size: 10pt;\\\">\\u201cto be done or not to be done\\u201d</div>\\n            <br>\\n            from: <span style=\\\"font-variant:small-caps; font-size: 10pt;\\\">Philosophical Rudiments Concerning Government and Society (1651)</span><span style=\\\"font-size:10pt;\\\"> by Thomas Hobbes</span>\\n            <br><br>\\n            <div style=\\\"margin-left: 2em;\\\"><div style=\\\"font-variant:normal; font-size: 8pt;\\\">\\u201cNow the gathering together of many men, who deliberate of what is <span style=\\\"font-weight:bold;\\\">to be done or not to be done</span> for the common good of all men, is that which I call a council.\\u201d</div></div>\\n        </div>\\n        \",\"\\n        <div style=\\\"margin-left: 1em; max-width: 300px; min-width: 300px;\\\">\\n            <div style=\\\"font-variant:normal; font-size: 10pt;\\\">\\u201cto think, or not to think: to move, or not to move,\\u201d</div>\\n            <br>\\n            from: <span style=\\\"font-variant:small-caps; font-size: 10pt;\\\">An Essay Concerning Human Understanding (1689)</span><span style=\\\"font-size:10pt;\\\"> by John Locke</span>\\n            <br><br>\\n            <div style=\\\"margin-left: 2em;\\\"><div style=\\\"font-variant:normal; font-size: 8pt;\\\">\\u201cAll the Actions, that we have any Idea of, reducing themselves, as has been said, to these two, viz. Thinking and Motion, so far as a Man has a power <span style=\\\"font-weight:bold;\\\">to think, or not to think: to move, or not to move,</span> according to the preference or direction of his own mind, so far is a Man Free.\\u201d</div></div>\\n        </div>\\n        \",\"\\n        <div style=\\\"margin-left: 1em; max-width: 300px; min-width: 300px;\\\">\\n            <div style=\\\"font-variant:normal; font-size: 10pt;\\\">\\u201cTo be and not to be\\u201d</div>\\n            <br>\\n            from: <span style=\\\"font-variant:small-caps; font-size: 10pt;\\\">Dives and Lazarus (1685)</span><span style=\\\"font-size:10pt;\\\"> by John Mason (2)</span>\\n            <br><br>\\n            <div style=\\\"margin-left: 2em;\\\"><div style=\\\"font-variant:normal; font-size: 8pt;\\\">\\u201cCome now, thou that pretend'st to Act the Man, Something there needs must be, which ne'er began. As all were nothing once, So 'twould be now. A Number from bare Cyphers could not grow. Nothing's a Barren Womb. If that could breed, <span style=\\\"font-weight:bold;\\\">To be and not to be</span> were well agreed.\\u201d</div></div>\\n        </div>\\n        \",\"\\n        <div style=\\\"margin-left: 1em; max-width: 300px; min-width: 300px;\\\">\\n            <div style=\\\"font-variant:normal; font-size: 10pt;\\\">\\u201cTo be a King, or not to be at all;\\u201d</div>\\n            <br>\\n            from: <span style=\\\"font-variant:small-caps; font-size: 10pt;\\\">The Duke of Guise (1682)</span><span style=\\\"font-size:10pt;\\\"> by John Dryden, Nathaniel Lee</span>\\n            <br><br>\\n            <div style=\\\"margin-left: 2em;\\\"><div style=\\\"font-variant:normal; font-size: 8pt;\\\">\\u201c[King:] Tomorrow Guise is made Lieutenant-General, Why then tomorrow I no more am King; 'Tis time to push my slackened vengeance home, <span style=\\\"font-weight:bold;\\\">To be a King, or not to be at all;</span> The Vow that manacled my Rage is loosed, Even Heaven is wearied with repeated Crimes, Till lightning flashes round to guard the Throne, And the curbed Thunder grumbles to be gone.\\u201d</div></div>\\n        </div>\\n        \",\"\\n        <div style=\\\"margin-left: 1em; max-width: 300px; min-width: 300px;\\\">\\n            <div style=\\\"font-variant:normal; font-size: 10pt;\\\">\\u201csea of troubles\\u201d</div>\\n            <br>\\n            from: <span style=\\\"font-variant:small-caps; font-size: 10pt;\\\">Hamlet (1623)</span><span style=\\\"font-size:10pt;\\\"> by William Shakespeare</span>\\n        </div>\\n        \",\"\\n        <div style=\\\"margin-left: 1em; max-width: 300px; min-width: 300px;\\\">\\n            <div style=\\\"font-variant:normal; font-size: 10pt;\\\">\\u201cthe waves of this troublesome world\\u201d</div>\\n            <br>\\n            from: <span style=\\\"font-variant:small-caps; font-size: 10pt;\\\">The Book of Common Prayer (1562)</span><span style=\\\"font-size:10pt;\\\"> by Anonymous</span>\\n            <br><br>\\n            <div style=\\\"margin-left: 2em;\\\"><div style=\\\"font-variant:normal; font-size: 8pt;\\\">\\u201c[...] May so pass <span style=\\\"font-weight:bold;\\\">the waves of this troublesome world</span> [...].\\u201d</div></div>\\n        </div>\\n        \",\"\\n        <div style=\\\"margin-left: 1em; max-width: 300px; min-width: 300px;\\\">\\n            <div style=\\\"font-variant:normal; font-size: 10pt;\\\">\\u201cthe troublous sea\\u201d</div>\\n            <br>\\n            from: <span style=\\\"font-variant:small-caps; font-size: 10pt;\\\">On the State of Matrimony (1571)</span><span style=\\\"font-size:10pt;\\\"> by John Jewel</span>\\n            <br><br>\\n            <div style=\\\"margin-left: 2em;\\\"><div style=\\\"font-variant:normal; font-size: 8pt;\\\">\\u201cSo shall we passe through the dangers of <span style=\\\"font-weight:bold;\\\">the troublous sea</span> of this world\\u201d</div></div>\\n        </div>\\n        \",\"\\n        <div style=\\\"margin-left: 1em; max-width: 300px; min-width: 300px;\\\">\\n            <div style=\\\"font-variant:normal; font-size: 10pt;\\\">\\u201cSea of many troubles\\u201d</div>\\n            <br>\\n            from: <span style=\\\"font-variant:small-caps; font-size: 10pt;\\\">Britain's Remembrancer (1628)</span><span style=\\\"font-size:10pt;\\\"> by George Wither</span>\\n            <br><br>\\n            <div style=\\\"margin-left: 2em;\\\"><div style=\\\"font-variant:normal; font-size: 8pt;\\\">\\u201cYet went I to his Work the furthest way: And, travelled, as mine own occasions lay. Which he perceiving, sent a Storm that crest me; Made shipwreck of my hopes; my labour lost me; Befooled my wisdom; of much joy bereft me; Within the <span style=\\\"font-weight:bold;\\\">Sea of many troubles</span> left me; And what with speed and ease I might have done At first; hath long with pain been lingered on.\\u201d</div></div>\\n        </div>\\n        \",\"\\n        <div style=\\\"margin-left: 1em; max-width: 300px; min-width: 300px;\\\">\\n            <div style=\\\"font-variant:normal; font-size: 10pt;\\\">\\u201csea of trouble,\\u201d</div>\\n            <br>\\n            from: <span style=\\\"font-variant:small-caps; font-size: 10pt;\\\">The Loyal Lovers (1652)</span><span style=\\\"font-size:10pt;\\\"> by Cosmo Manuche</span>\\n            <br><br>\\n            <div style=\\\"margin-left: 2em;\\\"><div style=\\\"font-variant:normal; font-size: 8pt;\\\">\\u201c[Adrastus:] Thanks, good Clarathea , for thy remembrance; For I had almost lost my self in joyes unspeakable. My dear Letesia , (so I dare call the now) Hast thou made choice of any course to steer in this Same <span style=\\\"font-weight:bold;\\\">sea of trouble,</span> mixt with joy?\\u201d</div></div>\\n        </div>\\n        \",\"\\n        <div style=\\\"margin-left: 1em; max-width: 300px; min-width: 300px;\\\">\\n            <div style=\\\"font-variant:normal; font-size: 10pt;\\\">\\u201cAdam [...] a troubled Sea of passion\\u201d</div>\\n            <br>\\n            from: <span style=\\\"font-variant:small-caps; font-size: 10pt;\\\">Paradise Lost (1667)</span><span style=\\\"font-size:10pt;\\\"> by John Milton</span>\\n            <br><br>\\n            <div style=\\\"margin-left: 2em;\\\"><div style=\\\"font-variant:normal; font-size: 8pt;\\\">\\u201cThese were from without The growing miseries, which <span style=\\\"font-weight:bold;\\\">Adam</span> saw Already in part, though hid in gloomiest shade, To sorrow abandoned, but worse felt within, And in <span style=\\\"font-weight:bold;\\\">a troubled Sea of passion</span> tossed, Thus to disburden sought with sad complaint [...].\\u201d</div></div>\\n        </div>\\n        \",\"\\n        <div style=\\\"margin-left: 1em; max-width: 300px; min-width: 300px;\\\">\\n            <div style=\\\"font-variant:normal; font-size: 10pt;\\\">\\u201cpampered jades of Asia\\u201d</div>\\n            <br>\\n            from: <span style=\\\"font-variant:small-caps; font-size: 10pt;\\\">Henry IV Part 2 (1600)</span><span style=\\\"font-size:10pt;\\\"> by William Shakespeare</span>\\n        </div>\\n        \",\"\\n        <div style=\\\"margin-left: 1em; max-width: 300px; min-width: 300px;\\\">\\n            <div style=\\\"font-variant:normal; font-size: 10pt;\\\">\\u201cthe pampered Jades of Thrace\\u201d</div>\\n            <br>\\n            from: <span style=\\\"font-variant:small-caps; font-size: 10pt;\\\">Ovid's Metamorphoses (1567)</span><span style=\\\"font-size:10pt;\\\"> by Arthur Golding</span>\\n            <br><br>\\n            <div style=\\\"margin-left: 2em;\\\"><div style=\\\"font-variant:normal; font-size: 8pt;\\\">\\u201cWhat? is it I that did behold <span style=\\\"font-weight:bold;\\\">the pampered Jades of Thrace</span> With Mangers full of flesh of men on which they fed apace? Ist I that down at sight thereof their greasy Mangers threw, And both the fatted Jades themselves and eke their master slew?\\u201d</div></div>\\n        </div>\\n        \",\"\\n        <div style=\\\"margin-left: 1em; max-width: 300px; min-width: 300px;\\\">\\n            <div style=\\\"font-variant:normal; font-size: 10pt;\\\">\\u201cheadstrong jades of Thrace [...] Alcides\\u201d</div>\\n            <br>\\n            from: <span style=\\\"font-variant:small-caps; font-size: 10pt;\\\">Tamburlaine Part 2 (1587)</span><span style=\\\"font-size:10pt;\\\"> by Christopher Marlowe</span>\\n            <br><br>\\n            <div style=\\\"margin-left: 2em;\\\"><div style=\\\"font-variant:normal; font-size: 8pt;\\\">\\u201c[Tamburlaine:] [...] The <span style=\\\"font-weight:bold;\\\">headstrong jades of Thrace</span> [...] <span style=\\\"font-weight:bold;\\\">Alcides</span> tamed, That King Aegeus fed with human flesh, And made so wanton that they knew their strengths, Were not subdued with valour more divine Than you by this unconquered arm of mine.\\u201d</div></div>\\n        </div>\\n        \",\"\\n        <div style=\\\"margin-left: 1em; max-width: 300px; min-width: 300px;\\\">\\n            <div style=\\\"font-variant:normal; font-size: 10pt;\\\">\\u201cmy pampered jade of Asia.\\u201d</div>\\n            <br>\\n            from: <span style=\\\"font-variant:small-caps; font-size: 10pt;\\\">The Coxcomb (1609)</span><span style=\\\"font-size:10pt;\\\"> by Francis Beaumont, John Fletcher</span>\\n            <br><br>\\n            <div style=\\\"margin-left: 2em;\\\"><div style=\\\"font-variant:normal; font-size: 8pt;\\\">\\u201c[Dorothy:] God's precious you young contagious whore must you be ticing? and is your flesh so wrank sir, that two may live upon't? I am glad to hear your curtail grown so lusty; he was dry foundered t'other day, weehee <span style=\\\"font-weight:bold;\\\">my pampered jade of Asia.</span>\\u201d</div></div>\\n        </div>\\n        \",\"\\n        <div style=\\\"margin-left: 1em; max-width: 300px; min-width: 300px;\\\">\\n            <div style=\\\"font-variant:normal; font-size: 10pt;\\\">\\u201cpampered jades unapt to travel,\\u201d</div>\\n            <br>\\n            from: <span style=\\\"font-variant:small-caps; font-size: 10pt;\\\">The Rich Cabinet, or Galateo (1616)</span><span style=\\\"font-size:10pt;\\\"> by T. G.</span>\\n            <br><br>\\n            <div style=\\\"margin-left: 2em;\\\"><div style=\\\"font-variant:normal; font-size: 8pt;\\\">\\u201cIdle Bees gather no honey, and so become drones to rob the hive: thus are <span style=\\\"font-weight:bold;\\\">pampered jades unapt to travel,</span> and lazy rogues unwilling to work.\\u201d</div></div>\\n        </div>\\n        \",\"\\n        <div style=\\\"margin-left: 1em; max-width: 300px; min-width: 300px;\\\">\\n            <div style=\\\"font-variant:normal; font-size: 10pt;\\\">\\u201cthose pampered Jades of Belgia\\u201d</div>\\n            <br>\\n            from: <span style=\\\"font-variant:small-caps; font-size: 10pt;\\\">The World Runs on Wheels (1623)</span><span style=\\\"font-size:10pt;\\\"> by John Taylor</span>\\n            <br><br>\\n            <div style=\\\"margin-left: 2em;\\\"><div style=\\\"font-variant:normal; font-size: 8pt;\\\">\\u201cIn what state I would lean over the Boot, and look, and pry if I saw any of my acquaintance, and then I would stand up, veiling my Bonnet, kissing my right claw, extending my arms as I had been swimming, with God save your Lordship, Worship, or how dost thou honest neighbour or good-fellow? in a word, the Coach made me think myself better than my betters that went on foot, and that I was but little inferior to Tamburlaine, being jolted thus in state by <span style=\\\"font-weight:bold;\\\">those pampered Jades of Belgia</span> [...].\\u201d</div></div>\\n        </div>\\n        \",\"\\n        <div style=\\\"margin-left: 1em; max-width: 300px; min-width: 300px;\\\">\\n            <div style=\\\"font-variant:normal; font-size: 10pt;\\\">\\u201cThe rest is silence.\\u201d</div>\\n            <br>\\n            from: <span style=\\\"font-variant:small-caps; font-size: 10pt;\\\">Hamlet (1623)</span><span style=\\\"font-size:10pt;\\\"> by William Shakespeare</span>\\n        </div>\\n        \",\"\\n        <div style=\\\"margin-left: 1em; max-width: 300px; min-width: 300px;\\\">\\n            <div style=\\\"font-variant:normal; font-size: 10pt;\\\">\\u201cThe rest is belly.\\u201d</div>\\n            <br>\\n            from: <span style=\\\"font-variant:small-caps; font-size: 10pt;\\\">Ovid's Metamorphoses (1567)</span><span style=\\\"font-size:10pt;\\\"> by Arthur Golding</span>\\n            <br><br>\\n            <div style=\\\"margin-left: 2em;\\\"><div style=\\\"font-variant:normal; font-size: 8pt;\\\">\\u201cInstead of legs, to both her sides stick fingers long and fine: <span style=\\\"font-weight:bold;\\\">The rest is belly.</span>\\u201d</div></div>\\n        </div>\\n        \",\"\\n        <div style=\\\"margin-left: 1em; max-width: 300px; min-width: 300px;\\\">\\n            <div style=\\\"font-variant:normal; font-size: 10pt;\\\">\\u201cthe rest is all but wind.\\u201d</div>\\n            <br>\\n            from: <span style=\\\"font-variant:small-caps; font-size: 10pt;\\\">A Fig for Fortune (1596)</span><span style=\\\"font-size:10pt;\\\"> by Anthony Copley</span>\\n            <br><br>\\n            <div style=\\\"margin-left: 2em;\\\"><div style=\\\"font-variant:normal; font-size: 8pt;\\\">\\u201c[Catechysius the Hermit:] Now all is but the action of the Mind, That rectified, <span style=\\\"font-weight:bold;\\\">the rest is all but wind.</span>\\u201d</div></div>\\n        </div>\\n        \",\"\\n        <div style=\\\"margin-left: 1em; max-width: 300px; min-width: 300px;\\\">\\n            <div style=\\\"font-variant:normal; font-size: 10pt;\\\">\\u201cthe rest is but boys' beauty,\\u201d</div>\\n            <br>\\n            from: <span style=\\\"font-variant:small-caps; font-size: 10pt;\\\">Love's Pilgrimage (1616)</span><span style=\\\"font-size:10pt;\\\"> by Francis Beaumont, John Fletcher</span>\\n            <br><br>\\n            <div style=\\\"margin-left: 2em;\\\"><div style=\\\"font-variant:normal; font-size: 8pt;\\\">\\u201c[Rodorigo:] Why should such plants as you are, pleasure's children That owe their blushing years to gentle objects, Tenderly bred, and brought up in all fulness, Desire the stubborn wars? [Marcantonio:] In those 'tis wonder, That make their ease their god, and not their honour: But noble General, my end is other, Desire of knowledge Sir, and hope of tying Discretion to my time, which only shows me, And not my years, a man, and makes that more. Which we call handsome, <span style=\\\"font-weight:bold;\\\">the rest is but boys' beauty,</span> And with the boy consumed.\\u201d</div></div>\\n        </div>\\n        \",\"\\n        <div style=\\\"margin-left: 1em; max-width: 300px; min-width: 300px;\\\">\\n            <div style=\\\"font-variant:normal; font-size: 10pt;\\\">\\u201cand all the rest is nothing.\\u201d</div>\\n            <br>\\n            from: <span style=\\\"font-variant:small-caps; font-size: 10pt;\\\">Five Love Letters from a Nun to a Cavalier (1678)</span><span style=\\\"font-size:10pt;\\\"> by Sir Roger L'Estrange</span>\\n            <br><br>\\n            <div style=\\\"margin-left: 2em;\\\"><div style=\\\"font-variant:normal; font-size: 8pt;\\\">\\u201cAnd I dare assure you that it will not be the worse for you neither, if you never set your heart upon any other woman: for certainly a Passion under the degree of mine, will never content you: You may find more Beauty perhaps elswhere (tho' the time was when you found no fault with mine) but you shall never meet with so true a heart; <span style=\\\"font-weight:bold;\\\">and all the rest is nothing.</span>\\u201d</div></div>\\n        </div>\\n        \",\"\\n        <div style=\\\"margin-left: 1em; max-width: 300px; min-width: 300px;\\\">\\n            <div style=\\\"font-variant:normal; font-size: 10pt;\\\">\\u201cThe rest is airy Notion,\\u201d</div>\\n            <br>\\n            from: <span style=\\\"font-variant:small-caps; font-size: 10pt;\\\">To Alexis in Answer to His Poem against Fruition (1688)</span><span style=\\\"font-size:10pt;\\\"> by Aphra Behn</span>\\n            <br><br>\\n            <div style=\\\"margin-left: 2em;\\\"><div style=\\\"font-variant:normal; font-size: 8pt;\\\">\\u201cMan! our great business and our aim, For whom we spread our fruitless snares, No sooner kindles the designing flame, But to the next bright object bears The Trophies of his conquest and our shame: Inconstancy's the good supreme <span style=\\\"font-weight:bold;\\\">The rest is airy Notion,</span> empty Dream!\\u201d</div></div>\\n        </div>\\n        \",\"\\n        <div style=\\\"margin-left: 1em; max-width: 300px; min-width: 300px;\\\">\\n            <div style=\\\"font-variant:normal; font-size: 10pt;\\\">\\u201can old man is twice a child\\u201d</div>\\n            <br>\\n            from: <span style=\\\"font-variant:small-caps; font-size: 10pt;\\\">Hamlet (1623)</span><span style=\\\"font-size:10pt;\\\"> by William Shakespeare</span>\\n        </div>\\n        \",\"\\n        <div style=\\\"margin-left: 1em; max-width: 300px; min-width: 300px;\\\">\\n            <div style=\\\"font-variant:normal; font-size: 10pt;\\\">\\u201cOld Men are twice Children. Bis pueri senes.\\u201d</div>\\n            <br>\\n            from: <span style=\\\"font-variant:small-caps; font-size: 10pt;\\\">Sententiae Pueriles (1540)</span><span style=\\\"font-size:10pt;\\\"> by Leonard Culman, Charles Hoole</span>\\n            <br><br>\\n            <div style=\\\"margin-left: 2em;\\\"><div style=\\\"font-variant:normal; font-size: 8pt;\\\">\\u201c<span style=\\\"font-weight:bold;\\\">Old Men are twice Children. Bis pueri senes.</span>\\u201d</div></div>\\n        </div>\\n        \",\"\\n        <div style=\\\"margin-left: 1em; max-width: 300px; min-width: 300px;\\\">\\n            <div style=\\\"font-variant:normal; font-size: 10pt;\\\">\\u201cOnce old and twice a child,\\u201d</div>\\n            <br>\\n            from: <span style=\\\"font-variant:small-caps; font-size: 10pt;\\\">Cordila (1574)</span><span style=\\\"font-size:10pt;\\\"> by John Higgins</span>\\n            <br><br>\\n            <div style=\\\"margin-left: 2em;\\\"><div style=\\\"font-variant:normal; font-size: 8pt;\\\">\\u201cYet nevertheless, my father did me not mislike: But age so simple is, and easy to subdue: As childhood weak, that's void of wit and reason quite: They think there's nought, you flatter feigned, but all is true: <span style=\\\"font-weight:bold;\\\">Once old and twice a child,</span> 'tis said with you, Which I affirm by proof, that was defined: In age my father had a childish mind.\\u201d</div></div>\\n        </div>\\n        \",\"\\n        <div style=\\\"margin-left: 1em; max-width: 300px; min-width: 300px;\\\">\\n            <div style=\\\"font-variant:normal; font-size: 10pt;\\\">\\u201cnon progredi id est regredi. [...] once a man and twice a child.\\u201d</div>\\n            <br>\\n            from: <span style=\\\"font-variant:small-caps; font-size: 10pt;\\\">The New Academy, or The New Exchange (1636)</span><span style=\\\"font-size:10pt;\\\"> by Richard Brome</span>\\n            <br><br>\\n            <div style=\\\"margin-left: 2em;\\\"><div style=\\\"font-variant:normal; font-size: 8pt;\\\">\\u201c[Ephraim:] But sir, beware you fall not back again Into your childish follies: but go forwards In manly actions, for <span style=\\\"font-weight:bold;\\\">non progredi id est regredi.</span> [Nehemiah:] I know the meaning of that too, Ephraim: that's <span style=\\\"font-weight:bold;\\\">once a man and twice a child.</span> But if I turn child again, while I have teeth in my head, I'll give Mistress Blith leave to dig 'em out with sugar plums, as she almost did these two of 'em yesterday, with her knuckles.\\u201d</div></div>\\n        </div>\\n        \",\"\\n        <div style=\\\"margin-left: 1em; max-width: 300px; min-width: 300px;\\\">\\n            <div style=\\\"font-variant:normal; font-size: 10pt;\\\">\\u201ca man may be twice a child\\u201d</div>\\n            <br>\\n            from: <span style=\\\"font-variant:small-caps; font-size: 10pt;\\\">Religio Medici (1642)</span><span style=\\\"font-size:10pt;\\\"> by Sir Thomas Browne</span>\\n            <br><br>\\n            <div style=\\\"margin-left: 2em;\\\"><div style=\\\"font-variant:normal; font-size: 8pt;\\\">\\u201cI find my growing Judgement daily instructs me how to be better, but my untamed affections and confirmed vitiosity makes me daily do worse; I find in my confirmed age the same sins I discovered in my youth, I committed many then because I was a child, and because I commit them still I am yet an Infant. Therefore I perceive <span style=\\\"font-weight:bold;\\\">a man may be twice a child</span> before the days of dotage, and stand in need of Aeson's bath before threescore.\\u201d</div></div>\\n        </div>\\n        \",\"\\n        <div style=\\\"margin-left: 1em; max-width: 300px; min-width: 300px;\\\">\\n            <div style=\\\"font-variant:normal; font-size: 10pt;\\\">\\u201ctwice a Child\\u201d</div>\\n            <br>\\n            from: <span style=\\\"font-variant:small-caps; font-size: 10pt;\\\">Advice to an Old Man of Sixty-Three, about to Marry a Girl of Sixteen (1686)</span><span style=\\\"font-size:10pt;\\\"> by Thomas Flatman</span>\\n            <br><br>\\n            <div style=\\\"margin-left: 2em;\\\"><div style=\\\"font-variant:normal; font-size: 8pt;\\\">\\u201cNow fie upon him! what is Man, Whose life at best is but a span? When to an Inch it dwindles down, Ice in his bones, Snow on his crown, That he within his crazy brain, Kind thoughts of Love should entertain, That he, when Harvest comes should plow, And when 'tis time to reap, go sow, Who in imagination only strong, Though <span style=\\\"font-weight:bold;\\\">twice a Child</span>, can never twice grow young.\\u201d</div></div>\\n        </div>\\n        \",\"\\n        <div style=\\\"margin-left: 1em; max-width: 300px; min-width: 300px;\\\">\\n            <div style=\\\"font-variant:normal; font-size: 10pt;\\\">\\u201cIn my mind's eye\\u201d</div>\\n            <br>\\n            from: <span style=\\\"font-variant:small-caps; font-size: 10pt;\\\">Hamlet (1623)</span><span style=\\\"font-size:10pt;\\\"> by William Shakespeare</span>\\n        </div>\\n        \",\"\\n        <div style=\\\"margin-left: 1em; max-width: 300px; min-width: 300px;\\\">\\n            <div style=\\\"font-variant:normal; font-size: 10pt;\\\">\\u201cwith the eye of their mind\\u201d</div>\\n            <br>\\n            from: <span style=\\\"font-variant:small-caps; font-size: 10pt;\\\">The Canterbury Tales (1387)</span><span style=\\\"font-size:10pt;\\\"> by Geoffrey Chaucer</span>\\n            <br><br>\\n            <div style=\\\"margin-left: 2em;\\\"><div style=\\\"font-variant:normal; font-size: 8pt;\\\">\\u201cBut yet never Christian Britons so exiled That there near some that in their privacy Honoured Christ and heathen folk beguiled And near the castle such there dwelt three. That one of hem was blind and might not see, But it were <span style=\\\"font-weight:bold;\\\">with the eye of their mind</span> With which men see, after that they [have] been blind.\\u201d</div></div>\\n        </div>\\n        \",\"\\n        <div style=\\\"margin-left: 1em; max-width: 300px; min-width: 300px;\\\">\\n            <div style=\\\"font-variant:normal; font-size: 10pt;\\\">\\u201cmine eyes, and before my mind. [...] before mine eyes, and in my mind\\u201d</div>\\n            <br>\\n            from: <span style=\\\"font-variant:small-caps; font-size: 10pt;\\\">Acolastus (English) (1540)</span><span style=\\\"font-size:10pt;\\\"> by John Palsgrave</span>\\n            <br><br>\\n            <div style=\\\"margin-left: 2em;\\\"><div style=\\\"font-variant:normal; font-size: 8pt;\\\">\\u201c[Pelargus:] I learn by myself how much the care of the father is toward his son, being absent, or being away from him, because my son is now lately put away from me, my mind can not abide or suffer to be in rest or quiet, but that he diligently haunteth before <span style=\\\"font-weight:bold;\\\">mine eyes, and before my mind.</span> i. but that he continually or still is present or haunteth or walketh to and fro, <span style=\\\"font-weight:bold;\\\">before mine eyes, and in my mind</span> (by reason of my much thinking upon him) I take care or thought for him being absent, not otherwise.\\u201d</div></div>\\n        </div>\\n        \",\"\\n        <div style=\\\"margin-left: 1em; max-width: 300px; min-width: 300px;\\\">\\n            <div style=\\\"font-variant:normal; font-size: 10pt;\\\">\\u201cby the eye of the Mind\\u201d</div>\\n            <br>\\n            from: <span style=\\\"font-variant:small-caps; font-size: 10pt;\\\">A Treatise Of Self-Denial (1675)</span><span style=\\\"font-size:10pt;\\\"> by Richard Baxter</span>\\n            <br><br>\\n            <div style=\\\"margin-left: 2em;\\\"><div style=\\\"font-variant:normal; font-size: 8pt;\\\">\\u201cYou have had many a thought of it, and bestowed many a day's labour for it, and yet do you not know it? O but you never saw it for all this? Answ. It is a spiritual Blessedness that Flesh and Blood can neither enjoy nor see: But <span style=\\\"font-weight:bold;\\\">by the eye of the Mind</span> you have often seen, at least some glimpse of it; You know that it is the present intuition and full fruition of God himself and your glorified Redeemer with his blessed Angels and Saints in perfect Love, and Joy, and Praise. And if you know this, you are not altogether Strangers to Heaven.\\u201d</div></div>\\n        </div>\\n        \",\"\\n        <div style=\\\"margin-left: 1em; max-width: 300px; min-width: 300px;\\\">\\n            <div style=\\\"font-variant:normal; font-size: 10pt;\\\">\\u201ca horse, a horse, my kingdom for a horse\\u201d</div>\\n            <br>\\n            from: <span style=\\\"font-variant:small-caps; font-size: 10pt;\\\">Richard III (1623)</span><span style=\\\"font-size:10pt;\\\"> by William Shakespeare</span>\\n        </div>\\n        \",\"\\n        <div style=\\\"margin-left: 1em; max-width: 300px; min-width: 300px;\\\">\\n            <div style=\\\"font-variant:normal; font-size: 10pt;\\\">\\u201ca horse. [...] a horse to fly, [...] A horse, a horse, villain a horse,\\u201d</div>\\n            <br>\\n            from: <span style=\\\"font-variant:small-caps; font-size: 10pt;\\\">The Battle of Alcazar (1588)</span><span style=\\\"font-size:10pt;\\\"> by George Peele</span>\\n            <br><br>\\n            <div style=\\\"margin-left: 2em;\\\"><div style=\\\"font-variant:normal; font-size: 8pt;\\\">\\u201c[Muly Mahamet:] Villain, <span style=\\\"font-weight:bold;\\\">a horse.</span> [Boy:] Oh my Lord, if you return you die. [Muly Mahamet:] Villain I say, give me <span style=\\\"font-weight:bold;\\\">a horse to fly,</span> To swim the river villain, and to flie. [Muly Mahamet:] <span style=\\\"font-weight:bold;\\\">A horse, a horse, villain a horse,</span> That I may take the river straight and fly.\\u201d</div></div>\\n        </div>\\n        \",\"\\n        <div style=\\\"margin-left: 1em; max-width: 300px; min-width: 300px;\\\">\\n            <div style=\\\"font-variant:normal; font-size: 10pt;\\\">\\u201cA man, a man, a kingdom for a man!\\u201d</div>\\n            <br>\\n            from: <span style=\\\"font-variant:small-caps; font-size: 10pt;\\\">The Scourge of Villainy (1598)</span><span style=\\\"font-size:10pt;\\\"> by John Marston</span>\\n            <br><br>\\n            <div style=\\\"margin-left: 2em;\\\"><div style=\\\"font-variant:normal; font-size: 8pt;\\\">\\u201c<span style=\\\"font-weight:bold;\\\">A man, a man, a kingdom for a man!</span> Why, how now, currish, mad Athenian? Thou cynic dog, see'st not streets do swarm With troops of men?\\u201d</div></div>\\n        </div>\\n        \",\"\\n        <div style=\\\"margin-left: 1em; max-width: 300px; min-width: 300px;\\\">\\n            <div style=\\\"font-variant:normal; font-size: 10pt;\\\">\\u201cA boat, a boat, a boat, a full hundred Marks for a boat.\\u201d</div>\\n            <br>\\n            from: <span style=\\\"font-variant:small-caps; font-size: 10pt;\\\">Eastward Ho! (1605)</span><span style=\\\"font-size:10pt;\\\"> by George Chapman, Ben Jonson, John Marston</span>\\n            <br><br>\\n            <div style=\\\"margin-left: 2em;\\\"><div style=\\\"font-variant:normal; font-size: 8pt;\\\">\\u201c[Security:] [...] <span style=\\\"font-weight:bold;\\\">A boat, a boat, a boat, a full hundred Marks for a boat.</span>\\u201d</div></div>\\n        </div>\\n        \",\"\\n        <div style=\\\"margin-left: 1em; max-width: 300px; min-width: 300px;\\\">\\n            <div style=\\\"font-variant:normal; font-size: 10pt;\\\">\\u201cA fool, a fool, a fool! my Coxcomb for a fool!\\u201d</div>\\n            <br>\\n            from: <span style=\\\"font-variant:small-caps; font-size: 10pt;\\\">The Fawn, or Parasitaster (1605)</span><span style=\\\"font-size:10pt;\\\"> by John Marston</span>\\n            <br><br>\\n            <div style=\\\"margin-left: 2em;\\\"><div style=\\\"font-variant:normal; font-size: 8pt;\\\">\\u201c[Don Zuccone:] [...] <span style=\\\"font-weight:bold;\\\">A fool, a fool, a fool! my Coxcomb for a fool!</span>\\u201d</div></div>\\n        </div>\\n        \",\"\\n        <div style=\\\"margin-left: 1em; max-width: 300px; min-width: 300px;\\\">\\n            <div style=\\\"font-variant:normal; font-size: 10pt;\\\">\\u201cmy kingdom for a boat, for a muscle boat;\\u201d</div>\\n            <br>\\n            from: <span style=\\\"font-variant:small-caps; font-size: 10pt;\\\">The Poor Man's Comfort (1616)</span><span style=\\\"font-size:10pt;\\\"> by Robert Daborne</span>\\n            <br><br>\\n            <div style=\\\"margin-left: 2em;\\\"><div style=\\\"font-variant:normal; font-size: 8pt;\\\">\\u201c[Sigismond:] [...] but where is Europa? See where she swims away upon a bull's back; <span style=\\\"font-weight:bold;\\\">my kingdom for a boat, for a muscle boat;</span> lay more sails on!\\u201d</div></div>\\n        </div>\\n        \",\"\\n        <div style=\\\"margin-left: 1em; max-width: 300px; min-width: 300px;\\\">\\n            <div style=\\\"font-variant:normal; font-size: 10pt;\\\">\\u201cmy Kingdom for a sword.\\u201d</div>\\n            <br>\\n            from: <span style=\\\"font-variant:small-caps; font-size: 10pt;\\\">The Little French Laywer (1620)</span><span style=\\\"font-size:10pt;\\\"> by John Fletcher, Philip Massinger</span>\\n            <br><br>\\n            <div style=\\\"margin-left: 2em;\\\"><div style=\\\"font-variant:normal; font-size: 8pt;\\\">\\u201c[Sampson:] [...] Look up brave friend, I have no means to rescue thee, <span style=\\\"font-weight:bold;\\\">my Kingdom for a sword.</span> [Champernell:] I'll sword you presently. I'll claw your skin-coat too.\\u201d</div></div>\\n        </div>\\n        \",\"\\n        <div style=\\\"margin-left: 1em; max-width: 300px; min-width: 300px;\\\">\\n            <div style=\\\"font-variant:normal; font-size: 10pt;\\\">\\u201cKing Richard [...] a horse, a horse,\\u201d</div>\\n            <br>\\n            from: <span style=\\\"font-variant:small-caps; font-size: 10pt;\\\">Iter Boreale (1647)</span><span style=\\\"font-size:10pt;\\\"> by Richard Corbet</span>\\n            <br><br>\\n            <div style=\\\"margin-left: 2em;\\\"><div style=\\\"font-variant:normal; font-size: 8pt;\\\">\\u201cUpon this Hill they met; why, he could tell The Inch where Richmond stood, where Richard fell; Besides what of his knowledge he could say, He had Authentic notice from the Play; Which I might guess by his mustering up the Ghosts, And policies not incident to hosts: But chiefly by that one perspicuous thing, Where he mistook a Player for a King, For when he would have said, <span style=\\\"font-weight:bold;\\\">King Richard</span> died, And called <span style=\\\"font-weight:bold;\\\">a horse, a horse,</span> he Burbage cried.\\u201d</div></div>\\n        </div>\\n        \",\"\\n        <div style=\\\"margin-left: 1em; max-width: 300px; min-width: 300px;\\\">\\n            <div style=\\\"font-variant:normal; font-size: 10pt;\\\">\\u201call my Kingdom for the bliss I'd give:\\u201d</div>\\n            <br>\\n            from: <span style=\\\"font-variant:small-caps; font-size: 10pt;\\\">Don Carlos, Prince of Spain (1676)</span><span style=\\\"font-size:10pt;\\\"> by Thomas Otway</span>\\n            <br><br>\\n            <div style=\\\"margin-left: 2em;\\\"><div style=\\\"font-variant:normal; font-size: 8pt;\\\">\\u201c[King Philip of Spain:] I've all this while been angry but in vain; She heats me first, then strokes me tame again. Oh wert thou true how happy should I be! Think'st Thou that I have Joy to part with thee? No, <span style=\\\"font-weight:bold;\\\">all my Kingdom for the bliss I'd give:</span> Nay though it were not so but to believe.\\u201d</div></div>\\n        </div>\\n        \",\"\\n        <div style=\\\"margin-left: 1em; max-width: 300px; min-width: 300px;\\\">\\n            <div style=\\\"font-variant:normal; font-size: 10pt;\\\">\\u201cgo, by Saint Hieronimo\\u201d</div>\\n            <br>\\n            from: <span style=\\\"font-variant:small-caps; font-size: 10pt;\\\">Taming of the Shrew (1623)</span><span style=\\\"font-size:10pt;\\\"> by William Shakespeare</span>\\n        </div>\\n        \",\"\\n        <div style=\\\"margin-left: 1em; max-width: 300px; min-width: 300px;\\\">\\n            <div style=\\\"font-variant:normal; font-size: 10pt;\\\">\\u201cHieronimo, beware, go by, go by.\\u201d</div>\\n            <br>\\n            from: <span style=\\\"font-variant:small-caps; font-size: 10pt;\\\">The Spanish Tragedy (1587)</span><span style=\\\"font-size:10pt;\\\"> by Thomas Kyd</span>\\n            <br><br>\\n            <div style=\\\"margin-left: 2em;\\\"><div style=\\\"font-variant:normal; font-size: 8pt;\\\">\\u201c[King:] Who is he that interrupts our business? [Hieronimo:] Not I. (Aside) <span style=\\\"font-weight:bold;\\\">Hieronimo, beware, go by, go by.</span>\\u201d</div></div>\\n        </div>\\n        \",\"\\n        <div style=\\\"margin-left: 1em; max-width: 300px; min-width: 300px;\\\">\\n            <div style=\\\"font-variant:normal; font-size: 10pt;\\\">\\u201cGo from my window go, go from, and away, go by old Hieronimo\\u201d</div>\\n            <br>\\n            from: <span style=\\\"font-variant:small-caps; font-size: 10pt;\\\">Blurt, Master Constable (1601)</span><span style=\\\"font-size:10pt;\\\"> by Thomas Dekker</span>\\n            <br><br>\\n            <div style=\\\"margin-left: 2em;\\\"><div style=\\\"font-variant:normal; font-size: 8pt;\\\">\\u201c[Simperina:] <span style=\\\"font-weight:bold;\\\">Go from my window go, go from, and away, go by old Hieronimo</span>; nay and you shrink i'th wetting, walk, walk, walk.\\u201d</div></div>\\n        </div>\\n        \",\"\\n        <div style=\\\"margin-left: 1em; max-width: 300px; min-width: 300px;\\\">\\n            <div style=\\\"font-variant:normal; font-size: 10pt;\\\">\\u201cGo by Hieronimo, go by\\u201d</div>\\n            <br>\\n            from: <span style=\\\"font-variant:small-caps; font-size: 10pt;\\\">Satiromastix, or The Untrussing of the Humorous Poet (1601)</span><span style=\\\"font-size:10pt;\\\"> by Thomas Dekker</span>\\n            <br><br>\\n            <div style=\\\"margin-left: 2em;\\\"><div style=\\\"font-variant:normal; font-size: 8pt;\\\">\\u201c[Tucca:] <span style=\\\"font-weight:bold;\\\">Go by Hieronimo, go by</span>; and here, drop the ten shillings into this basin; do, drop, when Jack?\\u201d</div></div>\\n        </div>\\n        \",\"\\n        <div style=\\\"margin-left: 1em; max-width: 300px; min-width: 300px;\\\">\\n            <div style=\\\"font-variant:normal; font-size: 10pt;\\\">\\u201cand go by Hieronimo\\u201d</div>\\n            <br>\\n            from: <span style=\\\"font-variant:small-caps; font-size: 10pt;\\\">The Captain (1612)</span><span style=\\\"font-size:10pt;\\\"> by Francis Beaumont, John Fletcher</span>\\n            <br><br>\\n            <div style=\\\"margin-left: 2em;\\\"><div style=\\\"font-variant:normal; font-size: 8pt;\\\">\\u201c[Fabritio:] [...] And call thee bloody bones, and Spade, and Spitfire, And Gaffer Madman; <span style=\\\"font-weight:bold;\\\">and go by Hieronimo</span>, And will with wisp and come aloft, and crack rope, And old Saint Dennis with the dudgeon Codpiece: And twenty such names.\\u201d</div></div>\\n        </div>\\n        \",\"\\n        <div style=\\\"margin-left: 1em; max-width: 300px; min-width: 300px;\\\">\\n            <div style=\\\"font-variant:normal; font-size: 10pt;\\\">\\u201cPass by Hieronimo.\\u201d</div>\\n            <br>\\n            from: <span style=\\\"font-variant:small-caps; font-size: 10pt;\\\">The Rebellion (1633)</span><span style=\\\"font-size:10pt;\\\"> by Thomas Rawlins</span>\\n            <br><br>\\n            <div style=\\\"margin-left: 2em;\\\"><div style=\\\"font-variant:normal; font-size: 8pt;\\\">\\u201c[First Tailor:] Who shall act Prince Belthazer and the King? [Third Tailor:] I will do Prince Belthazer too: and for the King Who but I? which of you all has such a face for a King, Or such a leg to trip up the heels of a Traitor? [Second Tailor:] You will do all I think. [Third Tailor:] Yes marry will I; who but Uirmine? yet I will Leave all to play the King: <span style=\\\"font-weight:bold;\\\">Pass by Hieronimo.</span>\\u201d</div></div>\\n        </div>\\n        \",\"\\n        <div style=\\\"margin-left: 1em; max-width: 300px; min-width: 300px;\\\">\\n            <div style=\\\"font-variant:normal; font-size: 10pt;\\\">\\u201cthereby hangs a tale\\u201d</div>\\n            <br>\\n            from: <span style=\\\"font-variant:small-caps; font-size: 10pt;\\\">As You Like It (1623)</span><span style=\\\"font-size:10pt;\\\"> by William Shakespeare</span>\\n        </div>\\n        \",\"\\n        <div style=\\\"margin-left: 1em; max-width: 300px; min-width: 300px;\\\">\\n            <div style=\\\"font-variant:normal; font-size: 10pt;\\\">\\u201cthereby lieth a tale\\u201d</div>\\n            <br>\\n            from: <span style=\\\"font-variant:small-caps; font-size: 10pt;\\\">The Garland or Chaplet of Laurel (1568)</span><span style=\\\"font-size:10pt;\\\"> by John Skelton</span>\\n            <br><br>\\n            <div style=\\\"margin-left: 2em;\\\"><div style=\\\"font-variant:normal; font-size: 8pt;\\\">\\u201cYet, though I say it, <span style=\\\"font-weight:bold;\\\">thereby lieth a tale</span> [...].\\u201d</div></div>\\n        </div>\\n        \",\"\\n        <div style=\\\"margin-left: 1em; max-width: 300px; min-width: 300px;\\\">\\n            <div style=\\\"font-variant:normal; font-size: 10pt;\\\">\\u201cby her there hangs a Tale.\\u201d</div>\\n            <br>\\n            from: <span style=\\\"font-variant:small-caps; font-size: 10pt;\\\">Ram Alley (1608)</span><span style=\\\"font-size:10pt;\\\"> by Lording Barry</span>\\n            <br><br>\\n            <div style=\\\"margin-left: 2em;\\\"><div style=\\\"font-variant:normal; font-size: 8pt;\\\">\\u201c[Sir Oliver Smallshank:] We old men have our crotchets, our conundrums, Our fegares, quirks and quibibles, As well as youth, Justice Tutchim I go To hunt no Buck, but prick a lusty Doe, I go in truth a wooing. [Justice Tutchin:] Then ride with me, I'll bring you to my sister Somerfield. [Sir Oliver Smallshank:] Justice not so: <span style=\\\"font-weight:bold;\\\">by her there hangs a Tale.</span>\\u201d</div></div>\\n        </div>\\n        \",\"\\n        <div style=\\\"margin-left: 1em; max-width: 300px; min-width: 300px;\\\">\\n            <div style=\\\"font-variant:normal; font-size: 10pt;\\\">\\u201cthere hangs a Tale.\\u201d</div>\\n            <br>\\n            from: <span style=\\\"font-variant:small-caps; font-size: 10pt;\\\">A Maidenhead Well Lost (1629)</span><span style=\\\"font-size:10pt;\\\"> by Thomas Heywood</span>\\n            <br><br>\\n            <div style=\\\"margin-left: 2em;\\\"><div style=\\\"font-variant:normal; font-size: 8pt;\\\">\\u201c[Clown:] I confess it; but whether you have served him well, or no, <span style=\\\"font-weight:bold;\\\">there hangs a Tale.</span>\\u201d</div></div>\\n        </div>\\n        \",\"\\n        <div style=\\\"margin-left: 1em; max-width: 300px; min-width: 300px;\\\">\\n            <div style=\\\"font-variant:normal; font-size: 10pt;\\\">\\u201cspringes to catch woodcocks\\u201d</div>\\n            <br>\\n            from: <span style=\\\"font-variant:small-caps; font-size: 10pt;\\\">Hamlet (1623)</span><span style=\\\"font-size:10pt;\\\"> by William Shakespeare</span>\\n        </div>\\n        \",\"\\n        <div style=\\\"margin-left: 1em; max-width: 300px; min-width: 300px;\\\">\\n            <div style=\\\"font-variant:normal; font-size: 10pt;\\\">\\u201cWilt thou set springs in a frosty Night, To catch the long-billed Woodcock\\u201d</div>\\n            <br>\\n            from: <span style=\\\"font-variant:small-caps; font-size: 10pt;\\\">The Tears of an Affectionate Shepherd Sick for Love (1594)</span><span style=\\\"font-size:10pt;\\\"> by Richard Barnfield</span>\\n            <br><br>\\n            <div style=\\\"margin-left: 2em;\\\"><div style=\\\"font-variant:normal; font-size: 8pt;\\\">\\u201cI have a fine bow, and an ivory arrow: And if thou miss, yet meat thou shalt lack, I'll hang a bag and bottle at thy back. <span style=\\\"font-weight:bold;\\\">Wilt thou set springs in a frosty Night, To catch the long-billed Woodcock</span> and the Snipe? (By the bright glimmering of the Starry light) The Partridge, Phaesant, or the greedy Crype?\\u201d</div></div>\\n        </div>\\n        \",\"\\n        <div style=\\\"margin-left: 1em; max-width: 300px; min-width: 300px;\\\">\\n            <div style=\\\"font-variant:normal; font-size: 10pt;\\\">\\u201csprings for Woodcocks\\u201d</div>\\n            <br>\\n            from: <span style=\\\"font-variant:small-caps; font-size: 10pt;\\\">Grimello's Fortunes (1604)</span><span style=\\\"font-size:10pt;\\\"> by Nicholas Breton</span>\\n            <br><br>\\n            <div style=\\\"margin-left: 2em;\\\"><div style=\\\"font-variant:normal; font-size: 8pt;\\\">\\u201c[Ganuzido:] Why, what have you taken then? or have you authority to take fools as you finde them in your way? If you have, you may happen yet to be deceived. [Grimello:] Why sir, I set no <span style=\\\"font-weight:bold;\\\">springs for Woodcocks</span>, and though I be no great wise man, yet I can do something else, than shoo the Goose for my living: and therefore, I pray you neither fear your Purse, nor play too much with my folly.\\u201d</div></div>\\n        </div>\\n        \",\"\\n        <div style=\\\"margin-left: 1em; max-width: 300px; min-width: 300px;\\\">\\n            <div style=\\\"font-variant:normal; font-size: 10pt;\\\">\\u201cthe spring I ha' set to catch this woodcock in:\\u201d</div>\\n            <br>\\n            from: <span style=\\\"font-variant:small-caps; font-size: 10pt;\\\">The Roaring Girl (1611)</span><span style=\\\"font-size:10pt;\\\"> by Thomas Dekker, Thomas Middleton</span>\\n            <br><br>\\n            <div style=\\\"margin-left: 2em;\\\"><div style=\\\"font-variant:normal; font-size: 8pt;\\\">\\u201c[Sir Davy:] Here's <span style=\\\"font-weight:bold;\\\">the spring I ha' set to catch this woodcock in:</span> an action In a false name - unknown to him - is entered. I'th' counter to arrest Jack Dapper.\\u201d</div></div>\\n        </div>\\n        \",\"\\n        <div style=\\\"margin-left: 1em; max-width: 300px; min-width: 300px;\\\">\\n            <div style=\\\"font-variant:normal; font-size: 10pt;\\\">\\u201cto catch the Woodcock in a Springe\\u201d</div>\\n            <br>\\n            from: <span style=\\\"font-variant:small-caps; font-size: 10pt;\\\">Laquei Ridiculosi (1613)</span><span style=\\\"font-size:10pt;\\\"> by Henry Parrot</span>\\n            <br><br>\\n            <div style=\\\"margin-left: 2em;\\\"><div style=\\\"font-variant:normal; font-size: 8pt;\\\">\\u201cMy honest friends that reads, I you beseech To make the best construction of each letter; And not to blame my lavishness of speech, In paying soundly where I am a debtor: My word and credit else you should infringe, Which was <span style=\\\"font-weight:bold;\\\">to catch the Woodcock in a Springe</span>.\\u201d</div></div>\\n        </div>\\n        \",\"\\n        <div style=\\\"margin-left: 1em; max-width: 300px; min-width: 300px;\\\">\\n            <div style=\\\"font-variant:normal; font-size: 10pt;\\\">\\u201cset their springes For to catch Woodcocks.\\u201d</div>\\n            <br>\\n            from: <span style=\\\"font-variant:small-caps; font-size: 10pt;\\\">The House of Correction (1619)</span><span style=\\\"font-size:10pt;\\\"> by John Heath</span>\\n            <br><br>\\n            <div style=\\\"margin-left: 2em;\\\"><div style=\\\"font-variant:normal; font-size: 8pt;\\\">\\u201cAlas, poor Book, hunt not thou after praise, Nor dare to stretch thy hand unto the Bays Upon a Poets head: let it suffice To thee and me, the world doth us despise. For 'tis a mad World, and it turns on hinges, Whilst some a-birding go, and <span style=\\\"font-weight:bold;\\\">set their springes For to catch Woodcocks.</span> Others sting and bite Like Wasps and Mastiffs, and do take delight To quarrel with their shadows, nay, themselves, And their own brood.\\u201d</div></div>\\n        </div>\\n        \",\"\\n        <div style=\\\"margin-left: 1em; max-width: 300px; min-width: 300px;\\\">\\n            <div style=\\\"font-variant:normal; font-size: 10pt;\\\">\\u201cSpring, which if it catch the Woodcock\\u201d</div>\\n            <br>\\n            from: <span style=\\\"font-variant:small-caps; font-size: 10pt;\\\">The Citizen Turned Gentleman (1672)</span><span style=\\\"font-size:10pt;\\\"> by Edward Ravenscroft</span>\\n            <br><br>\\n            <div style=\\\"margin-left: 2em;\\\"><div style=\\\"font-variant:normal; font-size: 8pt;\\\">\\u201c[Young Jorden:] By that means we shall get quit of him. [Trickmore:] The posture our affairs are in at present, do not much seem to require his absence, therefore I have contrived a defeat, and will keep him yet in play. I have set another <span style=\\\"font-weight:bold;\\\">Spring, which if it catch the Woodcock</span>, 'twill hold him fast. Look here comes forth our Knight in Petti-coats: muffle yourself up in your Cloak, and be gone. [Young Jorden:] A stately dame on my word.\\u201d</div></div>\\n        </div>\\n        \",\"\\n        <div style=\\\"margin-left: 1em; max-width: 300px; min-width: 300px;\\\">\\n            <div style=\\\"font-variant:normal; font-size: 10pt;\\\">\\u201cHere's another springe laid to catch the Woodcock.\\u201d</div>\\n            <br>\\n            from: <span style=\\\"font-variant:small-caps; font-size: 10pt;\\\">The London Cuckolds (1682)</span><span style=\\\"font-size:10pt;\\\"> by Edward Ravenscroft</span>\\n            <br><br>\\n            <div style=\\\"margin-left: 2em;\\\"><div style=\\\"font-variant:normal; font-size: 8pt;\\\">\\u201c[Roger:] Her's a Letter, Sir, to be delivered to you with all speed. [Ramble:] Ha - let me see't quickly (Opens it and reads.) From Eugenia [Townly:] Ay the Devil's coming abroad again to hinder your conversion. [Ramble (reads):] Sir, My Husband will be from home all this morning, I am very desirous to be informed the particulars of last nights misfortune; curiosity forces me, in spite of blushes to give you this invitation. Enter at the back-door without knocking, if you meet not Jane below come directly up stairs. - Good. [Townly:] <span style=\\\"font-weight:bold;\\\">Here's another springe laid to catch the Woodcock.</span> [Ramble:] Frank, is not here temptation now, is it to be resisted think you, can flesh and blood forbear going? [Townly:] Truly here is a very fair appearance.\\u201d</div></div>\\n        </div>\\n        \",\"\\n        <div style=\\\"margin-left: 1em; max-width: 300px; min-width: 300px;\\\">\\n            <div style=\\\"font-variant:normal; font-size: 10pt;\\\">\\u201cIllo, ho, ho, my lord\\u201d</div>\\n            <br>\\n            from: <span style=\\\"font-variant:small-caps; font-size: 10pt;\\\">Hamlet (1623)</span><span style=\\\"font-size:10pt;\\\"> by William Shakespeare</span>\\n        </div>\\n        \",\"\\n        <div style=\\\"margin-left: 1em; max-width: 300px; min-width: 300px;\\\">\\n            <div style=\\\"font-variant:normal; font-size: 10pt;\\\">\\u201cIllo, ho, ho:\\u201d</div>\\n            <br>\\n            from: <span style=\\\"font-variant:small-caps; font-size: 10pt;\\\">The Dutch Courtesan (1604)</span><span style=\\\"font-size:10pt;\\\"> by John Marston</span>\\n            <br><br>\\n            <div style=\\\"margin-left: 2em;\\\"><div style=\\\"font-variant:normal; font-size: 8pt;\\\">\\u201c[Master Mulligrub:] Who goes there: <span style=\\\"font-weight:bold;\\\">Illo, ho, ho:</span> sounds shall I run mad, Loose my wits: shall I be hanged, hark who goes there? Do not fear to be poor Mullegrub, Thou hast a sure stock now.\\u201d</div></div>\\n        </div>\\n        \",\"\\n        <div style=\\\"margin-left: 1em; max-width: 300px; min-width: 300px;\\\">\\n            <div style=\\\"font-variant:normal; font-size: 10pt;\\\">\\u201cHo! illo, illo, illo.\\u201d</div>\\n            <br>\\n            from: <span style=\\\"font-variant:small-caps; font-size: 10pt;\\\">The Poor Man's Comfort (1616)</span><span style=\\\"font-size:10pt;\\\"> by Robert Daborne</span>\\n            <br><br>\\n            <div style=\\\"margin-left: 2em;\\\"><div style=\\\"font-variant:normal; font-size: 8pt;\\\">\\u201c[Sigismond:] <span style=\\\"font-weight:bold;\\\">Ho! illo, illo, illo.</span> [Cazzo:] The game's not up yet Sir. I think some gelder had a hand in the getting of him, he understands no language but the horn.\\u201d</div></div>\\n        </div>\\n        \",\"\\n        <div style=\\\"margin-left: 1em; max-width: 300px; min-width: 300px;\\\">\\n            <div style=\\\"font-variant:normal; font-size: 10pt;\\\">\\u201cSo ho, illo ho.\\u201d</div>\\n            <br>\\n            from: <span style=\\\"font-variant:small-caps; font-size: 10pt;\\\">Thierry, King of France, and His Brother Theodoret (1617)</span><span style=\\\"font-size:10pt;\\\"> by Francis Beaumont, John Fletcher, Philip Massinger</span>\\n            <br><br>\\n            <div style=\\\"margin-left: 2em;\\\"><div style=\\\"font-variant:normal; font-size: 8pt;\\\">\\u201c[Devitry:] Here Sir, here, I could beat my brains out, that could not think of boots, boots Sir, wide-topped boots, I shall love them the better whilst I live; but are you sure your Jewels are here Sir? [Protaldye:] Sure sayst thou? ha, ha, ha. [Devitry:] <span style=\\\"font-weight:bold;\\\">So ho, illo ho.</span> [Soldiers within] Here Captain. here. [Protaldye:] 'Foot what do you mean Sir? (Enter Soldiers.) [Devitry:] A trick to boot, say you; here you dull slaves, purchase, purchase the soul of the Rock, Diamonds, sparkling Diamonds.\\u201d</div></div>\\n        </div>\\n        \",\"\\n        <div style=\\\"margin-left: 1em; max-width: 300px; min-width: 300px;\\\">\\n            <div style=\\\"font-variant:normal; font-size: 10pt;\\\">\\u201cSo, ho, by, so, ho, illo ho, illo ho.\\u201d</div>\\n            <br>\\n            from: <span style=\\\"font-variant:small-caps; font-size: 10pt;\\\">The Child Hath Found His Father, or The Birth of Merlin (1622)</span><span style=\\\"font-size:10pt;\\\"> by William Rowley</span>\\n            <br><br>\\n            <div style=\\\"margin-left: 2em;\\\"><div style=\\\"font-variant:normal; font-size: 8pt;\\\">\\u201c[Clown:] If there be any man that wants a name, will come in for conscience sake, and acknowledge himself to be a Whore-Master, he shall have that laid to his charge in an hour, he shall not be rid on in an age; if he have Lands, he shall have an heir, if he have patience, he shall have a wife, if he have neither Lands nor patience, he shall have a whore, so ho boy, so ho, so, so. [Prince Uter (within):] <span style=\\\"font-weight:bold;\\\">So, ho, by, so, ho, illo ho, illo ho.</span> [Clown:] Har, hark sister, there's one hollows to us, what a wicked world's this, a man cannot so soon name a whore but a knave comes presently, and see where he is, stand close a while, sister.\\u201d</div></div>\\n        </div>\\n        \",\"\\n        <div style=\\\"margin-left: 1em; max-width: 300px; min-width: 300px;\\\">\\n            <div style=\\\"font-variant:normal; font-size: 10pt;\\\">\\u201cIllo ho, ho Illo.\\u201d</div>\\n            <br>\\n            from: <span style=\\\"font-variant:small-caps; font-size: 10pt;\\\">The Seven Champions of Christendom (1634)</span><span style=\\\"font-size:10pt;\\\"> by John Kirke</span>\\n            <br><br>\\n            <div style=\\\"margin-left: 2em;\\\"><div style=\\\"font-variant:normal; font-size: 8pt;\\\">\\u201c[Calib the Witch:] Ha, ha, ha; and when will that be Tarpax? Vanish like smoke, my fear, come kiss me my Love, Thou hast earned thy breakfast Chuck; here suck thy fill. [Clown (within):] <span style=\\\"font-weight:bold;\\\">Illo ho, ho Illo.</span> [Tarpax:] What mortal's that disturbs us? Shall I blast him? [Calib the Witch:] Hold my Love, 'tis Suckabus our son; fall off.\\u201d</div></div>\\n        </div>\\n        \",\"\\n        <div style=\\\"margin-left: 1em; max-width: 300px; min-width: 300px;\\\">\\n            <div style=\\\"font-variant:normal; font-size: 10pt;\\\">\\u201cIllo, ho . - [...] Illo ho , boys.\\u201d</div>\\n            <br>\\n            from: <span style=\\\"font-variant:small-caps; font-size: 10pt;\\\">The Triumph of Beauty (1634)</span><span style=\\\"font-size:10pt;\\\"> by James Shirley</span>\\n            <br><br>\\n            <div style=\\\"margin-left: 2em;\\\"><div style=\\\"font-variant:normal; font-size: 8pt;\\\">\\u201c[Bottle:] Weather? You are wise; do you think, Sir, I have so little honesty, to be Sir Pandarus to your Melancholy. <span style=\\\"font-weight:bold;\\\">Illo, ho . -</span> [Paris:] What, art thou mad? [Bottle:] You are little better: if you can get their consent. [Paris:] Whose consent? [Bottle:] Hobinoll, Crab, Toad-stool, - <span style=\\\"font-weight:bold;\\\">Illo ho , boys.</span> Some friends of yours, that sent me to hunt out your Highness, your humble Subjects and Play-fellows, that have a mind to be merry.\\u201d</div></div>\\n        </div>\\n        \",\"\\n        <div style=\\\"margin-left: 1em; max-width: 300px; min-width: 300px;\\\">\\n            <div style=\\\"font-variant:normal; font-size: 10pt;\\\">\\u201cIllo, ho, ho, ho.\\u201d</div>\\n            <br>\\n            from: <span style=\\\"font-variant:small-caps; font-size: 10pt;\\\">Macbeth, A Tragedy (1664)</span><span style=\\\"font-size:10pt;\\\"> by Sir William D'Avenant</span>\\n            <br><br>\\n            <div style=\\\"margin-left: 2em;\\\"><div style=\\\"font-variant:normal; font-size: 8pt;\\\">\\u201c[Maid:] Yes, I have heard stories, how some men Have in such lonely places been affrighted With dreadful shapes and noises. (Macduff hollows.) [Lady Macduff:] But hark, my lord sure hollows; 'Tis he; answer him quickly. [Servant:] <span style=\\\"font-weight:bold;\\\">Illo, ho, ho, ho.</span> (Enter Macduff.) [Lady Macduff:] Now I begin to see him: are you afoot, my Lord?\\u201d</div></div>\\n        </div>\\n        \",\"\\n        <div style=\\\"margin-left: 1em; max-width: 300px; min-width: 300px;\\\">\\n            <div style=\\\"font-variant:normal; font-size: 10pt;\\\">\\u201cthough this be madness, yet there is method in it\\u201d</div>\\n            <br>\\n            from: <span style=\\\"font-variant:small-caps; font-size: 10pt;\\\">Hamlet (1623)</span><span style=\\\"font-size:10pt;\\\"> by William Shakespeare</span>\\n        </div>\\n        \",\"\\n        <div style=\\\"margin-left: 1em; max-width: 300px; min-width: 300px;\\\">\\n            <div style=\\\"font-variant:normal; font-size: 10pt;\\\">\\u201cReason in madness!\\u201d</div>\\n            <br>\\n            from: <span style=\\\"font-variant:small-caps; font-size: 10pt;\\\">King Lear (1605)</span><span style=\\\"font-size:10pt;\\\"> by William Shakespeare</span>\\n            <br><br>\\n            <div style=\\\"margin-left: 2em;\\\"><div style=\\\"font-variant:normal; font-size: 8pt;\\\">\\u201c[Edgar:] O, matter and impertinency mixed, <span style=\\\"font-weight:bold;\\\">Reason in madness!</span>\\u201d</div></div>\\n        </div>\\n        \",\"\\n        <div style=\\\"margin-left: 1em; max-width: 300px; min-width: 300px;\\\">\\n            <div style=\\\"font-variant:normal; font-size: 10pt;\\\">\\u201ca madness methodized\\u201d</div>\\n            <br>\\n            from: <span style=\\\"font-variant:small-caps; font-size: 10pt;\\\">The Fatal Jealousy (1672)</span><span style=\\\"font-size:10pt;\\\"> by Henry Neville Payne</span>\\n            <br><br>\\n            <div style=\\\"margin-left: 2em;\\\"><div style=\\\"font-variant:normal; font-size: 8pt;\\\">\\u201c[Don Gerardo:] These Actions sure did seem a perfect madness. [Servant:] It seemed indeed <span style=\\\"font-weight:bold;\\\">a madness methodized</span>, Like theirs who are Transported far with Passion.\\u201d</div></div>\\n        </div>\\n        \",\"\\n        <div style=\\\"margin-left: 1em; max-width: 300px; min-width: 300px;\\\">\\n            <div style=\\\"font-variant:normal; font-size: 10pt;\\\">\\u201cman's madness and Satan's methods\\u201d</div>\\n            <br>\\n            from: <span style=\\\"font-variant:small-caps; font-size: 10pt;\\\">A Sermon Preached at the Funeral of Mr. Henry Stubbs (1676)</span><span style=\\\"font-size:10pt;\\\"> by Richard Baxter</span>\\n            <br><br>\\n            <div style=\\\"margin-left: 2em;\\\"><div style=\\\"font-variant:normal; font-size: 8pt;\\\">\\u201cThe wonder of that Foreigner in Henry VIII's days, Deus bone quomodo hic vivunt gentes, that saw men killed for being Protestants, and for being Papists, was not so contradictory a subject as the Papists usage of the Saints, a stupendous instance of <span style=\\\"font-weight:bold;\\\">man's madness and Satan's methods</span>, that at the same time can rack, and burn, and Murder Saints, and yet Honour the Relics, Names and Memories of the Dead that were before them.\\u201d</div></div>\\n        </div>\\n        \",\"\\n        <div style=\\\"margin-left: 1em; max-width: 300px; min-width: 300px;\\\">\\n            <div style=\\\"font-variant:normal; font-size: 10pt;\\\">\\u201cthere was a Method in her madness,\\u201d</div>\\n            <br>\\n            from: <span style=\\\"font-variant:small-caps; font-size: 10pt;\\\">The Devil of a Wife (1686)</span><span style=\\\"font-size:10pt;\\\"> by Thomas Jevon</span>\\n            <br><br>\\n            <div style=\\\"margin-left: 2em;\\\"><div style=\\\"font-variant:normal; font-size: 8pt;\\\">\\u201c[Rowland:] Methought <span style=\\\"font-weight:bold;\\\">there was a Method in her madness,</span> she did not know herself i'th Glass.\\u201d</div></div>\\n        </div>\\n        \",\"\\n        <div style=\\\"margin-left: 1em; max-width: 300px; min-width: 300px;\\\">\\n            <div style=\\\"font-variant:normal; font-size: 10pt;\\\">\\u201cMethod in Madness\\u201d</div>\\n            <br>\\n            from: <span style=\\\"font-variant:small-caps; font-size: 10pt;\\\">A Fool's Preferment (1688)</span><span style=\\\"font-size:10pt;\\\"> by Thomas D'Urfey</span>\\n            <br><br>\\n            <div style=\\\"margin-left: 2em;\\\"><div style=\\\"font-variant:normal; font-size: 8pt;\\\">\\u201c[Lyonel:] [...] (Sings) There's nothing so fatal as Woman, To hurry a Man to his Grave, You must think, you may plot, You may sigh like a Sot: She uses you more like a Slave. But a Bottle, although it be common, The Cheats of the Fair will undo, It will drive from your Head The Delights of the Bed; He that's drunk is not able to woo. (Exit Lyonel) [Celia:] <span style=\\\"font-weight:bold;\\\">Method in Madness</span>, Grace even in Distraction: I'll never leave him, 'till, by Art or Prayer, I have restored his Senses to their Office.\\u201d</div></div>\\n        </div>\\n        \",\"\\n        <div style=\\\"margin-left: 1em; max-width: 300px; min-width: 300px;\\\">\\n            <div style=\\\"font-variant:normal; font-size: 10pt;\\\">\\u201cplanets strike\\u201d</div>\\n            <br>\\n            from: <span style=\\\"font-variant:small-caps; font-size: 10pt;\\\">Hamlet (1623)</span><span style=\\\"font-size:10pt;\\\"> by William Shakespeare</span>\\n        </div>\\n        \",\"\\n        <div style=\\\"margin-left: 1em; max-width: 300px; min-width: 300px;\\\">\\n            <div style=\\\"font-variant:normal; font-size: 10pt;\\\">\\u201cI was struck with a planet\\u201d</div>\\n            <br>\\n            from: <span style=\\\"font-variant:small-caps; font-size: 10pt;\\\">Every Man In His Humour (1598)</span><span style=\\\"font-size:10pt;\\\"> by Ben Jonson</span>\\n            <br><br>\\n            <div style=\\\"margin-left: 2em;\\\"><div style=\\\"font-variant:normal; font-size: 8pt;\\\">\\u201c[Bobadill:] [...] sure <span style=\\\"font-weight:bold;\\\">I was struck with a planet</span> then, for I had no power to touch my weapon. [Ed. Knowell:] Aye, like enough, I have heard of many that have been beaten under a planet: go, get you to a surgeon.\\u201d</div></div>\\n        </div>\\n        \",\"\\n        <div style=\\\"margin-left: 1em; max-width: 300px; min-width: 300px;\\\">\\n            <div style=\\\"font-variant:normal; font-size: 10pt;\\\">\\u201csome planet strike me down\\u201d</div>\\n            <br>\\n            from: <span style=\\\"font-variant:small-caps; font-size: 10pt;\\\">Titus Andronicus (1592)</span><span style=\\\"font-size:10pt;\\\"> by George Peele, William Shakespeare</span>\\n            <br><br>\\n            <div style=\\\"margin-left: 2em;\\\"><div style=\\\"font-variant:normal; font-size: 8pt;\\\">\\u201c[Marcus:] Who is this? My niece, that flies away so fast? - Cousin, a word. Where is your husband? If I do dream, would all my wealth would wake me. If I do wake, <span style=\\\"font-weight:bold;\\\">some planet strike me down</span> That I may slumber an eternal sleep.\\u201d</div></div>\\n        </div>\\n        \",\"\\n        <div style=\\\"margin-left: 1em; max-width: 300px; min-width: 300px;\\\">\\n            <div style=\\\"font-variant:normal; font-size: 10pt;\\\">\\u201cstruck Corioles like a planet.\\u201d</div>\\n            <br>\\n            from: <span style=\\\"font-variant:small-caps; font-size: 10pt;\\\">Coriolanus (1608)</span><span style=\\\"font-size:10pt;\\\"> by William Shakespeare</span>\\n            <br><br>\\n            <div style=\\\"margin-left: 2em;\\\"><div style=\\\"font-variant:normal; font-size: 8pt;\\\">\\u201c[Cominius:] [...] Alone he entered The mortal gate o' th' city, which he painted With shunless destiny; aidless came off And with a sudden reinforcement <span style=\\\"font-weight:bold;\\\">struck Corioles like a planet.</span>\\u201d</div></div>\\n        </div>\\n        \",\"\\n        <div style=\\\"margin-left: 1em; max-width: 300px; min-width: 300px;\\\">\\n            <div style=\\\"font-variant:normal; font-size: 10pt;\\\">\\u201cbe planet struck.\\u201d</div>\\n            <br>\\n            from: <span style=\\\"font-variant:small-caps; font-size: 10pt;\\\">The Atheist's Tragedy (1610)</span><span style=\\\"font-size:10pt;\\\"> by Cyril Tourneur</span>\\n            <br><br>\\n            <div style=\\\"margin-left: 2em;\\\"><div style=\\\"font-variant:normal; font-size: 8pt;\\\">\\u201c[D'Amville:] With an amazement behold thine error and <span style=\\\"font-weight:bold;\\\">be planet struck.</span>\\u201d</div></div>\\n        </div>\\n        \",\"\\n        <div style=\\\"margin-left: 1em; max-width: 300px; min-width: 300px;\\\">\\n            <div style=\\\"font-variant:normal; font-size: 10pt;\\\">\\u201ca bawdy planet, that will strike\\u201d</div>\\n            <br>\\n            from: <span style=\\\"font-variant:small-caps; font-size: 10pt;\\\">The Winter's Tale (1611)</span><span style=\\\"font-size:10pt;\\\"> by William Shakespeare</span>\\n            <br><br>\\n            <div style=\\\"margin-left: 2em;\\\"><div style=\\\"font-variant:normal; font-size: 8pt;\\\">\\u201c[Leontes:] [...] Physic for 't there's none. It is <span style=\\\"font-weight:bold;\\\">a bawdy planet, that will strike</span> Where 'tis predominant; and 'tis powerful, think it, From east, west, north, and south.\\u201d</div></div>\\n        </div>\\n        \",\"\\n        <div style=\\\"margin-left: 1em; max-width: 300px; min-width: 300px;\\\">\\n            <div style=\\\"font-variant:normal; font-size: 10pt;\\\">\\u201cI do bear a brain.\\u201d</div>\\n            <br>\\n            from: <span style=\\\"font-variant:small-caps; font-size: 10pt;\\\">Romeo and Juliet (1599)</span><span style=\\\"font-size:10pt;\\\"> by William Shakespeare</span>\\n        </div>\\n        \",\"\\n        <div style=\\\"margin-left: 1em; max-width: 300px; min-width: 300px;\\\">\\n            <div style=\\\"font-variant:normal; font-size: 10pt;\\\">\\u201cnay and I bear not a brain\\u201d</div>\\n            <br>\\n            from: <span style=\\\"font-variant:small-caps; font-size: 10pt;\\\">The Dutch Courtesan (1604)</span><span style=\\\"font-size:10pt;\\\"> by John Marston</span>\\n            <br><br>\\n            <div style=\\\"margin-left: 2em;\\\"><div style=\\\"font-variant:normal; font-size: 8pt;\\\">\\u201c[Mrs. Mulligrub:] [...] <span style=\\\"font-weight:bold;\\\">nay and I bear not a brain</span> [...].\\u201d</div></div>\\n        </div>\\n        \",\"\\n        <div style=\\\"margin-left: 1em; max-width: 300px; min-width: 300px;\\\">\\n            <div style=\\\"font-variant:normal; font-size: 10pt;\\\">\\u201cwe must bear brain\\u201d</div>\\n            <br>\\n            from: <span style=\\\"font-variant:small-caps; font-size: 10pt;\\\">The Fawn, or Parasitaster (1605)</span><span style=\\\"font-size:10pt;\\\"> by John Marston</span>\\n            <br><br>\\n            <div style=\\\"margin-left: 2em;\\\"><div style=\\\"font-variant:normal; font-size: 8pt;\\\">\\u201c[Gonzago:] [...] is't not well thought my Lord, <span style=\\\"font-weight:bold;\\\">we must bear brain</span> [...]\\u201d</div></div>\\n        </div>\\n        \",\"\\n        <div style=\\\"margin-left: 1em; max-width: 300px; min-width: 300px;\\\">\\n            <div style=\\\"font-variant:normal; font-size: 10pt;\\\">\\u201cwe must bear some brain\\u201d</div>\\n            <br>\\n            from: <span style=\\\"font-variant:small-caps; font-size: 10pt;\\\">Ram Alley (1608)</span><span style=\\\"font-size:10pt;\\\"> by Lording Barry</span>\\n            <br><br>\\n            <div style=\\\"margin-left: 2em;\\\"><div style=\\\"font-variant:normal; font-size: 8pt;\\\">\\u201c[Throat:] [...] Dash, <span style=\\\"font-weight:bold;\\\">we must bear some brain</span> to St. John's street, go, run, fly: and afar off enquire [...].\\u201d</div></div>\\n        </div>\\n        \",\"\\n        <div style=\\\"margin-left: 1em; max-width: 300px; min-width: 300px;\\\">\\n            <div style=\\\"font-variant:normal; font-size: 10pt;\\\">\\u201cI can bear a brain\\u201d</div>\\n            <br>\\n            from: <span style=\\\"font-variant:small-caps; font-size: 10pt;\\\">The Golden Age (1611)</span><span style=\\\"font-size:10pt;\\\"> by Thomas Heywood</span>\\n            <br><br>\\n            <div style=\\\"margin-left: 2em;\\\"><div style=\\\"font-variant:normal; font-size: 8pt;\\\">\\u201c[Clown:] [...] As I can bear a pack, so <span style=\\\"font-weight:bold;\\\">I can bear a brain</span> [...].\\u201d</div></div>\\n        </div>\\n        \",\"\\n        <div style=\\\"margin-left: 1em; max-width: 300px; min-width: 300px;\\\">\\n            <div style=\\\"font-variant:normal; font-size: 10pt;\\\">\\u201clivers white as milk\\u201d</div>\\n            <br>\\n            from: <span style=\\\"font-variant:small-caps; font-size: 10pt;\\\">Merchant of Venice (1600)</span><span style=\\\"font-size:10pt;\\\"> by William Shakespeare</span>\\n        </div>\\n        \",\"\\n        <div style=\\\"margin-left: 1em; max-width: 300px; min-width: 300px;\\\">\\n            <div style=\\\"font-variant:normal; font-size: 10pt;\\\">\\u201cliver white and pale\\u201d</div>\\n            <br>\\n            from: <span style=\\\"font-variant:small-caps; font-size: 10pt;\\\">Henry IV Part 2 (1597)</span><span style=\\\"font-size:10pt;\\\"> by William Shakespeare</span>\\n            <br><br>\\n            <div style=\\\"margin-left: 2em;\\\"><div style=\\\"font-variant:normal; font-size: 8pt;\\\">\\u201c[Falstaff:] [...] left the <span style=\\\"font-weight:bold;\\\">liver white and pale</span>, which is the badge of pusillanimity and cowardice.\\u201d</div></div>\\n        </div>\\n        \",\"\\n        <div style=\\\"margin-left: 1em; max-width: 300px; min-width: 300px;\\\">\\n            <div style=\\\"font-variant:normal; font-size: 10pt;\\\">\\u201cBut I am pigeon-livered and lack gall\\u201d</div>\\n            <br>\\n            from: <span style=\\\"font-variant:small-caps; font-size: 10pt;\\\">Hamlet (1600)</span><span style=\\\"font-size:10pt;\\\"> by William Shakespeare</span>\\n            <br><br>\\n            <div style=\\\"margin-left: 2em;\\\"><div style=\\\"font-variant:normal; font-size: 8pt;\\\">\\u201c[Hamlet:] [...] <span style=\\\"font-weight:bold;\\\">But I am pigeon-livered and lack gall</span> [...].\\u201d</div></div>\\n        </div>\\n        \",\"\\n        <div style=\\\"margin-left: 1em; max-width: 300px; min-width: 300px;\\\">\\n            <div style=\\\"font-variant:normal; font-size: 10pt;\\\">\\u201clily-livered,\\u201d</div>\\n            <br>\\n            from: <span style=\\\"font-variant:small-caps; font-size: 10pt;\\\">King Lear (1605)</span><span style=\\\"font-size:10pt;\\\"> by William Shakespeare</span>\\n            <br><br>\\n            <div style=\\\"margin-left: 2em;\\\"><div style=\\\"font-variant:normal; font-size: 8pt;\\\">\\u201c[Kent:] [...] a <span style=\\\"font-weight:bold;\\\">lily-livered,</span> action-taking, whoreson, glass-gazing [...] the composition of a knave, beggar, coward, pander, and the son and heir of a mongrel bitch.\\u201d</div></div>\\n        </div>\\n        \",\"\\n        <div style=\\\"margin-left: 1em; max-width: 300px; min-width: 300px;\\\">\\n            <div style=\\\"font-variant:normal; font-size: 10pt;\\\">\\u201cAll the world's a stage\\u201d</div>\\n            <br>\\n            from: <span style=\\\"font-variant:small-caps; font-size: 10pt;\\\">As You Like It (1623)</span><span style=\\\"font-size:10pt;\\\"> by William Shakespeare</span>\\n        </div>\\n        \",\"\\n        <div style=\\\"margin-left: 1em; max-width: 300px; min-width: 300px;\\\">\\n            <div style=\\\"font-variant:normal; font-size: 10pt;\\\">\\u201cPythagoras [...] this world was like a stage Whereon many play their parts.\\u201d</div>\\n            <br>\\n            from: <span style=\\\"font-variant:small-caps; font-size: 10pt;\\\">Damon and Pythias (Edwards) (1564)</span><span style=\\\"font-size:10pt;\\\"> by Richard Edwards</span>\\n            <br><br>\\n            <div style=\\\"margin-left: 2em;\\\"><div style=\\\"font-variant:normal; font-size: 8pt;\\\">\\u201c[Damon:] [...] <span style=\\\"font-weight:bold;\\\">Pythagoras</span> said that <span style=\\\"font-weight:bold;\\\">this world was like a stage Whereon many play their parts.</span>\\u201d</div></div>\\n        </div>\\n        \",\"\\n        <div style=\\\"margin-left: 1em; max-width: 300px; min-width: 300px;\\\">\\n            <div style=\\\"font-variant:normal; font-size: 10pt;\\\">\\u201cthe stage, [...] The whole world being one\\u201d</div>\\n            <br>\\n            from: <span style=\\\"font-variant:small-caps; font-size: 10pt;\\\">The Roman Actor (1626)</span><span style=\\\"font-size:10pt;\\\"> by Philip Massinger</span>\\n            <br><br>\\n            <div style=\\\"margin-left: 2em;\\\"><div style=\\\"font-variant:normal; font-size: 8pt;\\\">\\u201c[Aretinus:] Are you on <span style=\\\"font-weight:bold;\\\">the stage,</span> You talk so boldly? [Paris:] <span style=\\\"font-weight:bold;\\\">The whole world being one</span> This place is not exempted [...].\\u201d</div></div>\\n        </div>\\n        \",\"\\n        <div style=\\\"margin-left: 1em; max-width: 300px; min-width: 300px;\\\">\\n            <div style=\\\"font-variant:normal; font-size: 10pt;\\\">\\u201cwe will not carry coals\\u201d</div>\\n            <br>\\n            from: <span style=\\\"font-variant:small-caps; font-size: 10pt;\\\">Romeo and Juliet (1599)</span><span style=\\\"font-size:10pt;\\\"> by William Shakespeare</span>\\n        </div>\\n        \",\"\\n        <div style=\\\"margin-left: 1em; max-width: 300px; min-width: 300px;\\\">\\n            <div style=\\\"font-variant:normal; font-size: 10pt;\\\">\\u201ccarry coals\\u201d</div>\\n            <br>\\n            from: <span style=\\\"font-variant:small-caps; font-size: 10pt;\\\">Every Man Out of His Humour (1599)</span><span style=\\\"font-size:10pt;\\\"> by Ben Jonson</span>\\n            <br><br>\\n            <div style=\\\"margin-left: 2em;\\\"><div style=\\\"font-variant:normal; font-size: 8pt;\\\">\\u201c[Puntarvolo:] [...] Here comes one that will <span style=\\\"font-weight:bold;\\\">carry coals</span>; ergo, will hold my dog [...].\\u201d</div></div>\\n        </div>\\n        \",\"\\n        <div style=\\\"margin-left: 1em; max-width: 300px; min-width: 300px;\\\">\\n            <div style=\\\"font-variant:normal; font-size: 10pt;\\\">\\u201ccarry coals.\\u201d</div>\\n            <br>\\n            from: <span style=\\\"font-variant:small-caps; font-size: 10pt;\\\">Henry V (1599)</span><span style=\\\"font-size:10pt;\\\"> by William Shakespeare</span>\\n            <br><br>\\n            <div style=\\\"margin-left: 2em;\\\"><div style=\\\"font-variant:normal; font-size: 8pt;\\\">\\u201c[Boy:] [...] Nym and Bardolph are sworn brothers in filching, and in Calais they stole a fire shovel. I knew by that piece of service the men would <span style=\\\"font-weight:bold;\\\">carry coals.</span>\\u201d</div></div>\\n        </div>\\n        \",\"\\n        <div style=\\\"margin-left: 1em; max-width: 300px; min-width: 300px;\\\">\\n            <div style=\\\"font-variant:normal; font-size: 10pt;\\\">\\u201cI would bear no coals\\u201d</div>\\n            <br>\\n            from: <span style=\\\"font-variant:small-caps; font-size: 10pt;\\\">Antonio's Revenge (1600)</span><span style=\\\"font-size:10pt;\\\"> by John Marston</span>\\n            <br><br>\\n            <div style=\\\"margin-left: 2em;\\\"><div style=\\\"font-variant:normal; font-size: 8pt;\\\">\\u201c[Balurdo:] [...] I were as he, <span style=\\\"font-weight:bold;\\\">I would bear no coals</span>, law I, I begin to swell, puff.\\u201d</div></div>\\n        </div>\\n        \",\"\\n        <div style=\\\"margin-left: 1em; max-width: 300px; min-width: 300px;\\\">\\n            <div style=\\\"font-variant:normal; font-size: 10pt;\\\">\\u201ca coal-basket\\u201d</div>\\n            <br>\\n            from: <span style=\\\"font-variant:small-caps; font-size: 10pt;\\\">The Malcontent (1603)</span><span style=\\\"font-size:10pt;\\\"> by John Marston, John Webster</span>\\n            <br><br>\\n            <div style=\\\"margin-left: 2em;\\\"><div style=\\\"font-variant:normal; font-size: 8pt;\\\">\\u201c[Malevole:] Great slaves fear better than love, born naturally for <span style=\\\"font-weight:bold;\\\">a coal-basket</span> [...].\\u201d</div></div>\\n        </div>\\n        \",\"\\n        <div style=\\\"margin-left: 1em; max-width: 300px; min-width: 300px;\\\">\\n            <div style=\\\"font-variant:normal; font-size: 10pt;\\\">\\u201cyou must carry no coals.\\u201d</div>\\n            <br>\\n            from: <span style=\\\"font-variant:small-caps; font-size: 10pt;\\\">May Day (1604)</span><span style=\\\"font-size:10pt;\\\"> by George Chapman</span>\\n            <br><br>\\n            <div style=\\\"margin-left: 2em;\\\"><div style=\\\"font-variant:normal; font-size: 8pt;\\\">\\u201c[Quintiliano:] And yet take heed you swear by no man's beard but your own, for that may breed a quarrel; above all things <span style=\\\"font-weight:bold;\\\">you must carry no coals.</span>\\u201d</div></div>\\n        </div>\\n        \",\"\\n        <div style=\\\"margin-left: 1em; max-width: 300px; min-width: 300px;\\\">\\n            <div style=\\\"font-variant:normal; font-size: 10pt;\\\">\\u201c(he being of an uncoal-carrying spirit)\\u201d</div>\\n            <br>\\n            from: <span style=\\\"font-variant:small-caps; font-size: 10pt;\\\">May Day (1604)</span><span style=\\\"font-size:10pt;\\\"> by George Chapman</span>\\n            <br><br>\\n            <div style=\\\"margin-left: 2em;\\\"><div style=\\\"font-variant:normal; font-size: 8pt;\\\">\\u201c[Quintiliano:] Why sir, because I entertained this Gentleman for my Antient, (being my dear friend and an excellent scholar) he takes pepper ith' nose and sneezes it out upon my Antient; now sir <span style=\\\"font-weight:bold;\\\">(he being of an uncoal-carrying spirit)</span> falls foul on him, calls him gull openly [...].\\u201d</div></div>\\n        </div>\\n        \",\"\\n        <div style=\\\"margin-left: 1em; max-width: 300px; min-width: 300px;\\\">\\n            <div style=\\\"font-variant:normal; font-size: 10pt;\\\">\\u201cI'll carry coals and you will,\\u201d</div>\\n            <br>\\n            from: <span style=\\\"font-variant:small-caps; font-size: 10pt;\\\">Law-Tricks (1604)</span><span style=\\\"font-size:10pt;\\\"> by John Day</span>\\n            <br><br>\\n            <div style=\\\"margin-left: 2em;\\\"><div style=\\\"font-variant:normal; font-size: 8pt;\\\">\\u201c[Lurdo:] [...] <span style=\\\"font-weight:bold;\\\">I'll carry coals and you will,</span> no horns, I know the law.\\u201d</div></div>\\n        </div>\\n        \",\"\\n        <div style=\\\"margin-left: 1em; max-width: 300px; min-width: 300px;\\\">\\n            <div style=\\\"font-variant:normal; font-size: 10pt;\\\">\\u201cfrailty, thy name is woman\\u201d</div>\\n            <br>\\n            from: <span style=\\\"font-variant:small-caps; font-size: 10pt;\\\">Hamlet (1623)</span><span style=\\\"font-size:10pt;\\\"> by William Shakespeare</span>\\n        </div>\\n        \",\"\\n        <div style=\\\"margin-left: 1em; max-width: 300px; min-width: 300px;\\\">\\n            <div style=\\\"font-variant:normal; font-size: 10pt;\\\">\\u201cThe woman is a weak creature [...] She is the weaker vessel, of a frail heat, inconstant [...] The woman is the more frail part [...] The woman is a frail vessel.\\u201d</div>\\n            <br>\\n            from: <span style=\\\"font-variant:small-caps; font-size: 10pt;\\\">On the State of Matrimony (1571)</span><span style=\\\"font-size:10pt;\\\"> by John Jewel</span>\\n            <br><br>\\n            <div style=\\\"margin-left: 2em;\\\"><div style=\\\"font-variant:normal; font-size: 8pt;\\\">\\u201c<span style=\\\"font-weight:bold;\\\">The woman is a weak creature</span> [...] <span style=\\\"font-weight:bold;\\\">She is the weaker vessel, of a frail heat, inconstant</span> [...]. <span style=\\\"font-weight:bold;\\\">The woman is the more frail part</span> [...]. <span style=\\\"font-weight:bold;\\\">The woman is a frail vessel.</span>\\u201d</div></div>\\n        </div>\\n        \",\"\\n        <div style=\\\"margin-left: 1em; max-width: 300px; min-width: 300px;\\\">\\n            <div style=\\\"font-variant:normal; font-size: 10pt;\\\">\\u201cthat pleasing peace of frailty, that we call woman\\u201d</div>\\n            <br>\\n            from: <span style=\\\"font-variant:small-caps; font-size: 10pt;\\\">The Woman-Hater (1606)</span><span style=\\\"font-size:10pt;\\\"> by Francis Beaumont, John Fletcher</span>\\n            <br><br>\\n            <div style=\\\"margin-left: 2em;\\\"><div style=\\\"font-variant:normal; font-size: 8pt;\\\">\\u201c[Gondarino:] My Lord, I speak not this to gain new grace, But howsoever you esteem my words, My love and duty will not suffer me To see you favour such a prostitute, And I stand by dumb; without Rack, Torture, Or Strappado, I'll unrip myself, I do confess I was in company with <span style=\\\"font-weight:bold;\\\">that pleasing peace of frailty, that we call woman</span>; I do confess after along and tedious siege, I yielded.\\u201d</div></div>\\n        </div>\\n        \",\"\\n        <div style=\\\"margin-left: 1em; max-width: 300px; min-width: 300px;\\\">\\n            <div style=\\\"font-variant:normal; font-size: 10pt;\\\">\\u201cwoman's frailty\\u201d</div>\\n            <br>\\n            from: <span style=\\\"font-variant:small-caps; font-size: 10pt;\\\">Samson Agonistes (1671)</span><span style=\\\"font-size:10pt;\\\"> by John Milton</span>\\n            <br><br>\\n            <div style=\\\"margin-left: 2em;\\\"><div style=\\\"font-variant:normal; font-size: 8pt;\\\">\\u201c[Dalila:] \\\"[...] To what I did thou shewdst me first the way. But I to enemies revealed, and should not. Nor shouldst thou have trusted that to <span style=\\\"font-weight:bold;\\\">woman's frailty</span>: Ere I to thee, thou to thyself wast cruel. [...]\\\"\\u201d</div></div>\\n        </div>\\n        \",\"\\n        <div style=\\\"margin-left: 1em; max-width: 300px; min-width: 300px;\\\">\\n            <div style=\\\"font-variant:normal; font-size: 10pt;\\\">\\u201cOh Woman! Frailty is thy name\\u201d</div>\\n            <br>\\n            from: <span style=\\\"font-variant:small-caps; font-size: 10pt;\\\">Sonnet (1687)</span><span style=\\\"font-size:10pt;\\\"> by Charles Cotton</span>\\n            <br><br>\\n            <div style=\\\"margin-left: 2em;\\\"><div style=\\\"font-variant:normal; font-size: 8pt;\\\">\\u201cHow could you once so kind appear, To kiss, to sigh, and shed a tear, To cherish and caress me so, And now not let but bid me go? <span style=\\\"font-weight:bold;\\\">Oh Woman! Frailty is thy name</span>, Since she's untrue y'are all to blame, And but in man no truth is sound: 'Tis a fair Sex, we all must love it, But (on my conscience) could we prove it, They all are false even under ground.\\u201d</div></div>\\n        </div>\\n        \",\"\\n        <div style=\\\"margin-left: 1em; max-width: 300px; min-width: 300px;\\\">\\n            <div style=\\\"font-variant:normal; font-size: 10pt;\\\">\\u201chell itself should gape\\u201d</div>\\n            <br>\\n            from: <span style=\\\"font-variant:small-caps; font-size: 10pt;\\\">Hamlet (1623)</span><span style=\\\"font-size:10pt;\\\"> by William Shakespeare</span>\\n        </div>\\n        \",\"\\n        <div style=\\\"margin-left: 1em; max-width: 300px; min-width: 300px;\\\">\\n            <div style=\\\"font-variant:normal; font-size: 10pt;\\\">\\u201cgapeth hell and openeth her mouth marvellous wide,\\u201d</div>\\n            <br>\\n            from: <span style=\\\"font-variant:small-caps; font-size: 10pt;\\\">The Bishop's Bible (1568)</span><span style=\\\"font-size:10pt;\\\"> by Matthew Parker</span>\\n            <br><br>\\n            <div style=\\\"margin-left: 2em;\\\"><div style=\\\"font-variant:normal; font-size: 8pt;\\\">\\u201cTherefore <span style=\\\"font-weight:bold;\\\">gapeth hell and openeth her mouth marvellous wide,</span> that their glory, multitude, and wealth, with such as rejoice in her, may descend into it.\\u201d</div></div>\\n        </div>\\n        \",\"\\n        <div style=\\\"margin-left: 1em; max-width: 300px; min-width: 300px;\\\">\\n            <div style=\\\"font-variant:normal; font-size: 10pt;\\\">\\u201cUgly hell, gape not\\u201d</div>\\n            <br>\\n            from: <span style=\\\"font-variant:small-caps; font-size: 10pt;\\\">Doctor Faustus (1588)</span><span style=\\\"font-size:10pt;\\\"> by Christopher Marlowe</span>\\n            <br><br>\\n            <div style=\\\"margin-left: 2em;\\\"><div style=\\\"font-variant:normal; font-size: 8pt;\\\">\\u201c[Faustus:] [...] My God, my God, look not so fierce on me. Adders and serpents, let me breathe awhile. <span style=\\\"font-weight:bold;\\\">Ugly hell, gape not</span>, come not, Lucifer! I'll burn my books. Ah, Mephistophilis!\\u201d</div></div>\\n        </div>\\n        \",\"\\n        <div style=\\\"margin-left: 1em; max-width: 300px; min-width: 300px;\\\">\\n            <div style=\\\"font-variant:normal; font-size: 10pt;\\\">\\u201cthough hell should gape\\u201d</div>\\n            <br>\\n            from: <span style=\\\"font-variant:small-caps; font-size: 10pt;\\\">The Lovesick King (1619)</span><span style=\\\"font-size:10pt;\\\"> by Anthony Brewer</span>\\n            <br><br>\\n            <div style=\\\"margin-left: 2em;\\\"><div style=\\\"font-variant:normal; font-size: 8pt;\\\">\\u201c[Canutus:] Thou'st spoke enough to damn thee, Impudent Traitor, go die unpitied; Though thou hast my hate, thou shalt not have the honour of my sword to take away thy life, you of our Guard; See a base death performed upon this Slave. [Captain:] Farewell my Liege you once must have a grave. (Exit with Guard.) [Harold:] My Resolution's firm, and I will speak, <span style=\\\"font-weight:bold;\\\">though hell should gape</span> to swallow me alive; What's he that's gone to death my Sovereign? [Canutus:] Traytor (Harold) to my best content.\\u201d</div></div>\\n        </div>\\n        \",\"\\n        <div style=\\\"margin-left: 1em; max-width: 300px; min-width: 300px;\\\">\\n            <div style=\\\"font-variant:normal; font-size: 10pt;\\\">\\u201cThough Hell gape for Him?\\u201d</div>\\n            <br>\\n            from: <span style=\\\"font-variant:small-caps; font-size: 10pt;\\\">The Perfect-Cursed-Blessed Man (1628)</span><span style=\\\"font-size:10pt;\\\"> by Joseph Fletcher</span>\\n            <br><br>\\n            <div style=\\\"margin-left: 2em;\\\"><div style=\\\"font-variant:normal; font-size: 8pt;\\\">\\u201cThis Sin faln Man raise-up t'integrity, Or rase Me out from Heav'ns society. What though He sinned? alas He was but Earth! Though dead in Sin? thy Grace can give new birth! Though grieved with pains? O thou canst 'ford him ease! <span style=\\\"font-weight:bold;\\\">Though Hell gape for Him?</span> thou canst Hell appease! Thou mad'st Him Thee to bless eternally: But damned Souls curse everlastingly.\\u201d</div></div>\\n        </div>\\n        \",\"\\n        <div style=\\\"margin-left: 1em; max-width: 300px; min-width: 300px;\\\">\\n            <div style=\\\"font-variant:normal; font-size: 10pt;\\\">\\u201cThough death stood gaping wide to swallow me, I would not shrink nor fear.\\u201d</div>\\n            <br>\\n            from: <span style=\\\"font-variant:small-caps; font-size: 10pt;\\\">The Fatal Contract (1633)</span><span style=\\\"font-size:10pt;\\\"> by William Hemings</span>\\n            <br><br>\\n            <div style=\\\"margin-left: 2em;\\\"><div style=\\\"font-variant:normal; font-size: 8pt;\\\">\\u201c[Clovis:] What is it, Eunuch? [...] <span style=\\\"font-weight:bold;\\\">Though death stood gaping wide to swallow me, I would not shrink nor fear.</span>\\u201d</div></div>\\n        </div>\\n        \",\"\\n        <div style=\\\"margin-left: 1em; max-width: 300px; min-width: 300px;\\\">\\n            <div style=\\\"font-variant:normal; font-size: 10pt;\\\">\\u201cO all you host of heaven!\\u201d</div>\\n            <br>\\n            from: <span style=\\\"font-variant:small-caps; font-size: 10pt;\\\">Hamlet (1623)</span><span style=\\\"font-size:10pt;\\\"> by William Shakespeare</span>\\n        </div>\\n        \",\"\\n        <div style=\\\"margin-left: 1em; max-width: 300px; min-width: 300px;\\\">\\n            <div style=\\\"font-variant:normal; font-size: 10pt;\\\">\\u201cthe host of heaven,\\u201d</div>\\n            <br>\\n            from: <span style=\\\"font-variant:small-caps; font-size: 10pt;\\\">The Geneva Bible (1560)</span><span style=\\\"font-size:10pt;\\\"> by William Cole, Myles Coverdale, Anthony Gilby, Christopher Goodman, Thomas Sampson, William Whittingham</span>\\n            <br><br>\\n            <div style=\\\"margin-left: 2em;\\\"><div style=\\\"font-variant:normal; font-size: 8pt;\\\">\\u201cThen God turned himself away and gave them up to serve <span style=\\\"font-weight:bold;\\\">the host of heaven,</span> as it is written in the book of the Prophets [...].\\u201d</div></div>\\n        </div>\\n        \",\"\\n        <div style=\\\"margin-left: 1em; max-width: 300px; min-width: 300px;\\\">\\n            <div style=\\\"font-variant:normal; font-size: 10pt;\\\">\\u201cthe heaven of all heavens, with all their host, [...] the host of the heaven\\u201d</div>\\n            <br>\\n            from: <span style=\\\"font-variant:small-caps; font-size: 10pt;\\\">The Geneva Bible (1560)</span><span style=\\\"font-size:10pt;\\\"> by William Cole, Myles Coverdale, Anthony Gilby, Christopher Goodman, Thomas Sampson, William Whittingham</span>\\n            <br><br>\\n            <div style=\\\"margin-left: 2em;\\\"><div style=\\\"font-variant:normal; font-size: 8pt;\\\">\\u201cThou art Lord alone: thou hast made heaven, and <span style=\\\"font-weight:bold;\\\">the heaven of all heavens, with all their host,</span> the earth, and all things that are therein, the seas, and all that are in them, and thou preservest them all, and <span style=\\\"font-weight:bold;\\\">the host of the heaven</span> worshippeth thee.\\u201d</div></div>\\n        </div>\\n        \",\"\\n        <div style=\\\"margin-left: 1em; max-width: 300px; min-width: 300px;\\\">\\n            <div style=\\\"font-variant:normal; font-size: 10pt;\\\">\\u201call the host of heaven\\u201d</div>\\n            <br>\\n            from: <span style=\\\"font-variant:small-caps; font-size: 10pt;\\\">The Atheist's Tragedy (1610)</span><span style=\\\"font-size:10pt;\\\"> by Cyril Tourneur</span>\\n            <br><br>\\n            <div style=\\\"margin-left: 2em;\\\"><div style=\\\"font-variant:normal; font-size: 8pt;\\\">\\u201c[D'Amville:] Now <span style=\\\"font-weight:bold;\\\">all the host of heaven</span> forbid!\\u201d</div></div>\\n        </div>\\n        \"],\"index\":[\"ww_2abb408b24f75e6c\",\"ww_594e076e93ed4ccf\",\"ww_caf27ffdc954c844\",\"ww_66a52436edb537eb\",\"ww_a2a0ab6fbca2028d\",\"ww_90d74567307f904e\",\"ww_669475d1f67eb920\",\"ww_19b54f39c1d245a7\",\"ww_295a0d9237083fe7\",\"ww_971c475bea921406\",\"ww_4b9a43113334c0ad\",\"ww_13c9cec7f15c0056\",\"ww_01d64039ef29add5\",\"ww_22f51d85f231b2c7\",\"ww_6cc712b23bbafc5e\",\"ww_293034ae2a49b418\",\"ww_210bac9f048b8eea\",\"ww_4c352e527d12797b\",\"ww_f38739f4c2391f47\",\"ww_b0913df56f856f27\",\"ww_7ecb8d5ef454d329\",\"ww_8c5990fb7392c89b\",\"ww_d3843909dc6e861b\",\"ww_b7e69820855e7384\",\"ww_00ce5b9c822fbaca\",\"ww_3a359a22623b0162\",\"ww_d9ad6d0b3d1a5598\",\"ww_1bfaaa3ed70bb1ac\",\"ww_57c42500ce0c6170\",\"ww_663f0143320cc310\",\"ww_6821daa19a2840e1\",\"ww_2239f6f9bbcb7446\",\"ww_18fac1f2fb1ce41f\",\"ww_028ce75225433cb6\",\"ww_a987973d2abd4b57\",\"ww_880962580e78c61f\",\"ww_909a37b5a02277e8\",\"ww_b4cc414fb56c2490\",\"ww_6979462622390b73\",\"ww_32c26a7909c83bda\",\"ww_782a5cebdaa9d8ae\",\"ww_b5b8083a6a1282bc\",\"ww_a59a84adf088089f\",\"ww_9a6cb20b0b157545\",\"ww_d62468b11823d4c9\",\"ww_4d363cb4783e0b62\",\"ww_6f12e582a20c2675\",\"ww_7dc1f64b4c29a9d3\",\"ww_d2361763e8343194\",\"ww_870f29a7dd6f45d9\",\"ww_e01ecfd8de9acc61\",\"ww_a6f4b0e3428ad510\",\"ww_e2adb2be413fd5a5\",\"ww_08075d65c13e49ee\",\"ww_b71ba2ae83103344\",\"ww_0dbc3e90bbb46334\",\"ww_d67a1f9d4d50f936\",\"ww_b9f19b471626f83e\",\"ww_8e68a517bc3ecceb\",\"ww_ff8f000dd9cb7a3b\",\"ww_10ba3fba1c0c1529\",\"ww_3b6425a2159f1d62\",\"ww_8bdc1e03f5a6a253\",\"ww_379b8583a4d90080\",\"ww_d2d2a262485c5d23\",\"ww_f27c7abd24218962\",\"ww_07f94c5a14cdc619\",\"ww_235b7f298b54d631\",\"ww_c2f29658555093e7\",\"ww_585eaf1c6368e7af\",\"ww_6e3b338bf16ebf06\",\"ww_98df9ad5de049472\",\"ww_25e51ae4b6234004\",\"ww_eb109a2a9b99c1f5\",\"ww_ba8b881de92fd8a4\",\"ww_7286ff06f562c07b\",\"ww_1917adced358cb4a\",\"ww_89443854a5459695\",\"ww_b42fadea9f893c6e\",\"ww_c10bde4b8bca2ae6\",\"ww_57dcec5b9ff2c4b9\",\"ww_aaeb0dba8a5ac513\",\"ww_3bed848d2566166b\",\"ww_aef241d5b9263438\",\"ww_2560885c478fdfe0\",\"ww_5cbdd6611f35e334\",\"ww_ff2cef3775c5331c\",\"ww_58a0dec287a4170c\",\"ww_01bd7d0624c8a955\",\"ww_97b67e22685ce125\",\"ww_9e7a12cfee73da0b\",\"ww_415def570b10b5b9\",\"ww_215595adbf8efd41\",\"ww_5cdd4abfb59f6f0f\",\"ww_d705147c9b9aaf18\",\"ww_c9d35c25f4fc4189\",\"ww_7795f933b612f710\",\"ww_e2effa540e636cd5\",\"ww_0eaf5058b7a910c7\",\"ww_51946dd5d1d57d4a\",\"ww_21a4c5dc5b2f6ed6\",\"ww_994d23875f3f8ca7\",\"ww_f32f713a36985f62\",\"ww_7be6a3588e6b5de0\",\"ww_83e9ca4d103b86e1\",\"ww_beea1c07025a2ffb\",\"ww_95966dab4576ec42\",\"ww_3a6f583779747368\",\"ww_2b785e10c908c7ec\",\"ww_0747839b540f70c7\",\"ww_c2ae504efe318b6c\",\"ww_2e3d7768539ae2ab\",\"ww_a055872533d2ab57\",\"ww_84f20b8b2eb71001\",\"ww_eb3ebae9ea90daa0\",\"ww_6c565da6889f5269\",\"ww_ce579bce70dc8776\",\"ww_3101379204640286\",\"ww_c6bb592912665657\",\"ww_cd82c881f4f118d0\"],\"node_color\":[\"#d7191c\",\"#fdae61\",\"#fdae61\",\"#fdae61\",\"#fdae61\",\"#fdae61\",\"#fdae61\",\"#fdae61\",\"#fdae61\",\"#fdae61\",\"#d7191c\",\"#fdae61\",\"#fdae61\",\"#fdae61\",\"#fdae61\",\"#fdae61\",\"#d7191c\",\"#fdae61\",\"#fdae61\",\"#fdae61\",\"#fdae61\",\"#fdae61\",\"#d7191c\",\"#fdae61\",\"#fdae61\",\"#fdae61\",\"#fdae61\",\"#fdae61\",\"#d7191c\",\"#fdae61\",\"#fdae61\",\"#fdae61\",\"#fdae61\",\"#fdae61\",\"#d7191c\",\"#fdae61\",\"#fdae61\",\"#fdae61\",\"#d7191c\",\"#fdae61\",\"#fdae61\",\"#fdae61\",\"#fdae61\",\"#fdae61\",\"#fdae61\",\"#fdae61\",\"#fdae61\",\"#d7191c\",\"#fdae61\",\"#fdae61\",\"#fdae61\",\"#fdae61\",\"#fdae61\",\"#d7191c\",\"#fdae61\",\"#fdae61\",\"#fdae61\",\"#d7191c\",\"#fdae61\",\"#fdae61\",\"#fdae61\",\"#fdae61\",\"#fdae61\",\"#fdae61\",\"#fdae61\",\"#d7191c\",\"#fdae61\",\"#fdae61\",\"#fdae61\",\"#fdae61\",\"#fdae61\",\"#fdae61\",\"#fdae61\",\"#d7191c\",\"#fdae61\",\"#fdae61\",\"#fdae61\",\"#fdae61\",\"#fdae61\",\"#d7191c\",\"#fdae61\",\"#fdae61\",\"#fdae61\",\"#fdae61\",\"#fdae61\",\"#d7191c\",\"#fdae61\",\"#fdae61\",\"#fdae61\",\"#fdae61\",\"#d7191c\",\"#fdae61\",\"#fdae61\",\"#fdae61\",\"#d7191c\",\"#fdae61\",\"#fdae61\",\"#d7191c\",\"#fdae61\",\"#fdae61\",\"#fdae61\",\"#fdae61\",\"#fdae61\",\"#fdae61\",\"#fdae61\",\"#d7191c\",\"#fdae61\",\"#fdae61\",\"#fdae61\",\"#fdae61\",\"#d7191c\",\"#fdae61\",\"#fdae61\",\"#fdae61\",\"#fdae61\",\"#fdae61\",\"#d7191c\",\"#fdae61\",\"#fdae61\",\"#fdae61\"],\"node_size\":[15,10,10,10,10,10,10,10,10,10,15,10,10,10,10,10,15,10,10,10,10,10,15,10,10,10,10,10,15,10,10,10,10,10,15,10,10,10,15,10,10,10,10,10,10,10,10,15,10,10,10,10,10,15,10,10,10,15,10,10,10,10,10,10,10,15,10,10,10,10,10,10,10,15,10,10,10,10,10,15,10,10,10,10,10,15,10,10,10,10,15,10,10,10,15,10,10,15,10,10,10,10,10,10,10,15,10,10,10,10,15,10,10,10,10,10,15,10,10,10],\"subset\":[0,0,0,0,0,0,0,0,0,0,1,1,1,1,1,1,2,2,2,2,2,2,3,3,3,3,3,3,4,4,4,4,4,4,5,5,5,5,6,6,6,6,6,6,6,6,6,7,7,7,7,7,7,8,8,8,8,9,9,9,9,9,9,9,9,10,10,10,10,10,10,10,10,11,11,11,11,11,11,12,12,12,12,12,12,13,13,13,13,13,14,14,14,14,15,15,15,16,16,16,16,16,16,16,16,17,17,17,17,17,18,18,18,18,18,18,19,19,19,19]},\"selected\":{\"id\":\"1647\"},\"selection_policy\":{\"id\":\"1646\"}},\"id\":\"1013\",\"type\":\"ColumnDataSource\"},{\"attributes\":{\"line_alpha\":{\"value\":0},\"line_width\":{\"value\":0}},\"id\":\"1026\",\"type\":\"MultiLine\"},{\"attributes\":{\"source\":{\"id\":\"1013\"}},\"id\":\"1015\",\"type\":\"CDSView\"},{\"attributes\":{\"source\":{\"id\":\"1017\"}},\"id\":\"1019\",\"type\":\"CDSView\"},{\"attributes\":{\"coordinates\":null,\"data_source\":{\"id\":\"1017\"},\"glyph\":{\"id\":\"1026\"},\"group\":null,\"hover_glyph\":null,\"view\":{\"id\":\"1019\"}},\"id\":\"1018\",\"type\":\"GlyphRenderer\"},{\"attributes\":{\"size\":{\"value\":5}},\"id\":\"1031\",\"type\":\"NormalHead\"},{\"attributes\":{\"size\":{\"value\":5}},\"id\":\"1070\",\"type\":\"NormalHead\"},{\"attributes\":{\"coordinates\":null,\"end\":{\"id\":\"1052\"},\"group\":null,\"line_width\":{\"value\":1.5},\"source\":{\"id\":\"1353\"},\"start\":null,\"x_end\":{\"value\":860.2761140694568},\"x_start\":{\"value\":895.111847907391},\"y_end\":{\"value\":807.0661462328685},\"y_start\":{\"value\":842.5651383561755}},\"id\":\"1053\",\"type\":\"Arrow\"},{\"attributes\":{\"size\":{\"value\":5}},\"id\":\"1043\",\"type\":\"NormalHead\"},{\"attributes\":{\"size\":{\"value\":5}},\"id\":\"1058\",\"type\":\"NormalHead\"},{\"attributes\":{\"coordinates\":null,\"end\":{\"id\":\"1043\"},\"group\":null,\"line_width\":{\"value\":1.5},\"source\":{\"id\":\"1350\"},\"start\":null,\"x_end\":{\"value\":890.2130375346451},\"x_start\":{\"value\":903.6759499538065},\"y_end\":{\"value\":923.6764001548235},\"y_start\":{\"value\":876.0847997935687}},\"id\":\"1044\",\"type\":\"Arrow\"},{\"attributes\":{\"coordinates\":null,\"end\":{\"id\":\"1055\"},\"group\":null,\"line_width\":{\"value\":1.5},\"source\":{\"id\":\"1354\"},\"start\":null,\"x_end\":{\"value\":949.8978625282713},\"x_start\":{\"value\":920.7895166289717},\"y_end\":{\"value\":800.081957546961},\"y_start\":{\"value\":840.5973899373853}},\"id\":\"1056\",\"type\":\"Arrow\"},{\"attributes\":{\"size\":{\"value\":5}},\"id\":\"1040\",\"type\":\"NormalHead\"},{\"attributes\":{\"coordinates\":null,\"end\":{\"id\":\"1061\"},\"group\":null,\"line_width\":{\"value\":1.5},\"source\":{\"id\":\"1356\"},\"start\":null,\"x_end\":{\"value\":749.1537085329817},\"x_start\":{\"value\":774.0517219560245},\"y_end\":{\"value\":1219.6354127892128},\"y_start\":{\"value\":1258.5527829477164}},\"id\":\"1062\",\"type\":\"Arrow\"},{\"attributes\":{\"coordinates\":null,\"end\":{\"id\":\"1037\"},\"group\":null,\"line_width\":{\"value\":1.5},\"source\":{\"id\":\"1348\"},\"start\":null,\"x_end\":{\"value\":851.1704749779614},\"x_start\":{\"value\":892.6393666960514},\"y_end\":{\"value\":896.6818438282654},\"y_start\":{\"value\":868.1708748956461}},\"id\":\"1038\",\"type\":\"Arrow\"},{\"attributes\":{\"coordinates\":null,\"end\":{\"id\":\"1040\"},\"group\":null,\"line_width\":{\"value\":1.5},\"source\":{\"id\":\"1349\"},\"start\":null,\"x_end\":{\"value\":937.7427529393572},\"x_start\":{\"value\":917.2629960808572},\"y_end\":{\"value\":921.0495790816387},\"y_start\":{\"value\":875.1072278911483}},\"id\":\"1041\",\"type\":\"Arrow\"},{\"attributes\":{\"size\":{\"value\":5}},\"id\":\"1067\",\"type\":\"NormalHead\"},{\"attributes\":{\"size\":{\"value\":5}},\"id\":\"1046\",\"type\":\"NormalHead\"},{\"attributes\":{\"size\":{\"value\":5}},\"id\":\"1073\",\"type\":\"NormalHead\"},{\"attributes\":{\"size\":{\"value\":5}},\"id\":\"1064\",\"type\":\"NormalHead\"},{\"attributes\":{\"coordinates\":null,\"end\":{\"id\":\"1070\"},\"group\":null,\"line_width\":{\"value\":1.5},\"source\":{\"id\":\"1359\"},\"start\":null,\"x_end\":{\"value\":781.7067265993003},\"x_start\":{\"value\":783.8876978675997},\"y_end\":{\"value\":1341.6166579991698},\"y_start\":{\"value\":1295.3777893344404}},\"id\":\"1071\",\"type\":\"Arrow\"},{\"attributes\":{\"coordinates\":null,\"end\":{\"id\":\"1046\"},\"group\":null,\"line_width\":{\"value\":1.5},\"source\":{\"id\":\"1351\"},\"start\":null,\"x_end\":{\"value\":839.3676031818992},\"x_start\":{\"value\":889.2165290908011},\"y_end\":{\"value\":849.9619589816823},\"y_start\":{\"value\":854.8773880244236}},\"id\":\"1047\",\"type\":\"Arrow\"},{\"attributes\":{\"size\":{\"value\":5}},\"id\":\"1055\",\"type\":\"NormalHead\"},{\"attributes\":{\"size\":{\"value\":5}},\"id\":\"1076\",\"type\":\"NormalHead\"},{\"attributes\":{\"coordinates\":null,\"end\":{\"id\":\"1064\"},\"group\":null,\"line_width\":{\"value\":1.5},\"source\":{\"id\":\"1357\"},\"start\":null,\"x_end\":{\"value\":720.9645228891891},\"x_start\":{\"value\":765.530636147748},\"y_end\":{\"value\":1292.76449658489},\"y_start\":{\"value\":1280.6473378868136}},\"id\":\"1065\",\"type\":\"Arrow\"},{\"attributes\":{\"coordinates\":null,\"end\":{\"id\":\"1073\"},\"group\":null,\"line_width\":{\"value\":1.5},\"source\":{\"id\":\"1360\"},\"start\":null,\"x_end\":{\"value\":884.4661359078399},\"x_start\":{\"value\":854.94515212288},\"y_end\":{\"value\":267.3773428261591},\"y_start\":{\"value\":302.9835428984545}},\"id\":\"1074\",\"type\":\"Arrow\"},{\"attributes\":{\"size\":{\"value\":5}},\"id\":\"1052\",\"type\":\"NormalHead\"},{\"attributes\":{\"size\":{\"value\":5}},\"id\":\"1034\",\"type\":\"NormalHead\"},{\"attributes\":{\"coordinates\":null,\"end\":{\"id\":\"1067\"},\"group\":null,\"line_width\":{\"value\":1.5},\"source\":{\"id\":\"1358\"},\"start\":null,\"x_end\":{\"value\":846.635329396421},\"x_start\":{\"value\":803.4762274714388},\"y_end\":{\"value\":1299.3751508675916},\"y_start\":{\"value\":1282.6331321765444}},\"id\":\"1068\",\"type\":\"Arrow\"},{\"attributes\":{\"coordinates\":null,\"end\":{\"id\":\"1034\"},\"group\":null,\"line_width\":{\"value\":1.5},\"source\":{\"id\":\"1347\"},\"start\":null,\"x_end\":{\"value\":903.6421473279687},\"x_start\":{\"value\":907.5571368960417},\"y_end\":{\"value\":786.9541322262957},\"y_start\":{\"value\":836.9011570316057}},\"id\":\"1035\",\"type\":\"Arrow\"},{\"attributes\":{},\"id\":\"1446\",\"type\":\"UnionRenderers\"},{\"attributes\":{\"size\":{\"value\":5}},\"id\":\"1049\",\"type\":\"NormalHead\"},{\"attributes\":{\"size\":{\"value\":5}},\"id\":\"1037\",\"type\":\"NormalHead\"},{\"attributes\":{},\"id\":\"1447\",\"type\":\"Selection\"},{\"attributes\":{\"coordinates\":null,\"end\":{\"id\":\"1049\"},\"group\":null,\"line_width\":{\"value\":1.5},\"source\":{\"id\":\"1352\"},\"start\":null,\"x_end\":{\"value\":976.9477818980791},\"x_start\":{\"value\":928.5096241358946},\"y_end\":{\"value\":839.6874845582495},\"y_start\":{\"value\":851.9366872556674}},\"id\":\"1050\",\"type\":\"Arrow\"},{\"attributes\":{\"size\":{\"value\":5}},\"id\":\"1061\",\"type\":\"NormalHead\"},{\"attributes\":{\"coordinates\":null,\"end\":{\"id\":\"1058\"},\"group\":null,\"line_width\":{\"value\":1.5},\"source\":{\"id\":\"1355\"},\"start\":null,\"x_end\":{\"value\":827.120669855494},\"x_start\":{\"value\":797.5891068593414},\"y_end\":{\"value\":1224.3511004058248},\"y_start\":{\"value\":1259.9985327922336}},\"id\":\"1059\",\"type\":\"Arrow\"},{\"attributes\":{},\"id\":\"1468\",\"type\":\"UnionRenderers\"},{\"attributes\":{},\"id\":\"1469\",\"type\":\"Selection\"},{\"attributes\":{},\"id\":\"1510\",\"type\":\"UnionRenderers\"},{\"attributes\":{},\"id\":\"1511\",\"type\":\"Selection\"},{\"attributes\":{},\"id\":\"1470\",\"type\":\"UnionRenderers\"},{\"attributes\":{},\"id\":\"1512\",\"type\":\"UnionRenderers\"},{\"attributes\":{},\"id\":\"1471\",\"type\":\"Selection\"},{\"attributes\":{},\"id\":\"1513\",\"type\":\"Selection\"},{\"attributes\":{},\"id\":\"1472\",\"type\":\"UnionRenderers\"},{\"attributes\":{},\"id\":\"1514\",\"type\":\"UnionRenderers\"},{\"attributes\":{},\"id\":\"1473\",\"type\":\"Selection\"},{\"attributes\":{},\"id\":\"1515\",\"type\":\"Selection\"},{\"attributes\":{},\"id\":\"1474\",\"type\":\"UnionRenderers\"},{\"attributes\":{},\"id\":\"1516\",\"type\":\"UnionRenderers\"},{\"attributes\":{},\"id\":\"1475\",\"type\":\"Selection\"},{\"attributes\":{},\"id\":\"1517\",\"type\":\"Selection\"},{\"attributes\":{},\"id\":\"1476\",\"type\":\"UnionRenderers\"},{\"attributes\":{},\"id\":\"1518\",\"type\":\"UnionRenderers\"},{\"attributes\":{},\"id\":\"1477\",\"type\":\"Selection\"},{\"attributes\":{},\"id\":\"1519\",\"type\":\"Selection\"},{\"attributes\":{},\"id\":\"1478\",\"type\":\"UnionRenderers\"},{\"attributes\":{},\"id\":\"1520\",\"type\":\"UnionRenderers\"},{\"attributes\":{},\"id\":\"1479\",\"type\":\"Selection\"},{\"attributes\":{},\"id\":\"1521\",\"type\":\"Selection\"},{\"attributes\":{},\"id\":\"1480\",\"type\":\"UnionRenderers\"},{\"attributes\":{},\"id\":\"1522\",\"type\":\"UnionRenderers\"},{\"attributes\":{},\"id\":\"1481\",\"type\":\"Selection\"},{\"attributes\":{},\"id\":\"1523\",\"type\":\"Selection\"},{\"attributes\":{},\"id\":\"1482\",\"type\":\"UnionRenderers\"},{\"attributes\":{},\"id\":\"1524\",\"type\":\"UnionRenderers\"},{\"attributes\":{},\"id\":\"1483\",\"type\":\"Selection\"},{\"attributes\":{},\"id\":\"1525\",\"type\":\"Selection\"},{\"attributes\":{},\"id\":\"1484\",\"type\":\"UnionRenderers\"},{\"attributes\":{},\"id\":\"1526\",\"type\":\"UnionRenderers\"},{\"attributes\":{},\"id\":\"1485\",\"type\":\"Selection\"},{\"attributes\":{},\"id\":\"1527\",\"type\":\"Selection\"},{\"attributes\":{},\"id\":\"1486\",\"type\":\"UnionRenderers\"},{\"attributes\":{},\"id\":\"1528\",\"type\":\"UnionRenderers\"},{\"attributes\":{},\"id\":\"1487\",\"type\":\"Selection\"},{\"attributes\":{},\"id\":\"1529\",\"type\":\"Selection\"},{\"attributes\":{},\"id\":\"1488\",\"type\":\"UnionRenderers\"},{\"attributes\":{},\"id\":\"1530\",\"type\":\"UnionRenderers\"},{\"attributes\":{},\"id\":\"1489\",\"type\":\"Selection\"},{\"attributes\":{},\"id\":\"1531\",\"type\":\"Selection\"},{\"attributes\":{},\"id\":\"1594\",\"type\":\"UnionRenderers\"},{\"attributes\":{},\"id\":\"1595\",\"type\":\"Selection\"},{\"attributes\":{},\"id\":\"1596\",\"type\":\"UnionRenderers\"},{\"attributes\":{},\"id\":\"1597\",\"type\":\"Selection\"},{\"attributes\":{},\"id\":\"1598\",\"type\":\"UnionRenderers\"},{\"attributes\":{},\"id\":\"1599\",\"type\":\"Selection\"},{\"attributes\":{},\"id\":\"1600\",\"type\":\"UnionRenderers\"},{\"attributes\":{},\"id\":\"1601\",\"type\":\"Selection\"},{\"attributes\":{},\"id\":\"1602\",\"type\":\"UnionRenderers\"},{\"attributes\":{},\"id\":\"1603\",\"type\":\"Selection\"},{\"attributes\":{},\"id\":\"1604\",\"type\":\"UnionRenderers\"},{\"attributes\":{},\"id\":\"1605\",\"type\":\"Selection\"},{\"attributes\":{},\"id\":\"1606\",\"type\":\"UnionRenderers\"},{\"attributes\":{},\"id\":\"1607\",\"type\":\"Selection\"},{\"attributes\":{},\"id\":\"1608\",\"type\":\"UnionRenderers\"},{\"attributes\":{},\"id\":\"1609\",\"type\":\"Selection\"},{\"attributes\":{},\"id\":\"1610\",\"type\":\"UnionRenderers\"},{\"attributes\":{},\"id\":\"1611\",\"type\":\"Selection\"},{\"attributes\":{},\"id\":\"1612\",\"type\":\"UnionRenderers\"},{\"attributes\":{},\"id\":\"1613\",\"type\":\"Selection\"},{\"attributes\":{},\"id\":\"1614\",\"type\":\"UnionRenderers\"},{\"attributes\":{},\"id\":\"1615\",\"type\":\"Selection\"},{\"attributes\":{\"coordinates\":null,\"end\":{\"id\":\"1076\"},\"group\":null,\"line_width\":{\"value\":1.5},\"source\":{\"id\":\"1361\"},\"start\":null,\"x_end\":{\"value\":806.5053859944701},\"x_start\":{\"value\":831.3994853407064},\"y_end\":{\"value\":262.6343394493114},\"y_start\":{\"value\":301.5342140675848}},\"id\":\"1077\",\"type\":\"Arrow\"},{\"attributes\":{\"coordinates\":null,\"end\":{\"id\":\"1079\"},\"group\":null,\"line_width\":{\"value\":1.5},\"source\":{\"id\":\"1362\"},\"start\":null,\"x_end\":{\"value\":778.3126503710638},\"x_start\":{\"value\":822.8831328385816},\"y_end\":{\"value\":335.7776160464833},\"y_start\":{\"value\":323.63651193802235}},\"id\":\"1080\",\"type\":\"Arrow\"},{\"attributes\":{\"data\":{},\"selected\":{\"id\":\"1503\"},\"selection_policy\":{\"id\":\"1502\"}},\"id\":\"1374\",\"type\":\"ColumnDataSource\"},{\"attributes\":{\"size\":{\"value\":5}},\"id\":\"1079\",\"type\":\"NormalHead\"},{\"attributes\":{\"data\":{},\"selected\":{\"id\":\"1595\"},\"selection_policy\":{\"id\":\"1594\"}},\"id\":\"1420\",\"type\":\"ColumnDataSource\"},{\"attributes\":{\"coordinates\":null,\"end\":{\"id\":\"1082\"},\"group\":null,\"line_width\":{\"value\":1.5},\"source\":{\"id\":\"1363\"},\"start\":null,\"x_end\":{\"value\":903.9890646309926},\"x_start\":{\"value\":860.8212471586766},\"y_end\":{\"value\":342.4055316536356},\"y_start\":{\"value\":325.62595779515254}},\"id\":\"1083\",\"type\":\"Arrow\"},{\"attributes\":{\"data\":{},\"selected\":{\"id\":\"1493\"},\"selection_policy\":{\"id\":\"1492\"}},\"id\":\"1369\",\"type\":\"ColumnDataSource\"},{\"attributes\":{},\"id\":\"1574\",\"type\":\"UnionRenderers\"},{\"attributes\":{\"size\":{\"value\":5}},\"id\":\"1085\",\"type\":\"NormalHead\"},{\"attributes\":{\"size\":{\"value\":5}},\"id\":\"1082\",\"type\":\"NormalHead\"},{\"attributes\":{\"size\":{\"value\":5}},\"id\":\"1088\",\"type\":\"NormalHead\"},{\"attributes\":{},\"id\":\"1575\",\"type\":\"Selection\"},{\"attributes\":{\"coordinates\":null,\"end\":{\"id\":\"1085\"},\"group\":null,\"line_width\":{\"value\":1.5},\"source\":{\"id\":\"1364\"},\"start\":null,\"x_end\":{\"value\":839.0569003261309},\"x_start\":{\"value\":841.2374662318255},\"y_end\":{\"value\":384.5766661944374},\"y_start\":{\"value\":338.35777840741684}},\"id\":\"1086\",\"type\":\"Arrow\"},{\"attributes\":{\"data\":{},\"selected\":{\"id\":\"1597\"},\"selection_policy\":{\"id\":\"1596\"}},\"id\":\"1421\",\"type\":\"ColumnDataSource\"},{\"attributes\":{\"size\":{\"value\":5}},\"id\":\"1091\",\"type\":\"NormalHead\"},{\"attributes\":{\"data\":{},\"selected\":{\"id\":\"1495\"},\"selection_policy\":{\"id\":\"1494\"}},\"id\":\"1370\",\"type\":\"ColumnDataSource\"},{\"attributes\":{\"coordinates\":null,\"end\":{\"id\":\"1088\"},\"group\":null,\"line_width\":{\"value\":1.5},\"source\":{\"id\":\"1365\"},\"start\":null,\"x_end\":{\"value\":278.71613590783994},\"x_start\":{\"value\":249.19515212288007},\"y_end\":{\"value\":122.37734282615911},\"y_start\":{\"value\":157.98354289845452}},\"id\":\"1089\",\"type\":\"Arrow\"},{\"attributes\":{\"size\":{\"value\":5}},\"id\":\"1094\",\"type\":\"NormalHead\"},{\"attributes\":{\"coordinates\":null,\"end\":{\"id\":\"1091\"},\"group\":null,\"line_width\":{\"value\":1.5},\"source\":{\"id\":\"1366\"},\"start\":null,\"x_end\":{\"value\":200.75538599447012},\"x_start\":{\"value\":225.64948534070652},\"y_end\":{\"value\":117.6343394493114},\"y_start\":{\"value\":156.5342140675848}},\"id\":\"1092\",\"type\":\"Arrow\"},{\"attributes\":{},\"id\":\"1576\",\"type\":\"UnionRenderers\"},{\"attributes\":{\"size\":{\"value\":5}},\"id\":\"1097\",\"type\":\"NormalHead\"},{\"attributes\":{\"data\":{},\"selected\":{\"id\":\"1599\"},\"selection_policy\":{\"id\":\"1598\"}},\"id\":\"1422\",\"type\":\"ColumnDataSource\"},{\"attributes\":{\"coordinates\":null,\"end\":{\"id\":\"1094\"},\"group\":null,\"line_width\":{\"value\":1.5},\"source\":{\"id\":\"1367\"},\"start\":null,\"x_end\":{\"value\":172.56265037106382},\"x_start\":{\"value\":217.1331328385816},\"y_end\":{\"value\":190.77761604648325},\"y_start\":{\"value\":178.63651193802232}},\"id\":\"1095\",\"type\":\"Arrow\"},{\"attributes\":{\"data\":{},\"selected\":{\"id\":\"1497\"},\"selection_policy\":{\"id\":\"1496\"}},\"id\":\"1371\",\"type\":\"ColumnDataSource\"},{\"attributes\":{\"size\":{\"value\":5}},\"id\":\"1100\",\"type\":\"NormalHead\"},{\"attributes\":{},\"id\":\"1577\",\"type\":\"Selection\"},{\"attributes\":{\"coordinates\":null,\"end\":{\"id\":\"1097\"},\"group\":null,\"line_width\":{\"value\":1.5},\"source\":{\"id\":\"1368\"},\"start\":null,\"x_end\":{\"value\":298.2390646309926},\"x_start\":{\"value\":255.07124715867658},\"y_end\":{\"value\":197.4055316536356},\"y_start\":{\"value\":180.62595779515254}},\"id\":\"1098\",\"type\":\"Arrow\"},{\"attributes\":{\"size\":{\"value\":5}},\"id\":\"1103\",\"type\":\"NormalHead\"},{\"attributes\":{\"coordinates\":null,\"end\":{\"id\":\"1100\"},\"group\":null,\"line_width\":{\"value\":1.5},\"source\":{\"id\":\"1369\"},\"start\":null,\"x_end\":{\"value\":233.3069003261309},\"x_start\":{\"value\":235.4874662318255},\"y_end\":{\"value\":239.57666619443737},\"y_start\":{\"value\":193.35777840741684}},\"id\":\"1101\",\"type\":\"Arrow\"},{\"attributes\":{\"data\":{},\"selected\":{\"id\":\"1601\"},\"selection_policy\":{\"id\":\"1600\"}},\"id\":\"1423\",\"type\":\"ColumnDataSource\"},{\"attributes\":{\"size\":{\"value\":5}},\"id\":\"1106\",\"type\":\"NormalHead\"},{\"attributes\":{\"data\":{},\"selected\":{\"id\":\"1499\"},\"selection_policy\":{\"id\":\"1498\"}},\"id\":\"1372\",\"type\":\"ColumnDataSource\"},{\"attributes\":{\"coordinates\":null,\"end\":{\"id\":\"1103\"},\"group\":null,\"line_width\":{\"value\":1.5},\"source\":{\"id\":\"1370\"},\"start\":null,\"x_end\":{\"value\":508.11613590784},\"x_start\":{\"value\":478.59515212288005},\"y_end\":{\"value\":354.37734282615907},\"y_start\":{\"value\":389.9835428984545}},\"id\":\"1104\",\"type\":\"Arrow\"},{\"attributes\":{},\"id\":\"1578\",\"type\":\"UnionRenderers\"},{\"attributes\":{\"size\":{\"value\":5}},\"id\":\"1109\",\"type\":\"NormalHead\"},{\"attributes\":{\"coordinates\":null,\"end\":{\"id\":\"1106\"},\"group\":null,\"line_width\":{\"value\":1.5},\"source\":{\"id\":\"1371\"},\"start\":null,\"x_end\":{\"value\":430.1553859944701},\"x_start\":{\"value\":455.0494853407065},\"y_end\":{\"value\":349.6343394493114},\"y_start\":{\"value\":388.5342140675848}},\"id\":\"1107\",\"type\":\"Arrow\"},{\"attributes\":{\"size\":{\"value\":5}},\"id\":\"1112\",\"type\":\"NormalHead\"},{\"attributes\":{\"data\":{},\"selected\":{\"id\":\"1603\"},\"selection_policy\":{\"id\":\"1602\"}},\"id\":\"1424\",\"type\":\"ColumnDataSource\"},{\"attributes\":{},\"id\":\"1579\",\"type\":\"Selection\"},{\"attributes\":{\"coordinates\":null,\"end\":{\"id\":\"1109\"},\"group\":null,\"line_width\":{\"value\":1.5},\"source\":{\"id\":\"1372\"},\"start\":null,\"x_end\":{\"value\":401.96265037106383},\"x_start\":{\"value\":446.53313283858154},\"y_end\":{\"value\":422.7776160464833},\"y_start\":{\"value\":410.63651193802235}},\"id\":\"1110\",\"type\":\"Arrow\"},{\"attributes\":{\"size\":{\"value\":5}},\"id\":\"1115\",\"type\":\"NormalHead\"},{\"attributes\":{\"coordinates\":null,\"end\":{\"id\":\"1112\"},\"group\":null,\"line_width\":{\"value\":1.5},\"source\":{\"id\":\"1373\"},\"start\":null,\"x_end\":{\"value\":527.6390646309926},\"x_start\":{\"value\":484.4712471586766},\"y_end\":{\"value\":429.40553165363553},\"y_start\":{\"value\":412.62595779515254}},\"id\":\"1113\",\"type\":\"Arrow\"},{\"attributes\":{\"size\":{\"value\":5}},\"id\":\"1118\",\"type\":\"NormalHead\"},{\"attributes\":{\"coordinates\":null,\"end\":{\"id\":\"1115\"},\"group\":null,\"line_width\":{\"value\":1.5},\"source\":{\"id\":\"1374\"},\"start\":null,\"x_end\":{\"value\":462.7069003261309},\"x_start\":{\"value\":464.8874662318255},\"y_end\":{\"value\":471.5766661944374},\"y_start\":{\"value\":425.35777840741684}},\"id\":\"1116\",\"type\":\"Arrow\"},{\"attributes\":{\"data\":{},\"selected\":{\"id\":\"1605\"},\"selection_policy\":{\"id\":\"1604\"}},\"id\":\"1425\",\"type\":\"ColumnDataSource\"},{\"attributes\":{},\"id\":\"1580\",\"type\":\"UnionRenderers\"},{\"attributes\":{\"size\":{\"value\":5}},\"id\":\"1121\",\"type\":\"NormalHead\"},{\"attributes\":{\"coordinates\":null,\"end\":{\"id\":\"1118\"},\"group\":null,\"line_width\":{\"value\":1.5},\"source\":{\"id\":\"1375\"},\"start\":null,\"x_end\":{\"value\":207.0781474977121},\"x_start\":{\"value\":165.78247000305055},\"y_end\":{\"value\":1114.1950730162494},\"y_start\":{\"value\":1107.7732359783342}},\"id\":\"1119\",\"type\":\"Arrow\"},{\"attributes\":{\"data\":{},\"selected\":{\"id\":\"1505\"},\"selection_policy\":{\"id\":\"1504\"}},\"id\":\"1375\",\"type\":\"ColumnDataSource\"},{\"attributes\":{\"size\":{\"value\":5}},\"id\":\"1124\",\"type\":\"NormalHead\"},{\"attributes\":{},\"id\":\"1581\",\"type\":\"Selection\"},{\"attributes\":{\"coordinates\":null,\"end\":{\"id\":\"1121\"},\"group\":null,\"line_width\":{\"value\":1.5},\"source\":{\"id\":\"1376\"},\"start\":null,\"x_end\":{\"value\":123.99943795416942},\"x_start\":{\"value\":138.88741606110744},\"y_end\":{\"value\":1047.0136902197278},\"y_start\":{\"value\":1086.0150797070298}},\"id\":\"1122\",\"type\":\"Arrow\"},{\"attributes\":{\"size\":{\"value\":5}},\"id\":\"1127\",\"type\":\"NormalHead\"},{\"attributes\":{\"data\":{},\"selected\":{\"id\":\"1607\"},\"selection_policy\":{\"id\":\"1606\"}},\"id\":\"1426\",\"type\":\"ColumnDataSource\"},{\"attributes\":{\"coordinates\":null,\"end\":{\"id\":\"1124\"},\"group\":null,\"line_width\":{\"value\":1.5},\"source\":{\"id\":\"1377\"},\"start\":null,\"x_end\":{\"value\":107.49700122238394},\"x_start\":{\"value\":133.54533170348807},\"y_end\":{\"value\":1152.9754428174558},\"y_start\":{\"value\":1120.332742910059}},\"id\":\"1125\",\"type\":\"Arrow\"},{\"attributes\":{\"data\":{},\"selected\":{\"id\":\"1507\"},\"selection_policy\":{\"id\":\"1506\"}},\"id\":\"1376\",\"type\":\"ColumnDataSource\"},{\"attributes\":{\"size\":{\"value\":5}},\"id\":\"1130\",\"type\":\"NormalHead\"},{\"attributes\":{\"coordinates\":null,\"end\":{\"id\":\"1127\"},\"group\":null,\"line_width\":{\"value\":1.5},\"source\":{\"id\":\"1378\"},\"start\":null,\"x_end\":{\"value\":683.3859341812113},\"x_start\":{\"value\":635.6687544250517},\"y_end\":{\"value\":667.7948104982571},\"y_start\":{\"value\":655.2102526689905}},\"id\":\"1128\",\"type\":\"Arrow\"},{\"attributes\":{},\"id\":\"1582\",\"type\":\"UnionRenderers\"},{\"attributes\":{\"size\":{\"value\":5}},\"id\":\"1133\",\"type\":\"NormalHead\"},{\"attributes\":{\"coordinates\":null,\"end\":{\"id\":\"1130\"},\"group\":null,\"line_width\":{\"value\":1.5},\"source\":{\"id\":\"1379\"},\"start\":null,\"x_end\":{\"value\":582.3478091717003},\"x_start\":{\"value\":606.546254437733},\"y_end\":{\"value\":589.5226815508026},\"y_start\":{\"value\":632.6664245989299}},\"id\":\"1131\",\"type\":\"Arrow\"},{\"attributes\":{\"data\":{},\"selected\":{\"id\":\"1609\"},\"selection_policy\":{\"id\":\"1608\"}},\"id\":\"1427\",\"type\":\"ColumnDataSource\"},{\"attributes\":{\"size\":{\"value\":5}},\"id\":\"1136\",\"type\":\"NormalHead\"},{\"attributes\":{},\"id\":\"1583\",\"type\":\"Selection\"},{\"attributes\":{\"coordinates\":null,\"end\":{\"id\":\"1133\"},\"group\":null,\"line_width\":{\"value\":1.5},\"source\":{\"id\":\"1380\"},\"start\":null,\"x_end\":{\"value\":556.2743251918725},\"x_start\":{\"value\":598.99089974417},\"y_end\":{\"value\":684.6342039685376},\"y_start\":{\"value\":660.07772804195}},\"id\":\"1134\",\"type\":\"Arrow\"},{\"attributes\":{\"data\":{},\"selected\":{\"id\":\"1509\"},\"selection_policy\":{\"id\":\"1508\"}},\"id\":\"1377\",\"type\":\"ColumnDataSource\"},{\"attributes\":{\"size\":{\"value\":5}},\"id\":\"1139\",\"type\":\"NormalHead\"},{\"attributes\":{\"coordinates\":null,\"end\":{\"id\":\"1136\"},\"group\":null,\"line_width\":{\"value\":1.5},\"source\":{\"id\":\"1381\"},\"start\":null,\"x_end\":{\"value\":651.3447999967377},\"x_start\":{\"value\":626.4302666710163},\"y_end\":{\"value\":709.9533268786697},\"y_start\":{\"value\":667.3722308284404}},\"id\":\"1137\",\"type\":\"Arrow\"},{\"attributes\":{\"size\":{\"value\":5}},\"id\":\"1142\",\"type\":\"NormalHead\"},{\"attributes\":{\"data\":{},\"selected\":{\"id\":\"1611\"},\"selection_policy\":{\"id\":\"1610\"}},\"id\":\"1428\",\"type\":\"ColumnDataSource\"},{\"attributes\":{\"coordinates\":null,\"end\":{\"id\":\"1139\"},\"group\":null,\"line_width\":{\"value\":1.5},\"source\":{\"id\":\"1382\"},\"start\":null,\"x_end\":{\"value\":598.6258920289425},\"x_start\":{\"value\":611.2154772947433},\"y_end\":{\"value\":717.0387610066485},\"y_start\":{\"value\":669.4449853244686}},\"id\":\"1140\",\"type\":\"Arrow\"},{\"attributes\":{},\"id\":\"1584\",\"type\":\"UnionRenderers\"},{\"attributes\":{\"data\":{},\"selected\":{\"id\":\"1511\"},\"selection_policy\":{\"id\":\"1510\"}},\"id\":\"1378\",\"type\":\"ColumnDataSource\"},{\"attributes\":{\"size\":{\"value\":5}},\"id\":\"1145\",\"type\":\"NormalHead\"},{\"attributes\":{\"coordinates\":null,\"end\":{\"id\":\"1142\"},\"group\":null,\"line_width\":{\"value\":1.5},\"source\":{\"id\":\"1383\"},\"start\":null,\"x_end\":{\"value\":549.5471959889127},\"x_start\":{\"value\":597.0537386814499},\"y_end\":{\"value\":631.6386853012169},\"y_start\":{\"value\":644.7784195983774}},\"id\":\"1143\",\"type\":\"Arrow\"},{\"attributes\":{\"size\":{\"value\":5}},\"id\":\"1148\",\"type\":\"NormalHead\"},{\"attributes\":{},\"id\":\"1585\",\"type\":\"Selection\"},{\"attributes\":{\"coordinates\":null,\"end\":{\"id\":\"1145\"},\"group\":null,\"line_width\":{\"value\":1.5},\"source\":{\"id\":\"1384\"},\"start\":null,\"x_end\":{\"value\":676.5704362405851},\"x_start\":{\"value\":633.6494183458865},\"y_end\":{\"value\":615.3214154224452},\"y_start\":{\"value\":640.1081127700733}},\"id\":\"1146\",\"type\":\"Arrow\"},{\"attributes\":{\"data\":{},\"selected\":{\"id\":\"1613\"},\"selection_policy\":{\"id\":\"1612\"}},\"id\":\"1429\",\"type\":\"ColumnDataSource\"},{\"attributes\":{\"size\":{\"value\":5}},\"id\":\"1151\",\"type\":\"NormalHead\"},{\"attributes\":{\"coordinates\":null,\"end\":{\"id\":\"1148\"},\"group\":null,\"line_width\":{\"value\":1.5},\"source\":{\"id\":\"1385\"},\"start\":null,\"x_end\":{\"value\":634.6535231080422},\"x_start\":{\"value\":621.631969189277},\"y_end\":{\"value\":583.4633202110624},\"y_start\":{\"value\":630.8255730519168}},\"id\":\"1149\",\"type\":\"Arrow\"},{\"attributes\":{\"data\":{},\"selected\":{\"id\":\"1513\"},\"selection_policy\":{\"id\":\"1512\"}},\"id\":\"1379\",\"type\":\"ColumnDataSource\"},{\"attributes\":{\"size\":{\"value\":5}},\"id\":\"1154\",\"type\":\"NormalHead\"},{\"attributes\":{\"coordinates\":null,\"end\":{\"id\":\"1151\"},\"group\":null,\"line_width\":{\"value\":1.5},\"source\":{\"id\":\"1386\"},\"start\":null,\"x_end\":{\"value\":1289.8217617781515},\"x_start\":{\"value\":1260.270984295798},\"y_end\":{\"value\":267.3737148511873},\"y_start\":{\"value\":302.98838019841696}},\"id\":\"1152\",\"type\":\"Arrow\"},{\"attributes\":{},\"id\":\"1586\",\"type\":\"UnionRenderers\"},{\"attributes\":{\"size\":{\"value\":5}},\"id\":\"1157\",\"type\":\"NormalHead\"},{\"attributes\":{\"data\":{},\"selected\":{\"id\":\"1615\"},\"selection_policy\":{\"id\":\"1614\"}},\"id\":\"1430\",\"type\":\"ColumnDataSource\"},{\"attributes\":{\"coordinates\":null,\"end\":{\"id\":\"1154\"},\"group\":null,\"line_width\":{\"value\":1.5},\"source\":{\"id\":\"1387\"},\"start\":null,\"x_end\":{\"value\":1211.8775163202645},\"x_start\":{\"value\":1236.7299782396474},\"y_end\":{\"value\":262.63937221921486},\"y_start\":{\"value\":301.52750370771355}},\"id\":\"1155\",\"type\":\"Arrow\"},{\"attributes\":{\"data\":{},\"selected\":{\"id\":\"1515\"},\"selection_policy\":{\"id\":\"1514\"}},\"id\":\"1380\",\"type\":\"ColumnDataSource\"},{\"attributes\":{},\"id\":\"1587\",\"type\":\"Selection\"},{\"attributes\":{\"coordinates\":null,\"end\":{\"id\":\"1157\"},\"group\":null,\"line_width\":{\"value\":1.5},\"source\":{\"id\":\"1388\"},\"start\":null,\"x_end\":{\"value\":1183.672139549124},\"x_start\":{\"value\":1228.203813934501},\"y_end\":{\"value\":335.7757412774163},\"y_start\":{\"value\":323.63901163011167}},\"id\":\"1158\",\"type\":\"Arrow\"},{\"attributes\":{\"coordinates\":null,\"end\":{\"id\":\"1163\"},\"group\":null,\"line_width\":{\"value\":1.5},\"source\":{\"id\":\"1390\"},\"start\":null,\"x_end\":{\"value\":1244.4013754014989},\"x_start\":{\"value\":1246.5648327980016},\"y_end\":{\"value\":384.57640655429503},\"y_start\":{\"value\":338.35812459427325}},\"id\":\"1164\",\"type\":\"Arrow\"},{\"attributes\":{\"coordinates\":null,\"end\":{\"id\":\"1160\"},\"group\":null,\"line_width\":{\"value\":1.5},\"source\":{\"id\":\"1389\"},\"start\":null,\"x_end\":{\"value\":1309.3188225385327},\"x_start\":{\"value\":1266.141569948623},\"y_end\":{\"value\":342.40615451167776},\"y_start\":{\"value\":325.625127317763}},\"id\":\"1161\",\"type\":\"Arrow\"},{\"attributes\":{\"data\":{},\"selected\":{\"id\":\"1617\"},\"selection_policy\":{\"id\":\"1616\"}},\"id\":\"1431\",\"type\":\"ColumnDataSource\"},{\"attributes\":{\"size\":{\"value\":5}},\"id\":\"1166\",\"type\":\"NormalHead\"},{\"attributes\":{\"data\":{},\"selected\":{\"id\":\"1517\"},\"selection_policy\":{\"id\":\"1516\"}},\"id\":\"1381\",\"type\":\"ColumnDataSource\"},{\"attributes\":{\"size\":{\"value\":5}},\"id\":\"1160\",\"type\":\"NormalHead\"},{\"attributes\":{},\"id\":\"1588\",\"type\":\"UnionRenderers\"},{\"attributes\":{\"size\":{\"value\":5}},\"id\":\"1163\",\"type\":\"NormalHead\"},{\"attributes\":{\"size\":{\"value\":5}},\"id\":\"1169\",\"type\":\"NormalHead\"},{\"attributes\":{\"coordinates\":null,\"end\":{\"id\":\"1166\"},\"group\":null,\"line_width\":{\"value\":1.5},\"source\":{\"id\":\"1391\"},\"start\":null,\"x_end\":{\"value\":1453.4780552895506},\"x_start\":{\"value\":1412.162592947266},\"y_end\":{\"value\":1375.1956660397457},\"y_start\":{\"value\":1368.772445280339}},\"id\":\"1167\",\"type\":\"Arrow\"},{\"attributes\":{\"data\":{},\"selected\":{\"id\":\"1619\"},\"selection_policy\":{\"id\":\"1618\"}},\"id\":\"1432\",\"type\":\"ColumnDataSource\"},{\"attributes\":{},\"id\":\"1589\",\"type\":\"Selection\"},{\"attributes\":{\"size\":{\"value\":5}},\"id\":\"1172\",\"type\":\"NormalHead\"},{\"attributes\":{\"coordinates\":null,\"end\":{\"id\":\"1169\"},\"group\":null,\"line_width\":{\"value\":1.5},\"source\":{\"id\":\"1392\"},\"start\":null,\"x_end\":{\"value\":1370.354554610922},\"x_start\":{\"value\":1385.2605938521044},\"y_end\":{\"value\":1308.0117359709159},\"y_start\":{\"value\":1347.0176853721123}},\"id\":\"1170\",\"type\":\"Arrow\"},{\"attributes\":{\"data\":{},\"selected\":{\"id\":\"1519\"},\"selection_policy\":{\"id\":\"1518\"}},\"id\":\"1382\",\"type\":\"ColumnDataSource\"},{\"attributes\":{\"size\":{\"value\":5}},\"id\":\"1175\",\"type\":\"NormalHead\"},{\"attributes\":{\"coordinates\":null,\"end\":{\"id\":\"1172\"},\"group\":null,\"line_width\":{\"value\":1.5},\"source\":{\"id\":\"1393\"},\"start\":null,\"x_end\":{\"value\":1353.8585076993324},\"x_start\":{\"value\":1379.9219897342234},\"y_end\":{\"value\":1413.977443382882},\"y_start\":{\"value\":1381.3300754894906}},\"id\":\"1173\",\"type\":\"Arrow\"},{\"attributes\":{\"size\":{\"value\":5}},\"id\":\"1178\",\"type\":\"NormalHead\"},{\"attributes\":{\"data\":{},\"selected\":{\"id\":\"1621\"},\"selection_policy\":{\"id\":\"1620\"}},\"id\":\"1433\",\"type\":\"ColumnDataSource\"},{\"attributes\":{},\"id\":\"1590\",\"type\":\"UnionRenderers\"},{\"attributes\":{\"coordinates\":null,\"end\":{\"id\":\"1175\"},\"group\":null,\"line_width\":{\"value\":1.5},\"source\":{\"id\":\"1394\"},\"start\":null,\"x_end\":{\"value\":621.5703862162511},\"x_start\":{\"value\":572.9594850449987},\"y_end\":{\"value\":1027.9923601450753},\"y_start\":{\"value\":1027.6435198065662}},\"id\":\"1176\",\"type\":\"Arrow\"},{\"attributes\":{\"data\":{},\"selected\":{\"id\":\"1521\"},\"selection_policy\":{\"id\":\"1520\"}},\"id\":\"1383\",\"type\":\"ColumnDataSource\"},{\"attributes\":{\"size\":{\"value\":5}},\"id\":\"1181\",\"type\":\"NormalHead\"},{\"attributes\":{\"coordinates\":null,\"end\":{\"id\":\"1178\"},\"group\":null,\"line_width\":{\"value\":1.5},\"source\":{\"id\":\"1395\"},\"start\":null,\"x_end\":{\"value\":538.2612121516435},\"x_start\":{\"value\":548.6650504644754},\"y_end\":{\"value\":960.6500441048519},\"y_start\":{\"value\":1007.9666078601975}},\"id\":\"1179\",\"type\":\"Arrow\"},{\"attributes\":{},\"id\":\"1591\",\"type\":\"Selection\"},{\"attributes\":{\"size\":{\"value\":5}},\"id\":\"1184\",\"type\":\"NormalHead\"},{\"attributes\":{\"coordinates\":null,\"end\":{\"id\":\"1181\"},\"group\":null,\"line_width\":{\"value\":1.5},\"source\":{\"id\":\"1396\"},\"start\":null,\"x_end\":{\"value\":491.4771003171673},\"x_start\":{\"value\":535.0171995771103},\"y_end\":{\"value\":1057.7738056885046},\"y_start\":{\"value\":1036.3349257486607}},\"id\":\"1182\",\"type\":\"Arrow\"},{\"attributes\":{\"data\":{},\"selected\":{\"id\":\"1623\"},\"selection_policy\":{\"id\":\"1622\"}},\"id\":\"1434\",\"type\":\"ColumnDataSource\"},{\"attributes\":{\"size\":{\"value\":5}},\"id\":\"1187\",\"type\":\"NormalHead\"},{\"attributes\":{\"coordinates\":null,\"end\":{\"id\":\"1184\"},\"group\":null,\"line_width\":{\"value\":1.5},\"source\":{\"id\":\"1397\"},\"start\":null,\"x_end\":{\"value\":595.7939511900364},\"x_start\":{\"value\":565.4480650799514},\"y_end\":{\"value\":1081.0834676764248},\"y_start\":{\"value\":1043.1220430981002}},\"id\":\"1185\",\"type\":\"Arrow\"},{\"attributes\":{\"data\":{},\"selected\":{\"id\":\"1523\"},\"selection_policy\":{\"id\":\"1522\"}},\"id\":\"1384\",\"type\":\"ColumnDataSource\"},{\"attributes\":{\"size\":{\"value\":5}},\"id\":\"1190\",\"type\":\"NormalHead\"},{\"attributes\":{},\"id\":\"1592\",\"type\":\"UnionRenderers\"},{\"attributes\":{\"coordinates\":null,\"end\":{\"id\":\"1187\"},\"group\":null,\"line_width\":{\"value\":1.5},\"source\":{\"id\":\"1398\"},\"start\":null,\"x_end\":{\"value\":538.216008884114},\"x_start\":{\"value\":548.6586548211815},\"y_end\":{\"value\":1094.451011411035},\"y_start\":{\"value\":1047.0319847852863}},\"id\":\"1188\",\"type\":\"Arrow\"},{\"attributes\":{\"size\":{\"value\":5}},\"id\":\"1199\",\"type\":\"NormalHead\"},{\"attributes\":{\"data\":{},\"selected\":{\"id\":\"1625\"},\"selection_policy\":{\"id\":\"1624\"}},\"id\":\"1435\",\"type\":\"ColumnDataSource\"},{\"attributes\":{\"coordinates\":null,\"end\":{\"id\":\"1190\"},\"group\":null,\"line_width\":{\"value\":1.5},\"source\":{\"id\":\"1399\"},\"start\":null,\"x_end\":{\"value\":491.2583274587971},\"x_start\":{\"value\":534.9355633882706},\"y_end\":{\"value\":997.8303709676243},\"y_start\":{\"value\":1018.8328387098344}},\"id\":\"1191\",\"type\":\"Arrow\"},{\"attributes\":{},\"id\":\"1593\",\"type\":\"Selection\"},{\"attributes\":{\"coordinates\":null,\"end\":{\"id\":\"1193\"},\"group\":null,\"line_width\":{\"value\":1.5},\"source\":{\"id\":\"1400\"},\"start\":null,\"x_end\":{\"value\":596.2850345489921},\"x_start\":{\"value\":565.6066206013438},\"y_end\":{\"value\":974.4204746199622},\"y_start\":{\"value\":1012.0060338400502}},\"id\":\"1194\",\"type\":\"Arrow\"},{\"attributes\":{\"data\":{},\"selected\":{\"id\":\"1525\"},\"selection_policy\":{\"id\":\"1524\"}},\"id\":\"1385\",\"type\":\"ColumnDataSource\"},{\"attributes\":{\"coordinates\":null,\"end\":{\"id\":\"1199\"},\"group\":null,\"line_width\":{\"value\":1.5},\"source\":{\"id\":\"1402\"},\"start\":null,\"x_end\":{\"value\":1000.3087439382315},\"x_start\":{\"value\":1010.7083414156914},\"y_end\":{\"value\":496.6505865909901},\"y_start\":{\"value\":543.9858845453466}},\"id\":\"1200\",\"type\":\"Arrow\"},{\"attributes\":{\"size\":{\"value\":5}},\"id\":\"1196\",\"type\":\"NormalHead\"},{\"attributes\":{\"data\":{},\"selected\":{\"id\":\"1627\"},\"selection_policy\":{\"id\":\"1626\"}},\"id\":\"1436\",\"type\":\"ColumnDataSource\"},{\"attributes\":{\"size\":{\"value\":5}},\"id\":\"1193\",\"type\":\"NormalHead\"},{\"attributes\":{\"coordinates\":null,\"end\":{\"id\":\"1196\"},\"group\":null,\"line_width\":{\"value\":1.5},\"source\":{\"id\":\"1401\"},\"start\":null,\"x_end\":{\"value\":1083.6004124907108},\"x_start\":{\"value\":1034.9994500123853},\"y_end\":{\"value\":564.0287590400029},\"y_start\":{\"value\":563.6683212799961}},\"id\":\"1197\",\"type\":\"Arrow\"},{\"attributes\":{\"size\":{\"value\":5}},\"id\":\"1208\",\"type\":\"NormalHead\"},{\"attributes\":{\"size\":{\"value\":5}},\"id\":\"1202\",\"type\":\"NormalHead\"},{\"attributes\":{},\"id\":\"1636\",\"type\":\"UnionRenderers\"},{\"attributes\":{\"size\":{\"value\":5}},\"id\":\"1205\",\"type\":\"NormalHead\"},{\"attributes\":{},\"id\":\"1448\",\"type\":\"UnionRenderers\"},{\"attributes\":{},\"id\":\"1637\",\"type\":\"Selection\"},{\"attributes\":{\"coordinates\":null,\"end\":{\"id\":\"1202\"},\"group\":null,\"line_width\":{\"value\":1.5},\"source\":{\"id\":\"1403\"},\"start\":null,\"x_end\":{\"value\":953.5303078028315},\"x_start\":{\"value\":997.0529229295579},\"y_end\":{\"value\":593.7503237350281},\"y_start\":{\"value\":572.3462350199625}},\"id\":\"1203\",\"type\":\"Arrow\"},{\"attributes\":{},\"id\":\"1490\",\"type\":\"UnionRenderers\"},{\"attributes\":{\"coordinates\":null,\"end\":{\"id\":\"1205\"},\"group\":null,\"line_width\":{\"value\":1.5},\"source\":{\"id\":\"1404\"},\"start\":null,\"x_end\":{\"value\":1057.8348262368627},\"x_start\":{\"value\":1027.48689835085},\"y_end\":{\"value\":617.1127682285345},\"y_start\":{\"value\":579.1429756952874}},\"id\":\"1206\",\"type\":\"Arrow\"},{\"attributes\":{\"size\":{\"value\":5}},\"id\":\"1211\",\"type\":\"NormalHead\"},{\"attributes\":{},\"id\":\"1449\",\"type\":\"Selection\"},{\"attributes\":{\"coordinates\":null,\"end\":{\"id\":\"1208\"},\"group\":null,\"line_width\":{\"value\":1.5},\"source\":{\"id\":\"1405\"},\"start\":null,\"x_end\":{\"value\":1000.2639198004722},\"x_start\":{\"value\":1010.701440266037},\"y_end\":{\"value\":630.4805515079877},\"y_start\":{\"value\":583.0525979893498}},\"id\":\"1209\",\"type\":\"Arrow\"},{\"attributes\":{},\"id\":\"1491\",\"type\":\"Selection\"},{\"attributes\":{\"size\":{\"value\":5}},\"id\":\"1214\",\"type\":\"NormalHead\"},{\"attributes\":{},\"id\":\"1638\",\"type\":\"UnionRenderers\"},{\"attributes\":{\"coordinates\":null,\"end\":{\"id\":\"1211\"},\"group\":null,\"line_width\":{\"value\":1.5},\"source\":{\"id\":\"1406\"},\"start\":null,\"x_end\":{\"value\":953.306585681864},\"x_start\":{\"value\":996.9778857575145},\"y_end\":{\"value\":533.8339919668483},\"y_start\":{\"value\":554.848010710869}},\"id\":\"1212\",\"type\":\"Arrow\"},{\"attributes\":{\"size\":{\"value\":5}},\"id\":\"1217\",\"type\":\"NormalHead\"},{\"attributes\":{\"coordinates\":null,\"end\":{\"id\":\"1214\"},\"group\":null,\"line_width\":{\"value\":1.5},\"source\":{\"id\":\"1407\"},\"start\":null,\"x_end\":{\"value\":1058.3178720873623},\"x_start\":{\"value\":1027.6428372168502},\"y_end\":{\"value\":510.4227901232181},\"y_start\":{\"value\":548.0229465023758}},\"id\":\"1215\",\"type\":\"Arrow\"},{\"attributes\":{},\"id\":\"1450\",\"type\":\"UnionRenderers\"},{\"attributes\":{},\"id\":\"1639\",\"type\":\"Selection\"},{\"attributes\":{\"size\":{\"value\":5}},\"id\":\"1220\",\"type\":\"NormalHead\"},{\"attributes\":{},\"id\":\"1492\",\"type\":\"UnionRenderers\"},{\"attributes\":{\"coordinates\":null,\"end\":{\"id\":\"1217\"},\"group\":null,\"line_width\":{\"value\":1.5},\"source\":{\"id\":\"1408\"},\"start\":null,\"x_end\":{\"value\":422.420669855494},\"x_start\":{\"value\":392.8891068593414},\"y_end\":{\"value\":1224.3511004058248},\"y_start\":{\"value\":1259.9985327922336}},\"id\":\"1218\",\"type\":\"Arrow\"},{\"attributes\":{\"size\":{\"value\":5}},\"id\":\"1223\",\"type\":\"NormalHead\"},{\"attributes\":{},\"id\":\"1451\",\"type\":\"Selection\"},{\"attributes\":{\"coordinates\":null,\"end\":{\"id\":\"1220\"},\"group\":null,\"line_width\":{\"value\":1.5},\"source\":{\"id\":\"1409\"},\"start\":null,\"x_end\":{\"value\":344.4537085329817},\"x_start\":{\"value\":369.35172195602445},\"y_end\":{\"value\":1219.6354127892128},\"y_start\":{\"value\":1258.5527829477164}},\"id\":\"1221\",\"type\":\"Arrow\"},{\"attributes\":{},\"id\":\"1493\",\"type\":\"Selection\"},{\"attributes\":{\"size\":{\"value\":5}},\"id\":\"1226\",\"type\":\"NormalHead\"},{\"attributes\":{},\"id\":\"1640\",\"type\":\"UnionRenderers\"},{\"attributes\":{\"coordinates\":null,\"end\":{\"id\":\"1223\"},\"group\":null,\"line_width\":{\"value\":1.5},\"source\":{\"id\":\"1410\"},\"start\":null,\"x_end\":{\"value\":316.26452288918904},\"x_start\":{\"value\":360.83063614774795},\"y_end\":{\"value\":1292.76449658489},\"y_start\":{\"value\":1280.6473378868136}},\"id\":\"1224\",\"type\":\"Arrow\"},{\"attributes\":{\"size\":{\"value\":5}},\"id\":\"1229\",\"type\":\"NormalHead\"},{\"attributes\":{\"coordinates\":null,\"end\":{\"id\":\"1226\"},\"group\":null,\"line_width\":{\"value\":1.5},\"source\":{\"id\":\"1411\"},\"start\":null,\"x_end\":{\"value\":441.9353293964209},\"x_start\":{\"value\":398.7762274714388},\"y_end\":{\"value\":1299.3751508675916},\"y_start\":{\"value\":1282.6331321765444}},\"id\":\"1227\",\"type\":\"Arrow\"},{\"attributes\":{},\"id\":\"1452\",\"type\":\"UnionRenderers\"},{\"attributes\":{},\"id\":\"1641\",\"type\":\"Selection\"},{\"attributes\":{\"size\":{\"value\":5}},\"id\":\"1232\",\"type\":\"NormalHead\"},{\"attributes\":{},\"id\":\"1494\",\"type\":\"UnionRenderers\"},{\"attributes\":{\"coordinates\":null,\"end\":{\"id\":\"1229\"},\"group\":null,\"line_width\":{\"value\":1.5},\"source\":{\"id\":\"1412\"},\"start\":null,\"x_end\":{\"value\":377.00672659930024},\"x_start\":{\"value\":379.1876978675997},\"y_end\":{\"value\":1341.6166579991698},\"y_start\":{\"value\":1295.3777893344404}},\"id\":\"1230\",\"type\":\"Arrow\"},{\"attributes\":{\"size\":{\"value\":5}},\"id\":\"1235\",\"type\":\"NormalHead\"},{\"attributes\":{},\"id\":\"1453\",\"type\":\"Selection\"},{\"attributes\":{\"coordinates\":null,\"end\":{\"id\":\"1232\"},\"group\":null,\"line_width\":{\"value\":1.5},\"source\":{\"id\":\"1413\"},\"start\":null,\"x_end\":{\"value\":337.3661359078399},\"x_start\":{\"value\":307.84515212288005},\"y_end\":{\"value\":789.3773428261592},\"y_start\":{\"value\":824.9835428984545}},\"id\":\"1233\",\"type\":\"Arrow\"},{\"attributes\":{},\"id\":\"1495\",\"type\":\"Selection\"},{\"attributes\":{\"size\":{\"value\":5}},\"id\":\"1238\",\"type\":\"NormalHead\"},{\"attributes\":{},\"id\":\"1642\",\"type\":\"UnionRenderers\"},{\"attributes\":{\"coordinates\":null,\"end\":{\"id\":\"1235\"},\"group\":null,\"line_width\":{\"value\":1.5},\"source\":{\"id\":\"1414\"},\"start\":null,\"x_end\":{\"value\":259.4053859944701},\"x_start\":{\"value\":284.2994853407065},\"y_end\":{\"value\":784.6343394493114},\"y_start\":{\"value\":823.5342140675848}},\"id\":\"1236\",\"type\":\"Arrow\"},{\"attributes\":{\"size\":{\"value\":5}},\"id\":\"1241\",\"type\":\"NormalHead\"},{\"attributes\":{\"coordinates\":null,\"end\":{\"id\":\"1238\"},\"group\":null,\"line_width\":{\"value\":1.5},\"source\":{\"id\":\"1415\"},\"start\":null,\"x_end\":{\"value\":231.21265037106383},\"x_start\":{\"value\":275.78313283858154},\"y_end\":{\"value\":857.7776160464833},\"y_start\":{\"value\":845.6365119380223}},\"id\":\"1239\",\"type\":\"Arrow\"},{\"attributes\":{},\"id\":\"1454\",\"type\":\"UnionRenderers\"},{\"attributes\":{},\"id\":\"1643\",\"type\":\"Selection\"},{\"attributes\":{\"size\":{\"value\":5}},\"id\":\"1244\",\"type\":\"NormalHead\"},{\"attributes\":{},\"id\":\"1496\",\"type\":\"UnionRenderers\"},{\"attributes\":{\"coordinates\":null,\"end\":{\"id\":\"1241\"},\"group\":null,\"line_width\":{\"value\":1.5},\"source\":{\"id\":\"1416\"},\"start\":null,\"x_end\":{\"value\":356.88906463099255},\"x_start\":{\"value\":313.7212471586766},\"y_end\":{\"value\":864.4055316536356},\"y_start\":{\"value\":847.6259577951525}},\"id\":\"1242\",\"type\":\"Arrow\"},{\"attributes\":{\"size\":{\"value\":5}},\"id\":\"1247\",\"type\":\"NormalHead\"},{\"attributes\":{},\"id\":\"1455\",\"type\":\"Selection\"},{\"attributes\":{\"coordinates\":null,\"end\":{\"id\":\"1244\"},\"group\":null,\"line_width\":{\"value\":1.5},\"source\":{\"id\":\"1417\"},\"start\":null,\"x_end\":{\"value\":291.9569003261309},\"x_start\":{\"value\":294.1374662318255},\"y_end\":{\"value\":906.5766661944373},\"y_start\":{\"value\":860.3577784074168}},\"id\":\"1245\",\"type\":\"Arrow\"},{\"attributes\":{},\"id\":\"1497\",\"type\":\"Selection\"},{\"attributes\":{\"size\":{\"value\":5}},\"id\":\"1250\",\"type\":\"NormalHead\"},{\"attributes\":{},\"id\":\"1644\",\"type\":\"UnionRenderers\"},{\"attributes\":{\"coordinates\":null,\"end\":{\"id\":\"1247\"},\"group\":null,\"line_width\":{\"value\":1.5},\"source\":{\"id\":\"1418\"},\"start\":null,\"x_end\":{\"value\":278.4139973964468},\"x_start\":{\"value\":241.09133680473764},\"y_end\":{\"value\":571.5804251398656},\"y_start\":{\"value\":595.7794331468457}},\"id\":\"1248\",\"type\":\"Arrow\"},{\"attributes\":{\"size\":{\"value\":5}},\"id\":\"1253\",\"type\":\"NormalHead\"},{\"attributes\":{\"coordinates\":null,\"end\":{\"id\":\"1250\"},\"group\":null,\"line_width\":{\"value\":1.5},\"source\":{\"id\":\"1419\"},\"start\":null,\"x_end\":{\"value\":189.30237151671918},\"x_start\":{\"value\":213.4401713110411},\"y_end\":{\"value\":552.5912206975092},\"y_start\":{\"value\":589.8717057366542}},\"id\":\"1251\",\"type\":\"Arrow\"},{\"attributes\":{},\"id\":\"1456\",\"type\":\"UnionRenderers\"},{\"attributes\":{},\"id\":\"1645\",\"type\":\"Selection\"},{\"attributes\":{\"size\":{\"value\":5}},\"id\":\"1256\",\"type\":\"NormalHead\"},{\"attributes\":{},\"id\":\"1498\",\"type\":\"UnionRenderers\"},{\"attributes\":{\"coordinates\":null,\"end\":{\"id\":\"1253\"},\"group\":null,\"line_width\":{\"value\":1.5},\"source\":{\"id\":\"1420\"},\"start\":null,\"x_end\":{\"value\":170.5965539348351},\"x_start\":{\"value\":207.63459475355322},\"y_end\":{\"value\":642.2283269398592},\"y_start\":{\"value\":617.7022307468543}},\"id\":\"1254\",\"type\":\"Arrow\"},{\"attributes\":{},\"id\":\"1646\",\"type\":\"UnionRenderers\"},{\"attributes\":{\"size\":{\"value\":5}},\"id\":\"1259\",\"type\":\"NormalHead\"},{\"attributes\":{},\"id\":\"1457\",\"type\":\"Selection\"},{\"attributes\":{\"coordinates\":null,\"end\":{\"id\":\"1256\"},\"group\":null,\"line_width\":{\"value\":1.5},\"source\":{\"id\":\"1421\"},\"start\":null,\"x_end\":{\"value\":259.87745871934766},\"x_start\":{\"value\":235.34005504086977},\"y_end\":{\"value\":660.4574039160572},\"y_start\":{\"value\":623.3434614452572}},\"id\":\"1257\",\"type\":\"Arrow\"},{\"attributes\":{},\"id\":\"1499\",\"type\":\"Selection\"},{\"attributes\":{\"size\":{\"value\":5}},\"id\":\"1262\",\"type\":\"NormalHead\"},{\"attributes\":{},\"id\":\"1647\",\"type\":\"Selection\"},{\"attributes\":{\"coordinates\":null,\"end\":{\"id\":\"1259\"},\"group\":null,\"line_width\":{\"value\":1.5},\"source\":{\"id\":\"1422\"},\"start\":null,\"x_end\":{\"value\":1450.177462883707},\"x_start\":{\"value\":1408.863382821724},\"y_end\":{\"value\":563.1894797466413},\"y_start\":{\"value\":556.7773603378117}},\"id\":\"1260\",\"type\":\"Arrow\"},{\"attributes\":{\"size\":{\"value\":5}},\"id\":\"1265\",\"type\":\"NormalHead\"},{\"attributes\":{\"coordinates\":null,\"end\":{\"id\":\"1262\"},\"group\":null,\"line_width\":{\"value\":1.5},\"source\":{\"id\":\"1423\"},\"start\":null,\"x_end\":{\"value\":1367.0539030476768},\"x_start\":{\"value\":1381.9614626030977},\"y_end\":{\"value\":496.0119849470401},\"y_start\":{\"value\":535.0273534039466}},\"id\":\"1263\",\"type\":\"Arrow\"},{\"attributes\":{},\"id\":\"1458\",\"type\":\"UnionRenderers\"},{\"attributes\":{\"size\":{\"value\":5}},\"id\":\"1268\",\"type\":\"NormalHead\"},{\"attributes\":{},\"id\":\"1500\",\"type\":\"UnionRenderers\"},{\"attributes\":{\"coordinates\":null,\"end\":{\"id\":\"1265\"},\"group\":null,\"line_width\":{\"value\":1.5},\"source\":{\"id\":\"1424\"},\"start\":null,\"x_end\":{\"value\":1350.5594603806103},\"x_start\":{\"value\":1376.6207194925196},\"y_end\":{\"value\":601.9782040034905},\"y_start\":{\"value\":569.3390613286795}},\"id\":\"1266\",\"type\":\"Arrow\"},{\"attributes\":{\"size\":{\"value\":5}},\"id\":\"1271\",\"type\":\"NormalHead\"},{\"attributes\":{},\"id\":\"1459\",\"type\":\"Selection\"},{\"attributes\":{\"coordinates\":null,\"end\":{\"id\":\"1268\"},\"group\":null,\"line_width\":{\"value\":1.5},\"source\":{\"id\":\"1425\"},\"start\":null,\"x_end\":{\"value\":1374.8894809212757},\"x_start\":{\"value\":1352.2473587716324},\"y_end\":{\"value\":160.71369007971853},\"y_start\":{\"value\":131.09841322704193}},\"id\":\"1269\",\"type\":\"Arrow\"},{\"attributes\":{},\"id\":\"1501\",\"type\":\"Selection\"},{\"attributes\":{},\"id\":\"1648\",\"type\":\"UnionRenderers\"},{\"attributes\":{\"size\":{\"value\":5}},\"id\":\"1274\",\"type\":\"NormalHead\"},{\"attributes\":{\"coordinates\":null,\"end\":{\"id\":\"1271\"},\"group\":null,\"line_width\":{\"value\":1.5},\"source\":{\"id\":\"1426\"},\"start\":null,\"x_end\":{\"value\":1321.0786273572842},\"x_start\":{\"value\":1333.4618301902876},\"y_end\":{\"value\":61.14967383501477},\"y_start\":{\"value\":96.3437682199803}},\"id\":\"1272\",\"type\":\"Arrow\"},{\"attributes\":{\"size\":{\"value\":5}},\"id\":\"1277\",\"type\":\"NormalHead\"},{\"attributes\":{\"coordinates\":null,\"end\":{\"id\":\"1274\"},\"group\":null,\"line_width\":{\"value\":1.5},\"source\":{\"id\":\"1427\"},\"start\":null,\"x_end\":{\"value\":1229.3003863086492},\"x_start\":{\"value\":1180.699484921801},\"y_end\":{\"value\":1114.9923472701578},\"y_start\":{\"value\":1114.643536973123}},\"id\":\"1275\",\"type\":\"Arrow\"},{\"attributes\":{},\"id\":\"1460\",\"type\":\"UnionRenderers\"},{\"attributes\":{\"size\":{\"value\":5}},\"id\":\"1280\",\"type\":\"NormalHead\"},{\"attributes\":{},\"id\":\"1502\",\"type\":\"UnionRenderers\"},{\"attributes\":{\"coordinates\":null,\"end\":{\"id\":\"1277\"},\"group\":null,\"line_width\":{\"value\":1.5},\"source\":{\"id\":\"1428\"},\"start\":null,\"x_end\":{\"value\":1145.9349251481538},\"x_start\":{\"value\":1156.3867664691284},\"y_end\":{\"value\":1047.647022198585},\"y_start\":{\"value\":1094.9706370685533}},\"id\":\"1278\",\"type\":\"Arrow\"},{\"attributes\":{\"size\":{\"value\":5}},\"id\":\"1283\",\"type\":\"NormalHead\"},{\"attributes\":{},\"id\":\"1461\",\"type\":\"Selection\"},{\"attributes\":{\"coordinates\":null,\"end\":{\"id\":\"1280\"},\"group\":null,\"line_width\":{\"value\":1.5},\"source\":{\"id\":\"1429\"},\"start\":null,\"x_end\":{\"value\":1099.159200781022},\"x_start\":{\"value\":1142.7543989586375},\"y_end\":{\"value\":1144.7780732157373},\"y_start\":{\"value\":1123.3292357123505}},\"id\":\"1281\",\"type\":\"Arrow\"},{\"attributes\":{},\"id\":\"1503\",\"type\":\"Selection\"},{\"attributes\":{},\"id\":\"1649\",\"type\":\"Selection\"},{\"attributes\":{\"size\":{\"value\":5}},\"id\":\"1286\",\"type\":\"NormalHead\"},{\"attributes\":{\"coordinates\":null,\"end\":{\"id\":\"1283\"},\"group\":null,\"line_width\":{\"value\":1.5},\"source\":{\"id\":\"1430\"},\"start\":null,\"x_end\":{\"value\":1203.5339511900365},\"x_start\":{\"value\":1173.1880650799515},\"y_end\":{\"value\":1168.0834676764248},\"y_start\":{\"value\":1130.1220430981002}},\"id\":\"1284\",\"type\":\"Arrow\"},{\"attributes\":{\"size\":{\"value\":5}},\"id\":\"1289\",\"type\":\"NormalHead\"},{\"attributes\":{\"coordinates\":null,\"end\":{\"id\":\"1286\"},\"group\":null,\"line_width\":{\"value\":1.5},\"source\":{\"id\":\"1431\"},\"start\":null,\"x_end\":{\"value\":1145.9311448386675},\"x_start\":{\"value\":1156.3918068817768},\"y_end\":{\"value\":1181.452143398041},\"y_start\":{\"value\":1134.0304754692786}},\"id\":\"1287\",\"type\":\"Arrow\"},{\"attributes\":{},\"id\":\"1462\",\"type\":\"UnionRenderers\"},{\"attributes\":{\"size\":{\"value\":5}},\"id\":\"1292\",\"type\":\"NormalHead\"},{\"attributes\":{},\"id\":\"1504\",\"type\":\"UnionRenderers\"},{\"attributes\":{\"coordinates\":null,\"end\":{\"id\":\"1289\"},\"group\":null,\"line_width\":{\"value\":1.5},\"source\":{\"id\":\"1432\"},\"start\":null,\"x_end\":{\"value\":1098.9189211908522},\"x_start\":{\"value\":1142.6747717455305},\"y_end\":{\"value\":1084.7991360837827},\"y_start\":{\"value\":1105.8344852216228}},\"id\":\"1290\",\"type\":\"Arrow\"},{\"attributes\":{\"size\":{\"value\":5}},\"id\":\"1295\",\"type\":\"NormalHead\"},{\"attributes\":{},\"id\":\"1463\",\"type\":\"Selection\"},{\"attributes\":{\"coordinates\":null,\"end\":{\"id\":\"1292\"},\"group\":null,\"line_width\":{\"value\":1.5},\"source\":{\"id\":\"1433\"},\"start\":null,\"x_end\":{\"value\":1204.0161125871268},\"x_start\":{\"value\":1173.3451832171645},\"y_end\":{\"value\":1061.4213544623656},\"y_start\":{\"value\":1099.004860716846}},\"id\":\"1293\",\"type\":\"Arrow\"},{\"attributes\":{},\"id\":\"1505\",\"type\":\"Selection\"},{\"attributes\":{\"size\":{\"value\":5}},\"id\":\"1298\",\"type\":\"NormalHead\"},{\"attributes\":{\"coordinates\":null,\"end\":{\"id\":\"1295\"},\"group\":null,\"line_width\":{\"value\":1.5},\"source\":{\"id\":\"1434\"},\"start\":null,\"x_end\":{\"value\":1060.1130943917335},\"x_start\":{\"value\":1022.7825408110219},\"y_end\":{\"value\":49.57903224706158},\"y_start\":{\"value\":73.77729033725123}},\"id\":\"1296\",\"type\":\"Arrow\"},{\"attributes\":{\"size\":{\"value\":5}},\"id\":\"1301\",\"type\":\"NormalHead\"},{\"attributes\":{\"coordinates\":null,\"end\":{\"id\":\"1298\"},\"group\":null,\"line_width\":{\"value\":1.5},\"source\":{\"id\":\"1435\"},\"start\":null,\"x_end\":{\"value\":971.0013851435414},\"x_start\":{\"value\":995.1314864752782},\"y_end\":{\"value\":30.591859284539865},\"y_start\":{\"value\":67.86685428728019}},\"id\":\"1299\",\"type\":\"Arrow\"},{\"attributes\":{},\"id\":\"1464\",\"type\":\"UnionRenderers\"},{\"attributes\":{\"size\":{\"value\":5}},\"id\":\"1304\",\"type\":\"NormalHead\"},{\"attributes\":{},\"id\":\"1506\",\"type\":\"UnionRenderers\"},{\"attributes\":{\"coordinates\":null,\"end\":{\"id\":\"1301\"},\"group\":null,\"line_width\":{\"value\":1.5},\"source\":{\"id\":\"1436\"},\"start\":null,\"x_end\":{\"value\":952.2956303163238},\"x_start\":{\"value\":989.3258262449016},\"y_end\":{\"value\":120.22693230792831},\"y_start\":{\"value\":95.70009025609558}},\"id\":\"1302\",\"type\":\"Arrow\"},{\"attributes\":{\"size\":{\"value\":5}},\"id\":\"1307\",\"type\":\"NormalHead\"},{\"attributes\":{},\"id\":\"1465\",\"type\":\"Selection\"},{\"attributes\":{\"coordinates\":null,\"end\":{\"id\":\"1304\"},\"group\":null,\"line_width\":{\"value\":1.5},\"source\":{\"id\":\"1437\"},\"start\":null,\"x_end\":{\"value\":1041.6199326188953},\"x_start\":{\"value\":1017.040089841473},\"y_end\":{\"value\":138.46238295420088},\"y_start\":{\"value\":101.33282272773216}},\"id\":\"1305\",\"type\":\"Arrow\"},{\"attributes\":{},\"id\":\"1507\",\"type\":\"Selection\"},{\"attributes\":{\"size\":{\"value\":5}},\"id\":\"1310\",\"type\":\"NormalHead\"},{\"attributes\":{\"coordinates\":null,\"end\":{\"id\":\"1307\"},\"group\":null,\"line_width\":{\"value\":1.5},\"source\":{\"id\":\"1438\"},\"start\":null,\"x_end\":{\"value\":1351.0327048380118},\"x_start\":{\"value\":1321.5563935493174},\"y_end\":{\"value\":731.3827859533275},\"y_start\":{\"value\":766.9762853955635}},\"id\":\"1308\",\"type\":\"Arrow\"},{\"attributes\":{\"coordinates\":null,\"end\":{\"id\":\"1322\"},\"group\":null,\"line_width\":{\"value\":1.5},\"source\":{\"id\":\"1443\"},\"start\":null,\"x_end\":{\"value\":669.7775547905853},\"x_start\":{\"value\":628.4832602792197},\"y_end\":{\"value\":157.1888876572627},\"y_start\":{\"value\":150.7781497903164}},\"id\":\"1323\",\"type\":\"Arrow\"},{\"attributes\":{\"coordinates\":null,\"end\":{\"id\":\"1310\"},\"group\":null,\"line_width\":{\"value\":1.5},\"source\":{\"id\":\"1439\"},\"start\":null,\"x_end\":{\"value\":1273.0906272215564},\"x_start\":{\"value\":1298.012497037925},\"y_end\":{\"value\":726.6309837764844},\"y_start\":{\"value\":765.5386882980208}},\"id\":\"1311\",\"type\":\"Arrow\"},{\"attributes\":{},\"id\":\"1466\",\"type\":\"UnionRenderers\"},{\"attributes\":{\"coordinates\":null,\"end\":{\"id\":\"1313\"},\"group\":null,\"line_width\":{\"value\":1.5},\"source\":{\"id\":\"1440\"},\"start\":null,\"x_end\":{\"value\":1244.8734152395864},\"x_start\":{\"value\":1289.5021130138848},\"y_end\":{\"value\":799.780424984531},\"y_start\":{\"value\":787.6327666872921}},\"id\":\"1314\",\"type\":\"Arrow\"},{\"attributes\":{},\"id\":\"1508\",\"type\":\"UnionRenderers\"},{\"attributes\":{\"size\":{\"value\":5}},\"id\":\"1322\",\"type\":\"NormalHead\"},{\"attributes\":{},\"id\":\"1467\",\"type\":\"Selection\"},{\"attributes\":{\"size\":{\"value\":5}},\"id\":\"1313\",\"type\":\"NormalHead\"},{\"attributes\":{},\"id\":\"1509\",\"type\":\"Selection\"},{\"attributes\":{\"size\":{\"value\":5}},\"id\":\"1316\",\"type\":\"NormalHead\"},{\"attributes\":{\"coordinates\":null,\"end\":{\"id\":\"1319\"},\"group\":null,\"line_width\":{\"value\":1.5},\"source\":{\"id\":\"1442\"},\"start\":null,\"x_end\":{\"value\":1305.619790691789},\"x_start\":{\"value\":1307.8402790776147},\"y_end\":{\"value\":848.57727990784},\"y_start\":{\"value\":802.35696012288}},\"id\":\"1320\",\"type\":\"Arrow\"},{\"attributes\":{\"coordinates\":null,\"end\":{\"id\":\"1316\"},\"group\":null,\"line_width\":{\"value\":1.5},\"source\":{\"id\":\"1441\"},\"start\":null,\"x_end\":{\"value\":1370.6188225385326},\"x_start\":{\"value\":1327.441569948623},\"y_end\":{\"value\":806.4061545116778},\"y_start\":{\"value\":789.625127317763}},\"id\":\"1317\",\"type\":\"Arrow\"},{\"attributes\":{\"size\":{\"value\":5}},\"id\":\"1325\",\"type\":\"NormalHead\"},{\"attributes\":{\"size\":{\"value\":5}},\"id\":\"1319\",\"type\":\"NormalHead\"},{\"attributes\":{\"data\":{},\"selected\":{\"id\":\"1561\"},\"selection_policy\":{\"id\":\"1560\"}},\"id\":\"1403\",\"type\":\"ColumnDataSource\"},{\"attributes\":{\"data\":{},\"selected\":{\"id\":\"1563\"},\"selection_policy\":{\"id\":\"1562\"}},\"id\":\"1404\",\"type\":\"ColumnDataSource\"},{\"attributes\":{\"data\":{},\"selected\":{\"id\":\"1565\"},\"selection_policy\":{\"id\":\"1564\"}},\"id\":\"1405\",\"type\":\"ColumnDataSource\"},{\"attributes\":{\"data\":{},\"selected\":{\"id\":\"1567\"},\"selection_policy\":{\"id\":\"1566\"}},\"id\":\"1406\",\"type\":\"ColumnDataSource\"},{\"attributes\":{\"data\":{},\"selected\":{\"id\":\"1569\"},\"selection_policy\":{\"id\":\"1568\"}},\"id\":\"1407\",\"type\":\"ColumnDataSource\"},{\"attributes\":{\"data\":{},\"selected\":{\"id\":\"1571\"},\"selection_policy\":{\"id\":\"1570\"}},\"id\":\"1408\",\"type\":\"ColumnDataSource\"},{\"attributes\":{\"data\":{},\"selected\":{\"id\":\"1573\"},\"selection_policy\":{\"id\":\"1572\"}},\"id\":\"1409\",\"type\":\"ColumnDataSource\"},{\"attributes\":{\"data\":{},\"selected\":{\"id\":\"1575\"},\"selection_policy\":{\"id\":\"1574\"}},\"id\":\"1410\",\"type\":\"ColumnDataSource\"},{\"attributes\":{\"data\":{},\"selected\":{\"id\":\"1577\"},\"selection_policy\":{\"id\":\"1576\"}},\"id\":\"1411\",\"type\":\"ColumnDataSource\"},{\"attributes\":{\"data\":{},\"selected\":{\"id\":\"1579\"},\"selection_policy\":{\"id\":\"1578\"}},\"id\":\"1412\",\"type\":\"ColumnDataSource\"},{\"attributes\":{\"data\":{},\"selected\":{\"id\":\"1581\"},\"selection_policy\":{\"id\":\"1580\"}},\"id\":\"1413\",\"type\":\"ColumnDataSource\"},{\"attributes\":{\"data\":{},\"selected\":{\"id\":\"1583\"},\"selection_policy\":{\"id\":\"1582\"}},\"id\":\"1414\",\"type\":\"ColumnDataSource\"},{\"attributes\":{\"data\":{},\"selected\":{\"id\":\"1585\"},\"selection_policy\":{\"id\":\"1584\"}},\"id\":\"1415\",\"type\":\"ColumnDataSource\"},{\"attributes\":{\"data\":{},\"selected\":{\"id\":\"1587\"},\"selection_policy\":{\"id\":\"1586\"}},\"id\":\"1416\",\"type\":\"ColumnDataSource\"},{\"attributes\":{\"data\":{},\"selected\":{\"id\":\"1589\"},\"selection_policy\":{\"id\":\"1588\"}},\"id\":\"1417\",\"type\":\"ColumnDataSource\"},{\"attributes\":{\"data\":{},\"selected\":{\"id\":\"1591\"},\"selection_policy\":{\"id\":\"1590\"}},\"id\":\"1418\",\"type\":\"ColumnDataSource\"},{\"attributes\":{\"data\":{},\"selected\":{\"id\":\"1593\"},\"selection_policy\":{\"id\":\"1592\"}},\"id\":\"1419\",\"type\":\"ColumnDataSource\"}],\"root_ids\":[\"1003\"]},\"title\":\"Bokeh Application\",\"version\":\"2.4.0\"}};\n",
       "  const render_items = [{\"docid\":\"fef3cb0f-81e4-4d10-bcb2-87bdcb3bdcb0\",\"root_ids\":[\"1003\"],\"roots\":{\"1003\":\"d5885290-8d32-4f00-92b6-4f7a57b3d576\"}}];\n",
       "  root.Bokeh.embed.embed_items_notebook(docs_json, render_items);\n",
       "\n",
       "  }\n",
       "  if (root.Bokeh !== undefined) {\n",
       "    embed_document(root);\n",
       "  } else {\n",
       "    let attempts = 0;\n",
       "    const timer = setInterval(function(root) {\n",
       "      if (root.Bokeh !== undefined) {\n",
       "        clearInterval(timer);\n",
       "        embed_document(root);\n",
       "      } else {\n",
       "        attempts++;\n",
       "        if (attempts > 100) {\n",
       "          clearInterval(timer);\n",
       "          console.log(\"Bokeh: ERROR: Unable to run BokehJS code because BokehJS library is missing\");\n",
       "        }\n",
       "      }\n",
       "    }, 10, root)\n",
       "  }\n",
       "})(window);"
      ],
      "application/vnd.bokehjs_exec.v0+json": ""
     },
     "metadata": {
      "application/vnd.bokehjs_exec.v0+json": {
       "id": "1003"
      }
     },
     "output_type": "display_data"
    }
   ],
   "source": [
    "gold_data = gold.load_data(\"data/raw_data/gold.json\")\n",
    "nbutils.plot_gold(gold_data, title=f\"The gold data is a {gold_data}\")"
   ]
  },
  {
   "cell_type": "markdown",
   "id": "87bddd3e-b9dc-44b0-8382-c01a7205185f",
   "metadata": {},
   "source": [
    "The browser widget below lets the reader explore the same graph data through a different UI. The specific example shown by default is the rephrasing of the Shakespeare phrase \"to be or not to be\" in a non-Shakespeare work titled \"The Phoenix\" by Thomas Middleton. The phrase in Middleton's work is \"to be named or not be named\" - which is highlighted in bold below. The context, in which this rephrasing is embedded, is the whole line by \"Fidelio\"."
   ]
  },
  {
   "cell_type": "code",
   "execution_count": 3,
   "id": "aeba4fc4-7d00-4edb-824d-a887131c6ce3",
   "metadata": {},
   "outputs": [
    {
     "data": {
      "application/vnd.jupyter.widget-view+json": {
       "model_id": "6d031c6adfeb4eeebc0919bcde4e30fa",
       "version_major": 2,
       "version_minor": 0
      },
      "text/plain": [
       "VBox(children=(VBox(children=(Dropdown(description='phrase:', layout=Layout(height='3em', width='50em'), optio…"
      ]
     },
     "metadata": {},
     "output_type": "display_data"
    }
   ],
   "source": [
    "nbutils.Browser(gold_data, \"to be or not to be\", \"The Phoenix\");"
   ]
  },
  {
   "cell_type": "markdown",
   "id": "33e17502-144a-447c-b180-181e9821ee4e",
   "metadata": {},
   "source": [
    "While the structure of the gold data has been geared towards our specific use case in this notebook, the graph-based format of <a href=\"data/raw_data/gold.json\">gold.json</a> should be obvious to understand and easy to replace with custom datasets. Note that the loader inside <a href=\"code/gold.py\">gold.py</a> is very simple and essentially just building a graph. Note that only nodes with in-degree 0 are considered as base nodes that are converted into queries later on in the notebook."
   ]
  },
  {
   "cell_type": "markdown",
   "id": "7917ba04",
   "metadata": {},
   "source": [
    "## 2.2 Overview of different types of embeddings <a class=\"anchor\" id=\"section_2_2\"></a>"
   ]
  },
  {
   "cell_type": "markdown",
   "id": "d4c80d2b",
   "metadata": {},
   "source": [
    "**Word embeddings** take up the linguistic concept of collocations. For each word in a corpus it is recorded with which other words it occurs. These collocation profiles are then represented as vectors. If, for example, two words (e.g. \"car\" and \"truck\") occur with very similar words (e.g. „wheels, drive, street, etc.“) then they would also have very similar word vectors, i.e. they would be semantically - or at least structurally - very similar.\n",
    "\n",
    "There are now various established ways to compute embeddings for word similarity tasks. A first important distinction to be made is between *token* / *word* embeddings and *document* embeddings. While **token embeddings** model one embedding per token, **document embeddings** try to  map an entire document (i.e. a set of tokens) into one single embedding. There are two common ways to compute document embeddings. One way is to derive them from token embeddings, for instance by averaging those. More complex approaches train dedicated models that are optimized to produce good document embeddings.\n",
    "\n",
    "This means that, all in all, we can distinguish three types of embeddings:\n",
    "\n",
    "* original token embeddings\n",
    "* document embeddings derived from token embeddings (e.g. by averaging them)\n",
    "* document embeddings from dedicated models, such as <a href=\"https://www.sbert.net/\">Sentence-BERT</a> (Reimers & Gurevych, 2019)"
   ]
  },
  {
   "cell_type": "code",
   "execution_count": 4,
   "id": "1718fe62-1f7c-4a36-adcb-d42985c73a34",
   "metadata": {},
   "outputs": [
    {
     "data": {
      "image/svg+xml": [
       "<svg xmlns=\"http://www.w3.org/2000/svg\" xmlns:xlink=\"http://www.w3.org/1999/xlink\" width=\"642pt\" height=\"237pt\" viewBox=\"21.60 21.60 620.60 215.60\">\n",
       "<g id=\"graph0\" class=\"graph\" transform=\"scale(1 1) rotate(0) translate(25.6 211.6)\">\n",
       "<title>my_graph</title>\n",
       "<polygon fill=\"Transparent\" stroke=\"transparent\" points=\"-4,4 -4,-190 595,-190 595,4 -4,4\"/>\n",
       "<!-- document_embeddings -->\n",
       "<g id=\"node1\" class=\"node\">\n",
       "<title>document_embeddings</title>\n",
       "<polygon fill=\"none\" stroke=\"transparent\" points=\"229,-137 109,-137 109,-101 229,-101 229,-137\"/>\n",
       "<text text-anchor=\"middle\" x=\"169\" y=\"-116.5\" font-family=\"Arial\" font-size=\"10.00\">Document Embeddings</text>\n",
       "</g>\n",
       "<!-- ded_models -->\n",
       "<g id=\"node4\" class=\"node\">\n",
       "<title>ded_models</title>\n",
       "<polygon fill=\"none\" stroke=\"transparent\" points=\"454,-186 331,-186 331,-150 454,-150 454,-186\"/>\n",
       "<text text-anchor=\"middle\" x=\"392.5\" y=\"-165.5\" font-family=\"Arial\" font-size=\"10.00\">From Dedicated Models</text>\n",
       "</g>\n",
       "<!-- document_embeddings&#45;&gt;ded_models -->\n",
       "<g id=\"edge5\" class=\"edge\">\n",
       "<title>document_embeddings-&gt;ded_models</title>\n",
       "<path fill=\"none\" stroke=\"black\" d=\"M229.07,-132.07C257.28,-138.31 291.25,-145.82 320.82,-152.36\"/>\n",
       "<polygon fill=\"black\" stroke=\"black\" points=\"320.15,-155.8 330.67,-154.54 321.66,-148.97 320.15,-155.8\"/>\n",
       "</g>\n",
       "<!-- from_token -->\n",
       "<g id=\"node5\" class=\"node\">\n",
       "<title>from_token</title>\n",
       "<polygon fill=\"none\" stroke=\"transparent\" points=\"456,-136 329,-136 329,-100 456,-100 456,-136\"/>\n",
       "<text text-anchor=\"middle\" x=\"392.5\" y=\"-115.5\" font-family=\"Arial\" font-size=\"10.00\">From Token Embeddings</text>\n",
       "</g>\n",
       "<!-- document_embeddings&#45;&gt;from_token -->\n",
       "<g id=\"edge4\" class=\"edge\">\n",
       "<title>document_embeddings-&gt;from_token</title>\n",
       "<path fill=\"none\" stroke=\"black\" d=\"M229.07,-118.73C256.58,-118.61 289.58,-118.46 318.63,-118.33\"/>\n",
       "<polygon fill=\"black\" stroke=\"black\" points=\"318.74,-121.83 328.72,-118.28 318.71,-114.83 318.74,-121.83\"/>\n",
       "</g>\n",
       "<!-- token_embeddings -->\n",
       "<g id=\"node2\" class=\"node\">\n",
       "<title>token_embeddings</title>\n",
       "<polygon fill=\"none\" stroke=\"transparent\" points=\"220,-87 118,-87 118,-51 220,-51 220,-87\"/>\n",
       "<text text-anchor=\"middle\" x=\"169\" y=\"-66.5\" font-family=\"Arial\" font-size=\"10.00\">Token Embeddings</text>\n",
       "</g>\n",
       "<!-- contextual -->\n",
       "<g id=\"node7\" class=\"node\">\n",
       "<title>contextual</title>\n",
       "<polygon fill=\"none\" stroke=\"transparent\" points=\"454,-86 331,-86 331,-50 454,-50 454,-86\"/>\n",
       "<text text-anchor=\"middle\" x=\"392.5\" y=\"-65.5\" font-family=\"Arial\" font-size=\"10.00\">Contextual Embeddings</text>\n",
       "</g>\n",
       "<!-- token_embeddings&#45;&gt;contextual -->\n",
       "<g id=\"edge7\" class=\"edge\">\n",
       "<title>token_embeddings-&gt;contextual</title>\n",
       "<path fill=\"none\" stroke=\"black\" d=\"M220.26,-68.77C249.86,-68.64 287.78,-68.47 320.4,-68.32\"/>\n",
       "<polygon fill=\"black\" stroke=\"black\" points=\"320.81,-71.82 330.79,-68.27 320.78,-64.82 320.81,-71.82\"/>\n",
       "</g>\n",
       "<!-- static -->\n",
       "<g id=\"node8\" class=\"node\">\n",
       "<title>static</title>\n",
       "<polygon fill=\"none\" stroke=\"transparent\" points=\"442.5,-36 342.5,-36 342.5,0 442.5,0 442.5,-36\"/>\n",
       "<text text-anchor=\"middle\" x=\"392.5\" y=\"-15.5\" font-family=\"Arial\" font-size=\"10.00\">Static Embeddings</text>\n",
       "</g>\n",
       "<!-- token_embeddings&#45;&gt;static -->\n",
       "<g id=\"edge8\" class=\"edge\">\n",
       "<title>token_embeddings-&gt;static</title>\n",
       "<path fill=\"none\" stroke=\"black\" d=\"M220.26,-57.43C253.49,-49.78 297.19,-39.71 332.13,-31.67\"/>\n",
       "<polygon fill=\"black\" stroke=\"black\" points=\"333.24,-35.01 342.2,-29.35 331.67,-28.18 333.24,-35.01\"/>\n",
       "</g>\n",
       "<!-- embeddings -->\n",
       "<g id=\"node3\" class=\"node\">\n",
       "<title>embeddings</title>\n",
       "<polygon fill=\"none\" stroke=\"transparent\" points=\"72,-111 0,-111 0,-75 72,-75 72,-111\"/>\n",
       "<text text-anchor=\"middle\" x=\"36\" y=\"-90.5\" font-family=\"Arial\" font-size=\"10.00\">Embeddings</text>\n",
       "</g>\n",
       "<!-- embeddings&#45;&gt;document_embeddings -->\n",
       "<g id=\"edge1\" class=\"edge\">\n",
       "<title>embeddings-&gt;document_embeddings</title>\n",
       "<path fill=\"none\" stroke=\"black\" d=\"M72.11,-99.97C80.4,-101.61 89.53,-103.43 98.75,-105.26\"/>\n",
       "<polygon fill=\"black\" stroke=\"black\" points=\"98.28,-108.73 108.77,-107.24 99.64,-101.86 98.28,-108.73\"/>\n",
       "</g>\n",
       "<!-- embeddings&#45;&gt;token_embeddings -->\n",
       "<g id=\"edge2\" class=\"edge\">\n",
       "<title>embeddings-&gt;token_embeddings</title>\n",
       "<path fill=\"none\" stroke=\"black\" d=\"M72.11,-86.57C83,-84.57 95.34,-82.31 107.45,-80.09\"/>\n",
       "<polygon fill=\"black\" stroke=\"black\" points=\"108.32,-83.49 117.53,-78.25 107.06,-76.61 108.32,-83.49\"/>\n",
       "</g>\n",
       "<!-- sbert -->\n",
       "<g id=\"node6\" class=\"node\">\n",
       "<title>sbert</title>\n",
       "<polygon fill=\"none\" stroke=\"black\" points=\"591,-186 497,-186 493,-182 493,-150 587,-150 591,-154 591,-186\"/>\n",
       "<polyline fill=\"none\" stroke=\"black\" points=\"587,-182 493,-182 \"/>\n",
       "<polyline fill=\"none\" stroke=\"black\" points=\"587,-182 587,-150 \"/>\n",
       "<polyline fill=\"none\" stroke=\"black\" points=\"587,-182 591,-186 \"/>\n",
       "<text text-anchor=\"start\" x=\"505.5\" y=\"-171\" font-family=\"Arial\" font-size=\"10.00\">Sentence-BERT</text>\n",
       "<text text-anchor=\"start\" x=\"501\" y=\"-161\" font-family=\"Arial\" font-style=\"italic\" font-size=\"10.00\">on document level</text>\n",
       "</g>\n",
       "<!-- ded_models&#45;&gt;sbert -->\n",
       "<g id=\"edge6\" class=\"edge\">\n",
       "<title>ded_models-&gt;sbert</title>\n",
       "<path fill=\"none\" stroke=\"orange\" d=\"M454.35,-168C463.79,-168 473.52,-168 482.9,-168\"/>\n",
       "<polygon fill=\"orange\" stroke=\"orange\" points=\"482.9,-171.5 492.9,-168 482.9,-164.5 482.9,-171.5\"/>\n",
       "</g>\n",
       "<!-- from_token&#45;&gt;token_embeddings -->\n",
       "<g id=\"edge3\" class=\"edge\">\n",
       "<title>from_token-&gt;token_embeddings</title>\n",
       "<path fill=\"none\" stroke=\"gray\" stroke-dasharray=\"5,2\" d=\"M328.76,-104.12C297.9,-97.29 260.88,-89.1 230.35,-82.35\"/>\n",
       "<polygon fill=\"gray\" stroke=\"gray\" points=\"230.78,-78.86 220.26,-80.12 229.27,-85.7 230.78,-78.86\"/>\n",
       "<text text-anchor=\"middle\" x=\"279\" y=\"-103\" font-family=\"Arial\" font-size=\"10.00\">e.g. averaging</text>\n",
       "</g>\n",
       "</g>\n",
       "</svg>"
      ],
      "text/plain": [
       "<IPython.core.display.SVG object>"
      ]
     },
     "execution_count": 4,
     "metadata": {},
     "output_type": "execute_result"
    }
   ],
   "source": [
    "nbutils.plot_dot(\"miscellaneous/diagram_embeddings_1.dot\")"
   ]
  },
  {
   "cell_type": "markdown",
   "id": "ab3a5ecf",
   "metadata": {},
   "source": [
    "When focussing only on token embeddings, there are various options, as the diagram below illustrates (as in the diagram above, orange arrows indicate specific embeddings used in this notebook). The most recent option are contextual token embeddings (also sometimes called *dynamic* embeddings), which will incorporate a specific token's context and can be obtained from architectures like <a href=\"https://jalammar.github.io/illustrated-bert/\">ELMO or BERT</a>. Another option are static token embeddings, which map one token to one embedding, independent of its specific occurence in a text. For an overview of static and contextual embeddings, and their differences, see (Wang et al. 2020).\n",
    "\n",
    "For static embeddings there is now a variety of established options like <a href=\"https://fasttext.cc/\">fastText</a> or <a href=\"https://nlp.stanford.edu/projects/glove/\">GloVe</a>. We can also combine embeddings or stack them (i.e. concatenate embedding vectors) to simply create new embeddings from existing ones.\n"
   ]
  },
  {
   "cell_type": "code",
   "execution_count": 5,
   "id": "4360e891-7da5-4617-aef1-6987ef4e3979",
   "metadata": {},
   "outputs": [
    {
     "data": {
      "image/svg+xml": [
       "<svg xmlns=\"http://www.w3.org/2000/svg\" xmlns:xlink=\"http://www.w3.org/1999/xlink\" width=\"550pt\" height=\"242pt\" viewBox=\"21.60 21.60 528.60 220.60\">\n",
       "<g id=\"graph0\" class=\"graph\" transform=\"scale(1 1) rotate(0) translate(25.6 216.6)\">\n",
       "<title>my_graph</title>\n",
       "<polygon fill=\"Transparent\" stroke=\"transparent\" points=\"-4,4 -4,-195 503,-195 503,4 -4,4\"/>\n",
       "<!-- token_embeddings -->\n",
       "<g id=\"node1\" class=\"node\">\n",
       "<title>token_embeddings</title>\n",
       "<polygon fill=\"none\" stroke=\"transparent\" points=\"102,-126 0,-126 0,-90 102,-90 102,-126\"/>\n",
       "<text text-anchor=\"middle\" x=\"51\" y=\"-105.5\" font-family=\"Arial\" font-size=\"10.00\">Token Embeddings</text>\n",
       "</g>\n",
       "<!-- contextual -->\n",
       "<g id=\"node2\" class=\"node\">\n",
       "<title>contextual</title>\n",
       "<polygon fill=\"none\" stroke=\"transparent\" points=\"261,-171 138,-171 138,-135 261,-135 261,-171\"/>\n",
       "<text text-anchor=\"middle\" x=\"199.5\" y=\"-150.5\" font-family=\"Arial\" font-size=\"10.00\">Contextual Embeddings</text>\n",
       "</g>\n",
       "<!-- token_embeddings&#45;&gt;contextual -->\n",
       "<g id=\"edge1\" class=\"edge\">\n",
       "<title>token_embeddings-&gt;contextual</title>\n",
       "<path fill=\"none\" stroke=\"black\" d=\"M102.01,-123.36C111.05,-126.14 120.62,-129.08 130.08,-131.98\"/>\n",
       "<polygon fill=\"black\" stroke=\"black\" points=\"129.29,-135.4 139.88,-134.99 131.35,-128.71 129.29,-135.4\"/>\n",
       "</g>\n",
       "<!-- static -->\n",
       "<g id=\"node3\" class=\"node\">\n",
       "<title>static</title>\n",
       "<polygon fill=\"none\" stroke=\"transparent\" points=\"249.5,-101 149.5,-101 149.5,-65 249.5,-65 249.5,-101\"/>\n",
       "<text text-anchor=\"middle\" x=\"199.5\" y=\"-80.5\" font-family=\"Arial\" font-size=\"10.00\">Static Embeddings</text>\n",
       "</g>\n",
       "<!-- token_embeddings&#45;&gt;static -->\n",
       "<g id=\"edge2\" class=\"edge\">\n",
       "<title>token_embeddings-&gt;static</title>\n",
       "<path fill=\"none\" stroke=\"black\" d=\"M102.01,-99.47C113.92,-97.43 126.75,-95.24 139.05,-93.15\"/>\n",
       "<polygon fill=\"black\" stroke=\"black\" points=\"139.95,-96.54 149.21,-91.41 138.77,-89.64 139.95,-96.54\"/>\n",
       "</g>\n",
       "<!-- sbert -->\n",
       "<g id=\"node8\" class=\"node\">\n",
       "<title>sbert</title>\n",
       "<polygon fill=\"none\" stroke=\"black\" points=\"386,-191 301,-191 297,-187 297,-155 382,-155 386,-159 386,-191\"/>\n",
       "<polyline fill=\"none\" stroke=\"black\" points=\"382,-187 297,-187 \"/>\n",
       "<polyline fill=\"none\" stroke=\"black\" points=\"382,-187 382,-155 \"/>\n",
       "<polyline fill=\"none\" stroke=\"black\" points=\"382,-187 386,-191 \"/>\n",
       "<text text-anchor=\"start\" x=\"305\" y=\"-176\" font-family=\"Arial\" font-size=\"10.00\">Sentence-BERT</text>\n",
       "<text text-anchor=\"start\" x=\"310.5\" y=\"-166\" font-family=\"Arial\" font-style=\"italic\" font-size=\"10.00\">on token level</text>\n",
       "</g>\n",
       "<!-- contextual&#45;&gt;sbert -->\n",
       "<g id=\"edge9\" class=\"edge\">\n",
       "<title>contextual-&gt;sbert</title>\n",
       "<path fill=\"none\" stroke=\"orange\" d=\"M261.09,-161.66C269.6,-162.87 278.3,-164.11 286.68,-165.31\"/>\n",
       "<polygon fill=\"orange\" stroke=\"orange\" points=\"286.3,-168.79 296.69,-166.74 287.29,-161.86 286.3,-168.79\"/>\n",
       "</g>\n",
       "<!-- glove -->\n",
       "<g id=\"node4\" class=\"node\">\n",
       "<title>glove</title>\n",
       "<polygon fill=\"none\" stroke=\"black\" points=\"368.5,-141 318.5,-141 314.5,-137 314.5,-105 364.5,-105 368.5,-109 368.5,-141\"/>\n",
       "<polyline fill=\"none\" stroke=\"black\" points=\"364.5,-137 314.5,-137 \"/>\n",
       "<polyline fill=\"none\" stroke=\"black\" points=\"364.5,-137 364.5,-105 \"/>\n",
       "<polyline fill=\"none\" stroke=\"black\" points=\"364.5,-137 368.5,-141 \"/>\n",
       "<text text-anchor=\"middle\" x=\"341.5\" y=\"-120.5\" font-family=\"Arial\" font-size=\"10.00\">GloVe</text>\n",
       "</g>\n",
       "<!-- static&#45;&gt;glove -->\n",
       "<g id=\"edge3\" class=\"edge\">\n",
       "<title>static-&gt;glove</title>\n",
       "<path fill=\"none\" stroke=\"orange\" d=\"M249.86,-97.1C267.85,-102.24 287.84,-107.96 304.46,-112.7\"/>\n",
       "<polygon fill=\"orange\" stroke=\"orange\" points=\"303.75,-116.14 314.33,-115.52 305.68,-109.41 303.75,-116.14\"/>\n",
       "</g>\n",
       "<!-- fasttext -->\n",
       "<g id=\"node5\" class=\"node\">\n",
       "<title>fasttext</title>\n",
       "<polygon fill=\"none\" stroke=\"black\" points=\"487.5,-93 437.5,-93 433.5,-89 433.5,-57 483.5,-57 487.5,-61 487.5,-93\"/>\n",
       "<polyline fill=\"none\" stroke=\"black\" points=\"483.5,-89 433.5,-89 \"/>\n",
       "<polyline fill=\"none\" stroke=\"black\" points=\"483.5,-89 483.5,-57 \"/>\n",
       "<polyline fill=\"none\" stroke=\"black\" points=\"483.5,-89 487.5,-93 \"/>\n",
       "<text text-anchor=\"middle\" x=\"460.5\" y=\"-72.5\" font-family=\"Arial\" font-size=\"10.00\">fastText</text>\n",
       "</g>\n",
       "<!-- static&#45;&gt;fasttext -->\n",
       "<g id=\"edge4\" class=\"edge\">\n",
       "<title>static-&gt;fasttext</title>\n",
       "<path fill=\"none\" stroke=\"orange\" d=\"M249.52,-81.49C300.03,-79.93 377.59,-77.53 422.96,-76.13\"/>\n",
       "<polygon fill=\"orange\" stroke=\"orange\" points=\"423.34,-79.62 433.22,-75.81 423.12,-72.62 423.34,-79.62\"/>\n",
       "</g>\n",
       "<!-- numberbatch -->\n",
       "<g id=\"node6\" class=\"node\">\n",
       "<title>numberbatch</title>\n",
       "<polygon fill=\"none\" stroke=\"black\" points=\"499,-36 426,-36 422,-32 422,0 495,0 499,-4 499,-36\"/>\n",
       "<polyline fill=\"none\" stroke=\"black\" points=\"495,-32 422,-32 \"/>\n",
       "<polyline fill=\"none\" stroke=\"black\" points=\"495,-32 495,0 \"/>\n",
       "<polyline fill=\"none\" stroke=\"black\" points=\"495,-32 499,-36 \"/>\n",
       "<text text-anchor=\"middle\" x=\"460.5\" y=\"-15.5\" font-family=\"Arial\" font-size=\"10.00\">Numberbatch</text>\n",
       "</g>\n",
       "<!-- static&#45;&gt;numberbatch -->\n",
       "<g id=\"edge5\" class=\"edge\">\n",
       "<title>static-&gt;numberbatch</title>\n",
       "<path fill=\"none\" stroke=\"orange\" d=\"M219.73,-64.9C238,-49.04 267.06,-27.14 297,-18 334.25,-6.62 378.58,-7.52 411.53,-10.76\"/>\n",
       "<polygon fill=\"orange\" stroke=\"orange\" points=\"411.48,-14.27 421.8,-11.88 412.24,-7.31 411.48,-14.27\"/>\n",
       "</g>\n",
       "<!-- stacked -->\n",
       "<g id=\"node7\" class=\"node\">\n",
       "<title>stacked</title>\n",
       "<polygon fill=\"none\" stroke=\"black\" points=\"356.5,-55 314.5,-55 314.5,-31 356.5,-31 368.5,-43 356.5,-55\"/>\n",
       "<text text-anchor=\"middle\" x=\"341.5\" y=\"-40.5\" font-family=\"Arial\" font-size=\"10.00\">stacked</text>\n",
       "</g>\n",
       "<!-- static&#45;&gt;stacked -->\n",
       "<g id=\"edge6\" class=\"edge\">\n",
       "<title>static-&gt;stacked</title>\n",
       "<path fill=\"none\" stroke=\"orange\" d=\"M249.86,-68.9C267.85,-63.76 287.84,-58.04 304.46,-53.3\"/>\n",
       "<polygon fill=\"orange\" stroke=\"orange\" points=\"305.68,-56.59 314.33,-50.48 303.75,-49.86 305.68,-56.59\"/>\n",
       "</g>\n",
       "<!-- stacked&#45;&gt;fasttext -->\n",
       "<g id=\"edge7\" class=\"edge\">\n",
       "<title>stacked-&gt;fasttext</title>\n",
       "<path fill=\"none\" stroke=\"lightblue\" d=\"M368.76,-50.18C384.86,-54.59 405.72,-60.29 423.37,-65.12\"/>\n",
       "<polygon fill=\"lightblue\" stroke=\"lightblue\" points=\"422.76,-68.58 433.33,-67.84 424.61,-61.83 422.76,-68.58\"/>\n",
       "</g>\n",
       "<!-- stacked&#45;&gt;numberbatch -->\n",
       "<g id=\"edge8\" class=\"edge\">\n",
       "<title>stacked-&gt;numberbatch</title>\n",
       "<path fill=\"none\" stroke=\"lightblue\" d=\"M368.76,-37.39C381.46,-34.68 397.11,-31.33 411.81,-28.19\"/>\n",
       "<polygon fill=\"lightblue\" stroke=\"lightblue\" points=\"412.74,-31.57 421.79,-26.06 411.28,-24.72 412.74,-31.57\"/>\n",
       "</g>\n",
       "</g>\n",
       "</svg>"
      ],
      "text/plain": [
       "<IPython.core.display.SVG object>"
      ]
     },
     "execution_count": 5,
     "metadata": {},
     "output_type": "execute_result"
    }
   ],
   "source": [
    "nbutils.plot_dot(\"miscellaneous/diagram_embeddings_2.dot\")"
   ]
  },
  {
   "cell_type": "markdown",
   "id": "a2820b9f",
   "metadata": {},
   "source": [
    "In this notebook, we showcase the following four classes of embeddings:\n",
    "\n",
    "* **Static token embeddings**: these operate on the token level. We experiment with <a href=\"https://nlp.stanford.edu/projects/glove/\">GloVe</a> (Pennington et al. 2014), <a href=\"https://fasttext.cc/\">fastText</a> (Mikolov et al., 2018) and <a href=\"https://github.com/commonsense/conceptnet-numberbatch\">Numberbatch</a> (Speer et al, 2017). We use these three embeddings to compute token similarity and combine them with alignment algorithms (such as <a href=\"http://rna.informatik.uni-freiburg.de/Teaching/index.jsp?toolName=Waterman-Smith-Beyer\">Waterman-Smith-Beyer</a>) to compute document similarity. We also investigate the effect of stacking two static embeddings (fastText and Numberbatch).\n",
    "* **Contextual token embeddings**: these also operate on the token level, but embeddings can change according to a specific token instance's context. In this notebook we experiment with using such token embeddings from the <a href=\"https://www.sbert.net/\">Sentence-BERT</a> model (Reimers & Gurevych, 2019).\n",
    "* **Document embeddings derived from specially trained models**: document embeddings represent one document via one single embedding. We use document embeddings obtained from a BERT model. More specifically, we use a Siamese BERT model named Sentence-BERT, which is trained specifically for the semantic textual similarity (STS) task (Reimers & Gurevych, 2019).\n",
    "* **Document embeddings derived from token embeddings**: We also experiment with averaging different kinds of token embeddings (static and contextual) to derive document embeddings.\n"
   ]
  },
  {
   "cell_type": "markdown",
   "id": "e746071b",
   "metadata": {},
   "source": [
    "## 2.3 \"Shapespeare in the Vectorian Age\" – Meet the Vectorian framework <a class=\"anchor\" id=\"section_2_3\"></a>"
   ]
  },
  {
   "cell_type": "markdown",
   "id": "e5afbd3e",
   "metadata": {},
   "source": [
    "To conduct our actual investigations, we rely on a framework called the **<a href=\"https://github.com/poke1024/vectorian\">Vectorian</a>**, which we first introduced in 2020 (Liebl & Burghardt, 2020a/b). Using highly optimized algorithms and data structures, the Vectorian enables interactive real-time searches over the gold standard data using a variety of approaches and strategies. "
   ]
  },
  {
   "cell_type": "markdown",
   "id": "f1cb0e38",
   "metadata": {},
   "source": [
    "In order to use the Vectorian, we need to map the gold standard data to Vectorian concepts (we will highlight Vectorian API concepts `like this`). In order to gather all texts that contain some kind of text reuse, we take all contexts from the 100 gold standard phrases and use these as `Documents` in the Vectorian. A `Document` in Vectorian terminology is something we can perform a search on. `Documents` in the Vectorian are created using different kinds of `Importers` that perform necessary natural language processing tasks using an additional `NLP` class. Since this step can be time-consuming, we precomputed this step and use the `Corpus` class to quickly load these preprocessed Documents into the notebook. For details about the full preprocessing, see `code/prepare_corpus.ipynb`. "
   ]
  },
  {
   "cell_type": "markdown",
   "id": "f467944b",
   "metadata": {},
   "source": [
    "Using the loaded `Documents` and a set of `Embeddings` we want to work with, we can create a `Session` that allows us to perform intertextuality searches. More details about\n",
    "the technical architecture be build on in this notebook can be found in the [source code](https://github.com/poke1024/vectorian) and the [API Documentation](https://poke1024.github.io/vectorian/index.html) for the Vectorian."
   ]
  },
  {
   "cell_type": "markdown",
   "id": "fe62e898",
   "metadata": {},
   "source": [
    "### 2.3.1 Loading word embeddings <a class=\"anchor\" id=\"section_2_3_1\"></a>"
   ]
  },
  {
   "cell_type": "markdown",
   "id": "673a5d4b",
   "metadata": {},
   "source": [
    "In terms of static embeddings, we will work with pretrained versions of <a href=\"https://nlp.stanford.edu/projects/glove/\" target=\"_blank\">GloVe</a>, <a href=\"https://fasttext.cc/docs/en/crawl-vectors.html\" target=\"_blank\">fastText</a> and <a href=\"https://github.com/commonsense/conceptnet-numberbatch\" target=\"_blank\">Numberbatch</a>. GloVe uses a form of matrix factorization on a global co-occurence matrix to compute embeddings for a finite set of predefined tokens (Pennington et al. 2014). In contrast, fastText training operates on  local context windows (Mikolov et al., 2018). In contrast to GloVe and the earlier word2vec, fastText additionally computes embeddings on character n-grams instead of tokens, which means there are no out-of-vocabulary tokens (Mikolov et al., 2018). Different to both GloVe and fastText, which only use data from a corpus, Numberbatch embeddings additionally incorporate information from a knowledge graph (Speer et al, 2017).\n",
    "\n",
    "For reasons of limited RAM in the interactive Binder environment (and to limit download times), we use smaller or compressed versions of the official pretrained versions:\n",
    "\n",
    "* for **<a href=\"https://nlp.stanford.edu/projects/glove/\" target=\"_blank\">GloVe</a>**, we use the official 50-dimensional version of the 6B variant\n",
    "* for **<a href=\"https://fasttext.cc/docs/en/crawl-vectors.html\" target=\"_blank\">fastText</a>** we use a version that was trained on *Common Crawl* and *Wikipedia* using CBOW, and then compressed using the standard settings in https://github.com/avidale/compress-fasttext\n",
    "* for **<a href=\"https://github.com/commonsense/conceptnet-numberbatch\" target=\"_blank\">Numberbatch</a>** we use version 19.08 that was reduced into a 50-dimension version using a standard PCA\n",
    "\n",
    "We also use one **stacked embedding**, in which we combine fastText and Numberbatch. We will call this embedding `fasttext_numberbatch`.\n",
    "\n",
    "Finally we will use two contextual embeddings based on the Sentence-BERT architecture (Reimers & Gurevych, 2019). We use two models, with the second one being the newer one and - as trained for asymmetric search - more suitable to the task at hand:\n",
    "\n",
    "* the pretrained English <a href=\"https://huggingface.co/sentence-transformers/paraphrase-distilroberta-base-v1\">paraphrase_distilroberta_base_v1</a> model, which is trained for <a href=\"https://www.sbert.net/examples/applications/semantic-search/README.html\">symmetric semantic search </a>\n",
    "* the pretrained English <a href=\"https://huggingface.co/sentence-transformers/msmarco-distilbert-base-v4\">msmarco-distilbert-base-v4</a> model, which is trained for <a href=\"https://www.sbert.net/examples/applications/semantic-search/README.html\">asymmetric semantic search</a>.\n",
    "\n",
    "We refer to both models as`sbert` variants. Note many other good and suitable models representing the Sentence-BERT architecture exist.\n",
    "\n",
    "All embeddings we use in this notebook were trained from large generic corpora (i.e. no embedding was trained from the documents we search over)."
   ]
  },
  {
   "cell_type": "markdown",
   "id": "04037dac",
   "metadata": {},
   "source": [
    "We first need to instantiate a NLP parser that is capable of providing us with standard NLP tasks such as tokenization and POS tagging. Internally, we use <a href=\"https://spacy.io/\">spaCy</a> to construct a suitable parser. `nlp.pipeline` will give the fully constructed NLP pipeline in case the reader is interested."
   ]
  },
  {
   "cell_type": "code",
   "execution_count": 6,
   "id": "6d7d352e-6c64-4a2d-bb42-b8ebb8a28f1e",
   "metadata": {},
   "outputs": [],
   "source": [
    "nlp = nbutils.make_nlp()"
   ]
  },
  {
   "cell_type": "markdown",
   "id": "994ec251",
   "metadata": {},
   "source": [
    "We can now create the desired `sbert` embeddings (more specifically, a suitable class compatible with the Vectorian) as well as the other static embeddings we described earlier."
   ]
  },
  {
   "cell_type": "code",
   "execution_count": 7,
   "id": "16ef1ef5",
   "metadata": {},
   "outputs": [
    {
     "data": {
      "text/plain": [
       "['glove',\n",
       " 'fasttext',\n",
       " 'numberbatch',\n",
       " 'fasttext_numberbatch',\n",
       " 'en_paraphrase_distilroberta_base_v1',\n",
       " 'msmarco-distilbert-base-v4']"
      ]
     },
     "execution_count": 7,
     "metadata": {},
     "output_type": "execute_result"
    }
   ],
   "source": [
    "the_embeddings = nbutils.load_embeddings([\n",
    "    \"en_paraphrase_distilroberta_base_v1\",\n",
    "    \"msmarco-distilbert-base-v4\"], readonly=False)\n",
    "list(the_embeddings.keys())"
   ]
  },
  {
   "cell_type": "markdown",
   "id": "65d16656",
   "metadata": {},
   "source": [
    "### 2.3.2 Creating the session <a class=\"anchor\" id=\"section_2_3_2\"></a>"
   ]
  },
  {
   "cell_type": "markdown",
   "id": "7f2c3ada",
   "metadata": {},
   "source": [
    "The following code creates a `Session` in the Vectorian framework that will allow us to perform searches over the gold standard corpus using the desired embeddings:"
   ]
  },
  {
   "cell_type": "code",
   "execution_count": 8,
   "id": "7c2ab856",
   "metadata": {},
   "outputs": [
    {
     "data": {
      "application/vnd.jupyter.widget-view+json": {
       "model_id": "07dc7b76d3314e518094488814edbe6f",
       "version_major": 2,
       "version_minor": 0
      },
      "text/plain": [
       "Opening Corpus:   0%|          | 0/100 [00:00<?, ?it/s]"
      ]
     },
     "metadata": {},
     "output_type": "display_data"
    },
    {
     "data": {
      "application/vnd.jupyter.widget-view+json": {
       "model_id": "e52445024cc442f3b32a7d0eb9bf5143",
       "version_major": 2,
       "version_minor": 0
      },
      "text/plain": [
       "Preparing Documents:   0%|          | 0/100 [00:00<?, ?it/s]"
      ]
     },
     "metadata": {},
     "output_type": "display_data"
    }
   ],
   "source": [
    "session = vectorian.session.LabSession(\n",
    "    vectorian.corpus.Corpus(\"data/processed_data/corpus\", mutable=False),\n",
    "    embeddings=the_embeddings.values())"
   ]
  },
  {
   "cell_type": "markdown",
   "id": "5910a28b-704f-45e4-ae63-91d3ceb32fdd",
   "metadata": {},
   "source": [
    "The following line of code will speed up searches later in the notebook by loading all contextual embedding vectors into RAM."
   ]
  },
  {
   "cell_type": "code",
   "execution_count": 9,
   "id": "9d27028b-4f13-4d5a-8f6a-bc41715a6ed1",
   "metadata": {},
   "outputs": [
    {
     "data": {
      "application/vnd.jupyter.widget-view+json": {
       "model_id": "b0409910d77242979d13276234d5837b",
       "version_major": 2,
       "version_minor": 0
      },
      "text/plain": [
       "Loading Vectors:   0%|          | 0/100 [00:00<?, ?it/s]"
      ]
     },
     "metadata": {},
     "output_type": "display_data"
    }
   ],
   "source": [
    "session.cache_contextual_embeddings()"
   ]
  },
  {
   "cell_type": "markdown",
   "id": "c09829d8-c158-43b3-be08-1a76f343d3bf",
   "metadata": {},
   "source": [
    "# 3. Embeddings as a tool for intertextuality research <a class=\"anchor\" id=\"section_3\"></a>"
   ]
  },
  {
   "cell_type": "markdown",
   "id": "4e52e6c6-f0c6-47ff-934b-ec5d8d2c51e0",
   "metadata": {},
   "source": [
    "## 3.1  Exploring word embeddings <a class=\"anchor\" id=\"section_3_1\"></a>"
   ]
  },
  {
   "cell_type": "markdown",
   "id": "ec8c309d",
   "metadata": {},
   "source": [
    "### 3.1.1 An introduction to word embeddings and token similarity <a class=\"anchor\" id=\"section_3_1_1\"></a>"
   ]
  },
  {
   "cell_type": "markdown",
   "id": "936bfeb6",
   "metadata": {},
   "source": [
    "Before we dive into the acutal intertextuality analyses, we first take a brief look at the inner workings of embeddings. Mathematically speaking, a word embedding is a vector **x** of dimension *n*, i.e. a vector consisting of *n* scalars.\n",
    "\n",
    "$$\\mathbf{x}=(x_1, x_2, ..., x_{n-1}, x_n)$$\n",
    "\n",
    "For example, the compressed numberbatch embedding we use has *n*=50 and thus represents the word \"coffee\" with the following 50 scalar values:"
   ]
  },
  {
   "cell_type": "code",
   "execution_count": 10,
   "id": "474c8b2e",
   "metadata": {},
   "outputs": [
    {
     "data": {
      "application/vnd.jupyter.widget-view+json": {
       "model_id": "ed8ef02be27742ddb539d04ab6db7fbe",
       "version_major": 2,
       "version_minor": 0
      },
      "text/plain": [
       "GridBox(children=(Label(value='-0.05'), Label(value='-0.13'), Label(value='0.06'), Label(value='-0.09'), Label…"
      ]
     },
     "metadata": {},
     "output_type": "display_data"
    }
   ],
   "source": [
    "widgets.GridBox(\n",
    "    [\n",
    "        widgets.Label(f\"{x:.2f}\")\n",
    "        for x in session.word_vec(the_embeddings[\"numberbatch\"], \"coffee\")\n",
    "    ],\n",
    "    layout=widgets.Layout(grid_template_columns=\"repeat(10, 50px)\"),\n",
    ")"
   ]
  },
  {
   "cell_type": "markdown",
   "id": "9bea3512",
   "metadata": {},
   "source": [
    "Since the above representation is difficult to understand, we visualize the values of\n",
    "\n",
    "$$x_1, x_2, ..., x_{n-1}, x_n$$\n",
    "\n",
    "through different colors. By default, all values are normalized by ||**x**||&#x2082;, i.e. the dot product of these values gives the cosine similarity."
   ]
  },
  {
   "cell_type": "code",
   "execution_count": 11,
   "id": "ea9c7758",
   "metadata": {},
   "outputs": [
    {
     "data": {
      "application/vnd.jupyter.widget-view+json": {
       "model_id": "3060d9e297c442348bc9dce03a6bb43a",
       "version_major": 2,
       "version_minor": 0
      },
      "text/plain": [
       "interactive(children=(Dropdown(description='embedding', index=2, options=(('glove', <vectorian.embeddings.Word…"
      ]
     },
     "metadata": {},
     "output_type": "display_data"
    }
   ],
   "source": [
    "@interact(\n",
    "    embedding=widgets.Dropdown(\n",
    "        options=[(k, v) for k, v in the_embeddings.items() if not v.is_contextual],\n",
    "        value=the_embeddings[\"numberbatch\"],\n",
    "    ),\n",
    "    normalize=True,\n",
    ")\n",
    "def plot(embedding, normalize):\n",
    "    nbutils.plot_embedding_vectors_val(\n",
    "        [\"sail\", \"boat\", \"coffee\", \"tea\", \"guitar\", \"piano\"],\n",
    "        get_vec=lambda w: session.word_vec(embedding, w),\n",
    "        normalize=normalize,\n",
    "    )"
   ]
  },
  {
   "cell_type": "markdown",
   "id": "d59f2826",
   "metadata": {},
   "source": [
    "By looking at these color patterns, we can gain some intuitive understanding of why and how word embeddings are appropriate for word similarity calculations. For example, *sail* and *boat* both show a strong activation for dimension 27. Similarly, *guitar* and *piano* share similar values for dimension 24. The words *coffee* and *tea* also share some similar patterns for dimension 2 and dimension 49, which also set them apart from the other four words."
   ]
  },
  {
   "cell_type": "markdown",
   "id": "90ef6760",
   "metadata": {},
   "source": [
    "A common approach to compute the similarity between two word vectors **u** and **v** in this kind of high-dimensional vector spaces is to compute the cosine of the angle &theta; between the vectors, which is called **cosine similarity**:\n",
    "\n",
    "$$cos \\theta = \\frac{\\mathbf{u} \\cdot \\mathbf{v}}{||\\mathbf{u}||_2 ||\\mathbf{v}||_2} = \\frac{\\sum_1^n \\mathbf{u}_i \\mathbf{v}_i}{\\sqrt{\\sum_1^n \\mathbf{u}_i^2} \\sqrt{\\sum_1^n \\mathbf{v}_i^2}} = \\sum_1^n \\left( \\frac{\\mathbf{u}}{||\\mathbf{u}||_2} \\right)_i \\left( \\frac{\\mathbf{v}}{||\\mathbf{v}||_2} \\right)_i$$"
   ]
  },
  {
   "cell_type": "markdown",
   "id": "3d8876b1",
   "metadata": {},
   "source": [
    "A large positive value (i.e. a small &theta; between **u** and **v**) indicates higher similarity, whereas a small or even negative value (i.e. a large &theta;) indicates lower similarity. For a discussion of issues with this notion of similarity, see Faruqui et al. (2016).\n",
    "\n",
    "The visualization below encodes\n",
    "\n",
    "$$\\left( \\frac{\\mathbf{u}}{||\\mathbf{u}||_2} \\right)_i \\left( \\frac{\\mathbf{v}}{||\\mathbf{v}||_2} \\right)_i$$\n",
    "\n",
    "for different i, 1 &le; i &le; n, through colors to illustrate how different components contribute to the cosine similarity for two words. Brighter colors (orange/yellow) indicate dimensions with higher values."
   ]
  },
  {
   "cell_type": "code",
   "execution_count": 12,
   "id": "70e2ade9",
   "metadata": {},
   "outputs": [
    {
     "data": {
      "application/vnd.jupyter.widget-view+json": {
       "model_id": "3704523ff9d44c18a2d4491328636952",
       "version_major": 2,
       "version_minor": 0
      },
      "text/plain": [
       "interactive(children=(Dropdown(description='embedding', index=2, options=(('glove', <vectorian.embeddings.Word…"
      ]
     },
     "metadata": {},
     "output_type": "display_data"
    }
   ],
   "source": [
    "@interact(\n",
    "    embedding=widgets.Dropdown(\n",
    "        options=[(k, v) for k, v in the_embeddings.items() if not v.is_contextual],\n",
    "        value=the_embeddings[\"numberbatch\"],\n",
    "    )\n",
    ")\n",
    "def plot(embedding):\n",
    "    nbutils.plot_embedding_vectors_mul(\n",
    "        [(\"sail\", \"boat\"), (\"coffee\", \"tea\"), (\"guitar\", \"piano\")],\n",
    "        get_vec=lambda w: session.word_vec(embedding, w),\n",
    "    )"
   ]
  },
  {
   "cell_type": "markdown",
   "id": "ff150311",
   "metadata": {},
   "source": [
    "A comparable investigation of fastText shows similar spots of positive dimensions. The plot here is somewhat more complex due to the higher number of dimensions (*n* = 300)."
   ]
  },
  {
   "cell_type": "code",
   "execution_count": 13,
   "id": "adc1d2ed",
   "metadata": {},
   "outputs": [
    {
     "data": {
      "application/vnd.jupyter.widget-view+json": {
       "model_id": "6ee6c65b07444040a42e769b3b3c1ef8",
       "version_major": 2,
       "version_minor": 0
      },
      "text/plain": [
       "interactive(children=(Dropdown(description='embedding', index=1, options=(('glove', <vectorian.embeddings.Word…"
      ]
     },
     "metadata": {},
     "output_type": "display_data"
    }
   ],
   "source": [
    "@interact(\n",
    "    embedding=widgets.Dropdown(\n",
    "        options=[(k, v) for k, v in the_embeddings.items() if not v.is_contextual],\n",
    "        value=the_embeddings[\"fasttext\"],\n",
    "    )\n",
    ")\n",
    "def plot(embedding):\n",
    "    nbutils.plot_embedding_vectors_mul(\n",
    "        [(\"sail\", \"boat\"), (\"coffee\", \"tea\"), (\"guitar\", \"piano\")],\n",
    "        get_vec=lambda w: session.word_vec(embedding, w),\n",
    "    )"
   ]
  },
  {
   "cell_type": "markdown",
   "id": "9e9c6ff5",
   "metadata": {},
   "source": [
    "Computing the overall cosine similarity for two words is mathematically equivalent to summing up the terms in the diagram above. The overall similarity between *guitar* and *piano* is approx. 68% with the fastText embedding we use. For *guitar* and *coffee* it is significantly lower with a similarity of approx. 20%.\n"
   ]
  },
  {
   "cell_type": "code",
   "execution_count": 14,
   "id": "4b9d13ae",
   "metadata": {},
   "outputs": [
    {
     "data": {
      "text/plain": [
       "[0.68097234, 0.19857687]"
      ]
     },
     "execution_count": 14,
     "metadata": {},
     "output_type": "execute_result"
    }
   ],
   "source": [
    "from vectorian.metrics import TokenSimilarity, CosineSimilarity\n",
    "\n",
    "token_sim = TokenSimilarity(the_embeddings[\"fasttext\"], CosineSimilarity())\n",
    "\n",
    "[session.similarity(token_sim, \"guitar\", x) for x in [\"piano\", \"coffee\"]]"
   ]
  },
  {
   "cell_type": "markdown",
   "id": "5fea91e0",
   "metadata": {},
   "source": [
    "To compute the similarity between tokens of a contextual embedding, we need to reference the actual token instances within a text document."
   ]
  },
  {
   "cell_type": "code",
   "execution_count": 15,
   "id": "b45a1647",
   "metadata": {},
   "outputs": [
    {
     "data": {
      "text/plain": [
       "['legs', 'do', 0.3323735]"
      ]
     },
     "execution_count": 15,
     "metadata": {},
     "output_type": "execute_result"
    }
   ],
   "source": [
    "token_sim = TokenSimilarity(the_embeddings[\"en_paraphrase_distilroberta_base_v1\"], CosineSimilarity())\n",
    "\n",
    "a = list(session.documents[0].spans(session.partition(\"document\")))[0][2]\n",
    "b = list(session.documents[6].spans(session.partition(\"document\")))[0][5]\n",
    "[a.text, b.text, session.similarity(token_sim, a, b)]"
   ]
  },
  {
   "cell_type": "markdown",
   "id": "ee9d77e8",
   "metadata": {},
   "source": [
    "### 3.1.2 Detecting Shakespearean intertextuality through word embeddings <a class=\"anchor\" id=\"section_3_1_2\"></a>"
   ]
  },
  {
   "cell_type": "markdown",
   "id": "5c4ebd8b",
   "metadata": {},
   "source": [
    "We explore the usefulness of embeddings and token similarity with the gold standard dataset that was introduced earlier. In the following example the pattern \"the rest is silence\" is quoted as \"the rest is all but wind\". While the syntactic structure is mirrored between pattern and occurrence, the term \"silence\" is replaced with \"all but wind\". If we focus on nouns only, we can expect \"silence\" and \"wind\" to be semantically related - at least to a certain degree."
   ]
  },
  {
   "cell_type": "code",
   "execution_count": 16,
   "id": "53cb1328",
   "metadata": {},
   "outputs": [],
   "source": [
    "vis = nbutils.TokenSimPlotterFactory(session, nlp, gold_data)"
   ]
  },
  {
   "cell_type": "code",
   "execution_count": 17,
   "id": "08494bc8",
   "metadata": {},
   "outputs": [
    {
     "data": {
      "application/vnd.jupyter.widget-view+json": {
       "model_id": "35752503da274b4ea29adc7c6bec8492",
       "version_major": 2,
       "version_minor": 0
      },
      "text/plain": [
       "VBox(children=(VBox(children=(Dropdown(description='phrase:', index=3, layout=Layout(height='3em', width='50em…"
      ]
     },
     "metadata": {},
     "output_type": "display_data"
    }
   ],
   "source": [
    "plotter1 = vis.make(\"rest is silence\", \"Fig for Fortune\")"
   ]
  },
  {
   "cell_type": "markdown",
   "id": "52f2a451",
   "metadata": {},
   "source": [
    "In the following, we inspect the cosine similarity of the token \"silence\" with other tokens in the document's (\"A Fig of Fortune, 1596\") context for three different embedding models.It becomes clear that for all three embeddings there is a strong connection between \"silence\" and \"wind\". The cosine similarity is particularly high with the Numberbatch model. Nevertheless, the absolute value of 0.3 for Numberbatch is still in a rather low range. Interestingly, GloVe associates \"silence\" with \"action\", which can be understood as quite the opposite of silence. The phenomenon that embeddings sometimes cluster opposites is a common observation and can be a problem when trying to distinguish between synonyms and antonyms."
   ]
  },
  {
   "cell_type": "code",
   "execution_count": 19,
   "id": "3df8a4d6",
   "metadata": {},
   "outputs": [
    {
     "data": {
      "application/vnd.bokehjs_exec.v0+json": "",
      "text/html": [
       "\n",
       "<script id=\"4555\">\n",
       "  (function() {\n",
       "    const xhr = new XMLHttpRequest()\n",
       "    xhr.responseType = 'blob';\n",
       "    xhr.open('GET', \"http://localhost:61246/autoload.js?bokeh-autoload-element=4555&bokeh-absolute-url=http://localhost:61246&resources=none\", true);\n",
       "    \n",
       "    xhr.onload = function (event) {\n",
       "      const script = document.createElement('script');\n",
       "      const src = URL.createObjectURL(event.target.response);\n",
       "      script.src = src;\n",
       "      document.body.appendChild(script);\n",
       "    };\n",
       "    xhr.send();\n",
       "  })();\n",
       "</script>"
      ]
     },
     "metadata": {
      "application/vnd.bokehjs_exec.v0+json": {
       "server_id": "ef6801a78a78498e990f6345732f3b9c"
      }
     },
     "output_type": "display_data"
    }
   ],
   "source": [
    "plotter1(\"silence\")"
   ]
  },
  {
   "cell_type": "markdown",
   "id": "19d78987",
   "metadata": {},
   "source": [
    "In an example for the pattern \"sea of troubles\", we see that the word \"sea\" in one document is paraphrased as \"waves\", and \"troubles\" is substituted by \"troublesome\". If we take a closer look at the cosine similarities of the tokens \"sea\" and \"troubles\" with all the other tokens in the document's context, we see that they are – expectedly – rather high."
   ]
  },
  {
   "cell_type": "code",
   "execution_count": 20,
   "id": "3fb62321",
   "metadata": {},
   "outputs": [
    {
     "data": {
      "application/vnd.jupyter.widget-view+json": {
       "model_id": "29db738021a04a0da041bf991ccfa411",
       "version_major": 2,
       "version_minor": 0
      },
      "text/plain": [
       "VBox(children=(VBox(children=(Dropdown(description='phrase:', index=1, layout=Layout(height='3em', width='50em…"
      ]
     },
     "metadata": {},
     "output_type": "display_data"
    }
   ],
   "source": [
    "plotter2 = vis.make(\"sea of troubles\", \"Book of Common Prayer\")"
   ]
  },
  {
   "cell_type": "code",
   "execution_count": 22,
   "id": "5f7b8069",
   "metadata": {},
   "outputs": [
    {
     "data": {
      "application/vnd.bokehjs_exec.v0+json": "",
      "text/html": [
       "\n",
       "<script id=\"4559\">\n",
       "  (function() {\n",
       "    const xhr = new XMLHttpRequest()\n",
       "    xhr.responseType = 'blob';\n",
       "    xhr.open('GET', \"http://localhost:61247/autoload.js?bokeh-autoload-element=4559&bokeh-absolute-url=http://localhost:61247&resources=none\", true);\n",
       "    \n",
       "    xhr.onload = function (event) {\n",
       "      const script = document.createElement('script');\n",
       "      const src = URL.createObjectURL(event.target.response);\n",
       "      script.src = src;\n",
       "      document.body.appendChild(script);\n",
       "    };\n",
       "    xhr.send();\n",
       "  })();\n",
       "</script>"
      ]
     },
     "metadata": {
      "application/vnd.bokehjs_exec.v0+json": {
       "server_id": "630bdf0482864801abbfb4cf44b4ce06"
      }
     },
     "output_type": "display_data"
    }
   ],
   "source": [
    "plotter2(\"sea\")"
   ]
  },
  {
   "cell_type": "code",
   "execution_count": 24,
   "id": "97a3192d",
   "metadata": {},
   "outputs": [
    {
     "data": {
      "application/vnd.bokehjs_exec.v0+json": "",
      "text/html": [
       "\n",
       "<script id=\"4563\">\n",
       "  (function() {\n",
       "    const xhr = new XMLHttpRequest()\n",
       "    xhr.responseType = 'blob';\n",
       "    xhr.open('GET', \"http://localhost:61248/autoload.js?bokeh-autoload-element=4563&bokeh-absolute-url=http://localhost:61248&resources=none\", true);\n",
       "    \n",
       "    xhr.onload = function (event) {\n",
       "      const script = document.createElement('script');\n",
       "      const src = URL.createObjectURL(event.target.response);\n",
       "      script.src = src;\n",
       "      document.body.appendChild(script);\n",
       "    };\n",
       "    xhr.send();\n",
       "  })();\n",
       "</script>"
      ]
     },
     "metadata": {
      "application/vnd.bokehjs_exec.v0+json": {
       "server_id": "97e618e3e1204c7ba8569795ab89b6a1"
      }
     },
     "output_type": "display_data"
    }
   ],
   "source": [
    "plotter2(\"troubles\")"
   ]
  },
  {
   "cell_type": "markdown",
   "id": "5cee2f24",
   "metadata": {},
   "source": [
    "It is also interesting to investigate how out-of-vocabulary words like \"troublesomest\" produce zero similarities with standard key-value embeddings, whereas fastText is still able to produce a vector thanks to subword information."
   ]
  },
  {
   "cell_type": "code",
   "execution_count": 26,
   "id": "ac79d82c",
   "metadata": {},
   "outputs": [
    {
     "data": {
      "application/vnd.bokehjs_exec.v0+json": "",
      "text/html": [
       "\n",
       "<script id=\"4567\">\n",
       "  (function() {\n",
       "    const xhr = new XMLHttpRequest()\n",
       "    xhr.responseType = 'blob';\n",
       "    xhr.open('GET', \"http://localhost:61249/autoload.js?bokeh-autoload-element=4567&bokeh-absolute-url=http://localhost:61249&resources=none\", true);\n",
       "    \n",
       "    xhr.onload = function (event) {\n",
       "      const script = document.createElement('script');\n",
       "      const src = URL.createObjectURL(event.target.response);\n",
       "      script.src = src;\n",
       "      document.body.appendChild(script);\n",
       "    };\n",
       "    xhr.send();\n",
       "  })();\n",
       "</script>"
      ]
     },
     "metadata": {
      "application/vnd.bokehjs_exec.v0+json": {
       "server_id": "7033c6a887b846459f4b4a657d049ab4"
      }
     },
     "output_type": "display_data"
    }
   ],
   "source": [
    "plotter2(\"troublesomest\")"
   ]
  },
  {
   "cell_type": "markdown",
   "id": "b06e6051",
   "metadata": {},
   "source": [
    "## 3.2 Exploring document embeddings <a class=\"anchor\" id=\"section_3_2\"></a>"
   ]
  },
  {
   "cell_type": "markdown",
   "id": "22375ca1",
   "metadata": {},
   "source": [
    "Next, we consider the representation of each document with a single embedding to gain an understanding of how different embedding strategies relate to document similarity. We will later return to individual token embeddings.\n",
    "\n",
    "For this purpose, we will use the two strategies already mentioned for computing document embeddings:\n",
    "\n",
    "* averaging over token embeddings\n",
    "* computing document embeddings through a dedicated model"
   ]
  },
  {
   "cell_type": "markdown",
   "id": "a2cb44d3",
   "metadata": {},
   "source": [
    "In order to achieve the latter, we compute document embeddings through Sentence-BERT encoders."
   ]
  },
  {
   "cell_type": "code",
   "execution_count": 28,
   "id": "8a3a06ec",
   "metadata": {},
   "outputs": [
    {
     "data": {
      "application/vnd.bokehjs_exec.v0+json": "",
      "text/html": [
       "\n",
       "<script id=\"4570\">\n",
       "  (function() {\n",
       "    const xhr = new XMLHttpRequest()\n",
       "    xhr.responseType = 'blob';\n",
       "    xhr.open('GET', \"http://localhost:61250/autoload.js?bokeh-autoload-element=4570&bokeh-absolute-url=http://localhost:61250&resources=none\", true);\n",
       "    \n",
       "    xhr.onload = function (event) {\n",
       "      const script = document.createElement('script');\n",
       "      const src = URL.createObjectURL(event.target.response);\n",
       "      script.src = src;\n",
       "      document.body.appendChild(script);\n",
       "    };\n",
       "    xhr.send();\n",
       "  })();\n",
       "</script>"
      ]
     },
     "metadata": {
      "application/vnd.bokehjs_exec.v0+json": {
       "server_id": "0b2c78775e20479e97bec39313edc12d"
      }
     },
     "output_type": "display_data"
    }
   ],
   "source": [
    "doc_encoders = nbutils.make_doc_encoders(the_embeddings, session)\n",
    "\n",
    "embedder = nbutils.DocEmbedder(\n",
    "    session=session,\n",
    "    nlp=nlp,\n",
    "    doc_encoders=doc_encoders,\n",
    "    encoder=\"paraphrase_distilroberta\",\n",
    ")\n",
    "embedder.display()"
   ]
  },
  {
   "cell_type": "markdown",
   "id": "db0755a1",
   "metadata": {},
   "source": [
    "Similar to the investigation of token embedding values, we now look at the feature dimensions of the document embeddings. In the following plot we observe that the pattern \"an old man is twice a child\" and the corresponding text reuses from the gold standard (i.e. the true positives) show some salient contribution around dimensions 25 and 300 (see the 5 upper rows). When comparing the same pattern with non-matching text reuse occurences from the \"go, by Saint Hieronimo\" pattern on the other hand (see the 5 lower rows), there is less activation in these areas. Therefore these areas seem to offer some good features to differentiate the matching of a pattern with the correct occurrences."
   ]
  },
  {
   "cell_type": "code",
   "execution_count": 29,
   "id": "2d2e9473",
   "metadata": {},
   "outputs": [
    {
     "data": {
      "application/vnd.jupyter.widget-view+json": {
       "model_id": "75854017340b4b6b9250ab8ee216fd76",
       "version_major": 2,
       "version_minor": 0
      },
      "text/plain": [
       "interactive(children=(Dropdown(description='pattern', index=4, layout=Layout(width='max-content'), options=('t…"
      ]
     },
     "metadata": {},
     "output_type": "display_data"
    }
   ],
   "source": [
    "bars = nbutils.DocEmbeddingBars(embedder, session, gold_data)\n",
    "bars.plot(\"an old man is twice a child\", \"Saint Hieronimo\")"
   ]
  },
  {
   "cell_type": "markdown",
   "id": "cc59876d",
   "metadata": {},
   "source": [
    "Instead of focusing on only one pattern, we now look at a plot of the embeddings of all documents in our gold standard data. The plot uses a dimensionality reduction technique known as t-Distributed Stochastic Neighbor Embedding (t-SNE) and allows us to reduce multiple dimensions to just two dimensions."
   ]
  },
  {
   "cell_type": "code",
   "execution_count": 31,
   "id": "6a3a0c1c",
   "metadata": {},
   "outputs": [
    {
     "data": {
      "application/vnd.bokehjs_exec.v0+json": "",
      "text/html": [
       "\n",
       "<script id=\"5022\">\n",
       "  (function() {\n",
       "    const xhr = new XMLHttpRequest()\n",
       "    xhr.responseType = 'blob';\n",
       "    xhr.open('GET', \"http://localhost:61256/autoload.js?bokeh-autoload-element=5022&bokeh-absolute-url=http://localhost:61256&resources=none\", true);\n",
       "    \n",
       "    xhr.onload = function (event) {\n",
       "      const script = document.createElement('script');\n",
       "      const src = URL.createObjectURL(event.target.response);\n",
       "      script.src = src;\n",
       "      document.body.appendChild(script);\n",
       "    };\n",
       "    xhr.send();\n",
       "  })();\n",
       "</script>"
      ]
     },
     "metadata": {
      "application/vnd.bokehjs_exec.v0+json": {
       "server_id": "dc1e3b62aaef40e5a65a2fa13affe803"
      }
     },
     "output_type": "display_data"
    }
   ],
   "source": [
    "doc_embedding_explorer = nbutils.DocEmbeddingExplorer(\n",
    "    session=session,\n",
    "    nlp=nlp,\n",
    "    gold=gold_data,\n",
    "    doc_encoders=doc_encoders,\n",
    ")\n",
    "\n",
    "doc_embedding_explorer.plot(\n",
    "    [\n",
    "        {\n",
    "            \"encoder\": \"paraphrase_distilroberta\",\n",
    "            \"locator\": (\"fixed\", \"carry coals\")\n",
    "        },\n",
    "        {\n",
    "            \"encoder\": \"paraphrase_distilroberta\",\n",
    "            \"locator\": (\"fixed\", \"an old man is twice\"),\n",
    "        },\n",
    "    ]\n",
    ")\n",
    "\n",
    "pass"
   ]
  },
  {
   "cell_type": "markdown",
   "id": "247dee41",
   "metadata": {},
   "source": [
    "In the t-SNE visualization above, the dots represent documents and the colors represent the query that results in this document in our gold standard (more details on the underlying documents are shown when hovering the mouse cursor over the nodes). Dots that are close to each other indicate that the underlying documents share a certain similarity. Nearby dots of the same color indicate that the embedding tends to cluster documents similar to our gold standard."
   ]
  },
  {
   "cell_type": "markdown",
   "id": "d8d40738",
   "metadata": {},
   "source": [
    "In the left plot, we searched for the phrase \"we will not carry coals\" (visualized as large yellow circle with a cross). The plot shows that the query is in fact part of a document cluster (smaller green-yellow circles) that contains a variation of that phrase. Similarly, on the right we see that the phrase \"an old man is twice a child\" clusters with the actual (green) documents we associate with it in our gold standard.\n",
    "\n",
    "For these phrases and documents, the `paraphrase_distilroberta` model automatically produces a document embedding that actually recognizes and separates inherent structures."
   ]
  },
  {
   "cell_type": "markdown",
   "id": "118dd3d5",
   "metadata": {},
   "source": [
    "In the plot above we looked at the document embedding produced by a **token-based** embedding. This has the advantage that we can actually look at token embeddings that make up the document embedding (through averaging), which we will do in the following plot. On the right side, we see a t-SNE plot of all the token embeddings that occur in the documents that are selected on the left. This visualization makes more transparent why certain documents on the left are clustered to be similar."
   ]
  },
  {
   "cell_type": "code",
   "execution_count": 33,
   "id": "13942a2e",
   "metadata": {},
   "outputs": [
    {
     "data": {
      "application/vnd.bokehjs_exec.v0+json": "",
      "text/html": [
       "\n",
       "<script id=\"5622\">\n",
       "  (function() {\n",
       "    const xhr = new XMLHttpRequest()\n",
       "    xhr.responseType = 'blob';\n",
       "    xhr.open('GET', \"http://localhost:61257/autoload.js?bokeh-autoload-element=5622&bokeh-absolute-url=http://localhost:61257&resources=none\", true);\n",
       "    \n",
       "    xhr.onload = function (event) {\n",
       "      const script = document.createElement('script');\n",
       "      const src = URL.createObjectURL(event.target.response);\n",
       "      script.src = src;\n",
       "      document.body.appendChild(script);\n",
       "    };\n",
       "    xhr.send();\n",
       "  })();\n",
       "</script>"
      ]
     },
     "metadata": {
      "application/vnd.bokehjs_exec.v0+json": {
       "server_id": "746fe385c31046ff8216a688102c4c17"
      }
     },
     "output_type": "display_data"
    }
   ],
   "source": [
    "doc_embedding_explorer.plot(\n",
    "    [\n",
    "        {\n",
    "            \"encoder\": \"numberbatch\",\n",
    "            \"selection\": [\n",
    "                \"ww_32c26a7909c83bda\",\n",
    "                \"ww_b5b8083a6a1282bc\",\n",
    "                \"ww_9a6cb20b0b157545\",\n",
    "                \"ww_a6f4b0e3428ad510\",\n",
    "                \"ww_8e68a517bc3ecceb\",\n",
    "            ],\n",
    "        }\n",
    "    ]\n",
    ")\n",
    "\n",
    "pass"
   ]
  },
  {
   "cell_type": "markdown",
   "id": "d3cda845",
   "metadata": {},
   "source": [
    "The red circles on the left represent contexts that match the phrase \"a horse, a horse, my kingdom for a horse\". When we look at the token embeddings in the right plot (that includes other documents as well), we  see that a group is formed due to word embeddings that cluster around \"horse\", but we also see a cluster around \"boat\", \"sail\" and \"river\" on the left. In fact document 1 contains \"muscle boat\", document 2 contains \"To swim the river villain\", and document 3 contains \"A boat, a boat\". We see that this kind of unsupervised document clustering groups items due to inherent qualities that might not actually match the initial query criteria."
   ]
  },
  {
   "cell_type": "markdown",
   "id": "e5041ac3",
   "metadata": {},
   "source": [
    "Custom token embedding plots can be generated by selecting different documents from the left plot (drag the mouse to lasso)."
   ]
  },
  {
   "cell_type": "markdown",
   "id": "0c10659f",
   "metadata": {},
   "source": [
    "## 3.3 Exploring word mappings: WSB vs. WMD <a class=\"anchor\" id=\"section_3_3\"></a>"
   ]
  },
  {
   "cell_type": "markdown",
   "id": "1c044ad9",
   "metadata": {},
   "source": [
    "So far, we have experimented with different token embeddings and seen how similarity comparison can be implemented for single tokens. However, for the detection of intertextual references it is necessary to compare longer token sequences with each other. The problem here is to identify the right segment in the target text, because a quotation like \"to be or not to be\" will occur as a local phenomenon, only at a certain position in a document. The rest of the document will likely be sentences that do not match with the quote phrase at all. To identify the segment where a potential quote occurs, there are different approaches. "
   ]
  },
  {
   "cell_type": "markdown",
   "id": "16977478",
   "metadata": {},
   "source": [
    "One popular class of techniques are sequence alignment algorithms as well as adjacent approaches like Dynamic Time Warping, see Kruskal (1983). In this section, we introduce the **<a href=\"http://rna.informatik.uni-freiburg.de/Teaching/index.jsp?toolName=Waterman-Smith-Beyer\" target=\"_blank\">Waterman-Smith-Beyer</a> (WSB)** algorithm, which produces optimal local alignments and provides a general (e.g. non-affine) cost function (Waterman, Smith & Beyer, 1974). Other commonly used global alignment algorithms - such as <a href=\"http://rna.informatik.uni-freiburg.de/Teaching/index.jsp?toolName=Smith-Waterman\" target=\"_blank\">Smith-Waterman</a> and <a href=\"http://rna.informatik.uni-freiburg.de/Teaching/index.jsp?toolName=Gotoh\" target=\"_blank\">Gotoh</a> - can be regarded as special cases of WSB. In comparison to the popular Needleman-Wunsch global alignment algorithm, WSB produces local alignments. In contrast to classic formulations of WSB - which often use a fixed substitution cost - we use the word distance from word embeddings to compute the substitution penalty for specific pairs of words."
   ]
  },
  {
   "cell_type": "markdown",
   "id": "03983ce2",
   "metadata": {},
   "source": [
    "Another approach to compute a measure of similarity between bags of words is the so-called **<a href=\"https://nbviewer.jupyter.org/github/vene/vene.github.io/blob/pelican/content/blog/word-movers-distance-in-python.ipynb\" target=\"_blank\">Word Mover's Distance</a>** introduced by Kusner et al. (2015). The main idea is computing similarity through finding the optimal solution of a transportation problem between words.\n",
    "\n",
    "In the following, we will actually experiment with two variants of the WMD. In addition to the classic WMD, where a transportation problem is solved over the normalized bag of words (nbow) vector, we also introduce a new variant of WMD. In this new variant, we keep the bag of words (bow) unnormalized, i.e. we pose the transportation problem on absolute word occurrence counts."
   ]
  },
  {
   "cell_type": "markdown",
   "id": "cd2e18bd",
   "metadata": {},
   "source": [
    "Note: document embeddings do not need any of the above techniques, as they embed documents into a vector space in a way that queries and target documents that share similar features are close to each other in that space."
   ]
  },
  {
   "cell_type": "markdown",
   "id": "351b6557",
   "metadata": {},
   "source": [
    "### 3.3.1 Mapping quote queries to longer text documents <a class=\"anchor\" id=\"section_3_3_1\"></a>"
   ]
  },
  {
   "cell_type": "code",
   "execution_count": 34,
   "id": "58f33423",
   "metadata": {},
   "outputs": [],
   "source": [
    "def make_index_builder(nlp, **kwargs):\n",
    "    return nbutils.InteractiveIndexBuilder(\n",
    "        session, nlp,\n",
    "        partition_encoders=dict((k, v.encoder) for k, v in doc_encoders.items()),\n",
    "        **kwargs)"
   ]
  },
  {
   "cell_type": "code",
   "execution_count": 35,
   "id": "3448bfae",
   "metadata": {},
   "outputs": [
    {
     "data": {
      "application/vnd.jupyter.widget-view+json": {
       "model_id": "027e82216f694086a47e18b803237263",
       "version_major": 2,
       "version_minor": 0
      },
      "text/plain": [
       "Tab(children=(HTML(value='<span style=\"line-height:normal;\"><p>Partition similarity is computed via <b>alignme…"
      ]
     },
     "metadata": {},
     "output_type": "display_data"
    }
   ],
   "source": [
    "index_builder = make_index_builder(nlp)\n",
    "index_builder"
   ]
  },
  {
   "cell_type": "markdown",
   "id": "525a45d8",
   "metadata": {},
   "source": [
    "What can be seen above is the description of a search strategy that we will employ in the following sections of this notebook. By switching to the \"Edit\" part, it is possible to explore the settings in more detail and even change them to something completely different. Note that various parameters in the \"Edit\" GUI - e.g. mixing of embeddings - are beyond the scope of this notebook. For for more details see Liebl & Burghardt (2020a/b)."
   ]
  },
  {
   "cell_type": "markdown",
   "id": "afeab1a4",
   "metadata": {},
   "source": [
    "Example: For the pattern \"old men's crotchets\" we find the following top matches (\"We old men have our crotchets\"), with a similarity score of 77.7%. By increasing the n value we can always display more ranked results."
   ]
  },
  {
   "cell_type": "code",
   "execution_count": 36,
   "id": "2e79f163",
   "metadata": {},
   "outputs": [
    {
     "data": {
      "text/html": [
       "\n",
       "\t<iframe\n",
       "\t\tid=\"vectorian-1633053876975484000-11286877712-1\"\n",
       "\t\twidth=\"100%\"\n",
       "\t\theight=\"100%\"\n",
       "\t\tsrcdoc=\"&lt;!DOCTYPE html&gt;&lt;html&gt;&lt;head&gt;&lt;meta charset=&quot;utf-8&quot;&gt;&lt;meta name=&quot;viewport&quot; content=&quot;width=device-width, initial-scale=1&quot;&gt;&lt;link rel=&quot;stylesheet&quot; href=&quot;https://cdn.jsdelivr.net/npm/bulma@0.9.1/css/bulma.min.css&quot; /&gt;&lt;/head&gt;&lt;body&gt;&lt;div class=&quot;container&quot; height=&quot;100%&quot;&gt;&lt;div class=&quot;section&quot;&gt;&lt;article class=&quot;media&quot;&gt;&lt;div class=&quot;media-left&quot;&gt;&lt;p class=&quot;image is-64x64&quot;&gt;&lt;span class=&quot;buttons&quot;&gt;&lt;span class=&quot;has-text-weight-bold&quot;&gt;77.7%&lt;/span&gt;&lt;/span&gt;&lt;/p&gt;&lt;/div&gt;&lt;div class=&quot;media-content&quot;&gt;&lt;div class=&quot;is-pulled-right&quot;&gt;&lt;small&gt;Lording Barry&lt;/small&gt;&lt;small class=&quot;is-italic&quot;&gt;, Ram Alley (1608)&lt;/small&gt;&lt;/div&gt;&lt;div&gt;&lt;br /&gt;&lt;br /&gt;&lt;span&gt;&lt;span class=&quot;has-text-grey-light&quot;&gt;Sir Oliver Smallshank:] We &lt;/span&gt; &lt;span&gt;&lt;span style=&quot;display:inline-table;&quot;&gt;&lt;span style=&quot;display:table-row;&quot;&gt;&lt;span style=&quot;display:table-cell;&quot;&gt;&lt;span class=&quot;has-text-black has-text-weight-bold&quot;&gt;old&lt;/span&gt; &lt;/span&gt;&lt;span style=&quot;display:table-cell;&quot;&gt;&lt;span class=&quot;tag is-light&quot;&gt;old&lt;/span&gt; &lt;/span&gt;&lt;span style=&quot;display:table-cell; opacity:1.0;&quot;&gt;&lt;span class=&quot;tag is-success&quot;&gt;100%&lt;/span&gt;&lt;/span&gt;&lt;/span&gt;&lt;/span&gt;&lt;/span&gt; &lt;span&gt;&lt;span style=&quot;display:inline-table;&quot;&gt;&lt;span style=&quot;display:table-row;&quot;&gt;&lt;span style=&quot;display:table-cell;&quot;&gt;&lt;span class=&quot;has-text-black has-text-weight-bold&quot;&gt;men&lt;/span&gt; &lt;/span&gt;&lt;span style=&quot;display:table-cell;&quot;&gt;&lt;span class=&quot;tag is-light&quot;&gt;men&lt;/span&gt; &lt;/span&gt;&lt;span style=&quot;display:table-cell; opacity:1.0;&quot;&gt;&lt;span class=&quot;tag is-success&quot;&gt;100%&lt;/span&gt;&lt;/span&gt;&lt;/span&gt;&lt;/span&gt;&lt;/span&gt; &lt;span class=&quot;has-text-grey-light&quot;&gt;have &lt;/span&gt; &lt;span&gt;&lt;span style=&quot;display:inline-table;&quot;&gt;&lt;span style=&quot;display:table-row;&quot;&gt;&lt;span style=&quot;display:table-cell;&quot;&gt;&lt;span class=&quot;has-text-black has-text-weight-bold&quot;&gt;our&lt;/span&gt; &lt;/span&gt;&lt;span style=&quot;display:table-cell;&quot;&gt;&lt;span class=&quot;tag is-light&quot;&gt;&#x27;s&lt;/span&gt; &lt;/span&gt;&lt;span style=&quot;display:table-cell; opacity:1.0;&quot;&gt;&lt;span class=&quot;tag is-warning&quot;&gt;31%&lt;/span&gt;&lt;/span&gt;&lt;/span&gt;&lt;/span&gt;&lt;/span&gt; &lt;span&gt;&lt;span style=&quot;display:inline-table;&quot;&gt;&lt;span style=&quot;display:table-row;&quot;&gt;&lt;span style=&quot;display:table-cell;&quot;&gt;&lt;span class=&quot;has-text-black has-text-weight-bold&quot;&gt;crotchets&lt;/span&gt; &lt;/span&gt;&lt;span style=&quot;display:table-cell;&quot;&gt;&lt;span class=&quot;tag is-light&quot;&gt;crotchets&lt;/span&gt; &lt;/span&gt;&lt;span style=&quot;display:table-cell; opacity:1.0;&quot;&gt;&lt;span class=&quot;tag is-success&quot;&gt;100%&lt;/span&gt;&lt;/span&gt;&lt;/span&gt;&lt;/span&gt;&lt;/span&gt; &lt;span class=&quot;has-text-grey-light&quot;&gt;our conundrums, Our fegares, quirks and quibibles, As well as &lt;/span&gt;&lt;/span&gt;&lt;/div&gt;&lt;/div&gt;&lt;/article&gt;&lt;article class=&quot;media&quot;&gt;&lt;div class=&quot;media-left&quot;&gt;&lt;p class=&quot;image is-64x64&quot;&gt;&lt;span class=&quot;buttons&quot;&gt;&lt;span class=&quot;has-text-weight-bold&quot;&gt;51.9%&lt;/span&gt;&lt;/span&gt;&lt;/p&gt;&lt;/div&gt;&lt;div class=&quot;media-content&quot;&gt;&lt;div class=&quot;is-pulled-right&quot;&gt;&lt;small&gt;John Milton&lt;/small&gt;&lt;small class=&quot;is-italic&quot;&gt;, Samson Agonistes (1671)&lt;/small&gt;&lt;/div&gt;&lt;div&gt;&lt;br /&gt;&lt;br /&gt;&lt;span&gt;&lt;span class=&quot;has-text-grey-light&quot;&gt;revealed, and should not. Nor shouldst thou have trusted that &lt;/span&gt; &lt;span&gt;&lt;span style=&quot;display:inline-table;&quot;&gt;&lt;span style=&quot;display:table-row;&quot;&gt;&lt;span style=&quot;display:table-cell;&quot;&gt;&lt;span class=&quot;has-text-black has-text-weight-bold&quot;&gt;to&lt;/span&gt; &lt;/span&gt;&lt;span style=&quot;display:table-cell;&quot;&gt;&lt;span class=&quot;tag is-light&quot;&gt;old&lt;/span&gt; &lt;/span&gt;&lt;span style=&quot;display:table-cell; opacity:1.0;&quot;&gt;&lt;span class=&quot;tag is-warning&quot;&gt;15%&lt;/span&gt;&lt;/span&gt;&lt;/span&gt;&lt;/span&gt;&lt;/span&gt; &lt;span&gt;&lt;span style=&quot;display:inline-table;&quot;&gt;&lt;span style=&quot;display:table-row;&quot;&gt;&lt;span style=&quot;display:table-cell;&quot;&gt;&lt;span class=&quot;has-text-black has-text-weight-bold&quot;&gt;woman&lt;/span&gt; &lt;/span&gt;&lt;span style=&quot;display:table-cell;&quot;&gt;&lt;span class=&quot;tag is-light&quot;&gt;men&lt;/span&gt; &lt;/span&gt;&lt;span style=&quot;display:table-cell; opacity:1.0;&quot;&gt;&lt;span class=&quot;tag is-warning&quot;&gt;52%&lt;/span&gt;&lt;/span&gt;&lt;/span&gt;&lt;/span&gt;&lt;/span&gt; &lt;span&gt;&lt;span style=&quot;display:inline-table;&quot;&gt;&lt;span style=&quot;display:table-row;&quot;&gt;&lt;span style=&quot;display:table-cell;&quot;&gt;&lt;span class=&quot;has-text-black has-text-weight-bold&quot;&gt;&amp;#x27;s&lt;/span&gt; &lt;/span&gt;&lt;span style=&quot;display:table-cell;&quot;&gt;&lt;span class=&quot;tag is-light&quot;&gt;&#x27;s&lt;/span&gt; &lt;/span&gt;&lt;span style=&quot;display:table-cell; opacity:1.0;&quot;&gt;&lt;span class=&quot;tag is-success&quot;&gt;100%&lt;/span&gt;&lt;/span&gt;&lt;/span&gt;&lt;/span&gt;&lt;/span&gt; &lt;span&gt;&lt;span style=&quot;display:inline-table;&quot;&gt;&lt;span style=&quot;display:table-row;&quot;&gt;&lt;span style=&quot;display:table-cell;&quot;&gt;&lt;span class=&quot;has-text-black has-text-weight-bold&quot;&gt;frailty&lt;/span&gt; &lt;/span&gt;&lt;span style=&quot;display:table-cell;&quot;&gt;&lt;span class=&quot;tag is-light&quot;&gt;crotchets&lt;/span&gt; &lt;/span&gt;&lt;span style=&quot;display:table-cell; opacity:1.0;&quot;&gt;&lt;span class=&quot;tag is-warning&quot;&gt;40%&lt;/span&gt;&lt;/span&gt;&lt;/span&gt;&lt;/span&gt;&lt;/span&gt; &lt;span class=&quot;has-text-grey-light&quot;&gt;Ere I to thee, thou to thyself wast cruel&lt;/span&gt;&lt;/span&gt;&lt;/div&gt;&lt;/div&gt;&lt;/article&gt;&lt;/div&gt;&lt;/div&gt;&lt;/body&gt;&lt;/html&gt;&lt;script&gt;\n",
       "\t\t(function() {\n",
       "\t\t\tvar f = parent.document.getElementById(&#x27;vectorian-1633053876975484000-11286877712-1&#x27;);\n",
       "\t\t\tf.height = f.contentWindow.document.body.scrollHeight + &#x27;px&#x27;;\n",
       "\t\t})();\n",
       "\t&lt;/script&gt;\"\n",
       "\t\tonload=\"\n",
       "\t\t(function() {\n",
       "\t\t\tvar f = parent.document.getElementById('vectorian-1633053876975484000-11286877712-1');\n",
       "\t\t\tf.height = f.contentWindow.document.body.scrollHeight + 'px';\n",
       "\t\t})();\n",
       "\t\"\n",
       "\t\tframeborder=\"0\"\n",
       "\t\tallowfullscreen\n",
       "\t></iframe>\n",
       "\t"
      ],
      "text/plain": [
       "<vectorian.session.LabResult at 0x2a0b8fb50>"
      ]
     },
     "execution_count": 36,
     "metadata": {},
     "output_type": "execute_result"
    }
   ],
   "source": [
    "index_builder.build_index().find(\"old men's crotchets\", n=2)"
   ]
  },
  {
   "cell_type": "markdown",
   "id": "c70e87a9",
   "metadata": {},
   "source": [
    "### 3.3.2 Evaluation: Plotting the nDCG over the corpus <a class=\"anchor\" id=\"section_3_3_2\"></a>"
   ]
  },
  {
   "cell_type": "markdown",
   "id": "d56b2b2f",
   "metadata": {},
   "source": [
    "In the following we will systematically evaluate different strategies for identifying intertextuality in our gold standard data. We investigate WSB and the two variants of WMD (bow vs. nbow) in combination with the fastText embedding. As another variant we evaluate the performance of Sentence-BERT document embeddings. The evaluation metric is **normalized discounted cumulative gain** [(nDCG)](https://en.wikipedia.org/wiki/Discounted_cumulative_gain) (also see Liebl & Burghardt, 2020b).\n",
    "\n",
    "Each specific query (on a *phrase*) operates on a corpus consisting of a set of documents\n",
    "\n",
    "$D = d_1, ..., d_n$\n",
    "\n",
    "In our case n = 100. Furthermore, we call the set of relevant document for this query R, with\n",
    "\n",
    "$R = r_1, ..., r_k$\n",
    "\n",
    "In other words, R models the ground truth as the results we regard as optimal for a specific query. In our case R is the set of *occurence*s stored for the queried *phrase* in our ground truth.\n",
    "\n",
    "If the documents we actually retrieve are numbered\n",
    "\n",
    "$x_1, ..., x_n$\n",
    "\n",
    "in order of their score (highest first), then the nDCG for that specific retrieval is defined as follows:"
   ]
  },
  {
   "cell_type": "markdown",
   "id": "302b969a-7562-4ac5-bec3-3150514cd7ec",
   "metadata": {},
   "source": [
    "$$\n",
    "rel_i=\\begin{cases}\n",
    "    1 & \\text{if } x_i \\in R,\\\\\n",
    "    0 & \\text{if } x_i \\notin R,\n",
    "  \\end{cases}, \\hspace{1em}\n",
    "DCG_n=\\sum_{i=1}^{n}\\frac{rel_i}{log_2 (i+1)}, \\hspace{1em}\n",
    "IDCG_k=\\sum_{i=1}^{k}\\frac{1}{log_2 (i+1)}, \\hspace{1em}\n",
    "nDCG=\\frac{DCG_n}{IDCG_k}\n",
    "$$"
   ]
  },
  {
   "cell_type": "markdown",
   "id": "f22449b9",
   "metadata": {},
   "source": [
    "In the summary below you will find more detailed descriptions of the search strategies that will be evaluated in the following. By using \"Edit\", it is possible to change these settings to something else (a rerun of the following sections of the notebook would then be necessary)."
   ]
  },
  {
   "cell_type": "code",
   "execution_count": 37,
   "id": "203ab1e3",
   "metadata": {},
   "outputs": [
    {
     "data": {
      "application/vnd.jupyter.widget-view+json": {
       "model_id": "046598ba779548248915753a45355e1e",
       "version_major": 2,
       "version_minor": 0
      },
      "text/plain": [
       "Accordion(children=(Tab(children=(HTML(value='<span style=\"line-height:normal;\"><p>Partition similarity is com…"
      ]
     },
     "metadata": {},
     "output_type": "display_data"
    }
   ],
   "source": [
    "import collections\n",
    "import ipywidgets as widgets\n",
    "\n",
    "# define 4 different search stratgies via make_index_builder \n",
    "index_builders = collections.OrderedDict(\n",
    "    {\n",
    "        \"wsb\": make_index_builder(\n",
    "            nlp,\n",
    "            strategy=\"Alignment\",\n",
    "            strategy_options={\n",
    "                \"alignment\": vectorian.alignment.LocalAlignment(\n",
    "                    gap={\n",
    "                        \"s\": vectorian.alignment.smooth_gap_cost(5),\n",
    "                        \"t\": vectorian.alignment.smooth_gap_cost(5)\n",
    "                    }\n",
    "                )\n",
    "            },\n",
    "        ),\n",
    "        \"wmd nbow\": make_index_builder(\n",
    "            nlp,\n",
    "            strategy=\"Alignment\",\n",
    "            strategy_options={\n",
    "                \"alignment\": vectorian.alignment.WordMoversDistance.wmd(\"nbow\")\n",
    "            },\n",
    "        ),\n",
    "        \"wmd bow\": make_index_builder(\n",
    "            nlp,\n",
    "            strategy=\"Alignment\",\n",
    "            strategy_options={\n",
    "                \"alignment\": vectorian.alignment.WordMoversDistance.wmd(\"bow\")\n",
    "            },\n",
    "        ),\n",
    "        \"doc sbert paraphrase\": make_index_builder(\n",
    "            the_embeddings[\"en_paraphrase_distilroberta_base_v1\"].nlp,\n",
    "            strategy=\"Partition Embedding\",\n",
    "            strategy_options={\"encoder_index\": 0}),\n",
    "        \"doc sbert msmarco\": make_index_builder(\n",
    "            the_embeddings[\"msmarco-distilbert-base-v4\"].nlp,\n",
    "            strategy=\"Partition Embedding\",\n",
    "            strategy_options={\"encoder_index\": 1}),\n",
    "    }\n",
    ")\n",
    "\n",
    "# present UI of various options that allows for editing\n",
    "accordion = widgets.Accordion(children=[x.displayable for x in index_builders.values()])\n",
    "for i, k in enumerate(index_builders.keys()):\n",
    "    accordion.set_title(i, k)\n",
    "accordion"
   ]
  },
  {
   "cell_type": "markdown",
   "id": "4b5bf126",
   "metadata": {},
   "source": [
    "With the following command we will get an overview of the quality of the results we obtain when using the index configures with `index_builder` by computing the nDCG over the 20 queries in our gold standard with regard to the known optimal results (this may take a few seconds)."
   ]
  },
  {
   "cell_type": "code",
   "execution_count": 38,
   "id": "d34c972d",
   "metadata": {},
   "outputs": [
    {
     "data": {
      "application/vnd.jupyter.widget-view+json": {
       "model_id": "164f37332b414583a366dbe1585ea48f",
       "version_major": 2,
       "version_minor": 0
      },
      "text/plain": [
       "  0%|          | 0/100 [00:00<?, ?it/s]"
      ]
     },
     "metadata": {},
     "output_type": "display_data"
    },
    {
     "data": {
      "text/html": [
       "\n",
       "\n",
       "\n",
       "\n",
       "\n",
       "\n",
       "  <div class=\"bk-root\" id=\"b2de05e5-b052-4e08-8826-e8554bf980cd\" data-root-id=\"6200\"></div>\n"
      ]
     },
     "metadata": {},
     "output_type": "display_data"
    },
    {
     "data": {
      "application/javascript": [
       "(function(root) {\n",
       "  function embed_document(root) {\n",
       "    \n",
       "  const docs_json = {\"fa199076-5640-489c-976d-720f40f6674d\":{\"defs\":[],\"roots\":{\"references\":[{\"attributes\":{\"below\":[{\"id\":\"6210\"}],\"center\":[{\"id\":\"6213\"},{\"id\":\"6216\"},{\"id\":\"6227\"}],\"height\":2000,\"left\":[{\"id\":\"6214\"}],\"renderers\":[{\"id\":\"6225\"}],\"title\":{\"id\":\"6201\"},\"toolbar\":{\"id\":\"6217\"},\"toolbar_location\":null,\"width\":800,\"x_range\":{\"id\":\"6218\"},\"x_scale\":{\"id\":\"6206\"},\"y_range\":{\"id\":\"6199\"},\"y_scale\":{\"id\":\"6208\"}},\"id\":\"6200\",\"subtype\":\"Figure\",\"type\":\"Plot\"},{\"attributes\":{},\"id\":\"6206\",\"type\":\"LinearScale\"},{\"attributes\":{},\"id\":\"6211\",\"type\":\"BasicTicker\"},{\"attributes\":{\"source\":{\"id\":\"6219\"}},\"id\":\"6226\",\"type\":\"CDSView\"},{\"attributes\":{},\"id\":\"6594\",\"type\":\"AllLabels\"},{\"attributes\":{\"fill_alpha\":{\"value\":0.1},\"fill_color\":{\"field\":\"color\",\"transform\":{\"id\":\"6220\"}},\"hatch_alpha\":{\"value\":0.1},\"hatch_color\":{\"field\":\"color\",\"transform\":{\"id\":\"6220\"}},\"line_alpha\":{\"value\":0.1},\"line_color\":{\"field\":\"color\",\"transform\":{\"id\":\"6220\"}},\"right\":{\"field\":\"ndcg\"},\"y\":{\"field\":\"phrase\"}},\"id\":\"6223\",\"type\":\"HBar\"},{\"attributes\":{},\"id\":\"6590\",\"type\":\"CategoricalTickFormatter\"},{\"attributes\":{},\"id\":\"6593\",\"type\":\"BasicTickFormatter\"},{\"attributes\":{\"coordinates\":null,\"group\":null,\"level\":\"glyph\",\"source\":{\"id\":\"6219\"},\"text\":{\"field\":\"ndcg_str\"},\"text_align\":{\"value\":\"right\"},\"text_baseline\":{\"value\":\"middle\"},\"text_color\":{\"value\":\"white\"},\"text_font_size\":{\"value\":\"8pt\"},\"x\":{\"field\":\"ndcg\"},\"y\":{\"field\":\"phrase\"}},\"id\":\"6227\",\"type\":\"LabelSet\"},{\"attributes\":{\"coordinates\":null,\"group\":null},\"id\":\"6201\",\"type\":\"Title\"},{\"attributes\":{\"coordinates\":null,\"formatter\":{\"id\":\"6590\"},\"group\":null,\"group_label_orientation\":0,\"major_label_policy\":{\"id\":\"6591\"},\"ticker\":{\"id\":\"6215\"}},\"id\":\"6214\",\"type\":\"CategoricalAxis\"},{\"attributes\":{},\"id\":\"6591\",\"type\":\"AllLabels\"},{\"attributes\":{\"axis\":{\"id\":\"6210\"},\"coordinates\":null,\"group\":null,\"ticker\":null},\"id\":\"6213\",\"type\":\"Grid\"},{\"attributes\":{},\"id\":\"6595\",\"type\":\"UnionRenderers\"},{\"attributes\":{\"high\":1,\"low\":0,\"palette\":[\"#66c2a5\",\"#fc8d62\",\"#8da0cb\",\"#e78ac3\",\"#a6d854\"]},\"id\":\"6220\",\"type\":\"LinearColorMapper\"},{\"attributes\":{},\"id\":\"6208\",\"type\":\"CategoricalScale\"},{\"attributes\":{\"fill_color\":{\"field\":\"color\",\"transform\":{\"id\":\"6220\"}},\"hatch_color\":{\"field\":\"color\",\"transform\":{\"id\":\"6220\"}},\"line_color\":{\"field\":\"color\",\"transform\":{\"id\":\"6220\"}},\"right\":{\"field\":\"ndcg\"},\"y\":{\"field\":\"phrase\"}},\"id\":\"6222\",\"type\":\"HBar\"},{\"attributes\":{},\"id\":\"6217\",\"type\":\"Toolbar\"},{\"attributes\":{},\"id\":\"6218\",\"type\":\"Range1d\"},{\"attributes\":{\"data\":{\"color\":{\"__ndarray__\":\"AAAAAAAAAAAAAAAAAADQPwAAAAAAAOA/AAAAAAAA6D8AAAAAAADwPwAAAAAAAAAAAAAAAAAA0D8AAAAAAADgPwAAAAAAAOg/AAAAAAAA8D8AAAAAAAAAAAAAAAAAANA/AAAAAAAA4D8AAAAAAADoPwAAAAAAAPA/AAAAAAAAAAAAAAAAAADQPwAAAAAAAOA/AAAAAAAA6D8AAAAAAADwPwAAAAAAAAAAAAAAAAAA0D8AAAAAAADgPwAAAAAAAOg/AAAAAAAA8D8AAAAAAAAAAAAAAAAAANA/AAAAAAAA4D8AAAAAAADoPwAAAAAAAPA/AAAAAAAAAAAAAAAAAADQPwAAAAAAAOA/AAAAAAAA6D8AAAAAAADwPwAAAAAAAAAAAAAAAAAA0D8AAAAAAADgPwAAAAAAAOg/AAAAAAAA8D8AAAAAAAAAAAAAAAAAANA/AAAAAAAA4D8AAAAAAADoPwAAAAAAAPA/AAAAAAAAAAAAAAAAAADQPwAAAAAAAOA/AAAAAAAA6D8AAAAAAADwPwAAAAAAAAAAAAAAAAAA0D8AAAAAAADgPwAAAAAAAOg/AAAAAAAA8D8AAAAAAAAAAAAAAAAAANA/AAAAAAAA4D8AAAAAAADoPwAAAAAAAPA/AAAAAAAAAAAAAAAAAADQPwAAAAAAAOA/AAAAAAAA6D8AAAAAAADwPwAAAAAAAAAAAAAAAAAA0D8AAAAAAADgPwAAAAAAAOg/AAAAAAAA8D8AAAAAAAAAAAAAAAAAANA/AAAAAAAA4D8AAAAAAADoPwAAAAAAAPA/AAAAAAAAAAAAAAAAAADQPwAAAAAAAOA/AAAAAAAA6D8AAAAAAADwPwAAAAAAAAAAAAAAAAAA0D8AAAAAAADgPwAAAAAAAOg/AAAAAAAA8D8AAAAAAAAAAAAAAAAAANA/AAAAAAAA4D8AAAAAAADoPwAAAAAAAPA/AAAAAAAAAAAAAAAAAADQPwAAAAAAAOA/AAAAAAAA6D8AAAAAAADwPwAAAAAAAAAAAAAAAAAA0D8AAAAAAADgPwAAAAAAAOg/AAAAAAAA8D8AAAAAAAAAAAAAAAAAANA/AAAAAAAA4D8AAAAAAADoPwAAAAAAAPA/AAAAAAAAAAAAAAAAAADQPwAAAAAAAOA/AAAAAAAA6D8AAAAAAADwPw==\",\"dtype\":\"float64\",\"order\":\"little\",\"shape\":[110]},\"ndcg\":{\"__ndarray__\":\"AAAAAAAA8D8AAAAAAADwPwAAAAAAAPA/DczQAVVz5z8AAAAAAADwP6kg0//D5uc/QtGE2WmQ5z/K1fh2qyjgPwa2h9IAWu0/Iu6i4JoD7D/12C7y2BHvPwAAAAAAAPA/ch1uxGwt6D92yhiMcfPsPwAAAAAAAPA/oW76YfRi7T/ojOH7yRruP3BtNOaC/uk/9+s2tpxu6z9dcvr9gGrsPwj42kpabu0/AAAAAAAA8D8KxVx0GJzqP8RVZTwBGOk/Wf1IbnPP6T9V5t4NKf7sP+zXcQa8quI/6CTqUgZN7j955obRH6HfP+4uNV9vB+U/AAAAAAAA8D8AAAAAAADwP1CXV9h/euw/9dgu8tgR7z/dCnAY2nPvP95yLircIO0/XgTrbDpb7j+BYxPzVpzqPwAAAAAAAPA/AAAAAAAA8D9UKN0IPNftP3VfecZ2I+4/PGWLik3a2j+baGP7lSflP3P7J+HKBdg/cB9aDoX/6T82CYr8lCbsP2GUQud4Kew/0pzldO3g7j82NmzbJpXuPwAAAAAAAPA/aR4wshQQ7T9jTheTuQvjPwAAAAAAAPA/+UyoykGk7z/b8vj5lTrtP+gk6lIGTe4/SZkuXrOv6z8AAAAAAADwPwAAAAAAAPA/e/7n3tmS5T9CwHtdNz3tPz4Zo6zaqu8/AAAAAAAA8D8AAAAAAADwP53xCDpQd+g/EW4W+XXC6j81lmWG9L3tPxz9aa0IMu0/thsM2UvJ7z9vpmTboPfnP6aeC3eK6+E/JLzlMd2o5T+Aoul6i0rlP14gFQ085+g/AAAAAAAA8D8AAAAAAADwP5IH8UBdQt4/Fl7B1SgM7T97pTwkukXuP9PMgXjc8uM/urvEeiov5T9fumfOhC7pP72H5ml8cO4/AAAAAAAA8D8LqgPmLtTuP83XAh2lfOo/NdpRSEdb4D8AAAAAAADwPwAAAAAAAPA/GYIUCEcF7j8+GaOs2qrvP4iV72j3guo/PhmjrNqq7z8AAAAAAADwP5f8k4oXz+g/pkWAJ3vB6z/yhOAau3fuP1NzDhOT8ew/ucTlc61T7z8DoEcKkwfsP0tIhVBiEew/VGdNv7LE6D+w5eUJZjDsP1iW3+qNKe0/vrD5LcVO7T+Vpq6sAKztP0ktpu6Hj+o/kdn4vwRG7T/rK4zxDYzvPw==\",\"dtype\":\"float64\",\"order\":\"little\",\"shape\":[110]},\"ndcg_str\":[\"100.0%\",\"100.0%\",\"100.0%\",\"73.3%\",\"100.0%\",\"74.7%\",\"73.6%\",\"50.5%\",\"91.7%\",\"87.5%\",\"97.1%\",\"100.0%\",\"75.6%\",\"90.5%\",\"100.0%\",\"91.8%\",\"94.1%\",\"81.2%\",\"85.7%\",\"88.8%\",\"92.0%\",\"100.0%\",\"83.2%\",\"78.4%\",\"80.7%\",\"90.6%\",\"58.3%\",\"94.7%\",\"49.4%\",\"65.7%\",\"100.0%\",\"100.0%\",\"89.0%\",\"97.1%\",\"98.3%\",\"91.0%\",\"94.9%\",\"83.2%\",\"100.0%\",\"100.0%\",\"93.3%\",\"94.2%\",\"42.0%\",\"66.1%\",\"37.5%\",\"81.2%\",\"88.0%\",\"88.0%\",\"96.5%\",\"95.6%\",\"100.0%\",\"90.8%\",\"59.5%\",\"100.0%\",\"98.9%\",\"91.3%\",\"94.7%\",\"86.5%\",\"100.0%\",\"100.0%\",\"67.4%\",\"91.4%\",\"99.0%\",\"100.0%\",\"100.0%\",\"76.5%\",\"83.6%\",\"92.9%\",\"91.2%\",\"99.3%\",\"74.9%\",\"56.0%\",\"67.7%\",\"66.5%\",\"77.8%\",\"100.0%\",\"100.0%\",\"47.3%\",\"90.8%\",\"94.6%\",\"62.3%\",\"66.2%\",\"78.7%\",\"95.1%\",\"100.0%\",\"96.3%\",\"82.8%\",\"51.1%\",\"100.0%\",\"100.0%\",\"93.8%\",\"99.0%\",\"82.8%\",\"99.0%\",\"100.0%\",\"77.5%\",\"86.7%\",\"95.2%\",\"90.4%\",\"97.9%\",\"87.6%\",\"87.7%\",\"77.4%\",\"88.1%\",\"91.1%\",\"91.6%\",\"92.7%\",\"83.0%\",\"91.5%\",\"98.6%\"],\"phrase\":[[\"O all you host of heaven!\",\"doc sbert msmarco\"],[\"O all you host of heaven!\",\"doc sbert paraphrase\"],[\"O all you host of heaven!\",\"wmd bow\"],[\"O all you host of heaven!\",\"wmd nbow\"],[\"O all you host of heaven!\",\"wsb\"],[\"hell itself should gape\",\"doc sbert msmarco\"],[\"hell itself should gape\",\"doc sbert paraphrase\"],[\"hell itself should gape\",\"wmd bow\"],[\"hell itself should gape\",\"wmd nbow\"],[\"hell itself should gape\",\"wsb\"],[\"frailty, thy name is woman\",\"doc sbert msmarco\"],[\"frailty, thy name is woman\",\"doc sbert paraphrase\"],[\"frailty, thy name is woman\",\"wmd bow\"],[\"frailty, thy name is woman\",\"wmd nbow\"],[\"frailty, thy name is woman\",\"wsb\"],[\"we will not carry coals\",\"doc sbert msmarco\"],[\"we will not carry coals\",\"doc sbert paraphrase\"],[\"we will not carry coals\",\"wmd bow\"],[\"we will not carry coals\",\"wmd nbow\"],[\"we will not carry coals\",\"wsb\"],[\"All the world's a stage\",\"doc sbert msmarco\"],[\"All the world's a stage\",\"doc sbert paraphrase\"],[\"All the world's a stage\",\"wmd bow\"],[\"All the world's a stage\",\"wmd nbow\"],[\"All the world's a stage\",\"wsb\"],[\"livers white as milk\",\"doc sbert msmarco\"],[\"livers white as milk\",\"doc sbert paraphrase\"],[\"livers white as milk\",\"wmd bow\"],[\"livers white as milk\",\"wmd nbow\"],[\"livers white as milk\",\"wsb\"],[\"I do bear a brain.\",\"doc sbert msmarco\"],[\"I do bear a brain.\",\"doc sbert paraphrase\"],[\"I do bear a brain.\",\"wmd bow\"],[\"I do bear a brain.\",\"wmd nbow\"],[\"I do bear a brain.\",\"wsb\"],[\"planets strike\",\"doc sbert msmarco\"],[\"planets strike\",\"doc sbert paraphrase\"],[\"planets strike\",\"wmd bow\"],[\"planets strike\",\"wmd nbow\"],[\"planets strike\",\"wsb\"],[\"though this be madness, yet\\nthere is method in it\",\"doc sbert msmarco\"],[\"though this be madness, yet\\nthere is method in it\",\"doc sbert paraphrase\"],[\"though this be madness, yet\\nthere is method in it\",\"wmd bow\"],[\"though this be madness, yet\\nthere is method in it\",\"wmd nbow\"],[\"though this be madness, yet\\nthere is method in it\",\"wsb\"],[\"Illo, ho, ho, my lord\",\"doc sbert msmarco\"],[\"Illo, ho, ho, my lord\",\"doc sbert paraphrase\"],[\"Illo, ho, ho, my lord\",\"wmd bow\"],[\"Illo, ho, ho, my lord\",\"wmd nbow\"],[\"Illo, ho, ho, my lord\",\"wsb\"],[\"springes to catch woodcocks\",\"doc sbert msmarco\"],[\"springes to catch woodcocks\",\"doc sbert paraphrase\"],[\"springes to catch woodcocks\",\"wmd bow\"],[\"springes to catch woodcocks\",\"wmd nbow\"],[\"springes to catch woodcocks\",\"wsb\"],[\"thereby hangs a tale\",\"doc sbert msmarco\"],[\"thereby hangs a tale\",\"doc sbert paraphrase\"],[\"thereby hangs a tale\",\"wmd bow\"],[\"thereby hangs a tale\",\"wmd nbow\"],[\"thereby hangs a tale\",\"wsb\"],[\"go, by Saint Hieronimo\",\"doc sbert msmarco\"],[\"go, by Saint Hieronimo\",\"doc sbert paraphrase\"],[\"go, by Saint Hieronimo\",\"wmd bow\"],[\"go, by Saint Hieronimo\",\"wmd nbow\"],[\"go, by Saint Hieronimo\",\"wsb\"],[\"a horse, a horse, my kingdom\\nfor a horse\",\"doc sbert msmarco\"],[\"a horse, a horse, my kingdom\\nfor a horse\",\"doc sbert paraphrase\"],[\"a horse, a horse, my kingdom\\nfor a horse\",\"wmd bow\"],[\"a horse, a horse, my kingdom\\nfor a horse\",\"wmd nbow\"],[\"a horse, a horse, my kingdom\\nfor a horse\",\"wsb\"],[\"In my mind's eye\",\"doc sbert msmarco\"],[\"In my mind's eye\",\"doc sbert paraphrase\"],[\"In my mind's eye\",\"wmd bow\"],[\"In my mind's eye\",\"wmd nbow\"],[\"In my mind's eye\",\"wsb\"],[\"an old man is twice a child\",\"doc sbert msmarco\"],[\"an old man is twice a child\",\"doc sbert paraphrase\"],[\"an old man is twice a child\",\"wmd bow\"],[\"an old man is twice a child\",\"wmd nbow\"],[\"an old man is twice a child\",\"wsb\"],[\"The rest is silence.\",\"doc sbert msmarco\"],[\"The rest is silence.\",\"doc sbert paraphrase\"],[\"The rest is silence.\",\"wmd bow\"],[\"The rest is silence.\",\"wmd nbow\"],[\"The rest is silence.\",\"wsb\"],[\"pampered jades of Asia\",\"doc sbert msmarco\"],[\"pampered jades of Asia\",\"doc sbert paraphrase\"],[\"pampered jades of Asia\",\"wmd bow\"],[\"pampered jades of Asia\",\"wmd nbow\"],[\"pampered jades of Asia\",\"wsb\"],[\"sea of troubles\",\"doc sbert msmarco\"],[\"sea of troubles\",\"doc sbert paraphrase\"],[\"sea of troubles\",\"wmd bow\"],[\"sea of troubles\",\"wmd nbow\"],[\"sea of troubles\",\"wsb\"],[\"to be or not to be\",\"doc sbert msmarco\"],[\"to be or not to be\",\"doc sbert paraphrase\"],[\"to be or not to be\",\"wmd bow\"],[\"to be or not to be\",\"wmd nbow\"],[\"to be or not to be\",\"wsb\"],[\"\\u25d2 mean\",\"doc sbert msmarco\"],[\"\\u25d2 mean\",\"doc sbert paraphrase\"],[\"\\u25d2 mean\",\"wmd bow\"],[\"\\u25d2 mean\",\"wmd nbow\"],[\"\\u25d2 mean\",\"wsb\"],[\"\\u25d2 median\",\"doc sbert msmarco\"],[\"\\u25d2 median\",\"doc sbert paraphrase\"],[\"\\u25d2 median\",\"wmd bow\"],[\"\\u25d2 median\",\"wmd nbow\"],[\"\\u25d2 median\",\"wsb\"]],\"tags\":[\"phrase\",\"phrase\",\"phrase\",\"phrase\",\"phrase\",\"phrase\",\"phrase\",\"phrase\",\"phrase\",\"phrase\",\"phrase\",\"phrase\",\"phrase\",\"phrase\",\"phrase\",\"phrase\",\"phrase\",\"phrase\",\"phrase\",\"phrase\",\"phrase\",\"phrase\",\"phrase\",\"phrase\",\"phrase\",\"phrase\",\"phrase\",\"phrase\",\"phrase\",\"phrase\",\"phrase\",\"phrase\",\"phrase\",\"phrase\",\"phrase\",\"phrase\",\"phrase\",\"phrase\",\"phrase\",\"phrase\",\"phrase\",\"phrase\",\"phrase\",\"phrase\",\"phrase\",\"phrase\",\"phrase\",\"phrase\",\"phrase\",\"phrase\",\"phrase\",\"phrase\",\"phrase\",\"phrase\",\"phrase\",\"phrase\",\"phrase\",\"phrase\",\"phrase\",\"phrase\",\"phrase\",\"phrase\",\"phrase\",\"phrase\",\"phrase\",\"phrase\",\"phrase\",\"phrase\",\"phrase\",\"phrase\",\"phrase\",\"phrase\",\"phrase\",\"phrase\",\"phrase\",\"phrase\",\"phrase\",\"phrase\",\"phrase\",\"phrase\",\"phrase\",\"phrase\",\"phrase\",\"phrase\",\"phrase\",\"phrase\",\"phrase\",\"phrase\",\"phrase\",\"phrase\",\"phrase\",\"phrase\",\"phrase\",\"phrase\",\"phrase\",\"phrase\",\"phrase\",\"phrase\",\"phrase\",\"phrase\",\"stats\",\"stats\",\"stats\",\"stats\",\"stats\",\"stats\",\"stats\",\"stats\",\"stats\",\"stats\"],\"y\":[0,2,4,6,8,10,12,14,16,18,20,22,24,26,28,30,32,34,36,38,40,42,44,46,48,50,52,54,56,58,60,62,64,66,68,70,72,74,76,78,80,82,84,86,88,90,92,94,96,98,100,102,104,106,108,110,112,114,116,118,120,122,124,126,128,130,132,134,136,138,140,142,144,146,148,150,152,154,156,158,160,162,164,166,168,170,172,174,176,178,180,182,184,186,188,190,192,194,196,198,200,202,204,206,208,210,212,214,216,218]},\"selected\":{\"id\":\"6596\"},\"selection_policy\":{\"id\":\"6595\"}},\"id\":\"6219\",\"type\":\"ColumnDataSource\"},{\"attributes\":{\"axis\":{\"id\":\"6214\"},\"coordinates\":null,\"dimension\":1,\"group\":null,\"ticker\":null,\"visible\":false},\"id\":\"6216\",\"type\":\"Grid\"},{\"attributes\":{},\"id\":\"6215\",\"type\":\"CategoricalTicker\"},{\"attributes\":{\"coordinates\":null,\"data_source\":{\"id\":\"6219\"},\"glyph\":{\"id\":\"6222\"},\"group\":null,\"hover_glyph\":null,\"muted_glyph\":{\"id\":\"6224\"},\"nonselection_glyph\":{\"id\":\"6223\"},\"view\":{\"id\":\"6226\"}},\"id\":\"6225\",\"type\":\"GlyphRenderer\"},{\"attributes\":{\"axis_label\":\"nDCG\",\"coordinates\":null,\"formatter\":{\"id\":\"6593\"},\"group\":null,\"major_label_policy\":{\"id\":\"6594\"},\"ticker\":{\"id\":\"6211\"}},\"id\":\"6210\",\"type\":\"LinearAxis\"},{\"attributes\":{},\"id\":\"6596\",\"type\":\"Selection\"},{\"attributes\":{\"fill_alpha\":{\"value\":0.2},\"fill_color\":{\"field\":\"color\",\"transform\":{\"id\":\"6220\"}},\"hatch_alpha\":{\"value\":0.2},\"hatch_color\":{\"field\":\"color\",\"transform\":{\"id\":\"6220\"}},\"line_alpha\":{\"value\":0.2},\"line_color\":{\"field\":\"color\",\"transform\":{\"id\":\"6220\"}},\"right\":{\"field\":\"ndcg\"},\"y\":{\"field\":\"phrase\"}},\"id\":\"6224\",\"type\":\"HBar\"},{\"attributes\":{\"factors\":[[\"O all you host of heaven!\",\"doc sbert msmarco\"],[\"O all you host of heaven!\",\"doc sbert paraphrase\"],[\"O all you host of heaven!\",\"wmd bow\"],[\"O all you host of heaven!\",\"wmd nbow\"],[\"O all you host of heaven!\",\"wsb\"],[\"hell itself should gape\",\"doc sbert msmarco\"],[\"hell itself should gape\",\"doc sbert paraphrase\"],[\"hell itself should gape\",\"wmd bow\"],[\"hell itself should gape\",\"wmd nbow\"],[\"hell itself should gape\",\"wsb\"],[\"frailty, thy name is woman\",\"doc sbert msmarco\"],[\"frailty, thy name is woman\",\"doc sbert paraphrase\"],[\"frailty, thy name is woman\",\"wmd bow\"],[\"frailty, thy name is woman\",\"wmd nbow\"],[\"frailty, thy name is woman\",\"wsb\"],[\"we will not carry coals\",\"doc sbert msmarco\"],[\"we will not carry coals\",\"doc sbert paraphrase\"],[\"we will not carry coals\",\"wmd bow\"],[\"we will not carry coals\",\"wmd nbow\"],[\"we will not carry coals\",\"wsb\"],[\"All the world's a stage\",\"doc sbert msmarco\"],[\"All the world's a stage\",\"doc sbert paraphrase\"],[\"All the world's a stage\",\"wmd bow\"],[\"All the world's a stage\",\"wmd nbow\"],[\"All the world's a stage\",\"wsb\"],[\"livers white as milk\",\"doc sbert msmarco\"],[\"livers white as milk\",\"doc sbert paraphrase\"],[\"livers white as milk\",\"wmd bow\"],[\"livers white as milk\",\"wmd nbow\"],[\"livers white as milk\",\"wsb\"],[\"I do bear a brain.\",\"doc sbert msmarco\"],[\"I do bear a brain.\",\"doc sbert paraphrase\"],[\"I do bear a brain.\",\"wmd bow\"],[\"I do bear a brain.\",\"wmd nbow\"],[\"I do bear a brain.\",\"wsb\"],[\"planets strike\",\"doc sbert msmarco\"],[\"planets strike\",\"doc sbert paraphrase\"],[\"planets strike\",\"wmd bow\"],[\"planets strike\",\"wmd nbow\"],[\"planets strike\",\"wsb\"],[\"though this be madness, yet\\nthere is method in it\",\"doc sbert msmarco\"],[\"though this be madness, yet\\nthere is method in it\",\"doc sbert paraphrase\"],[\"though this be madness, yet\\nthere is method in it\",\"wmd bow\"],[\"though this be madness, yet\\nthere is method in it\",\"wmd nbow\"],[\"though this be madness, yet\\nthere is method in it\",\"wsb\"],[\"Illo, ho, ho, my lord\",\"doc sbert msmarco\"],[\"Illo, ho, ho, my lord\",\"doc sbert paraphrase\"],[\"Illo, ho, ho, my lord\",\"wmd bow\"],[\"Illo, ho, ho, my lord\",\"wmd nbow\"],[\"Illo, ho, ho, my lord\",\"wsb\"],[\"springes to catch woodcocks\",\"doc sbert msmarco\"],[\"springes to catch woodcocks\",\"doc sbert paraphrase\"],[\"springes to catch woodcocks\",\"wmd bow\"],[\"springes to catch woodcocks\",\"wmd nbow\"],[\"springes to catch woodcocks\",\"wsb\"],[\"thereby hangs a tale\",\"doc sbert msmarco\"],[\"thereby hangs a tale\",\"doc sbert paraphrase\"],[\"thereby hangs a tale\",\"wmd bow\"],[\"thereby hangs a tale\",\"wmd nbow\"],[\"thereby hangs a tale\",\"wsb\"],[\"go, by Saint Hieronimo\",\"doc sbert msmarco\"],[\"go, by Saint Hieronimo\",\"doc sbert paraphrase\"],[\"go, by Saint Hieronimo\",\"wmd bow\"],[\"go, by Saint Hieronimo\",\"wmd nbow\"],[\"go, by Saint Hieronimo\",\"wsb\"],[\"a horse, a horse, my kingdom\\nfor a horse\",\"doc sbert msmarco\"],[\"a horse, a horse, my kingdom\\nfor a horse\",\"doc sbert paraphrase\"],[\"a horse, a horse, my kingdom\\nfor a horse\",\"wmd bow\"],[\"a horse, a horse, my kingdom\\nfor a horse\",\"wmd nbow\"],[\"a horse, a horse, my kingdom\\nfor a horse\",\"wsb\"],[\"In my mind's eye\",\"doc sbert msmarco\"],[\"In my mind's eye\",\"doc sbert paraphrase\"],[\"In my mind's eye\",\"wmd bow\"],[\"In my mind's eye\",\"wmd nbow\"],[\"In my mind's eye\",\"wsb\"],[\"an old man is twice a child\",\"doc sbert msmarco\"],[\"an old man is twice a child\",\"doc sbert paraphrase\"],[\"an old man is twice a child\",\"wmd bow\"],[\"an old man is twice a child\",\"wmd nbow\"],[\"an old man is twice a child\",\"wsb\"],[\"The rest is silence.\",\"doc sbert msmarco\"],[\"The rest is silence.\",\"doc sbert paraphrase\"],[\"The rest is silence.\",\"wmd bow\"],[\"The rest is silence.\",\"wmd nbow\"],[\"The rest is silence.\",\"wsb\"],[\"pampered jades of Asia\",\"doc sbert msmarco\"],[\"pampered jades of Asia\",\"doc sbert paraphrase\"],[\"pampered jades of Asia\",\"wmd bow\"],[\"pampered jades of Asia\",\"wmd nbow\"],[\"pampered jades of Asia\",\"wsb\"],[\"sea of troubles\",\"doc sbert msmarco\"],[\"sea of troubles\",\"doc sbert paraphrase\"],[\"sea of troubles\",\"wmd bow\"],[\"sea of troubles\",\"wmd nbow\"],[\"sea of troubles\",\"wsb\"],[\"to be or not to be\",\"doc sbert msmarco\"],[\"to be or not to be\",\"doc sbert paraphrase\"],[\"to be or not to be\",\"wmd bow\"],[\"to be or not to be\",\"wmd nbow\"],[\"to be or not to be\",\"wsb\"],[\"\\u25d2 mean\",\"doc sbert msmarco\"],[\"\\u25d2 mean\",\"doc sbert paraphrase\"],[\"\\u25d2 mean\",\"wmd bow\"],[\"\\u25d2 mean\",\"wmd nbow\"],[\"\\u25d2 mean\",\"wsb\"],[\"\\u25d2 median\",\"doc sbert msmarco\"],[\"\\u25d2 median\",\"doc sbert paraphrase\"],[\"\\u25d2 median\",\"wmd bow\"],[\"\\u25d2 median\",\"wmd nbow\"],[\"\\u25d2 median\",\"wsb\"]]},\"id\":\"6199\",\"type\":\"FactorRange\"}],\"root_ids\":[\"6200\"]},\"title\":\"Bokeh Application\",\"version\":\"2.4.0\"}};\n",
       "  const render_items = [{\"docid\":\"fa199076-5640-489c-976d-720f40f6674d\",\"root_ids\":[\"6200\"],\"roots\":{\"6200\":\"b2de05e5-b052-4e08-8826-e8554bf980cd\"}}];\n",
       "  root.Bokeh.embed.embed_items_notebook(docs_json, render_items);\n",
       "\n",
       "  }\n",
       "  if (root.Bokeh !== undefined) {\n",
       "    embed_document(root);\n",
       "  } else {\n",
       "    let attempts = 0;\n",
       "    const timer = setInterval(function(root) {\n",
       "      if (root.Bokeh !== undefined) {\n",
       "        clearInterval(timer);\n",
       "        embed_document(root);\n",
       "      } else {\n",
       "        attempts++;\n",
       "        if (attempts > 100) {\n",
       "          clearInterval(timer);\n",
       "          console.log(\"Bokeh: ERROR: Unable to run BokehJS code because BokehJS library is missing\");\n",
       "        }\n",
       "      }\n",
       "    }, 10, root)\n",
       "  }\n",
       "})(window);"
      ],
      "application/vnd.bokehjs_exec.v0+json": ""
     },
     "metadata": {
      "application/vnd.bokehjs_exec.v0+json": {
       "id": "6200"
      }
     },
     "output_type": "display_data"
    }
   ],
   "source": [
    "nbutils.plot_ndcgs(\n",
    "    gold_data, dict((k, v.build_index()) for k, v in index_builders.items())\n",
    ");"
   ]
  },
  {
   "cell_type": "markdown",
   "id": "3c628c94",
   "metadata": {},
   "source": [
    "We see that some queries obtain 100%, i.e. the top results match the optimal ones given in our gold standard. We see that Waterman-Smith-Beyer (WSB) tends to perform a little better than Word Mover's Distance (WMD), with the exception of \"though this be madness...\", where WMD outperforms WSB. In general the Vectorian modification of WMD, which does not use nbow, performs better than the original description of WMD. The one exception here is \"livers white as milk\".\n",
    "\n",
    "One advantage of WSB over the full WMD variants is its easy interpretability. WSB produces an alignment that relates one document token to at most one query token. For WMD, this assumption often breaks down, which makes the results harder to understand. We use this characteristic of WSB in the following section to illustrate which mappings actually occur."
   ]
  },
  {
   "cell_type": "markdown",
   "id": "26fd85e5",
   "metadata": {},
   "source": [
    "### 3.3.3 Focussing on single queries <a class=\"anchor\" id=\"section_3_3_3\"></a>"
   ]
  },
  {
   "cell_type": "markdown",
   "id": "8f66f030",
   "metadata": {},
   "source": [
    "We now investigate some queries, for which the performance for WSB is bad, to get a better understanding for why our search fails to obtain the optimal (true positive) results at the top of the result list."
   ]
  },
  {
   "cell_type": "code",
   "execution_count": 39,
   "id": "a94f0e44",
   "metadata": {},
   "outputs": [
    {
     "data": {
      "application/vnd.jupyter.widget-view+json": {
       "model_id": "9e8b972a9b4f46eeaaaefef9852225da",
       "version_major": 2,
       "version_minor": 0
      },
      "text/plain": [
       "Tab(children=(HTML(value='<span style=\"line-height:normal;\"><p>Partition similarity is computed via <b>alignme…"
      ]
     },
     "metadata": {},
     "output_type": "display_data"
    }
   ],
   "source": [
    "index_builder = make_index_builder(nlp)\n",
    "index_builder"
   ]
  },
  {
   "cell_type": "markdown",
   "id": "96320ac9",
   "metadata": {},
   "source": [
    "We turn to the query with the lowest score (\"though this be madness, yet there is a method in it\") in the previous evaluation, and look at its results in some more detail."
   ]
  },
  {
   "cell_type": "code",
   "execution_count": 41,
   "id": "bdd1f1f6",
   "metadata": {},
   "outputs": [
    {
     "data": {
      "application/vnd.bokehjs_exec.v0+json": "",
      "text/html": [
       "\n",
       "<script id=\"6674\">\n",
       "  (function() {\n",
       "    const xhr = new XMLHttpRequest()\n",
       "    xhr.responseType = 'blob';\n",
       "    xhr.open('GET', \"http://localhost:61267/autoload.js?bokeh-autoload-element=6674&bokeh-absolute-url=http://localhost:61267&resources=none\", true);\n",
       "    \n",
       "    xhr.onload = function (event) {\n",
       "      const script = document.createElement('script');\n",
       "      const src = URL.createObjectURL(event.target.response);\n",
       "      script.src = src;\n",
       "      document.body.appendChild(script);\n",
       "    };\n",
       "    xhr.send();\n",
       "  })();\n",
       "</script>"
      ]
     },
     "metadata": {
      "application/vnd.bokehjs_exec.v0+json": {
       "server_id": "dbc9c3d1515e41ecb8d1589bb6f5aaef"
      }
     },
     "output_type": "display_data"
    },
    {
     "data": {
      "application/vnd.jupyter.widget-view+json": {
       "model_id": "bc6ead827fa848a49914def8a2bff8b3",
       "version_major": 2,
       "version_minor": 0
      },
      "text/plain": [
       "VBox(children=(HTML(value='\\n\\t<iframe\\n\\t\\tid=\"vectorian-1633053882093597000-11306360304-1\"\\n\\t\\twidth=\"100%\"…"
      ]
     },
     "metadata": {},
     "output_type": "display_data"
    }
   ],
   "source": [
    "plot_a = nbutils.plot_results(\n",
    "    gold_data, index_builder.build_index(), \"though this be madness\", rank=7\n",
    ")"
   ]
  },
  {
   "cell_type": "markdown",
   "id": "71aa1df7",
   "metadata": {},
   "source": [
    "The best match obtained here (red bar on rank 7) is anchored on two word matches, namely `madness` (a 100% match) and `methods` (a 72% match). The other words are quite different and there is no good alignment."
   ]
  },
  {
   "cell_type": "code",
   "execution_count": 43,
   "id": "a52b9ee2",
   "metadata": {},
   "outputs": [
    {
     "data": {
      "application/vnd.bokehjs_exec.v0+json": "",
      "text/html": [
       "\n",
       "<script id=\"6740\">\n",
       "  (function() {\n",
       "    const xhr = new XMLHttpRequest()\n",
       "    xhr.responseType = 'blob';\n",
       "    xhr.open('GET', \"http://localhost:61270/autoload.js?bokeh-autoload-element=6740&bokeh-absolute-url=http://localhost:61270&resources=none\", true);\n",
       "    \n",
       "    xhr.onload = function (event) {\n",
       "      const script = document.createElement('script');\n",
       "      const src = URL.createObjectURL(event.target.response);\n",
       "      script.src = src;\n",
       "      document.body.appendChild(script);\n",
       "    };\n",
       "    xhr.send();\n",
       "  })();\n",
       "</script>"
      ]
     },
     "metadata": {
      "application/vnd.bokehjs_exec.v0+json": {
       "server_id": "87644aeb48ef4a5680a19c73bba4db90"
      }
     },
     "output_type": "display_data"
    },
    {
     "data": {
      "application/vnd.jupyter.widget-view+json": {
       "model_id": "d3cccdc03100409198a973f4a90c2778",
       "version_major": 2,
       "version_minor": 0
      },
      "text/plain": [
       "VBox(children=(HTML(value='\\n\\t<iframe\\n\\t\\tid=\"vectorian-1633053882461312000-11306653488-1\"\\n\\t\\twidth=\"100%\"…"
      ]
     },
     "metadata": {},
     "output_type": "display_data"
    }
   ],
   "source": [
    "plot_b = nbutils.plot_results(\n",
    "    gold_data, index_builder.build_index(), \"though this be madness\", rank=3\n",
    ")"
   ]
  },
  {
   "cell_type": "markdown",
   "id": "08472e31",
   "metadata": {},
   "source": [
    "Above we see the rank 3 result from the same query, which is a false positive - i.e. our search claims it is a better result than the one we saw before, but in fact this result is not relevant according to our gold standard. If we analyze why this result gets such a high score nonetheless, we see that \"is\" and \"in\" both contribute 100% scores. In contrast to the scores before, 100% for \"madness\" and 72% for \"methods\", this partially explains the higher overall score (if we assume for now that the contributions from the other tokens are somewhat similar).\n",
    "\n",
    "We will now try to understand why the true positive results are ranked rather low. To find a solution for this issue, we will be looking at the composition of scores for each result we obtain for this query:"
   ]
  },
  {
   "cell_type": "code",
   "execution_count": 44,
   "id": "c42e0bb4",
   "metadata": {},
   "outputs": [
    {
     "data": {
      "application/vnd.jupyter.widget-view+json": {
       "model_id": "db0607fe54764f71b1bc6015e7f57b3d",
       "version_major": 2,
       "version_minor": 0
      },
      "text/plain": [
       "interactive(children=(Checkbox(value=False, description='indicate_gap_penalty'), Output()), _dom_classes=('wid…"
      ]
     },
     "metadata": {},
     "output_type": "display_data"
    },
    {
     "data": {
      "text/plain": [
       "<function nbutils.vis_token_scores.<locals>.plot(indicate_gap_penalty)>"
      ]
     },
     "execution_count": 44,
     "metadata": {},
     "output_type": "execute_result"
    }
   ],
   "source": [
    "nbutils.vis_token_scores(\n",
    "    plot_b.matches[:50],\n",
    "    highlight={\"token\": [\"madness\", \"method\"], \"rank\": [6, 20, 35, 45]},\n",
    ")"
   ]
  },
  {
   "cell_type": "markdown",
   "id": "8193d37f",
   "metadata": {},
   "source": [
    "The true positive results are marked with black triangles. We see that our current search strategy isn't doing a very good job of ranking them highly. Looking at the score composition of the relevant results, we can identify two distinct features: all relevant results show a rather large contribution of either \"madness\" (look at rank 6 and rank 35, for example) and/or a rather large contribution of \"method\" (ranks 45 and 6). However, these contributions do not lead to higher ranks necessarily, since other words such as \"is\", \"this\" and \"though\" score higher for other results: for example, look at the contribution of \"in\" for rank 1.\n",
    "\n",
    "In the plot below, we visualize this observation using ranks 1, 6 and 35. Comparing the rank 1 result on the left - which is a false positive - with the two relevant results on the right, we see that \"in\", \"through\" and \"is\" make up for large parts of the score for rank 1, whereas \"madness\" is a considerable factor for the two relevant matches. Unfortunately, this contribution is not sufficient to bring these results to higher ranks."
   ]
  },
  {
   "cell_type": "code",
   "execution_count": 45,
   "id": "5baf690f",
   "metadata": {},
   "outputs": [
    {
     "data": {
      "application/vnd.jupyter.widget-view+json": {
       "model_id": "241ca0ac5b6845048e9d6acd12c8ebc8",
       "version_major": 2,
       "version_minor": 0
      },
      "text/plain": [
       "interactive(children=(ToggleButtons(description='plot_as', index=1, options=('bar', 'pie'), value='pie'), Outp…"
      ]
     },
     "metadata": {},
     "output_type": "display_data"
    }
   ],
   "source": [
    "@widgets.interact(plot_as=widgets.ToggleButtons(options=[\"bar\", \"pie\"], value=\"pie\"))\n",
    "def plot(plot_as):\n",
    "    nbutils.vis_token_scores(\n",
    "        plot_b.matches, kind=plot_as, ranks=[1, 6, 35], plot_width=800\n",
    "    )"
   ]
  },
  {
   "cell_type": "markdown",
   "id": "1a44136c",
   "metadata": {},
   "source": [
    "The distributions of score contributions we just observed are the motivation for our approach to tag-weighted alignments as they are described in Liebl & Burghardt (2020a/b). Nagoudi and Schwab (2017) used a similar idea of POS tag-weighting for computing sentence similarity, but did not combine it with alignments.\n",
    "\n",
    "We now demonstrate (POS) tag-weighted alignments, by using a tag-weighted alignment that will weight nouns like \"madness\" and \"method\" 3 times higher than other word types. \"NN\" is a Penn Treebank tag and identifies singular nouns."
   ]
  },
  {
   "cell_type": "code",
   "execution_count": 46,
   "id": "7311b2cf",
   "metadata": {},
   "outputs": [
    {
     "data": {
      "application/vnd.jupyter.widget-view+json": {
       "model_id": "5429578b10bc4079b1eaeb3ff93c7f14",
       "version_major": 2,
       "version_minor": 0
      },
      "text/plain": [
       "Tab(children=(HTML(value='<span style=\"line-height:normal;\"><p>Partition similarity is computed via <b>tag-wei…"
      ]
     },
     "metadata": {},
     "output_type": "display_data"
    }
   ],
   "source": [
    "tag_weighted_index_builder = make_index_builder(\n",
    "    nlp, strategy=\"Tag-Weighted Alignment\", strategy_options={\"tag_weights\": {\"NN\": 3}}\n",
    ")\n",
    "tag_weighted_index_builder"
   ]
  },
  {
   "cell_type": "code",
   "execution_count": 48,
   "id": "663137b4",
   "metadata": {},
   "outputs": [
    {
     "data": {
      "application/vnd.bokehjs_exec.v0+json": "",
      "text/html": [
       "\n",
       "<script id=\"8086\">\n",
       "  (function() {\n",
       "    const xhr = new XMLHttpRequest()\n",
       "    xhr.responseType = 'blob';\n",
       "    xhr.open('GET', \"http://localhost:61273/autoload.js?bokeh-autoload-element=8086&bokeh-absolute-url=http://localhost:61273&resources=none\", true);\n",
       "    \n",
       "    xhr.onload = function (event) {\n",
       "      const script = document.createElement('script');\n",
       "      const src = URL.createObjectURL(event.target.response);\n",
       "      script.src = src;\n",
       "      document.body.appendChild(script);\n",
       "    };\n",
       "    xhr.send();\n",
       "  })();\n",
       "</script>"
      ]
     },
     "metadata": {
      "application/vnd.bokehjs_exec.v0+json": {
       "server_id": "9eb0dc7447e64942ad909903e8d37ed6"
      }
     },
     "output_type": "display_data"
    },
    {
     "data": {
      "application/vnd.jupyter.widget-view+json": {
       "model_id": "749db16fcdae45b898cfea983eaf810e",
       "version_major": 2,
       "version_minor": 0
      },
      "text/plain": [
       "VBox(children=(HTML(value=''),))"
      ]
     },
     "metadata": {},
     "output_type": "display_data"
    },
    {
     "data": {
      "text/plain": [
       "<nbutils.ResultScoresPlotter at 0x2a28ede50>"
      ]
     },
     "execution_count": 48,
     "metadata": {},
     "output_type": "execute_result"
    }
   ],
   "source": [
    "nbutils.plot_results(\n",
    "    gold_data, tag_weighted_index_builder.build_index(), \"though this be madness\"\n",
    ")"
   ]
  },
  {
   "cell_type": "markdown",
   "id": "dac2ee24",
   "metadata": {},
   "source": [
    "Tag-weighting moves the correct results far to the top, namely to ranks 1, 2, 4 and 6. By increasing the NN weight to 5, it is possible to promote the true positive on rank 73 to rank 15. This is a bit of an extreme measure though and we will not investigate it further here. Instead we investigate how the weighting affects the other queries. Therefore, we re-run the nDCG computation and compare it against unweighted WSB."
   ]
  },
  {
   "cell_type": "code",
   "execution_count": 49,
   "id": "06013d75",
   "metadata": {},
   "outputs": [
    {
     "data": {
      "application/vnd.jupyter.widget-view+json": {
       "model_id": "6b68f68fe4294b398c03170f27297529",
       "version_major": 2,
       "version_minor": 0
      },
      "text/plain": [
       "Tab(children=(HTML(value='<span style=\"line-height:normal;\"><p>Partition similarity is computed via <b>alignme…"
      ]
     },
     "metadata": {},
     "output_type": "display_data"
    }
   ],
   "source": [
    "index_builder_unweighted = make_index_builder(nlp)\n",
    "index_builder_unweighted"
   ]
  },
  {
   "cell_type": "code",
   "execution_count": 50,
   "id": "6b88c896",
   "metadata": {},
   "outputs": [
    {
     "data": {
      "application/vnd.jupyter.widget-view+json": {
       "model_id": "d3452bd73a604e919c77f6ab906f0c92",
       "version_major": 2,
       "version_minor": 0
      },
      "text/plain": [
       "  0%|          | 0/40 [00:00<?, ?it/s]"
      ]
     },
     "metadata": {},
     "output_type": "display_data"
    },
    {
     "data": {
      "text/html": [
       "\n",
       "\n",
       "\n",
       "\n",
       "\n",
       "\n",
       "  <div class=\"bk-root\" id=\"14ded745-8a4d-4e1d-9663-213151eda328\" data-root-id=\"8141\"></div>\n"
      ]
     },
     "metadata": {},
     "output_type": "display_data"
    },
    {
     "data": {
      "application/javascript": [
       "(function(root) {\n",
       "  function embed_document(root) {\n",
       "    \n",
       "  const docs_json = {\"a2020178-9ec1-4cc2-9af8-8f1cad500155\":{\"defs\":[],\"roots\":{\"references\":[{\"attributes\":{\"below\":[{\"id\":\"8151\"}],\"center\":[{\"id\":\"8154\"},{\"id\":\"8157\"},{\"id\":\"8168\"}],\"height\":800,\"left\":[{\"id\":\"8155\"}],\"renderers\":[{\"id\":\"8166\"}],\"title\":{\"id\":\"8142\"},\"toolbar\":{\"id\":\"8158\"},\"toolbar_location\":null,\"x_range\":{\"id\":\"8159\"},\"x_scale\":{\"id\":\"8147\"},\"y_range\":{\"id\":\"8140\"},\"y_scale\":{\"id\":\"8149\"}},\"id\":\"8141\",\"subtype\":\"Figure\",\"type\":\"Plot\"},{\"attributes\":{\"source\":{\"id\":\"8160\"}},\"id\":\"8167\",\"type\":\"CDSView\"},{\"attributes\":{},\"id\":\"8585\",\"type\":\"AllLabels\"},{\"attributes\":{},\"id\":\"8147\",\"type\":\"LinearScale\"},{\"attributes\":{\"factors\":[[\"O all you host of heaven!\",\"wsb_weighted\"],[\"O all you host of heaven!\",\"wsb_unweighted\"],[\"hell itself should gape\",\"wsb_weighted\"],[\"hell itself should gape\",\"wsb_unweighted\"],[\"frailty, thy name is woman\",\"wsb_weighted\"],[\"frailty, thy name is woman\",\"wsb_unweighted\"],[\"we will not carry coals\",\"wsb_weighted\"],[\"we will not carry coals\",\"wsb_unweighted\"],[\"All the world's a stage\",\"wsb_weighted\"],[\"All the world's a stage\",\"wsb_unweighted\"],[\"livers white as milk\",\"wsb_weighted\"],[\"livers white as milk\",\"wsb_unweighted\"],[\"I do bear a brain.\",\"wsb_weighted\"],[\"I do bear a brain.\",\"wsb_unweighted\"],[\"planets strike\",\"wsb_weighted\"],[\"planets strike\",\"wsb_unweighted\"],[\"though this be madness, yet\\nthere is method in it\",\"wsb_weighted\"],[\"though this be madness, yet\\nthere is method in it\",\"wsb_unweighted\"],[\"Illo, ho, ho, my lord\",\"wsb_weighted\"],[\"Illo, ho, ho, my lord\",\"wsb_unweighted\"],[\"springes to catch woodcocks\",\"wsb_weighted\"],[\"springes to catch woodcocks\",\"wsb_unweighted\"],[\"thereby hangs a tale\",\"wsb_weighted\"],[\"thereby hangs a tale\",\"wsb_unweighted\"],[\"go, by Saint Hieronimo\",\"wsb_weighted\"],[\"go, by Saint Hieronimo\",\"wsb_unweighted\"],[\"a horse, a horse, my kingdom\\nfor a horse\",\"wsb_weighted\"],[\"a horse, a horse, my kingdom\\nfor a horse\",\"wsb_unweighted\"],[\"In my mind's eye\",\"wsb_weighted\"],[\"In my mind's eye\",\"wsb_unweighted\"],[\"an old man is twice a child\",\"wsb_weighted\"],[\"an old man is twice a child\",\"wsb_unweighted\"],[\"The rest is silence.\",\"wsb_weighted\"],[\"The rest is silence.\",\"wsb_unweighted\"],[\"pampered jades of Asia\",\"wsb_weighted\"],[\"pampered jades of Asia\",\"wsb_unweighted\"],[\"sea of troubles\",\"wsb_weighted\"],[\"sea of troubles\",\"wsb_unweighted\"],[\"to be or not to be\",\"wsb_weighted\"],[\"to be or not to be\",\"wsb_unweighted\"],[\"\\u25d2 mean\",\"wsb_weighted\"],[\"\\u25d2 mean\",\"wsb_unweighted\"],[\"\\u25d2 median\",\"wsb_weighted\"],[\"\\u25d2 median\",\"wsb_unweighted\"]]},\"id\":\"8140\",\"type\":\"FactorRange\"},{\"attributes\":{},\"id\":\"8158\",\"type\":\"Toolbar\"},{\"attributes\":{},\"id\":\"8589\",\"type\":\"UnionRenderers\"},{\"attributes\":{\"coordinates\":null,\"group\":null,\"level\":\"glyph\",\"source\":{\"id\":\"8160\"},\"text\":{\"field\":\"ndcg_str\"},\"text_align\":{\"value\":\"right\"},\"text_baseline\":{\"value\":\"middle\"},\"text_color\":{\"value\":\"white\"},\"text_font_size\":{\"value\":\"8pt\"},\"x\":{\"field\":\"ndcg\"},\"y\":{\"field\":\"phrase\"}},\"id\":\"8168\",\"type\":\"LabelSet\"},{\"attributes\":{},\"id\":\"8149\",\"type\":\"CategoricalScale\"},{\"attributes\":{\"high\":1,\"low\":0,\"palette\":[\"#66c2a5\",\"#fc8d62\",\"#8da0cb\"]},\"id\":\"8161\",\"type\":\"LinearColorMapper\"},{\"attributes\":{},\"id\":\"8159\",\"type\":\"Range1d\"},{\"attributes\":{\"fill_alpha\":{\"value\":0.1},\"fill_color\":{\"field\":\"color\",\"transform\":{\"id\":\"8161\"}},\"hatch_alpha\":{\"value\":0.1},\"hatch_color\":{\"field\":\"color\",\"transform\":{\"id\":\"8161\"}},\"line_alpha\":{\"value\":0.1},\"line_color\":{\"field\":\"color\",\"transform\":{\"id\":\"8161\"}},\"right\":{\"field\":\"ndcg\"},\"y\":{\"field\":\"phrase\"}},\"id\":\"8164\",\"type\":\"HBar\"},{\"attributes\":{},\"id\":\"8588\",\"type\":\"AllLabels\"},{\"attributes\":{\"coordinates\":null,\"formatter\":{\"id\":\"8584\"},\"group\":null,\"group_label_orientation\":0,\"major_label_policy\":{\"id\":\"8585\"},\"ticker\":{\"id\":\"8156\"}},\"id\":\"8155\",\"type\":\"CategoricalAxis\"},{\"attributes\":{\"axis_label\":\"nDCG\",\"coordinates\":null,\"formatter\":{\"id\":\"8587\"},\"group\":null,\"major_label_policy\":{\"id\":\"8588\"},\"ticker\":{\"id\":\"8152\"}},\"id\":\"8151\",\"type\":\"LinearAxis\"},{\"attributes\":{},\"id\":\"8584\",\"type\":\"CategoricalTickFormatter\"},{\"attributes\":{},\"id\":\"8587\",\"type\":\"BasicTickFormatter\"},{\"attributes\":{},\"id\":\"8156\",\"type\":\"CategoricalTicker\"},{\"attributes\":{},\"id\":\"8152\",\"type\":\"BasicTicker\"},{\"attributes\":{\"coordinates\":null,\"group\":null},\"id\":\"8142\",\"type\":\"Title\"},{\"attributes\":{},\"id\":\"8590\",\"type\":\"Selection\"},{\"attributes\":{\"coordinates\":null,\"data_source\":{\"id\":\"8160\"},\"glyph\":{\"id\":\"8163\"},\"group\":null,\"hover_glyph\":null,\"muted_glyph\":{\"id\":\"8165\"},\"nonselection_glyph\":{\"id\":\"8164\"},\"view\":{\"id\":\"8167\"}},\"id\":\"8166\",\"type\":\"GlyphRenderer\"},{\"attributes\":{\"axis\":{\"id\":\"8155\"},\"coordinates\":null,\"dimension\":1,\"group\":null,\"ticker\":null,\"visible\":false},\"id\":\"8157\",\"type\":\"Grid\"},{\"attributes\":{\"data\":{\"color\":{\"__ndarray__\":\"AAAAAAAAAAAAAAAAAADwPwAAAAAAAAAAAAAAAAAA8D8AAAAAAAAAAAAAAAAAAPA/AAAAAAAAAAAAAAAAAADwPwAAAAAAAAAAAAAAAAAA8D8AAAAAAAAAAAAAAAAAAPA/AAAAAAAAAAAAAAAAAADwPwAAAAAAAAAAAAAAAAAA8D8AAAAAAAAAAAAAAAAAAPA/AAAAAAAAAAAAAAAAAADwPwAAAAAAAAAAAAAAAAAA8D8AAAAAAAAAAAAAAAAAAPA/AAAAAAAAAAAAAAAAAADwPwAAAAAAAAAAAAAAAAAA8D8AAAAAAAAAAAAAAAAAAPA/AAAAAAAAAAAAAAAAAADwPwAAAAAAAAAAAAAAAAAA8D8AAAAAAAAAAAAAAAAAAPA/AAAAAAAAAAAAAAAAAADwPwAAAAAAAAAAAAAAAAAA8D8AAAAAAAAAAAAAAAAAAPA/AAAAAAAAAAAAAAAAAADwPw==\",\"dtype\":\"float64\",\"order\":\"little\",\"shape\":[44]},\"ndcg\":{\"__ndarray__\":\"AAAAAAAA8D8AAAAAAADwP/hDX8Uaa+w/pQrXk54n7D/dCnAY2nPvPwAAAAAAAPA/0Dwx+Tlo7D/QPDH5OWjsPwj42kpabu0/Wf1IbnPP6T8+C5tRzxHnP7ooV0PGFeU/AAAAAAAA8D/dCnAY2nPvPwAAAAAAAPA/AAAAAAAA8D85N1pJEQbsPzjs6MNgg9c/NSZnkTQy7T/Wxr5jHFvuP/zTguGSQO8//NOC4ZJA7z8AAAAAAADwPwAAAAAAAPA/PhmjrNqq7z8+GaOs2qrvP05BFeIW4u8/AAAAAAAA8D/oaqBqf/XuPwfI5Us01+c/D6FvxED/7D9eBOtsOlvuP72H5ml8cO4/AAAAAAAA8D8AAAAAAADwPwAAAAAAAPA/PhmjrNqq7z8AAAAAAADwP2RwzRnmd+8/ZHDNGeZ37z/QguRnDlHuP8VkevmSFO0/bG/5fDZa7z+gvR4Z4HXvPw==\",\"dtype\":\"float64\",\"order\":\"little\",\"shape\":[44]},\"ndcg_str\":[\"100.0%\",\"100.0%\",\"88.8%\",\"88.0%\",\"98.3%\",\"100.0%\",\"88.8%\",\"88.8%\",\"92.0%\",\"80.7%\",\"72.1%\",\"65.9%\",\"100.0%\",\"98.3%\",\"100.0%\",\"100.0%\",\"87.6%\",\"36.7%\",\"91.2%\",\"94.9%\",\"97.7%\",\"97.7%\",\"100.0%\",\"100.0%\",\"99.0%\",\"99.0%\",\"99.6%\",\"100.0%\",\"96.7%\",\"74.5%\",\"90.6%\",\"94.9%\",\"95.1%\",\"100.0%\",\"100.0%\",\"100.0%\",\"99.0%\",\"100.0%\",\"98.3%\",\"98.3%\",\"94.7%\",\"90.9%\",\"98.0%\",\"98.3%\"],\"phrase\":[[\"O all you host of heaven!\",\"wsb_weighted\"],[\"O all you host of heaven!\",\"wsb_unweighted\"],[\"hell itself should gape\",\"wsb_weighted\"],[\"hell itself should gape\",\"wsb_unweighted\"],[\"frailty, thy name is woman\",\"wsb_weighted\"],[\"frailty, thy name is woman\",\"wsb_unweighted\"],[\"we will not carry coals\",\"wsb_weighted\"],[\"we will not carry coals\",\"wsb_unweighted\"],[\"All the world's a stage\",\"wsb_weighted\"],[\"All the world's a stage\",\"wsb_unweighted\"],[\"livers white as milk\",\"wsb_weighted\"],[\"livers white as milk\",\"wsb_unweighted\"],[\"I do bear a brain.\",\"wsb_weighted\"],[\"I do bear a brain.\",\"wsb_unweighted\"],[\"planets strike\",\"wsb_weighted\"],[\"planets strike\",\"wsb_unweighted\"],[\"though this be madness, yet\\nthere is method in it\",\"wsb_weighted\"],[\"though this be madness, yet\\nthere is method in it\",\"wsb_unweighted\"],[\"Illo, ho, ho, my lord\",\"wsb_weighted\"],[\"Illo, ho, ho, my lord\",\"wsb_unweighted\"],[\"springes to catch woodcocks\",\"wsb_weighted\"],[\"springes to catch woodcocks\",\"wsb_unweighted\"],[\"thereby hangs a tale\",\"wsb_weighted\"],[\"thereby hangs a tale\",\"wsb_unweighted\"],[\"go, by Saint Hieronimo\",\"wsb_weighted\"],[\"go, by Saint Hieronimo\",\"wsb_unweighted\"],[\"a horse, a horse, my kingdom\\nfor a horse\",\"wsb_weighted\"],[\"a horse, a horse, my kingdom\\nfor a horse\",\"wsb_unweighted\"],[\"In my mind's eye\",\"wsb_weighted\"],[\"In my mind's eye\",\"wsb_unweighted\"],[\"an old man is twice a child\",\"wsb_weighted\"],[\"an old man is twice a child\",\"wsb_unweighted\"],[\"The rest is silence.\",\"wsb_weighted\"],[\"The rest is silence.\",\"wsb_unweighted\"],[\"pampered jades of Asia\",\"wsb_weighted\"],[\"pampered jades of Asia\",\"wsb_unweighted\"],[\"sea of troubles\",\"wsb_weighted\"],[\"sea of troubles\",\"wsb_unweighted\"],[\"to be or not to be\",\"wsb_weighted\"],[\"to be or not to be\",\"wsb_unweighted\"],[\"\\u25d2 mean\",\"wsb_weighted\"],[\"\\u25d2 mean\",\"wsb_unweighted\"],[\"\\u25d2 median\",\"wsb_weighted\"],[\"\\u25d2 median\",\"wsb_unweighted\"]],\"tags\":[\"phrase\",\"phrase\",\"phrase\",\"phrase\",\"phrase\",\"phrase\",\"phrase\",\"phrase\",\"phrase\",\"phrase\",\"phrase\",\"phrase\",\"phrase\",\"phrase\",\"phrase\",\"phrase\",\"phrase\",\"phrase\",\"phrase\",\"phrase\",\"phrase\",\"phrase\",\"phrase\",\"phrase\",\"phrase\",\"phrase\",\"phrase\",\"phrase\",\"phrase\",\"phrase\",\"phrase\",\"phrase\",\"phrase\",\"phrase\",\"phrase\",\"phrase\",\"phrase\",\"phrase\",\"phrase\",\"phrase\",\"stats\",\"stats\",\"stats\",\"stats\"],\"y\":[0,2,4,6,8,10,12,14,16,18,20,22,24,26,28,30,32,34,36,38,40,42,44,46,48,50,52,54,56,58,60,62,64,66,68,70,72,74,76,78,80,82,84,86]},\"selected\":{\"id\":\"8590\"},\"selection_policy\":{\"id\":\"8589\"}},\"id\":\"8160\",\"type\":\"ColumnDataSource\"},{\"attributes\":{\"axis\":{\"id\":\"8151\"},\"coordinates\":null,\"group\":null,\"ticker\":null},\"id\":\"8154\",\"type\":\"Grid\"},{\"attributes\":{\"fill_alpha\":{\"value\":0.2},\"fill_color\":{\"field\":\"color\",\"transform\":{\"id\":\"8161\"}},\"hatch_alpha\":{\"value\":0.2},\"hatch_color\":{\"field\":\"color\",\"transform\":{\"id\":\"8161\"}},\"line_alpha\":{\"value\":0.2},\"line_color\":{\"field\":\"color\",\"transform\":{\"id\":\"8161\"}},\"right\":{\"field\":\"ndcg\"},\"y\":{\"field\":\"phrase\"}},\"id\":\"8165\",\"type\":\"HBar\"},{\"attributes\":{\"fill_color\":{\"field\":\"color\",\"transform\":{\"id\":\"8161\"}},\"hatch_color\":{\"field\":\"color\",\"transform\":{\"id\":\"8161\"}},\"line_color\":{\"field\":\"color\",\"transform\":{\"id\":\"8161\"}},\"right\":{\"field\":\"ndcg\"},\"y\":{\"field\":\"phrase\"}},\"id\":\"8163\",\"type\":\"HBar\"}],\"root_ids\":[\"8141\"]},\"title\":\"Bokeh Application\",\"version\":\"2.4.0\"}};\n",
       "  const render_items = [{\"docid\":\"a2020178-9ec1-4cc2-9af8-8f1cad500155\",\"root_ids\":[\"8141\"],\"roots\":{\"8141\":\"14ded745-8a4d-4e1d-9663-213151eda328\"}}];\n",
       "  root.Bokeh.embed.embed_items_notebook(docs_json, render_items);\n",
       "\n",
       "  }\n",
       "  if (root.Bokeh !== undefined) {\n",
       "    embed_document(root);\n",
       "  } else {\n",
       "    let attempts = 0;\n",
       "    const timer = setInterval(function(root) {\n",
       "      if (root.Bokeh !== undefined) {\n",
       "        clearInterval(timer);\n",
       "        embed_document(root);\n",
       "      } else {\n",
       "        attempts++;\n",
       "        if (attempts > 100) {\n",
       "          clearInterval(timer);\n",
       "          console.log(\"Bokeh: ERROR: Unable to run BokehJS code because BokehJS library is missing\");\n",
       "        }\n",
       "      }\n",
       "    }, 10, root)\n",
       "  }\n",
       "})(window);"
      ],
      "application/vnd.bokehjs_exec.v0+json": ""
     },
     "metadata": {
      "application/vnd.bokehjs_exec.v0+json": {
       "id": "8141"
      }
     },
     "output_type": "display_data"
    }
   ],
   "source": [
    "import importlib\n",
    "importlib.reload(nbutils)\n",
    "\n",
    "tw_data = nbutils.plot_ndcgs(\n",
    "    gold_data,\n",
    "    {\n",
    "        \"wsb_unweighted\": index_builder_unweighted.build_index(),\n",
    "        \"wsb_weighted\": tag_weighted_index_builder.build_index(),\n",
    "    },\n",
    ")"
   ]
  },
  {
   "cell_type": "markdown",
   "id": "79a49983",
   "metadata": {},
   "source": [
    "The evaluation shows that even though there is an improvement in the mean nDCG when employing POS tag weighting for the corpus, the effect vanishes when computing the median. When looking at the results in detail, we see that the better overall mean value can be tracked down to an improvement in only three queries (see top 3 entries in column *better* below). In fact, the first query is the one we used as rationale for the whole design. More research is needed to understand if tag weighted alignment might in general benefit some subset of queries."
   ]
  },
  {
   "cell_type": "code",
   "execution_count": 51,
   "id": "0b09f971-c1eb-4a69-ab1a-6a246a2f2f70",
   "metadata": {},
   "outputs": [
    {
     "data": {
      "application/vnd.jupyter.widget-view+json": {
       "model_id": "afe3b1b14e40409586f72413681bb32a",
       "version_major": 2,
       "version_minor": 0
      },
      "text/plain": [
       "VBox(children=(HBox(children=(HTML(value='<b>wsb_weighted is better</b><br>\"though this be madness, yet there …"
      ]
     },
     "metadata": {},
     "output_type": "display_data"
    }
   ],
   "source": [
    "nbutils.eval_strategies(tw_data, gold_data)"
   ]
  },
  {
   "cell_type": "markdown",
   "id": "5283d93a",
   "metadata": {},
   "source": [
    "## 3.4 The influence of different embeddings <a class=\"anchor\" id=\"section_3_4\"></a>"
   ]
  },
  {
   "cell_type": "markdown",
   "id": "9265e37a",
   "metadata": {},
   "source": [
    "While we have varied the similarity metrics in the previous example, we will now look into the effect that different embeddings might have on the results. The caveat here is that we are using compressed embeddings, i.e. we would need to verify these results with uncompressed embeddings. Still, the performance of compressed fastText seems very solid."
   ]
  },
  {
   "cell_type": "code",
   "execution_count": 52,
   "id": "e78507f9",
   "metadata": {},
   "outputs": [
    {
     "data": {
      "application/vnd.jupyter.widget-view+json": {
       "model_id": "ab4de99459d24716b9215a391d400e67",
       "version_major": 2,
       "version_minor": 0
      },
      "text/plain": [
       "Accordion(children=(Tab(children=(HTML(value='<span style=\"line-height:normal;\"><p>Partition similarity is com…"
      ]
     },
     "metadata": {},
     "output_type": "display_data"
    }
   ],
   "source": [
    "index_builders = {}\n",
    "\n",
    "# for each embedding, define a search strategy based on tag-weighted alignments\n",
    "for e in the_embeddings.values():\n",
    "    index_builders[e.name] = make_index_builder(\n",
    "        nlp=e.nlp if e.is_contextual else nlp,\n",
    "        strategy=\"Tag-Weighted Alignment\",\n",
    "        strategy_options={\"tag_weights\": {\"NN\": 3}, \"similarity\": {\"embedding\": e}},\n",
    "    )\n",
    "\n",
    "# present an UI to interactively edit these search strategies\n",
    "accordion = widgets.Accordion(children=[x.displayable for x in index_builders.values()])\n",
    "for i, k in enumerate(index_builders.keys()):\n",
    "    accordion.set_title(i, k)\n",
    "accordion"
   ]
  },
  {
   "cell_type": "code",
   "execution_count": 53,
   "id": "db53567e",
   "metadata": {},
   "outputs": [
    {
     "data": {
      "application/vnd.jupyter.widget-view+json": {
       "model_id": "ae6b3b5b54b849faa444e0387bdd472b",
       "version_major": 2,
       "version_minor": 0
      },
      "text/plain": [
       "  0%|          | 0/120 [00:00<?, ?it/s]"
      ]
     },
     "metadata": {},
     "output_type": "display_data"
    },
    {
     "data": {
      "text/html": [
       "\n",
       "\n",
       "\n",
       "\n",
       "\n",
       "\n",
       "  <div class=\"bk-root\" id=\"9f98d851-6e09-4707-8620-bfffe5209795\" data-root-id=\"8657\"></div>\n"
      ]
     },
     "metadata": {},
     "output_type": "display_data"
    },
    {
     "data": {
      "application/javascript": [
       "(function(root) {\n",
       "  function embed_document(root) {\n",
       "    \n",
       "  const docs_json = {\"5c06cf8d-3039-444f-a6c7-2f02182553bb\":{\"defs\":[],\"roots\":{\"references\":[{\"attributes\":{\"below\":[{\"id\":\"8667\"}],\"center\":[{\"id\":\"8670\"},{\"id\":\"8673\"},{\"id\":\"8684\"}],\"height\":2400,\"left\":[{\"id\":\"8671\"}],\"renderers\":[{\"id\":\"8682\"}],\"title\":{\"id\":\"8658\"},\"toolbar\":{\"id\":\"8674\"},\"toolbar_location\":null,\"x_range\":{\"id\":\"8675\"},\"x_scale\":{\"id\":\"8663\"},\"y_range\":{\"id\":\"8656\"},\"y_scale\":{\"id\":\"8665\"}},\"id\":\"8657\",\"subtype\":\"Figure\",\"type\":\"Plot\"},{\"attributes\":{\"coordinates\":null,\"formatter\":{\"id\":\"9109\"},\"group\":null,\"group_label_orientation\":0,\"major_label_policy\":{\"id\":\"9110\"},\"ticker\":{\"id\":\"8672\"}},\"id\":\"8671\",\"type\":\"CategoricalAxis\"},{\"attributes\":{\"source\":{\"id\":\"8676\"}},\"id\":\"8683\",\"type\":\"CDSView\"},{\"attributes\":{\"fill_alpha\":{\"value\":0.2},\"fill_color\":{\"field\":\"color\",\"transform\":{\"id\":\"8677\"}},\"hatch_alpha\":{\"value\":0.2},\"hatch_color\":{\"field\":\"color\",\"transform\":{\"id\":\"8677\"}},\"line_alpha\":{\"value\":0.2},\"line_color\":{\"field\":\"color\",\"transform\":{\"id\":\"8677\"}},\"right\":{\"field\":\"ndcg\"},\"y\":{\"field\":\"phrase\"}},\"id\":\"8681\",\"type\":\"HBar\"},{\"attributes\":{\"axis\":{\"id\":\"8667\"},\"coordinates\":null,\"group\":null,\"ticker\":null},\"id\":\"8670\",\"type\":\"Grid\"},{\"attributes\":{},\"id\":\"9115\",\"type\":\"Selection\"},{\"attributes\":{\"coordinates\":null,\"group\":null},\"id\":\"8658\",\"type\":\"Title\"},{\"attributes\":{},\"id\":\"8672\",\"type\":\"CategoricalTicker\"},{\"attributes\":{},\"id\":\"9114\",\"type\":\"UnionRenderers\"},{\"attributes\":{\"fill_color\":{\"field\":\"color\",\"transform\":{\"id\":\"8677\"}},\"hatch_color\":{\"field\":\"color\",\"transform\":{\"id\":\"8677\"}},\"line_color\":{\"field\":\"color\",\"transform\":{\"id\":\"8677\"}},\"right\":{\"field\":\"ndcg\"},\"y\":{\"field\":\"phrase\"}},\"id\":\"8679\",\"type\":\"HBar\"},{\"attributes\":{\"fill_alpha\":{\"value\":0.1},\"fill_color\":{\"field\":\"color\",\"transform\":{\"id\":\"8677\"}},\"hatch_alpha\":{\"value\":0.1},\"hatch_color\":{\"field\":\"color\",\"transform\":{\"id\":\"8677\"}},\"line_alpha\":{\"value\":0.1},\"line_color\":{\"field\":\"color\",\"transform\":{\"id\":\"8677\"}},\"right\":{\"field\":\"ndcg\"},\"y\":{\"field\":\"phrase\"}},\"id\":\"8680\",\"type\":\"HBar\"},{\"attributes\":{},\"id\":\"9112\",\"type\":\"BasicTickFormatter\"},{\"attributes\":{},\"id\":\"8675\",\"type\":\"Range1d\"},{\"attributes\":{\"factors\":[[\"O all you host of heaven!\",\"https://explosion.ai/en/msmarco-distilbe\\u2026\"],[\"O all you host of heaven!\",\"https://explosion.ai/en/en_paraphrase_di\\u2026\"],[\"O all you host of heaven!\",\"fasttext-en-mini + numberbatch-19.08-en\"],[\"O all you host of heaven!\",\"numberbatch-19.08-en\"],[\"O all you host of heaven!\",\"fasttext-en-mini\"],[\"O all you host of heaven!\",\"glove-6B-50\"],[\"hell itself should gape\",\"https://explosion.ai/en/msmarco-distilbe\\u2026\"],[\"hell itself should gape\",\"https://explosion.ai/en/en_paraphrase_di\\u2026\"],[\"hell itself should gape\",\"fasttext-en-mini + numberbatch-19.08-en\"],[\"hell itself should gape\",\"numberbatch-19.08-en\"],[\"hell itself should gape\",\"fasttext-en-mini\"],[\"hell itself should gape\",\"glove-6B-50\"],[\"frailty, thy name is woman\",\"https://explosion.ai/en/msmarco-distilbe\\u2026\"],[\"frailty, thy name is woman\",\"https://explosion.ai/en/en_paraphrase_di\\u2026\"],[\"frailty, thy name is woman\",\"fasttext-en-mini + numberbatch-19.08-en\"],[\"frailty, thy name is woman\",\"numberbatch-19.08-en\"],[\"frailty, thy name is woman\",\"fasttext-en-mini\"],[\"frailty, thy name is woman\",\"glove-6B-50\"],[\"we will not carry coals\",\"https://explosion.ai/en/msmarco-distilbe\\u2026\"],[\"we will not carry coals\",\"https://explosion.ai/en/en_paraphrase_di\\u2026\"],[\"we will not carry coals\",\"fasttext-en-mini + numberbatch-19.08-en\"],[\"we will not carry coals\",\"numberbatch-19.08-en\"],[\"we will not carry coals\",\"fasttext-en-mini\"],[\"we will not carry coals\",\"glove-6B-50\"],[\"All the world's a stage\",\"https://explosion.ai/en/msmarco-distilbe\\u2026\"],[\"All the world's a stage\",\"https://explosion.ai/en/en_paraphrase_di\\u2026\"],[\"All the world's a stage\",\"fasttext-en-mini + numberbatch-19.08-en\"],[\"All the world's a stage\",\"numberbatch-19.08-en\"],[\"All the world's a stage\",\"fasttext-en-mini\"],[\"All the world's a stage\",\"glove-6B-50\"],[\"livers white as milk\",\"https://explosion.ai/en/msmarco-distilbe\\u2026\"],[\"livers white as milk\",\"https://explosion.ai/en/en_paraphrase_di\\u2026\"],[\"livers white as milk\",\"fasttext-en-mini + numberbatch-19.08-en\"],[\"livers white as milk\",\"numberbatch-19.08-en\"],[\"livers white as milk\",\"fasttext-en-mini\"],[\"livers white as milk\",\"glove-6B-50\"],[\"I do bear a brain.\",\"https://explosion.ai/en/msmarco-distilbe\\u2026\"],[\"I do bear a brain.\",\"https://explosion.ai/en/en_paraphrase_di\\u2026\"],[\"I do bear a brain.\",\"fasttext-en-mini + numberbatch-19.08-en\"],[\"I do bear a brain.\",\"numberbatch-19.08-en\"],[\"I do bear a brain.\",\"fasttext-en-mini\"],[\"I do bear a brain.\",\"glove-6B-50\"],[\"planets strike\",\"https://explosion.ai/en/msmarco-distilbe\\u2026\"],[\"planets strike\",\"https://explosion.ai/en/en_paraphrase_di\\u2026\"],[\"planets strike\",\"fasttext-en-mini + numberbatch-19.08-en\"],[\"planets strike\",\"numberbatch-19.08-en\"],[\"planets strike\",\"fasttext-en-mini\"],[\"planets strike\",\"glove-6B-50\"],[\"though this be madness, yet\\nthere is method in it\",\"https://explosion.ai/en/msmarco-distilbe\\u2026\"],[\"though this be madness, yet\\nthere is method in it\",\"https://explosion.ai/en/en_paraphrase_di\\u2026\"],[\"though this be madness, yet\\nthere is method in it\",\"fasttext-en-mini + numberbatch-19.08-en\"],[\"though this be madness, yet\\nthere is method in it\",\"numberbatch-19.08-en\"],[\"though this be madness, yet\\nthere is method in it\",\"fasttext-en-mini\"],[\"though this be madness, yet\\nthere is method in it\",\"glove-6B-50\"],[\"Illo, ho, ho, my lord\",\"https://explosion.ai/en/msmarco-distilbe\\u2026\"],[\"Illo, ho, ho, my lord\",\"https://explosion.ai/en/en_paraphrase_di\\u2026\"],[\"Illo, ho, ho, my lord\",\"fasttext-en-mini + numberbatch-19.08-en\"],[\"Illo, ho, ho, my lord\",\"numberbatch-19.08-en\"],[\"Illo, ho, ho, my lord\",\"fasttext-en-mini\"],[\"Illo, ho, ho, my lord\",\"glove-6B-50\"],[\"springes to catch woodcocks\",\"https://explosion.ai/en/msmarco-distilbe\\u2026\"],[\"springes to catch woodcocks\",\"https://explosion.ai/en/en_paraphrase_di\\u2026\"],[\"springes to catch woodcocks\",\"fasttext-en-mini + numberbatch-19.08-en\"],[\"springes to catch woodcocks\",\"numberbatch-19.08-en\"],[\"springes to catch woodcocks\",\"fasttext-en-mini\"],[\"springes to catch woodcocks\",\"glove-6B-50\"],[\"thereby hangs a tale\",\"https://explosion.ai/en/msmarco-distilbe\\u2026\"],[\"thereby hangs a tale\",\"https://explosion.ai/en/en_paraphrase_di\\u2026\"],[\"thereby hangs a tale\",\"fasttext-en-mini + numberbatch-19.08-en\"],[\"thereby hangs a tale\",\"numberbatch-19.08-en\"],[\"thereby hangs a tale\",\"fasttext-en-mini\"],[\"thereby hangs a tale\",\"glove-6B-50\"],[\"go, by Saint Hieronimo\",\"https://explosion.ai/en/msmarco-distilbe\\u2026\"],[\"go, by Saint Hieronimo\",\"https://explosion.ai/en/en_paraphrase_di\\u2026\"],[\"go, by Saint Hieronimo\",\"fasttext-en-mini + numberbatch-19.08-en\"],[\"go, by Saint Hieronimo\",\"numberbatch-19.08-en\"],[\"go, by Saint Hieronimo\",\"fasttext-en-mini\"],[\"go, by Saint Hieronimo\",\"glove-6B-50\"],[\"a horse, a horse, my kingdom\\nfor a horse\",\"https://explosion.ai/en/msmarco-distilbe\\u2026\"],[\"a horse, a horse, my kingdom\\nfor a horse\",\"https://explosion.ai/en/en_paraphrase_di\\u2026\"],[\"a horse, a horse, my kingdom\\nfor a horse\",\"fasttext-en-mini + numberbatch-19.08-en\"],[\"a horse, a horse, my kingdom\\nfor a horse\",\"numberbatch-19.08-en\"],[\"a horse, a horse, my kingdom\\nfor a horse\",\"fasttext-en-mini\"],[\"a horse, a horse, my kingdom\\nfor a horse\",\"glove-6B-50\"],[\"In my mind's eye\",\"https://explosion.ai/en/msmarco-distilbe\\u2026\"],[\"In my mind's eye\",\"https://explosion.ai/en/en_paraphrase_di\\u2026\"],[\"In my mind's eye\",\"fasttext-en-mini + numberbatch-19.08-en\"],[\"In my mind's eye\",\"numberbatch-19.08-en\"],[\"In my mind's eye\",\"fasttext-en-mini\"],[\"In my mind's eye\",\"glove-6B-50\"],[\"an old man is twice a child\",\"https://explosion.ai/en/msmarco-distilbe\\u2026\"],[\"an old man is twice a child\",\"https://explosion.ai/en/en_paraphrase_di\\u2026\"],[\"an old man is twice a child\",\"fasttext-en-mini + numberbatch-19.08-en\"],[\"an old man is twice a child\",\"numberbatch-19.08-en\"],[\"an old man is twice a child\",\"fasttext-en-mini\"],[\"an old man is twice a child\",\"glove-6B-50\"],[\"The rest is silence.\",\"https://explosion.ai/en/msmarco-distilbe\\u2026\"],[\"The rest is silence.\",\"https://explosion.ai/en/en_paraphrase_di\\u2026\"],[\"The rest is silence.\",\"fasttext-en-mini + numberbatch-19.08-en\"],[\"The rest is silence.\",\"numberbatch-19.08-en\"],[\"The rest is silence.\",\"fasttext-en-mini\"],[\"The rest is silence.\",\"glove-6B-50\"],[\"pampered jades of Asia\",\"https://explosion.ai/en/msmarco-distilbe\\u2026\"],[\"pampered jades of Asia\",\"https://explosion.ai/en/en_paraphrase_di\\u2026\"],[\"pampered jades of Asia\",\"fasttext-en-mini + numberbatch-19.08-en\"],[\"pampered jades of Asia\",\"numberbatch-19.08-en\"],[\"pampered jades of Asia\",\"fasttext-en-mini\"],[\"pampered jades of Asia\",\"glove-6B-50\"],[\"sea of troubles\",\"https://explosion.ai/en/msmarco-distilbe\\u2026\"],[\"sea of troubles\",\"https://explosion.ai/en/en_paraphrase_di\\u2026\"],[\"sea of troubles\",\"fasttext-en-mini + numberbatch-19.08-en\"],[\"sea of troubles\",\"numberbatch-19.08-en\"],[\"sea of troubles\",\"fasttext-en-mini\"],[\"sea of troubles\",\"glove-6B-50\"],[\"to be or not to be\",\"https://explosion.ai/en/msmarco-distilbe\\u2026\"],[\"to be or not to be\",\"https://explosion.ai/en/en_paraphrase_di\\u2026\"],[\"to be or not to be\",\"fasttext-en-mini + numberbatch-19.08-en\"],[\"to be or not to be\",\"numberbatch-19.08-en\"],[\"to be or not to be\",\"fasttext-en-mini\"],[\"to be or not to be\",\"glove-6B-50\"],[\"\\u25d2 mean\",\"https://explosion.ai/en/msmarco-distilbe\\u2026\"],[\"\\u25d2 mean\",\"https://explosion.ai/en/en_paraphrase_di\\u2026\"],[\"\\u25d2 mean\",\"fasttext-en-mini + numberbatch-19.08-en\"],[\"\\u25d2 mean\",\"numberbatch-19.08-en\"],[\"\\u25d2 mean\",\"fasttext-en-mini\"],[\"\\u25d2 mean\",\"glove-6B-50\"],[\"\\u25d2 median\",\"https://explosion.ai/en/msmarco-distilbe\\u2026\"],[\"\\u25d2 median\",\"https://explosion.ai/en/en_paraphrase_di\\u2026\"],[\"\\u25d2 median\",\"fasttext-en-mini + numberbatch-19.08-en\"],[\"\\u25d2 median\",\"numberbatch-19.08-en\"],[\"\\u25d2 median\",\"fasttext-en-mini\"],[\"\\u25d2 median\",\"glove-6B-50\"]]},\"id\":\"8656\",\"type\":\"FactorRange\"},{\"attributes\":{\"coordinates\":null,\"group\":null,\"level\":\"glyph\",\"source\":{\"id\":\"8676\"},\"text\":{\"field\":\"ndcg_str\"},\"text_align\":{\"value\":\"right\"},\"text_baseline\":{\"value\":\"middle\"},\"text_color\":{\"value\":\"white\"},\"text_font_size\":{\"value\":\"8pt\"},\"x\":{\"field\":\"ndcg\"},\"y\":{\"field\":\"phrase\"}},\"id\":\"8684\",\"type\":\"LabelSet\"},{\"attributes\":{},\"id\":\"9110\",\"type\":\"AllLabels\"},{\"attributes\":{\"high\":1,\"low\":0,\"palette\":[\"#66c2a5\",\"#fc8d62\",\"#8da0cb\",\"#e78ac3\",\"#a6d854\",\"#ffd92f\"]},\"id\":\"8677\",\"type\":\"LinearColorMapper\"},{\"attributes\":{\"coordinates\":null,\"data_source\":{\"id\":\"8676\"},\"glyph\":{\"id\":\"8679\"},\"group\":null,\"hover_glyph\":null,\"muted_glyph\":{\"id\":\"8681\"},\"nonselection_glyph\":{\"id\":\"8680\"},\"view\":{\"id\":\"8683\"}},\"id\":\"8682\",\"type\":\"GlyphRenderer\"},{\"attributes\":{},\"id\":\"8665\",\"type\":\"CategoricalScale\"},{\"attributes\":{},\"id\":\"8668\",\"type\":\"BasicTicker\"},{\"attributes\":{},\"id\":\"9109\",\"type\":\"CategoricalTickFormatter\"},{\"attributes\":{\"data\":{\"color\":{\"__ndarray__\":\"AAAAAAAAAACamZmZmZnJP5qZmZmZmdk/NDMzMzMz4z+amZmZmZnpPwAAAAAAAPA/AAAAAAAAAACamZmZmZnJP5qZmZmZmdk/NDMzMzMz4z+amZmZmZnpPwAAAAAAAPA/AAAAAAAAAACamZmZmZnJP5qZmZmZmdk/NDMzMzMz4z+amZmZmZnpPwAAAAAAAPA/AAAAAAAAAACamZmZmZnJP5qZmZmZmdk/NDMzMzMz4z+amZmZmZnpPwAAAAAAAPA/AAAAAAAAAACamZmZmZnJP5qZmZmZmdk/NDMzMzMz4z+amZmZmZnpPwAAAAAAAPA/AAAAAAAAAACamZmZmZnJP5qZmZmZmdk/NDMzMzMz4z+amZmZmZnpPwAAAAAAAPA/AAAAAAAAAACamZmZmZnJP5qZmZmZmdk/NDMzMzMz4z+amZmZmZnpPwAAAAAAAPA/AAAAAAAAAACamZmZmZnJP5qZmZmZmdk/NDMzMzMz4z+amZmZmZnpPwAAAAAAAPA/AAAAAAAAAACamZmZmZnJP5qZmZmZmdk/NDMzMzMz4z+amZmZmZnpPwAAAAAAAPA/AAAAAAAAAACamZmZmZnJP5qZmZmZmdk/NDMzMzMz4z+amZmZmZnpPwAAAAAAAPA/AAAAAAAAAACamZmZmZnJP5qZmZmZmdk/NDMzMzMz4z+amZmZmZnpPwAAAAAAAPA/AAAAAAAAAACamZmZmZnJP5qZmZmZmdk/NDMzMzMz4z+amZmZmZnpPwAAAAAAAPA/AAAAAAAAAACamZmZmZnJP5qZmZmZmdk/NDMzMzMz4z+amZmZmZnpPwAAAAAAAPA/AAAAAAAAAACamZmZmZnJP5qZmZmZmdk/NDMzMzMz4z+amZmZmZnpPwAAAAAAAPA/AAAAAAAAAACamZmZmZnJP5qZmZmZmdk/NDMzMzMz4z+amZmZmZnpPwAAAAAAAPA/AAAAAAAAAACamZmZmZnJP5qZmZmZmdk/NDMzMzMz4z+amZmZmZnpPwAAAAAAAPA/AAAAAAAAAACamZmZmZnJP5qZmZmZmdk/NDMzMzMz4z+amZmZmZnpPwAAAAAAAPA/AAAAAAAAAACamZmZmZnJP5qZmZmZmdk/NDMzMzMz4z+amZmZmZnpPwAAAAAAAPA/AAAAAAAAAACamZmZmZnJP5qZmZmZmdk/NDMzMzMz4z+amZmZmZnpPwAAAAAAAPA/AAAAAAAAAACamZmZmZnJP5qZmZmZmdk/NDMzMzMz4z+amZmZmZnpPwAAAAAAAPA/AAAAAAAAAACamZmZmZnJP5qZmZmZmdk/NDMzMzMz4z+amZmZmZnpPwAAAAAAAPA/AAAAAAAAAACamZmZmZnJP5qZmZmZmdk/NDMzMzMz4z+amZmZmZnpPwAAAAAAAPA/\",\"dtype\":\"float64\",\"order\":\"little\",\"shape\":[132]},\"ndcg\":{\"__ndarray__\":\"AAAAAAAA8D8AAAAAAADwPwAAAAAAAPA/AAAAAAAA8D8AAAAAAADwPwAAAAAAAPA/UkmVDvNi6z/jQkmAtozsP3a4Hc0Xbew/BraH0gBa7T/4Q1/FGmvsP5gjPW1mIe4/3QpwGNpz7z/12C7y2BHvP90KcBjac+8/7y+e4wCo7T/dCnAY2nPvPwAAAAAAAPA/7jqzj5xx7D8i2Vxn2JLrP5e1r3hJbew/BoX42SwB7D/QPDH5OWjsPxYj2tAs6es/CPjaSlpu7T8I+NpKWm7tPwj42kpabu0/CPjaSlpu7T8I+NpKWm7tPwAAAAAAAPA/2JZroV7h5T8QjBmmgVflP+mnZi5h0+U/ytgT/PTm4z8+C5tRzxHnP6AJbOQzItk/AAAAAAAA8D8AAAAAAADwPwAAAAAAAPA/AAAAAAAA8D8AAAAAAADwPwAAAAAAAPA/AAAAAAAA8D9TZ+HPf+XsPwAAAAAAAPA/PhmjrNqq7z8AAAAAAADwP+Ry/GZSlO4/i2BWzYOa7T/35sZZ1TbsP706VjK7iOw/B2zfb6D46j85N1pJEQbsP09tv62MwOk/BRb2fYSQ6T8fKMGe5UvsPyLLgTmfCO0/dW9JJf3m7D81JmeRNDLtPzgy79P6ze0/AAAAAAAA8D9xhROAQrfvP9mpDFlEse4/LHuR2+Yc7T/804LhkkDvPyl4B6LYL+4/AAAAAAAA8D8AAAAAAADwPwAAAAAAAPA/VebeDSn+7D8AAAAAAADwP//jnM+Gwug/AAAAAAAA8D+/ZgLEjBHvPz4Zo6zaqu8/yecbu+d95T8+GaOs2qrvP9JbTwGlBOc/TkEV4hbi7z81DyeaUrTvPzUPJ5pStO8/xnocvvm36j9OQRXiFuLvPwMpr3MNue0/AAAAAAAA8D8AAAAAAADwP+hqoGp/9e4/AAAAAAAA8D/oaqBqf/XuP1Xm3g0p/uw/AAAAAAAA8D/kcvxmUpTuP45/PGdEkuw/MpkDAqHp6j8PoW/EQP/sP0c38RFx9+w/lxwo8bUE7T8+GaOs2qrvP72H5ml8cO4/93OKKUkD6T+9h+ZpfHDuP7qt1NfnQOw/AAAAAAAA8D8AAAAAAADwPwAAAAAAAPA/ANS58Lyq7D8AAAAAAADwPwAAAAAAAPA/PhmjrNqq7z8AAAAAAADwPz4Zo6zaqu8/9szCVFM07D8+GaOs2qrvPxoai0ke+us/AAAAAAAA8D/16tMN9ujvP9ePBq4Da+8/Vxt3YCgI7z9kcM0Z5nfvP8yqcreIn+4/yjOChQpR7j+zkb4tcDPuPwUnrt9kNu4/s/wMtzNN7D/QguRnDlHuP8KwnH9Wduw/p6AKcQvx7z8a+WjPWV7vP2B9U4xBMO8/5SqUGZPy7D9sb/l8NlrvP54tzyOEw+0/\",\"dtype\":\"float64\",\"order\":\"little\",\"shape\":[132]},\"ndcg_str\":[\"100.0%\",\"100.0%\",\"100.0%\",\"100.0%\",\"100.0%\",\"100.0%\",\"85.6%\",\"89.2%\",\"88.8%\",\"91.7%\",\"88.8%\",\"94.2%\",\"98.3%\",\"97.1%\",\"98.3%\",\"92.7%\",\"98.3%\",\"100.0%\",\"88.9%\",\"86.2%\",\"88.8%\",\"87.5%\",\"88.8%\",\"87.2%\",\"92.0%\",\"92.0%\",\"92.0%\",\"92.0%\",\"92.0%\",\"100.0%\",\"68.4%\",\"66.7%\",\"68.2%\",\"62.2%\",\"72.1%\",\"39.3%\",\"100.0%\",\"100.0%\",\"100.0%\",\"100.0%\",\"100.0%\",\"100.0%\",\"100.0%\",\"90.3%\",\"100.0%\",\"99.0%\",\"100.0%\",\"95.6%\",\"92.5%\",\"88.2%\",\"89.2%\",\"84.3%\",\"87.6%\",\"80.5%\",\"79.9%\",\"88.4%\",\"90.7%\",\"90.3%\",\"91.2%\",\"93.1%\",\"100.0%\",\"99.1%\",\"95.9%\",\"91.0%\",\"97.7%\",\"94.3%\",\"100.0%\",\"100.0%\",\"100.0%\",\"90.6%\",\"100.0%\",\"77.4%\",\"100.0%\",\"97.1%\",\"99.0%\",\"67.2%\",\"99.0%\",\"71.9%\",\"99.6%\",\"99.1%\",\"99.1%\",\"83.5%\",\"99.6%\",\"92.9%\",\"100.0%\",\"100.0%\",\"96.7%\",\"100.0%\",\"96.7%\",\"90.6%\",\"100.0%\",\"95.6%\",\"89.3%\",\"84.1%\",\"90.6%\",\"90.5%\",\"90.7%\",\"99.0%\",\"95.1%\",\"78.2%\",\"95.1%\",\"88.3%\",\"100.0%\",\"100.0%\",\"100.0%\",\"89.6%\",\"100.0%\",\"100.0%\",\"99.0%\",\"100.0%\",\"99.0%\",\"88.1%\",\"99.0%\",\"87.4%\",\"100.0%\",\"99.7%\",\"98.2%\",\"97.0%\",\"98.3%\",\"95.7%\",\"94.7%\",\"94.4%\",\"94.4%\",\"88.4%\",\"94.7%\",\"88.9%\",\"99.8%\",\"98.0%\",\"97.5%\",\"90.5%\",\"98.0%\",\"93.0%\"],\"phrase\":[[\"O all you host of heaven!\",\"https://explosion.ai/en/msmarco-distilbe\\u2026\"],[\"O all you host of heaven!\",\"https://explosion.ai/en/en_paraphrase_di\\u2026\"],[\"O all you host of heaven!\",\"fasttext-en-mini + numberbatch-19.08-en\"],[\"O all you host of heaven!\",\"numberbatch-19.08-en\"],[\"O all you host of heaven!\",\"fasttext-en-mini\"],[\"O all you host of heaven!\",\"glove-6B-50\"],[\"hell itself should gape\",\"https://explosion.ai/en/msmarco-distilbe\\u2026\"],[\"hell itself should gape\",\"https://explosion.ai/en/en_paraphrase_di\\u2026\"],[\"hell itself should gape\",\"fasttext-en-mini + numberbatch-19.08-en\"],[\"hell itself should gape\",\"numberbatch-19.08-en\"],[\"hell itself should gape\",\"fasttext-en-mini\"],[\"hell itself should gape\",\"glove-6B-50\"],[\"frailty, thy name is woman\",\"https://explosion.ai/en/msmarco-distilbe\\u2026\"],[\"frailty, thy name is woman\",\"https://explosion.ai/en/en_paraphrase_di\\u2026\"],[\"frailty, thy name is woman\",\"fasttext-en-mini + numberbatch-19.08-en\"],[\"frailty, thy name is woman\",\"numberbatch-19.08-en\"],[\"frailty, thy name is woman\",\"fasttext-en-mini\"],[\"frailty, thy name is woman\",\"glove-6B-50\"],[\"we will not carry coals\",\"https://explosion.ai/en/msmarco-distilbe\\u2026\"],[\"we will not carry coals\",\"https://explosion.ai/en/en_paraphrase_di\\u2026\"],[\"we will not carry coals\",\"fasttext-en-mini + numberbatch-19.08-en\"],[\"we will not carry coals\",\"numberbatch-19.08-en\"],[\"we will not carry coals\",\"fasttext-en-mini\"],[\"we will not carry coals\",\"glove-6B-50\"],[\"All the world's a stage\",\"https://explosion.ai/en/msmarco-distilbe\\u2026\"],[\"All the world's a stage\",\"https://explosion.ai/en/en_paraphrase_di\\u2026\"],[\"All the world's a stage\",\"fasttext-en-mini + numberbatch-19.08-en\"],[\"All the world's a stage\",\"numberbatch-19.08-en\"],[\"All the world's a stage\",\"fasttext-en-mini\"],[\"All the world's a stage\",\"glove-6B-50\"],[\"livers white as milk\",\"https://explosion.ai/en/msmarco-distilbe\\u2026\"],[\"livers white as milk\",\"https://explosion.ai/en/en_paraphrase_di\\u2026\"],[\"livers white as milk\",\"fasttext-en-mini + numberbatch-19.08-en\"],[\"livers white as milk\",\"numberbatch-19.08-en\"],[\"livers white as milk\",\"fasttext-en-mini\"],[\"livers white as milk\",\"glove-6B-50\"],[\"I do bear a brain.\",\"https://explosion.ai/en/msmarco-distilbe\\u2026\"],[\"I do bear a brain.\",\"https://explosion.ai/en/en_paraphrase_di\\u2026\"],[\"I do bear a brain.\",\"fasttext-en-mini + numberbatch-19.08-en\"],[\"I do bear a brain.\",\"numberbatch-19.08-en\"],[\"I do bear a brain.\",\"fasttext-en-mini\"],[\"I do bear a brain.\",\"glove-6B-50\"],[\"planets strike\",\"https://explosion.ai/en/msmarco-distilbe\\u2026\"],[\"planets strike\",\"https://explosion.ai/en/en_paraphrase_di\\u2026\"],[\"planets strike\",\"fasttext-en-mini + numberbatch-19.08-en\"],[\"planets strike\",\"numberbatch-19.08-en\"],[\"planets strike\",\"fasttext-en-mini\"],[\"planets strike\",\"glove-6B-50\"],[\"though this be madness, yet\\nthere is method in it\",\"https://explosion.ai/en/msmarco-distilbe\\u2026\"],[\"though this be madness, yet\\nthere is method in it\",\"https://explosion.ai/en/en_paraphrase_di\\u2026\"],[\"though this be madness, yet\\nthere is method in it\",\"fasttext-en-mini + numberbatch-19.08-en\"],[\"though this be madness, yet\\nthere is method in it\",\"numberbatch-19.08-en\"],[\"though this be madness, yet\\nthere is method in it\",\"fasttext-en-mini\"],[\"though this be madness, yet\\nthere is method in it\",\"glove-6B-50\"],[\"Illo, ho, ho, my lord\",\"https://explosion.ai/en/msmarco-distilbe\\u2026\"],[\"Illo, ho, ho, my lord\",\"https://explosion.ai/en/en_paraphrase_di\\u2026\"],[\"Illo, ho, ho, my lord\",\"fasttext-en-mini + numberbatch-19.08-en\"],[\"Illo, ho, ho, my lord\",\"numberbatch-19.08-en\"],[\"Illo, ho, ho, my lord\",\"fasttext-en-mini\"],[\"Illo, ho, ho, my lord\",\"glove-6B-50\"],[\"springes to catch woodcocks\",\"https://explosion.ai/en/msmarco-distilbe\\u2026\"],[\"springes to catch woodcocks\",\"https://explosion.ai/en/en_paraphrase_di\\u2026\"],[\"springes to catch woodcocks\",\"fasttext-en-mini + numberbatch-19.08-en\"],[\"springes to catch woodcocks\",\"numberbatch-19.08-en\"],[\"springes to catch woodcocks\",\"fasttext-en-mini\"],[\"springes to catch woodcocks\",\"glove-6B-50\"],[\"thereby hangs a tale\",\"https://explosion.ai/en/msmarco-distilbe\\u2026\"],[\"thereby hangs a tale\",\"https://explosion.ai/en/en_paraphrase_di\\u2026\"],[\"thereby hangs a tale\",\"fasttext-en-mini + numberbatch-19.08-en\"],[\"thereby hangs a tale\",\"numberbatch-19.08-en\"],[\"thereby hangs a tale\",\"fasttext-en-mini\"],[\"thereby hangs a tale\",\"glove-6B-50\"],[\"go, by Saint Hieronimo\",\"https://explosion.ai/en/msmarco-distilbe\\u2026\"],[\"go, by Saint Hieronimo\",\"https://explosion.ai/en/en_paraphrase_di\\u2026\"],[\"go, by Saint Hieronimo\",\"fasttext-en-mini + numberbatch-19.08-en\"],[\"go, by Saint Hieronimo\",\"numberbatch-19.08-en\"],[\"go, by Saint Hieronimo\",\"fasttext-en-mini\"],[\"go, by Saint Hieronimo\",\"glove-6B-50\"],[\"a horse, a horse, my kingdom\\nfor a horse\",\"https://explosion.ai/en/msmarco-distilbe\\u2026\"],[\"a horse, a horse, my kingdom\\nfor a horse\",\"https://explosion.ai/en/en_paraphrase_di\\u2026\"],[\"a horse, a horse, my kingdom\\nfor a horse\",\"fasttext-en-mini + numberbatch-19.08-en\"],[\"a horse, a horse, my kingdom\\nfor a horse\",\"numberbatch-19.08-en\"],[\"a horse, a horse, my kingdom\\nfor a horse\",\"fasttext-en-mini\"],[\"a horse, a horse, my kingdom\\nfor a horse\",\"glove-6B-50\"],[\"In my mind's eye\",\"https://explosion.ai/en/msmarco-distilbe\\u2026\"],[\"In my mind's eye\",\"https://explosion.ai/en/en_paraphrase_di\\u2026\"],[\"In my mind's eye\",\"fasttext-en-mini + numberbatch-19.08-en\"],[\"In my mind's eye\",\"numberbatch-19.08-en\"],[\"In my mind's eye\",\"fasttext-en-mini\"],[\"In my mind's eye\",\"glove-6B-50\"],[\"an old man is twice a child\",\"https://explosion.ai/en/msmarco-distilbe\\u2026\"],[\"an old man is twice a child\",\"https://explosion.ai/en/en_paraphrase_di\\u2026\"],[\"an old man is twice a child\",\"fasttext-en-mini + numberbatch-19.08-en\"],[\"an old man is twice a child\",\"numberbatch-19.08-en\"],[\"an old man is twice a child\",\"fasttext-en-mini\"],[\"an old man is twice a child\",\"glove-6B-50\"],[\"The rest is silence.\",\"https://explosion.ai/en/msmarco-distilbe\\u2026\"],[\"The rest is silence.\",\"https://explosion.ai/en/en_paraphrase_di\\u2026\"],[\"The rest is silence.\",\"fasttext-en-mini + numberbatch-19.08-en\"],[\"The rest is silence.\",\"numberbatch-19.08-en\"],[\"The rest is silence.\",\"fasttext-en-mini\"],[\"The rest is silence.\",\"glove-6B-50\"],[\"pampered jades of Asia\",\"https://explosion.ai/en/msmarco-distilbe\\u2026\"],[\"pampered jades of Asia\",\"https://explosion.ai/en/en_paraphrase_di\\u2026\"],[\"pampered jades of Asia\",\"fasttext-en-mini + numberbatch-19.08-en\"],[\"pampered jades of Asia\",\"numberbatch-19.08-en\"],[\"pampered jades of Asia\",\"fasttext-en-mini\"],[\"pampered jades of Asia\",\"glove-6B-50\"],[\"sea of troubles\",\"https://explosion.ai/en/msmarco-distilbe\\u2026\"],[\"sea of troubles\",\"https://explosion.ai/en/en_paraphrase_di\\u2026\"],[\"sea of troubles\",\"fasttext-en-mini + numberbatch-19.08-en\"],[\"sea of troubles\",\"numberbatch-19.08-en\"],[\"sea of troubles\",\"fasttext-en-mini\"],[\"sea of troubles\",\"glove-6B-50\"],[\"to be or not to be\",\"https://explosion.ai/en/msmarco-distilbe\\u2026\"],[\"to be or not to be\",\"https://explosion.ai/en/en_paraphrase_di\\u2026\"],[\"to be or not to be\",\"fasttext-en-mini + numberbatch-19.08-en\"],[\"to be or not to be\",\"numberbatch-19.08-en\"],[\"to be or not to be\",\"fasttext-en-mini\"],[\"to be or not to be\",\"glove-6B-50\"],[\"\\u25d2 mean\",\"https://explosion.ai/en/msmarco-distilbe\\u2026\"],[\"\\u25d2 mean\",\"https://explosion.ai/en/en_paraphrase_di\\u2026\"],[\"\\u25d2 mean\",\"fasttext-en-mini + numberbatch-19.08-en\"],[\"\\u25d2 mean\",\"numberbatch-19.08-en\"],[\"\\u25d2 mean\",\"fasttext-en-mini\"],[\"\\u25d2 mean\",\"glove-6B-50\"],[\"\\u25d2 median\",\"https://explosion.ai/en/msmarco-distilbe\\u2026\"],[\"\\u25d2 median\",\"https://explosion.ai/en/en_paraphrase_di\\u2026\"],[\"\\u25d2 median\",\"fasttext-en-mini + numberbatch-19.08-en\"],[\"\\u25d2 median\",\"numberbatch-19.08-en\"],[\"\\u25d2 median\",\"fasttext-en-mini\"],[\"\\u25d2 median\",\"glove-6B-50\"]],\"tags\":[\"phrase\",\"phrase\",\"phrase\",\"phrase\",\"phrase\",\"phrase\",\"phrase\",\"phrase\",\"phrase\",\"phrase\",\"phrase\",\"phrase\",\"phrase\",\"phrase\",\"phrase\",\"phrase\",\"phrase\",\"phrase\",\"phrase\",\"phrase\",\"phrase\",\"phrase\",\"phrase\",\"phrase\",\"phrase\",\"phrase\",\"phrase\",\"phrase\",\"phrase\",\"phrase\",\"phrase\",\"phrase\",\"phrase\",\"phrase\",\"phrase\",\"phrase\",\"phrase\",\"phrase\",\"phrase\",\"phrase\",\"phrase\",\"phrase\",\"phrase\",\"phrase\",\"phrase\",\"phrase\",\"phrase\",\"phrase\",\"phrase\",\"phrase\",\"phrase\",\"phrase\",\"phrase\",\"phrase\",\"phrase\",\"phrase\",\"phrase\",\"phrase\",\"phrase\",\"phrase\",\"phrase\",\"phrase\",\"phrase\",\"phrase\",\"phrase\",\"phrase\",\"phrase\",\"phrase\",\"phrase\",\"phrase\",\"phrase\",\"phrase\",\"phrase\",\"phrase\",\"phrase\",\"phrase\",\"phrase\",\"phrase\",\"phrase\",\"phrase\",\"phrase\",\"phrase\",\"phrase\",\"phrase\",\"phrase\",\"phrase\",\"phrase\",\"phrase\",\"phrase\",\"phrase\",\"phrase\",\"phrase\",\"phrase\",\"phrase\",\"phrase\",\"phrase\",\"phrase\",\"phrase\",\"phrase\",\"phrase\",\"phrase\",\"phrase\",\"phrase\",\"phrase\",\"phrase\",\"phrase\",\"phrase\",\"phrase\",\"phrase\",\"phrase\",\"phrase\",\"phrase\",\"phrase\",\"phrase\",\"phrase\",\"phrase\",\"phrase\",\"phrase\",\"phrase\",\"phrase\",\"stats\",\"stats\",\"stats\",\"stats\",\"stats\",\"stats\",\"stats\",\"stats\",\"stats\",\"stats\",\"stats\",\"stats\"],\"y\":[0,2,4,6,8,10,12,14,16,18,20,22,24,26,28,30,32,34,36,38,40,42,44,46,48,50,52,54,56,58,60,62,64,66,68,70,72,74,76,78,80,82,84,86,88,90,92,94,96,98,100,102,104,106,108,110,112,114,116,118,120,122,124,126,128,130,132,134,136,138,140,142,144,146,148,150,152,154,156,158,160,162,164,166,168,170,172,174,176,178,180,182,184,186,188,190,192,194,196,198,200,202,204,206,208,210,212,214,216,218,220,222,224,226,228,230,232,234,236,238,240,242,244,246,248,250,252,254,256,258,260,262]},\"selected\":{\"id\":\"9115\"},\"selection_policy\":{\"id\":\"9114\"}},\"id\":\"8676\",\"type\":\"ColumnDataSource\"},{\"attributes\":{\"axis_label\":\"nDCG\",\"coordinates\":null,\"formatter\":{\"id\":\"9112\"},\"group\":null,\"major_label_policy\":{\"id\":\"9113\"},\"ticker\":{\"id\":\"8668\"}},\"id\":\"8667\",\"type\":\"LinearAxis\"},{\"attributes\":{},\"id\":\"9113\",\"type\":\"AllLabels\"},{\"attributes\":{},\"id\":\"8663\",\"type\":\"LinearScale\"},{\"attributes\":{\"axis\":{\"id\":\"8671\"},\"coordinates\":null,\"dimension\":1,\"group\":null,\"ticker\":null,\"visible\":false},\"id\":\"8673\",\"type\":\"Grid\"},{\"attributes\":{},\"id\":\"8674\",\"type\":\"Toolbar\"}],\"root_ids\":[\"8657\"]},\"title\":\"Bokeh Application\",\"version\":\"2.4.0\"}};\n",
       "  const render_items = [{\"docid\":\"5c06cf8d-3039-444f-a6c7-2f02182553bb\",\"root_ids\":[\"8657\"],\"roots\":{\"8657\":\"9f98d851-6e09-4707-8620-bfffe5209795\"}}];\n",
       "  root.Bokeh.embed.embed_items_notebook(docs_json, render_items);\n",
       "\n",
       "  }\n",
       "  if (root.Bokeh !== undefined) {\n",
       "    embed_document(root);\n",
       "  } else {\n",
       "    let attempts = 0;\n",
       "    const timer = setInterval(function(root) {\n",
       "      if (root.Bokeh !== undefined) {\n",
       "        clearInterval(timer);\n",
       "        embed_document(root);\n",
       "      } else {\n",
       "        attempts++;\n",
       "        if (attempts > 100) {\n",
       "          clearInterval(timer);\n",
       "          console.log(\"Bokeh: ERROR: Unable to run BokehJS code because BokehJS library is missing\");\n",
       "        }\n",
       "      }\n",
       "    }, 10, root)\n",
       "  }\n",
       "})(window);"
      ],
      "application/vnd.bokehjs_exec.v0+json": ""
     },
     "metadata": {
      "application/vnd.bokehjs_exec.v0+json": {
       "id": "8657"
      }
     },
     "output_type": "display_data"
    }
   ],
   "source": [
    "nbutils.plot_ndcgs(\n",
    "    gold_data, dict((k, v.build_index()) for k, v in index_builders.items())\n",
    ");"
   ]
  },
  {
   "cell_type": "markdown",
   "id": "1ac03a32",
   "metadata": {},
   "source": [
    "Some observations to be made here:\n",
    "* In a few queries (\"llo, ho, ho my lord\", \"frailty, thy name is woman\", \"hell itself should gape\"), GloVe gives slightly better results than fastText, but this cannot be generalized to the overall performance.\n",
    "\n",
    "* For some queries (\"I do bear a brain.\", \"O all you host of heaven!\") the embedding does not seem to matter at all.\n",
    "\n",
    "* A real competitor for fastText are contextual embeddings from Sentence-BERT (especially the *msmarco* model, which achieves a stunning 99.8% as median performance)."
   ]
  },
  {
   "cell_type": "markdown",
   "id": "221deb5d",
   "metadata": {},
   "source": [
    "# 4. Conclusion <a class=\"anchor\" id=\"section_4\"></a>"
   ]
  },
  {
   "cell_type": "markdown",
   "id": "419cf643",
   "metadata": {},
   "source": [
    "In this interactive notebook we have demonstrated how different types of word embeddings can be used to detect intertextual phenomena in a semi-automatic way. We also provide a basic ground truth dataset of 100 short documents that contain 20 different quotes from Shakespeare's plays. This setup enables us to investigate the inner workings of different embeddings and to evaluate their suitability for the case of Shakespearean intertextuality. "
   ]
  },
  {
   "cell_type": "markdown",
   "id": "ebb3b3ac",
   "metadata": {},
   "source": [
    "The following main findings – that also open up perspectives for future research – were obtained from this evaluation study:\n",
    "\n",
    "1. POS tag-weighted alignments achieve the highest overall mean nDCG for our specific data, however this is not true for the median nDCG. Since tag-weighting does seem to improve the results of a very small subset of queries considerably, but does not improve the median performance, our future work will focus on better understanding the structure of queries and the role of outliers.\n",
    "\n",
    "2. Document embeddings also show a strong performance, with the asymmetric *msmarco* model outperforming the symmetric *paraphrase* model. A special appeal of these models lies in their easy use (assuming a pretrained model), as they do not rely on additional WSB or WMD mappings. \n",
    "\n",
    "3. When using WMD on short texts, our bow variant outperforms the original nbow variant by Kusner et al. (2015) by quite a margin. Further research must show whether these findings also hold for longer documents and how they evaluate when compared to optimized variants like RWMD (Kusner et al., 2015) and other variants (Werner & Laber, 2020).\n",
    "\n",
    "4. In terms of embeddings, compressed fastText embeddings clearly outperform compressed GloVe and Numberbatch embeddings in our evaluations. Since we used low-dimensional embeddings for this notebook, these results are only a first hint and need to be verified through the use of full (high-dimensional) embbeddings. Contextual token embeddings extracted from Sentence-BERT provide a similar performance as fastText - however in terms of computation time and memory they are way more complex. All in all, our evaluation seems to highlight the solid performance of fastText."
   ]
  },
  {
   "cell_type": "markdown",
   "id": "9829e464",
   "metadata": {},
   "source": [
    "While we were able to gather some interesting insights for the specific use case of Shakespearean intertextuality, the main goal of this notebook is to provide an interactive platform that enables other researchers to investigate other parameter combinations as well. The code blocks and widgets above offer many ways to play around with the settings and explore their effects on the ground truth data. \n",
    "\n",
    "More importantly, researchers can also import their own (English language) data to the notebook and experiment with all of the funtions and parameters that are part of the [Vectorian API](https://github.com/poke1024/vectorian-2021). We hope this notebook provides a low-threshold access to the toolbox of embeddings for other researchers in the field of intertextuality studies and thus adds to a critical reflection of these new methods."
   ]
  },
  {
   "cell_type": "markdown",
   "id": "a4ce0575",
   "metadata": {},
   "source": [
    "# 5. Interactive searches with your own data <a class=\"anchor\" id=\"section_5\"></a>"
   ]
  },
  {
   "cell_type": "markdown",
   "id": "ab53cf6d",
   "metadata": {},
   "source": [
    "First specify the text documents you want to search through the upload widget seen below. Note that it expects plain text files with a `.txt` extension. The upload widget is provided through a helper class called `CustomSearch`. Note that we provide this helper class with information about the embeddings we want to employ for searching.\n",
    "\n",
    "A good source for obtaining some public domain plain text files to search in for this demo is <a href=\"https://wikisource.org\">wikisource.org</a>. For example, you can <a href=\"https://ws-export.wmcloud.org/?lang=en&title=The_Origin_of_Species_(1872)&format=txt\">download Charles Darwin's \"The Origin of Species\" via wikisource</a>. To download other titles, you need to enter the exact name identifier in wikisource. Always make sure that you are getting the plain text format."
   ]
  },
  {
   "cell_type": "code",
   "execution_count": 54,
   "id": "55478ee3",
   "metadata": {},
   "outputs": [
    {
     "data": {
      "application/vnd.jupyter.widget-view+json": {
       "model_id": "718174099be442208938abeaf87e845b",
       "version_major": 2,
       "version_minor": 0
      },
      "text/plain": [
       "FileUpload(value={}, accept='.txt', description='Add Corpus Text Files', layout=Layout(width='50%'), multiple=…"
      ]
     },
     "metadata": {},
     "output_type": "display_data"
    }
   ],
   "source": [
    "search = nbutils.CustomSearch(\n",
    "    [the_embeddings[x] for x in [\"numberbatch\", \"fasttext\"]])\n",
    "search"
   ]
  },
  {
   "cell_type": "markdown",
   "id": "fd3ba2ba",
   "metadata": {},
   "source": [
    "From the file or files stored in the upload widget above, we now build a Vectorian session. For this, we need an `nlp` instance for importing the text documents. Depending on the size and number of documents, the initial processing can take some time.\n",
    "\n",
    "Once processing has finished, you are presented the full interactive search interface the Vectorian offers (we have hidden it so far and focussed on a subset). Note that in contrast to our experiments earlier, we do not search on the *document* level by default, but rather the *sentence* level - i.e. we split each document into sentences and then search on each sentence. You can change this in the \"Partition\" dropdown.\n",
    "\n",
    "Use the \"Query\" edit field and the \"Search\" button to perform searches."
   ]
  },
  {
   "cell_type": "code",
   "execution_count": 55,
   "id": "2b767872",
   "metadata": {},
   "outputs": [
    {
     "data": {
      "text/html": [
       "<strong>cannot run on empty upload. please provide at least one text file.</strong>"
      ],
      "text/plain": [
       "<IPython.core.display.HTML object>"
      ]
     },
     "metadata": {},
     "output_type": "display_data"
    }
   ],
   "source": [
    "search.interact(nlp)"
   ]
  },
  {
   "cell_type": "markdown",
   "id": "64fd87c8",
   "metadata": {
    "tags": []
   },
   "source": [
    "# 6. References\n",
    " <a class=\"anchor\" id=\"section_6\"></a>\n",
    "\n",
    "Bamman, David & Crane, Gregory (2008). The logic and discovery of textual allusion. In Proceedings of the 2008 LREC Workshop on Language Technology for Cultural Heritage Data.\n",
    "\n",
    "Bär, Daniel, Zesch, Torsten & Gurevych, Iryna (2012). Text reuse detection using a composition of text similarity measures. In Proceedings of COLING 2012, p. 167–184.\n",
    "\n",
    "Büchler, Marco, Geßner, Annette, Berti, Monica & Eckart, Thomas (2013). Measuring the influence of a work by text re-use. Bulletin of the Institute of Classical Studies. Supplement, p. 63–79.\n",
    "\n",
    "Burghardt, Manuel, Meyer, Selina, Schmidtbauer, Stephanie & Molz, Johannes (2019). “The Bard meets the Doctor” – Computergestützte Identifikation intertextueller Shakespearebezüge in der Science Fiction-Serie Dr. Who. Book of Abstracts, DHd.\n",
    "\n",
    "Chandrasekaran, Dhivya & Mago, Vijay (2021). Evolution of Semantic Similarity – A Survey. ACM Computing Surveys (CSUR), 54(2), p. 1-37.\n",
    "\n",
    "Faruqui, Manaal, Tsvetkov, Yulia, Rastogi, Pushpendre & Dyer, Chris (2016). Problems With Evaluation of Word Embeddings Using Word Similarity Tasks. In Proceedings of the 1st Workshop on Evaluating Vector-Space Representations for NLP, p. 30-35.\n",
    "\n",
    "Forstall, Christopher, Coffee, Neil, Buck, Thomas, Roache, Katherine & Jacobson, Sarah (2015). Modeling the scholars: Detecting intertextuality through enhanced word-level n-gram matching. Digital Scholarship in the Humanities, 30(4), p. 503–515.\n",
    "\n",
    "Genette, Gérard (1993). Palimpseste. Die Literatur auf zweiter Stufe. Suhrkamp.\n",
    "\n",
    "Hohl-Trillini, Regula & Burghardt, Manuel & Molz, Johannes & Pichler, Alex & Reiter, Nils & Sulzbacher, Ben & Nantke, Julia (2020). \"Intertextualität in literarischen Texten und darüber hinaus.\" Book of Abstracts, DHd 2020, Paderborn.\n",
    "\n",
    "Kusner, Matt, Sun, Yu, Kolkin, Nicholas & Weinberger, Kilian (2015). From word embeddings to document distances. In International conference on machine learning, p. 957-966.\n",
    "\n",
    "Liebl, Bernhard & Burghardt, Manuel (2020a). „The Vectorian“ – Eine parametrisierbare Suchmaschine für intertextuelle Referenzen. Book of Abstracts, DHd 2020, Paderborn.\n",
    "\n",
    "Liebl, Bernhard & Burghardt, Manuel (2020b). “Shakespeare in The Vectorian Age” – An Evaluation of Different Word Embeddings and NLP Parameters for the Detection of Shakespeare Quotes”. Proceedings of the 4th Joint SIGHUM Workshop on Computational Linguistics for Cultural Heritage, Social Sciences, Humanities and Literature (LateCH), co-located with COLING’2020.\n",
    "\n",
    "Manjavacas, Enrique, Long, Brian & Kestemont, Mike (2019). On the feasibility of automated detection of allusive text reuse. Proceedings of the 3rd Joint SIGHUM Workshop on Computational Linguistics for Cultural Heritage, Social Sciences, Humanities and Literature.\n",
    "\n",
    "Mikolov, Tomas, Chen, Kai, Corrado, Greg & Dean, Jeffrey (2013). Efficient estimation of word representations in vector space. In Proceedings of International Conference on Learning Representations (ICLR 2013). arXiv preprint arXiv:1301.3781.\n",
    "\n",
    "Mikolov, Tomas, Grave, Edouard, Bojanowski, Piotr, Puhrsch, Christian & Joulin, Armand (2018). Advances in pretraining distributed word representations. In Proceedings of the Eleventh International Conference on Language Resources and Evaluation (LREC 2018). arXiv preprint arXiv:1712.09405.\n",
    "\n",
    "Nagoudi, El Moatez Billah & Schwab, Didier (2017). Semantic Similarity of Arabic Sentences with Word Embeddings. In Proceedings of the 3rd Arabic Natural Language Processing Workshop, Association for Computational Linguistics, 2017, p. 18–24.\n",
    "\n",
    "Pennington, Jeffrey, Socher, Richard & Manning, Christopher D. (2014). Glove: Global vectors for word representation. In Proceedings of the 2014 conference on empirical methods in natural language processing (EMNLP), p. 1532-1543.\n",
    "\n",
    "Reimers, Nils & Gurevych, Iryna (2019). Sentence-BERT: Sentence Embeddings Using Siamese BERT-Networks. In Proceedings of the 2019 Conference on Empirical Methods in Natural Language Processing and the 9th International Joint Conference on Natural Language Processing (EMNLP-IJCNLP).\n",
    "\n",
    "Scheirer, Walter, Forstall, Christopher & Coffee, Neil (2014). The sense of a connection: Automatic tracing of intertextuality by meaning. Digital Scholarship in the Humanities, 31(1), p. 204–217.\n",
    "\n",
    "Sohangir, Sahar & Wang, Dingding (2017). Document Understanding Using Improved Sqrt-Cosine Similarity. In Proceedings of the 2017 IEEE 11th International Conference on Semantic Computing (ICSC), p. 278-279.\n",
    "\n",
    "Speer, Robyn, Chin, Joshua & Havasi, Catherine (2017). Conceptnet 5.5: An open multilingual graph of general knowledge. In Proceedings of the Thirty-First AAAI Conference on Artificial Intelligence (AAAI-17), p. 4444–4451.\n",
    "\n",
    "Wang, Yuxuan, Hou, Yutai, Che, Wanxiang & Liu, Ting (2020). From static to dynamic word representations: A survey. International Journal of Machine Learning and Cybernetics 11, p. 1611–1630.\n",
    "\n",
    "Waterman, Michael S., Smith, Temple F. & Beyer, William A. (1976). Some biological sequence metrics. Advances in Mathematics 20(3), p. 367-387.\n",
    "\n",
    "Werner, Matheus & Laber, Eduardo (2020). Speeding up Word Mover's Distance and its variants via properties of distances between embeddings. In Proceedings of the 24th European Conference on Artificial Intelligence (ECAI 2020), p. 2204-2211.\n",
    "\n",
    "Wieting, John, Bansal, Mohit, Gimpel, Kevin & Livescu, Karen (2015). Towards universal paraphrastic sentence embeddings. Proceedings of the 4th International Conference on Learning Representations, ICLR 2016, San Juan, Puerto Rico."
   ]
  }
 ],
 "metadata": {
  "kernelspec": {
   "display_name": "Python 3 (ipykernel)",
   "language": "python",
   "name": "python3"
  },
  "language_info": {
   "codemirror_mode": {
    "name": "ipython",
    "version": 3
   },
   "file_extension": ".py",
   "mimetype": "text/x-python",
   "name": "python",
   "nbconvert_exporter": "python",
   "pygments_lexer": "ipython3",
   "version": "3.9.7"
  }
 },
 "nbformat": 4,
 "nbformat_minor": 5
}
