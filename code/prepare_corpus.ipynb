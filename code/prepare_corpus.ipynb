{
 "cells": [
  {
   "cell_type": "code",
   "execution_count": 3,
   "id": "967dfa28-fed4-4da8-ad85-1a925ef05137",
   "metadata": {},
   "outputs": [
    {
     "name": "stderr",
     "output_type": "stream",
     "text": [
      "Importing: 100%|██████████| 20/20 [03:25<00:00, 10.26s/it]\n"
     ]
    }
   ],
   "source": [
    "from pathlib import Path\n",
    "\n",
    "import os\n",
    "import sys\n",
    "\n",
    "os.environ['VECTORIAN_CPP_IMPORT'] = \"1\"\n",
    "vectorian_path = Path(\"/Users/arbeit/Projects/vectorian-2021\")\n",
    "sys.path.append(str(vectorian_path))\n",
    "\n",
    "\n",
    "\n",
    "from vectorian.importers import StringImporter\n",
    "from vectorian.embeddings import SentenceBertEmbedding\n",
    "from vectorian.corpus import Corpus\n",
    "from tqdm import tqdm\n",
    "\n",
    "import json\n",
    "import spacy_sentence_bert\n",
    "\n",
    "nlp = spacy_sentence_bert.load_model('en_paraphrase_distilroberta_base_v1')\n",
    "\n",
    "with open(\"../data/raw_data/gold.json\", \"r\") as f:\n",
    "    queries = json.loads(f.read())\n",
    "\n",
    "bert_embedding = SentenceBertEmbedding(nlp)\n",
    "\n",
    "def prepare_docs():\n",
    "    if bert_embedding is not None:\n",
    "        im = StringImporter(nlp, embeddings=[bert_embedding])\n",
    "    else:\n",
    "        im = StringImporter(nlp)\n",
    "\n",
    "    docs = []\n",
    "\n",
    "    for query in tqdm(queries, desc=\"Importing\"):\n",
    "        for m in query[\"matches\"]:\n",
    "            docs.append(im(\n",
    "                m[\"context\"],\n",
    "                title=m[\"work\"],\n",
    "                author=m[\"author\"],\n",
    "                unique_id=m[\"id\"]))\n",
    "            \n",
    "    Corpus(docs).save(\"../data/processed_data/corpus\")\n",
    "    \n",
    "prepare_docs()"
   ]
  },
  {
   "cell_type": "code",
   "execution_count": null,
   "id": "1e38c6f8-8957-4bff-a2bd-b11c35b8af94",
   "metadata": {},
   "outputs": [],
   "source": []
  }
 ],
 "metadata": {
  "kernelspec": {
   "display_name": "Python 3",
   "language": "python",
   "name": "python3"
  },
  "language_info": {
   "codemirror_mode": {
    "name": "ipython",
    "version": 3
   },
   "file_extension": ".py",
   "mimetype": "text/x-python",
   "name": "python",
   "nbconvert_exporter": "python",
   "pygments_lexer": "ipython3",
   "version": "3.8.8"
  }
 },
 "nbformat": 4,
 "nbformat_minor": 5
}
