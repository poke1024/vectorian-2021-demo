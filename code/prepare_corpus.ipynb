{
 "cells": [
  {
   "cell_type": "code",
   "execution_count": 1,
   "id": "967dfa28-fed4-4da8-ad85-1a925ef05137",
   "metadata": {},
   "outputs": [
    {
     "name": "stderr",
     "output_type": "stream",
     "text": [
      "Importing: 100%|███████████████████████████████████████████████████████████████████| 120/120 [04:42<00:00,  2.35s/it]\n"
     ]
    }
   ],
   "source": [
    "import sys\n",
    "import os\n",
    "\n",
    "from pathlib import Path\n",
    "\n",
    "data_path = Path(\"../data\")\n",
    "os.environ[\"VECTORIAN_DEMO_DATA_PATH\"] = str(data_path)\n",
    "\n",
    "sys.path.append(\"code\")\n",
    "import nbutils\n",
    "import gold\n",
    "import json\n",
    "\n",
    "from vectorian.importers import TextImporter\n",
    "from vectorian.embeddings import SpacyVectorEmbedding\n",
    "from vectorian.corpus import Corpus\n",
    "from tqdm import tqdm\n",
    "\n",
    "nlp = nbutils.make_nlp(None)\n",
    "gold_data = gold.load_data(data_path / \"raw_data\" / \"gold.json\")\n",
    "\n",
    "sbert_model_names = [\n",
    "    \"en_paraphrase_distilroberta_base_v1\",\n",
    "    \"msmarco-distilbert-base-v4\"\n",
    "]\n",
    "\n",
    "sbert_embeddings = dict((k, SpacyVectorEmbedding(\n",
    "    nbutils.make_nlp(k), 768)) for k in sbert_model_names)\n",
    "\n",
    "def prepare_docs():\n",
    "    if sbert_embeddings:\n",
    "        im = TextImporter(nlp, embeddings=list(sbert_embeddings.values()))\n",
    "    else:\n",
    "        im = TextImporter(nlp)\n",
    "\n",
    "    corpus = Corpus(data_path / \"processed_data\"/ \"corpus\")\n",
    "\n",
    "    for x, d in tqdm(gold_data.in_degree(gold_data.nodes), desc=\"Importing\"):\n",
    "        if d < 1:\n",
    "            continue\n",
    "\n",
    "        node = gold_data.nodes[x]\n",
    "\n",
    "        doc = im(\n",
    "            node[\"context\"],\n",
    "            title=node[\"source\"][\"book\"],\n",
    "            author=node[\"source\"][\"author\"],\n",
    "            extra_metadata={\n",
    "                'gold_id': node[\"id\"]\n",
    "            },\n",
    "            show_progress=False)\n",
    "\n",
    "        corpus.add_doc(doc)\n",
    "\n",
    "prepare_docs()"
   ]
  },
  {
   "cell_type": "code",
   "execution_count": null,
   "id": "8a687a91-9284-4d87-8a38-1dc6d2511556",
   "metadata": {},
   "outputs": [],
   "source": []
  }
 ],
 "metadata": {
  "kernelspec": {
   "display_name": "Python 3 (ipykernel)",
   "language": "python",
   "name": "python3"
  },
  "language_info": {
   "codemirror_mode": {
    "name": "ipython",
    "version": 3
   },
   "file_extension": ".py",
   "mimetype": "text/x-python",
   "name": "python",
   "nbconvert_exporter": "python",
   "pygments_lexer": "ipython3",
   "version": "3.9.7"
  }
 },
 "nbformat": 4,
 "nbformat_minor": 5
}
