{
 "cells": [
  {
   "cell_type": "code",
   "execution_count": null,
   "id": "967dfa28-fed4-4da8-ad85-1a925ef05137",
   "metadata": {},
   "outputs": [],
   "source": [
    "import sys\n",
    "\n",
    "sys.path.append(\"code\")\n",
    "import nbutils\n",
    "import json\n",
    "\n",
    "from vectorian.importers import StringImporter\n",
    "from vectorian.embeddings import SentenceBertEmbedding\n",
    "from vectorian.corpus import Corpus\n",
    "from tqdm import tqdm\n",
    "\n",
    "nlp = nbutils.make_nlp()\n",
    "\n",
    "with open(\"../data/raw_data/gold.json\", \"r\") as f:\n",
    "    queries = json.loads(f.read())\n",
    "\n",
    "bert_embedding = SentenceBertEmbedding(nlp)\n",
    "\n",
    "def prepare_docs():\n",
    "    if bert_embedding is not None:\n",
    "        im = StringImporter(nlp, embeddings=[bert_embedding])\n",
    "    else:\n",
    "        im = StringImporter(nlp)\n",
    "\n",
    "    docs = []\n",
    "\n",
    "    for query in tqdm(queries, desc=\"Importing\"):\n",
    "        for m in query[\"matches\"]:\n",
    "            docs.append(im(\n",
    "                m[\"context\"],\n",
    "                title=m[\"work\"],\n",
    "                author=m[\"author\"],\n",
    "                unique_id=m[\"id\"]))\n",
    "            \n",
    "    Corpus(docs).save(\"../data/processed_data/corpus\")\n",
    "    \n",
    "prepare_docs()"
   ]
  }
 ],
 "metadata": {
  "kernelspec": {
   "display_name": "Python 3",
   "language": "python",
   "name": "python3"
  },
  "language_info": {
   "codemirror_mode": {
    "name": "ipython",
    "version": 3
   },
   "file_extension": ".py",
   "mimetype": "text/x-python",
   "name": "python",
   "nbconvert_exporter": "python",
   "pygments_lexer": "ipython3",
   "version": "3.8.8"
  }
 },
 "nbformat": 4,
 "nbformat_minor": 5
}
