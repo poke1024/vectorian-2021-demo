{
 "cells": [
  {
   "cell_type": "code",
   "execution_count": 4,
   "id": "967dfa28-fed4-4da8-ad85-1a925ef05137",
   "metadata": {},
   "outputs": [
    {
     "name": "stderr",
     "output_type": "stream",
     "text": [
      "Importing: 100%|██████████| 20/20 [03:15<00:00,  9.77s/it]\n"
     ]
    }
   ],
   "source": [
    "import sys\n",
    "import os\n",
    "\n",
    "from pathlib import Path\n",
    "\n",
    "data_path = Path(\"../data\")\n",
    "os.environ[\"VECTORIAN_DEMO_DATA_PATH\"] = str(data_path)\n",
    "\n",
    "sys.path.append(\"code\")\n",
    "import nbutils\n",
    "import json\n",
    "\n",
    "from vectorian.importers import TextImporter\n",
    "from vectorian.embeddings import SpacyVectorEmbedding\n",
    "from vectorian.corpus import Corpus\n",
    "from tqdm import tqdm\n",
    "\n",
    "nlp = nbutils.make_nlp(\"en_paraphrase_distilroberta_base_v1\")\n",
    "\n",
    "with open(data_path / \"raw_data\" / \"gold.json\", \"r\") as f:\n",
    "    queries = json.loads(f.read())\n",
    "\n",
    "bert_embedding = SpacyVectorEmbedding(nlp, 768)\n",
    "\n",
    "def prepare_docs():\n",
    "    if bert_embedding is not None:\n",
    "        im = TextImporter(nlp, embeddings=[bert_embedding])\n",
    "    else:\n",
    "        im = TextImporter(nlp)\n",
    "\n",
    "    corpus = Corpus(data_path / \"processed_data\"/ \"corpus\")\n",
    "\n",
    "    for query in tqdm(queries, desc=\"Importing\"):\n",
    "        for m in query[\"matches\"]:\n",
    "            doc = im(\n",
    "                m[\"context\"],\n",
    "                title=m[\"work\"],\n",
    "                author=m[\"author\"],\n",
    "                extra_metadata={\n",
    "                    'gold_id': m[\"id\"]\n",
    "                },\n",
    "                show_progress=False)\n",
    "\n",
    "            corpus.add_doc(doc)\n",
    "\n",
    "prepare_docs()"
   ]
  },
  {
   "cell_type": "code",
   "execution_count": null,
   "id": "8a687a91-9284-4d87-8a38-1dc6d2511556",
   "metadata": {},
   "outputs": [],
   "source": []
  }
 ],
 "metadata": {
  "kernelspec": {
   "display_name": "Python 3",
   "language": "python",
   "name": "python3"
  },
  "language_info": {
   "codemirror_mode": {
    "name": "ipython",
    "version": 3
   },
   "file_extension": ".py",
   "mimetype": "text/x-python",
   "name": "python",
   "nbconvert_exporter": "python",
   "pygments_lexer": "ipython3",
   "version": "3.8.8"
  }
 },
 "nbformat": 4,
 "nbformat_minor": 5
}
